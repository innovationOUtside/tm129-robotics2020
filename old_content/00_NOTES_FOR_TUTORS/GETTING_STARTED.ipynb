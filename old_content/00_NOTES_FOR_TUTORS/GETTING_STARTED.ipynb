{
 "cells": [
  {
   "cell_type": "markdown",
   "id": "surprised-county",
   "metadata": {
    "slideshow": {
     "slide_type": "slide"
    }
   },
   "source": [
    "# Getting started\n",
    "\n",
    "Welcome to the TM129 Robotics block practical activities."
   ]
  },
  {
   "cell_type": "markdown",
   "id": "super-dietary",
   "metadata": {
    "slideshow": {
     "slide_type": "slide"
    }
   },
   "source": [
    "The practical activities are delivered through a new environment, *RoboLab*, that replaces the *RobotLab* application used in presentations prior to 2020J. *RoboLab* is an example of an `Open Computing Lab (OCL)` environment configured specifically to support the TM129 Robotics activities."
   ]
  },
  {
   "cell_type": "markdown",
   "id": "written-lawyer",
   "metadata": {
    "slideshow": {
     "slide_type": "slide"
    }
   },
   "source": [
    "The `Open Computing Lab` approach is being trialled on several Open University modules and aims to provide a common approach to delivering complex software and computing envronments on personal computers as well as via remotely hosted online servers."
   ]
  },
  {
   "cell_type": "markdown",
   "id": "medieval-fraction",
   "metadata": {
    "slideshow": {
     "slide_type": "skip"
    }
   },
   "source": [
    "To install the environment, use the installation instructions that are provided for students."
   ]
  },
  {
   "cell_type": "markdown",
   "id": "angry-british",
   "metadata": {
    "tags": [
     "alert-danger"
    ]
   },
   "source": [
    "During the production process, and between module presentations, the Docker image used to distribute the robotics activity software may have been updated since you last used it. The online MyBinder <!-- JD: is MuyBinder still being used? --> run version of the environment will use the latest version of the environment as a matter of course. If you have previously downloaded the Docker container image to your own computer, you should regularly check to see whether it needs updates by running the command: `docker pull ousefuldemos/tm129-robotics2020:latest`."
   ]
  },
  {
   "cell_type": "markdown",
   "id": "fabulous-housing",
   "metadata": {
    "slideshow": {
     "slide_type": "slide"
    }
   },
   "source": [
    "## The Jupyter notebook environment\n",
    "\n",
    "The teaching and learning materials used to support the activities are provided as Jupyter notebooks. "
   ]
  },
  {
   "cell_type": "markdown",
   "id": "honest-mileage",
   "metadata": {
    "slideshow": {
     "slide_type": "skip"
    }
   },
   "source": [
    "Jupyter notebooks have been used to deliver practical activities in TM351 *Data management and analysis*, the OU-produced FutureLearn/OpenLearn unit *Learn to Code for Data Analysis*, materials which are also used in S818 *Space science*, and to support a brief, optional set of activities in TM112.\n",
    "\n",
    "They will also be used in several modules currently in production including M269 *Algorithms, data structures and computability*, TM358 *Machine learning and artificial intelligence* and M348 *Applied statistical modelling*."
   ]
  },
  {
   "cell_type": "markdown",
   "id": "micro-import",
   "metadata": {
    "slideshow": {
     "slide_type": "slide"
    }
   },
   "source": [
    "Originally developed to support computational research activities, Jupyter notebooks provide a cell-based web-based read-write-execute document editor that blends rich text, executable code and code outputs."
   ]
  },
  {
   "cell_type": "markdown",
   "id": "sexual-times",
   "metadata": {
    "slideshow": {
     "slide_type": "fragment"
    }
   },
   "source": [
    "Within text areas, code can by highlighted in a language sensitive way:"
   ]
  },
  {
   "cell_type": "markdown",
   "id": "detected-henry",
   "metadata": {},
   "source": [
    "```python\n",
    "def sayHello():\n",
    "    print('Hello World')\n",
    "```"
   ]
  },
  {
   "cell_type": "markdown",
   "id": "affecting-stuff",
   "metadata": {
    "slideshow": {
     "slide_type": "slide"
    }
   },
   "source": [
    "Code is executed in a ‘kernel’ shell environment running on a backend server."
   ]
  },
  {
   "cell_type": "markdown",
   "id": "adolescent-murder",
   "metadata": {
    "slideshow": {
     "slide_type": "skip"
    }
   },
   "source": [
    "Kernels for a [wide variety of programming languages](https://github.com/jupyter/jupyter/wiki/Jupyter-kernels) are available; in TM129, we will be using a full Python kernel, as well as a simple in-browser Skulpt Python environment that runs code inside a simple in-browser 2D robot simulator."
   ]
  },
  {
   "cell_type": "markdown",
   "id": "analyzed-verification",
   "metadata": {
    "slideshow": {
     "slide_type": "slide"
    }
   },
   "source": [
    "When a code cell is run, outputs can be printed or displayed, and any value returned by the last object in the cell object will be displayed as cell output."
   ]
  },
  {
   "cell_type": "code",
   "execution_count": null,
   "id": "micro-steel",
   "metadata": {
    "slideshow": {
     "slide_type": "fragment"
    }
   },
   "outputs": [],
   "source": [
    "def sayHello():\n",
    "    print('Hello World')\n",
    "    return \"done...\"\n",
    "    \n",
    "sayHello()"
   ]
  },
  {
   "cell_type": "markdown",
   "id": "laden-inclusion",
   "metadata": {
    "slideshow": {
     "slide_type": "slide"
    }
   },
   "source": [
    "## Using notebooks to support learning\n",
    "\n",
    "The read-write-execute nature of Jupyter notebooks provides us with a medium that can be used to develop a wide range of active learning materials. Students are encouraged to take ownership of the notebooks, use them as guided materials, as well as in a curiosity driven, exploratory way, and annotate them as they would print materials."
   ]
  },
  {
   "cell_type": "markdown",
   "id": "thermal-times",
   "metadata": {
    "slideshow": {
     "slide_type": "slide"
    }
   },
   "source": [
    "For example, students can:"
   ]
  },
  {
   "cell_type": "markdown",
   "id": "described-beads",
   "metadata": {
    "slideshow": {
     "slide_type": "fragment"
    }
   },
   "source": [
    "- run simple interactive applications in the notebook"
   ]
  },
  {
   "cell_type": "markdown",
   "id": "contrary-housing",
   "metadata": {
    "slideshow": {
     "slide_type": "fragment"
    }
   },
   "source": [
    "- run provided code examples and inspect code outputs"
   ]
  },
  {
   "cell_type": "markdown",
   "id": "finite-reality",
   "metadata": {
    "slideshow": {
     "slide_type": "fragment"
    }
   },
   "source": [
    "- edit and run their own code and produce their own code outputs"
   ]
  },
  {
   "cell_type": "markdown",
   "id": "labeled-suicide",
   "metadata": {
    "slideshow": {
     "slide_type": "skip"
    }
   },
   "source": [
    "- edit the module text, from fixing minor typos as they work through the materials, to annotating the materials with their own comments and clarifications"
   ]
  },
  {
   "cell_type": "markdown",
   "id": "central-highland",
   "metadata": {
    "slideshow": {
     "slide_type": "skip"
    }
   },
   "source": [
    "- add predictions about what they expect a code fragment to do when it is executed, record their observations when it does, and reflect on how well their predictions matched their observations, and what they learned as a result. "
   ]
  },
  {
   "cell_type": "markdown",
   "id": "composed-zambia",
   "metadata": {
    "slideshow": {
     "slide_type": "slide"
    }
   },
   "source": [
    "## Using notebooks to support direct teaching and tutorials\n",
    "\n",
    "The Jupyter notebook environment we have provided includes a slideshow extension, [RISE](https://rise.readthedocs.io/en/stable/), that allows you to turn individual Jupyter notebooks into interactive slideshow presentations."
   ]
  },
  {
   "cell_type": "markdown",
   "id": "trained-stroke",
   "metadata": {
    "slideshow": {
     "slide_type": "skip"
    }
   },
   "source": [
    "As with the notebooks themselves, each slide includes editable text and code cells, can display interactive applications, and can be used to execute code fragments and display the resulting code output (including error messages...).\n",
    "\n",
    "Notebooks are configured as slides through the addition of cell tags that control whether, and how, each cell in the notebook is to be treated in presentation mode.\n",
    "\n",
    "Several of the notebooks, including this one, have been marked up as presentations. To run the slideshow, click once on the top cell in the notebook to select it as the starting point of the presentation, then click on the *Enter/Exit RISE Slideshow* icon (it looks like a bar chart) on the notebook toolbar. "
   ]
  },
  {
   "cell_type": "markdown",
   "id": "instructional-retro",
   "metadata": {
    "slideshow": {
     "slide_type": "slide"
    }
   },
   "source": [
    "Slides themselves are interactive in other ways.\n",
    "\n",
    "For example, this notebook supports the presentation [chalkboard](https://rise.readthedocs.io/en/stable/customize.html#enable-chalkboard-capabilities) which allows you to draw on the slide directly.\n",
    "\n",
    "(Click the pens in the bottom left corner of the slide to toggle the chalkboard mode.)"
   ]
  },
  {
   "cell_type": "markdown",
   "id": "structured-finance",
   "metadata": {
    "slideshow": {
     "slide_type": "skip"
    }
   },
   "source": [
    "## What next?\n",
    "\n",
    "If you are not familiar with Jupyter notebooks, please spend some time familiarising yourself with them.\n",
    "\n",
    "We believe they provide a powerful tool to support teaching and learning and it’s still early days for us in finding out how to make most effective use of them.\n",
    "\n",
    "If you have any ideas about how we can improve our current use of the notebooks, or make more effective use of them, please let us know."
   ]
  }
 ],
 "metadata": {
  "jupytext": {
   "formats": "ipynb,.md//md",
   "notebook_metadata_filter": "rise"
  },
  "kernelspec": {
   "display_name": "Python 3",
   "language": "python",
   "name": "python3"
  },
  "rise": {
   "enable_chalkboard": true,
   "scroll": true
  }
 },
 "nbformat": 4,
 "nbformat_minor": 5
}
