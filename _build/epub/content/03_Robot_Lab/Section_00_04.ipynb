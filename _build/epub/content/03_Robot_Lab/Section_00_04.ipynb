{
 "cells": [
  {
   "cell_type": "code",
   "execution_count": null,
   "metadata": {},
   "outputs": [],
   "source": [
    "%%capture\n",
    "import sys\n",
    "sys.path.insert(0,'..')\n",
    "import _load_nbev3devwidget_requirements"
   ]
  },
  {
   "cell_type": "code",
   "execution_count": null,
   "metadata": {},
   "outputs": [],
   "source": [
    "%%javascript\n",
    "//This allows us to resize this view\n",
    "//Click on the right hand edge to drag\n",
    "$( \"#notebook-container\" ).resizable({ghost: false})"
   ]
  },
  {
   "cell_type": "code",
   "execution_count": null,
   "metadata": {},
   "outputs": [],
   "source": [
    "from _load_nbev3devwidget import roboSim, eds\n",
    "\n",
    "%load_ext nbev3devsim\n",
    "%load_ext nbtutor"
   ]
  },
  {
   "cell_type": "markdown",
   "metadata": {},
   "source": [
    "# 4 Reasoning and the sense–think–act model\n"
   ]
  },
  {
   "cell_type": "code",
   "execution_count": null,
   "metadata": {},
   "outputs": [],
   "source": [
    "%%sim_magic_preloaded\n",
    "\n",
    "colorLeft = ColorSensor(INPUT_2)\n",
    "colorRight = ColorSensor(INPUT_3)\n",
    " \n",
    "while ((colorLeft.reflected_light_intensity>5) \n",
    "       and (colorLeft.reflected_light_intensity)>5):\n",
    "    \n",
    "    intensity_left = colorLeft.reflected_light_intensity\n",
    "    intensity_right = colorRight.reflected_light_intensity\n",
    "\n",
    "    print(intensity_left, intensity_right)\n",
    "    \n",
    "    left_motor_speed = SpeedPercent(intensity_left)\n",
    "    right_motor_speed = SpeedPercent(intensity_right)\n",
    "    \n",
    "    tank_drive.on(left_motor_speed, right_motor_speed)\n",
    " "
   ]
  },
  {
   "cell_type": "markdown",
   "metadata": {},
   "source": [
    "## 4.1 Representing and using knowledge"
   ]
  },
  {
   "cell_type": "markdown",
   "metadata": {},
   "source": [
    "Artificial intelligence and robotics have the major problem of *representing* facts and knowledge inside machines. We have a vast amount of knowledge in our brains. This knowledge is distributed over the brain, rather than each fact being neatly stored in a single memory unit.\n",
    "\n",
    "The structure of the human brain is completely different from the structure of a robot's or a real computer’s \"brain\", and roboticists have found it very difficult to implant a wide range of experiences (real-world data) into robot brains. Significant progress has been made in Artificial Intelligence (AI) and Machine Learning (ML) approaches to machine vision in recent years by using ever more computational resources. Ever larger and more complex natural language processing (NLP) models are also proving effective in parsing natural language statements and generating natural language texts.\n",
    "\n",
    "One way of *explicitly* trying to encode knowledge is to use a *rule based system*."
   ]
  },
  {
   "cell_type": "markdown",
   "metadata": {},
   "source": [
    "## Eliza\n",
    "\n",
    "Athough written fifty or so years ago, Joseph Weizenbaum's *Eliza* programme is often referred to as one of the first great milestones in computational natural language interaction. You can see a copy of the original paper [here](https://github.com/wadetb/eliza/blob/master/p36-weizenabaum.pdf), which includes examples of the code used to programme the original Eliza engine. Eliza has been reimplemented several times, such as in the Lisp language by Peter Norvig's for his textbook *Paradigms of Artificial Intelligence Programming*, as well as in Python reimplementation of Norvig's code by Daniel Connelly ([*Paip-python: Peter Norvig's Paradigms of AI Programming implemented in Python*](http://dhconnelly.com/paip-python/)). \n",
    "\n",
    "A version of Connelly's code, updated to run in the version of Python used in these notebooks, is contained in the file [eliza.py](eliza.py).\n",
    "\n",
    "You can try it out for yourself by running the following code cell and starting your conversation with a *Hello*; end the conversation by starting your response with *Goodbye*):"
   ]
  },
  {
   "cell_type": "code",
   "execution_count": null,
   "metadata": {},
   "outputs": [],
   "source": [
    "import eliza\n",
    "eliza.hello_doctor()"
   ]
  },
  {
   "cell_type": "markdown",
   "metadata": {},
   "source": [
    "If you want to hear Eliza speak the responses aloud to you, start the programme by passing in the parameter `aloud=True` in the following way: `eliza.hello_doctor(aloud=True)`."
   ]
  },
  {
   "cell_type": "markdown",
   "metadata": {},
   "source": [
    "If you [look at the rules file](eliza.json), you will see that it contains a series of rules that have the form:\n",
    "\n",
    "```\n",
    "CONDITION: [\n",
    "    POSSIBLE_RESPONSE_1,\n",
    "    POSSIBLE_RESPONSE_2,\n",
    "    ...\n",
    "    ]\n",
    "```\n",
    "\n",
    "or more completely:\n",
    "\n",
    "```\n",
    "\"?*x KEYPHRASE ?*y\": [\n",
    "        \"RESPONSE_1 ?y?\",\n",
    "        \"RESPONSE_2 ?y?\",\n",
    "        ...\n",
    "        ]\n",
    "```\n",
    "\n",
    "For example:\n",
    "\n",
    "```python\n",
    "    \"?*x I want ?*y\": [\n",
    "        \"What would it mean if you got ?y?\",\n",
    "        \"Why do you want ?y?\",\n",
    "        \"Suppose you got ?y soon.\"\n",
    "        ]\n",
    "```\n",
    "\n",
    "The `?*x` and `?*y` elements in the condition part of the rule are pattern matching operators that capture arbirtary text before and after the provided `KEYPHRASE`. A rule matches a provided input if the `KEYPHRASE` is contained in the text given to Eliza. The pattern matched content in the text can then be extracted from the input and used in the output response given by Eliza.\n",
    "\n",
    "A rule matching engine, written in Python, takes the user input, tries to match it with one of the rules and then generates a response. If you are interested in how it works, Connelly provided a commentary [here](https://dhconnelly.com/paip-python/docs/paip/eliza.html) that explains how his version of the Eliza program works."
   ]
  },
  {
   "cell_type": "markdown",
   "metadata": {},
   "source": [
    "### Optional Activity\n",
    "\n",
    "If you make a copy of the `eliza.json` file, for example, as `dr_me.json` and edit it to contain your own rules, you can run Eliza using your ruleset by running the command: `eliza.hello_doctor('dr_me.json')`.\n",
    "\n",
    "You can also provide a set of custom default responses that Eliza will select between if no rules match by passing in them into the `hello_doctor()` function via the `default=` parameter. For example:\n",
    "\n",
    "```python\n",
    "eliza.hello_doctor('doolittle.json',\n",
    "                   default = [\"Very interesting\",\n",
    "                              \"I am not sure I understand you fully\"]\n",
    "                  )\n",
    "```\n",
    "\n",
    "If you come up with an interesting script, please fee free to share it in the module forums."
   ]
  },
  {
   "cell_type": "markdown",
   "metadata": {},
   "source": [
    "### Durable Rules Engine\n",
    "\n",
    "The [*Durable Rules Engine*](https://github.com/jruizgit/rules) is a *polyglot* framework for creating rule based systems capable of reasonng over large collections of factual statements.\n",
    "\n",
    "To say that the framework is *polyglot* means that we can write programmes for the same framework using different ployglot languages, specifically Python, Node.js (a flavour of Javascript) and Ruby. Underneath, the same rules engine (which itself happens to be written in the C programming language) processes the facts and the rules to allow the system to reason.\n",
    "\n",
    "Note that the *Durable Rules Engine* is *not* available directly within our robot simulator programmes.\n",
    "\n",
    "The engine iself is rather more powerful than the engine used in the Eliza program example and can accept a wide range of rule definitions. It also makes use of a knowledge base of asserted facts (as well as ephemeral events) that are reasoned against using the rules.\n",
    "\n",
    "To see how this more comprehensive version of a rule based system works, let's consider the example of reasoning over a set of \"facts\" that are asserted as *subject predicate object* statements. Separate rules parse one or more of these statements and then try to general additional statements as a logical consequence.\n",
    "\n",
    "Facts might take the form *Sam is a student* where *Sam* is the subject of the statement, *student* is the object of the statement, and *is a* is a *predicate* that defines some sort of relationship between the subject and the object.\n",
    "\n",
    "Rules test statements, and if they match the rule codition, the rule asserts another fact.\n",
    "\n",
    "For example, *if Sam is a student, then Sam can use the module forums*.\n",
    "\n",
    "Let's see how that works in practice. Note that the following treatment uses a simplification of the syntax used by default in the durable rules framework. (There is just too much clutter in the original syntax to see what's going on!)\n",
    "\n",
    "Let's import the packages we need and enable some magic..."
   ]
  },
  {
   "cell_type": "code",
   "execution_count": null,
   "metadata": {},
   "outputs": [],
   "source": [
    "#%pip install  --upgrade git+https://github.com/innovationOUtside/durable_rules_magic.git"
   ]
  },
  {
   "cell_type": "code",
   "execution_count": null,
   "metadata": {},
   "outputs": [],
   "source": [
    "from durable.lang import ruleset, when_all, assert_fact, c, m\n",
    "from durable_rules_tools.rules_utils import new_ruleset, SPO, Set, Subject\n",
    "%reload_ext durable_rules_tools"
   ]
  },
  {
   "cell_type": "markdown",
   "metadata": {},
   "source": [
    "The ruleset definition syntax is little bewildering (the `@...` statements are known as Python *decorators*; but that's all you need to know in case you want to look them up them further, and further investigation is definitely *not required* and *not expected* of you for the purposes of this module.)\n",
    "\n",
    "So take a deep breath, and let's dive in, using a slightly simpler, and more generalised, statement of the same rule we considered above:\n",
    "\n",
    "```\n",
    "if ?PERSON is student\n",
    "    then ?PERSON can use forums\n",
    "```\n",
    "\n",
    "In this case, `?PERSON` is a variable representing the subject, *forums* is the object, and *can use* is the predicate.\n",
    "\n",
    "We can encode this a formal rule as follows (remember, you don't need to understand what the `@...` decorator is or how it works, just regard it as \"syntactic sugar\" intended to make the rule a but more readable than it might otherwise have to be; go with the flow and tried to read the rule as some sort of structured pattern you can recognise).\n",
    "\n",
    "```python\n",
    "@when_all(Subject(\"is\", \"student\"))\n",
    "def cm_forum_use(c):\n",
    "    Set(c, '? : can use : forums' )\n",
    "```    \n",
    "        \n",
    "The rule has the form:\n",
    "\n",
    "```python\n",
    "@CONDITION\n",
    "def RULENAME(TESTED_ASSERTION):\n",
    "    ACTION\n",
    "```\n",
    "\n",
    "If you defocus your eyes, you can perhaps see how those elements might relate to a rule that coould perhaps be more logically presented as:\n",
    "\n",
    "```\n",
    "RULENAME:\n",
    "  if TESTED_ASSERTION meets CONDITION\n",
    "  then ACTION\n",
    "```\n",
    "\n",
    "The rule is used in the code cell below without further explanation, other than the commentary provided in the cell itself. What is important is that you see (if you close you eyes and squint hard enough!) the logical \"shape\" of the rule. The actual symbols used, and their placement, is \"just syntax\".\n",
    "\n",
    "Run the following cell to define a new ruleset:"
   ]
  },
  {
   "cell_type": "code",
   "execution_count": null,
   "metadata": {},
   "outputs": [],
   "source": [
    "# Get a unique identifier for the ruleset\n",
    "RULESET_1 = new_ruleset()\n",
    "\n",
    "# Add rules to the ruleset\n",
    "with ruleset(RULESET_1):\n",
    "    \n",
    "    # Rule condition (the \"if\" part)\n",
    "    @when_all(Subject(\"is\", \"student\"))\n",
    "    # Rule body (the \"then\" part)\n",
    "    # - cm_forum_use is can be viewed as the name of the rule\n",
    "    # - c is an assertion that is being tested by the rule\n",
    "    def cm_forum_use(c):\n",
    "        # This is what we actually do when the rule condition is satisfied\n",
    "        # The ? in the first position says:\n",
    "        #   \"\"\"use the original value in this position (i.e. the subject)\n",
    "        #      from the tested statement when creating the asserted statement\"\"\"\n",
    "        Set(c, '? : can use : forums' )\n",
    "\n",
    "    #A \"utility\" rule that displays all asserted facts\n",
    "    @when_all(+m.subject)\n",
    "    def output(c):\n",
    "        print('Fact: {0} {1} {2}'.format(c.m.subject, c.m.predicate, c.m.object))\n",
    "     "
   ]
  },
  {
   "cell_type": "markdown",
   "metadata": {},
   "source": [
    "We can now assert a couple of facts, and see what conclusions can be draw about them from an application of the rules...\n",
    "\n",
    "Facts are asserted in the form: `subject : predicate : object`.\n",
    "\n",
    "We assert facts in the context of a particular ruleset via a cell block magic, `%%assert_facts -r RULESET_NAME`.\n",
    "\n",
    "Run the following cell to assert some facts against the `RULESET_1` ruleset:"
   ]
  },
  {
   "cell_type": "code",
   "execution_count": null,
   "metadata": {},
   "outputs": [],
   "source": [
    "%%assert_facts -r RULESET_1\n",
    "Sam : is : student\n",
    "Jo : is : course manager"
   ]
  },
  {
   "cell_type": "markdown",
   "metadata": {},
   "source": [
    "We can't easily add rules to a pre-exsiting ruleset, so let's create another ruleset, building on the first, that contains another rule:"
   ]
  },
  {
   "cell_type": "code",
   "execution_count": null,
   "metadata": {},
   "outputs": [],
   "source": [
    "RULESET_2 = new_ruleset()\n",
    "with ruleset(RULESET_2):\n",
    "    \n",
    "    @when_all(Subject(\"is\", \"course manager\"))\n",
    "    def cm_forum_use(c):\n",
    "        Set(c, '? : can read : forum discussions' )\n",
    "\n",
    "\n",
    "    # -- PREVIOUS RULES --\n",
    "\n",
    "    @when_all(Subject(\"is\", \"student\"))\n",
    "    def cm_forum_use(c):\n",
    "        Set(c, '? : can use : forums' )\n",
    "\n",
    "    @when_all(+m.subject)\n",
    "    def output(c):\n",
    "        print('Fact: {0} {1} {2}'.format(c.m.subject, c.m.predicate, c.m.object))\n",
    " "
   ]
  },
  {
   "cell_type": "markdown",
   "metadata": {},
   "source": [
    "Let's test our assertions again:"
   ]
  },
  {
   "cell_type": "code",
   "execution_count": null,
   "metadata": {},
   "outputs": [],
   "source": [
    "%%assert_facts -r RULESET_2\n",
    "Sam : is : student\n",
    "Jo : is : course manager"
   ]
  },
  {
   "cell_type": "markdown",
   "metadata": {},
   "source": [
    "So, course managers can *read* forum discussions, but students can *use* forums. What might that entail?\n",
    "\n",
    "In the following set, we define two rules that test the same condition, but with different actions:"
   ]
  },
  {
   "cell_type": "code",
   "execution_count": null,
   "metadata": {},
   "outputs": [],
   "source": [
    "RULESET_3 = new_ruleset()\n",
    "with ruleset(RULESET_3):\n",
    "    \n",
    "    @when_all(Subject(\"can use\", \"forums\"))\n",
    "    def forum_read(c):\n",
    "        Set(c, '? : can read : forum discussions' )\n",
    "        \n",
    "    @when_all(Subject(\"can use\", \"forums\"))\n",
    "    def forum_post(c):\n",
    "        Set(c, '? : can post to : forum discussions' )\n",
    "        \n",
    "    \n",
    "    # -- PREVIOUS RULES --\n",
    "    @when_all(Subject(\"is\", \"course manager\"))\n",
    "    def cm_forum_use(c):\n",
    "        Set(c, '? : can read : forum discussions' )\n",
    "\n",
    "    @when_all(Subject(\"is\", \"student\"))\n",
    "    def student_forum_use(c):\n",
    "        Set(c, '? : can use : forums' )\n",
    "\n",
    "    @when_all(+m.subject)\n",
    "    def output(c):\n",
    "        print('Fact: {0} {1} {2}'.format(c.m.subject, c.m.predicate, c.m.object))\n",
    " "
   ]
  },
  {
   "cell_type": "markdown",
   "metadata": {},
   "source": [
    "What can we determine now? "
   ]
  },
  {
   "cell_type": "code",
   "execution_count": null,
   "metadata": {},
   "outputs": [],
   "source": [
    "%%assert_facts -r RULESET_3\n",
    "Sam : is : student\n",
    "Jo : is : course manager"
   ]
  },
  {
   "cell_type": "markdown",
   "metadata": {},
   "source": [
    "At the next level of complexity, we might want to draw some conclusions about multiple facts. Suppose, for example, that we wish to identify people who have \"engaged\" with the forums. We might define such people as people who have read a forum post and who have posted to a forum. "
   ]
  },
  {
   "cell_type": "code",
   "execution_count": null,
   "metadata": {},
   "outputs": [],
   "source": [
    "%%assert_facts -r RULESET_3\n",
    "\n",
    "Al : has read : forum post\n",
    "Al : has posted to : forum\n",
    "\n",
    "Sam : has posted to : forum"
   ]
  },
  {
   "cell_type": "markdown",
   "metadata": {},
   "source": [
    "The rules we have seen so far test just a single condition, so how do we test *two* conditions?\n",
    "\n",
    "```\n",
    "if ?PERSON has read forum post AND ?PERSON has posted to forum\n",
    "then ?PERSON has engaged with forum\n",
    "```\n",
    "\n",
    "This is where things start getting trickier, and where we shall finish our quick introduction to creating rules with the *durable rules* framework. Briefly, we create a temporary reference when a fact matches a condition, and then compare those temporary references to see whether the same fact satisfied both conditions:"
   ]
  },
  {
   "cell_type": "code",
   "execution_count": null,
   "metadata": {},
   "outputs": [],
   "source": [
    "RULESET_4 = new_ruleset()\n",
    "with ruleset(RULESET_4):\n",
    "    \n",
    "    @when_all(c.first << Subject('has read', 'forum post'),\n",
    "              c.second << Subject('has posted to', 'forum') & (m.subject == c.first.subject))\n",
    "    def forum_discussions(c):\n",
    "        c.assert_fact({ 'subject': c.first.subject,\n",
    "                       'predicate': 'has engaged with',\n",
    "                       'object': 'forum' })\n",
    "\n",
    "    @when_all(+m.subject)\n",
    "    def output(c):\n",
    "        print('Fact: {0} {1} {2}'.format(c.m.subject, c.m.predicate, c.m.object))\n",
    " "
   ]
  },
  {
   "cell_type": "markdown",
   "metadata": {},
   "source": [
    "Let's now test the following assertions to see who has been identified as engaging with the forums:"
   ]
  },
  {
   "cell_type": "code",
   "execution_count": null,
   "metadata": {},
   "outputs": [],
   "source": [
    "%%assert_facts -r RULESET_4\n",
    "\n",
    "Al : has read : forum post\n",
    "Al : has posted to : forum\n",
    "\n",
    "Sam : has posted to : forum"
   ]
  },
  {
   "cell_type": "markdown",
   "metadata": {},
   "source": [
    "Hopefully, from these examples and the earlier Eliza example, you have a feeling for how we can build up quite rich sequences of behaviour (conversations over time, logical reasoning over multiple facts, including over facts derived from earlier presented facts) using quite simple rules. But while each rule in and of itself might be quite simple, and the discrete actions performed by each rule might be quite simple, the emergent behaviour might be quite elaborate."
   ]
  },
  {
   "cell_type": "markdown",
   "metadata": {},
   "source": [
    "### Trying out another ruleset\n",
    "\n",
    "eg from example on druable rules README"
   ]
  },
  {
   "cell_type": "markdown",
   "metadata": {},
   "source": [
    "We can define a really simple Python speech class that allows us to speak from code contained in a notebook using the browser's Javascript speech engine:"
   ]
  },
  {
   "cell_type": "code",
   "execution_count": null,
   "metadata": {},
   "outputs": [],
   "source": [
    "from IPython.display import Javascript\n",
    "\n",
    "class Speech():\n",
    "    def say(self, txt):\n",
    "        display(Javascript(f'speechSynthesis.speak(new SpeechSynthesisUtterance(\"{txt}\"))'))\n",
    "        \n",
    "speaker = Speech()\n",
    "speaker.say('hello')"
   ]
  },
  {
   "cell_type": "markdown",
   "metadata": {},
   "source": [
    "Building on the simple speech class for taling via the browser, I have created a class that keeps track of how many messages have been posted and returns a visual count of utterances, alongside a transcript of the utterance."
   ]
  },
  {
   "cell_type": "code",
   "execution_count": null,
   "metadata": {},
   "outputs": [],
   "source": [
    "from IPython.display import Javascript\n",
    "\n",
    "class Speech():\n",
    "    def __init__(self, voice=None, reset=True):\n",
    "        if reset:\n",
    "            self.count = 1\n",
    "        self.voice = voice\n",
    "        self._get_voices()\n",
    "        self.voicelist = ''\n",
    "\n",
    "    def set_voice(self, voicenum):\n",
    "        \"\"\"Set voice number.\"\"\"\n",
    "        self.voice = voicenum\n",
    "\n",
    "    def say(self, txt, showtext = True):\n",
    "        \"\"\"Speak an utterance.\"\"\"\n",
    "        js = f'''\n",
    "        var utterance = new SpeechSynthesisUtterance(\"{txt}\");\n",
    "        '''\n",
    "        if self.voice:\n",
    "            js = js + f'''\n",
    "            utterance.voice = window.speechSynthesis.getVoices()[{self.voice}];\n",
    "            '''\n",
    "        js = js + 'speechSynthesis.speak(utterance);'\n",
    "        display(Javascript(js))\n",
    "        \n",
    "        if showtext:\n",
    "            print(f'{self.count}: {txt}')\n",
    "        self.count = self.count +1\n",
    "        \n",
    "    def reset_count(self):\n",
    "        \"\"\"Reset the counter.\"\"\"\n",
    "        self.count = 1\n",
    "        \n",
    "    def _get_voices(self):\n",
    "        \"\"\"Show a list of supported voices.\"\"\"\n",
    "        # via https://developer.mozilla.org/en-US/docs/Web/API/SpeechSynthesis/getVoices\n",
    "        js = '''\n",
    "        var voices =  window.speechSynthesis.getVoices();\n",
    "    var voicelist = '';\n",
    "   for(var i = 0; i < voices.length; i++) {\n",
    "   voicelist = voicelist+i+': '+ voices[i].name + ' ('+ voices[i].lang +')';\n",
    "    if(voices[i].default) {\n",
    "      voicelist += ' -- DEFAULT';\n",
    "    }\n",
    "   voicelist = voicelist + '*'\n",
    "  }\n",
    "\n",
    "IPython.notebook.kernel.execute(\"_browser_voicelist = '\"+ voicelist+\"'\");\n",
    "        '''\n",
    "        display(Javascript(js))\n",
    "        \n",
    "    def show_voices(self):\n",
    "        self.voicelist = _browser_voicelist\n",
    "        \n",
    "        outlist = '\\n'.join([s.strip() for s in _browser_voicelist.split('*')])\n",
    "        print(outlist)\n",
    "        #return self.voicelist\n",
    "    "
   ]
  },
  {
   "cell_type": "code",
   "execution_count": null,
   "metadata": {},
   "outputs": [],
   "source": [
    "speaker = Speech()\n",
    "\n",
    "#speaker.set_voice(49)\n",
    "speaker.say('hello how are you')"
   ]
  },
  {
   "cell_type": "markdown",
   "metadata": {},
   "source": [
    "We can also show the list of voices."
   ]
  },
  {
   "cell_type": "code",
   "execution_count": null,
   "metadata": {},
   "outputs": [],
   "source": [
    "speaker.show_voices()"
   ]
  },
  {
   "cell_type": "markdown",
   "metadata": {},
   "source": [
    "You can use the folowing command to reset the message count:"
   ]
  },
  {
   "cell_type": "code",
   "execution_count": null,
   "metadata": {},
   "outputs": [],
   "source": [
    "speaker.reset_count()\n",
    "speaker.say('hello again')"
   ]
  },
  {
   "cell_type": "markdown",
   "metadata": {},
   "source": [
    "Now we can listen to the rules as they are fired, as well as seeing a report that shows the order in which they were fired."
   ]
  },
  {
   "cell_type": "code",
   "execution_count": null,
   "metadata": {},
   "outputs": [],
   "source": [
    "RULESET = new_ruleset()\n",
    "with ruleset(RULESET):\n",
    "    @when_all(c.first << Subject('eats', 'flies'),\n",
    "              Subject('lives', 'water') & (m.subject == c.first.subject))\n",
    "    def frog(c):\n",
    "        c.assert_fact(SPO(c.first.subject, 'is', 'frog'))\n",
    "\n",
    "    @when_all(c.first << Subject('eats', 'flies'),\n",
    "              Subject('lives', 'land') & (m.subject == c.first.subject))\n",
    "    def chameleon(c):\n",
    "        c.assert_fact(SPO(c.first.subject, 'is', 'chameleon'))\n",
    "        \n",
    "    @when_all(Subject('eats', 'worms'))\n",
    "    def bird(c):\n",
    "        speaker.say(f'if {c.m.subject} eats worms')\n",
    "        Set(c, '? : is : bird')\n",
    "        speaker.say(f'{c.m.subject} is a bird')\n",
    "\n",
    "    @when_all(Subject('is', 'frog'))\n",
    "    def green(c):\n",
    "        Set(c, '? : is : green')\n",
    "\n",
    "    @when_all(Subject('is', 'chameleon'))\n",
    "    def grey(c):\n",
    "        Set(c, '? : is : grey')\n",
    "\n",
    "    @when_all(Subject('is', 'bird'))\n",
    "    def black(c):\n",
    "        speaker.say(f'if {c.m.subject} is a bird')\n",
    "        Set(c, '? :is : black')\n",
    "        speaker.say(f'{c.m.subject} is black')\n",
    "        \n",
    "    @when_all(Subject(\"is\", \"bird\"))\n",
    "    def can_fly(c):\n",
    "        speaker.say(f'if {c.m.subject} is a bird')\n",
    "        Set(c, '? : can : fly' )\n",
    "        speaker.say(f'{c.m.subject} can fly')\n",
    "\n",
    "    @when_all(+m.subject)\n",
    "    def output(c):\n",
    "        print('\\nFact: {0} {1} {2}'.format(c.m.subject, c.m.predicate, c.m.object))"
   ]
  },
  {
   "cell_type": "code",
   "execution_count": null,
   "metadata": {},
   "outputs": [],
   "source": [
    "%%assert_facts -r RULESET\n",
    "Kermit : eats : worms"
   ]
  },
  {
   "cell_type": "markdown",
   "metadata": {},
   "source": [
    "## More General Forms of Rules\n",
    "\n",
    "So far we have focused on reasoning about \"facts\" in the form of statements with the form  *subject predicate object*.\n",
    "\n",
    "But this actally represents a more complicated form of reasoning than the rules engine actually employs because the *atomic* smallest possible facts are not the *subject predicate object* triples at all, they are the individual properties: `{subject: SUBJECT}`, `{'predicate': PREDICATE}` and `{object: OBJECT}`.\n"
   ]
  },
  {
   "cell_type": "markdown",
   "metadata": {},
   "source": [
    "### Facts versus Events\n",
    "\n",
    "Facts persist, events are retracted once they have been evaluated. Events are particularly useful in a robotics context, where we may want to respond to repeated sensor events.\n",
    "\n",
    "For example, imagine a case where we want to avoid a red line, because red lines indicate danger.\n"
   ]
  },
  {
   "cell_type": "code",
   "execution_count": null,
   "metadata": {},
   "outputs": [],
   "source": [
    "from durable.lang import post\n",
    "\n",
    "RULESET = new_ruleset()\n",
    "with ruleset(RULESET):\n",
    "    # this rule will trigger as soon as three events match the condition\n",
    "    @when_all(m.color=='red')\n",
    "    def see_red(c):\n",
    "        speaker.say(f'I see red')\n",
    "        c.assert_fact({'status': 'danger'})\n",
    "        \n",
    "    @when_all(m.color!='red')\n",
    "    def not_red(c):\n",
    "        speaker.say(f'I see {c.m.color}')\n",
    "        c.assert_fact({'status': 'safe'})\n",
    "\n",
    "    @when_all( m.status == 'danger')\n",
    "    def dangerous(c):\n",
    "        speaker.say(f'That is dangerous.')\n",
    "        c.retract_fact({'status': 'danger'})\n",
    "        \n",
    "    @when_all( m.status == 'safe')\n",
    "    def safe(c):\n",
    "        speaker.say(f'That is safe.')\n",
    "        c.retract_fact({'status': 'safe'})\n",
    "          \n"
   ]
  },
  {
   "cell_type": "code",
   "execution_count": null,
   "metadata": {},
   "outputs": [],
   "source": [
    "post(RULESET, {'color': 'red' });"
   ]
  },
  {
   "cell_type": "code",
   "execution_count": null,
   "metadata": {},
   "outputs": [],
   "source": [
    "post(RULESET, {'color': 'green' });"
   ]
  },
  {
   "cell_type": "code",
   "execution_count": null,
   "metadata": {},
   "outputs": [],
   "source": [
    "post(RULESET, {'color': 'red' });\n",
    "post(RULESET, {'color': 'green' });"
   ]
  },
  {
   "cell_type": "markdown",
   "metadata": {},
   "source": [
    "### How might rules be useful in a robot context?\n",
    "\n",
    "Although we can easily create our own `if...` statements in the programme downloaded to the simulator, and control the robot's behaviour that way, it may more convenient to develop, and test, a large and possibly complex rule based set of behaviours using a framework such as a *Durable Rules*.\n",
    "\n",
    "This may be achieved by capturing sensor values from the robot in the simulator, passing them back to the notebook's Python context, passing them as events to the Durable Rules ruleset, applying the rules to create some statement of a desired motor action, and then returning this instruction to the simulated robot for execution there.\n",
    "\n",
    "We will not pursue this approach further, here. However, you will have an opportunity to control the simulated robot in a similar way using a neural network running in the notebook context, rather than a rule based system, in a later notebook."
   ]
  },
  {
   "cell_type": "markdown",
   "metadata": {},
   "source": [
    "### Addendum - Using Python to Respond to and Control Events in the Simulator\n",
    "\n",
    "\n",
    "__THESE ARE JUST MY WORKING NOTES AS I TRY TO FIGURE STUFF OUT...__\n",
    "\n",
    "Can we find a way of getting the robot to post a message to Python, and Python to respond with a message back to the robot that the robot can respond to? "
   ]
  },
  {
   "cell_type": "markdown",
   "metadata": {},
   "source": [
    "The original RobotLab activities include examples of round-tripping, with the simulated robot passing state out to a remote application, which then returned a response to the simulated robot. I'm pretty sure we can do the same, either with a predefined application or a user defined function. The latter would be best because then we could have an activity to write a helper application in notebook python that is called on by the simulated robot.\n",
    "\n",
    "At the moment, I have managed to send a message to Py from the simulator via messages sent to the simulator output window. There is a callback that sends messages back from Py to the sim output window, but as yet the robot py code running in the simulator is oblivious to returned messages. (I need half a day, perhaps, a day, to actually get code into the simulator so the programme code can access it.)\n",
    "\n",
    "The following recipe shows how to overwrite the default collaborative `responder()` function with a custom one."
   ]
  },
  {
   "cell_type": "code",
   "execution_count": null,
   "metadata": {},
   "outputs": [],
   "source": [
    "class CollabSim(eds.Ev3DevWidget):\n",
    "     def responder(self, obj):\n",
    "        \"\"\" Callback function that tries to respond to widget.\"\"\"\n",
    "        # obj is the message sent from the simulator\n",
    "        #Generate a response\n",
    "        response = f'pingpongBONG {obj}'\n",
    "        #Send the response back to the simulator\n",
    "        #At the moment, this is simply echoed in the simulator output window\n",
    "        self.set_element(\"response\", response)\n",
    "\n",
    "# We now create an instance of the simulator with the custom collaborative callback function\n",
    "roboSim = CollabSim()"
   ]
  }
 ],
 "metadata": {
  "jupytext": {
   "cell_metadata_filter": "-all",
   "main_language": "python",
   "notebook_metadata_filter": "-all",
   "text_representation": {
    "extension": ".md",
    "format_name": "markdown"
   }
  }
 },
 "nbformat": 4,
 "nbformat_minor": 4
}
