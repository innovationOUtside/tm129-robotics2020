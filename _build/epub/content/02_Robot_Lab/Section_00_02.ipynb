{
 "cells": [
  {
   "cell_type": "code",
   "execution_count": null,
   "metadata": {},
   "outputs": [],
   "source": [
    "from nbev3devsim import ev3devsim_nb as eds\n",
    "import jp_proxy_widget\n",
    "\n",
    "#Load the nbtutor extension\n",
    "%load_ext nbtutor\n",
    "\n",
    "#https://github.com/AaronWatters/jp_doodle/blob/master/notebooks/misc/JQueryUI%20dialogextend%20plugin%20demo.ipynb\n",
    "#Load and initialise the jquery.dialogextend package\n",
    "\n",
    "cdn_url = \"https://cdn.jsdelivr.net/npm/binary-com-jquery-dialogextended@1.0.0/jquery.dialogextend.js\"\n",
    "cdn_url = eds.get_file_path('js/jquery.dialogextend.js')\n",
    "module_id = \"dialogExtend\"\n",
    "\n",
    "# Load the module using a widget (any widget -- the module loads to the global jQuery object).\n",
    "loader = jp_proxy_widget.JSProxyWidget()\n",
    "\n",
    "# Configure the module to be loaded.\n",
    "loader.require_js(module_id, cdn_url)\n",
    "\n",
    "# Load the module\n",
    "loader.js_init(\"\"\"\n",
    "    element.requirejs([module_identifier], function(module_value) {\n",
    "        //element.html(\"loaded \" + module_identifier + \" : \" + module_value);\n",
    "    });\n",
    "\"\"\", module_identifier=module_id)\n",
    "loader"
   ]
  },
  {
   "cell_type": "code",
   "execution_count": null,
   "metadata": {},
   "outputs": [],
   "source": [
    "from nbev3devsim import ev3devsim_nb as eds\n",
    "\n",
    "#Reset the notebook style\n",
    "from IPython.core.display import display, HTML, Javascript\n",
    "\n",
    "#display(HTML(\"<style>#notebook-container { resize:vertical; border: 5px solid;  width: 300px; resize: horizontal; overflow: auto; float:left !important;}</style>\"))\n",
    "display(HTML(\"<style>#notebook-container { width:50%; float:left !important;}</style>\"))\n",
    "\n",
    "#Launch the simulator\n",
    "from nbev3devsim import ev3devsim_nb as eds\n",
    "%reload_ext nbev3devsim\n",
    "\n",
    "roboSim = eds.Ev3DevWidget()\n",
    "\n",
    "roboSim.element.dialog();\n",
    "\n",
    "\n",
    "roboSim.js_init(\"\"\"\n",
    "element.dialog({ \"title\" : \"Robot Simulator\" }).dialogExtend({\n",
    "        \"maximizable\" : true,\n",
    "        \"dblclick\" : \"maximize\",\n",
    "        \"icons\" : { \"maximize\" : \"ui-icon-arrow-4-diag\" }});\n",
    "\"\"\")\n",
    "\n",
    "display(roboSim)"
   ]
  },
  {
   "cell_type": "code",
   "execution_count": null,
   "metadata": {},
   "outputs": [],
   "source": [
    "%%javascript\n",
    "//This allows us to resize this view\n",
    "//Click on the right hand edge to drag\n",
    "$( \"#notebook-container\" ).resizable({ghost: false})"
   ]
  },
  {
   "cell_type": "code",
   "execution_count": null,
   "metadata": {},
   "outputs": [],
   "source": [
    "%load_ext nbtutor\n",
    "%load_ext nbev3devsim"
   ]
  },
  {
   "cell_type": "markdown",
   "metadata": {},
   "source": [
    "# 3 Branches"
   ]
  },
  {
   "cell_type": "markdown",
   "metadata": {},
   "source": [
    "So far we have concentrated mainly on sequential programs, where the flow of control proceeds through the program statements in linear sequence, except when it encounters loop element where the control flow is redirected back \"up\" the program to the start of a loop block.\n",
    "\n",
    "In the previous notebook, you saw how the conditional `if..` statement could be used to optionally pass control to a set of instructions in the sequential programme *if* a particular condition was met.\n",
    "\n",
    "The `if...` statement fits the the sequential program model by redirecting control flow, albeit briefly, to a set of \"extra\" commands if the conditional test evaluates true.\n",
    "\n",
    "A sequential program will always follow the same sequentially order path. But to be useful, a robot program will often need to make decisions and behave differently in different circumstances. To do this, the program has to have alternative *branches* in the programme flow where we can follow different courses of actions depending on some conditional test.\n",
    "\n",
    "Python provides an `if..else..` statement to do just that, and you will see how it is used in the following activities.\n",
    "\n",
    "*In other programming languages, this may often be referred to as an `if...then...else...` construct. In Python, the \"then\" is assumed.*"
   ]
  },
  {
   "cell_type": "markdown",
   "metadata": {},
   "source": [
    "## 3.1 Activity: Detecting black and grey"
   ]
  },
  {
   "cell_type": "markdown",
   "metadata": {},
   "source": [
    "Load the *Grey and black* background into the simulator.\n",
    "\n",
    "Download the programme to the simulator and then run it several times with the robot moved to different starting positions.\n",
    "\n",
    "What does the programme cause the robot to do?"
   ]
  },
  {
   "cell_type": "code",
   "execution_count": null,
   "metadata": {},
   "outputs": [],
   "source": [
    "%%sim_magic_preloaded\n",
    "\n",
    "import playsound\n",
    "\n",
    "# Configure a light sensor\n",
    "colorLeft = ColorSensor(INPUT_2)\n",
    "\n",
    "# Start the robot driving forwards\n",
    "tank_drive.on(SpeedPercent(50), SpeedPercent(50))\n",
    "\n",
    "#Sample the light sensor reading\n",
    "sensor_value = colorLeft.reflected_light_intensity\n",
    "\n",
    "#Check the light sensor reading\n",
    "while sensor_value == 100:\n",
    "    # Whilst we are on the white background\n",
    "    # update the reading\n",
    "    sensor_value = colorLeft.reflected_light_intensity\n",
    "    # and display it\n",
    "    print(sensor_value)\n",
    "\n",
    "# When the reading is below 100\n",
    "# we have started to see something.\n",
    "# Drive a little way onto the band to get a good reading\n",
    "tank_drive.on_for_rotations(SpeedPercent(50), SpeedPercent(50), 0.2)\n",
    "\n",
    "#Check the sensor reading\n",
    "sensor_value = colorLeft.reflected_light_intensity\n",
    "# and display it\n",
    "print(sensor_value)\n",
    "\n",
    "# Now make a decision about what we see\n",
    "if sensor_value < 50:\n",
    "    playsound.say(\"I see black\")\n",
    "else:\n",
    "    playsound.say(\"I see grey\")"
   ]
  },
  {
   "cell_type": "markdown",
   "metadata": {},
   "source": [
    "#### Question\n",
    "\n",
    "What does the robot do? "
   ]
  },
  {
   "cell_type": "markdown",
   "metadata": {},
   "source": [
    "#### Answer\n",
    "\n",
    "*Click the arrow in the sidebar to reveal the answer.*"
   ]
  },
  {
   "cell_type": "markdown",
   "metadata": {},
   "source": [
    "The robot moves forward over the white background until it reaches the grey or black area. If the background is black, the robot says *black*; otherwise, it says *grey*. \n",
    "\n",
    "The programme works by driving the robot forwards and  continues in that direction while it is over the white background (a reflected light sensor reading of 100). When the light sensor reading goes below the white background value of 100, control passes out of the while loop and on to the statement that drives the robot forwards a short distance further (0.2 wheel rotations) to ensure the sensor is fully over the band. The robot then checks its sensor reading, and makes a decision about what to say based on the value of the sensor reading."
   ]
  },
  {
   "cell_type": "markdown",
   "metadata": {},
   "source": [
    "### Working through the programme flow\n",
    "\n",
    "The following flow chart shows how the flow of control passes through the programme.\n",
    "\n",
    "![](https://mermaid.ink/img/eyJjb2RlIjoiXG5ncmFwaCBURFxuICAgIEEoU3RhcnQpIC0tPiBCW01vdmUgZm9yd2FyZHNdXG4gICAgQiAtLT4gQ3tMaWdodCA9PSAyNTV9XG4gICAgQyAtLT4gfFllc3wgRFtEaXNwbGF5IHJlYWRpbmddXG4gICAgRCAtLT4gQ1xuICAgIEMgLS0-IHxOb3wgRVtEcml2ZSBmb3J3YXJkPGJyLz5hIHNob3J0IHdheV1cbiAgICBFIC0tPiBGe0xpZ2h0IDwgMTI4P31cbiAgICBGIC0tPiB8WWVzfCBHW1NheSAnYmxhY2snXVxuICAgIEYgLS0-IHxOb3wgSFtTYXkgJ2dyZXknXVxuICAgIEcgLS0-IEkoRW5kKVxuICAgIEggLS0-IElcbiAgICBcbiIsIm1lcm1haWQiOnsidGhlbWUiOiJkZWZhdWx0In0sInVwZGF0ZUVkaXRvciI6ZmFsc2V9)\n",
    "\n",
    "Although the `while` command does appear to offer some sort of branch like behaviour, will still think of it as a sequential style operator becuase the flow of control keeps trying to move in the same forwards direction.\n",
    "\n",
    "In the branching `if..else..` operator, the program control flow takes one of two different \"forward flowing\" paths depending on whether the conditional statement evaluated as part of the `if..` statement evaluates true or false.\n",
    "\n",
    "If it evaluates `True`, then the statements in the first \"if\" block of code are evaluate; if the condition evaluates `False`, then the statements in the `else` block are evaluated. In both cases, contorl then flows forwards to the next statement after the `if..else..` block."
   ]
  },
  {
   "cell_type": "raw",
   "metadata": {},
   "source": [
    "# Mermaid.js code\n",
    "\n",
    "graph TD\n",
    "    A(Start) --> B[Move forwards]\n",
    "    B --> C{Light == 100}\n",
    "    C --> |Yes| D[Display reading]\n",
    "    D --> C\n",
    "    C --> |No| E[Drive forward<br/>a short way]\n",
    "    E --> F{Light < 50?}\n",
    "    F --> |Yes| G[Say 'black']\n",
    "    F --> |No| H[Say 'grey']\n",
    "    G --> I(End)\n",
    "    H --> I\n",
    "    "
   ]
  },
  {
   "cell_type": "markdown",
   "metadata": {},
   "source": [
    "## Activity: Stepping Through An `if..else...` Statement"
   ]
  },
  {
   "cell_type": "markdown",
   "metadata": {},
   "source": [
    "In this activity we will look at another program to explore how `if...else..` works in more detail. \n",
    "\n",
    "Inspect the code in the following cell? If you run the code cell, what do you think will happen?"
   ]
  },
  {
   "cell_type": "markdown",
   "metadata": {},
   "source": [
    "*Double click this cell to edit it and make your prediction here.*"
   ]
  },
  {
   "cell_type": "markdown",
   "metadata": {},
   "source": [
    "Once you have made your prediction, run the following cell, and in the markdown cell beneath it, record what happened and how it compared to your prediction.\n",
    "\n",
    "*You may find it informative to use `nbtutor` to step through each line of code in turn to see how the programme flow progresses. To do this, uncomment the `%%nbtutor` magic in the first line of the code cell by deleting the `#` at the start of the line before running the code cell.*"
   ]
  },
  {
   "cell_type": "code",
   "execution_count": null,
   "metadata": {},
   "outputs": [],
   "source": [
    "#%%nbtutor --reset --force\n",
    "x = 1\n",
    "\n",
    "if x == 1:\n",
    "    print(\"x equals 1\")\n",
    "else:\n",
    "    print(\"x does not equal 1\")\n",
    "    \n",
    "print(\"All done...\")"
   ]
  },
  {
   "cell_type": "markdown",
   "metadata": {},
   "source": [
    "*Double click this cell to edit it and record here what happened when you ran the code in the above cell. Did its behaviour match your prediction?*"
   ]
  },
  {
   "cell_type": "markdown",
   "metadata": {},
   "source": [
    "What do you think will happen when you run the following code cell?\n",
    "\n",
    "Run the cell and use *nbtutor* to step through the programme. How does the programme flow differ from the case where `x` had the value `1`? "
   ]
  },
  {
   "cell_type": "code",
   "execution_count": null,
   "metadata": {},
   "outputs": [],
   "source": [
    "%%nbtutor --reset --force\n",
    "x = 2\n",
    "\n",
    "if x == 1:\n",
    "    print(\"x equals 1\")\n",
    "else:\n",
    "    print(\"x does not equal 1\")\n",
    "\n",
    "print(\"All done...\")"
   ]
  },
  {
   "cell_type": "markdown",
   "metadata": {},
   "source": [
    "### Discussion\n",
    "\n",
    "Click the arrow in the sidebar to reveal my observations."
   ]
  },
  {
   "cell_type": "markdown",
   "metadata": {},
   "source": [
    "In the cell where `x=1`, I predicted that the program would print the message *'x equals 1'* and then the messge *'All done...'*.\n",
    "\n",
    "Viewing the trace, I could see how the programme started by initialising the `x` variable to the value `1`, then checked whether `x==1` (that is, whether `x` was equal to `1`); becuase it was, the programme then moved onto the `print(\"x equals 1\")` statement and printed the first message, then programme flow continued to the first instruction after the `if...else...` block, which was the statement that printed the *'All done...'* message.\n",
    "\n",
    "When I ran the programme with a value of `x` other then `1`, the control passed from the `if...` statement, where the conditional test evaluated as `False`, to the first line in the `else..` block, which printed the message *'x does not equal '*, before moving on to the first line after the `if..else..` block as before."
   ]
  },
  {
   "cell_type": "markdown",
   "metadata": {},
   "source": [
    "## An `if..` without an `else...`"
   ]
  },
  {
   "cell_type": "markdown",
   "metadata": {},
   "source": [
    "It is sometimes useful to have just a single branch to the `if` statement. Python provides a simple `if...` statement for this purpose.\n",
    "\n",
    "Run the following code cell as it stands, with the `x` variable taking the intial value `1` (`x=1`). Can you predict what will happen?"
   ]
  },
  {
   "cell_type": "code",
   "execution_count": null,
   "metadata": {},
   "outputs": [],
   "source": [
    "#%%nbtutor --reset --force\n",
    "x = 1\n",
    "\n",
    "print(\"Are you ready?\")\n",
    "\n",
    "if x == 1:\n",
    "    print(\"x equals 1\")\n",
    "\n",
    "print(\"All done...\")"
   ]
  },
  {
   "cell_type": "markdown",
   "metadata": {},
   "source": [
    "Try to predict what will happen if you change the initial value and run the cell again. Was your prediction correct?\n",
    "\n",
    "Uncomment the *%%nbtutor* magic and run the code cell using different values of `x`, observing how the program flow progresses in each case."
   ]
  },
  {
   "cell_type": "markdown",
   "metadata": {},
   "source": [
    "### Discussion\n",
    "\n",
    "*Click on the arrow in the sidebar to reveal my observations.*"
   ]
  },
  {
   "cell_type": "markdown",
   "metadata": {},
   "source": [
    "With the initial value of the variable `x` set to `1` (`x = 1`) the program displayed the messages *Are you ready?*, *x equals 1* and *All done* as the `if ...` statement evaluated the `x == 1` test condition as `True` and passed control *into* the `if..` block.\n",
    "\n",
    "When `x` was initialised to a different value, for example as `x = 2`, only the messages *Are you ready?* and *All done* were displayed as the `if..` conditional test failed and redirected control flow to the first statement *after* the `if..` block."
   ]
  },
  {
   "cell_type": "markdown",
   "metadata": {},
   "source": [
    "## 3.4 Activity: Combining loops and branching statements "
   ]
  },
  {
   "cell_type": "markdown",
   "metadata": {},
   "source": [
    "It is important to be clear that the condition in a branching statement (`if...` or `if...else...`) is checked only when execution reaches that part of the program.\n",
    "\n",
    "In the examples above, you stepped through the programs and saw that execution passed through the `if` statement only once. When creating useful robot programs, we often want conditions to be checked repeatedly. For example the robot may need to repeatedly check that it has not bumped into an obstacle, or whether it has found a bright or dark area. \n",
    "\n",
    "You have already seen how the `while...` loop tests a condition at the start of a loop and and then passes control to the statements inside the loop before looping back to test the `while...` condition again.\n",
    "\n",
    "You may also recall from an earlier notebook that we also used an `if...` statment to return the control flow back to the top of a loop before all the statements in the loop body had been executed, or break out of a loop early and pass control to the first statement after the loop block.\n",
    "\n",
    "This ability to combine loop and branching statements is very powerful and even a very simple programme can produce quite a complex robot behaviour.\n",
    "\n",
    "For example, can you predict what the following programme will cause the robot to do when it is downloaded and run in the simulator?\n",
    "\n",
    "__Before you run the programme, load in the *Loop* background to the simulator.__"
   ]
  },
  {
   "cell_type": "markdown",
   "metadata": {},
   "source": [
    "*Double click this cell to edit it and record your prediction.*"
   ]
  },
  {
   "cell_type": "code",
   "execution_count": null,
   "metadata": {},
   "outputs": [],
   "source": [
    "%%sim_magic_preloaded\n",
    "\n",
    "tank_drive.on(SpeedPercent(30), SpeedPercent(30))\n",
    "\n",
    "while True:\n",
    "    if colorLeft.reflected_light_intensity < 100:\n",
    "        tank_drive.on_for_rotations(SpeedPercent(-30),\n",
    "                                    SpeedPercent(-30), 2)\n",
    "\n",
    "        tank_turn.on_for_rotations(-100, SpeedPercent(75), 2)\n",
    "        tank_drive.on(SpeedPercent(30), SpeedPercent(30))\n"
   ]
  },
  {
   "cell_type": "markdown",
   "metadata": {},
   "source": [
    "Download the program to the simulator and run it there to check your prediction. After a minute or two, stop the programme from executing.\n",
    "\n",
    "How does the behaviour of the programme lead to the robot's emergent behaviour in the simulator?"
   ]
  },
  {
   "cell_type": "markdown",
   "metadata": {},
   "source": [
    "#### Discussion\n",
    "\n",
    "*Click on the arrow in the sidebar to reveal my observations*"
   ]
  },
  {
   "cell_type": "markdown",
   "metadata": {},
   "source": [
    "When the program runs, the robot will explore the inside of the black oval, remaining inside it and reversing direction each time it encounters the black line.\n",
    "\n",
    "The program is constructed from an `if` statement inside a `forever` loop. The `if` statement checks the light sensor reading; when this is low (which it will be when the black line is reached) the motor direction is reversed. \n",
    "\n",
    "The `while True:`  loop is a so-called *infinite loop* that will run indefinitely. In this case it is useful because we want the robot to continue to keep on behaving in the same way as the prigramme runs.\n",
    "\n",
    "In other circumstances, we might want the loop to continue only while some condition holds true. In such cases, using the `while` statement to test the truth of a conitional statement is more useful."
   ]
  },
  {
   "cell_type": "markdown",
   "metadata": {},
   "source": [
    "## Multiple Conditions Using `if..elif..else..`\n",
    "\n",
    "The `if...else..` statement allows us to creating a branching control flow statement that performs on conditional test and then chooses between two alternative outcomes depending on the result of the test.\n",
    "\n",
    "Python also supports a yet more complex branch construction in the form of an `if..elif..else..` statement that allows us to make multiple conditional tests. Run the following code cell and then use `nbtutor` to explore the flow through the programme. "
   ]
  },
  {
   "cell_type": "code",
   "execution_count": null,
   "metadata": {},
   "outputs": [],
   "source": [
    "%%nbtutor --reset --force\n",
    "\n",
    "days_of_week = ['Monday', 'Tuesday', 'Wednesday', 'Thursday',\n",
    "                'Friday', 'Saturday', 'Sunday']\n",
    "\n",
    "for day in days_of_week:\n",
    "    print(f'Today is {day}...')\n",
    "    \n",
    "    if day == 'Wednesday':\n",
    "        print('...half day closing')\n",
    "    elif day in ['Saturday', 'Sunday']:\n",
    "        print('...the weekend')\n",
    "    else:\n",
    "        print('...a weekday')\n",
    "        \n",
    "print(\"And that's all the days of the week.\"\")"
   ]
  },
  {
   "cell_type": "markdown",
   "metadata": {},
   "source": [
    "We can also have multiple `elif` statements between the opening `if..` and the closing `else`.\n",
    "\n",
    "Read through the code in the following and try to work out what the program will do and how the control flow will pass though the program as it executes."
   ]
  },
  {
   "cell_type": "code",
   "execution_count": null,
   "metadata": {},
   "outputs": [],
   "source": [
    "# TO DO\n",
    "# need a simple toolbar buttom to toggle the notebook display?\n",
    "from IPython.display import HTML\n",
    "display(HTML(\"<style>#notebook-container { width:100% !important; float:left !important;}</style>\"))\n",
    "display(HTML(\"<style>#notebook-container { width:50% !important; float:left !important;}</style>\"))\n"
   ]
  },
  {
   "cell_type": "code",
   "execution_count": null,
   "metadata": {},
   "outputs": [],
   "source": [
    "%%nbtutor --reset --force\n",
    "\n",
    "days_of_week = ['Monday', 'Tuesday', 'Wednesday', 'Thursday',\n",
    "                'Friday', 'Saturday', 'Sunday']\n",
    "\n",
    "for day in days_of_week:\n",
    "    print(f'Today is {day}...')\n",
    "    \n",
    "    if day == 'Monday':\n",
    "        print(\"...I don't like Mondays...\")\n",
    "    elif day == 'Tuesday':\n",
    "        print('...Ruby Tuesday')\n",
    "    elif day == 'Friday':\n",
    "        print(\"...Friday I'm In Love\")\n",
    "    else:\n",
    "        print(\"...I don't know a song title for that day\")\n",
    "    "
   ]
  },
  {
   "cell_type": "markdown",
   "metadata": {},
   "source": [
    "Now run the previous code cell and step through its execution using *nbtutor*; observe how the control flow steps increasing through the stack of `..elif..` tests as the `for..` loop iterates through the items in the `days_of_week` list. "
   ]
  },
  {
   "cell_type": "markdown",
   "metadata": {},
   "source": [
    "Note that there is no requirement that you test the same variable in each step. The different steps could test a different variable or range of variables.\n",
    "\n",
    "For example, in the following programme, we might decide what to take out with us on a walk based on a variety of conditions:"
   ]
  },
  {
   "cell_type": "code",
   "execution_count": null,
   "metadata": {},
   "outputs": [],
   "source": [
    "raining = False\n",
    "temperature = 'warm'\n",
    "\n",
    "if raining:\n",
    "    print(\"Wear boots\")\n",
    "elif temperature == 'warm':\n",
    "    print(\"Wear sandals\")\n",
    "else:\n",
    "    print(\"Wear shoes\")"
   ]
  },
  {
   "cell_type": "markdown",
   "metadata": {},
   "source": [
    "Also note that there is an *order* in which we test the various conditions as the control passes through the `if..elif..` conditional tests. We can use this as an informal way of prioritising one behaviout over another:\n",
    "\n",
    "```python\n",
    "if this_really_important_thing:\n",
    "    ...\n",
    "elif this_less_important_thing:\n",
    "    ...\n",
    "elif this minor_thing:\n",
    "    ...\n",
    "else:\n",
    "    ...\n",
    "```"
   ]
  },
  {
   "cell_type": "markdown",
   "metadata": {},
   "source": [
    "## 3.5 Challenge: Three shades of grey"
   ]
  },
  {
   "cell_type": "markdown",
   "metadata": {},
   "source": [
    "The program at the start of this notebook (in Section 3.1) showed how an `if...else...` statement could be used to decide between black and grey areas. The background (loaded into the simulator as the *Grey and black* background) actually contains three different shades: black, dark grey, and light grey. Can you construct a program that will report which the robot encounters? \n",
    "\n",
    "A copy of the original program is provided below as a starting point. You will need to extend the code so that it can decide between three grey alternatives as well as the black band and say which band it saw."
   ]
  },
  {
   "cell_type": "code",
   "execution_count": null,
   "metadata": {},
   "outputs": [],
   "source": [
    "%%sim_magic_preloaded\n",
    "\n",
    "# Use this programme with the \"Grey and black\" background\n",
    "\n",
    "import playsound\n",
    "\n",
    "# Configure a light sensor\n",
    "colorLeft = ColorSensor(INPUT_2)\n",
    "\n",
    "# Start the robot driving forwards\n",
    "tank_drive.on(SpeedPercent(50), SpeedPercent(50))\n",
    "\n",
    "#Sample the light sensor reading\n",
    "sensor_value = colorLeft.reflected_light_intensity\n",
    "\n",
    "#Check the light sensor reading\n",
    "while sensor_value == 100:\n",
    "    # Whilst we are on the white background\n",
    "    # update the reading\n",
    "    sensor_value = colorLeft.reflected_light_intensity\n",
    "    # and display it\n",
    "    print(sensor_value)\n",
    "\n",
    "# When the reading is below 100\n",
    "# we have started to see something.\n",
    "# Drive a little way onto the band to get a good reading\n",
    "tank_drive.on_for_rotations(SpeedPercent(50), SpeedPercent(50), 0.2)\n",
    "\n",
    "#Check the sensor reading\n",
    "sensor_value = colorLeft.reflected_light_intensity\n",
    "# and display it\n",
    "print(sensor_value)\n",
    "\n",
    "# Now make a decision about what we see\n",
    "if sensor_value < 50:\n",
    "    playsound.say(\"I see black\")\n",
    "else:\n",
    "    playsound.say(\"I see grey\")"
   ]
  },
  {
   "cell_type": "markdown",
   "metadata": {},
   "source": [
    "When you have modified the code, run the cell to download it to the simulator, ensure the *Grey and black* background is loaded, and then run the programme in the simulator for various starting positions of the robot. Does it behave as you intended?"
   ]
  },
  {
   "cell_type": "markdown",
   "metadata": {},
   "source": [
    "#### Hint: click the arrow in the sidebar to reveal a hint"
   ]
  },
  {
   "cell_type": "markdown",
   "metadata": {},
   "source": [
    "The original program uses an `if..else..` condition to distinguish between black and grey reflected light readings. An `..elif..` statement lets you test alternative values within the same `if..else..` block.\n",
    "\n",
    "To identify the values to use in the condition statements, inspect the simulator output window messages to see what sensor values are reported when the robot goes over different bands."
   ]
  },
  {
   "cell_type": "markdown",
   "metadata": {},
   "source": [
    "#### Worked Answer\n",
    "Click the arrow in the sidebar to display a worked answer."
   ]
  },
  {
   "cell_type": "markdown",
   "metadata": {},
   "source": [
    "The robot sees the following values over each of the grey bands:\n",
    "\n",
    "- light grey: ~86\n",
    "- medium grey: ~82\n",
    "- dark grey: ~50\n",
    "- black: 0\n",
    "\n",
    "Generally, when we see lots of decimal places, we assume that the chances of ever seeing exactly the same sequence of numbers may be unlikely, so rather than testing for an exact match, we use one or more threshold tests to see if the number lies within a particular *range* of values, or is above a certain minimum value.\n",
    "\n",
    "If we assume those sensor readings are reliable, and the same value is alsway reported for each of those bands, we can make the make the following decisions:\n",
    "\n",
    "```python\n",
    "if sensor_value > 86: \n",
    "    print('light grey')\n",
    "elif sensor_value > 82: \n",
    "    print('medium grey')\n",
    "elif sensor_value > 50: \n",
    "    print('dark grey')\n",
    "else:\n",
    "    print('black')\n",
    "```\n",
    "\n",
    "We can make the test even more reliable by setting the threshold test values to values that are halfway between the expected values for a particular band. For example, 84, rather than 82, for distinguishing between light and medium grey; 66 rather than 82 for distinguishing between dark and medium grey; and 25 rather than 50 for distinguising between black and dark grey.\n",
    "\n",
    "__TO DO: an activity with noise values around the sensor would be useful here._\n",
    "\n",
    "This means that if there is a slight error in the reading, our thresholded test is like to make the right decision about which side of the threshold value the (noisy) reading actually falls on.\n",
    "\n",
    "__ TO DO - a diagram to illustrate this would be useful. __"
   ]
  },
  {
   "cell_type": "code",
   "execution_count": null,
   "metadata": {
    "lines_to_next_cell": 2
   },
   "outputs": [],
   "source": [
    "%%sim_magic_preloaded\n",
    "\n",
    "# Use this programme with the \"Grey and black\" background\n",
    "\n",
    "import playsound\n",
    "\n",
    "# Configure a light sensor\n",
    "colorLeft = ColorSensor(INPUT_2)\n",
    "\n",
    "# Start the robot driving forwards\n",
    "tank_drive.on(SpeedPercent(50), SpeedPercent(50))\n",
    "\n",
    "#Sample the light sensor reading\n",
    "sensor_value = colorLeft.reflected_light_intensity\n",
    "\n",
    "#Check the light sensor reading\n",
    "while sensor_value == 100:\n",
    "    # Whilst we are on the white background\n",
    "    # update the reading\n",
    "    sensor_value = colorLeft.reflected_light_intensity\n",
    "    # and display it\n",
    "    print(sensor_value)\n",
    "\n",
    "# When the reading is below 100\n",
    "# we have started to see something.\n",
    "# Drive onto the band to get a good reading\n",
    "tank_drive.on_for_rotations(SpeedPercent(50), SpeedPercent(50), 0.2)\n",
    "\n",
    "#Check the sensor reading\n",
    "sensor_value = colorLeft.reflected_light_intensity\n",
    "# and display it\n",
    "print(sensor_value)\n",
    "\n",
    "# Now make a decision about what we see\n",
    "if sensor_value >  86: \n",
    "    playsound.say(\"I see light grey\")\n",
    "elif sensor_value > 82: \n",
    "    playsound.say(\"I see medium grey\")\n",
    "elif sensor_value > 50: \n",
    "    playsound.say(\"I see dark grey\")\n",
    "else:\n",
    "    playsound.say(\"I see black\")"
   ]
  },
  {
   "cell_type": "markdown",
   "metadata": {},
   "source": [
    "Other solutions are possible.\n",
    "\n",
    "One thing you might notice is that sometimes the robot gives the wrong answer, for example if the sensor is not completely over the band and gives a reading that does not exactly match a value you used in your conditional tests.\n",
    "\n",
    "You will see how to address this sensitivity in the next notebook."
   ]
  },
  {
   "cell_type": "markdown",
   "metadata": {},
   "source": [
    "## Summary\n",
    "\n",
    "In this notebook, you have seen how `if..` statements can be used to make a variety of decisions and trigger a range of different actions based on one or more tested conditions. In particular:\n",
    "\n",
    "- a simple `if..` statement lets a perform one or more actions once and once only if a single conditional test evaluates true;\n",
    "- an `if..else..` statement allows us to *branch* between two possible futures based on the whether a single conditional test evaluates as true; if it is true, do one action, if not, do the other;\n",
    "- an `if..elif..else..` construction lets us run mutliple different conditional tests. If the first test is true, do one thing, otherwise test the next thing, and if that is true, do something, otherwise, do another test, and so on. If all the other `elif..` tests evaluate false, do the final `else` condition."
   ]
  },
  {
   "cell_type": "markdown",
   "metadata": {},
   "source": [
    "## Addendum\n",
    "\n",
    "The IPython interpreter that underpins code execution in Jupyter notebooks has a range of display functions that are capable of embedding and playing a wide variety of media, include audio and video files.\n",
    "\n",
    "For example, if you run the following code cell, you can embed a Youtube video given the unique video identifier which you will find in every Youtube video URL / web address:"
   ]
  },
  {
   "cell_type": "code",
   "execution_count": null,
   "metadata": {},
   "outputs": [],
   "source": [
    "from IPython.lib.display import YouTubeVideo\n",
    "YouTubeVideo('mGgMZpGYiy8')"
   ]
  },
  {
   "cell_type": "markdown",
   "metadata": {},
   "source": [
    "What, me, dodgy goth? Goth hippy groover, more like...;-)"
   ]
  }
 ],
 "metadata": {
  "jupytext": {
   "cell_metadata_filter": "-all",
   "main_language": "python",
   "notebook_metadata_filter": "-all",
   "text_representation": {
    "extension": ".md",
    "format_name": "markdown"
   }
  }
 },
 "nbformat": 4,
 "nbformat_minor": 4
}
