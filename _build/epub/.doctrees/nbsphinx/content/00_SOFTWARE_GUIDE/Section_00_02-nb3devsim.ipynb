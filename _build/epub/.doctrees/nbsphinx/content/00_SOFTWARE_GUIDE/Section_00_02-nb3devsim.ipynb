{
 "cells": [
  {
   "cell_type": "markdown",
   "metadata": {},
   "source": [
    "# 2 The RoboLab simulated on-screen robot (`nbev3devsim`)\n",
    "\n",
    "\n"
   ]
  },
  {
   "cell_type": "markdown",
   "metadata": {},
   "source": [
    "\n",
    "The `nbev3devsim` simulator is arranged slightly differently to the original `ev3devsim` simulator in order to develop a workflow that more naturally suits notebook style working.\n",
    "\n",
    "Rather than saving programmes to separate files, each individual robot simulator programme is defined within its own notebook code cell, and can then be \"downloaded\" to the simulated robot. This means you can keep track of a how a programme develops by writing each version of a programme in its own code cell. \n",
    "\n",
    "\n",
    "<div class='alert-danger'>Layout is subject to change...</div>\n",
    "\n",
    "![Screenshot of ev3devsim simulator showing a simulator world canvas, programming area and outpur trace window. SUJECT TO CHANGE](../images/nbev3devsim_overview.png)\n",
    "\n",
    "\n",
    "An expanded range of predefined worlds is available that can be loaded into the simulator, as image files, from a drop down menu. (Source code for generating the background image files is also available in a notebook in the `backgrounds/` directory.) When some worlds are loaded in, the robot's initial (default) location in that world is also specified; other robot settings, such as the positioning of the sensors, may also be initialised when a particular backgound is loaded. \n",
    "\n",
    "As in `ev3devsim`, obstacles can be added to a world using a configuration file opened by clicking the `Obstacles` button. The simulated robot is also still configured via a configuration menu.\n",
    "\n",
    "The simulated robot can be dragged and placed on the simulated background and moved to a specifed location via the `Move` button (the target co-ordinates are updated when the robot is dragged to a new location). A new `Reset` button wil move the robot back to it's default location in the world.\n",
    "\n",
    "__[TO DO - would also be useful to be able to rotate the robot?]__\n",
    "\n",
    "\n",
    "\n",
    "## 2.1 Activity: Running a program\n",
    "\n",
    "QUIck demo - get a feel for the simulator, even the `ev3devsim` one? Or maybe provide this via simple static demos as standalone HTML files? Or actually demo `nbev3devsim` here?\n",
    "\n",
    "<!-- #raw -->\n",
    "# Move robot forward\n",
    "\n",
    "from ev3dev2.motor import MoveSteering, OUTPUT_B, OUTPUT_C\n",
    "\n",
    "motor_pair = MoveSteering(OUTPUT_B, OUTPUT_C)\n",
    "\n",
    "# Move robot forward for 3 seconds\n",
    "motor_pair.on_for_seconds(steering=0, speed=50, seconds=3)\n",
    "<!-- #endraw -->\n",
    "\n",
    "<!-- #region -->\n",
    "TO DO - WE MAY NOT NEED THIS IF WE WORK IN THE NOTEBOOK VIA A WIDGET\n",
    "\n",
    "\n",
    "Save the programme with a meaningful file name (for example, `move_a_robot.py`) and clear the programme editor by deleting all the contents from it. If you `Run` the (non-existent) programme, the robot should not move.\n",
    "\n",
    "Load the file you saved back into the programme window, and run it again. This time the robot should move for 3 seconds again.\n",
    "\n",
    "TO DO - LINE NUMBER OPTIONS IN EDITOR?"
   ]
  },
  {
   "cell_type": "markdown",
   "metadata": {},
   "source": [
    "### Show trail mode\n",
    "\n",
    "It is possible to operate the simulated robot in ‘show trail’ or ‘pen-down’ mode. This enables you to see the path the robot follows.\n",
    "\n",
    "Check the `Show trail`  button in the simulator. Run the program again to see the robot’s trail.\n",
    "\n",
    "TO DO - keyboard shortcuts would be useful.\n",
    "\n",
    "TO DO - a simulator run status indicator would be useful."
   ]
  },
  {
   "cell_type": "markdown",
   "metadata": {},
   "source": [
    "## 2.2 The Program window"
   ]
  },
  {
   "cell_type": "markdown",
   "metadata": {},
   "source": [
    "So far we have taken a very quick look at how to download programmes from a notebook code cell and run them in the simulator."
   ]
  },
  {
   "cell_type": "markdown",
   "metadata": {},
   "source": [
    " the `Program editor` and `Simulator` windows. In RoboLab Session 2 there will be a much more detailed discussion of computer programs and the principles behind how they work, and the contents of these windows will become clearer. For now let’s look again at the `Program` window as it relates to the `Move_a_robot` program, to see the essential elements of the program and why the robot behaves as it does.\n",
    "\n",
    "If you don’t already have the `move_a_robot.py` program open, reopen it now.\n",
    "\n",
    "The `move_a_robot.py` program is displayed in the `Program` window as follows:"
   ]
  },
  {
   "cell_type": "markdown",
   "metadata": {},
   "source": [
    "```python\n",
    "# Move robot forward\n",
    "\n",
    "\n",
    "from ev3dev2.motor import MoveSteering, OUTPUT_B, OUTPUT_C\n",
    "\n",
    "motor_pair = MoveSteering(OUTPUT_B, OUTPUT_C)\n",
    "\n",
    "# Move robot forward for 3 seconds\n",
    "motor_pair.on_for_seconds(steering=0, speed=50, seconds=3)\n",
    "```\n",
    "\n",
    "The program may look a bit cryptic to start with, but it is built up from some very simple steps.\n",
    "\n",
    "The `#` character at the start of a line is a *line comment* marker that tells the simulator to ignore the rest of the line. This provides a way of putting non-program text into programs to make the program more readable. The first comment just gives a title describing the program. \n",
    "\n",
    "The next line, starting `from ev3dev2.motor import` tells the programme to *import* some items *from* the `ev3dev2.motor` Python package. The import statement commands make additional commands available to our programme that are not defined as part of the basic Python language. In this case, the items define the various motor output ports and a simple programme command that can turn the motors on for a specified time.\n",
    "\n",
    "The `OUTPUT_B` and `OUTPUT_C` items represent fixed constant identifier labels. The underlying simulator predefines these values so that they refer to the simulated motor outputs used by the simulator.\n",
    "\n",
    "The `motor_pair = MoveSteering(OUTPUT_B, OUTPUT_C)` line associates a `motor_pair`  name or label (also known as an *identifier*) with a control block that implements a steering wheel style controller (`MoveSteering`); this steering controller uses the two motors on the specified outputs to steer the robot. The controller expects two values passed to it in the form `MoveSteering(LEFT_WHEEL_OUTPUT, RIGHT_WHEEL_OUTPUT)`. These two values are then used to *configure* the output ports used by the steering block so that they can deliver power to the motors.\n",
    "\n",
    "Once configured, the `motor_pair` can be told to turn on the motors for a specified period of time (`motor_pair.on_for_seconds`).\n",
    "\n",
    "Note that you can use the underscore character as part of a name to make things clearer, but you must not use spaces or other punctuation when creating an identifier. For example, `motor_pair` can be recognised as a single name, but `motor pair` would be treated as two names (`motor` and `pair`) and result in an error. You are free to make up names as you wish as long as they meet these simple rules. However, some names are already reserved for use as program commands and you must also avoid these names. \n",
    "\n",
    "When telling the steering controller to turn on the motors for a specified time, we need to provide it with three essential pieces of information:\n",
    "\n",
    "- a `steering` value, which might be though of as a \"steering wheel\" angle in degrees for the robot; the 0 degrees angle means drive straight ahead;\n",
    "- a `speed` value, which is the speed at which the wheels turn;\n",
    "- a `seconds` duration which specifies how long the simulated motors powering the wheels should be turned on for.\n",
    "\n",
    "All three values are required to move the robot.\n",
    "\n",
    "To see all of this working, run the program again."
   ]
  }
 ],
 "metadata": {
  "jupytext": {
   "cell_metadata_filter": "-all",
   "main_language": "python",
   "notebook_metadata_filter": "-all",
   "text_representation": {
    "extension": ".md",
    "format_name": "markdown"
   }
  }
 },
 "nbformat": 4,
 "nbformat_minor": 4
}
