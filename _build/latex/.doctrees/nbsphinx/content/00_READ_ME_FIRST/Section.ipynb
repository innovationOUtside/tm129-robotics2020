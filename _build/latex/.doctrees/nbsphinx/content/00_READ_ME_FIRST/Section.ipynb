{
 "cells": [
  {
   "cell_type": "markdown",
   "metadata": {},
   "source": [
    "# Developer Notes\n",
    "\n",
    "Key things to be aware of when developing on this project.\n",
    "\n",
    "## `ev3devsim` Hacking\n",
    "\n",
    "The `ev3devsim` code runs under skulpt. To develop on the following packages:\n",
    "\n",
    "- `ev3dev2/*` packages;\n",
    "- `ev3dev2_glue.js`"
   ]
  },
  {
   "cell_type": "markdown",
   "metadata": {},
   "source": [
    "the packages new to be built into the Skulpt distribution used by `nbev3devsim`. When updating those files, you need to:\n",
    "\n",
    "- copy the updated files into a Skulpt repo `src/lib/` directory;\n",
    "- in the Skulpt repo root directory, run `npm run dist`;\n",
    "- grab the `skulpt-stdlib.js`, `skulpt.min.js` and `skulpt.min.js.map` files and copy them into `nbev3devsim/js/`."
   ]
  }
 ],
 "metadata": {
  "jupytext": {
   "cell_metadata_filter": "-all",
   "main_language": "python",
   "notebook_metadata_filter": "-all",
   "text_representation": {
    "extension": ".md",
    "format_name": "markdown"
   }
  }
 },
 "nbformat": 4,
 "nbformat_minor": 4
}
