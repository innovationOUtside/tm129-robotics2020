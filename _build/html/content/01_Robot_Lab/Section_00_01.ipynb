{
 "cells": [
  {
   "cell_type": "markdown",
   "metadata": {},
   "source": [
    "# 1 An introduction to programming robots"
   ]
  },
  {
   "cell_type": "code",
   "execution_count": null,
   "metadata": {},
   "outputs": [],
   "source": [
    "from IPython.core.display import display, HTML\n",
    "\n",
    "display(HTML(\"<style>#notebook-container { width:50% !important; float:left !important;}</style>\"))\n"
   ]
  },
  {
   "cell_type": "code",
   "execution_count": null,
   "metadata": {},
   "outputs": [],
   "source": [
    "#%pip install --upgrade git+https://github.com/innovationOUtside/nbev3devsim.git@draggable-robot"
   ]
  },
  {
   "cell_type": "markdown",
   "metadata": {},
   "source": [
    "The objective of RoboLab Session 2 is to explain the basics of robot computer programming and show you how to use some of the elementary features of the RoboLab simulator.\n",
    "\n",
    "It is assumed that you are completely new to computer programming and robotics. We’ll try to avoid jargon and go at a pace that makes it easy for you to understand what is going on."
   ]
  },
  {
   "cell_type": "markdown",
   "metadata": {},
   "source": [
    "## 1.1 Some basics of computer programming"
   ]
  },
  {
   "cell_type": "markdown",
   "metadata": {},
   "source": [
    "For beginners, computer programming can appear to be a very mysterious process. Programming a robot may seem even more daunting, but I hope to show that the basics are quite straightforward. As you saw in Robot Lab Session 1, a *computer program* is a sequence of instructions or commands, written using words, symbols and numbers.\n",
    "\n",
    "\n",
    "For example, you might want the robot to go forwards for five seconds. If we control the motors separately, this involves turning each motor on separately, waiting for 5 seconds, and then terminating the program, at which point the motors in our robot simulation are automatically switched off."
   ]
  },
  {
   "cell_type": "markdown",
   "metadata": {},
   "source": [
    "<div class='alert-warning'>The \"stop the motors at the end of the programme\" behaviour is not guaranteed in other environments used to programme either simulated or real robots. To be safe, it's often worth making sure you turn off the motors at the end of a programme so you know for sure what state they are in when the programme terminates.</div>"
   ]
  },
  {
   "cell_type": "markdown",
   "metadata": {},
   "source": [
    "In our environment, we need to:\n",
    "\n",
    "- turn each motor on with a particular *speed*, which also sets the *direction*: positive speed values are assumed to mean \"go forwards\", negative ones \"go backwards\";\n",
    "- wait for five seconds;\n",
    "- (programme ends, motors turned off automatically).\n",
    "\n",
    "This could be *coded* in RobotLab using instructions of the form:\n",
    "\n",
    "```python\n",
    "left_motor.on(SpeedPercent(50))\n",
    "right_motor.on(SpeedPercent(50))\n",
    "\n",
    "sleep(5)\n",
    "```\n",
    "\n",
    "for suitable configurations of `left_motor` and `right_motor`.\n",
    "\n",
    "Perhaps confusingly, the `sleep()` command, rather than saying \"do nothing for 5 seconds\", says \"continue to do what you're already doing for 5 seconds\". For our current example, this means \"keep your motors on and running for 5 seconds\".\n",
    "\n",
    "But how does the programme know what the `left_motor` and `right_motor` are? Our programme also requires that we have defined these items earlier in the programme using things it *does* know about. In particular, we would need to use a construction of the form:\n",
    "\n",
    "```python\n",
    "left_motor = Motor(OUTPUT_B)\n",
    "right_motor = Motor(OUTPUT_C)\n",
    "```\n",
    "\n",
    "Here, the `Motor()`, `OUTPUT_B` and `OUTPUT_C` statements, as well as the previously seen `SpeedPercent`, are provided as predefined building blocks to use in our own simulated robot control programmes.\n",
    "\n",
    "The `Motor()` element refers to programme elements elsewhere that define a `Motor` *object*. This computational object provides an abstract representation of a physical (or simulated) motor along with a set of operations or *methods* that can be enacted upon it. For example, we may turn a motor *on* in a particular *direction* and with a particular *speed* for a particular *time* or for a specified number of *rotations*. \n",
    "\n",
    "The `Motor()` object is created with an *argument* that identifies an *output port* that the physical motor in a real robot, and the simualted motor in a simulated robot, would be connected to. Output ports are used to identify power and/or control lines that a software controller can use to control the behaviour of a physical (or simuluted) device, such as a motor, LED display, or speaker. In our simulated robot case, two output ports are defined, `OUTPUT_B` and `OUTPUT_C`. By convention, we associate `OUTPUT_B` with the motor on the left hand side of the robot as it travels in a forwards direction, and `OUTPUT_C` with the right hand motor.\n",
    "\n",
    "To simplify matters, other \"higher level\" *predefined* building blocks are also provided to make writing our programmes simpler.\n",
    "\n",
    "For example, the `MoveTank` building block allows us to create a \"tank\" drive comprised of a left and right motor. We can instruct the tank drive to turn each motor on with its own specified speed and direction, and for a certain amount of time, using a single command:\n",
    "\n",
    "```python\n",
    "tank_drive = MoveTank(OUTPUT_B, OUTPUT_C)\n",
    "tank_drive.on_for_seconds(SpeedPercent(50), SpeedPercent(50), 5)\n",
    "```"
   ]
  },
  {
   "cell_type": "markdown",
   "metadata": {},
   "source": [
    "Computer code usually looks stilted like this because it has to follow very strict rules about which characters go where. Fortunately, the notebooks have some support, know as \"tab completion\", for helping you create programs without making typing mistakes. You will learn more about that as we go along.\n",
    "\n",
    "The following describes what happens when you use a notebook to program our simulated robot.\n",
    "\n",
    "First, we use some IPython \"magic\" (and yes, it really is called that!), at the start of a code cell to say that the following code should be passed to a particular instance of our simulator running in the same notebook.\n",
    "\n",
    "The magic incantation takes the form:\n",
    "\n",
    "`%%sim_magic`\n",
    "\n",
    "and it __MUST__ appear as the first line of a code cell. In the above example, `roboSim` is the name of the variable associated with our simulator instance.\n",
    "\n",
    "The rest of the code in the cell is the code that will be passed into the simulator and used to control the the simulated robot. (The same code should also work with a *real* Lego EV3 robot running the `ev3dev` operating system.)\n",
    "\n",
    "When you *Run* the code cell, the code is \"downloaded\" to the simulator *but is not executed*.\n",
    "\n",
    "To execute your programme, you need to click the *Run* button in the simulator. Once the code is \"downloaded\" from your code cell to the simulator (or — if we work out how! [This](https://github.com/ev3dev/vscode-ev3dev-browser) may provide some clues... — to a real robot), the robot is *autonomous* and runs independently of the code cell within which the program is defined. "
   ]
  },
  {
   "cell_type": "markdown",
   "metadata": {},
   "source": [
    "The following diagram tries to capture the relationship between the code as seen in a notebook magic code cell and the simulator running as a Javascript programme inside the browser Javascript environment.\n",
    "\n",
    "![A diagram showing how code wihtin a code cell can be \"downloaded\" to the nbev3devsim simulator or, in principle, downloaded to a real robot running Linux and the ev3dev-py environment. At one side is a box representing a jupyter notebook and the other side a box representing an EV3 robot. The notebook container contains a \"magic code cell\" and a separate Javascript environment. The Javascript environment contains an nbev3devsim container. An arrow is shown going from the code cell to the nbev3devsim container inside the Javascript container. Inside the EV3 robot box is a Linux container, and inside that an ev3dev container. An second arrow leads from the magic code cell inside the notebook container to the ev3dev container inside the Linux conainer inside the EV3 robot box.](../images/ev3dev-codearchitecture.png)\n",
    "\n",
    "The diagram also shows how, in principle, the *same* programme could be used to program the simulated robot *or* a real EV3 powered robot."
   ]
  },
  {
   "cell_type": "markdown",
   "metadata": {},
   "source": [
    "In the simulated robot environment, the same physical computer is being used to do several different things:\n",
    "\n",
    "1. to create and edit RobotLab programs in the Jupyter notebook or JupyterLab user interface; the Jupyter notebook interface runs in the browser, and the content of the code cells are executed inside a Python environment running on your computer.\n",
    "\n",
    "2. to execute Python code contained in a notebook code cell in a Python environment, or \"download\" code from a code cell to the simulator;\n",
    "\n",
    "3. to execute the program in a simulated robot in a Javascript environment running inside your browser.\n",
    "\n",
    "Whilst they run on the same physical computer, these programmes actually run in different computational environments on the computer. For example, the simulator is actually a Javascript programme that runs in your browser: once you click on the `Run` button, it is the simulated robot’s control system that is executing the robot program inside a Javascript environment in your browser. The code is actually sent to the simulator via a Python process when the notebook code cell is run. The IPython magic tells the Python process to grab the contents of the code cell (and depending on the magic, prefix it with additional boilerplate code), and then send that code to the simulator running as Javascript code in the browser window that contains the notebook user interface.\n",
    "\n",
    "![](../images/ev3-jupyter-arch.png)\n",
    "\n",
    "<div class='alert-warning'>Would it make sense to use another work in the simulator? \"Execute\"? \"SimRun\"?</div>"
   ]
  },
  {
   "cell_type": "markdown",
   "metadata": {},
   "source": [
    "## Getting Started With the Simulator\n",
    "\n",
    "\n",
    "The simulator we will be using must be loaded into each notebook that wants to use it once per notebook. In addition, __only one instance of the simulator per notebook is allowed__. Any more than that and things don't work at all.\n",
    "\n",
    "\n",
    "<div class='alert-danger'>I'm working on a minimum viable model at the moment, with as few instructions about workflow as I can get away with in the hope that I can iterate a few times, improve the UI, workflow etc, maybe even radically change things. A lot can happen in Jupyter land in 6-8 weeks!<br/><br/>\n",
    "The single simulator instance is becuase atm the simulator is embedded into the notebook with a hard coded HTML element id; multiple elements w/ same id break things. It may be a quick fix, it may not; if it's quick, it may be fixable over a coffee. If it's not, it could take an afternoon, and then testing time. So that's parked for now...</div>\n",
    "\n",
    "The following cell will load in the Python package that makes the simulator available, along with some IPython magic that allows us to interact with the simulator."
   ]
  },
  {
   "cell_type": "code",
   "execution_count": null,
   "metadata": {},
   "outputs": [],
   "source": [
    "from nbev3devsim import ev3devsim_nb as eds\n",
    "%load_ext nbev3devsim"
   ]
  },
  {
   "cell_type": "markdown",
   "metadata": {},
   "source": [
    "The simulator itself is created as a Jupyter widget, referenced by a variable of our choosing, in the following case, the variable `roboSim`. The `display()` command then renders the widget.\n",
    "\n",
    "Run the notebook code cell containing the lines:\n",
    "\n",
    "```pyhton\n",
    "roboSim = eds.Ev3DevWidget()\n",
    "display(roboSim)\n",
    "```\n",
    "\n",
    "to create the simulator and embed it in the notebook:"
   ]
  },
  {
   "cell_type": "code",
   "execution_count": null,
   "metadata": {},
   "outputs": [],
   "source": [
    "roboSim = eds.Ev3DevWidget()\n",
    "display(roboSim)\n",
    "roboSim.element.dialog();"
   ]
  },
  {
   "cell_type": "markdown",
   "metadata": {},
   "source": [
    "At the moment, things are a little clunky in terms of how we actually get code into the simulator and run it.\n",
    "Using the `move selected cells up` and `move selected cells down` up and down arrow buttons in the notebook toolbar, I suggest you move the simulator display so that it is *above* the code cell you are currently using to programme the robot.\n",
    "\n",
    "You can then run the notebook code cell to download the programme to the simulator, and press the simulator *Run* button to exectute the programme in the simulator and watch the result.\n"
   ]
  },
  {
   "cell_type": "markdown",
   "metadata": {},
   "source": [
    "### Error Messages in the Simulator\n",
    "\n",
    "If you make an error in a programme sent to the simulator, when you try to run the program in the simulator, a message will be displayed in the simulator console.\n",
    "\n",
    "??Missing image?\n",
    "<img src='../../images/Section_00_01_-_Jupyter_Notebook_error.png' width=500 alt='' />\n",
    "\n",
    "The line number specified will be one less than the line number displayed in the associated code cell if you enable line number display within the cell."
   ]
  },
  {
   "cell_type": "markdown",
   "metadata": {},
   "source": [
    "### Passing Code into the Simulator\n",
    "\n",
    "To write programme code that can be passed to the simulator and executed within it to control the simulated robot, "
   ]
  },
  {
   "cell_type": "code",
   "execution_count": null,
   "metadata": {},
   "outputs": [],
   "source": [
    "%%sim_magic\n",
    "print('hello world')"
   ]
  },
  {
   "cell_type": "markdown",
   "metadata": {},
   "source": [
    "## 1.2 An introduction to sequential programming"
   ]
  },
  {
   "cell_type": "markdown",
   "metadata": {},
   "source": [
    "There are various ways of programming computers to control robots. One of these is the *sequential* approach, which is the main approach used in RobotLab. This method of writing computer programs, as lists or sequences of commands, produces what are called *sequential programs*."
   ]
  },
  {
   "cell_type": "markdown",
   "metadata": {},
   "source": [
    "In the sequential program model the computer executes commands in sequence.\n",
    "\n",
    "\n",
    "__TO DO: we can just do sequential here using notebook code cells, then introduce the simulator later?__"
   ]
  },
  {
   "cell_type": "markdown",
   "metadata": {},
   "source": [
    "The programme is structured in a particular way that allows the programme to operate correctly (a *necessary* requirement) as well as making it \"readable\" (a *desirable* requirement).\n",
    "\n",
    "In terms of correctness, the programme requires that we define things within our programme before we try to call on them and make use of them within our programme.\n",
    "\n",
    "One way of defining things is to *import* them from a Python package. A package is essentially a collection of predefined programme elements that are useful for a particular programming task.\n",
    "\n",
    "```python\n",
    "# Import statements\n",
    "from ev3dev2.motor import Motor, SpeedPercent, OUTPUT_B, OUTPUT_C\n",
    "import time\n",
    "\n",
    "# Definitions\n",
    "left_motor = Motor(OUTPUT_B)\n",
    "right_motor = Motor(OUTPUT_C)\n",
    "\n",
    "# Programme actions\n",
    "left_motor.on(SpeedPercent(75))\n",
    "right_motor.on(SpeedPercent(75))\n",
    "\n",
    "# Wait here for 1 second...\n",
    "time.sleep(1)\n",
    "\n",
    "# Programme ends\n",
    "```\n",
    "\n",
    "Lines prefixed by a `#` are *comments* that are not executed as programme code but are intended as notes to human readers that can be used to help make a programme more readable."
   ]
  },
  {
   "cell_type": "markdown",
   "metadata": {},
   "source": [
    "The following programme turns the left and right motors on at three quarters of their full speed, waits for a short period (1 second), then the programe ends and the motors are automatically switched off."
   ]
  },
  {
   "cell_type": "code",
   "execution_count": null,
   "metadata": {},
   "outputs": [],
   "source": [
    "%%sim_magic\n",
    "\n",
    "# Import statements\n",
    "from ev3dev2.motor import Motor, SpeedPercent, OUTPUT_B, OUTPUT_C\n",
    "import time\n",
    "\n",
    "# Definitions\n",
    "left_motor = Motor(OUTPUT_B)\n",
    "right_motor = Motor(OUTPUT_C)\n",
    "\n",
    "# Programme actions\n",
    "left_motor.on(SpeedPercent(75))\n",
    "right_motor.on(SpeedPercent(75))\n",
    "\n",
    "# Wait here for 1 second...\n",
    "time.sleep(1)\n",
    "\n",
    "# Programme ends"
   ]
  },
  {
   "cell_type": "markdown",
   "metadata": {},
   "source": [
    "*Run the above code cell to download the code to the simulator, and then run the programme using the simulator interface.*\n",
    "\n",
    "When you run the programme in the simulator, the robot should move forwards quickly for one second and then stop. Try increasing the \"sleep\" time in seconds, re-run the code code cell to download the programme to the simulator, and then re-run it in the simulator. Does the robot behave as you expect? What happens if you also change the `SpeedPercent(VALUE)`, where `VALUE` is a numerical value that can range from `-100` to `100`?"
   ]
  },
  {
   "cell_type": "markdown",
   "metadata": {},
   "source": [
    "### Using Predefined Code Building Blocks\n",
    "\n",
    "Writing programmes at such a low level is possible, but we often find it more convenient to programme at a higher level of abstraction. In the following example, we can configure and use a predefined motor drive that allows us to control both motors from a single command.\n",
    "\n",
    "In particular, the ` MoveTank()` function from the `ev3dev3.motor` Python package allows us to define a simple tank drive composed of two motors, one on the left hand side of the robot on one on the right hand side. The configuration associates a controllable motor output with a particular motor.\n",
    "\n",
    "```python\n",
    "tank_drive = MoveTank(OUTPUT_B, OUTPUT_C)\n",
    "```\n",
    "\n",
    "The tank drive is used to power two motors simultaneously in various ways. For example, we can turn the motors on at a desired speed:\n",
    "\n",
    "```python\n",
    "tank_drive.on(LEFT_SPEED, RIGHT_SPEED)\n",
    "```\n",
    "\n",
    "We can also turn the motors on for a specified time and then automatically turn them off at the end of that period:\n",
    "\n",
    "```python\n",
    "tank_drive.on_for_seconds(LEFT_SPEED, RIGHT_SPEED, TIME)\n",
    "```\n",
    "\n",
    "The following example shows how we can drive the tank:\n",
    "\n",
    "- *forwards* in a straight line (both motors at the same speed) for a specified time using the tank drive;\n",
    "- *turn on the spot* for the same period (one motor forwards, the other backwards, at the same speed); and then\n",
    "- *reverse* in a straight line for the same period of time (both motors backwards at the same speed.\n",
    "\n",
    "*Run the following code cell to download the program to the simulator and then run the programme in the simulator:*"
   ]
  },
  {
   "cell_type": "code",
   "execution_count": null,
   "metadata": {},
   "outputs": [],
   "source": [
    "%%sim_magic_preloaded\n",
    "\n",
    "from ev3dev2.motor import MoveTank, SpeedPercent, OUTPUT_B, OUTPUT_C\n",
    "\n",
    "# Sequential program\n",
    "\n",
    "tank_drive = MoveTank(OUTPUT_B, OUTPUT_C)\n",
    "\n",
    "time_1s = 1\n",
    "\n",
    "# Go forwards...\n",
    "# Set the left and right motors in a forward direction at the same speed\n",
    "# and run for 1 second\n",
    "tank_drive.on_for_seconds(SpeedPercent(50), SpeedPercent(50), time_1s)\n",
    "\n",
    "\n",
    "# Turn on the spot...\n",
    "# Set the left motor forwards and the right motor backwards\n",
    "# and run for 1 second\n",
    "tank_drive.on_for_seconds(SpeedPercent(50), SpeedPercent(-50), time_1s)\n",
    "\n",
    "\n",
    "# Go backwards...\n",
    "# Set the left and right motors in a backwards direction at the same speed\n",
    "# and run for 1 second\n",
    "tank_drive.on_for_seconds(SpeedPercent(-50), SpeedPercent(-50), time_1s)"
   ]
  },
  {
   "cell_type": "markdown",
   "metadata": {},
   "source": [
    "### Activity - Driving the Motors at Different Speeds\n",
    "\n",
    "What happens if the motors are turning in the same direction but at different speeds? Explore this situation by running the followng code cell, using different motorspeed values, to the simulator and running the code there.\n",
    "\n",
    "What happens if the motors turn in *different* directions? Is the behaviour as you'd expect?\n",
    "\n",
    "Check the *pen down* checkbox so that you can see the trace of where the robot has been.\n",
    "\n",
    "*Note that the simulated robot may not behave as a real robot would. It all depends on how well the simulated robot and the simulator physics have been implemented.*\n",
    "\n",
    "\n",
    "*Run the following code cell to download the program to the simulator and then run the programme in the simulator. Experiment using different values for the motor speeds. To compare different configurations, use the pen down control to leave a trace showing where the robot hos been and the Move position reset button to reset the starting position of the robot between each run. Remember to download updated configurations to the simulator by running the updated code cell before re-running the programme in the simulator.*"
   ]
  },
  {
   "cell_type": "code",
   "execution_count": null,
   "metadata": {},
   "outputs": [],
   "source": [
    "%%sim_magic\n",
    "from ev3dev2.motor import MoveTank, SpeedPercent, OUTPUT_B, OUTPUT_C\n",
    "\n",
    "# Try motors with difference speeds\n",
    "\n",
    "tank_drive = MoveTank(OUTPUT_B, OUTPUT_C)\n",
    "\n",
    "TIME_IN_S = 5\n",
    "\n",
    "LEFT_MOTOR_SPEED_PC = -50\n",
    "RIGHT_MOTOR_SPEED_PC = -50\n",
    "\n",
    "tank_drive.on_for_rotations(SpeedPercent(LEFT_MOTOR_SPEED_PC),\n",
    "                          SpeedPercent(RIGHT_MOTOR_SPEED_PC),\n",
    "                          TIME_IN_S)"
   ]
  },
  {
   "cell_type": "markdown",
   "metadata": {},
   "source": [
    "#### Answer\n",
    "\n",
    "*Click the arrow in the sidebar to reveal the answer.*"
   ]
  },
  {
   "cell_type": "markdown",
   "metadata": {},
   "source": [
    "With both motor speeds set in the forward direction, if the left motor speed is slightly faster than the right motor speed, then the robot curves towards the right; if the right motor is slightly faster than the left motor, the robot curves to the left. The greater difference between the speeds, the tighter the curve.\n",
    "\n",
    "If one of the motors is set at a forward speed and one is in reverse, the robot turns in a tight circle centred on the reverse turning wheel.\n",
    "\n",
    "If both motors are are going backwards (negative speed), then wuth the `.on_for_seconds()` command, the robot does not move. This seems to be an issue with the simulator."
   ]
  },
  {
   "cell_type": "markdown",
   "metadata": {},
   "source": [
    "### Turning the Motors on for a Specified Number of Wheel Rotations\n",
    "\n",
    "As well as turning the motors on for a specified period of time, we can also turn them on for a specified number of rotations of the wheels:\n",
    "\n",
    "```python\n",
    "tank_drive.on_for_rotations(LEFT_SPEED, RIGHT_SPEED, ROTATIONS)\n",
    "```\n",
    "\n",
    "This is easy to imagine for the case where the wheels are turning at the same speed, but if one wheel turns faster than the other, the robot will follow a curving path and the ooutside wheel will travel further than the inside wheel (assuming that the inside wheel doesnlt slip).\n",
    "\n",
    "*TO DO -  we could have a diagram here showing a robot driving round a circle; the circumference of the locus followed by the outer wheel wheel will be shorter than that of the inner wheel making it clear that if the wheels are the same size, the outer one must rotate more than the inner one.*\n",
    "\n",
    "From [the documentation](https://ev3dev-lang.readthedocs.io/projects/python-ev3dev/en/stable/motors.html#ev3dev2.motor.MoveTank.on_for_rotations), *'if the left speed is not equal to the right speed (i.e., the robot will turn), the motor on the outside of the turn will rotate for the full rotations while the motor on the inside will have its requested distance calculated according to the expected turn.'*\n",
    "\n",
    "The following code cell provides code for exploring the use of the `.on_for_rotations()` command.\n",
    "\n",
    "\n",
    "*Run the following code cell to download the program to the simulator and then run the programme in the simulator. Experiment using different values for the motor speeds and number of rotations. To compare different configutations, use the pen down control to leave a trace showing where the robot hos been and the Move position reset button to reset the starting position of the robot between each run. Remember to download updated configurations to the simulator by running the updated code cell before re-running the programme in the simulator.*"
   ]
  },
  {
   "cell_type": "code",
   "execution_count": null,
   "metadata": {},
   "outputs": [],
   "source": [
    "%%sim_magic\n",
    "from ev3dev2.motor import MoveTank, MoveSteering, SpeedPercent, OUTPUT_B, OUTPUT_C\n",
    "\n",
    "tank_drive = MoveTank(OUTPUT_B, OUTPUT_C)\n",
    "\n",
    "LEFT_MOTOR_SPEED = SpeedPercent(50)\n",
    "RIGHT_MOTOR_SPEED = SpeedPercent(55)\n",
    "\n",
    "ROTATIONS = 4\n",
    "\n",
    "tank_drive.on_for_seconds(LEFT_MOTOR_SPEED, RIGHT_MOTOR_SPEED, ROTATIONS)\n"
   ]
  },
  {
   "cell_type": "markdown",
   "metadata": {},
   "source": [
    "Compared to the `.on_for_seconds()` command, the `.on_for_rotations()` command is capable of going backwards!"
   ]
  },
  {
   "cell_type": "markdown",
   "metadata": {},
   "source": [
    "*TO DO - we could make that an activity and have an example of annotated screengrab of the simulator showing different traces.*"
   ]
  },
  {
   "cell_type": "markdown",
   "metadata": {},
   "source": [
    "### Steering the Robot — `MoveSteering`\n",
    "\n",
    "As well as the `MoveTank()` configuration, a `MoveSteering()` configuration is also available that again is based on the presence of two motors connected to the same controllable outputs:\n",
    "\n",
    "\n",
    "```python\n",
    "tank_turn = MoveSteering(OUTPUT_B, OUTPUT_C)\n",
    "```\n",
    "\n",
    "The `MoveSteering()` configuration again drives both motors simutaneously, although this time at the same speed but in different directions.\n",
    "\n",
    "To turn the robot, we use the command:\n",
    "\n",
    "```python\n",
    "tank_turn.on(STEERING, SPEED)\n",
    "```\n",
    "\n",
    "where `STEERING`steering is a numerical value between `-100` and `100` and where:\n",
    "\n",
    "- `-100` means turn left on the spot (right motor at 100% forward, left motor at 100% backward);\n",
    "- `0` means drive in a straight line, and\n",
    "- `100` means turn right on the spot (left motor at 100% forward, right motor at 100% backward).\n",
    "\n",
    "\n",
    "As well as turning the steering drive on, we can turn it on for a specified time using `.on_for_seconds(STEERING, SPEED, TIME)` as in the case of the tank drive.\n",
    "\n",
    "The following programme gives a simple example of how to turn the robot using the `MoveSteering()` motor configuration.\n",
    "\n",
    "*Run the following code cell to download the program to the simulator and then run the programme in the simulator. Experiment with various settings for the s*"
   ]
  },
  {
   "cell_type": "markdown",
   "metadata": {},
   "source": [
    "*TO DO - it would perhaps be interesting to have a simple simulator view, cf. a [remote control](https://github.com/innovationOUtside/nbev3devsim/issues/39), where we can turn the motors on or off, select a motor group, and set the motor speeds, steering degree etc. Maybe do this with a magic that has a couple of ipywidgets that send realtime updates to a free running simulator?*"
   ]
  },
  {
   "cell_type": "markdown",
   "metadata": {},
   "source": [
    "Alternatively, we can turn the steering drive on for a specified number of rotations of one of the wheels:\n",
    "\n",
    "```python\n",
    "on_for_rotations(STEERING, SPEED, ROTATIONS)\n",
    "```\n",
    "\n",
    "Running the following code cell provides a demonstration:"
   ]
  },
  {
   "cell_type": "code",
   "execution_count": null,
   "metadata": {},
   "outputs": [],
   "source": [
    "%%sim_magic\n",
    "from ev3dev2.motor import MoveTank, MoveSteering, SpeedPercent \n",
    "from ev3dev2.motor import OUTPUT_B, OUTPUT_C\n",
    "\n",
    "tank_drive = MoveTank(OUTPUT_B, OUTPUT_C)\n",
    "\n",
    "# the first two parameters can be unit classes or percentages.\n",
    "tank_drive.on_for_rotations(SpeedPercent(50), SpeedPercent(50), 4)\n",
    "\n",
    "# drive in a turn for 2 rotations of the outer motor\n",
    "tank_turn = MoveSteering(OUTPUT_B, OUTPUT_C)\n",
    "\n",
    "tank_turn.on_for_rotations(-100, SpeedPercent(75), 2)"
   ]
  },
  {
   "cell_type": "markdown",
   "metadata": {},
   "source": [
    "<!--ITQ-->\n",
    "\n",
    "#### Question\n",
    "\n",
    "If a simulated robot starts pointing towards the top of the screen, will it turn towards the right or left while executing the sequence of commands shown in the code cell below?\n",
    "\n",
    "*Before* you run the code, make a prediction about what you thing the robot will do when the code is executed by the simulated robot."
   ]
  },
  {
   "cell_type": "markdown",
   "metadata": {},
   "source": [
    "If a simulated robot starts pointing towards the right hand side of the screen, will it turn towards the top or bottom of the screen while executing the same sequence of commands?"
   ]
  },
  {
   "cell_type": "markdown",
   "metadata": {},
   "source": [
    "__DOUBLE CLICK THIS CELL TO EDIT IT.__\n",
    "\n",
    "*When the following code is executed by the robot simulator, I predict ...__YOUR ANSWER HERE__... .*"
   ]
  },
  {
   "cell_type": "code",
   "execution_count": null,
   "metadata": {},
   "outputs": [],
   "source": [
    "%%sim_magic\n",
    "from ev3dev2.motor import MoveTank, MoveSteering, SpeedPercent, OUTPUT_B, OUTPUT_C\n",
    "\n",
    "tank_drive = MoveTank(OUTPUT_B, OUTPUT_C)\n",
    "\n",
    "time_1s = 1\n",
    "\n",
    "# Set the left and right motors in a forward direction\n",
    "# and run for 1 second\n",
    "tank_drive.on_for_seconds(SpeedPercent(50), SpeedPercent(50), time_1s)\n",
    "\n",
    "\n",
    "# Set the left motor forwards and the right motor backwards\n",
    "# and run for 1 second\n",
    "tank_drive.on_for_seconds(SpeedPercent(50), SpeedPercent(-50), time_1s)"
   ]
  },
  {
   "cell_type": "markdown",
   "metadata": {},
   "source": [
    "#### Answer\n",
    "\n",
    "Open and run `Sequence` to see what happens.\n",
    "<!--ENDITQ-->\n",
    "The first two commands in `Sequence` move the robot forwards for one second (Figure 1.3a). The next two commands turn the robot towards the right (the left wheel goes forwards and the right wheel goes backwards) for one second (Figure 1.3b). The combined result is that the robot goes forwards for one second and turns for one second (Figure 1.3c)."
   ]
  },
  {
   "cell_type": "markdown",
   "metadata": {},
   "source": [
    "![figure ../images/tm129_rob_p2_f007.jpg](../images/tm129_rob_p2_f007.jpg)"
   ]
  },
  {
   "cell_type": "markdown",
   "metadata": {},
   "source": [
    "Figure 1.3 Movements of the simulated robot in `Sequence`"
   ]
  },
  {
   "cell_type": "markdown",
   "metadata": {},
   "source": [
    "Diagrams representing different movements of a differentially steered two-wheel robot by drawing its initial and final position. (a) Forward (line 10): the robot moves straight ahead a short distance and stops without turning. (b) Turn (line 15): the robot initially points forward and then turns well short of a right angle, on the spot, clockwise. (c) Forward and turn (statements 1, 2, 3 and 4): the robot starts, drives forward a short distance and then turns on the spot through a right-angle clockwise.\n",
    "\n",
    "When trying to understand, or write your own, robot programs, it can be helpful to ‘play robot’. This means that you put yourself in the place of the robot and act out (or at least imagine) what you or the robot would do when executing each statement of the program. If you have the help of a friend, get them to read out the program statements to you one at a time. "
   ]
  },
  {
   "cell_type": "markdown",
   "metadata": {},
   "source": [
    "The trace left as the robot turns on the spot does not appear to be center simulated robot doesn't turn exactly on the spot because the robot is turning about one of the wheels."
   ]
  },
  {
   "cell_type": "markdown",
   "metadata": {},
   "source": [
    "## 1.3 Writing Programs for Use in the RoboLab Simulator\n",
    "\n",
    "Once the simulator has been loaded and displayed in a notebook, you can start to write programmes that will run on the simulated robot.\n",
    "\n",
    "The programmes are written __in a single code cell__ prefixed with the magic incantation `%%sim_magic roboSim` on __the first line__ of the code cell.\n",
    "\n",
    "Running the code cell \"downloads\" the programme from the cell to the simulated robot. Pressing the run button in the simulated robot will then execute the downloaded robot programme within the simulator.\n",
    "\n",
    "\n",
    "*TO DO - need some sort of help or lookup for simulator programme commands.*"
   ]
  },
  {
   "cell_type": "markdown",
   "metadata": {},
   "source": [
    "## NN TO DO  Activity: Creating and editing your own programs"
   ]
  },
  {
   "cell_type": "markdown",
   "metadata": {},
   "source": [
    "In the next few activities you are going to learn how to use RobotLab to construct a computer program that will move a simulated robot around a square course. You should try to work through the instructions carefully and slowly. It is important that you complete each step successfully before moving on to the next. We have allowed two hours for this, although you may be able to complete the exercise in less time if you have some experience of computer programming.\n",
    "\n",
    "If you run the following programme in the simulator, you will find that it drives the robot forward a short way and then turns on the spot for more than a right angle (ninety degrees).\n",
    "\n",
    "*TO DO - simple diagram showing angles and their names, eg ninety degrees.*"
   ]
  },
  {
   "cell_type": "code",
   "execution_count": null,
   "metadata": {},
   "outputs": [],
   "source": [
    "%%sim_magic_preloaded\n",
    "\n",
    "# Set the left and right motors in a forward direction\n",
    "# and run for 1 rotation\n",
    "tank_drive.on_for_rotations(SpeedPercent(50), SpeedPercent(50), 1)\n",
    "\n",
    "\n",
    "# Set the robot to turn on the spot\n",
    "# and run for 1 rotation *of the wheels*\n",
    "tank_turn.on_for_rotations(-100, SpeedPercent(75), 1)"
   ]
  },
  {
   "cell_type": "markdown",
   "metadata": {},
   "source": [
    "### Copying and Modifying a program\n",
    "\n",
    "We can edit a code cell directly to add additional lines to it, or we may want to retain our original code (for reference) and create a new programme based on an earlier one.\n",
    "\n",
    "We can grab a copy of a code cell by:\n",
    "\n",
    "- clicking on it to select it;\n",
    "- clicking the *copy selected cells* button in the toolbar;\n",
    "- clicking the *paste cells below* toolbar button to place a copy of the cell in a new cell;\n",
    "- select the new cell and use the arrow keys to move it to a locaiton of your choosing.\n",
    "\n",
    "Select the code cell above by clicking on it, use the tool bar button to copy it, single click on this markdown cell to provide the current location, then click on the toolbar paste button to copy the code cell below this one.\n",
    "\n",
    "Modify the programme in your newly created cell so that the robot turns through a right angle (or as close as you can get it without spending too much time!). Test your code by runn the code cell to download the code to the simulator, and then run it in the simulator.\n",
    "\n",
    "You may find that using the pen trace helps you see how far the robot has turned."
   ]
  },
  {
   "cell_type": "code",
   "execution_count": null,
   "metadata": {},
   "outputs": [],
   "source": [
    "%%sim_magic_preloaded\n",
    "\n",
    "# Set the left and right motors in a forward direction\n",
    "# and run for 1 rotation\n",
    "tank_drive.on_for_rotations(SpeedPercent(50), SpeedPercent(50), 1)\n",
    "\n",
    "\n",
    "# Set the robot to turn on the spot\n",
    "# and run for 1 rotation *of the wheels*\n",
    "tank_turn.on_for_rotations(-100, SpeedPercent(75), 1)"
   ]
  },
  {
   "cell_type": "markdown",
   "metadata": {},
   "source": [
    "#### My Attempt\n",
    "\n",
    "*Click the arrow in the sidebar to reveal the settings I used.*"
   ]
  },
  {
   "cell_type": "code",
   "execution_count": null,
   "metadata": {},
   "outputs": [],
   "source": [
    "%%sim_magic_preloaded\n",
    "\n",
    "# Set the left and right motors in a forward direction\n",
    "# and run for 1 rotation\n",
    "tank_drive.on_for_rotations(SpeedPercent(50), SpeedPercent(50), 1)\n",
    "\n",
    "\n",
    "# Set the robot to turn on the spot\n",
    "# and run for 1 rotation *of the wheels*\n",
    "tank_turn.on_for_rotations(-100, SpeedPercent(75), 0.846)\n"
   ]
  },
  {
   "cell_type": "markdown",
   "metadata": {},
   "source": [
    "On my computer, I found I could turn the robot through about ninety degrees by setting the number of wheel rotations on the turn step to between 0.85 and 0.9."
   ]
  },
  {
   "cell_type": "markdown",
   "metadata": {},
   "source": [
    "### Copying Code Using Keyboard shortcut commands\n",
    "\n",
    "You can also use the `ESC-C` keyboard shortcut to copy a selected cell and `ESC-V` to paste a copied cell immediately below the currently selected cell.\n",
    "\n",
    "Alternatively, you can highlight and select code *within* a code cell and then use the keyboard copy and paste commands to copy the code from the original cell, create a new code cell, then paste the copied code into the new code cell."
   ]
  },
  {
   "cell_type": "markdown",
   "metadata": {},
   "source": [
    "### Deleting Cells\n",
    "\n",
    "Sometimes, you may find you want to delete a code or markdown cell.\n",
    "\n",
    "To delete a cell, click on it to select it and then click the scissors / *cut selected cells* toolbar button."
   ]
  },
  {
   "cell_type": "markdown",
   "metadata": {},
   "source": [
    "### Deleting and moving lines of code in a code cell\n",
    "To delete one of more particular lines of code in a code cell, highlight just that line or lines of code and use the keyboard delete key to delete them.\n",
    "\n",
    "To move one or more lines of code in a code cell, highlight them to select them, cut them using your normal keyboard cut command (for example, `ctrl-x` or `cmd-x`), place the cursor where you want them to go, and paste them using your normal keyboard paste command (for example, `ctrl-v` or `cmd-v`)."
   ]
  },
  {
   "cell_type": "markdown",
   "metadata": {},
   "source": [
    "## 1.5 Activity: Working with comments"
   ]
  },
  {
   "cell_type": "markdown",
   "metadata": {},
   "source": [
    "In a computer programme, a *comment* refers to a line of explanatory text that is not executed when the programme runs. As such, it does not have to conform to the syntax of the programming language once it has be identified as a comment.\n",
    "\n",
    "In a Python programme, a comment is identified by prefixing a line of text or a line of code with a `#` (a \"hash\", or in US English, \"pound\") character.\n",
    "\n",
    "```python\n",
    "# A Python comment line is prefixed by a # (hash) character\n",
    "```\n",
    "\n",
    "If you run the following code cell, the contents of which should look like this:\n",
    "\n",
    "```python\n",
    "# This is a comment\n",
    "\n",
    "print('Hello')\n",
    "\n",
    "#print(\"Commented out code lines are not executed.\")\n",
    "```\n",
    "\n",
    "you will see that the first commented out line is ignored, the second line prints out the word `Hello`, and the third line is also ignored."
   ]
  },
  {
   "cell_type": "code",
   "execution_count": null,
   "metadata": {},
   "outputs": [],
   "source": [
    "# This is a comment\n",
    "\n",
    "print('Hello')\n",
    "\n",
    "#print(\"Commented out code lines are not executed.\")"
   ]
  },
  {
   "cell_type": "markdown",
   "metadata": {},
   "source": [
    "*Uncommenting* a line refers to removing the initial character that identifies the line as a comment line.\n",
    "\n",
    "__DO__: *un*comment the second print statement in the code cell above by deleting the `#` character in from of it, and rerun the code cell. You should see that both messages are displayed."
   ]
  },
  {
   "cell_type": "markdown",
   "metadata": {},
   "source": [
    "If a comment line would work in uncommented form as a line of code, rather than being a more general line of human readable text, it will often be referred to as being \"commented out\".\n",
    "\n",
    "If you hear the phrase \"comment out that line\", it thus refers to leaving the line in the programme, but prefixing it with the comment character so that the line is not exectuted when the programme is run.\n",
    "\n",
    "__DO__: comment out the first print statement in the code cell above by prefixing it with the `#` comment character and rerun the cell. This time you should only see the second print message being displayed.\n",
    "\n",
    "__DO__: finally, uncomment the first (text comment) line in the code cell above and run the cell. This time, an error will be thrown because the first line is *not* a valid line of Python code."
   ]
  },
  {
   "cell_type": "markdown",
   "metadata": {},
   "source": [
    "### Using Comments\n",
    "\n",
    "Comments of often used to document particular lines of code to clarify or explain their role in a program. It is good practice to keep comments as meaningful as possible."
   ]
  },
  {
   "cell_type": "markdown",
   "metadata": {},
   "source": [
    "### Block Comments\n",
    "\n",
    "The phrase *block comment*, or the plural *comments*, is taken to refer to continous explanatory comment text that extends over several lines."
   ]
  },
  {
   "cell_type": "code",
   "execution_count": null,
   "metadata": {},
   "outputs": [],
   "source": [
    "# Multiple consecutive lines of comments are often referred to\n",
    "# as \"block comments\".\n",
    "#\n",
    "# The syntax of some programming languages allows block comments to be defined\n",
    "# simply by using special character sequences at the start and end of the comment block.\n",
    "#\n",
    "# In Python, one widely used convention is to delimit each line as its own comment line.\n",
    "\n",
    "'''\n",
    "Multi-line text strings can also be used as a way of \"escaping\" lines of text\n",
    "so that it is not executed. \n",
    "\n",
    "Such strings are identified by using three single (or double) quotes at the start of the\n",
    "text string, and three matching single (or double) quotes at the end of the string.\n",
    "\n",
    "If a text string appears as the last item in a Jupyter notebook code cell,\n",
    "it will be returned and displayed as the cell output if the cell is run.\n",
    "\n",
    "Run this code cell to see what I mean...\n",
    "'''"
   ]
  },
  {
   "cell_type": "markdown",
   "metadata": {},
   "source": [
    "### Using comments in other ways\n",
    "\n",
    "As well as being used to annotate a program with helpful information, comments can also be used to provide visual clues to the division of lines or chunks of code. For example, you might use a comment to identify separate sections of programme from each other. This technique can be used to make your programs easier to read."
   ]
  },
  {
   "cell_type": "markdown",
   "metadata": {},
   "source": [
    "### Using Notebook Markdown Cells to Narrate a Programme Code and Programme Development\n",
    "\n",
    "As well as commenting code within a code cell, you can also make notes in a Jupyter notebook's markdown cells. For example, you might use markdown cells:\n",
    "\n",
    "- to describe what you aim to achieve with the code in a following code cell;\n",
    "- to describe the output produced by running a prior code cell;\n",
    "- to reflect on the behaviour of a code executed in a prior code cell, for example, if it does not work as expected.\n",
    "\n",
    "Remember, the *notebooks are yours*, so use them for making your own notes as you work through them."
   ]
  },
  {
   "cell_type": "markdown",
   "metadata": {},
   "source": [
    "### Saving a RoboLab program\n",
    "\n",
    "When writing notebooks it is good practice to save them periodically.\n",
    "\n",
    "Notebooks are typically saved with the `.ipynb` filetype suffix. The name of the file is taken from the name set in the notebook header. (You can change the notebook name by clicking on the notebook name, which will pop up a *Rename notebook* dialogue.\n",
    "\n",
    "<img src=\"../images/Section_00_01_-_Jupyter_Notebook_rename.png\" width=600 />\n",
    "\n",
    "\n",
    "When you make changes to a notebook, either by editing a code or markdown cell, or by running one or more code cells, you may notice that an `(unsaved changes)` message appears at the top of the notebook\n",
    "\n",
    "<img src=\"../images/Section_00_01_-_unsaved changes.png\" width=600 />\n",
    "\n",
    "The notebook will be automatically saved every minute or two. When it is autosaved saved, the status will change:\n",
    "\n",
    "<img src=\"../images/Section_00_01_-_autosaved.png\" width=600 />\n",
    "\n",
    "You can also do a \"hard save\" of your notebook by clicking on the *Save and checkpoint* notebook toolbar button or, from the *File* menu, seleting @Save and checkpoint*. You can also save the notebook to a new file name from the *File -> Save As...* menu option. The *File -> Make a Copy* option will create a copy of the current notebook.\n",
    "\n",
    "<img src=\"../images/Section_00_01_-checkpointed.png\" width=600 />\n",
    "\n",
    "Checkpoints are useful because they not only autosave the notebook to the current file, but they also save a hidden copy of the notebook in a checkpoints directory. The *File -> Revert to Checkpoint* menu option allows you to reload the previously checkpointed notebook. This is handy if you have made some changes to your notebook, those changes have been autosaved, and you find you want to revert to the previous version of the notebook where you made a conscious decision to save and checkpoint it.\n",
    "\n",
    "It's not uncommon to see that you have been working on a noebook for quite some time since consciously saving it!\n",
    "\n",
    "<img src=\"../images/Section_00_01_-_checkpoint.png\" width=600 />\n"
   ]
  },
  {
   "cell_type": "markdown",
   "metadata": {},
   "source": [
    "## 1.6 Activity: Completing the square"
   ]
  },
  {
   "cell_type": "markdown",
   "metadata": {},
   "source": [
    "In this activity, you need to have the program you worked with in the previous activity already open in RoboLab. If you don’t, open it now by running the code cell that contains the simulator and simulator magic import commands:\n",
    "\n",
    "```python\n",
    "from nbev3devsim import ev3devsim_nb as eds\n",
    "%load_ext nbev3devsim\n",
    "```\n",
    "\n",
    "and the command to create and display the simulator widget:\n",
    "\n",
    "```python\n",
    "roboSim = eds.Ev3DevWidget()\n",
    "display(roboSim)\n",
    "```\n",
    "\n",
    "\n",
    "*TO DO - are we going to have a simulator button in the toolbar?*"
   ]
  },
  {
   "cell_type": "markdown",
   "metadata": {},
   "source": [
    "Make a copy of the earlier code cell in which you programmed the robot to draw one edge of a square and then turn through a right angle and paste it below:"
   ]
  },
  {
   "cell_type": "markdown",
   "metadata": {},
   "source": [
    "---\n",
    "\n",
    "In the new code cell, copy the lines of code to drive the robot forward and turn through ninety degrees, and paste the copy below the original lines.\n",
    "\n",
    "What do you think your programme will do now?\n",
    "\n",
    "Run the programme in the sinulator to find out.\n",
    "\n",
    "*Note that copying and pasting code is a tried and trusted technique. Do not be averse to reusing any code your have developed previously and that behaves as you expect.*"
   ]
  },
  {
   "cell_type": "markdown",
   "metadata": {},
   "source": [
    "#### My Observations"
   ]
  },
  {
   "cell_type": "markdown",
   "metadata": {},
   "source": [
    "When I ran my version of the programme (see below) the robot drew two sides of a square as an L shape and had made the turn ready to start a third edge."
   ]
  },
  {
   "cell_type": "code",
   "execution_count": null,
   "metadata": {},
   "outputs": [],
   "source": [
    "%%sim_magic_preloaded\n",
    "\n",
    "# Draw a square\n",
    "\n",
    "\n",
    "# First edge and turn\n",
    "\n",
    "# Set the left and right motors in a forward direction\n",
    "# and run for 1 rotation\n",
    "tank_drive.on_for_rotations(SpeedPercent(50), SpeedPercent(50), 1)\n",
    "\n",
    "# Set the robot to turn on the spot\n",
    "# and run for 1 rotation *of the wheels*\n",
    "tank_turn.on_for_rotations(-100, SpeedPercent(75), 0.846)\n",
    "\n",
    "\n",
    "\n",
    "# Second edge and turn\n",
    "\n",
    "# Set the left and right motors in a forward direction\n",
    "# and run for 1 rotation\n",
    "tank_drive.on_for_rotations(SpeedPercent(50), SpeedPercent(50), 1)\n",
    "\n",
    "\n",
    "# Set the robot to turn on the spot\n",
    "# and run for 1 rotation *of the wheels*\n",
    "tank_turn.on_for_rotations(-100, SpeedPercent(75), 0.846)"
   ]
  },
  {
   "cell_type": "markdown",
   "metadata": {},
   "source": [
    "### Extending your programme further\n",
    "\n",
    "Now extend your programme further so that the robot draws all four sides of a square.\n",
    "\n",
    "(Either modify your programme in an earlier code cell, or make a copy of the earlier code cell, paste it here, and work in the newly copied cell: your notebook, your rules...!)\n",
    "\n",
    "What do you notice about the programme? If you want to change the size of the square's side length, for example, or modify the angle turned by the robot, how easy is it to modifiy your programme? "
   ]
  },
  {
   "cell_type": "markdown",
   "metadata": {},
   "source": [
    "Run your program several times, with the pen down and without clearing the trace between runs. Note how any errors compound as you run the programme multiple times.\n",
    "\n",
    "You may notice that it is easier to \"tune\" the value of the rotation count required to turn the robot through ninety degrees when the robot turns mutliple times, becuase it is easier to see where, and by how much, the turn undershoots or overshoots the right angle.\n",
    "\n",
    "Increasing the length of the side of the square can also help reveal when the angle is slightly off the right angle."
   ]
  },
  {
   "cell_type": "markdown",
   "metadata": {},
   "source": [
    "#### My Observations"
   ]
  },
  {
   "cell_type": "markdown",
   "metadata": {},
   "source": [
    "Here is my programme. On multiple runs, it seems to overshoot the turn slightly."
   ]
  },
  {
   "cell_type": "code",
   "execution_count": null,
   "metadata": {},
   "outputs": [],
   "source": [
    "%%sim_magic_preloaded\n",
    "\n",
    "# Draw a square\n",
    "\n",
    "\n",
    "# First edge and turn\n",
    "\n",
    "# Set the left and right motors in a forward direction\n",
    "# and run for 1 rotation\n",
    "tank_drive.on_for_rotations(SpeedPercent(50), SpeedPercent(50), 1)\n",
    "\n",
    "# Set the robot to turn on the spot\n",
    "# and run for 1 rotation *of the wheels*\n",
    "tank_turn.on_for_rotations(-100, SpeedPercent(75), 0.846)\n",
    "\n",
    "\n",
    "\n",
    "# Second edge and turn\n",
    "\n",
    "# Set the left and right motors in a forward direction\n",
    "# and run for 1 rotation\n",
    "tank_drive.on_for_rotations(SpeedPercent(50), SpeedPercent(50), 1)\n",
    "\n",
    "\n",
    "# Set the robot to turn on the spot\n",
    "# and run for 1 rotation *of the wheels*\n",
    "tank_turn.on_for_rotations(-100, SpeedPercent(75), 0.846)\n",
    "\n",
    "\n",
    "# Third edge and turn\n",
    "\n",
    "# Set the left and right motors in a forward direction\n",
    "# and run for 1 rotation\n",
    "tank_drive.on_for_rotations(SpeedPercent(50), SpeedPercent(50), 1)\n",
    "\n",
    "# Set the robot to turn on the spot\n",
    "# and run for 1 rotation *of the wheels*\n",
    "tank_turn.on_for_rotations(-100, SpeedPercent(75), 0.846)\n",
    "\n",
    "\n",
    "\n",
    "# Fourth edge and turn\n",
    "\n",
    "# Set the left and right motors in a forward direction\n",
    "# and run for 1 rotation\n",
    "tank_drive.on_for_rotations(SpeedPercent(50), SpeedPercent(50), 1)\n",
    "\n",
    "\n",
    "# Set the robot to turn on the spot\n",
    "# and run for 1 rotation *of the wheels*\n",
    "tank_turn.on_for_rotations(-100, SpeedPercent(75), 0.846)"
   ]
  },
  {
   "cell_type": "markdown",
   "metadata": {},
   "source": [
    "In terms of the programme's design, I used comments to split out the code for each side, but there does seem to be a lot of repetition. If I want to change the side length or the angle turned, I need to make changes in lots of different places. If I had to draw a regular shape with twenty or thirty sides, things would start to get really unwieldly!"
   ]
  },
  {
   "cell_type": "markdown",
   "metadata": {},
   "source": [
    "## Summary\n",
    "\n",
    "\n",
    "In this notebook you have learned how to make use of the notebooks for creating your own simulated robot control programmes and running them in the robot simulator.\n",
    "\n",
    "You have seen how sequential programmes can be used to instruct a robot to perform a series of tasks, one after the other.\n",
    "\n",
    "For simple, rote tasks, that may already be quite useful. But in the approach we have taken so far, there does appear to be a lot of repetition in the code.\n",
    "\n",
    "Surely there's a better way..?"
   ]
  },
  {
   "cell_type": "markdown",
   "metadata": {},
   "source": [
    "---\n",
    "\n",
    "## Addendum\n",
    "\n",
    "The following might be useful as a redux later on to this activity; it uses the gyro to perform the turn with quite a nice graceful turn."
   ]
  },
  {
   "cell_type": "code",
   "execution_count": null,
   "metadata": {},
   "outputs": [],
   "source": [
    "%%sim_magic\n",
    "from ev3dev2.motor import MoveTank, SpeedPercent, OUTPUT_B, OUTPUT_C\n",
    "from ev3dev2.sensor import INPUT_4\n",
    "from ev3dev2.sensor.lego import GyroSensor\n",
    "\n",
    "# Sequential program with gyro turn\n",
    "\n",
    "tank_drive = MoveTank(OUTPUT_B, OUTPUT_C)\n",
    "\n",
    "time_1s = 1\n",
    "\n",
    "# Set the left and right motors in a forward direction\n",
    "# and run for 1 second\n",
    "tank_drive.on_for_seconds(SpeedPercent(50), SpeedPercent(50), time_1s)\n",
    "\n",
    "\n",
    "gyro = GyroSensor(INPUT_4)\n",
    "\n",
    "target_angle = gyro.angle + 90\n",
    "tank_drive.on(SpeedPercent(50), SpeedPercent(-50))\n",
    "while gyro.angle < target_angle:\n",
    "    pass"
   ]
  }
 ],
 "metadata": {
  "jupytext": {
   "cell_metadata_filter": "-all",
   "main_language": "python",
   "notebook_metadata_filter": "-all",
   "text_representation": {
    "extension": ".md",
    "format_name": "markdown"
   }
  }
 },
 "nbformat": 4,
 "nbformat_minor": 4
}
