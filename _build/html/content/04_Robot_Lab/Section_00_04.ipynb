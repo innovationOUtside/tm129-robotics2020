{
 "cells": [
  {
   "cell_type": "markdown",
   "metadata": {},
   "source": [
    "# 4 The design engineer as detective"
   ]
  },
  {
   "cell_type": "markdown",
   "metadata": {},
   "source": [
    "If you have never before experienced a disappointment when building systems, welcome to the world of engineering design!\n",
    "\n",
    "Design is characterised by defining *requirements*, translating these into a *specification*, generating a possible solution to the specified problem and *evaluating* the outcome. If the \"solution\" is not satisfactory, it is necessary to go back and try to formulate another possible solution. This is called the *design cycle* ."
   ]
  },
  {
   "cell_type": "code",
   "execution_count": null,
   "metadata": {},
   "outputs": [],
   "source": [
    "# TO DO - this will be provided by installed / importable package\n",
    "# Maybe also some magic\n",
    "\n",
    "fcode='''\n",
    "st=>start: Start\n",
    "e=>end: End\n",
    "op1=>operation: Generate\n",
    "op2=>parallel: Evaluate\n",
    "st(right)->op1(right)->op2\n",
    "op2(path1, top)->op1\n",
    "op2(path2, right)->e\n",
    "'''\n",
    "\n",
    "#Original alt text.\n",
    "# Could we generate something like this from the flow chart specification?\n",
    "alt_txt = \"\"\"\n",
    "A diagram of the design cycle, drawn as a simple flow chart.\n",
    "This starts in an oval labelled ‘Start’ and finishes in another oval labelled ‘End’.\n",
    "From ‘Start’ an arrow leads to a box labelled ‘Generate’;\n",
    "from here an arrow leads to a box ‘Evaluate’.\n",
    "From ‘Evaluate’ there are two arrows:\n",
    "one leads directly to the ‘End’, the other loops back to ‘Generate’.\n",
    "Thus there are two paths in the diagram, \n",
    "one straight from Start to Generate to Evaluate to End,\n",
    "the other that forms a loop around Generate and Evaluate.\"\"\"\n",
    "\n",
    "import jp_proxy_widget\n",
    "import uuid\n",
    "class FlowchartWidget(jp_proxy_widget.JSProxyWidget):\n",
    "    def __init__(self, *pargs, **kwargs):\n",
    "        super(FlowchartWidget, self).__init__(*pargs, **kwargs)\n",
    "        e = self.element\n",
    "        \n",
    "        e.empty()\n",
    "        self.load_js_files([\"https://cdnjs.cloudflare.com/ajax/libs/raphael/2.3.0/raphael.min.js\",\n",
    "                            'https://cdnjs.cloudflare.com/ajax/libs/flowchart/1.13.0/flowchart.js'])\n",
    "        \n",
    "    def charter(self, chart, embed=False):\n",
    "        uid = uuid.uuid4()\n",
    "        self.element.html(f'<div id=\"{uid}\"></div>')\n",
    "        self.set_element(\"chartdef\", chart)\n",
    "        self.js_init(f\"chart = flowchart.parse(element.chartdef); chart.drawSVG('{uid}');\")\n",
    "        if embed:\n",
    "            return self\n",
    "        \n",
    "testEmbed = FlowchartWidget()\n",
    "testEmbed.charter(fcode)\n",
    "testEmbed\n"
   ]
  },
  {
   "cell_type": "markdown",
   "metadata": {},
   "source": [
    "During the design cycle, candidate soluions are generated and evaluated. If the design fails to meet expectations, then a new up or updated design must be generated. If the evaluation of the design is satisfactory, then the design can be accepted and the process may end.\n",
    "\n",
    "In a continuous improvement design cycle, the the design may be used but it may also be reconsidered. If an improvement is found the new design may be both adopted and passed back round the cycle for further reconsideration."
   ]
  },
  {
   "cell_type": "code",
   "execution_count": null,
   "metadata": {},
   "outputs": [],
   "source": [
    "import sys\n",
    "sys.path.insert(0,'..')\n",
    "import _load_nbev3devwidget_requirements"
   ]
  },
  {
   "cell_type": "code",
   "execution_count": null,
   "metadata": {},
   "outputs": [],
   "source": [
    "from _load_nbev3devwidget import roboSim, eds\n",
    "\n",
    "%load_ext nbev3devsim\n",
    "%load_ext nbtutor"
   ]
  },
  {
   "cell_type": "code",
   "execution_count": null,
   "metadata": {},
   "outputs": [],
   "source": [
    "%%javascript\n",
    "//This allows us to resize this view\n",
    "//Click on the right hand edge to drag\n",
    "$( \"#notebook-container\" ).resizable({ghost: false})"
   ]
  },
  {
   "cell_type": "markdown",
   "metadata": {},
   "source": [
    "*Note that things have moved on in the simulator. We can now specify a background and robot configuration as parameters to the magic ( TO DO - NOT YET AVAILABLE IN ALL MAGICS).*"
   ]
  },
  {
   "cell_type": "code",
   "execution_count": null,
   "metadata": {},
   "outputs": [],
   "source": [
    "%%sim_magic_preloaded --background Lollipop -r Small_Robot\n",
    "import ev3dev2_glue as glue\n",
    "\n",
    "colorLeft = ColorSensor(INPUT_2)\n",
    "colorRight = ColorSensor(INPUT_3)\n",
    "print(colorLeft.reflected_light_intensity)\n",
    "while (colorLeft.reflected_light_intensity < 30 or colorLeft.reflected_light_intensity > 35):\n",
    "    \n",
    "    intensity_left = colorLeft.reflected_light_intensity\n",
    "    #intensity_right = colorRight.reflected_light_intensity\n",
    "    \n",
    "    print(intensity_left)\n",
    "\n",
    "    print('gs',glue.pyState())\n",
    "    if intensity_left < 50:\n",
    "        left_motor_speed = SpeedPercent(0)\n",
    "        right_motor_speed = SpeedPercent(20)\n",
    "    else:\n",
    "        left_motor_speed = SpeedPercent(20)\n",
    "        right_motor_speed = SpeedPercent(0)\n",
    "    tank_drive.on(left_motor_speed, right_motor_speed)\n",
    " \n"
   ]
  },
  {
   "cell_type": "markdown",
   "metadata": {},
   "source": [
    "### Following the Design Cycle\n",
    "\n",
    "In the current example, the system was specified according to the requirement that the robot would go all the way round the track and stop at the red bar. I generated a solution based on my 'model' of the system. When I ran it, my evaluation was that the system did not work! (Even if it had worked first time, it's possible that the solution was not very good either in terms of the way the robot behaved, or in terms of how the programme was written.)\n",
    "\n",
    "Under these circumstances, the design engineer looks for reasons why things went wrong, using all the available information. Sometimes this involves devising experiments. It's rather like being a detective, trying to piece together the solution.\n",
    "\n",
    "One of the main assumptions underlying my first program was that the colours could be separated by thresholds. I decided to test this assumption to try to find out what Simon really 'sees'.\n",
    "\n",
    "The following program drives the robot forward a short way, far enough from it to cross the black line. Download and run the programme so that "
   ]
  },
  {
   "cell_type": "code",
   "execution_count": null,
   "metadata": {},
   "outputs": [],
   "source": [
    "%%sim_magic_preloaded \n",
    "import time\n",
    "tank_drive.on(SpeedPercent(20), SpeedPercent(20))\n",
    "\n",
    "for i in range(60):\n",
    "\n",
    "    print('Colour: ' + str(colorLeft.reflected_light_intensity ))\n",
    "    time.sleep(0.02)"
   ]
  },
  {
   "cell_type": "markdown",
   "metadata": {},
   "source": [
    "Grab the data from the datalog:"
   ]
  },
  {
   "cell_type": "code",
   "execution_count": null,
   "metadata": {},
   "outputs": [],
   "source": [
    "# Get the data\n",
    "#eds.sim_get_data(roboSim)\n",
    "data = roboSim.results_log\n",
    "df = eds.get_dataframe_from_datalog(data)\n",
    "# TO DO - should we simplify this so if no data is passed we pull it from self?\n",
    "\n",
    "df.head()"
   ]
  },
  {
   "cell_type": "code",
   "execution_count": null,
   "metadata": {},
   "outputs": [],
   "source": [
    "df['time'] = df['index'].dt.total_seconds()"
   ]
  },
  {
   "cell_type": "markdown",
   "metadata": {},
   "source": [
    "Now lets plot each of those data points:"
   ]
  },
  {
   "cell_type": "code",
   "execution_count": null,
   "metadata": {},
   "outputs": [],
   "source": [
    "import matplotlib.pyplot as plt\n",
    "import seaborn as sns\n",
    "\n",
    "g = sns.FacetGrid(df, row=\"variable\",\n",
    "                  height=5, aspect=2, sharey=False)\n",
    "g = g.map(plt.plot, \"time\", \"value\", marker=\".\");\n",
    "\n",
    "# This is rather obscure and relates to the structure\n",
    "# of the chart object.\n",
    "ax1= g.axes[0][0]\n",
    "ax1.axhline(y=10, ls='--');"
   ]
  },
  {
   "cell_type": "markdown",
   "metadata": {},
   "source": [
    "The `cufflinks` packages adds support for plotting charts using the `plotly` package directly from *pandas* datadrames."
   ]
  },
  {
   "cell_type": "code",
   "execution_count": null,
   "metadata": {},
   "outputs": [],
   "source": [
    "import cufflinks as cf\n",
    "cf.go_offline()"
   ]
  },
  {
   "cell_type": "markdown",
   "metadata": {},
   "source": [
    "We can now create a plotly chart using *markers* to identify each sensor reading sample point as well as a *line* that connects them. A horizontal band, identified by the `hband=[(MIN_Y, MAX_Y)]` parameter adds a horizontal band to the chart  corresponding to the thresholded range I was using to identify whether the robot had encountered the red line:"
   ]
  },
  {
   "cell_type": "code",
   "execution_count": null,
   "metadata": {},
   "outputs": [],
   "source": [
    "df.iplot( x = 'time', y = 'value',\n",
    "         mode='markers+lines', hspan=[(30,35)])"
   ]
  },
  {
   "cell_type": "markdown",
   "metadata": {},
   "source": [
    "Here's a screenshot of the trace of light readings I got as the simulated robot went from the grey background, over the black line and back to the grey background:\n",
    "\n",
    "![](../images/plotly_sensor_false_positive.png)"
   ]
  },
  {
   "cell_type": "markdown",
   "metadata": {},
   "source": [
    "__TO DO: should long desc text only be for partially sighted students, or does it actually make things easier for *all* students? Here's an example of using a long desc style description in the main body of the teaching material.__\n",
    "\n",
    "The vertical scale shows sensor values on a vertical y-axis scale ranging 0-85 or so (the actual readings in principle range form 0..100 per cent). The horizontal scale is a time base showing a time of 0 to 2 seconds, with a plot every 0.02s (that is, about every fiftieth of a second. The sensor readings are also joined to form a line. The line starts with high values, starting at a y value of just over 80. There is then an abrupt fall in the values until they reach a low point of 0 for 3 samples, followed by a return to the high values around 80. On the diagram, I have marked a horizontal band highlighting values between"
   ]
  },
  {
   "cell_type": "markdown",
   "metadata": {},
   "source": [
    "This chart helps to explain why my original program did not work as intended. On the right of the black line, in the transition from black to grey, the simulated robot has recorded a value of about 34, within the thresholded band value I was using to identify the red line.\n",
    "\n",
    "The sensor value is calculated as some function of the value of  several pixels in view of the sensor at any one time and it just so happens that the calculation may return a reading I had associated with the red line.\n",
    "\n",
    "In fact, the `.reflected_light()` mode is *not* a good indicator of colour at all. What happens if you run the robot over the *Coloured_bands* background, for example, logging the reflected light sensor data as you so so? (Either chart the data in the simulator to review it, or grab the datalog into the notebook and view it here at you leisure.)"
   ]
  },
  {
   "cell_type": "markdown",
   "metadata": {},
   "source": [
    "![figure ../tm129-19J-images/tm129_rob_p6_f014.jpg](../images/tm129_rob_p6_f014.jpg)"
   ]
  },
  {
   "cell_type": "markdown",
   "metadata": {},
   "source": [
    "A diagram which shows the graph previously described, below which a diagram shows the black line (actually shown as dark grey) highly enlarged. A series of circles is also shown starting on the pale grey background and continuing across the black line and then back on to the grey. These represent the position of the sensor each time a reading is taken, and an arrow leads from each circle indicating a sensor reading to the corresponding point plotted on the graph. Most of these circles are wholly on either the grey or the black line and produce a correspondingly high (80-95) or a low (20-30) reading. However, one circle straddles the edge of the line, so half of the interior is black and the other half grey. This produces an intermediate sensor value of 50.\n",
    "\n",
    "This is a tough lesson. What ought to be easily classified as either a black or white sensor reading is ambiguously somewhere in the middle. The value of 50% is exactly in the range that the program interprets as red. The assumption underlying the program that a sensor reading of 50% indicates red is clearly incorrect, and another approach is required.\n"
   ]
  },
  {
   "cell_type": "markdown",
   "metadata": {},
   "source": [
    "We note that if a sampled data point falls between the values I used for my threshold settings that were intended to identify the red line, then the robot would have a \"false positive\" match and stop before it was supposed to."
   ]
  }
 ],
 "metadata": {
  "jupytext": {
   "cell_metadata_filter": "-all",
   "main_language": "python",
   "notebook_metadata_filter": "-all",
   "text_representation": {
    "extension": ".md",
    "format_name": "markdown"
   }
  }
 },
 "nbformat": 4,
 "nbformat_minor": 4
}
