{
 "cells": [
  {
   "cell_type": "raw",
   "metadata": {},
   "source": [
    "---\n",
    "# 4 RobotLab’s simulator remote control\n",
    "\n",
    "The original RobotLab simulator included a simple remote control for controlling a real, as well as simulated, robot in a direct, user-controlled interactive way.\n",
    "\n",
    "The remote control activities provided a way of developing familiarity with how to control the robot prior to moving on to programmatic control.\n",
    "\n",
    "Neither the current version of the `nbev3devsim` simulator, nor the original `ev3devsim` on which it was based, support a direct remote control interface.\n",
    "\n",
    "Whilst future versions of the simulator may be extended to include remote control operation, the following activity descriptions from the original RobotLab activities, are retained here for historical interest only.\n",
    "\n",
    "\n",
    "\n",
    "# NOTES BELOW OF HISTORICAL INTEREST ONLY\n",
    "\n",
    "---"
   ]
  },
  {
   "cell_type": "markdown",
   "metadata": {},
   "source": [
    "\n",
    "## 4.1 Activity: Remote control"
   ]
  },
  {
   "cell_type": "markdown",
   "metadata": {},
   "source": [
    "The RobotLab environment allows you to write programs that an autonomous robot will run. As you have seen, RobotLab also provides a simulated robot that appears in the `Simulator` window so that you can test out your programs. Some (real) robots can be controlled by a human using a remote control. In a similar fashion, RobotLab also provides a remote control unit that you can use to control the (simulated) robot directly.\n",
    "\n",
    "Start RobotLab. (If you already have a program loaded, choose `File &gt; New`.) In this activity, you are not going to program the robot, so you can close or minimise the `Program editor` window. (Do you remember how to do this? If not, refer back to <a xmlns:str=\"http://exslt.org/strings\" href=\"\">Section 1.6</a>.) Open the `Controls` window either by clicking on its restore icon or by choosing `Window &gt; Controls`.<div xmlns:str=\"http://exslt.org/strings\" style=\"background:lightblue\"><p>Keyboard: Alt, W, 3</p></div>\n",
    "\n",
    "The `Controls` window is shown in Figure 4.1. This control panel, also called the *simulator remote control unit*, can be repositioned on any part of the screen. Click and drag on the `Controls` window title to move it to a convenient position beside the `Simulator` window."
   ]
  },
  {
   "cell_type": "markdown",
   "metadata": {},
   "source": [
    "![figure ../tm129-19J-images/tm129_rob_p1_f040.jpg](../tm129-19J-images/tm129_rob_p1_f040.jpg)"
   ]
  },
  {
   "cell_type": "markdown",
   "metadata": {},
   "source": [
    "Figure 4.1 The RobotLab simulator remote control unit"
   ]
  },
  {
   "cell_type": "markdown",
   "metadata": {},
   "source": [
    "The RobotLab controls window. This is divided into three areas: top left are the direction controls, bottom left are the simulator clock controls, and to the right are the input and output monitors. The direction controls and output monitors will be described in following figures. The clock controls are two buttons representing a clock with ‘play’ and ‘stop’ icons superimposed. The input monitors are three boxes labelled 1, 2, 3. These can either contain numbers representing sensor readings from 0 to 100, or for touch sensors a shape that turns dark when the sensor is pressed.\n",
    "\n",
    " To use the simulator remote control unit, you need to have the simulator clock running. You can set it running by using the `Simulator &gt; Start clock` menu,<div xmlns:str=\"http://exslt.org/strings\" style=\"background:lightblue\"><p>Keyboard: Ctrl+Home</p></div> or more easily from the `Start clock` ![inlinefigure ../tm129-19J-images/tm129_rob_p1_f041.jpg](../tm129-19J-images/tm129_rob_p1_f041.jpg)  button on the remote control unit at the bottom left of the `Controls` window. Click on this button now. \n",
    "\n",
    " The clock remains running until you switch it off using the `Stop clock` menu or  ![inlinefigure ../tm129-19J-images/tm129_rob_p1_f042.jpg](../tm129-19J-images/tm129_rob_p1_f042.jpg)  button.<div xmlns:str=\"http://exslt.org/strings\" style=\"background:lightblue\"><p>Keyboard: Ctrl+End</p></div> Leave it on for the duration of this exercise. \n",
    "\n",
    " At the top of the remote control are several direction buttons (Figure 4.2).<div xmlns:str=\"http://exslt.org/strings\" style=\"background:lightblue\"><p>Keyboard: Shortcuts are given in Table 4.1</p></div> You click on the forward arrow to switch both motors on and drive the simulated robot forwards. You click on the backward arrow to drive it backwards, etc. And you click on the black square in the centre of the direction controls to turn both motors off and stop the robot. "
   ]
  },
  {
   "cell_type": "markdown",
   "metadata": {},
   "source": [
    "![figure ../tm129-19J-images/tm129_rob_p1_f043.png](../tm129-19J-images/tm129_rob_p1_f043.png)"
   ]
  },
  {
   "cell_type": "markdown",
   "metadata": {},
   "source": [
    "Figure 4.2 The direction of the wheels set by the controller "
   ]
  },
  {
   "cell_type": "markdown",
   "metadata": {},
   "source": [
    "The direction controls. There are nine buttons laid out in a 3 x 3 grid, each with an arrow pointing in the relevant direction. The directions of each button and their keyboard shortcuts are given in the text below.\n",
    "\n",
    "Now click on the forward arrow to drive the robot forwards, and then click on the stop button to stop the robot. Next click on the down arrow to drive the robot backwards, and then stop the robot again.\n",
    "\n",
    "The remote control unit also displays information about the robot’s inputs and outputs. The bottom half of this display shows what is happening to the motors. Above the motor labels A, B and C are several indicators. The top indicators, solid black dots or crosses in a circle, show whether the motor is turned on or off, respectively (Figure 4.3).\n",
    "\n",
    "The second indicators, up or down arrows, show whether the motor is switched to a forwards or backwards direction. \n",
    "\n",
    "The sliders give the power level for each motor, which ultimately corresponds to the speed with which the motor turns. Leave these at their maximum levels for now."
   ]
  },
  {
   "cell_type": "markdown",
   "metadata": {},
   "source": [
    "![figure ../tm129-19J-images/tm129_rob_p1_f044.jpg](../tm129-19J-images/tm129_rob_p1_f044.jpg)"
   ]
  },
  {
   "cell_type": "markdown",
   "metadata": {},
   "source": [
    "Figure 4.3 Controlling the simulated motor power"
   ]
  },
  {
   "cell_type": "markdown",
   "metadata": {},
   "source": [
    "The output controls and monitor used to control motor power. There are three identical outputs, labelled A, B &amp; C. Above each label is a slider for setting the power from 0 to 8. Above this is an arrow the faces up or down for indicating forward of backward direction. Finally, at the top is an indicator indicating whether the motor is on or off.\n",
    "\n",
    "By looking at the motor indicators, can you see how the robot is managing to turn? Try driving the robot forwards, backwards and turning in different directions.\n",
    "\n",
    " In order to turn the robot, *differential* or *skid* steering is used.\n",
    "\n",
    "For example, click on one of the curved arrows to rotate the robot about its centre. To turn the robot clockwise about its centre, the left motor (A) is switched on in a forwards direction, and the right motor (C) is switched on in a backwards direction. \n",
    "<!--ITQ-->\n",
    "\n",
    "#### Question\n",
    "\n",
    "How would you control the motors to turn the robot anticlockwise about its centre?"
   ]
  },
  {
   "cell_type": "markdown",
   "metadata": {},
   "source": [
    "#### Answer\n",
    "\n",
    "The right motor needs to run forwards and the left motor to run backwards.\n",
    "<!--ENDITQ-->\n",
    "The robot can also turn clockwise or anticlockwise by switching on either motor A or motor C and leaving the other motor switched off.\n",
    "<!--ITQ-->\n",
    "\n",
    "#### Question\n",
    "\n",
    "How would you control the motors to make a slow, gradual turn to one side?"
   ]
  },
  {
   "cell_type": "markdown",
   "metadata": {},
   "source": [
    "#### Answer\n",
    "\n",
    "If the motors run at different speeds, the robot will make a gradual turn.\n",
    "<!--ENDITQ-->\n",
    "A slow turn (right forwards, left forwards, right backward or left backwards) can be obtained by switching on both motors either forwards or backwards, but running them at different power levels (i.e. at different speeds) using the slider controls. Click on the forward arrow, then experiment by reducing the power levels for motors A and C to 75% and 50% respectively.\n",
    "\n",
    "<div xmlns:str=\"http://exslt.org/strings\" style=\"background:lightblue\"><p>Keyboard: Ctrl+NumPlus or Ctrl+NumMinus</p></div>If you lose sight of the robot in the `Simulator` window, you can zoom the view of the `Simulator` window in or out. Choose `Simulator &gt; Zoom in` or `Simulator &gt; Zoom out`, or click on the zoom  ![inlinefigure ../tm129-19J-images/tm129_rob_p1_f045.jpg](../tm129-19J-images/tm129_rob_p1_f045.jpg)  buttons on the toolbar.\n",
    "\n",
    "If you happen to leave the robot moving for a long time and can’t find it again, you can reset the simulator by choosing `Simulator &gt; Reset`.<div xmlns:str=\"http://exslt.org/strings\" style=\"background:lightblue\"><p>Keyboard: Shift+Ctrl+Home</p></div> If all else fails, just close RobotLab and reopen it.\n",
    "\n",
    "To move the robot, left-click and hold down the cursor on the robot itself, and drag and drop it within the `Simulator` window. You can also rotate the robot by right-clicking on it and dragging it with the mouse."
   ]
  },
  {
   "cell_type": "markdown",
   "metadata": {},
   "source": [
    "## 4.2 Activity: More remote control"
   ]
  },
  {
   "cell_type": "markdown",
   "metadata": {},
   "source": [
    "In the `Controls` window there is also a set of indicators for each sensor (1, 2, 3) (Figure 4.4). The indicators show the readings provided by sensors connected to the relevant input ports."
   ]
  },
  {
   "cell_type": "markdown",
   "metadata": {},
   "source": [
    "![figure ../tm129-19J-images/tm129_rob_p1_f040.jpg](../tm129-19J-images/tm129_rob_p1_f040.jpg)"
   ]
  },
  {
   "cell_type": "markdown",
   "metadata": {},
   "source": [
    "Figure 4.4 The RobotLab simulator remote control unit"
   ]
  },
  {
   "cell_type": "markdown",
   "metadata": {},
   "source": [
    "The RobotLab controls window. This is divided into three areas: top left are the direction controls, bottom left are the simulator clock controls, and to the right are the input and output monitors. The direction controls and output monitors will be described in following figures. The clock controls are two buttons representing a clock with ‘play’ and ‘stop’ icons superimposed. The input monitors are three boxes labelled 1, 2, 3. These can either contain numbers representing sensor readings from 0 to 100, or for touch sensors a shape that turns dark when the sensor is pressed.\n",
    "\n",
    "Open the `Controller_test` program and run it. The robot will not move – the program doesn’t turn the robot’s motors on. Instead, use the controller to drive the robot to go forwards over the grey areas, and note the change in light sensor value. The light sensor is shown by the small blue square on the simulated robot and is connected to input port 2.\n",
    "\n",
    "Try driving the robot over one of the red blocks. You should find that it stops. This is because red is set to ‘solid’, simulating an obstacle in front of the robot. See what happens to the touch sensors when they touch the red area. The touch sensors are shown as small green squares on the robot and are connected to input ports 1 and 3.\n",
    "\n",
    "---"
   ]
  },
  {
   "cell_type": "markdown",
   "metadata": {},
   "source": [
    "### Driving round the red blocks in show-trail mode\n",
    "\n",
    "Rerun the `Controller_test` program in `show-trail` mode. Choose the `Simulator &gt; Show trail` menu item<div xmlns:str=\"http://exslt.org/strings\" style=\"background:lightblue\"><p>Keyboard: Alt, S, T</p></div> or click on the Show trail  ![inlinefigure ../tm129-19J-images/tm129_rob_p5_f014.jpg](../tm129-19J-images/tm129_rob_p5_f014.jpg)  button in the toolbar. Run the program again to see the robot’s trail.\n",
    "\n",
    "Drive the robot over the grey areas, and one and half times round the red blocks as shown. It’s more tricky than it looks. My attempt is shown in Figure 4.5."
   ]
  },
  {
   "cell_type": "markdown",
   "metadata": {},
   "source": [
    "![figure ../tm129-19J-images/tm129_rob_p1_f046.jpg](../tm129-19J-images/tm129_rob_p1_f046.jpg)"
   ]
  },
  {
   "cell_type": "markdown",
   "metadata": {},
   "source": [
    "Figure 4.5 Negotiating the red blocks in pen-down mode"
   ]
  },
  {
   "cell_type": "markdown",
   "metadata": {},
   "source": [
    "A screen shot of RobotLab showing the simulator window with a trace left by the robot as it was driven around the red blocks. The red blocks are arranged at the four corners of a square. In the centre between the blocks is a vertical grey strip divided into four areas of different intensity ranging from pale grey at the top to black at the bottom. The track superimposed shows a straight line up from the start position over the grey strip followed by a couple of laps around the outside of the four red blocks. Each lap is a rough square with rounded corners, although the sides are far from straight and there are wild wobbles in a couple of places. \n",
    "\n",
    "You may find it easier to control the robot using the keyboard rather than the mouse. RobotLab uses the keys on the numeric keypad of your computer keyboard as short-cuts for the direction buttons in the remote control window; they are laid out in the same pattern.\n",
    "<table xmlns:str=\"http://exslt.org/strings\">\n",
    "<caption>Table 4.1 Remote control short-cut keys</caption>\n",
    "<tbody>\n",
    "<tr>\n",
    "<td class=\"highlight_\" rowspan=\"\" colspan=\"\">\n",
    " ![inlinefigure ../tm129-19J-images/tm129_rob_p1_f11a.gif](../tm129-19J-images/tm129_rob_p1_f11a.gif) \n",
    "\n",
    "Veer left\n",
    "\n",
    "Ctrl+7\n",
    "</td>\n",
    "<td class=\"highlight_\" rowspan=\"\" colspan=\"\">\n",
    " ![inlinefigure ../tm129-19J-images/tm129_rob_p1_f12a.gif](../tm129-19J-images/tm129_rob_p1_f12a.gif) \n",
    "\n",
    "Forward\n",
    "\n",
    "Ctrl+8\n",
    "</td>\n",
    "<td class=\"highlight_\" rowspan=\"\" colspan=\"\">\n",
    " ![inlinefigure ../tm129-19J-images/tm129_rob_p1_f13a.gif](../tm129-19J-images/tm129_rob_p1_f13a.gif) \n",
    "\n",
    "Veer right\n",
    "\n",
    "Ctrl+9\n",
    "</td>\n",
    "</tr>\n",
    "<tr>\n",
    "<td class=\"highlight_\" rowspan=\"\" colspan=\"\">\n",
    " ![inlinefigure ../tm129-19J-images/tm129_rob_p1_f14a.gif](../tm129-19J-images/tm129_rob_p1_f14a.gif) \n",
    "\n",
    "Spin left\n",
    "\n",
    "Ctrl+4\n",
    "</td>\n",
    "<td class=\"highlight_\" rowspan=\"\" colspan=\"\">\n",
    " ![inlinefigure ../tm129-19J-images/tm129_rob_p1_f15a.gif](../tm129-19J-images/tm129_rob_p1_f15a.gif) \n",
    "\n",
    "Stop\n",
    "\n",
    "Ctrl+5\n",
    "</td>\n",
    "<td class=\"highlight_\" rowspan=\"\" colspan=\"\">\n",
    " ![inlinefigure ../tm129-19J-images/tm129_rob_p1_f16a.gif](../tm129-19J-images/tm129_rob_p1_f16a.gif) \n",
    "\n",
    "Spin right\n",
    "\n",
    "Ctrl+6\n",
    "</td>\n",
    "</tr>\n",
    "<tr>\n",
    "<td class=\"highlight_\" rowspan=\"\" colspan=\"\">\n",
    " ![inlinefigure ../tm129-19J-images/tm129_rob_p1_f17a.gif](../tm129-19J-images/tm129_rob_p1_f17a.gif) \n",
    "\n",
    "Back left\n",
    "\n",
    "Ctrl+1\n",
    "</td>\n",
    "<td class=\"highlight_\" rowspan=\"\" colspan=\"\">\n",
    " ![inlinefigure ../tm129-19J-images/tm129_rob_p1_f18a.gif](../tm129-19J-images/tm129_rob_p1_f18a.gif) \n",
    "\n",
    "Backward\n",
    "\n",
    "Ctrl+2\n",
    "</td>\n",
    "<td class=\"highlight_\" rowspan=\"\" colspan=\"\">\n",
    " ![inlinefigure ../tm129-19J-images/tm129_rob_p1_f19a.gif](../tm129-19J-images/tm129_rob_p1_f19a.gif) \n",
    "\n",
    "Back right\n",
    "\n",
    "Ctrl+3\n",
    "</td>\n",
    "</tr>\n",
    "</tbody>\n",
    "</table>\n",
    "\n",
    "This is the end of Robot Lab Session 1.\n",
    "\n",
    "---\n"
   ]
  }
 ],
 "metadata": {
  "jupytext": {
   "cell_metadata_filter": "-all",
   "main_language": "python",
   "notebook_metadata_filter": "-all",
   "text_representation": {
    "extension": ".md",
    "format_name": "markdown"
   }
  }
 },
 "nbformat": 4,
 "nbformat_minor": 4
}
