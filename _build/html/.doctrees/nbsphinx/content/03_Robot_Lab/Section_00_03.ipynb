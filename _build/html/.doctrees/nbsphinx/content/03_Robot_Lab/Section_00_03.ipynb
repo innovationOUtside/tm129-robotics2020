{
 "cells": [
  {
   "cell_type": "code",
   "execution_count": null,
   "metadata": {},
   "outputs": [],
   "source": [
    "#Testing  - can we load from a package?\n",
    "#import _load_nbev3devwidget_requirements\n",
    "##import _load_nbev3devwidget"
   ]
  },
  {
   "cell_type": "code",
   "execution_count": null,
   "metadata": {},
   "outputs": [],
   "source": [
    "#import _load_nbev3devwidget"
   ]
  },
  {
   "cell_type": "code",
   "execution_count": null,
   "metadata": {},
   "outputs": [],
   "source": [
    "#from IPython.display import Javascript\n",
    "#Javascript('$( \"#notebook-container\" ).resizable({ghost: false})')"
   ]
  },
  {
   "cell_type": "code",
   "execution_count": null,
   "metadata": {},
   "outputs": [],
   "source": [
    "# If the above doesn't work, old skool is below..."
   ]
  },
  {
   "cell_type": "code",
   "execution_count": null,
   "metadata": {},
   "outputs": [],
   "source": [
    "from nbev3devsim import ev3devsim_nb as eds\n",
    "import jp_proxy_widget\n",
    "\n",
    "#Load the nbtutor extension\n",
    "%load_ext nbtutor\n",
    "\n",
    "#https://github.com/AaronWatters/jp_doodle/blob/master/notebooks/misc/JQueryUI%20dialogextend%20plugin%20demo.ipynb\n",
    "#Load and initialise the jquery.dialogextend package\n",
    "\n",
    "cdn_url = \"https://cdn.jsdelivr.net/npm/binary-com-jquery-dialogextended@1.0.0/jquery.dialogextend.js\"\n",
    "cdn_url = eds.get_file_path('js/jquery.dialogextend.js')\n",
    "module_id = \"dialogExtend\"\n",
    "\n",
    "# Load the module using a widget (any widget -- the module loads to the global jQuery object).\n",
    "loader = jp_proxy_widget.JSProxyWidget()\n",
    "\n",
    "# Configure the module to be loaded.\n",
    "loader.require_js(module_id, cdn_url)\n",
    "\n",
    "# Load the module\n",
    "loader.js_init(\"\"\"\n",
    "    element.requirejs([module_identifier], function(module_value) {\n",
    "        //element.html(\"loaded \" + module_identifier + \" : \" + module_value);\n",
    "    });\n",
    "\"\"\", module_identifier=module_id)\n",
    "loader\n",
    "\n",
    "# I think we need to wait for this to load\n",
    "# else we may get an error in next cell from dialogExtend not being available?"
   ]
  },
  {
   "cell_type": "code",
   "execution_count": null,
   "metadata": {},
   "outputs": [],
   "source": [
    "from nbev3devsim import ev3devsim_nb as eds\n",
    "\n",
    "#Reset the notebook style\n",
    "from IPython.core.display import display, HTML, Javascript\n",
    "\n",
    "#display(HTML(\"<style>#notebook-container { resize:vertical; border: 5px solid;  width: 300px; resize: horizontal; overflow: auto; float:left !important;}</style>\"))\n",
    "display(HTML(\"<style>#notebook-container { width:50%; float:left !important;}</style>\"))\n",
    "\n",
    "#Launch the simulator\n",
    "from nbev3devsim import ev3devsim_nb as eds\n",
    "%reload_ext nbev3devsim\n",
    "\n",
    "roboSim = eds.Ev3DevWidget()\n",
    "\n",
    "roboSim.element.dialog();\n",
    "\n",
    "\n",
    "roboSim.js_init(\"\"\"\n",
    "element.dialog({ \"title\" : \"Robot Simulator\" }).dialogExtend({\n",
    "        \"maximizable\" : true,\n",
    "        \"dblclick\" : \"maximize\",\n",
    "        \"icons\" : { \"maximize\" : \"ui-icon-arrow-4-diag\" }});\n",
    "\"\"\")\n",
    "\n",
    "display(roboSim)"
   ]
  },
  {
   "cell_type": "code",
   "execution_count": null,
   "metadata": {},
   "outputs": [],
   "source": [
    "%%javascript\n",
    "//This allows us to resize this view\n",
    "//Click on the right hand edge to drag\n",
    "$( \"#notebook-container\" ).resizable({ghost: false})"
   ]
  },
  {
   "cell_type": "code",
   "execution_count": null,
   "metadata": {},
   "outputs": [],
   "source": [
    "%load_ext nbtutor\n",
    "%load_ext nbev3devsim"
   ]
  },
  {
   "cell_type": "markdown",
   "metadata": {},
   "source": [
    "# 4 Emergent behaviour: Braitenberg’s vehicles"
   ]
  },
  {
   "cell_type": "markdown",
   "metadata": {},
   "source": [
    "In Study week 2 you came across Valentino Braitenberg’s ideas on the behaviour of robots *emerging* from the way they are wired up. The figure belows shows two ways of connecting sensors to motors. In (a), the left sensor is connected to the left motor and the right sensor is connected to the right motor. In (b) these connections are reversed."
   ]
  },
  {
   "cell_type": "markdown",
   "metadata": {},
   "source": [
    "![Diagrams representing Braitenberg vehicles alongside simulated robots wired up in a similar fashion. A Braitenberg vehicle and our simulated robot are very similar: they have two wheels, one each side, and two light sensors, one on the left and one on the right of the front of the robot. A pair of Braitenberg vehicles are shown, one light avoiding and one seeking. A light avoiding vehicle has the left light sensor connected to the left motor and wheel, and the right light sensor connected to the right motor and wheel. A light seeking vehicle has the left light sensor connected to the right motor and wheel, and the right light sensor connected to the left wheel. The simulated robots have wiring indicating identical connections. ](../images/tm129_rob_p4_f008.gif)"
   ]
  },
  {
   "cell_type": "markdown",
   "metadata": {},
   "source": [
    "## 4.1 Activity: Testing Braitenberg’s vehicles"
   ]
  },
  {
   "cell_type": "markdown",
   "metadata": {},
   "source": [
    "A 'thought experiment' suggests that the vehicle in figure (a) will move away from a light source. Similarly, another thought experiment suggests that the vehicle in figure (b) will move towards a light source. In the following activities you will test these predictions using an enivironment that models this set up, but uses downward facing light sensors that take measurements from a \"light gradient\" background, rather than forward facing light sensors that look for a light source at \"eye-level\" (that is, sensor-level!)."
   ]
  },
  {
   "cell_type": "markdown",
   "metadata": {},
   "source": [
    "### Reconfiguring the robot\n",
    "\n",
    "In order to detect different values from the light sensors on the right and left hand side of the robot, we need to reconfigure the robot so that the sensors are placed further apart than they are in the default robot configuration.\n",
    "\n",
    "In the simulator, select the *Radial grey* background and check the *Pen down* checkbox.\n",
    "\n",
    "You may notice that the simulator's left and right light sensors appear to be further apart than they have been previously.\n",
    "\n",
    "This has been done via a change to the robot configuration setting update that is applied automatically when the *Radial grey* background is loaded."
   ]
  },
  {
   "cell_type": "markdown",
   "metadata": {},
   "source": [
    "#### Manually Changing the Robot Configuration Settings\n",
    "\n",
    "You can increase the spacing between the sensors by:\n",
    "\n",
    "- clicking the *Configure Robot* button in the simulator to pop=up a window containing the robot configuration settings;\n",
    "- in the robot configuration settings window, scroll down to the `\"sensor1\"` parameters and change the `\"x\"` value from the default value of `-20` to the new value `-60`;\n",
    "- for `\"sensor2\"`, change the `\"x\"` value from its default value of `20` the new value `60`;\n",
    "- click the *Apply* button.\n",
    "\n",
    "If you look at the robot in the simulator, you should notice that the two light sensors are now located nearer the sides of the robot and are no longer located close to the centreline."
   ]
  },
  {
   "cell_type": "code",
   "execution_count": null,
   "metadata": {},
   "outputs": [],
   "source": [
    "# Linting is all a bit broken at the moment\n",
    "# May or may not be ready in time...\n",
    "\n",
    "#%load_ext pycodestyle_magic\n",
    "#%pycodestyle_on\n",
    "#%flake8_off --ignore D100"
   ]
  },
  {
   "cell_type": "markdown",
   "metadata": {},
   "source": [
    "#### Exploring the *Radial Grey* World\n",
    "\n",
    "Run the following code cell to download the programme to the simulator and then run it in the simulator. For now, don't pay too much atttention to the code; our initial focus is purely on what we can observe about the behaviour of the robot.\n",
    "\n",
    "Observe what happens paying particularly close attention to the trajectory the robot follows.\n",
    "\n",
    "Enter a new starting location in the simulator, changing the original *Y* value from `400` to the new value `600`. Click the *Move* button to move the robot to that location and run the simulator again. How does the robot move this time? "
   ]
  },
  {
   "cell_type": "code",
   "execution_count": null,
   "metadata": {},
   "outputs": [],
   "source": [
    "%%sim_magic_preloaded\n",
    "\n",
    "colorLeft = ColorSensor(INPUT_2)\n",
    "colorRight = ColorSensor(INPUT_3)\n",
    "\n",
    "while ((colorLeft.reflected_light_intensity>0.05) \n",
    "       and (colorRight.reflected_light_intensity)>5):\n",
    "    \n",
    "    intensity_left = colorLeft.reflected_light_intensity\n",
    "    intensity_right = colorRight.reflected_light_intensity\n",
    "    \n",
    "    print(intensity_left, intensity_right)\n",
    "    \n",
    "    left_motor_speed = SpeedPercent(intensity_left)\n",
    "    right_motor_speed = SpeedPercent(intensity_right)\n",
    "    \n",
    "    tank_drive.on(left_motor_speed, right_motor_speed)\n",
    " "
   ]
  },
  {
   "cell_type": "markdown",
   "metadata": {},
   "source": [
    "With the robot starting just *below* the centreline on the radial grey background, you shoul notice that as it moves across the background it veers away from the light on a path that curves towards the bottom right of the simulator, steering to the right from the robot's perspective. \n",
    "\n",
    "When the robot starts *above* the centreline, it veers away on the left hand side of the central bright point (that is, the robot steers to its left).\n",
    "\n",
    "If the robot starts on the centreline, it continues on a straight path."
   ]
  },
  {
   "cell_type": "markdown",
   "metadata": {},
   "source": [
    "So how does the programme work?\n",
    "\n",
    "If you inspect it closely, you will see it is split into several parts.\n",
    "\n",
    "The first part just clarifies the sensor configuration:\n",
    "\n",
    "```python\n",
    "colorLeft = ColorSensor(INPUT_2)\n",
    "colorRight = ColorSensor(INPUT_3)\n",
    "```\n",
    "\n",
    "Then we have a `while..` loop that ensures the programme keeps running unitl either the left or the right sensor value sees a particularly dark value:\n",
    "\n",
    "```python\n",
    "while ((colorLeft.reflected_light_intensity>5) \n",
    "       and (colorLeft.reflected_light_intensity)>5):\n",
    "```\n",
    "\n",
    "Inside the `while..` block is the \"intelligence\" of the programme.\n",
    "\n",
    "\n",
    "The values are displayed in the simulator output window using a `print()` statement, and are then used to set the motor speeds:\n",
    "\n",
    "```python\n",
    "    left_motor_speed = SpeedPercent(intensity_left)\n",
    "    right_motor_speed = SpeedPercent(intensity_right)\n",
    "    \n",
    "    tank_drive.on(left_motor_speed, right_motor_speed)\n",
    "```\n",
    "\n",
    "In this configuration:\n",
    "\n",
    "- the percentage scaled *left* sensor value determines the speed value applied to the *left* motor, and\n",
    "- the percentage scaled *right* sensor value sets the *right* motor speed.\n",
    "\n",
    "The sensor value reports a higher reading the brighter the background. As the robot approaches the light source from below the centreline, the left sensor reads a higher value than the right sensor. As described by the programme, the left motor thus turns more quickly than the right motor, and so the robot turns toward its right hand side and veers away from the light source."
   ]
  },
  {
   "cell_type": "markdown",
   "metadata": {},
   "source": [
    "### Crossing the Wires...\n",
    "\n",
    "Now let's see what happens if we run the following program which uses:\n",
    "\n",
    "- the *left* light sensor to control the speed of the *right* motor; and\n",
    "- the *right* light sensor to control the speed of the *left* motor.\n",
    "\n",
    "Still using the *Radial grey* background, clear the traces in the simulator.\n",
    "\n",
    "Run the following code cell to download the programme to the simulator and then run it in the simulator.\n",
    "\n",
    "Move the robot to the starting location `X=100, Y=700` and run the program again.\n",
    "\n",
    "How does the robot's behaviour with the \"cross-wired\" sensors and motors compare with the \"direct\", same-side wiring?"
   ]
  },
  {
   "cell_type": "code",
   "execution_count": null,
   "metadata": {},
   "outputs": [],
   "source": [
    "%%sim_magic_preloaded\n",
    "\n",
    "colorLeft = ColorSensor(INPUT_2)\n",
    "colorRight = ColorSensor(INPUT_3)\n",
    "\n",
    "while ((colorLeft.reflected_light_intensity>5) \n",
    "       and (colorRight.reflected_light_intensity)>5):\n",
    "    \n",
    "    intensity_left = colorLeft.reflected_light_intensity\n",
    "    intensity_right = colorRight.reflected_light_intensity\n",
    "    \n",
    "    print(intensity_left, intensity_right)\n",
    "    \n",
    "    left_motor_speed = SpeedPercent(intensity_right)\n",
    "    right_motor_speed = SpeedPercent(intensity_left)\n",
    "    \n",
    "    tank_drive.on(left_motor_speed, right_motor_speed)\n",
    " "
   ]
  },
  {
   "cell_type": "markdown",
   "metadata": {},
   "source": [
    "When the programme runs this time, the robot arcs *towards* the light: if it starts below the centre line, the robot turns to its left and up towards the light; if it starts above the light, the robot turns to its right, and  curves down towards the light.\n"
   ]
  },
  {
   "cell_type": "markdown",
   "metadata": {},
   "source": [
    "#### Question\n",
    "\n",
    "How is the robot's behaviour explained by the programme this time?"
   ]
  },
  {
   "cell_type": "markdown",
   "metadata": {},
   "source": [
    "*Double click this cell to edit it and enter your explanation of why the robot behaves as it does.*"
   ]
  },
  {
   "cell_type": "markdown",
   "metadata": {},
   "source": [
    "#### Answer\n",
    "\n",
    "*Click the arrow in the sidebar to reveal my answer.*"
   ]
  },
  {
   "cell_type": "markdown",
   "metadata": {},
   "source": [
    "The sensor values are mapped onto motor speeds with the following lines of code:\n",
    "\n",
    "```python\n",
    "    left_motor_speed = SpeedPercent(intensity_right)\n",
    "    right_motor_speed = SpeedPercent(intensity_left)\n",
    "    \n",
    "    tank_drive.on(left_motor_speed, right_motor_speed)\n",
    "```\n",
    " \n",
    "In this configuration, the percentage scaled *right sensor* value determines the speed value applied to the *left motor*, and the percentage scaled left sensor* value sets the *right motor* speed.\n",
    "\n",
    "As before, the sensor value reports a higher reading the brighter the background. As the robot approaches the light source from below the centreline, the left sensor reads a higher value than the right sensor. This results in the right motor turning more quickly than the left motor. As a result, the robot turns toward its left hand side and turns towards the light source."
   ]
  },
  {
   "cell_type": "markdown",
   "metadata": {},
   "source": [
    "### Looking at the Data\n",
    "\n",
    "\n",
    "To understand a little more closely what the sensors are seeing, click the *Show chart* checkbox in the simulator and select the *Left light* and *Right light* traces. The following programme streams the necessary data elements to the simulator output window.\n",
    "\n",
    "Run the program and observe the behvavior of the traces.\n",
    "\n",
    "How do the traces differ in value?"
   ]
  },
  {
   "cell_type": "code",
   "execution_count": null,
   "metadata": {},
   "outputs": [],
   "source": [
    "%%sim_magic_preloaded\n",
    "\n",
    "colorLeft = ColorSensor(INPUT_2)\n",
    "colorRight = ColorSensor(INPUT_3)\n",
    "\n",
    "while ((colorLeft.reflected_light_intensity>5) \n",
    "       and (colorLeft.reflected_light_intensity)>5):\n",
    "    \n",
    "    intensity_left = colorLeft.reflected_light_intensity\n",
    "    intensity_right = colorRight.reflected_light_intensity\n",
    "    \n",
    "    left_motor_speed = SpeedPercent(intensity_right)\n",
    "    right_motor_speed = SpeedPercent(intensity_left)\n",
    "    \n",
    "    tank_drive.on(left_motor_speed, right_motor_speed)\n",
    "    print('Light_left: ' + str(intensity_left ))\n",
    "    print('Light_right: ' + str(intensity_right))"
   ]
  },
  {
   "cell_type": "markdown",
   "metadata": {},
   "source": [
    "By inspection of the traces, you should notice that one of them is always slightly higher than the other.\n",
    "\n",
    "We can also inspect the data in the notebook directly by looking at the data returned in the notebook synchroised datalog."
   ]
  },
  {
   "cell_type": "code",
   "execution_count": null,
   "metadata": {},
   "outputs": [],
   "source": [
    "#Grab the logged data into a pandas dataframe\n",
    "df = eds.get_dataframe_from_datalog(roboSim.results_log)\n",
    "\n",
    "#Preview the first few rows of the dataset\n",
    "df.head()"
   ]
  },
  {
   "cell_type": "markdown",
   "metadata": {},
   "source": [
    "Plot the data from the dataframe using the `seaborn` scientific charting package:"
   ]
  },
  {
   "cell_type": "code",
   "execution_count": null,
   "metadata": {},
   "outputs": [],
   "source": [
    "import seaborn as sns\n",
    "\n",
    "# A line plot is a sensible chart type to use\n",
    "# to plot the time series data\n",
    "ax = sns.lineplot(x=\"index\",\n",
    "                  y=\"value\",\n",
    "                  hue='variable',\n",
    "                  data=df)"
   ]
  },
  {
   "cell_type": "markdown",
   "metadata": {},
   "source": [
    "# Using Ultrasound\n",
    "\n",
    "\n",
    "We can also create a Braitenberg vehicle that uses a single distance sensor to moderate its behaviour, for example to try to avoid obstacles.\n",
    "\n",
    "Load in the *Obstacles Test* background, run the following code cell to download the programme to the simulator, and then run it in the simulator.\n",
    "\n",
    "Record your observations of the the behaviour of the robot when the programme is run in the simulator with the robot starting in different positions. Based on your observations, what do sort of behaviour does the robot appear to be performing?"
   ]
  },
  {
   "cell_type": "code",
   "execution_count": null,
   "metadata": {},
   "outputs": [],
   "source": [
    "%%sim_magic_preloaded\n",
    "import time\n",
    "ultrasonic = UltrasonicSensor(INPUT_1)\n",
    "\n",
    "u = ultrasonic.distance_centimeters\n",
    "print('Ultrasonic: ' + str(u))\n",
    "time.sleep(1)\n",
    "while  u > 1:\n",
    "    u = ultrasonic.distance_centimeters\n",
    "    print('Ultrasonic: ' + str(u))\n",
    "    u = min(100, u)\n",
    "    left_motor_speed = SpeedPercent(u)\n",
    "    right_motor_speed = SpeedPercent(u)\n",
    "    tank_drive.on(left_motor_speed, right_motor_speed)\n"
   ]
  },
  {
   "cell_type": "markdown",
   "metadata": {},
   "source": [
    "*Record your observations here about what the robot appears to be doing when the program is run in the simulator with the rovot starting in different positions.*"
   ]
  },
  {
   "cell_type": "markdown",
   "metadata": {},
   "source": [
    "*Based solely on your observations, what sort of behaviour does the robot appear to be performing?*"
   ]
  },
  {
   "cell_type": "markdown",
   "metadata": {},
   "source": [
    "*With reference to the programme, what actions is the robot actually performing?*"
   ]
  },
  {
   "cell_type": "markdown",
   "metadata": {},
   "source": [
    "### Answer\n",
    "*Click the arrow in the sidebar to reveal my answer.*"
   ]
  },
  {
   "cell_type": "markdown",
   "metadata": {},
   "source": [
    "__TO DO__"
   ]
  },
  {
   "cell_type": "markdown",
   "metadata": {},
   "source": [
    "## Summary\n",
    "\n",
    "In this notebook you have experimented with some simple Braitenberg vehicles, seeing how a reactive control strategy based on some simple sensor inputs can lead to different emergent behabviours in the robot. In some cases, we might be tempted to call such behaviours \"intelligent\", or to ascribe certain *desires* to the robot (such as '*it __wants__ to this*) but that is not really the case: the robot is simply reacting to particular inputs in a particular way."
   ]
  }
 ],
 "metadata": {
  "jupytext": {
   "cell_metadata_filter": "-all",
   "main_language": "python",
   "notebook_metadata_filter": "-all",
   "text_representation": {
    "extension": ".md",
    "format_name": "markdown"
   }
  }
 },
 "nbformat": 4,
 "nbformat_minor": 4
}
