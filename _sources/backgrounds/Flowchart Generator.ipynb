{
 "cells": [
  {
   "cell_type": "markdown",
   "metadata": {},
   "source": [
    "# Flow Chart Generator"
   ]
  },
  {
   "cell_type": "code",
   "execution_count": 2,
   "metadata": {},
   "outputs": [],
   "source": [
    "from jp_flowchartjs.jp_flowchartjs import FlowchartWidget"
   ]
  },
  {
   "cell_type": "markdown",
   "metadata": {},
   "source": [
    "*An [issue](https://github.com/adrai/flowchart.js/issues/186) has been filed regarding the misaligned return path in the flow diagram in `jp_flowchartjs`.*"
   ]
  },
  {
   "cell_type": "markdown",
   "metadata": {},
   "source": [
    "## 03_1_1\n",
    "\n",
    "Mermaid code https://mermaid-js.github.io/mermaid-live-editor/\n",
    "The mermaid editor is supposed to encode/decode base 64 strings\n",
    "but I can't get my own encoder/decoder to work to encode/decode things the same way?\n",
    "\n",
    "graph LR\n",
    "    A(Start) --> B[Set the count to 0]\n",
    "    B --> C[Swim a length]\n",
    "    C --> D[Add 1 to the count]\n",
    "    D --> E{Is the<br/>count less<br/>than 20?}\n",
    "    E --> |Yes| C\n",
    "    E --> |No| F(End)\n",
    "    \n",
    "Long description:\n",
    "\n",
    "A flow chart for a person swimming 20 lengths of a pool. The flow chart starts with an oval shape labelled ‘Start’. From here there are sequences of boxes connected by arrows: first ‘Set the count to 0’, then ‘Swim a length’ and last ‘Add 1 to the count’. From this box an arrow leads to a decision diamond labelled ‘Is the count less than 20?’ Two arrows lead from this: one labelled ‘Yes’, the other ‘No’. The ‘Yes’ branch leads back to rejoin the box ‘Swim a length’. The ‘No’ branch leads directly to an oval shape labelled ‘End’. There is thus a loop in the chart which includes the steps ‘Swim a length’ and ‘Add 1 to the count’ and ends with the decision ‘Is the count less than 20?’"
   ]
  },
  {
   "cell_type": "code",
   "execution_count": null,
   "metadata": {},
   "outputs": [],
   "source": [
    "%%flowchart_magic\n",
    "st=>start: Start\n",
    "e=>end: End\n",
    "op1=>operation: Set the count to 0\n",
    "op2=>operation: Swim a length\n",
    "op3=>operation: Add 1 to the count\n",
    "cond=>condition: Is the count less than 20?\n",
    "st(right)->op1(right)->op2(right)->op3(right)->cond\n",
    "cond(yes,right)->op2\n",
    "cond(no)->e"
   ]
  },
  {
   "cell_type": "markdown",
   "metadata": {},
   "source": [
    "### Ironing\n",
    "\n",
    "Mermaid drawing (this is far from ideal...Maybe better to use draw.io?)<font color='red'>JD: To be resolved.</font>\n",
    "\n",
    "graph LR\n",
    "    A(Start) --> B{Any clothes<br>left in<br/>basket?}\n",
    "    B --> |Yes| C[Take out<br/>item and<br/>iron]\n",
    "    C --> D[Put it on pile<br/>of ironed<br/>clothes]\n",
    "    D --> B\n",
    "    B --> |No| E(End)\n",
    "    \n",
    "Long description:\n",
    "\n",
    "A flow chart for a person ironing clothes. This starts with an oval ‘Start’. An arrow leads to a decision diamond ‘Any clothes left in basket?’ Two arrows lead from this: one labelled ‘Yes’, the other ‘No’. The ‘Yes’ branch continues in turn to two boxes ‘Take out item and iron’ and ‘Put it on pile of ironed clothes’; an arrow leads back from this box to rejoin the decision ‘Any clothes left in basket?’ The ‘No’ branch leads directly to an oval ‘End’. There is thus a loop in the chart which begins with the decision ‘Any clothes left in basket?’ and includes the steps ‘Take out item and iron’ and ‘Put it on pile of ironed clothes’."
   ]
  },
  {
   "cell_type": "code",
   "execution_count": 3,
   "metadata": {},
   "outputs": [
    {
     "data": {
      "application/vnd.jupyter.widget-view+json": {
       "model_id": "c933ab7b01fa4a479e3f0762502bd029",
       "version_major": 2,
       "version_minor": 0
      },
      "text/plain": [
       "FlowchartWidget(status='deferring flush until render')"
      ]
     },
     "metadata": {},
     "output_type": "display_data"
    }
   ],
   "source": [
    "%%flowchart_magic\n",
    "st=>start: Start\n",
    "e=>end: End\n",
    "cond=>condition: Any clothes left in basket?\n",
    "op2=>operation: Take out item and iron\n",
    "op3=>operation: Put it on pile of ironed clothes\n",
    "st(right)->cond\n",
    "cond(yes, right)->op2\n",
    "op2(right)->op3(top)->cond\n",
    "cond(no, bottom)->e"
   ]
  },
  {
   "cell_type": "markdown",
   "metadata": {},
   "source": [
    "graph TD\n",
    "    A(Start) --> B[Set counter to 0]\n",
    "    B --> C[# Draw side<br/>...code...]\n",
    "    C --> D[# Turn ninety degrees<br/>...code...]\n",
    "    D --> E[Add 1 to counter]\n",
    "    E --> F{Is counter < 4?}\n",
    "    F --> |Yes| C\n",
    "    F --> |No| G(End)\n",
    "    \n",
    "Long description:\n",
    "\n",
    "A flow chart for a robot program with a loop. This starts with an oval ‘Start’. An arrow leads first to a box ‘Set counter to 0’ and then to a sequence of further boxes: ‘# Draw side’ with an implication of the code associated with that, ‘# Turn ninety degrees’, again with a hint regarding the presence of code associated with that activity, and lastly ‘Add 1 to counter’. The arrow from this box leads to a decision diamond ‘Is counter < 4?’ Two arrows lead from this, one labelled ‘Yes’, the other ‘No’. The ‘Yes’ branch loops back to rejoin the sequence at ‘# Draw side code’. The ‘No’ branch leads directly to an oval ‘End’. There is thus a loop in the chart which includes the sequence of motor control commands, incrementing the counter and ends with the decision ‘Is counter < 4?’."
   ]
  },
  {
   "cell_type": "code",
   "execution_count": null,
   "metadata": {},
   "outputs": [],
   "source": [
    "%%flowchart_magic\n",
    "st=>start: Start\n",
    "e=>end: End\n",
    "op1=>operation: Set counter to 0\n",
    "op2=>operation: Draw side code\n",
    "op3=>operation: Turn ninety degrees code\n",
    "op4=>operation: Add 1 to counter\n",
    "cond=>condition: Is counter < 4?\n",
    "st(right)->op1(right)->op2->op3->cond\n",
    "cond(yes, right)->op2\n",
    "cond(no, bottom)->e"
   ]
  },
  {
   "cell_type": "markdown",
   "metadata": {},
   "source": [
    "### 02_Robot_Lab/Section_00_02.md\n",
    "\n",
    "![](https://mermaid.ink/img/eyJjb2RlIjoiXG5ncmFwaCBURFxuICAgIEEoU3RhcnQpIC0tPiBCW01vdmUgZm9yd2FyZHNdXG4gICAgQiAtLT4gQ3tMaWdodCA9PSAyNTV9XG4gICAgQyAtLT4gfFllc3wgRFtEaXNwbGF5IHJlYWRpbmddXG4gICAgRCAtLT4gQ1xuICAgIEMgLS0-IHxOb3wgRVtEcml2ZSBmb3J3YXJkPGJyLz5hIHNob3J0IHdheV1cbiAgICBFIC0tPiBGe0xpZ2h0IDwgMTI4P31cbiAgICBGIC0tPiB8WWVzfCBHW1NheSAnYmxhY2snXVxuICAgIEYgLS0-IHxOb3wgSFtTYXkgJ2dyZXknXVxuICAgIEcgLS0-IEkoRW5kKVxuICAgIEggLS0-IElcbiAgICBcbiIsIm1lcm1haWQiOnsidGhlbWUiOiJkZWZhdWx0In0sInVwZGF0ZUVkaXRvciI6ZmFsc2V9)"
   ]
  },
  {
   "cell_type": "code",
   "execution_count": 3,
   "metadata": {},
   "outputs": [
    {
     "data": {
      "application/vnd.jupyter.widget-view+json": {
       "model_id": "6172902205b5484f936c7ae086aa9eb4",
       "version_major": 2,
       "version_minor": 0
      },
      "text/plain": [
       "FlowchartWidget(status='deferring flush until render')"
      ]
     },
     "metadata": {},
     "output_type": "display_data"
    }
   ],
   "source": [
    "%%flowchart_magic\n",
    "st=>start: Start\n",
    "e=>end: End\n",
    "op1=>operation: Start moving forwards\n",
    "cond1=>condition: Light < 100?\n",
    "op2=>parallel: Display reading (continue drive forwards)\n",
    "op3=>operation: Drive forward a short way\n",
    "cond2=>condition: Light < 50?\n",
    "op4=>operation: Say \"grey\"\n",
    "op5=>operation: Say \"black\"\n",
    "\n",
    "st(right)->op1(right)->cond1({'flowstate':{'cond1':{'yes-text' : 'ssno', 'no-text' : 'yes'}}} )\n",
    "cond1(no,right)->op2(path1, top)->cond1\n",
    "cond1(yes)->op3->cond2\n",
    "cond2(no)->op4->e\n",
    "cond2(yes)->op5->e"
   ]
  },
  {
   "cell_type": "markdown",
   "metadata": {},
   "source": [
    "<div class='alert alert-warning'>The flowchart.js layout algorithm will allow us to change yes/no labels on conditions, but the magic does not currently provide a way to pass alternative values in (eg swapping yes/no labels to change the sense of the decision as drawn). Also, the layout algorithm seems to be broken when swapping yes and no.</div>"
   ]
  },
  {
   "cell_type": "code",
   "execution_count": null,
   "metadata": {},
   "outputs": [],
   "source": [
    "## # Mermaid.js code\n",
    "\n",
    "graph TD\n",
    "    A(Start) --> B[Move forwards]\n",
    "    B --> C{Light == 100}\n",
    "    C --> |Yes| D[Display reading]\n",
    "    D --> C\n",
    "    C --> |No| E[Drive forward<br/>a short way]\n",
    "    E --> F{Light < 50?}\n",
    "    F --> |Yes| G[Say 'black']\n",
    "    F --> |No| H[Say 'grey']\n",
    "    G --> I(End)\n",
    "    H --> I"
   ]
  },
  {
   "cell_type": "markdown",
   "metadata": {},
   "source": [
    "We can do checklists in notebooks:\n",
    "\n",
    "- [ ] item 1\n",
    "- [ ] item 2"
   ]
  },
  {
   "cell_type": "code",
   "execution_count": null,
   "metadata": {},
   "outputs": [],
   "source": [
    "# %%flowchart_magic\n",
    "st=>start: Start\n",
    "e=>end: End\n",
    "op1=>operation: Start moving forwards\n",
    "cond1=>condition: Light < 100?\n",
    "op2=>parallel: Display reading (continue drive forwards)\n",
    "op3=>operation: Drive forward a short way\n",
    "cond2=>condition: Light < 50?\n",
    "op4=>operation: Say \"grey\"\n",
    "op5=>operation: Say \"black\"\n",
    "\n",
    "st(right)->op1(right)->cond1({'flowstate':{'cond1':{'yes-text' : 'ssno', 'no-text' : 'yes'}}} )\n",
    "cond1(no,right)->op2(path1, top)->cond1\n",
    "cond1(yes)->op3->cond2\n",
    "cond2(no)->op4->e\n",
    "cond2(yes)->op5->e\n"
   ]
  },
  {
   "cell_type": "markdown",
   "metadata": {},
   "source": [
    "The flow chart starts with a *Start* label followed by a rectangular *Start moving forwards* step. An initial diamond shaped decision block tests the condition \"Light < 100\". If false (\"no\"), the program continues with a rectangular \"Display reading (continue drive forwards)\" step which then returns control back to the first decision block. If true (\"yes\") control progresses via a rectangular \"Drive forward a short way\" step and then another diamond shaped decision step which tests the condition \"Light < 50\". If \"no\", control passes to a rectangular \"Say 'grey'\" step and then a terminating \"End\" condition. If \"yes\", control passes to a rectangular \"Say 'black'\" step and then also connects to the terminating \"End\" condition."
   ]
  },
  {
   "cell_type": "markdown",
   "metadata": {},
   "source": [
    "## Design cycle"
   ]
  },
  {
   "cell_type": "raw",
   "metadata": {},
   "source": [
    "# st=>start: Start\n",
    "e=>end: End\n",
    "op1=>operation: Generate\n",
    "op2=>parallel: Evaluate\n",
    "st(right)->op1(right)->op2\n",
    "op2(path1, top)->op1\n",
    "op2(path2, right)->e"
   ]
  }
 ],
 "metadata": {
  "jupytext": {
   "formats": "ipynb,.md//md"
  },
  "kernelspec": {
   "display_name": "Python 3",
   "language": "python",
   "name": "python3"
  },
  "language_info": {
   "codemirror_mode": {
    "name": "ipython",
    "version": 3
   },
   "file_extension": ".py",
   "mimetype": "text/x-python",
   "name": "python",
   "nbconvert_exporter": "python",
   "pygments_lexer": "ipython3",
   "version": "3.7.6"
  }
 },
 "nbformat": 4,
 "nbformat_minor": 4
}
