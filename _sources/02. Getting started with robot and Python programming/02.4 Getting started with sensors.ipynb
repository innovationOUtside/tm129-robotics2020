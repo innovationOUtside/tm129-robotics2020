{
 "cells": [
  {
   "cell_type": "markdown",
   "id": "treated-billy",
   "metadata": {},
   "source": [
    "# 4 Robot sensors and data logging\n",
    "\n",
    "In this notebook, you will start to learn how to work with one of the sensors provided in our robot simulator, as well as how to collect data from it for further analysis or visualisation.\n",
    "\n",
    "In particular, we will focus on the light sensor, using it to demonstrate the various ways we can capture, report and make use of sensor information in RoboLab.\n",
    "\n",
    "Before we get started, load in the simulator in the normal way:"
   ]
  },
  {
   "cell_type": "code",
   "execution_count": null,
   "id": "enhanced-teaching",
   "metadata": {},
   "outputs": [],
   "source": [
    "from nbev3devsim.load_nbev3devwidget import roboSim, eds\n",
    "%load_ext nbev3devsim"
   ]
  },
  {
   "cell_type": "markdown",
   "id": "copyrighted-latin",
   "metadata": {},
   "source": [
    "## 4.1 Previewing sensor values\n",
    "\n",
    "The *Instrumentation* panel provides information regarding sensor and motor readings.\n",
    "\n",
    "- `LeftMotor` / `RightMotor` report tachometer counts for each motor\n",
    "- `Sensor1` / `Sensor2` report left and right light sensor values as follows: reflected light percentage for the red component range 0...100; average reflected light percentage over all three RGB components range 0...100; 3-tuple of RGB values, each in range 0...255\n",
    "- `Ultrasonic`: distance reading to obstacle\n",
    "- `Gyro`: the *angle* in degrees since the sensor was initialised and the *rate* at which the sensor is rotating, in degrees/second.\n",
    "\n",
    "Run the following code cell with the `--instrumentation` / `-i` simulator magic flag to show the *Instrumentation* panel and the *Rainbow_bands* background preloaded. Click and drag the simulated robot, or use the *Position controls* (`-X`), to move the robot around the testcard, observing how the sensor values are updated as you do so:"
   ]
  },
  {
   "cell_type": "code",
   "execution_count": null,
   "id": "excess-finder",
   "metadata": {},
   "outputs": [],
   "source": [
    "%sim_magic -b Rainbow_bands -H --instrumentation"
   ]
  },
  {
   "cell_type": "markdown",
   "id": "saving-facility",
   "metadata": {
    "student": true
   },
   "source": [
    "*Record your own observations about the sensor readings over various coloured background stripes here.*"
   ]
  },
  {
   "cell_type": "markdown",
   "id": "developed-parts",
   "metadata": {},
   "source": [
    "## 4.2 Investigating the light sensor\n",
    "\n",
    "One of the things that distinguishes robot control programs from many other sorts of program is that robots typically have a range of *sensors* available to them. Readings taken from these sensors can be referenced from within the robot control program and used to inform or determine the actions it takes.\n",
    "\n",
    "To begin with, you will experiment with a simulated downward light sensor that can take readings from the simulator world background as it drives over it.\n",
    "\n",
    "The simulated sensor we are using is based on the Lego light sensor:\n",
    "\n",
    "![*A Lego light sensor. This is a custom packaged sensor with a Technic Lego connector on the base. Two small lenses are visible in the front face of the sensor brick. A large clear lens is the light sensor itself. Below it is a lens that can be used as a light source to illuminate a surface. The light sensor then measures light reflected from the surface rather than ambient light levels.](../images/ev3_light_sensor.png)\n",
    "\n",
    "The light sensor measures light across three channels: *red*, *green* and *blue*. The light sensor returns information about the reflected light in various ways."
   ]
  },
  {
   "cell_type": "markdown",
   "id": "organized-serbia",
   "metadata": {},
   "source": [
    "Some of these are referenced in the robot control programs as follows:\n",
    "\n",
    "- `.rgb`: as a list of raw values, `[red, green, blue]`, each value representing an integer in the range 0...255\n",
    "- `.reflected_light_intensity`: an integer in the range 0...255 representing the red component of the full RGB response\n",
    "- `.reflected_light_intensity_pc`: a floating-point number in the range 0...100.0 representing the reflected light intensity as a percentage\n",
    "- `.full_reflected_light_intensity`: a floating-point number in the range 0...100.0 representing the reflected light intensity averaged over all three RGB channels, as a percentage\n",
    "- `.color` / `.color_name`: a colour value in the range 1...7 (representing: black, blue, green, yellow, red, white, brown), or the corresponding colour name."
   ]
  },
  {
   "cell_type": "markdown",
   "id": "worldwide-horizontal",
   "metadata": {},
   "source": [
    "We can remind ourselves how the sensors are defined by previewing the boilerplate code added by the magics:"
   ]
  },
  {
   "cell_type": "code",
   "execution_count": null,
   "id": "loose-alcohol",
   "metadata": {},
   "outputs": [],
   "source": [
    "%sim_magic_preloaded -v"
   ]
  },
  {
   "cell_type": "markdown",
   "id": "spoken-mortgage",
   "metadata": {},
   "source": [
    "In this case, we have defined the left colour sensor as `colorLeft` so within a robot control program we might lookup a sensor value as `colorLeft.reflected_light_intensity` or `colorLeft.reflected_light_intensity_pc` for example. \n",
    "\n"
   ]
  },
  {
   "cell_type": "markdown",
   "id": "governmental-austria",
   "metadata": {},
   "source": [
    "### 4.2.1 Using the light sensor as a low-resolution camera\n",
    "\n",
    "The way each light sensor is implemented by the simulator is as a simple quantised circular area of pixels, each of which returns an RGB value. The value returned by the sensor is then some function of the individual array values."
   ]
  },
  {
   "cell_type": "markdown",
   "id": "comparative-position",
   "metadata": {
    "tags": [
     "alert-success"
    ]
   },
   "source": [
    "*In fact, the function is a simple average (mean) value, but other strategies are available, including weighted averages, where we weight values returned by pixels in the central focal array of the array more heavily than ‘out of focus’ or ‘peripheral vision’ pixels at the edge of the array, for example.*"
   ]
  },
  {
   "cell_type": "markdown",
   "id": "assured-package",
   "metadata": {},
   "source": [
    "You can preview the sensor array view using the *Sensor arrays* panel raised via the `--array` / `-A` magic switch."
   ]
  },
  {
   "cell_type": "code",
   "execution_count": null,
   "id": "southern-burner",
   "metadata": {},
   "outputs": [],
   "source": [
    "%sim_magic -b Testcard -H --array "
   ]
  },
  {
   "cell_type": "markdown",
   "id": "faced-florida",
   "metadata": {},
   "source": [
    "## 4.3 Updating variables from sensor values\n",
    "\n",
    "Load the *Grey\\_bands* background in to the simulator, and download and run the following program.\n",
    "\n",
    "Observe the values that are displayed in the simulator output window.\n",
    "\n",
    "You may also choose to monitor the values via the *Instrumentation* and *Sensor arrays* panels."
   ]
  },
  {
   "cell_type": "code",
   "execution_count": null,
   "id": "seasonal-calendar",
   "metadata": {},
   "outputs": [],
   "source": [
    "%%sim_magic_preloaded -b Grey_bands --output -RH\n",
    "\n",
    "# Explicitly set up the colour sensor\n",
    "from ev3dev2.sensor import INPUT_2\n",
    "colorLeft = ColorSensor(INPUT_2)\n",
    "\n",
    "tank_drive.on(SpeedPercent(50),\n",
    "              SpeedPercent(50))\n",
    "\n",
    "sensor_value = colorLeft.reflected_light_intensity_pc\n",
    "\n",
    "while sensor_value > 0:\n",
    "    print(sensor_value)\n",
    "    sensor_value = colorLeft.reflected_light_intensity_pc\n",
    "\n",
    "print(\"I now see {}\".format( sensor_value))\n",
    "tank_drive.off()"
   ]
  },
  {
   "cell_type": "markdown",
   "id": "connected-nutrition",
   "metadata": {},
   "source": [
    "In the program the `colorLeft.reflected_light_intensity_pc` element represents a variable that describes the current value of a particularly configured robot sensor. We then set another variable, `sensor_value` equal to the value of that sensor variable.\n",
    "\n",
    "From the simulator output display, we see that the `sensor_value` changes as the robot crosses the grey lines. But there is nothing explicitly stated in the program where *we* update the `colorLeft.reflected_light_intensity_pc` value. Rather, its value is updated ‘live’ from a regular poll of the sensor within the simulator.\n",
    "\n",
    "*By polling a sensor, we mean that a reading is taken from the sensor (somehow!) and used to set the value of a variable associated with that sensor so we can make decisions based on the sensor value from within our robot control program.*"
   ]
  },
  {
   "cell_type": "markdown",
   "id": "intermediate-absence",
   "metadata": {
    "activity": true,
    "hideCode": true,
    "hidePrompt": true
   },
   "source": [
    "### 4.3.1 Activity – Experimenting with the light sensor\n",
    "\n",
    "In this activity you will explore the range of values returned by the light sensor.\n",
    "\n",
    "Load the *Grey_bands* background into the simulator and then click and drag the simulated robot over each coloured band."
   ]
  },
  {
   "cell_type": "code",
   "execution_count": null,
   "id": "comparable-touch",
   "metadata": {
    "activity": true
   },
   "outputs": [],
   "source": [
    "%sim_magic -b Grey_bands"
   ]
  },
  {
   "cell_type": "markdown",
   "id": "angry-runner",
   "metadata": {
    "activity": true,
    "hideCode": true,
    "hidePrompt": true
   },
   "source": [
    "Alternatively use the simulator magic to move it to the various locations `-y 500` and `-x` taking values in `[125, 325, 725, 1125, 1525]`.\n",
    "\n",
    "Record the sensor values displayed in each case. You can identify these values:\n",
    "\n",
    "- from the simulator widget user interface by opening the *Instrumentation* panel\n",
    "- from the simulator widget output window if you run a program to print the values there\n",
    "- from a notebook code cell by synchronising the robot state and then displaying the required data values.\n",
    "\n",
    "What value does the sensor give when the robot is placed on the white background? What sensor values are returned when the light sensor is over each of the light grey, medium grey, dark grey and black bands?"
   ]
  },
  {
   "cell_type": "code",
   "execution_count": null,
   "id": "several-fashion",
   "metadata": {
    "activity": true
   },
   "outputs": [],
   "source": [
    "%%sim_magic_preloaded -b Grey_bands -y 500 -x 875 -R\n",
    "\n",
    "print('RGB', colorLeft.rgb)\n",
    "print('Reflected light intensity',\n",
    "      colorLeft.reflected_light_intensity)\n",
    "print('Reflected light intensity per cent',\n",
    "      colorLeft.reflected_light_intensity_pc)\n",
    "print('Full reflected light intensity (%)',\n",
    "      colorLeft.full_reflected_light_intensity)\n",
    "print('Colour', colorLeft.color)\n",
    "print('Colour name', colorLeft.color_name)\n"
   ]
  },
  {
   "cell_type": "markdown",
   "id": "ordinary-prefix",
   "metadata": {
    "student": true
   },
   "source": [
    "*Double-click this cell to edit it and add your recorded sensor values here:*\n",
    "\n",
    "- white background:\n",
    "- light grey band: \n",
    "- medium grey band:\n",
    "- dark grey band: \n",
    "- black band: "
   ]
  },
  {
   "cell_type": "markdown",
   "id": "violent-tobago",
   "metadata": {
    "activity": true,
    "hideCode": true,
    "hidePrompt": true
   },
   "source": [
    "Now load the *Rainbow_bands* background into the simulator and then click and drag the simulated robot over each coloured band (or move it to the various locations `-y 500` and `-x` taking values in `[125, 325, 725, 1125, 1525]`."
   ]
  },
  {
   "cell_type": "code",
   "execution_count": null,
   "id": "separated-genre",
   "metadata": {
    "activity": true
   },
   "outputs": [],
   "source": [
    "%sim_magic -b Rainbow_bands"
   ]
  },
  {
   "cell_type": "markdown",
   "id": "considerable-married",
   "metadata": {
    "activity": true,
    "hideCode": true,
    "hidePrompt": true
   },
   "source": [
    "What value does the sensor give when the robot is placed on each of the coloured backgrounds?\n",
    "\n",
    "Do you notice anything strange about the sensor values, particularly when the robot is close to the edge of a particular band?"
   ]
  },
  {
   "cell_type": "markdown",
   "id": "thrown-heather",
   "metadata": {
    "student": true
   },
   "source": [
    "*Double-click this cell to edit it and add your recorded sensor values here:*\n",
    "\n",
    "- white background:\n",
    "- light grey band: \n",
    "- medium grey band:\n",
    "- dark grey band: \n",
    "- black band: "
   ]
  },
  {
   "cell_type": "markdown",
   "id": "wound-premium",
   "metadata": {
    "activity": true,
    "heading_collapsed": true,
    "hideCode": true,
    "hidePrompt": true
   },
   "source": [
    "#### Example solution\n",
    "\n",
    "*Click the arrow in the sidebar or run this cell to reveal an example solution.*"
   ]
  },
  {
   "cell_type": "markdown",
   "id": "czech-russia",
   "metadata": {
    "activity": true,
    "hidden": true,
    "hideCode": true,
    "hidePrompt": true,
    "lines_to_next_cell": 2
   },
   "source": [
    "I get the following readings for the reflected light intensity readings from the light sensor:\n",
    "\n",
    "- white background: `100`\n",
    "- light grey band: `~86`\n",
    "- medium grey band: `~82`\n",
    "- dark grey band: `~50`\n",
    "- black band: `0`\n",
    "\n",
    "There is some ‘noise’ in the form of intermediate values as the robot goes into and leaves the band. This is because the sensor has a ‘width’ so it may be averaging readings where part of the sensor is over the white background and part of it is over the coloured band."
   ]
  },
  {
   "cell_type": "markdown",
   "id": "italian-contrast",
   "metadata": {},
   "source": [
    "###  4.3.2 Identifying colour values\n",
    "\n",
    "As we well displaying raw RGB values, we can also report on colour values.\n",
    "\n",
    "Run the following magic to load in a program that speaks the colour value and colour name of the current colour seen by the left colour sensor:"
   ]
  },
  {
   "cell_type": "code",
   "execution_count": null,
   "id": "delayed-playback",
   "metadata": {},
   "outputs": [],
   "source": [
    "%%sim_magic_preloaded -b Rainbow_bands\n",
    "\n",
    "colorval =  colorLeft.color\n",
    "colorname = colorLeft.color_name\n",
    "\n",
    "say(colorval)\n",
    "say(colorname)\n",
    "\n",
    "print(\"I see\" + colorname + str(colorval))"
   ]
  },
  {
   "cell_type": "markdown",
   "id": "apart-prospect",
   "metadata": {},
   "source": [
    "Now run the following command to autorun the program at specified locations of that background:"
   ]
  },
  {
   "cell_type": "code",
   "execution_count": null,
   "id": "separated-orange",
   "metadata": {},
   "outputs": [],
   "source": [
    "# Run this cell several time with\n",
    "# with a different value of x each time:\n",
    "# x: 100, 300 500, 700, 900, 1100, 1300, 1500\n",
    "%sim_magic --autorun --xpos 100"
   ]
  },
  {
   "cell_type": "markdown",
   "id": "following-mathematics",
   "metadata": {
    "hideCode": true,
    "hidePrompt": true
   },
   "source": [
    "## 4.4 Logging data from the light sensor\n",
    "\n",
    "In the simulator, the *Grey_bands* background displays a white background overlaid by four grey bars of different intensity, ranging from a pale grey to black.\n",
    "\n",
    "The following program could be used to drive the simulated robot over the background, logging the light sensor data as it does so:\n",
    "\n",
    "```python\n",
    "# import require components\n",
    "from ev3dev2.motor import MoveTank, SpeedPercent, OUTPUT_B, OUTPUT_C\n",
    "from ev3dev2.sensor import INPUT_1, INPUT_2, INPUT_3, INPUT_4\n",
    "from ev3dev2.sensor.lego import ColorSensor\n",
    "from time import sleep\n",
    "\n",
    "# Create tank drive and colour sensor references\n",
    "tank_drive = MoveTank(OUTPUT_B, OUTPUT_C)\n",
    "colorLeft = ColorSensor(INPUT_2)\n",
    "\n",
    "# Start the robot driving forwards\n",
    "tank_drive.on(SpeedPercent(50), SpeedPercent(50))\n",
    "\n",
    "# Blocking sample rate for sampling sensor value\n",
    "sample_period = 0.1\n",
    "\n",
    "# Run the following loop\n",
    "while True:\n",
    "    # Log the colour sensor data\n",
    "    print('Colour: ' + str(colorLeft.reflected_light_intensity_pc ))\n",
    "    \n",
    "    # If we see black, break out of the loop\n",
    "    if sensor_val == 0:\n",
    "        break\n",
    "    sleep(sample_period)\n",
    "        \n",
    "say(\"All done.\")\n",
    "```\n",
    "\n",
    "We can also use the `%%sim_magic_preloaded` magic to preload the drive and sensor configurations and references to minimise the clutter in *our* code, whilst remembering that it is still required for the program to run, and will be loaded in automatically by the magic."
   ]
  },
  {
   "cell_type": "code",
   "execution_count": null,
   "id": "expanded-manner",
   "metadata": {
    "hideCode": true,
    "hidePrompt": true
   },
   "outputs": [],
   "source": [
    "%%sim_magic_preloaded --background Grey_bands -OHR\n",
    "from time import sleep\n",
    "\n",
    "# Start the robot driving forwards\n",
    "# using the preloaded tank_drive definition\n",
    "tank_drive.on(SpeedPercent(50),\n",
    "              SpeedPercent(50))\n",
    "\n",
    "# Blocking sample rate for sampling sensor value\n",
    "sample_period = 0.1\n",
    "\n",
    "while True:\n",
    "    sensor_val = colorLeft.reflected_light_intensity_pc\n",
    "    print('Colour: ' + str( sensor_val))\n",
    "    \n",
    "    # If we see black, break out of the loop\n",
    "    if sensor_val == 0:\n",
    "        break\n",
    "    sleep(sample_period)\n",
    "\n",
    "say(\"All done.\")"
   ]
  },
  {
   "cell_type": "markdown",
   "id": "forbidden-courage",
   "metadata": {
    "hideCode": true,
    "hidePrompt": true
   },
   "source": [
    "Run the previous code cell to download the program to the simulator and then run it in the simulator.\n",
    "\n",
    "As the program runs, you should notice that a sequence of logged data values from the sensor are displayed in the output window. If you scroll up through the display in that window you should notice that the sensor values changed as the robot crossed over each grey line."
   ]
  },
  {
   "cell_type": "markdown",
   "id": "familiar-consortium",
   "metadata": {},
   "source": [
    "## 4.5 Viewing the logged data using a chart display\n",
    "\n",
    "As well as taking the sensor readings directly, we can also read them from a chart created in real time from the logged data.\n",
    "\n",
    "By monitoring the output display for print messages that log sensor outputs using a particular message format, particular messages can be automatically parsed and used to extract data values so that they can be displayed on a dynamically updated line chart."
   ]
  },
  {
   "cell_type": "markdown",
   "id": "white-missouri",
   "metadata": {
    "activity": true,
    "hideCode": true,
    "hidePrompt": true
   },
   "source": [
    "### 4.5.1 Activity – Viewing sensor data in a line chart\n",
    "\n",
    "Enable the inline interactive simulator data charter by clicking the *Chart* toggle display button in the simulator, then ensure that the *Colour* trace checkbox is ticked.\n",
    "\n",
    "Reset the start location of the robot by dragging it back to the start position or using the *Position controls* sliders.\n",
    "\n",
    "Using the *Simulator controls*, click the *Run* button or use the simulator keyboard shortcut (`R`) to run the simulator data collection program again.\n",
    "\n",
    "*Note that the simulator might run quite slowly as it updates the chart.*\n",
    "\n",
    "Observe how the chart is updated with the live sensor values. Can you see where the robot encounters the different coloured bands? What values are recorded for each band?"
   ]
  },
  {
   "cell_type": "markdown",
   "id": "considerable-water",
   "metadata": {
    "activity": true,
    "hideCode": true,
    "hidePrompt": true,
    "tags": [
     "alert-danger"
    ]
   },
   "source": [
    "*If the chart does not update, check that the `Colour` checkbox is selected. If it is and there is still no chart display, close the `Chart` panel and then open it again, press the `Clear Chart` button, wait a moment or two for the chart to reload and then try to run the program again.*"
   ]
  },
  {
   "cell_type": "markdown",
   "id": "looking-universe",
   "metadata": {
    "activity": true
   },
   "source": [
    "From the chart, can you read off the values for each band?"
   ]
  },
  {
   "cell_type": "markdown",
   "id": "cutting-fundamentals",
   "metadata": {
    "student": true
   },
   "source": [
    "*Double-click this cell to edit it and add your recorded sensor values here:*\n",
    "\n",
    "- white background:\n",
    "- light grey band: \n",
    "- medium grey band:\n",
    "- dark grey band: \n",
    "- black band: "
   ]
  },
  {
   "cell_type": "markdown",
   "id": "japanese-samuel",
   "metadata": {
    "activity": true,
    "hideCode": true,
    "hidePrompt": true
   },
   "source": [
    "#### Example solution\n",
    "\n",
    "*Click the arrow in the sidebar or run this cell to reveal an example solution.*"
   ]
  },
  {
   "cell_type": "markdown",
   "id": "tracked-specific",
   "metadata": {
    "activity": true,
    "hideCode": true,
    "hidePrompt": true
   },
   "source": [
    "The following diagram shows the result of showing the real-time data logging chart:\n",
    "\n",
    "![The simulator Data log window, with a graph showing sensor data. The graph has a vertical axis with a scale that runs from 0 to 250, and a horizontal axis that runs from 0 to 400. A line chart is plotted showing successive sensor readings. Reading the graph from left (the first sensor reading) to right (the last sensor reading), the line is horizontal at a y-value of 255 until an x-value of about 100, followed by a drop to about 220 until about x=145, at which point it climbs steeply back up to y=255, remaining at that level until about x=190. There is a further sharp drop to about (x, y) equal to (190, 210), then back up to 255 at about x=225, until another edge at about x=280 down to (280, 130); the chart then goes back up from about (320, 130) to (321, 255), then down to y=0 at about x=360, staying then until x is almost 410, at which point the line climbs back up to 255, stays there for a short while, and the trace ends.](../images/Section_00_03_-_charting.png)\n",
    "\n",
    "\n",
    "As the robot progresses across the bands, the bars that it encounters get progressively darker, so the sensor readings reduce. Between the bands, as the robot crosses the white background, the sensor reading go back up to their initial, maximum reading.\n",
    "\n",
    "If you hover your cursor over the chart, all the recorded trace values at that x-position on the chart are displayed. These are the values that were recorded and displayed, taken from the midpoint of the chart, when I ran the experiment:\n",
    "\n",
    "\n",
    "- white background: `100`\n",
    "- light grey band: `86.27451`\n",
    "- medium grey band: `82.7451`\n",
    "- dark grey band: `50.19608`\n",
    "- black band: `0`\n",
    "\n",
    "*(You may have noticed that the simulation runs in a slightly more ‘stuttery’ way than when the chart is not displayed as your computer has to do more work in terms of dynamically updating the chart. Increasing the `sample_period` time should improve this but at the cost of collecting less data.*\n"
   ]
  },
  {
   "cell_type": "markdown",
   "id": "recreational-collins",
   "metadata": {
    "hideCode": true,
    "hidePrompt": true
   },
   "source": [
    "## 4.6 Viewing the logged data – Uploading the logged data to the notebook\n",
    "\n",
    "As well as inspecting the datalog values in the simulator output window and via the embedded datalog chart, we can also export the logged data from the simulator into the Python environment used by the notebook. This then allows us to analyse and chart the data within a complete Python environment.\n",
    "\n",
    "The following code cell shows how to access the datalog from the simulator in the notebook’s Python environment. The *pandas* package is a very powerful package for working with tabular data."
   ]
  },
  {
   "cell_type": "markdown",
   "id": "controlled-feeling",
   "metadata": {
    "hideCode": true,
    "hidePrompt": true,
    "tags": [
     "alter-warning"
    ]
   },
   "source": [
    "*You can learn more about using pandas from the OpenLearn unit [Learn To code for data analysis](https://www.open.edu/openlearn/science-maths-technology/learn-code-data-analysis/content-section-overview-0?active-tab=description-tab) or as part of the Open University module [Data management and analysis (TM351)](http://www.open.ac.uk/courses/modules/tm351).*"
   ]
  },
  {
   "cell_type": "markdown",
   "id": "identified-copyright",
   "metadata": {},
   "source": [
    "### 4.6.1 Clearing the simulated robot’s datalog\n",
    "\n",
    "In order to view the data, let’s first clear the data using the `%sim_data` line magic with the `--clear` / `-c` switch:"
   ]
  },
  {
   "cell_type": "code",
   "execution_count": null,
   "id": "nutritional-opera",
   "metadata": {},
   "outputs": [],
   "source": [
    "%sim_data --clear"
   ]
  },
  {
   "cell_type": "markdown",
   "id": "killing-dictionary",
   "metadata": {},
   "source": [
    "Now rerun the data collection program that collected the data from a traverse across the grey lines:"
   ]
  },
  {
   "cell_type": "code",
   "execution_count": null,
   "id": "automatic-trailer",
   "metadata": {},
   "outputs": [],
   "source": [
    "%sim_magic -x 100 --autorun -W"
   ]
  },
  {
   "cell_type": "markdown",
   "id": "artistic-fiction",
   "metadata": {
    "hideCode": true,
    "hidePrompt": true
   },
   "source": [
    "### 4.6.2 Retrieving data from the simulated robot’s datalog\n",
    "\n",
    "Once you can see (or hear!) that the program has finished, run the following code cell to use the `%sim_data` line magic to grab the data from the datalog into the notebook’s own Python environment as a *pandas* dataframe and then associate it with the `data_df` variable running in the notebook’s own Python environment:"
   ]
  },
  {
   "cell_type": "code",
   "execution_count": null,
   "id": "arbitrary-orange",
   "metadata": {},
   "outputs": [],
   "source": [
    "data_df = %sim_data"
   ]
  },
  {
   "cell_type": "markdown",
   "id": "present-repeat",
   "metadata": {},
   "source": [
    "The dataframe is a powerful data structure that allows us to represent and work with tabular datasets. In certain repsoects, you might think of it providing a code-powered equivalent to a spreadsheet application such as Microsoft Excel.\n",
    "\n",
    "We can preview the first few lines of the dataframe by running the following command:"
   ]
  },
  {
   "cell_type": "code",
   "execution_count": null,
   "id": "nuclear-individual",
   "metadata": {
    "hideCode": true,
    "hidePrompt": true
   },
   "outputs": [],
   "source": [
    "data_df.head()"
   ]
  },
  {
   "cell_type": "markdown",
   "id": "attached-vertical",
   "metadata": {
    "tags": [
     "alert-success"
    ]
   },
   "source": [
    "*It is common parlance in computing circles to refer to the top, or first few lines, of a file as the `head` and the end, or last few lines, of a file as the `tail`.*"
   ]
  },
  {
   "cell_type": "markdown",
   "id": "primary-thailand",
   "metadata": {
    "hideCode": true,
    "hidePrompt": true
   },
   "source": [
    "### 4.6.3 Visualising data retrieved from the simulated robot datalog using a `seaborn` line chart\n",
    "\n",
    "With the data in a *pandas* dataframe, we can then use a variety of tools to generate our own charts from it.\n",
    "\n",
    "One approach is to use the *seaborn* Python package to create a line chart directly from the dataframe."
   ]
  },
  {
   "cell_type": "markdown",
   "id": "hollywood-orleans",
   "metadata": {
    "tags": [
     "alert-success"
    ]
   },
   "source": [
    "*The `seaborn` package is one of many Python packages that supports the creation of a wide range of statistical and scientific chart types from `pandas` dataframes. See [`seaborn` data visualization library](https://seaborn.pydata.org/) for more details.*"
   ]
  },
  {
   "cell_type": "markdown",
   "id": "modular-roommate",
   "metadata": {
    "hideCode": true,
    "hidePrompt": true
   },
   "source": [
    "By convention, when we import the *seaborn* package we create an alias name for it: `sns`.\n",
    "\n",
    "In the following unmagicked, notebook Python code cell, the *seaborn* line plot charting function is selected (`sns.lineplot()`) and passed our datalog dataframe (`data=data_df`). The *index* column values in the dataframe are assigned to the *x*-axis (`x = \"index\"`) and the *value* column values to the *y*-axis (`y = \"value\"`). The line colour is generated from unique values identified in the *variable* column (`hue = \"variable\"`)."
   ]
  },
  {
   "cell_type": "markdown",
   "id": "hidden-hughes",
   "metadata": {
    "hideCode": true,
    "hidePrompt": true,
    "tags": [
     "alert-warning"
    ]
   },
   "source": [
    "*Note that in passing parameter values to the `lineplot()` function, we can use either single or double quotes to identify the column name as a string value. So for example, both `hue='variable'`, using single quotes (`'`) and `hue=\"variable\"`, using double quotes (`\"`), are equally valid.*"
   ]
  },
  {
   "cell_type": "markdown",
   "id": "charming-watts",
   "metadata": {
    "hideCode": true,
    "hidePrompt": true
   },
   "source": [
    "If we had additional sensors identified using different *variable* values, such as *ultrasonic*, each sensor would have its own coloured line trace."
   ]
  },
  {
   "cell_type": "code",
   "execution_count": null,
   "id": "stone-strain",
   "metadata": {
    "hideCode": true,
    "hidePrompt": true
   },
   "outputs": [],
   "source": [
    "# Load in the seaborn charting package\n",
    "import seaborn as sns\n",
    "\n",
    "# Generate a line chart from the datalog dataframe\n",
    "ax = sns.lineplot(x = \"index\",\n",
    "                  y = \"value\",\n",
    "                  # The hue category defines line color\n",
    "                  hue = 'variable',\n",
    "                  data = data_df)"
   ]
  },
  {
   "cell_type": "markdown",
   "id": "demonstrated-measure",
   "metadata": {
    "tags": [
     "alert-warning"
    ]
   },
   "source": [
    "*If you have run the robot data collection program several times, the datalog will contain data from each of the runs. To ensure the datalog only contains data from a particular run, run the command `%sim_data --clear` in a notebook code cell before running the program in the simulator. Then run the program in the simulator to collect the data, and then grab the data into a dataframe.*"
   ]
  },
  {
   "cell_type": "code",
   "execution_count": null,
   "id": "mounted-metabolism",
   "metadata": {},
   "outputs": [],
   "source": [
    "# Running this code cell will clear the robot's datalog\n",
    "%sim_data --clear"
   ]
  },
  {
   "cell_type": "markdown",
   "id": "developmental-marshall",
   "metadata": {
    "hideCode": true,
    "hidePrompt": true
   },
   "source": [
    "### 4.6.4 Generating additional chart types from the same dataset\n",
    "\n",
    "As well generating charts using just the *seaborn* package, we can build up charts from several layers of data display. The following chart is constructed from a *seaborn* `FacetGrid` chart, which generates one line chart per sensor (as identifed from the `row = \"variable\"` parameter), and then overplots individual `x` markers, one per datapoint, using a `matplotlib` plotting function."
   ]
  },
  {
   "cell_type": "markdown",
   "id": "powerful-implement",
   "metadata": {
    "hideCode": true,
    "hidePrompt": true,
    "tags": [
     "alert-success"
    ]
   },
   "source": [
    "`matplotlib` is a relatively low-level charting library that gives us more control over simple items that make up a chart. The `seaborn` package is itself built up from simpler `matplotlib` components and provides higher-level charting functions that allow us to create different chart types in a natural way from *pandas* dataframes."
   ]
  },
  {
   "cell_type": "code",
   "execution_count": null,
   "id": "different-drill",
   "metadata": {
    "hideCode": true,
    "hidePrompt": true
   },
   "outputs": [],
   "source": [
    "import matplotlib.pyplot as plt\n",
    "\n",
    "# A FacetGrid is a faceted display arranged in a grid\n",
    "g = sns.FacetGrid(data_df,\n",
    "                  row=\"variable\", \n",
    "                  height=5,\n",
    "                  # Set the aspect ratio of the grid\n",
    "                  aspect=2,\n",
    "                  # Declare whether we want common y-axes\n",
    "                  sharey=False)\n",
    "\n",
    "g = g.map(plt.plot, \"index\", \"value\",\n",
    "          marker=\"x\",\n",
    "          markersize=10, #optionally set marker size\n",
    "          markeredgecolor='red' #optionally fix marker color\n",
    "         );"
   ]
  },
  {
   "cell_type": "markdown",
   "id": "chubby-basket",
   "metadata": {
    "hideCode": true,
    "hidePrompt": true
   },
   "source": [
    "Starting from the left-hand side, each `x` point represents a sensor reading. The white background in the grey bars environment shows as 100 and the solid black line shows as 0."
   ]
  },
  {
   "cell_type": "markdown",
   "id": "awful-force",
   "metadata": {},
   "source": [
    "## 4.7 Summary\n",
    "\n",
    "In this notebook, you have seen how to preview sensor values using the *Instrumentation* panel, as well as using variables to refer to sensor values and use them to identify when to break out of an otherwise infinite `while` loop.\n",
    "\n",
    "You have reviewed the capabilities of the light sensor, including its ability to report reflected, three-component RGB (red, green, blue) colour values and even colour names.\n",
    "\n",
    "You have also seen how we can view sensor data in real time as it is collected using the simulator *Chart* view, or download the logged data to the notebook’s own Python environment. With the data downloaded to the notebook, we can visualise it at our leisure in an ‘offline’ way using powerful Python statistical and scientific charting packages such as `seaborn`.\n",
    "\n",
    "*This completes the practical activities for this week.*"
   ]
  }
 ],
 "metadata": {
  "jupytext": {
   "formats": "ipynb,.md//md"
  },
  "kernelspec": {
   "display_name": "Python 3",
   "language": "python",
   "name": "python3"
  }
 },
 "nbformat": 4,
 "nbformat_minor": 5
}
