{
 "cells": [
  {
   "cell_type": "code",
   "execution_count": null,
   "metadata": {},
   "outputs": [],
   "source": [
    "#Requirement for styling simulator widget toolbar\n",
    "import _load_nbev3devwidget_requirements"
   ]
  },
  {
   "cell_type": "code",
   "execution_count": null,
   "metadata": {},
   "outputs": [],
   "source": [
    "#Style notebook\n",
    "from IPython.display import Javascript\n",
    "Javascript('$( \"#notebook-container\" ).resizable({ghost: false})')\n",
    "\n",
    "# Load nbev3devsim simulator\n",
    "from _load_nbev3devwidget import roboSim\n",
    "\n",
    "#Load nbev3devsim magic\n",
    "%load_ext nbev3devsim\n",
    "\n",
    "#Load the nbtutor extension\n",
    "%load_ext nbtutor"
   ]
  },
  {
   "cell_type": "code",
   "execution_count": null,
   "metadata": {},
   "outputs": [],
   "source": [
    "#Load the nbtutor extension\n",
    "%load_ext nbtutor\n",
    "\n",
    "#Reset the notebook style\n",
    "from IPython.core.display import display, HTML\n",
    "\n",
    "display(HTML(\"<style>#notebook-container { width:50%; float:left !important;}</style>\"))\n",
    "\n",
    "\n",
    "#Launch the simulator\n",
    "from nbev3devsim import ev3devsim_nb as eds\n",
    "%load_ext nbev3devsim\n",
    "\n",
    "roboSim = eds.Ev3DevWidget()\n",
    "\n",
    "roboSim.set_element(\"response\", '')\n",
    "             \n",
    "display(roboSim)\n",
    "roboSim.element.dialog();\n",
    "\n",
    "\n",
    "roboSim.js_init(\"\"\"\n",
    "element.dialog({ \"title\" : \"Robot Simulator\" }).dialogExtend({\n",
    "        \"maximizable\" : true,\n",
    "        \"dblclick\" : \"maximize\",\n",
    "        \"icons\" : { \"maximize\" : \"ui-icon-arrow-4-diag\" }});\n",
    "\"\"\")"
   ]
  },
  {
   "cell_type": "markdown",
   "metadata": {},
   "source": [
    "# 5 Functions"
   ]
  },
  {
   "cell_type": "markdown",
   "metadata": {},
   "source": [
    "__TO DO: this needs to be earlier, before rules?__ \n",
    "\n",
    "\n",
    "Many of the programmes we have used so far have been quite short programmes with little, if any, reused code.\n",
    "\n",
    "As programmes get larger, it is often convenient to encapsulate several lines of code within a *function*. The multiple lines of code within the function can then be called conveniently from a single statement whenever they are needed.\n",
    "\n",
    "Functions are very powerful, and if you have studied other programming courses, you may well be familiar with them.\n",
    "\n",
    "For our purposes, the following provides a very quick review of some of the key behaviours of Pyhton functions. Remember, this isn't a Python programming module *per se*; rather, it's a module where we explore how to use Python to get things done. What follows should be enough to get you started writing your own functions, without creating too many bad habits along the way.\n",
    "\n",
    "To see how we can create our own functions, let's consider a really simple example, a function that just prints out the word *Hello*.\n",
    "\n",
    "The function definition has a very specific syntax:\n",
    "\n",
    "```python\n",
    "def FUNCTION_NAME():\n",
    "     ONE_OR_MORE_LINES_OF_CODE\n",
    "```\n",
    "\n",
    "Here are some of the rules relating to the sytactic defintion of a Python function:\n",
    "\n",
    "- the `FUNCTION_NAME` __MUST NOT__ contain any spaces or punctuation other than underscore (`_`) characters;\n",
    "- the function name __MUST__ be followed by a pair of brackets (`()`), that may contain something (we'll see what later), followed by a colon (`:`);\n",
    "- the body of the function __MUST__ be indented using space or tab characters. The level of indentation of the firxt line sets the effective \"left-hand margin\" for the remaining lines of code in the function;\n",
    "- the body of the function must include __AT LEAST__ one valid statement / line of code __EXCLUDING__ comments. If you don't want the function to do anything, but need it as a placeholder, use `pass` as the single line of required code in the function body.\n",
    "\n",
    "It is also good practice to annotate your function with a so-called \"docstring\" (*documentation string*) providing a concise, imperative description of what the function does.\n",
    "\n",
    "```python\n",
    "def FUNCTION_NAME():\n",
    "    \"\"\"\"Docstring contain a concise summary of the function behaviour.\"\"\"\n",
    "     ONE_OR_MORE_LINES_OF_CODE\n",
    "```\n",
    "\n",
    "Run the following code cell to define a simple function that prints the message *'hello'*:"
   ]
  },
  {
   "cell_type": "code",
   "execution_count": null,
   "metadata": {},
   "outputs": [],
   "source": [
    "def sayHello():\n",
    "    print('Hello')"
   ]
  },
  {
   "cell_type": "markdown",
   "metadata": {},
   "source": [
    "When we *call* the function, the code contained within the function body is executed.\n",
    "\n",
    "Run the following cell to call the function:"
   ]
  },
  {
   "cell_type": "code",
   "execution_count": null,
   "metadata": {},
   "outputs": [],
   "source": [
    "sayHello()"
   ]
  },
  {
   "cell_type": "markdown",
   "metadata": {},
   "source": [
    "Functions can contain multiple lines of code, which means they can provide a convenient way of calling multiple lines of code from a single line of code.\n",
    "\n",
    "Functions can also be used to perform actions over one or more arguments passed into the function. For example, if you want to say hello to a specific person by name, we can pass their name into the function as an argument, and then use that argument within the body of the function.\n",
    "\n",
    "We'll use a Python *f*-string as a convenient way of passing the variable value, by reference, into a string:"
   ]
  },
  {
   "cell_type": "code",
   "execution_count": null,
   "metadata": {},
   "outputs": [],
   "source": [
    "def sayHelloName(name):\n",
    "    \"\"\"Print a welcome messge.\"\"\"\n",
    "    print(f\"Hello, {name}\")"
   ]
  },
  {
   "cell_type": "markdown",
   "metadata": {},
   "source": [
    "Let's call that function to see how it behaves:"
   ]
  },
  {
   "cell_type": "code",
   "execution_count": null,
   "metadata": {},
   "outputs": [],
   "source": [
    "sayHelloName(\"Sam\")"
   ]
  },
  {
   "cell_type": "markdown",
   "metadata": {},
   "source": [
    "What happens if we forget to provide a name?"
   ]
  },
  {
   "cell_type": "code",
   "execution_count": null,
   "metadata": {},
   "outputs": [],
   "source": [
    "sayHelloName()"
   ]
  },
  {
   "cell_type": "markdown",
   "metadata": {},
   "source": [
    "Oops... We have defined the argument as a *positional* argument that is REQUIRED if the function is to be called without raising an error.\n",
    "\n",
    "If we want to make the argument optional, we need to provide a default value:"
   ]
  },
  {
   "cell_type": "code",
   "execution_count": null,
   "metadata": {},
   "outputs": [],
   "source": [
    "def sayHelloName(name='there'):\n",
    "    \"\"\"Print a message to welcome someone by name.\"\"\"\n",
    "    print(f\"Hello, {name}\")\n",
    "    \n",
    "sayHelloName()"
   ]
  },
  {
   "cell_type": "markdown",
   "metadata": {},
   "source": [
    "If we want to have different behaviours depending on whether a value is passed for the name, we can set a default such as `None` and then use a conditional statement to determine what to do based on the value that is presented:"
   ]
  },
  {
   "cell_type": "code",
   "execution_count": null,
   "metadata": {},
   "outputs": [],
   "source": [
    "def sayHelloName(name=None):\n",
    "    \"\"\"Print a message to welcome someone optionally by name.\"\"\"\n",
    "    if name:\n",
    "        print(f\"Hello, {name}\")\n",
    "    else:\n",
    "        print(\"Hi there!\")\n",
    "\n",
    "sayHelloName()"
   ]
  },
  {
   "cell_type": "markdown",
   "metadata": {},
   "source": [
    "Sometimes, we may want to get one or more values returned back from a function. We can do that using the `return` statement. The `return` statement essentially does two things when it is called: firstly, it terminates the function's execution at that point; secondly, it optionally returns a value to the part of the program that called the function.\n",
    "\n",
    "Run the following code cell to define a function that constructs a welcome message, displays the message *and returns it*:"
   ]
  },
  {
   "cell_type": "code",
   "execution_count": null,
   "metadata": {},
   "outputs": [],
   "source": [
    "def sayAndReturnHelloName(name):\n",
    "    \"\"\"Print a welcome message and return it.\"\"\"\n",
    "    message = f\"Hello, {name}\"\n",
    "    print(\"Printing:\", message)\n",
    "    return message"
   ]
  },
  {
   "cell_type": "markdown",
   "metadata": {},
   "source": [
    "What do you think will happen when we call the function?"
   ]
  },
  {
   "cell_type": "markdown",
   "metadata": {},
   "source": [
    "*Write your prediction about what you think will happen when the function is run here __before__ you run the code cell to call it.*"
   ]
  },
  {
   "cell_type": "code",
   "execution_count": null,
   "metadata": {},
   "outputs": [],
   "source": [
    "sayAndReturnHelloName('Sam')"
   ]
  },
  {
   "cell_type": "markdown",
   "metadata": {},
   "source": [
    "Did you get the response you expected?\n",
    "\n",
    "In the first case, a message was *printed* out in the cells print area. In the second case, the message was returned as the value returned by the function. As the function appeared on the last line of the code cell, its value was *displayed* as the cell output.\n",
    "\n",
    "As you might expect, we can set a variable to the value returned from a function:"
   ]
  },
  {
   "cell_type": "code",
   "execution_count": null,
   "metadata": {},
   "outputs": [],
   "source": [
    "message = sayAndReturnHelloName('Sam')"
   ]
  },
  {
   "cell_type": "markdown",
   "metadata": {},
   "source": [
    "If we view the value of that variable by running the following cell, what do you think you will see? Will the message be printed as well as displayed? "
   ]
  },
  {
   "cell_type": "markdown",
   "metadata": {},
   "source": [
    "*Write your prediction about what you think will happen when the function is run here __before__ you run the code cell to call it.*"
   ]
  },
  {
   "cell_type": "code",
   "execution_count": null,
   "metadata": {},
   "outputs": [],
   "source": [
    "message"
   ]
  },
  {
   "cell_type": "markdown",
   "metadata": {},
   "source": [
    "Only the value returned from the function is displayed. The function is not called again, and so there is no instruction to *print* the message.\n",
    "\n",
    "To return multiple values, we do that from a single return statement:"
   ]
  },
  {
   "cell_type": "code",
   "execution_count": null,
   "metadata": {},
   "outputs": [],
   "source": [
    "def sayAndReturnHelloName(name):\n",
    "    \"\"\"Print a welcome message and return it.\"\"\"\n",
    "    message = f\"Hello, {name}\"\n",
    "    print(\"Printing:\", message)\n",
    "    return (name, message)\n",
    "\n",
    "sayAndReturnHelloName('Sam')"
   ]
  },
  {
   "cell_type": "markdown",
   "metadata": {},
   "source": [
    "Finally, we can have multiple return statements in a function, but only one of them can be called from a single invocation of the function:"
   ]
  },
  {
   "cell_type": "code",
   "execution_count": null,
   "metadata": {},
   "outputs": [],
   "source": [
    "def sayHelloName(name=None):\n",
    "    \"\"\"Print a message to welcome someone optionally by name.\"\"\"\n",
    "    if name:\n",
    "        print(f\"Hello, {name}\")\n",
    "        return (name, message)\n",
    "    else:\n",
    "        print(\"Hi there!\")\n",
    "    return\n",
    "\n",
    "print(sayHelloName(), 'and', sayHelloName(\"Sam\"))"
   ]
  },
  {
   "cell_type": "markdown",
   "metadata": {},
   "source": [
    "Generally, it is *not* good practice to return different sorts of object from different parts of the same function.\n",
    "\n",
    "\n",
    "There is quite a lot more to know about functions, particularly in respect of how variables inside the function relate to variables defined outside the function, a topic referred to as *variable scope*. But for a treatment of that, you will need to refer to a module with a heavier emphasis on teaching programming."
   ]
  },
  {
   "cell_type": "markdown",
   "metadata": {},
   "source": [
    "## Using Functions in Robot Control Programs\n",
    "\n",
    "We’ll start by considering the simple program we wrote to make the robot trace out a square.\n",
    "\n",
    "If you recall, our first version of this explicitly coded each turn and edge movement, and then we used a loop to repeat the same action several times.\n",
    "\n",
    "Move the robot to the bottom left corner of the simulator window, run the following code cell to download the programme to the simulator and then run the programme in the simulator.\n",
    "\n",
    "Tweak the parameter settings until the robot approximately traces out the shape of a square."
   ]
  },
  {
   "cell_type": "code",
   "execution_count": null,
   "metadata": {},
   "outputs": [],
   "source": [
    "%%sim_magic_preloaded\n",
    "\n",
    "SIDES = 4\n",
    "\n",
    "# Try to draw a square\n",
    "STEERING = -100\n",
    "TURN_ROTATIONS = 0.826\n",
    "TURN_SPEED = 40\n",
    "\n",
    "STRAIGHT_SPEED_PC = SpeedPercent(40)\n",
    "STRAIGHT_ROTATIONS = 4\n",
    "\n",
    "for side in range(SIDES):\n",
    "    #Go straight\n",
    "    # Set the left and right motors in a forward direction\n",
    "    # and run for 1 rotation\n",
    "    tank_drive.on_for_rotations(STRAIGHT_SPEED_PC,\n",
    "                                STRAIGHT_SPEED_PC,\n",
    "                                STRAIGHT_ROTATIONS)\n",
    "\n",
    "    #Turn\n",
    "    # Set the robot to turn on the spot\n",
    "    # and run for a certain number of rotations *of the wheels*\n",
    "    tank_turn.on_for_rotations(STEERING,\n",
    "                               SpeedPercent(TURN_SPEED),\n",
    "                               TURN_ROTATIONS)"
   ]
  },
  {
   "cell_type": "markdown",
   "metadata": {},
   "source": [
    "We could can extract this code into a function that allows us to draw a square whenever we want. By adding an option `side_length` parameter we can change the side length as required.\n",
    "\n",
    "Download the following programme to the simulator and run it there.\n",
    "\n",
    "Can you modify the programme to draw a third square with a size somewhere between the size of the first two squares?"
   ]
  },
  {
   "cell_type": "code",
   "execution_count": null,
   "metadata": {},
   "outputs": [],
   "source": [
    "%%sim_magic_preloaded\n",
    "\n",
    "SIDES = 4\n",
    "\n",
    "# Try to draw a square\n",
    "STEERING = -100\n",
    "TURN_ROTATIONS = 0.826\n",
    "TURN_SPEED = 40\n",
    "\n",
    "STRAIGHT_SPEED_PC = SpeedPercent(40)\n",
    "STRAIGHT_ROTATIONS = 6\n",
    "\n",
    "def draw_square(side=STRAIGHT_ROTATIONS):\n",
    "    \"\"\"Draw square of specified side length.\"\"\"\n",
    "    for side in range(SIDES):\n",
    "        #Go straight\n",
    "        # Set the left and right motors in a forward direction\n",
    "        # and run for 1 rotation\n",
    "        tank_drive.on_for_rotations(STRAIGHT_SPEED_PC,\n",
    "                                    STRAIGHT_SPEED_PC,\n",
    "                                    #Use provided side length\n",
    "                                    side)\n",
    "\n",
    "        #Turn\n",
    "        # Set the robot to turn on the spot\n",
    "        # and run for a certain number of rotations *of the wheels*\n",
    "        tank_turn.on_for_rotations(STEERING,\n",
    "                                   SpeedPercent(TURN_SPEED),\n",
    "                                   TURN_ROTATIONS)\n",
    "        \n",
    "        \n",
    "# Call the function to draw a small size square\n",
    "draw_square(4)\n",
    "\n",
    "# And an even smaller square\n",
    "draw_square(2)"
   ]
  },
  {
   "cell_type": "markdown",
   "metadata": {},
   "source": [
    "### Optional Activity\n",
    "\n",
    "Copy the code used to define the `draw_square() function, and modify it so that it takes a second \"turn\" parameter that replaces the `TURN_ROTATIONS` value.\n",
    "\n",
    "Use the `turn` parameter to tune how far the robot turns at each corner.\n",
    "\n",
    "Then see if you can use a `for..in range(N)` loop to call the square drawing function several times.\n",
    "\n",
    "Can you further modify the program so that the side length is increased each time the function is called by the loop?\n",
    "\n",
    "Share your programmes in the module forum."
   ]
  },
  {
   "cell_type": "markdown",
   "metadata": {},
   "source": [
    "## 5.3 Functions: a summary\n",
    "\n",
    "You have seen that a RobotLab *macro* is a named sequence of commands that can be ‘called’ or invoked from anywhere in the main program or from another macro. Macros offer four advantages:\n",
    "\n",
    "* they allow a piece of program functionality to be ‘encapsulated’ in a clear and detached way\n",
    "\n",
    "* they allow the functionality to be used many times from anywhere in the program\n",
    "\n",
    "* they simplify the program, making it easier to understand\n",
    "\n",
    "* they make programs less prone to error.\n",
    "\n",
    "Other programming languages have similar features to macros that offer additional benefits. Depending on the language, these may be known as *functions*, *methods*, *procedures* or *subroutines*. \n",
    "\n",
    "This is the end of Robot Lab Session 4.\n"
   ]
  }
 ],
 "metadata": {
  "jupytext": {
   "cell_metadata_filter": "-all",
   "main_language": "python",
   "notebook_metadata_filter": "-all",
   "text_representation": {
    "extension": ".md",
    "format_name": "markdown"
   }
  }
 },
 "nbformat": 4,
 "nbformat_minor": 4
}
