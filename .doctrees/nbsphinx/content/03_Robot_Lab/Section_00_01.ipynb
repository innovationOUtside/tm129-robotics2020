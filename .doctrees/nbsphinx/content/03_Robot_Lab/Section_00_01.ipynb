{
 "cells": [
  {
   "cell_type": "markdown",
   "metadata": {},
   "source": [
    "# 1 Introduction"
   ]
  },
  {
   "cell_type": "markdown",
   "metadata": {},
   "source": [
    "Sensors are at the heart of robotics. A machine without sensors cannot be a robot in our terms. The human body is replete with sensors. Our five external senses – sight, hearing, touch, smell and taste – and internal sensing such as balance and proprioception (body awareness) are all marvellously sophisticated.\n",
    "\n",
    "In Robot Lab Session 4 we are concerned with how a robot can use this sensory information to control its actuators. We will investigate a progression of control strategies:\n",
    "\n",
    "1. dead reckoning – no sensor input \n",
    "\n",
    "2. reflex behaviour – sensors *linked directly* to motors according to the sense–act model\n",
    "\n",
    "3. deliberative behaviour – actuation depends on *reasoning* about sensor information and other knowledge, according to the sense–think–act model.\n",
    "\n",
    "The first control strategy, dead reckoning, is \"open loop\", since it does not use sensor input.\n",
    "\n",
    "The second is the sense–act control strategy that you encountered in Study week 2, and we will illustrate it using versions of Braitenberg’s vehicles (also introduced in Study week 2).\n",
    "\n",
    "Finally, there is the most complex control strategy, in which the robot deliberates on the sensor inputs in the context of other knowledge. This involves *reasoning*, as discussed in Study week 3. This corresponds to the way humans solve complex problems and plan actions in the long and short term.\n"
   ]
  }
 ],
 "metadata": {
  "jupytext": {
   "cell_metadata_filter": "-all",
   "main_language": "python",
   "notebook_metadata_filter": "-all",
   "text_representation": {
    "extension": ".md",
    "format_name": "markdown"
   }
  }
 },
 "nbformat": 4,
 "nbformat_minor": 4
}
