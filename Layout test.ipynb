{
 "cells": [
  {
   "cell_type": "code",
   "execution_count": 1,
   "metadata": {},
   "outputs": [
    {
     "name": "stdout",
     "output_type": "stream",
     "text": [
      "The jupyter_require extension is already loaded. To reload it, use:\n",
      "  %reload_ext jupyter_require\n"
     ]
    }
   ],
   "source": [
    "#%pip install jupyter-require\n",
    "%load_ext jupyter_require\n",
    "#%requirejs Split https://cdnjs.cloudflare.com/ajax/libs/split.js/1.6.0/split.min"
   ]
  },
  {
   "cell_type": "code",
   "execution_count": 19,
   "metadata": {},
   "outputs": [
    {
     "data": {
      "text/plain": [
       "environ{'CONDA_SHLVL': '1',\n",
       "        'LC_ALL': 'en_US.UTF-8',\n",
       "        'KERNEL_PYTHON_PREFIX': '/srv/conda/envs/notebook',\n",
       "        'APP_BASE': '/srv',\n",
       "        'CONDA_EXE': '/srv/conda/bin/conda',\n",
       "        'JUPYTER_TOKEN': 'letmein',\n",
       "        'LANG': 'en_US.UTF-8',\n",
       "        'NPM_DIR': '/srv/npm',\n",
       "        'HOSTNAME': '8367569ee062',\n",
       "        'CONDA_PREFIX': '/srv/conda/envs/notebook',\n",
       "        'CONDA_DIR': '/srv/conda',\n",
       "        '_CE_M': '',\n",
       "        'USER': 'jovyan',\n",
       "        'PWD': '/home/jovyan',\n",
       "        'HOME': '/home/jovyan',\n",
       "        'CONDA_PYTHON_EXE': '/srv/conda/bin/python',\n",
       "        'DEBIAN_FRONTEND': 'noninteractive',\n",
       "        '_CE_CONDA': '',\n",
       "        'CONDA_PROMPT_MODIFIER': '(notebook) ',\n",
       "        'SHELL': '/bin/bash',\n",
       "        'NB_PYTHON_PREFIX': '/srv/conda/envs/notebook',\n",
       "        'SHLVL': '0',\n",
       "        'LANGUAGE': 'en_US.UTF-8',\n",
       "        'REPO_DIR': '/home/jovyan',\n",
       "        'PATH': '/srv/conda/envs/notebook/bin:/srv/conda/condabin:/home/jovyan/.local/bin:/home/jovyan/.local/bin:/srv/conda/envs/notebook/bin:/srv/conda/bin:/srv/npm/bin:/usr/local/sbin:/usr/local/bin:/usr/sbin:/usr/bin:/sbin:/bin',\n",
       "        'NPM_CONFIG_GLOBALCONFIG': '/srv/npm/npmrc',\n",
       "        'CONDA_DEFAULT_ENV': 'notebook',\n",
       "        'KERNEL_LAUNCH_TIMEOUT': '40',\n",
       "        'GIT_PYTHON_REFRESH': 'quiet',\n",
       "        'JPY_PARENT_PID': '1',\n",
       "        'TERM': 'xterm-color',\n",
       "        'CLICOLOR': '1',\n",
       "        'PAGER': 'cat',\n",
       "        'GIT_PAGER': 'cat',\n",
       "        'MPLBACKEND': 'module://ipykernel.pylab.backend_inline',\n",
       "        'KMP_DUPLICATE_LIB_OK': 'True',\n",
       "        'KMP_INIT_AT_FORK': 'FALSE'}"
      ]
     },
     "execution_count": 19,
     "metadata": {},
     "output_type": "execute_result"
    }
   ],
   "source": [
    "import os\n",
    "os.environ"
   ]
  },
  {
   "cell_type": "code",
   "execution_count": 15,
   "metadata": {},
   "outputs": [
    {
     "name": "stdout",
     "output_type": "stream",
     "text": [
      "CONDA_PROMPT_MODIFIER=(notebook) \r\n",
      "USER=jovyan\r\n",
      "LANGUAGE=en_US.UTF-8\r\n",
      "MPLBACKEND=module://ipykernel.pylab.backend_inline\r\n",
      "JUPYTER_TOKEN=letmein\r\n",
      "HOSTNAME=8367569ee062\r\n",
      "APP_BASE=/srv\r\n",
      "SHLVL=0\r\n",
      "CONDA_SHLVL=1\r\n",
      "HOME=/home/jovyan\r\n",
      "NPM_DIR=/srv/npm\r\n",
      "PAGER=cat\r\n",
      "_CE_M=\r\n",
      "KERNEL_PYTHON_PREFIX=/srv/conda/envs/notebook\r\n",
      "NPM_CONFIG_GLOBALCONFIG=/srv/npm/npmrc\r\n",
      "TERM=xterm-color\r\n",
      "_CE_CONDA=\r\n",
      "PATH=/srv/conda/envs/notebook/bin:/srv/conda/condabin:/home/jovyan/.local/bin:/home/jovyan/.local/bin:/srv/conda/envs/notebook/bin:/srv/conda/bin:/srv/npm/bin:/usr/local/sbin:/usr/local/bin:/usr/sbin:/usr/bin:/sbin:/bin\r\n",
      "KMP_DUPLICATE_LIB_OK=True\r\n",
      "KMP_INIT_AT_FORK=FALSE\r\n",
      "LANG=en_US.UTF-8\r\n",
      "KERNEL_LAUNCH_TIMEOUT=40\r\n",
      "CONDA_PYTHON_EXE=/srv/conda/bin/python\r\n",
      "DEBIAN_FRONTEND=noninteractive\r\n",
      "SHELL=/bin/bash\r\n",
      "GIT_PYTHON_REFRESH=quiet\r\n",
      "REPO_DIR=/home/jovyan\r\n",
      "CONDA_DEFAULT_ENV=notebook\r\n",
      "NB_PYTHON_PREFIX=/srv/conda/envs/notebook\r\n",
      "CONDA_DIR=/srv/conda\r\n",
      "GIT_PAGER=cat\r\n",
      "LC_ALL=en_US.UTF-8\r\n",
      "PWD=/home/jovyan/notebooks/content\r\n",
      "CLICOLOR=1\r\n",
      "CONDA_EXE=/srv/conda/bin/conda\r\n",
      "JPY_PARENT_PID=1\r\n",
      "CONDA_PREFIX=/srv/conda/envs/notebook\r\n"
     ]
    }
   ],
   "source": [
    "!printenv\n"
   ]
  },
  {
   "cell_type": "code",
   "execution_count": 17,
   "metadata": {},
   "outputs": [
    {
     "name": "stdout",
     "output_type": "stream",
     "text": [
      "\r\n"
     ]
    }
   ],
   "source": [
    "!echo $JUPYTER_ROOT_DIRECTORY"
   ]
  },
  {
   "cell_type": "code",
   "execution_count": 18,
   "metadata": {},
   "outputs": [
    {
     "name": "stdout",
     "output_type": "stream",
     "text": [
      "/home/jovyan\n"
     ]
    }
   ],
   "source": [
    "%cd"
   ]
  },
  {
   "cell_type": "code",
   "execution_count": 2,
   "metadata": {},
   "outputs": [],
   "source": [
    "from nbev3devsim import ev3devsim_nb as eds"
   ]
  },
  {
   "cell_type": "code",
   "execution_count": 3,
   "metadata": {},
   "outputs": [],
   "source": [
    "roboSim = eds.Ev3DevWidget()"
   ]
  },
  {
   "cell_type": "code",
   "execution_count": 4,
   "metadata": {},
   "outputs": [
    {
     "data": {
      "application/vnd.jupyter.widget-view+json": {
       "model_id": "1b8dcf1c8f0d47e9b1aa152cb0cd3973",
       "version_major": 2,
       "version_minor": 0
      },
      "text/plain": [
       "Ev3DevWidget(status='deferring flush until render')"
      ]
     },
     "metadata": {},
     "output_type": "display_data"
    }
   ],
   "source": [
    "roboSim"
   ]
  },
  {
   "cell_type": "code",
   "execution_count": 5,
   "metadata": {},
   "outputs": [],
   "source": [
    "from IPython.core.display import display, HTML"
   ]
  },
  {
   "cell_type": "code",
   "execution_count": 6,
   "metadata": {},
   "outputs": [],
   "source": [
    "#HTML('<script src=\"https://cdnjs.cloudflare.com/ajax/libs/split.js/1.6.0/split.min.js\"></script>')"
   ]
  },
  {
   "cell_type": "code",
   "execution_count": 7,
   "metadata": {},
   "outputs": [],
   "source": [
    "# THis : https://split.js.org/"
   ]
  },
  {
   "cell_type": "code",
   "execution_count": 8,
   "metadata": {},
   "outputs": [],
   "source": [
    "from IPython.core.display import Javascript"
   ]
  },
  {
   "cell_type": "code",
   "execution_count": 9,
   "metadata": {},
   "outputs": [
    {
     "data": {
      "text/html": [
       "<style>.split, .gutter.gutter-horizontal {\n",
       "    float: left;\n",
       "}\n",
       ".gutter.gutter-horizontal {\n",
       "    cursor: ew-resize;\n",
       "}</style>"
      ],
      "text/plain": [
       "<IPython.core.display.HTML object>"
      ]
     },
     "execution_count": 9,
     "metadata": {},
     "output_type": "execute_result"
    }
   ],
   "source": [
    "HTML('''<style>.split, .gutter.gutter-horizontal {\n",
    "    float: left;\n",
    "}\n",
    ".gutter.gutter-horizontal {\n",
    "    cursor: ew-resize;\n",
    "}</style>''')"
   ]
  },
  {
   "cell_type": "code",
   "execution_count": 10,
   "metadata": {},
   "outputs": [],
   "source": [
    "from jupyter_require import require\n",
    "from jupyter_require import load_css\n",
    "\n",
    "require.config({\n",
    "  'Split': 'https://cdnjs.cloudflare.com/ajax/libs/split.js/1.6.0/split.min'\n",
    "})\n"
   ]
  },
  {
   "cell_type": "code",
   "execution_count": 11,
   "metadata": {},
   "outputs": [
    {
     "ename": "JupyterRequireError",
     "evalue": "Failed to execute 'insertBefore' on 'Node': The node before which the new node is to be inserted is not a child of this node.",
     "output_type": "error",
     "traceback": [
      "Error: Failed to execute 'insertBefore' on 'Node': The node before which the new node is to be inserted is not a child of this node.",
      "    at https://cdnjs.cloudflare.com/ajax/libs/split.js/1.6.0/split.min.js?v=20201014122831:2:5576",
      "    at Array.map (<anonymous>)",
      "    at https://cdnjs.cloudflare.com/ajax/libs/split.js/1.6.0/split.min.js?v=20201014122831:2:5115",
      "    at OutputArea.eval (eval at execute_script (http://localhost:8129/nbextensions/jupyter-require/core.js?v=20201014122831:355:64), <anonymous>:3:1)",
      "    at http://localhost:8129/nbextensions/jupyter-require/core.js?v=20201014122831:317:26",
      "    at Object.execCb (http://localhost:8129/static/components/requirejs/require.js?v=951f856e81496aaeec2e71a1c2c0d51f:1693:33)",
      "    at Module.check (http://localhost:8129/static/components/requirejs/require.js?v=951f856e81496aaeec2e71a1c2c0d51f:881:51)",
      "    at Module.enable (http://localhost:8129/static/components/requirejs/require.js?v=951f856e81496aaeec2e71a1c2c0d51f:1173:22)",
      "    at Module.init (http://localhost:8129/static/components/requirejs/require.js?v=951f856e81496aaeec2e71a1c2c0d51f:786:26)",
      "    at http://localhost:8129/static/components/requirejs/require.js?v=951f856e81496aaeec2e71a1c2c0d51f:1457:36"
     ]
    }
   ],
   "source": [
    "from jupyter_require import execute_with_requirements\n",
    "execute_with_requirements(\"Split(['#notebook', '#roboSim_root']);\", required=['Split'])"
   ]
  },
  {
   "cell_type": "code",
   "execution_count": 10,
   "metadata": {},
   "outputs": [
    {
     "data": {
      "application/javascript": [
       "window.Split(['#notebook', '#roboSim_root']);"
      ],
      "text/plain": [
       "<IPython.core.display.Javascript object>"
      ]
     },
     "execution_count": 10,
     "metadata": {},
     "output_type": "execute_result"
    }
   ],
   "source": [
    "Javascript(\"Split(['#notebook', '#roboSim_root']);\")"
   ]
  },
  {
   "cell_type": "code",
   "execution_count": 4,
   "metadata": {},
   "outputs": [
    {
     "data": {
      "application/vnd.jupyter.widget-view+json": {
       "model_id": "c4ab453bd21e446aab82bfa7ddef101a",
       "version_major": 2,
       "version_minor": 0
      },
      "text/plain": [
       "Ev3DevWidget(status='deferring flush until render')"
      ]
     },
     "metadata": {},
     "output_type": "display_data"
    }
   ],
   "source": [
    "roboSim"
   ]
  },
  {
   "cell_type": "code",
   "execution_count": null,
   "metadata": {},
   "outputs": [],
   "source": []
  }
 ],
 "metadata": {
  "kernelspec": {
   "display_name": "Python 3",
   "language": "python",
   "name": "python3"
  },
  "language_info": {
   "codemirror_mode": {
    "name": "ipython",
    "version": 3
   },
   "file_extension": ".py",
   "mimetype": "text/x-python",
   "name": "python",
   "nbconvert_exporter": "python",
   "pygments_lexer": "ipython3",
   "version": "3.7.6"
  },
  "require": {
   "paths": {
    "Split": "https://cdnjs.cloudflare.com/ajax/libs/split.js/1.6.0/split.min"
   },
   "shim": {}
  }
 },
 "nbformat": 4,
 "nbformat_minor": 4
}
