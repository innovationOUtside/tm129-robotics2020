{
 "cells": [
  {
   "cell_type": "markdown",
   "id": "opposed-serve",
   "metadata": {},
   "source": [
    "# Appendix – Handling images\n",
    "\n",
    "One of the advantages of using the Python `PIL` package is that a range of *methods* (that is, *functions*) are defined on each image object that allow us to manipulate it *as an image*. (We can then also access the data defining the transformed image *as data* if we need it in that format.)\n",
    "\n",
    "Several activities involve the manipulation of images. In this technical appendix, we will review some of the supported operations provided by the `nn_tools` package."
   ]
  },
  {
   "cell_type": "markdown",
   "id": "executed-furniture",
   "metadata": {},
   "source": [
    "## Loading images\n",
    "\n",
    "We can load a test image in as an image using the `PIL.Image` package:"
   ]
  },
  {
   "cell_type": "code",
   "execution_count": null,
   "id": "specific-excuse",
   "metadata": {},
   "outputs": [],
   "source": [
    "from PIL import Image\n",
    "\n",
    "img = Image.open('.images/example_mnist_4.png')\n",
    "img"
   ]
  },
  {
   "cell_type": "markdown",
   "id": "thrown-proof",
   "metadata": {},
   "source": [
    "We can review the image size:"
   ]
  },
  {
   "cell_type": "code",
   "execution_count": null,
   "id": "false-international",
   "metadata": {},
   "outputs": [],
   "source": [
    "img.size"
   ]
  },
  {
   "cell_type": "markdown",
   "id": "medical-dispatch",
   "metadata": {},
   "source": [
    "We can zoom the image display:"
   ]
  },
  {
   "cell_type": "code",
   "execution_count": null,
   "id": "behavioral-standing",
   "metadata": {},
   "outputs": [],
   "source": [
    "from nn_tools.sensor_data import zoom_img\n",
    "\n",
    "zoom_img(img)"
   ]
  },
  {
   "cell_type": "markdown",
   "id": "surprised-harmony",
   "metadata": {},
   "source": [
    "We can get the raw data as an iterator and cast it to a `numpy` array:"
   ]
  },
  {
   "cell_type": "code",
   "execution_count": null,
   "id": "considered-participation",
   "metadata": {},
   "outputs": [],
   "source": [
    "import numpy as np\n",
    "\n",
    "# Preview the first two rows\n",
    "np.array(img)[:2]"
   ]
  },
  {
   "cell_type": "markdown",
   "id": "small-january",
   "metadata": {},
   "source": [
    "We can view the image data in a dataframe:"
   ]
  },
  {
   "cell_type": "code",
   "execution_count": null,
   "id": "spoken-knowing",
   "metadata": {},
   "outputs": [],
   "source": [
    "from nn_tools.sensor_data import df_from_image\n",
    "\n",
    "df_from_image(img, show=False)"
   ]
  },
  {
   "cell_type": "markdown",
   "id": "foster-triple",
   "metadata": {},
   "source": [
    "As well as returning the dataframe, we can render a heat map view of it:"
   ]
  },
  {
   "cell_type": "code",
   "execution_count": null,
   "id": "vocal-light",
   "metadata": {},
   "outputs": [],
   "source": [
    "_ = df_from_image(img, show=True)"
   ]
  },
  {
   "cell_type": "markdown",
   "id": "obvious-supplement",
   "metadata": {},
   "source": [
    "We can automatically trim the background area around the image:"
   ]
  },
  {
   "cell_type": "code",
   "execution_count": null,
   "id": "coordinate-concept",
   "metadata": {},
   "outputs": [],
   "source": [
    "from nn_tools.sensor_data import trim_image\n",
    "\n",
    "trimmed_image = trim_image( df_from_image(image_image), background=0)"
   ]
  },
  {
   "cell_type": "markdown",
   "id": "acceptable-helena",
   "metadata": {},
   "source": [
    "We can resize the image:"
   ]
  },
  {
   "cell_type": "code",
   "execution_count": null,
   "id": "growing-insulation",
   "metadata": {},
   "outputs": [],
   "source": [
    "img_20x20 = img.resize((20, 20))\n",
    "\n",
    "zoom_img(img_20x20)"
   ]
  },
  {
   "cell_type": "markdown",
   "id": "suspected-limitation",
   "metadata": {},
   "source": [
    "We can manually crop the image to an area of interest:"
   ]
  },
  {
   "cell_type": "code",
   "execution_count": null,
   "id": "insured-class",
   "metadata": {},
   "outputs": [],
   "source": [
    "# The crop area is (x, y, x + side, y + side)\n",
    "cropped_image = img_20x20.crop((3, 3, 17, 17));\n",
    "                       \n",
    "zoom_img(cropped_image)"
   ]
  }
 ],
 "metadata": {
  "jupytext": {
   "cell_metadata_filter": "activity,-all",
   "formats": "ipynb,.md//md"
  },
  "kernelspec": {
   "display_name": "Python 3",
   "language": "python",
   "name": "python3"
  }
 },
 "nbformat": 4,
 "nbformat_minor": 5
}
