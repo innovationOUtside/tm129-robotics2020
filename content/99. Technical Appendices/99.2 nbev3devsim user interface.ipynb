{
 "cells": [
  {
   "cell_type": "markdown",
   "id": "baking-photographer",
   "metadata": {},
   "source": [
    "\n",
    "# `nbev3devsim` setup examples\n",
    "\n",
    "This notebook provides a suite of examples demonstrating different views over the `nbev3devsim` simulator, as well as ways of automating code execution within the simulator.\n",
    "\n",
    "The notebook also serves to act as informal documentation and an informal test suite."
   ]
  },
  {
   "cell_type": "markdown",
   "id": "average-helen",
   "metadata": {},
   "source": [
    "## Load in the simulator\n",
    "\n",
    "Running the follow cell should:\n",
    "\n",
    "- style the notebook with a two-column-like display, with the notebook shifted to the left column and the pop-up widget (a JQuery dialogue widget) floating over the empty space to the right\n",
    "- load in the simulator widget.\n",
    "    \n",
    "The widget should be draggable and resizable, with widget sizing controls available in its top bar.\n",
    "\n",
    "The notebook column should be resizable: draggable left and right to change the width.\n",
    "\n",
    "Known issues:\n",
    "\n",
    "- If the widget is larger than the display port, then the scrolling and layout of the notebook breaks. The fix is to resize the widget to something that fits in the browser view, then scroll the notebook. The notebook is also drag-resizable in such cases by clicking and dragging the bottom right-hand corner of the notebook column.\n",
    "- Sometimes the simulator view inside the widget gets detached from the widget sides and fails to fill the widget panel effectively. The fix is to click the widget *maximize* button and then the *restore* button."
   ]
  },
  {
   "cell_type": "code",
   "execution_count": null,
   "id": "constant-lodging",
   "metadata": {},
   "outputs": [],
   "source": [
    "from nbev3devsim.load_nbev3devwidget import roboSim, eds\n",
    "\n",
    "%load_ext nbev3devsim"
   ]
  },
  {
   "cell_type": "markdown",
   "id": "straight-triple",
   "metadata": {},
   "source": [
    "## Overview of the user interface\n",
    "\n",
    "The user interface is based around a series of separate display panels. It is designed to try to provide ways of minimising how much of the screen is taken up by controls rather than the actual simulator.\n",
    "\n",
    "Each panel may contain display elements and/or additional display controls.\n",
    "\n",
    "When a panel is displayed, clicking on the panel title will toggle the display of contents within the panel to *collapse* or *reveal* its content."
   ]
  },
  {
   "cell_type": "markdown",
   "id": "guilty-exemption",
   "metadata": {},
   "source": [
    "### *UI controls*\n",
    "\n",
    "The (unlabelled) *UI controls* area at the top of the widget provides display toggle button controls for displaying display and simulator control panels.\n",
    "\n",
    "When a display toggle button is pressed, it will show a dark background and the corresponding panel will be displayed. When the display toggle button has a white background, the corresponding panel will be hidden. "
   ]
  },
  {
   "cell_type": "markdown",
   "id": "russian-petite",
   "metadata": {
    "activity": true
   },
   "source": [
    "Click individual *UI controls* buttons to toggle the display of various other control panels on and off."
   ]
  },
  {
   "cell_type": "markdown",
   "id": "sound-uncle",
   "metadata": {},
   "source": [
    "The *UI controls* are always displayed.\n",
    "\n",
    "The *Simulator controls* and *Simulator world* panel are also generally displayed by default.\n",
    "\n",
    "Within many of the panels are one or more toggle display switches. The emphasised element is the one that is selected:\n",
    "\n",
    "- if the toggle button is to the left and shaded grey, then the corresponding panel is *hidden*\n",
    "- if toggle button is to the right and showing green, then the corresponding panel is *shown*."
   ]
  },
  {
   "cell_type": "markdown",
   "id": "apart-chemical",
   "metadata": {
    "activity": true
   },
   "source": [
    "Use the *Hide/Show* controls in the *UI controls* panel to show/hide the *Display controls* and *Simulator controls* panels.\n",
    "\n",
    "Click on the panel labels to collapse/reveal the contents of the corresponding panel."
   ]
  },
  {
   "cell_type": "markdown",
   "id": "ordered-louisiana",
   "metadata": {},
   "source": [
    "### *Display controls* panel\n",
    "\n",
    "```\n",
    "Controlled via *UI controls* panel\n",
    "```\n",
    "\n",
    "The *Display controls* panel contains controls for showing and hiding a wide range of panels:\n",
    "\n",
    "- *Settings*: various robot and simulator configuration settings\n",
    "- *Output*: logging console for displaying print and error message from simulator program execution\n",
    "- *Noise controls*: controls for applying noise to sensors and motors\n",
    "- *Instrumentation*: display sensor and motor values\n",
    "- *Sensor arrays*: display image sensor array views\n",
    "- *Chart*: display real-time chart of instrumented values."
   ]
  },
  {
   "cell_type": "markdown",
   "id": "stopped-membership",
   "metadata": {},
   "source": [
    "### *Simulator controls* panel\n",
    "\n",
    "```\n",
    "Controlled via *UI controls* panel\n",
    "\n",
    "Keyboard shortcut: H\n",
    "```\n",
    "\n",
    "The *Simulator controls* panel displays various controls for working directly with the simulator:\n",
    "\n",
    "- display world\n",
    "- display positioning\n",
    "- display code\n",
    "- pen up/down\n",
    "- run simulator\n",
    "- clear trace."
   ]
  },
  {
   "cell_type": "markdown",
   "id": "distant-module",
   "metadata": {},
   "source": [
    "### *Simulator world* panel\n",
    "\n",
    "```\n",
    "Controlled via *Simulator* panel\n",
    "\n",
    "Keyboard shortcut: W\n",
    "```\n",
    "\n",
    "The *World* panel is the simulator world view where the simulated robot performs its actions.\n",
    "\n",
    "*Known issues: the styling of this is broken. A fix to the layout in `EV3devSim.js` may also be required.*"
   ]
  },
  {
   "cell_type": "markdown",
   "id": "fifth-allocation",
   "metadata": {},
   "source": [
    "### *Positioning* panel\n",
    "\n",
    "```\n",
    "Accessed via *Simulator* panel\n",
    "Magics: --positioning / -X\n",
    "Keyboard shortcut: X\n",
    "```\n",
    "\n",
    "The *Positioning* panel provides controls for displaying and positioning the simulated robot within the world view."
   ]
  },
  {
   "cell_type": "markdown",
   "id": "beginning-conducting",
   "metadata": {},
   "source": [
    "### *Code display* panel\n",
    "\n",
    "```\n",
    "Accessed via *Simulator* panel\n",
    "Magics: --code / -D\n",
    "Keyboard shortcut: D\n",
    "```\n",
    "\n",
    "The *Code display* panel will show the program currently downloaded into the simulator.\n",
    "\n",
    "*Known issues: if you download a new program to the simulator when the `Code display` is open, then the code is not updated. Closing and opening the display should display the updated program.*"
   ]
  },
  {
   "cell_type": "markdown",
   "id": "designed-marriage",
   "metadata": {},
   "source": [
    "### *Settings* panel\n",
    "\n",
    "```\n",
    "Magics: --settings / -Z\n",
    "Keyboard shortcut: Z\n",
    "```\n",
    "\n",
    "The *Settings* panel includes controls for setting:\n",
    "\n",
    "- robot configuration\n",
    "- simulator background (map)\n",
    "- obstacles configuration\n",
    "- collaborative mode (*experimental*)."
   ]
  },
  {
   "cell_type": "markdown",
   "id": "binary-shell",
   "metadata": {},
   "source": [
    "### *Output* panel\n",
    "\n",
    "```\n",
    "Magics: --output / -O\n",
    "Keyboard shortcut: O\n",
    "```\n",
    "\n",
    "The *Output* panel is a terminal display window for viewing printed output and error messages when a program is run."
   ]
  },
  {
   "cell_type": "markdown",
   "id": "developing-sport",
   "metadata": {},
   "source": [
    "### *Noise controls* panel\n",
    "\n",
    "```\n",
    "Magics: --noisecontrols / -z\n",
    "Keyboard shortcut: z\n",
    "```\n",
    "\n",
    "The *Noise controls* panel displays controls for managing motor and sensor noise that is applied to the robot."
   ]
  },
  {
   "cell_type": "markdown",
   "id": "integrated-polymer",
   "metadata": {},
   "source": [
    "### *Instrumentation* panel\n",
    "\n",
    "```\n",
    "Magics: --instrumentation / -i\n",
    "Keyboard shortcut: i\n",
    "```\n",
    "\n",
    "The *Instrumentation* panel displays sensor and motor readings.\n",
    "\n",
    "*Known issue: I think this is continually updated. It would make sense to only update it if it is visible.*"
   ]
  },
  {
   "cell_type": "markdown",
   "id": "criminal-ridge",
   "metadata": {},
   "source": [
    "### *Sensor arrays* panel\n",
    "\n",
    "```\n",
    "Magics: --array / -A\n",
    "Keyboard shortcut: A\n",
    "```\n",
    "\n",
    "The *Sensor arrays* panel displays the view of the sensor image arrays.\n",
    "\n",
    "*Known issue: I think this is continually updated. It would make sense to only update it if it is visible.*"
   ]
  },
  {
   "cell_type": "markdown",
   "id": "german-friday",
   "metadata": {},
   "source": [
    "### *Chart* panel\n",
    "\n",
    "```\n",
    "Magics: --chart / -c\n",
    "Keyboard shortcut: c\n",
    "```\n",
    "\n",
    "The *Chart* panel displays a real-time updated chart.\n",
    "\n",
    "*Known issues: need to check that this is only updated if it is displayed.*"
   ]
  },
  {
   "cell_type": "markdown",
   "id": "controlled-maintenance",
   "metadata": {},
   "source": [
    "### *Robot configurator* panel\n",
    "\n",
    "```\n",
    "Accessed via *Settings* panel\n",
    "```\n",
    "\n",
    "The *Robot configurator* panel allows you to view, edit, save and load robot configuration files.\n"
   ]
  },
  {
   "cell_type": "markdown",
   "id": "worst-corruption",
   "metadata": {},
   "source": [
    "### *Obstacles configurator* panel\n",
    "\n",
    "```\n",
    "Accessed via *Settings* panel\n",
    "```\n",
    "\n",
    "The *Obstacles configurator* panel allows you to:\n",
    "\n",
    "- edit, save and load obstacle configuration files\n",
    "- control display of the walls around the simulated world\n",
    "- control display of ultrasound rays.\n",
    "\n",
    "*Know issues: I don’t think the walls are sized/rendered correctly. Also, the walls don’t seem to block robot progress?*"
   ]
  },
  {
   "cell_type": "markdown",
   "id": "intelligent-enzyme",
   "metadata": {},
   "source": [
    "## Magic controls\n",
    "\n",
    "The notebook code cells are use to pass code to, and control the behaviour of, the widget using several magics:\n",
    "\n",
    "```python\n",
    "%sim_magic / %%sim_magic\n",
    "%%sim_magic_imports\n",
    "%%sim_magic_preloaded\n",
    "```\n",
    "\n",
    "The `%sim_magic` line magic can be used to configure the simulator and display various help messages.\n",
    "\n",
    "When operating as a cell magic, the magic:\n",
    "    - inspects and acts on magic switches\n",
    "    - downloads code from the code cell into the simulator.\n",
    "\n",
    "The `%%sim_magic_imports` and `%%sim_magic_preloaded` magics generally operate as cell magics, with the exception of running as a line magic to display the code that they use to automatically prefix any code downloaded to the simulator.\n",
    "\n",
    "For example, a full list of switches can be displayed by passing the `--help / -h` flag:"
   ]
  },
  {
   "cell_type": "code",
   "execution_count": null,
   "id": "assigned-entry",
   "metadata": {},
   "outputs": [],
   "source": [
    "%sim_magic --help"
   ]
  },
  {
   "cell_type": "markdown",
   "id": "laughing-glucose",
   "metadata": {
    "activity": true
   },
   "source": [
    "Run the following code cells to preview the boilerplate code prepended by the corresponding magic."
   ]
  },
  {
   "cell_type": "code",
   "execution_count": null,
   "id": "protecting-street",
   "metadata": {},
   "outputs": [],
   "source": [
    "%sim_magic_imports --preview"
   ]
  },
  {
   "cell_type": "code",
   "execution_count": null,
   "id": "occupied-deadline",
   "metadata": {},
   "outputs": [],
   "source": [
    "%sim_magic_preloaded --preview"
   ]
  },
  {
   "cell_type": "markdown",
   "id": "advisory-sewing",
   "metadata": {},
   "source": [
    "Successfully downloading a program to the simulator is rewarded with an audible alert. To suppress the audible alert, pass the `--quiet / -q` flag in the magic command."
   ]
  },
  {
   "cell_type": "markdown",
   "id": "western-cycling",
   "metadata": {
    "activity": true
   },
   "source": [
    "Download a dummy program with some boilerplate code automatically prepended to it by running the following code cell. Then preview the code downloaded to the simulator via the *UI controls – Simulator controls – Show code* display button."
   ]
  },
  {
   "cell_type": "code",
   "execution_count": null,
   "id": "buried-cement",
   "metadata": {},
   "outputs": [],
   "source": [
    "%%sim_magic_imports\n",
    "pass"
   ]
  },
  {
   "cell_type": "markdown",
   "id": "british-diameter",
   "metadata": {},
   "source": [
    "*Known issues: the `--stop / -s` flag is currently broken.*"
   ]
  },
  {
   "cell_type": "markdown",
   "id": "hungarian-consciousness",
   "metadata": {},
   "source": [
    "One really handy switch is the `--background / -b` switch which lets us load in one of the pre-bundled backgrounds. We *could* select these from the settings menu:"
   ]
  },
  {
   "cell_type": "code",
   "execution_count": null,
   "id": "cleared-wheel",
   "metadata": {},
   "outputs": [],
   "source": [
    "%sim_magic --settings"
   ]
  },
  {
   "cell_type": "markdown",
   "id": "precise-serbia",
   "metadata": {},
   "source": [
    "Or instead we can select and load a background via a magic switch:"
   ]
  },
  {
   "cell_type": "code",
   "execution_count": null,
   "id": "incorporate-preparation",
   "metadata": {},
   "outputs": [],
   "source": [
    "%sim_magic -b MNIST_Digits"
   ]
  },
  {
   "cell_type": "markdown",
   "id": "indie-cradle",
   "metadata": {},
   "source": [
    "## Keyboard shortcuts\n",
    "\n",
    "The long-term aim is to duplicate the Boolean magic commands using keyboard shortcuts using the same single-letter command.\n",
    "\n",
    "Simulator keyboard shortcuts are only enabled when the mouse cursor is within the bounds of the simulator widget.\n",
    "\n",
    "At the moment, the following keyboard shortcuts are supported:\n",
    "\n",
    "- `R` : run the currently loaded program in the simulator\n",
    "- `S` : stop the currently running program in the simulator\n",
    "- `p` : toggle pen up/down\n",
    "- `X` : toggle display of positioning controls\n",
    "- `A` : toggle display of sensor image array panel\n",
    "- `O` : toggle display of output panel\n",
    "- `c` : toggle display of chart panel\n",
    "- `i` : toggle display of instrumentation panel\n",
    "- `W` : toggle display of simulator world panel\n",
    "- `z` : toggle display of simulator noise controls\n",
    "- `Z` : toggle display of simulator configuration controls\n",
    "- `D` : toggle display of code panel\n",
    "- `H` : toggle display of simulator run controls.\n",
    "\n",
    "*Known issues: the `-S` operation to stop the currently running simulator program does not work.*\n",
    "\n",
    "For example, in the magic, by default the pen is up but we can set the pen-down mode:"
   ]
  },
  {
   "cell_type": "code",
   "execution_count": null,
   "id": "hairy-photography",
   "metadata": {},
   "outputs": [],
   "source": [
    "%sim_magic --pendown"
   ]
  },
  {
   "cell_type": "markdown",
   "id": "coral-government",
   "metadata": {},
   "source": [
    "If you move the mouse cursor over the simulator widget, you should also be able to toggle the pen up/pen down mode by pressing the *p* key.\n",
    "\n",
    "You should be able to toggle the various panel displays by pressing the appropriate keyboard shortcut key whilst the mouse cursor is over the widget."
   ]
  },
  {
   "cell_type": "markdown",
   "id": "spectacular-killer",
   "metadata": {},
   "source": [
    "## Controlling the simulator user interface configuration\n",
    "\n",
    "If you inspect the simulator interface, you will see it contains a range of controls for hiding and revealing various parts of the user interface (the *Hide/Show* toggle buttons).\n",
    "\n",
    "By default, the *Simulator controls* and *Simulator world* are displayed:"
   ]
  },
  {
   "cell_type": "code",
   "execution_count": null,
   "id": "brave-evanescence",
   "metadata": {},
   "outputs": [],
   "source": [
    "%sim_magic"
   ]
  },
  {
   "cell_type": "markdown",
   "id": "exact-boring",
   "metadata": {},
   "source": [
    "Several magic switches are defined that control the display of simulator display panels, typically using the same single-character shortcut as the keyboard shortcut controls:\n",
    "\n",
    "- `--output / -O`: show output\n",
    "- `--chart / -c`: show chart\n",
    "- `--instrumentation / -V`: show sensor and motor values\n",
    "- `--array / -A`: show sensor array\n",
    "- `--noisecontrols / -z`: show sensor and motor noise controls\n",
    "- `--positioning / -X`: show positioning controls\n",
    "- `--worldcontrols / -Z`: show world controls\n",
    "- `--hide / -H`: hide simulator controls\n",
    "- `--world / -W`: hide world.\n",
    "\n",
    "So for example, we can configure the simulator to show only the world display among the optional display elements by suppressing the display of the simulator controls (all other panels are hidden by default):\n",
    "\n",
    "*Known issues: if the obstacles or robot config panels were opened manually, they will remain open.*"
   ]
  },
  {
   "cell_type": "code",
   "execution_count": null,
   "id": "relative-jewelry",
   "metadata": {},
   "outputs": [],
   "source": [
    "%sim_magic -H"
   ]
  },
  {
   "cell_type": "markdown",
   "id": "warming-softball",
   "metadata": {},
   "source": [
    "We can hide the world display (at the bottom of the widget), by passing just the `-W` flag:"
   ]
  },
  {
   "cell_type": "code",
   "execution_count": null,
   "id": "established-handbook",
   "metadata": {},
   "outputs": [],
   "source": [
    "%sim_magic -W"
   ]
  },
  {
   "cell_type": "markdown",
   "id": "major-mixture",
   "metadata": {},
   "source": [
    "We can pass multiple flags separately (`-W -H`) or compounded (`-WH`):"
   ]
  },
  {
   "cell_type": "code",
   "execution_count": null,
   "id": "clear-notion",
   "metadata": {},
   "outputs": [],
   "source": [
    "%sim_magic -WHZ"
   ]
  },
  {
   "cell_type": "markdown",
   "id": "twelve-reading",
   "metadata": {},
   "source": [
    "The display switches thus provide us with a means of scripting how the simulator widget controls are displayed for any given activity.\n",
    "\n",
    "For example, we might want to configure the simulator to show the sensor image array and the noise controls, but hide most of the other show/hide controls to free up screen real estate (note that the world is displayed unless we explicitly hide it):"
   ]
  },
  {
   "cell_type": "code",
   "execution_count": null,
   "id": "combined-values",
   "metadata": {},
   "outputs": [],
   "source": [
    "%sim_magic -Az"
   ]
  },
  {
   "cell_type": "markdown",
   "id": "protecting-contractor",
   "metadata": {},
   "source": [
    "Run the following code cell to toggle through the various cell displays:"
   ]
  },
  {
   "cell_type": "code",
   "execution_count": null,
   "id": "developing-consumer",
   "metadata": {},
   "outputs": [],
   "source": [
    "import time\n",
    "\n",
    "for i in \"HOcVAzZW\":\n",
    "    %sim_magic -$i\n",
    "    time.sleep(2)"
   ]
  },
  {
   "cell_type": "markdown",
   "id": "indie-diagram",
   "metadata": {},
   "source": [
    "We can also script values for the various numerical sliders that appear in the simulator user interface:\n",
    "\n",
    "- `--xpos, -x`: x-coordinate config\n",
    "- `--ypos, -y`: y-coordinate config\n",
    "- `--angle, -a`: angle config\n",
    "- `--sensornoise, -N`: sensor noise, 0...128\n",
    "- `--motornoise, -M`: motor noise, 0...500.\n"
   ]
  },
  {
   "cell_type": "markdown",
   "id": "latin-cabin",
   "metadata": {},
   "source": [
    "We can set just a single coordinate value:"
   ]
  },
  {
   "cell_type": "code",
   "execution_count": null,
   "id": "amber-motivation",
   "metadata": {},
   "outputs": [],
   "source": [
    "%sim_magic --positioning -y 450"
   ]
  },
  {
   "cell_type": "markdown",
   "id": "awful-henry",
   "metadata": {},
   "source": [
    "Or multiple values:"
   ]
  },
  {
   "cell_type": "code",
   "execution_count": null,
   "id": "broadband-isolation",
   "metadata": {},
   "outputs": [],
   "source": [
    "%sim_magic -X -x 200 -y 700 -a 150"
   ]
  },
  {
   "cell_type": "markdown",
   "id": "gentle-suggestion",
   "metadata": {},
   "source": [
    "## Downloading programs to the simulator\n",
    "\n",
    "We can download a program to the simulator by prefixing the code cell with one of the simulator magics. The different magics prepend various bits of boilerplate code to the program before downloading it.\n",
    "\n",
    "When a program is downloaded, there is an audible alert:"
   ]
  },
  {
   "cell_type": "code",
   "execution_count": null,
   "id": "elegant-latest",
   "metadata": {},
   "outputs": [],
   "source": [
    "%%sim_magic\n",
    "pass"
   ]
  },
  {
   "cell_type": "markdown",
   "id": "elementary-documentation",
   "metadata": {},
   "source": [
    "We can download and run a program automatically (`--autorun / -R`). Note that the run status indicator changes colour from red (not running) to green (running) as the program runs and then back to red when the program completes."
   ]
  },
  {
   "cell_type": "code",
   "execution_count": null,
   "id": "visible-group",
   "metadata": {},
   "outputs": [],
   "source": [
    "%%sim_magic -R\n",
    "import time\n",
    "time.sleep(3)"
   ]
  },
  {
   "cell_type": "markdown",
   "id": "silver-catering",
   "metadata": {},
   "source": [
    "We can view the downloaded code by opening the *Code display* panel:"
   ]
  },
  {
   "cell_type": "code",
   "execution_count": null,
   "id": "suspended-federal",
   "metadata": {},
   "outputs": [],
   "source": [
    "%sim_magic -D"
   ]
  },
  {
   "cell_type": "markdown",
   "id": "sustainable-vancouver",
   "metadata": {},
   "source": [
    "Trying to run a broken program in the simulator will give an audible warning:\n",
    "\n",
    "*Known issue: there is no way to disable this at the moment.*"
   ]
  },
  {
   "cell_type": "code",
   "execution_count": null,
   "id": "executive-directory",
   "metadata": {},
   "outputs": [],
   "source": [
    "%%sim_magic -R -q -O\n",
    "\n",
    "broken"
   ]
  },
  {
   "cell_type": "markdown",
   "id": "minor-spice",
   "metadata": {},
   "source": [
    "We can print to the *Output* display panel.\n",
    "\n",
    "For example, let’s hide the *Simulator controls* and *Simulator world* panels but display the *Output* window and then download and run a program that writes to it:"
   ]
  },
  {
   "cell_type": "code",
   "execution_count": null,
   "id": "conservative-polymer",
   "metadata": {},
   "outputs": [],
   "source": [
    "%%sim_magic -OHW -R\n",
    "import time\n",
    "for i in range(3):\n",
    "    print(\"Hello number {}\".format(i))\n",
    "    time.sleep(1)"
   ]
  },
  {
   "cell_type": "markdown",
   "id": "stunning-miller",
   "metadata": {},
   "source": [
    "We can get a downloaded program to talk..."
   ]
  },
  {
   "cell_type": "code",
   "execution_count": null,
   "id": "banner-intention",
   "metadata": {},
   "outputs": [],
   "source": [
    "%%sim_magic_preloaded -R\n",
    "\n",
    "say(\"hello\")"
   ]
  },
  {
   "cell_type": "markdown",
   "id": "protecting-indonesia",
   "metadata": {},
   "source": [
    "When driving the robot, we can enable a ‘pen down’ feature to leave a trace showing the path followed by the robot.\n",
    "\n",
    "For example, drive forward a short way without the pen down:"
   ]
  },
  {
   "cell_type": "code",
   "execution_count": null,
   "id": "quick-interface",
   "metadata": {},
   "outputs": [],
   "source": [
    "%%sim_magic_preloaded -x 100 -y 800 -R \n",
    "\n",
    "tank_drive.on_for_seconds(SpeedPercent(50),\n",
    "                          SpeedPercent(50), 2)\n"
   ]
  },
  {
   "cell_type": "markdown",
   "id": "closed-teaching",
   "metadata": {},
   "source": [
    "Now drive forward with the pen down (`--pendown / -p`):"
   ]
  },
  {
   "cell_type": "code",
   "execution_count": null,
   "id": "hollywood-cliff",
   "metadata": {},
   "outputs": [],
   "source": [
    "%%sim_magic_preloaded -x 100 -y 820 -R -p\n",
    "\n",
    "tank_drive.on_for_seconds(SpeedPercent(50),\n",
    "                          SpeedPercent(50), 2)"
   ]
  },
  {
   "cell_type": "markdown",
   "id": "mighty-fancy",
   "metadata": {},
   "source": [
    "If we drive forward again, the trace will remain in place.\n",
    "\n",
    "For example, change the pen colour ( `--pencolor / -P`) and drive forwards again:"
   ]
  },
  {
   "cell_type": "code",
   "execution_count": null,
   "id": "senior-quilt",
   "metadata": {},
   "outputs": [],
   "source": [
    "%%sim_magic_preloaded -x 100 -y 840 -R -p -P green\n",
    "\n",
    "tank_drive.on_for_seconds(SpeedPercent(50),\n",
    "                          SpeedPercent(50), 2)"
   ]
  },
  {
   "cell_type": "markdown",
   "id": "critical-arcade",
   "metadata": {},
   "source": [
    "*Known issue: the pen colour selector widget is not enabled if the pen down toggle is selected from the magic.*"
   ]
  },
  {
   "cell_type": "markdown",
   "id": "tutorial-talent",
   "metadata": {},
   "source": [
    "Alternatively, we can clear the trace (`--clear / -C`) and then drive forward, again with the pen down and a selected colour:"
   ]
  },
  {
   "cell_type": "code",
   "execution_count": null,
   "id": "prostate-universal",
   "metadata": {},
   "outputs": [],
   "source": [
    "%%sim_magic_preloaded -x 100 -y 800 -R -p -C -P orange\n",
    "\n",
    "tank_drive.on_for_seconds(SpeedPercent(50),\n",
    "                          SpeedPercent(50), 2)"
   ]
  },
  {
   "cell_type": "markdown",
   "id": "attractive-functionality",
   "metadata": {},
   "source": [
    "You can suppress the audible download alert by passing the `--quiet, -q` switch:"
   ]
  },
  {
   "cell_type": "code",
   "execution_count": null,
   "id": "controlled-disposition",
   "metadata": {},
   "outputs": [],
   "source": [
    "%%sim_magic -q\n",
    "pass"
   ]
  },
  {
   "cell_type": "markdown",
   "id": "raising-smell",
   "metadata": {},
   "source": [
    "### Using the *Simulator controls*\n",
    "\n",
    "```\n",
    "Magics: --hide / -H\n",
    "Keyboard shortcut: H\n",
    "```\n",
    "\n",
    "The *Simulator controls* panel provides manual user interface controls for controlling the simulator and managing the display of several panels related to simulator operation:\n",
    "\n",
    "- toggle display of the simulator world\n",
    "- toggle display of the positioning controls\n",
    "- toggle display of the code panel showing the currently downloaded program\n",
    "- toggle the pen up/pen down state\n",
    "- select the pen colour\n",
    "- clear pen traces from the current simulator world view\n",
    "- start (*Run*) / stop the execution of the program currently downloaded to the simulator in the simulator; a status light (*red* on stop, *green* when running) displays the current run state."
   ]
  },
  {
   "cell_type": "code",
   "execution_count": null,
   "id": "fundamental-projection",
   "metadata": {},
   "outputs": [],
   "source": [
    "%sim_magic -W"
   ]
  },
  {
   "cell_type": "markdown",
   "id": "broken-mongolia",
   "metadata": {},
   "source": [
    "### Viewing sensor and motor *Instrumentation*\n",
    "\n",
    "```\n",
    "Magics: --instrumentation / -i\n",
    "Keyboard shortcut: i\n",
    "```\n",
    "\n",
    "The *Instrumentation* panel provides information regarding sensor and motor readings:\n",
    "\n",
    "- `LeftMotor` / `RightMotor` report tachometer counts for each motor\n",
    "- `Sensor1` / `Sensor2` report left and right light sensor values as follows: reflected light percentage for the red component range 0...100; average reflected light percentage over all three RGB components range 0...100; 3-tuple of RGB values, each in range 0...255\n",
    "- `Ultrasonic`: distance reading to obstacle\n",
    "- `Gyro`: the *angle* in degrees since the sensor was initialised and the *rate* at which the sensor is rotating, in degrees/second."
   ]
  },
  {
   "cell_type": "code",
   "execution_count": null,
   "id": "cleared-conjunction",
   "metadata": {},
   "outputs": [],
   "source": [
    "%sim_magic -i -WH"
   ]
  },
  {
   "cell_type": "markdown",
   "id": "suspected-delight",
   "metadata": {},
   "source": [
    "Run the following code cell to drive the robot over the *Testcard* background and see how the sensor values update as the robot moves."
   ]
  },
  {
   "cell_type": "code",
   "execution_count": null,
   "id": "derived-bench",
   "metadata": {},
   "outputs": [],
   "source": [
    "%%sim_magic_preloaded -i -HR -b Testcard\n",
    "\n",
    "tank_drive.on_for_seconds(SpeedPercent(50),\n",
    "                          SpeedPercent(50), 2)"
   ]
  },
  {
   "cell_type": "markdown",
   "id": "miniature-saskatchewan",
   "metadata": {},
   "source": [
    "### Using *Sensor arrays*\n",
    "\n",
    "```\n",
    "Magics: --array / -A\n",
    "Keyboard shortcut: A\n",
    "```\n",
    "\n",
    "The sensor image arrays provide a view of what the sensor can see at the pixel level.\n",
    "\n",
    "Displaying the sensor arrays and hiding the world provides opportunities for exploration-style robot programming challenges."
   ]
  },
  {
   "cell_type": "code",
   "execution_count": null,
   "id": "charming-receipt",
   "metadata": {},
   "outputs": [],
   "source": [
    "%sim_magic -A -WH -b MNIST_Digits"
   ]
  },
  {
   "cell_type": "markdown",
   "id": "unauthorized-miami",
   "metadata": {},
   "source": [
    "### Using *Noise controls*\n",
    "\n",
    "```\n",
    "Magics:\n",
    "    --noisecontrols / -z \n",
    "    --sensornoise / -N  [0..128]\n",
    "    --motornoise / -M  [0..500]\n",
    "    \n",
    "Keyboard shortcut: z\n",
    "```\n",
    "\n",
    "The *Noise controls* provide a numerical slider to set the noise level across both motors (range 0...500) and both light sensors (range 0...128)."
   ]
  },
  {
   "cell_type": "code",
   "execution_count": null,
   "id": "persistent-algorithm",
   "metadata": {},
   "outputs": [],
   "source": [
    "%sim_magic -z -WR"
   ]
  },
  {
   "cell_type": "markdown",
   "id": "worldwide-canberra",
   "metadata": {},
   "source": [
    "Noise levels can be set on the light sensors via the `--sensornoise / -N` switch:"
   ]
  },
  {
   "cell_type": "code",
   "execution_count": null,
   "id": "appropriate-sender",
   "metadata": {},
   "outputs": [],
   "source": [
    "%sim_magic -zWR --sensornoise 100"
   ]
  },
  {
   "cell_type": "code",
   "execution_count": null,
   "id": "greek-establishment",
   "metadata": {},
   "outputs": [],
   "source": [
    "%sim_magic -zWR --motornoise 100"
   ]
  },
  {
   "cell_type": "markdown",
   "id": "threaded-farmer",
   "metadata": {
    "activity": true
   },
   "source": [
    "Drag and drop the robot around the plain white background, observing the light sensor instrumentation values and the sensor array view for different levels of light sensor noise."
   ]
  },
  {
   "cell_type": "code",
   "execution_count": null,
   "id": "previous-corrections",
   "metadata": {},
   "outputs": [],
   "source": [
    "%%sim_magic_preloaded -iAHR -x 100 -b Empty_Map -N 100"
   ]
  },
  {
   "cell_type": "markdown",
   "id": "cheap-repeat",
   "metadata": {
    "activity": true
   },
   "source": [
    "Run the following code cell to download a program that will drive the robot forward a short way:"
   ]
  },
  {
   "cell_type": "code",
   "execution_count": null,
   "id": "sharp-signal",
   "metadata": {},
   "outputs": [],
   "source": [
    "%%sim_magic_preloaded -HR -R -x 100 -y 700 -M 0\n",
    "\n",
    "tank_drive.on_for_seconds(SpeedPercent(50),\n",
    "                          SpeedPercent(50), 2)"
   ]
  },
  {
   "cell_type": "markdown",
   "id": "blank-sleep",
   "metadata": {
    "activity": true
   },
   "source": [
    "Now run the program several times in the presence of sensor noise:"
   ]
  },
  {
   "cell_type": "code",
   "execution_count": null,
   "id": "hydraulic-private",
   "metadata": {},
   "outputs": [],
   "source": [
    "import time\n",
    "%sim_magic -RC -x 100 -y 700 -M 100 -p -P red\n",
    "time.sleep(3)\n",
    "\n",
    "%sim_magic -R -x 100 -y 700 -M 200 -p -P orange\n",
    "time.sleep(3)\n",
    "\n",
    "%sim_magic -R -x 100 -y 700 -M 300 -p -P green"
   ]
  },
  {
   "cell_type": "markdown",
   "id": "innocent-stylus",
   "metadata": {},
   "source": [
    "### Using the Live *Chart*\n",
    "\n",
    "```\n",
    "Magics: --chart / c\n",
    "Keyboard shortcut: c\n",
    "```\n",
    "\n",
    "The live *Chart* panel displays a dynamic line chart that can be configured to display selected instrumentation data traces logged to the output in a specific way.\n",
    "\n",
    "Supported chart traces:\n",
    "\n",
    "- *colour*\n",
    "- *Left light* and *Right light* sensor values\n",
    "- *Ultrasonic* distance\n",
    "- *Gyro* angle\n",
    "- *Left wheel* and *Right wheel* tacho counts."
   ]
  },
  {
   "cell_type": "code",
   "execution_count": null,
   "id": "academic-power",
   "metadata": {
    "lines_to_next_cell": 0
   },
   "outputs": [],
   "source": [
    "%sim_magic -c -WH"
   ]
  },
  {
   "cell_type": "markdown",
   "id": "reported-seventh",
   "metadata": {},
   "source": []
  }
 ],
 "metadata": {
  "jupytext": {
   "formats": "ipynb,.md//md"
  },
  "kernelspec": {
   "display_name": "Python 3",
   "language": "python",
   "name": "python3"
  }
 },
 "nbformat": 4,
 "nbformat_minor": 5
}
