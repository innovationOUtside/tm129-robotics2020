{
 "cells": [
  {
   "cell_type": "markdown",
   "metadata": {},
   "source": [
    "# Appendix — Speaking in Python\n",
    "\n",
    "This appendix provides additional explanatory material that offers an insight into some of the technical issues associated with creating speech actions in a Jupyter notebook context as well as creating speech actions in a pure Python environment.\n",
    "\n",
    "The robot simulator speech action is built up from a JavaScript function that builds on a built-in browser function for creating speech utterances. We can force the Jupyter notebook to run JavaScript code in the browser from a code cell using the `%%javascript` cell magic. This means we can get the browser to ‘speak’ by calling the browser speech functions via JavaScript directly.\n",
    "\n",
    "*Note that there may be a brief delay between running the code cell and hearing the speech utterance.*"
   ]
  },
  {
   "cell_type": "code",
   "execution_count": null,
   "metadata": {},
   "outputs": [],
   "source": [
    "%%javascript\n",
    "speechSynthesis.speak(new SpeechSynthesisUtterance(\"hello\"))"
   ]
  },
  {
   "cell_type": "markdown",
   "metadata": {},
   "source": [
    "We can also create a simple wrapper around a JavaScript call that we can use in a Jupyter notebook context to speak, via the browser, from a Python statement:"
   ]
  },
  {
   "cell_type": "code",
   "execution_count": null,
   "metadata": {
    "pinned_outputs": []
   },
   "outputs": [],
   "source": [
    "from IPython.display import Javascript\n",
    "\n",
    "class Speech():\n",
    "    def say(self, txt):\n",
    "        display(Javascript(f'speechSynthesis.speak(new SpeechSynthesisUtterance(\"{txt}\"))'))\n",
    "\n",
    "speaker = Speech()\n",
    "speaker.say('hello')"
   ]
  },
  {
   "cell_type": "markdown",
   "metadata": {},
   "source": [
    "We can also create a simple Python program to count aloud up to 10, for example by using a `while` loop:"
   ]
  },
  {
   "cell_type": "code",
   "execution_count": null,
   "metadata": {},
   "outputs": [],
   "source": [
    "n = 1\n",
    "\n",
    "while n <= 10:\n",
    "    speaker.say(n)\n",
    "    n = n + 1"
   ]
  },
  {
   "cell_type": "markdown",
   "metadata": {},
   "source": [
    "As currently defined, there is no way we can stop the `speaker` from counting unless we reload this notebook webpage."
   ]
  }
 ],
 "metadata": {
  "jupytext": {
   "cell_metadata_filter": "pinned_outputs,-all",
   "formats": "ipynb,.md//md"
  },
  "kernelspec": {
   "display_name": "Python 3",
   "language": "python",
   "name": "python3"
  },
  "language_info": {
   "codemirror_mode": {
    "name": "ipython",
    "version": 3
   },
   "file_extension": ".py",
   "mimetype": "text/x-python",
   "name": "python",
   "nbconvert_exporter": "python",
   "pygments_lexer": "ipython3",
   "version": "3.8.6"
  }
 },
 "nbformat": 4,
 "nbformat_minor": 4
}
