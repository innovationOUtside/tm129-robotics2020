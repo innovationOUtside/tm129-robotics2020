{
 "cells": [
  {
   "cell_type": "markdown",
   "metadata": {},
   "source": [
    "# 2 Creating your own robot programs\n",
    "\n",
    "Having started to learn how to control the movement of the simulated robot in general in the previous notebook, let's see if you can get it to perform some more specific actions, such as moving around a square course.\n",
    "\n",
    "Work through the instructions carefully and slowly. It is important that you complete each step successfully before moving on to the next."
   ]
  },
  {
   "cell_type": "markdown",
   "metadata": {},
   "source": [
    "## 2.1 Writing your own programs – getting into the ‘mind’ of the robot\n",
    "\n",
    "When trying to understand, or write your own, robot programs, it can be helpful to ‘play robot’. This means that you put yourself in the place of the robot and act out (or at least imagine) what you or the robot would do when executing each statement of the program. If you have the help of a friend, get them to read out the program statements to you one at a time."
   ]
  },
  {
   "cell_type": "markdown",
   "metadata": {},
   "source": [
    "## 2.2 Creating and editing your own programs\n",
    "\n",
    "As we're going to be writing RoboLab programs, we need to set up the lab and load the `nbev3devsim` simulator in in the normal way:"
   ]
  },
  {
   "cell_type": "code",
   "execution_count": null,
   "metadata": {},
   "outputs": [],
   "source": [
    "from nbev3devsim.load_nbev3devwidget import roboSim, eds\n",
    "\n",
    "%load_ext nbev3devsim"
   ]
  },
  {
   "cell_type": "markdown",
   "metadata": {},
   "source": [
    "If you download and run the following program in the simulator, then you will find that it drives the robot forward a short way and then turns on the spot for more than a right angle (ninety degrees, or a quarter of one complete rotation)."
   ]
  },
  {
   "cell_type": "markdown",
   "metadata": {
    "tags": [
     "alert-success"
    ]
   },
   "source": [
    "*The `-x`, `-y` and `-a` switches in the magic used to download the program to the simulator specify the original location and orientation of the robot in the simulator.*\n",
    "\n",
    "*The `-p` switch enables pen down mode, to leave a trace of where the robot has moved.*\n",
    "\n",
    "*the `-C` switch clears any previously made traces.*"
   ]
  },
  {
   "cell_type": "code",
   "execution_count": null,
   "metadata": {},
   "outputs": [],
   "source": [
    "%%sim_magic_preloaded -x 200 -y 700 -a 0 -p -C\n",
    "\n",
    "# Set the left and right motors\n",
    "# in a forward direction\n",
    "# and run for 1 rotation\n",
    "tank_drive.on_for_rotations(SpeedPercent(50),\n",
    "                            SpeedPercent(50), 1)\n",
    "\n",
    "\n",
    "# Set the robot to turn on the spot\n",
    "# and run for 2 rotation *of the wheels*\n",
    "tank_turn.on_for_rotations(100,\n",
    "                           SpeedPercent(75), 2)"
   ]
  },
  {
   "cell_type": "markdown",
   "metadata": {
    "tags": [
     "alert-success"
    ]
   },
   "source": [
    "*If you want to be able to refer to a code cell from earlier in the notebook, you may find it useful to pop the cell out into a floating widget by clicking on the cell to select it and then clicking the `>_` toolbar button.* "
   ]
  },
  {
   "cell_type": "markdown",
   "metadata": {
    "activity": true
   },
   "source": [
    "### 2.2.1 Activity – Copying and modifying a program\n",
    "\n",
    "We can edit a code cell directly to add additional lines to it, or we may want to retain our original code (for reference) and create a new program based on an earlier one.\n",
    "\n",
    "We can grab a copy of a code cell by:\n",
    "\n",
    "- clicking on it to select it\n",
    "- clicking the *copy selected cells* button in the toolbar\n",
    "- clicking the *paste cells below* toolbar button to place a copy of the cell in a new cell\n",
    "- select the new cell and use the arrow keys to move it to a location of your choosing.\n",
    "\n",
    "Select the code cell above by clicking on it, use the toolbar button to copy it, single-click on this Markdown cell to provide the current location, then click on the toolbar paste button to copy the code cell below this one.\n",
    "\n",
    "Modify the program in your newly created cell so that the robot turns through a right angle (or as close as you can get it without spending too much time!).\n",
    "\n",
    "To what extent does the turn speed setting affect the controllability of the robot? If you change the speed, do you need to modify the turn time as well?\n",
    "\n",
    "Test your code by running the code cell to download the code to the simulator, and then run it in the simulator.\n",
    "\n",
    "You may find that using the pen trace helps you see how far the robot has turned."
   ]
  },
  {
   "cell_type": "code",
   "execution_count": null,
   "metadata": {
    "activity": true
   },
   "outputs": [],
   "source": [
    "%%sim_magic_preloaded -x 200 -y 700 -a 0 -p -C\n",
    "\n",
    "# Set the left and right motors\n",
    "# in a forward direction\n",
    "# and run for 1 rotation\n",
    "tank_drive.on_for_rotations(SpeedPercent(50),\n",
    "                            SpeedPercent(50), 1)\n",
    "\n",
    "\n",
    "# Set the robot to turn on the spot\n",
    "# and run for 1 rotation *of the wheels*\n",
    "tank_turn.on_for_rotations(-100,\n",
    "                           SpeedPercent(75), 2)"
   ]
  },
  {
   "cell_type": "markdown",
   "metadata": {
    "student": true
   },
   "source": [
    "*Record your own observations here about the extent to which you could accurately control the robot's turning behaviour, for example, at different turn speeds.*"
   ]
  },
  {
   "cell_type": "markdown",
   "metadata": {
    "activity": true,
    "heading_collapsed": true
   },
   "source": [
    "#### Example solution\n",
    "\n",
    "*Click the arrow in the sidebar or run this cell to reveal the settings I used.*"
   ]
  },
  {
   "cell_type": "code",
   "execution_count": null,
   "metadata": {
    "activity": true,
    "hidden": true
   },
   "outputs": [],
   "source": [
    "%%sim_magic_preloaded -x 200 -y 800 -a 0 -p -C\n",
    "\n",
    "# Set the left and right motors in a forward direction\n",
    "# and run for 1 rotation\n",
    "tank_drive.on_for_rotations(SpeedPercent(50),\n",
    "                            SpeedPercent(50), 1)\n",
    "\n",
    "\n",
    "# Set the robot to turn on the spot\n",
    "# and run for 1 rotation *of the wheels*\n",
    "tank_turn.on_for_rotations(-100,\n",
    "                           SpeedPercent(15), 1.6)\n"
   ]
  },
  {
   "cell_type": "markdown",
   "metadata": {
    "activity": true,
    "hidden": true
   },
   "source": [
    "With these settings, on my computer, I found I could turn the robot through about ninety degrees by setting the number of wheel rotations on the turn step to between 1.5 and 1.7 for a speed of 75%.\n",
    "\n",
    "The slower the robot moved, the more controllable it appeared to be. The angle of turn required was independent of the turn speed.\n",
    "\n",
    "It was virtually impossible to get it to turn exactly 90 degrees: the simulator does not appear to work at such a fine level of detail"
   ]
  },
  {
   "cell_type": "markdown",
   "metadata": {},
   "source": [
    "### 2.2.2 Copying code using notebook keyboard shortcut commands\n",
    "\n",
    "You can also use the `Esc-C` keyboard shortcut to copy a selected cell and `Esc-V` to paste a copied cell immediately below the currently selected cell.\n",
    "\n",
    "Alternatively, you can highlight and select code *within* a code cell and then use the keyboard copy and paste commands to copy the code from the original cell, create a new code cell, then paste the copied code into the new code cell."
   ]
  },
  {
   "cell_type": "markdown",
   "metadata": {},
   "source": [
    "### 2.2.3 Deleting cells\n",
    "\n",
    "Sometimes, you may find you want to delete a code or Markdown cell.\n",
    "\n",
    "To delete a cell, click on it to select it and then click the scissors (*cut selected cells*) toolbar button."
   ]
  },
  {
   "cell_type": "markdown",
   "metadata": {},
   "source": [
    "### 2.2.4 Deleting and moving lines of code in a code cell\n",
    "To delete one of more particular lines of code in a code cell, highlight just that line or lines of code then use the keyboard delete key to delete them.\n",
    "\n",
    "To move one or more lines of code in a code cell, first highlight them to select them. Next, cut then using your normal keyboard cut command (for example, `Ctrl-X` or `Cmd-X`), place the cursor where you want them to go then and paste them using your normal keyboard paste command (for example, `Ctrl-V` or `Cmd-V`)."
   ]
  },
  {
   "cell_type": "markdown",
   "metadata": {},
   "source": [
    "## 2.3 Working with comments\n",
    "\n",
    "In a computer program, a *comment* refers to a line of explanatory text that is not executed when the program runs. As such, it does not have to conform to the syntax of the programming language once it has been identified as a comment."
   ]
  },
  {
   "cell_type": "markdown",
   "metadata": {
    "tags": [
     "alert-success"
    ]
   },
   "source": [
    "*In the following activities, you may notice that the code cells are __not__ prefixed using simulator magic commands.*\n",
    "\n",
    "*Instead, the Python code contained in the cells is executed in the full Python environment associated with the notebook kernel when the code cell is run.*"
   ]
  },
  {
   "cell_type": "markdown",
   "metadata": {},
   "source": [
    "In a Python program, a comment is identified by prefixing a line of text or a line of code with a `#` (a ‘hash’ or, in US English, a ‘pound’) character.\n",
    "\n",
    "```python\n",
    "# A Python comment line is prefixed by a # (hash) character\n",
    "```\n",
    "\n",
    "If you run the following code cell, the contents of which should look like this:\n",
    "\n",
    "```python\n",
    "# This is a comment\n",
    "\n",
    "print('Hello')\n",
    "\n",
    "#print(\"Commented out code lines are not executed.\")\n",
    "```\n",
    "\n",
    "you will see that the first commented-out line is ignored, the second line prints out the word `Hello`, and the third line is also ignored."
   ]
  },
  {
   "cell_type": "code",
   "execution_count": null,
   "metadata": {},
   "outputs": [],
   "source": [
    "# This is a comment\n",
    "\n",
    "print('Hello')\n",
    "\n",
    "#print(\"Commented out code lines are not executed.\")"
   ]
  },
  {
   "cell_type": "markdown",
   "metadata": {},
   "source": [
    "*Uncommenting* a line refers to removing the initial character that identifies the line as a comment line."
   ]
  },
  {
   "cell_type": "markdown",
   "metadata": {
    "activity": true
   },
   "source": [
    "### 2.3.1 Activity — Uncommenting a line of code\n",
    "\n",
    "In the following code cell, *un*comment the second print statement in the code cell above by deleting the `#` character in front of it, and then run the code cell. You should see that both messages are displayed."
   ]
  },
  {
   "cell_type": "code",
   "execution_count": null,
   "metadata": {
    "activity": true
   },
   "outputs": [],
   "source": [
    "# This is a comment\n",
    "\n",
    "print('Hello')\n",
    "\n",
    "#print(\"Commented out code lines are not executed.\")"
   ]
  },
  {
   "cell_type": "markdown",
   "metadata": {},
   "source": [
    "If a comment line would work in uncommented form as a line of code, rather than being a more general line of human-readable text, then it will often be referred to as being ‘commented out’.\n",
    "\n",
    "If you hear the phrase ‘comment out that line’, it thus refers to leaving the line in the program, but prefixing it with the comment character so that the line is not executed when the program is run."
   ]
  },
  {
   "cell_type": "markdown",
   "metadata": {
    "activity": true
   },
   "source": [
    "### 2.3.2 Activity — Commenting out a line of code\n",
    "\n",
    "Comment out the first print statement in the code cell below by prefixing it with the `#` comment character. Run the cell. This time you should only see the second print message being displayed."
   ]
  },
  {
   "cell_type": "code",
   "execution_count": null,
   "metadata": {
    "activity": true
   },
   "outputs": [],
   "source": [
    "# This is a comment\n",
    "\n",
    "print('Hello')\n",
    "\n",
    "#print(\"Commented out code lines are not executed.\")"
   ]
  },
  {
   "cell_type": "markdown",
   "metadata": {
    "activity": true
   },
   "source": [
    "### 2.3.3 Activity — Uncommenting an invalid line of code\n",
    "\n",
    "Uncomment the first (text comment) line in the code cell below and run the cell. This time, an error will be thrown because the first line is *not* a valid line of Python code."
   ]
  },
  {
   "cell_type": "code",
   "execution_count": null,
   "metadata": {
    "activity": true
   },
   "outputs": [],
   "source": [
    "# This is a comment\n",
    "\n",
    "print('Hello')\n",
    "\n",
    "#print(\"Commented out code lines are not executed.\")"
   ]
  },
  {
   "cell_type": "markdown",
   "metadata": {},
   "source": [
    "When developing your own programs, or reading other people’s code, you may find broken lines of code have been left in a program, albeit commented out, often with additional commments alongside, as a note the programmer has left to themselves.\n",
    "\n",
    "Using print statements to display variable values as a program executes, and then commenting them out when you want to use the program in anger without debugging statements on display, provides a simple tried and tested technique for quickly debugging programs. "
   ]
  },
  {
   "cell_type": "markdown",
   "metadata": {
    "tags": [
     "alert-success"
    ]
   },
   "source": [
    "Professional developers use a wide range of tools to help them debug their programs as they create them. These include variable inspectors and breakpoint tools that allow the program execution to be stopped and inspected at various points. Using such tools is beyond the scope of this module."
   ]
  },
  {
   "cell_type": "markdown",
   "metadata": {},
   "source": [
    "## 2.4 Using comments\n",
    "\n",
    "Comments are often used to document particular lines of code to clarify or explain their role in a program. It is good practice to keep comments as meaningful as possible."
   ]
  },
  {
   "cell_type": "markdown",
   "metadata": {},
   "source": [
    "### 2.4.1 Block comments\n",
    "\n",
    "The phrase *block comment*, or the plural *comments*, is taken to refer to continuous explanatory comment text that extends over several lines."
   ]
  },
  {
   "cell_type": "code",
   "execution_count": null,
   "metadata": {},
   "outputs": [],
   "source": [
    "# Multiple consecutive lines of comments are\n",
    "# often referred to as 'block comments'.\n",
    "#\n",
    "# The syntax of some programming languages \n",
    "# allows block comments to be defined simply by\n",
    "#using special character sequences at the start\n",
    "# and end of the comment block.\n",
    "#\n",
    "# In Python, one widely used convention is \n",
    "# to delimit each line as its own comment line.\n",
    "\n",
    "'''\n",
    "Multi-line text strings can also be used as a way\n",
    "of 'escaping' lines of text so that it is not executed. \n",
    "\n",
    "Such strings are identified by using three single\n",
    "(or double) quotes at the start of the text string,\n",
    "and three matching single (or double) quotes at\n",
    "the end of the string.\n",
    "\n",
    "If a text string appears as the last item in a\n",
    "Jupyter notebook code cell, it will be returned \n",
    "and displayed as the cell output if the cell is run.\n",
    "\n",
    "Run this code cell to see what I mean...\n",
    "'''"
   ]
  },
  {
   "cell_type": "markdown",
   "metadata": {},
   "source": [
    "### 2.4.2 Using comments in other ways\n",
    "\n",
    "As well as being used to annotate a program with helpful information, comments can also be used to provide visual clues to the division of lines or chunks of code. For example, you might use a comment to identify separate sections of a program from each other. This technique can be used to make your programs easier to read."
   ]
  },
  {
   "cell_type": "markdown",
   "metadata": {},
   "source": [
    "## 2.5 Using notebook Markdown cells to narrate a program code and program development\n",
    "\n",
    "As well as commenting code within a code cell, you can also make notes in a Jupyter notebook’s Markdown cells. For example, you might use Markdown cells:\n",
    "\n",
    "- to describe what you aim to achieve with the code in a following code cell\n",
    "- to describe the output produced by running a previous code cell\n",
    "- to reflect on the behaviour of code executed in a previous code cell; for example, if it does not work as expected.\n",
    "\n",
    "Remember that the *notebooks are yours*, so use them for making your own notes as you work through them.\n",
    "\n",
    "You may notice that in some activities, cells are distinguished by a yellow background. These cells are prompts for you to make your own notes.\n",
    "\n",
    "For example, you may wish to make some notes in the following cell about why it might be useful to make notes in the notebooks..."
   ]
  },
  {
   "cell_type": "markdown",
   "metadata": {
    "student": true
   },
   "source": [
    "*Double-click this Markdown cell to edit it. ‘Run’ the cell to render the Markdown as styled HTML text.*\n",
    "\n",
    "*Add some of your own thoughts here about why it might be useful to add your own notes to the Jupyter notebooks.*"
   ]
  },
  {
   "cell_type": "markdown",
   "metadata": {},
   "source": [
    "If you create your own cells in the notebook, either code cells or Markdown cells, you may want to highlight them with the yellow background so that you can easily find them again. You can do this as follows. Create a new cell by clicking on the `+` button in the notebook toolbar. To change it from the default code cell to a Markdown cell, press `Esc-M` while the cell is selected or use the cell type drop-down list in the notebook toolbar to change the cell type to *Markdown*. Add some content to it and then, with the cell selected, click on the person (*Toggle cell student*) button in the toolbar to toggle the yellow background on and off."
   ]
  },
  {
   "cell_type": "markdown",
   "metadata": {},
   "source": [
    "## 2.6 Saving a RoboLab program\n",
    "\n",
    "When writing notebooks it is good practice to save them periodically.\n",
    "\n",
    "Notebooks are typically saved with the `.ipynb` filetype suffix. The name of the file is taken from the name set in the notebook header at the very top of the page. (You can change the notebook name by clicking on the notebook name, which will pop up a *Rename Notebook* dialogue box:\n",
    "\n",
    "<img src=\"../images/Section_00_01_-_Jupyter_Notebook_rename.png\" width=600 />\n",
    "\n",
    "\n",
    "When you make changes to a notebook, either by editing a code or Markdown cell, or by running one or more code cells, you may notice that an `(unsaved changes)` message appears at the top of the notebook:\n",
    "\n",
    "<img src=\"../images/Section_00_01_-_unsaved changes.png\" width=600 />\n",
    "\n",
    "The notebook will be automatically saved every minute or two. When it is autosaved, the status will change:\n",
    "\n",
    "<img src=\"../images/Section_00_01_-_autosaved.png\" width=600 />\n",
    "\n",
    "You can also do a ‘hard save’ of your notebook by clicking on the *Save and Checkpoint* notebook toolbar button or, from the *File* menu by selecting *Save and Checkpoint*. You can also save the notebook to a new file name from the *File* > *Save as...* menu option. The *File* > *Make a Copy* option will create a copy of the current notebook.\n",
    "\n",
    "<img src=\"../images/Section_00_01_-checkpointed.png\" width=600 />\n",
    "\n",
    "Checkpoints are useful because they not only autosave the notebook to the current file, but they also save a hidden copy of the notebook in a checkpoints directory. The *File* > *Revert to Checkpoint* menu option allows you to reload the previously checkpointed notebook. This is handy if you have made some changes to your notebook and those changes have been autosaved, but you find you want to revert to the previous version of the notebook where you made a conscious decision to save and checkpoint it.\n",
    "\n",
    "It’s not uncommon to see that you have been working on a notebook for quite some time since consciously saving it!\n",
    "\n",
    "<img src=\"../images/Section_00_01_-_checkpoint.png\" width=600 />\n"
   ]
  },
  {
   "cell_type": "markdown",
   "metadata": {},
   "source": [
    "## 2.7 Creating your own program from scratch\n",
    "\n",
    "In the first part of this notebook, you learned how to create a simple program to turn the robot through ninety degrees, before exploring in a little more detail how to use some of the notebook's editing features to create new programs based on previous ones. You also saw how code comments could be used to help structure a program and make it more readable.\n",
    "\n",
    "In this section, you will have an opportunity to try to put all those pieces together to create your own program, from scratch."
   ]
  },
  {
   "cell_type": "markdown",
   "metadata": {
    "activity": true
   },
   "source": [
    "### 2.7.1 Activity – Drawing a square\n",
    "\n",
    "Make a copy of the earlier code cell in which you programmed the robot to draw a straight line then turn through a right angle and paste it below:"
   ]
  },
  {
   "cell_type": "markdown",
   "metadata": {},
   "source": [
    "---"
   ]
  },
  {
   "cell_type": "markdown",
   "metadata": {
    "activity": true
   },
   "source": [
    "In the new code cell, copy the lines of code to drive the robot forward and turn through ninety degrees, and paste the copied lines of code below the original lines *in the same code cell*.\n",
    "\n",
    "What do you think your program will do now?\n",
    "\n",
    "Run the program in the simulator to find out.\n",
    "\n",
    "*Note that copying and pasting code is a tried-and-trusted technique. Do not be averse to reusing any code your have developed previously and that behaves as you expect.*"
   ]
  },
  {
   "cell_type": "markdown",
   "metadata": {
    "activity": true
   },
   "source": [
    "#### My observations\n",
    "\n",
    "*Click on the arrow in the sidebar or run this cell to reveal my observations.*"
   ]
  },
  {
   "cell_type": "markdown",
   "metadata": {
    "activity": true
   },
   "source": [
    "When I ran my version of the program (see below), the robot drew two sides of a square as an L shape and had made the turn ready to start a third edge."
   ]
  },
  {
   "cell_type": "code",
   "execution_count": null,
   "metadata": {
    "activity": true
   },
   "outputs": [],
   "source": [
    "%%sim_magic_preloaded -x 500 -y 500 -a 0 -p -C\n",
    "\n",
    "# Draw a square\n",
    "\n",
    "\n",
    "# First edge and turn\n",
    "\n",
    "# Set the left and right motors in a forward direction\n",
    "# and run for 1 rotation\n",
    "tank_drive.on_for_rotations(SpeedPercent(50), SpeedPercent(50), 1)\n",
    "\n",
    "# Set the robot to turn on the spot\n",
    "# and run for 1 rotation *of the wheels*\n",
    "tank_turn.on_for_rotations(-100, SpeedPercent(75), 1.68)\n",
    "\n",
    "\n",
    "\n",
    "# Second edge and turn\n",
    "\n",
    "# Set the left and right motors in a forward direction\n",
    "# and run for 1 rotation\n",
    "tank_drive.on_for_rotations(SpeedPercent(50), SpeedPercent(50), 1)\n",
    "\n",
    "\n",
    "# Set the robot to turn on the spot\n",
    "# and run for 1 rotation *of the wheels*\n",
    "tank_turn.on_for_rotations(-100, SpeedPercent(75), 1.68)"
   ]
  },
  {
   "cell_type": "markdown",
   "metadata": {},
   "source": [
    "## 2.8 Building on a previously developed computer program\n",
    "\n",
    "Trying to build a complex program in one go is a risky strategy. There are many factors that can prevent a program from working correctly, including:\n",
    "\n",
    "- *syntax errors*: characters in the wrong place, or incorrectly typed package or variable names\n",
    "- *logical errors*: for example, if your program uses logical tests, these may not be tested as intended, or the wider logic of the program may be incorrect.\n",
    "\n",
    "For this reason, it often makes sense to start small and then test increasingly elaborate versions of your program by incrementally adding a line or two of code at a time, checking that things are still working as you'd expect as you add additional steps to your program."
   ]
  },
  {
   "cell_type": "markdown",
   "metadata": {
    "activity": true
   },
   "source": [
    "### 2.8.1 Activity — Extending your program further\n",
    "\n",
    "Building on the program you developed in the previous activity, extend your program further so that the robot draws all four sides of a square.\n",
    "\n",
    "(Either modify your program in an earlier code cell, or make a copy of the earlier code cell, paste it here, and work in the newly copied cell: your notebook, your rules...!)\n",
    "\n",
    "You may find it convenient to make some notes first about how the new goal (to draw four sides of the square) relates to the previous goal, and what you need to change about your original program so that it performs the new task."
   ]
  },
  {
   "cell_type": "markdown",
   "metadata": {
    "student": true
   },
   "source": [
    "*Make your notes here.*"
   ]
  },
  {
   "cell_type": "markdown",
   "metadata": {
    "activity": true
   },
   "source": [
    "When you have created your extended/modified program, download it to the simulator and run it to test that it works.\n",
    "\n",
    "Run your program several times, with the pen down and without clearing the trace between runs. Note how any errors compound as you run the program multiple times.\n",
    "\n",
    "You may notice that it is easier to ‘tune’ the value of the rotation count required to turn the robot through ninety&nbsp;degrees when the robot turns multiple times, because it is easier to see where, and by how much, the turn undershoots or overshoots the right angle.\n",
    "\n",
    "Increasing the length of the side of the square can also help reveal when the angle is slightly off the right angle.\n",
    "\n",
    "Also note that you may not be able to get the robot to create a perfect square. (Don’t spend too long trying to achieve this!) You will learn in a later notebook how to get the robot to turn through a right angle in a more accurate and controllable way.\n",
    "\n",
    "__Reflection__: Having written your program, what do you notice about it? If you want to change the size of the square’s side length, for example, or modify the angle turned by the robot, how easy is it to modify your program? "
   ]
  },
  {
   "cell_type": "markdown",
   "metadata": {
    "student": true
   },
   "source": [
    "*Record your thoughts and observations about how easy your program is to extend and maintain here.*"
   ]
  },
  {
   "cell_type": "markdown",
   "metadata": {
    "activity": true,
    "heading_collapsed": true
   },
   "source": [
    "#### My observations\n",
    "\n",
    "*Click the arrow in the sidebar or run this cell to reveal my observations.*"
   ]
  },
  {
   "cell_type": "markdown",
   "metadata": {
    "activity": true,
    "hidden": true
   },
   "source": [
    "Here is my program. On multiple runs, it seems to overshoot the turn slightly."
   ]
  },
  {
   "cell_type": "code",
   "execution_count": null,
   "metadata": {
    "activity": true,
    "hidden": true
   },
   "outputs": [],
   "source": [
    "%%sim_magic_preloaded\n",
    "\n",
    "# Draw a square\n",
    "\n",
    "\n",
    "# First edge and turn\n",
    "\n",
    "# Set the left and right motors in a forward direction\n",
    "# and run for 1 rotation\n",
    "tank_drive.on_for_rotations(SpeedPercent(50), SpeedPercent(50), 1)\n",
    "\n",
    "# Set the robot to turn on the spot\n",
    "# and run for 1 rotation *of the wheels*\n",
    "tank_turn.on_for_rotations(-100, SpeedPercent(75), 0.846)\n",
    "\n",
    "\n",
    "\n",
    "# Second edge and turn\n",
    "\n",
    "# Set the left and right motors in a forward direction\n",
    "# and run for 1 rotation\n",
    "tank_drive.on_for_rotations(SpeedPercent(50), SpeedPercent(50), 1)\n",
    "\n",
    "\n",
    "# Set the robot to turn on the spot\n",
    "# and run for 1 rotation *of the wheels*\n",
    "tank_turn.on_for_rotations(-100, SpeedPercent(75), 0.846)\n",
    "\n",
    "\n",
    "# Third edge and turn\n",
    "\n",
    "# Set the left and right motors in a forward direction\n",
    "# and run for 1 rotation\n",
    "tank_drive.on_for_rotations(SpeedPercent(50), SpeedPercent(50), 1)\n",
    "\n",
    "# Set the robot to turn on the spot\n",
    "# and run for 1 rotation *of the wheels*\n",
    "tank_turn.on_for_rotations(-100, SpeedPercent(75), 0.846)\n",
    "\n",
    "\n",
    "\n",
    "# Fourth edge and turn\n",
    "\n",
    "# Set the left and right motors in a forward direction\n",
    "# and run for 1 rotation\n",
    "tank_drive.on_for_rotations(SpeedPercent(50), SpeedPercent(50), 1)\n",
    "\n",
    "\n",
    "# Set the robot to turn on the spot\n",
    "# and run for 1 rotation *of the wheels*\n",
    "tank_turn.on_for_rotations(-100, SpeedPercent(75), 0.846)"
   ]
  },
  {
   "cell_type": "markdown",
   "metadata": {
    "activity": true,
    "hidden": true
   },
   "source": [
    "In terms of the program’s design, I used comments to split up the code for each side, but there does seem to be a lot of repetition. If I want to change the side length or the angle turned, I need to make changes in lots of different places. If I had to draw a regular shape with twenty or thirty sides, things would start to get really unwieldy!"
   ]
  },
  {
   "cell_type": "markdown",
   "metadata": {},
   "source": [
    "## 2.9 Summary\n",
    "\n",
    "\n",
    "In this notebook you have learned how to make use of the notebooks for creating your own simulated robot control programs and running them in the robot simulator.\n",
    "\n",
    "You have seen how sequential programs can be used to instruct a robot to perform a series of tasks, one after the other.\n",
    "\n",
    "For simple, rote tasks, that may already be quite useful. But in the approach we have taken so far, there does appear to be a lot of repetition in the code.\n",
    "\n",
    "Surely there's a better way...?"
   ]
  }
 ],
 "metadata": {
  "jupytext": {
   "formats": "ipynb,.md//md"
  },
  "kernelspec": {
   "display_name": "Python 3",
   "language": "python",
   "name": "python3"
  }
 },
 "nbformat": 4,
 "nbformat_minor": 4
}
