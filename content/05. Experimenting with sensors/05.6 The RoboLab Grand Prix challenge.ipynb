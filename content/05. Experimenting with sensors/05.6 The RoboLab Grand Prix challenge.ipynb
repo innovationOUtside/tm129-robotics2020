{
 "cells": [
  {
   "cell_type": "markdown",
   "metadata": {},
   "source": [
    "# 6 The RoboLab Grand Prix Challenge\n",
    "\n",
    "The aim of this challenge is to create a program that makes the simulated robot go round a race track as quickly as possible.\n",
    "\n",
    "You can do this either by writing your own program from scratch, or by modifying one of the programs created in a previous activity.\n",
    "\n",
    "To complete this challenge, you should use the *Small_Robot* configuration.\n",
    "\n",
    "The race track itself is modelled on the [Thruxton motor racing circuit](https://thruxtonracing.co.uk/) in Hampshire. It was generated from an SVG representation of the circuit taken from Wikimedia Commons. One of the fastest UK motor racing circuits, the track comprises a closed a loop, with a series of gentle curves and long straight sections.\n",
    "\n",
    "The track is modelled as a black line on a white background, with a light grey bar across it at one point to represent the start and finish line. Two small red flags identify the (clockwise) direction of travel round the circuit.\n",
    "\n",
    "If your program uses an interesting control strategy, or completes a lap in what you think might be a fast time, then share it via your Cluster group forum.\n",
    "\n",
    "So let's load in the simulator in the normal way, and get ready to start your engines..."
   ]
  },
  {
   "cell_type": "code",
   "execution_count": null,
   "metadata": {},
   "outputs": [],
   "source": [
    "from nbev3devsim.load_nbev3devwidget import roboSim, eds\n",
    "\n",
    "%load_ext nbev3devsim\n",
    "%load_ext nbtutor"
   ]
  },
  {
   "cell_type": "markdown",
   "metadata": {},
   "source": [
    "Try not to spend too long on this challenge. Identify one or two possible approaches that you would like to try out that you think might improve the performance of the robot and try them out.\n",
    "\n",
    "As well as identifying new control strategies, changing parameter values within a control strategy you have already identified may also lead to performance improvements.\n",
    "\n",
    "Good luck... :-)"
   ]
  },
  {
   "cell_type": "markdown",
   "metadata": {
    "student": true
   },
   "source": [
    "*Your design notes here.*"
   ]
  },
  {
   "cell_type": "code",
   "execution_count": null,
   "metadata": {
    "student": true
   },
   "outputs": [],
   "source": [
    "%%sim_magic_preloaded --background Thruxton_Circuit -r Small_Robot\n",
    "\n",
    "# YOUR CODE HERE"
   ]
  },
  {
   "cell_type": "markdown",
   "metadata": {
    "student": true
   },
   "source": [
    "*Your notes and observations on the performance of your robot and the strategies you used to try and improve the lap time of your robot.*"
   ]
  }
 ],
 "metadata": {
  "jupytext": {
   "formats": "ipynb,.md//md"
  },
  "kernelspec": {
   "display_name": "Python 3",
   "language": "python",
   "name": "python3"
  }
 },
 "nbformat": 4,
 "nbformat_minor": 4
}
