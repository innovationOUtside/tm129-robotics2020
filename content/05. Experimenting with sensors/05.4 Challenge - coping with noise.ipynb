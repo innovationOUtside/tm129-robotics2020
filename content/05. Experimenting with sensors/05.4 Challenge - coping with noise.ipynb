{
 "cells": [
  {
   "cell_type": "markdown",
   "id": "swiss-truth",
   "metadata": {
    "activity": true
   },
   "source": [
    "# 4 Challenge – Coping with noise\n",
    "\n",
    "Using the *Lollipop* background in the simulator, see if you can refine your program (or my program) to complete the challenge of following the line and stopping on the red bar in the presence of increasing levels of sensor and motor noise.\n",
    "\n",
    "__As with many experimental designs, you should try to handle each type of noise individually before adding both forms of noise at the same time.__\n",
    "\n",
    "Trying to solve challenges like this can be both frustrating and time-consuming, so try to keep an eye on the clock and don’t spend too much time trying to complete the challenge.\n",
    "\n",
    "If you think you have come up with a good solution, then share it on your Cluster group forum."
   ]
  },
  {
   "cell_type": "markdown",
   "id": "personal-oxide",
   "metadata": {
    "tags": [
     "alert-danger"
    ]
   },
   "source": [
    "*You should not spend more than 20 to 30 minutes on this challenge.*"
   ]
  },
  {
   "cell_type": "code",
   "execution_count": null,
   "id": "tight-breed",
   "metadata": {},
   "outputs": [],
   "source": [
    "from nbev3devsim.load_nbev3devwidget import roboSim, eds\n",
    "\n",
    "%load_ext nbev3devsim"
   ]
  },
  {
   "cell_type": "markdown",
   "id": "effective-seller",
   "metadata": {},
   "source": [
    "*You can add sensor noise in the range 0...128 using the `--sensornoise / -N` magic flag. Add `--motornoise / -M` in the range 0...500. View the `Noise controls` panel using the `--noisecontrols / -z` flag.*"
   ]
  },
  {
   "cell_type": "markdown",
   "id": "pleasant-contrary",
   "metadata": {
    "student": true
   },
   "source": [
    "*Your design notes...*"
   ]
  },
  {
   "cell_type": "code",
   "execution_count": null,
   "id": "popular-stereo",
   "metadata": {
    "student": true
   },
   "outputs": [],
   "source": [
    "%%sim_magic_preloaded --background Lollipop --sensornoise 10 --motornoise 20\n",
    "\n",
    "# YOUR CODE HERE"
   ]
  },
  {
   "cell_type": "markdown",
   "id": "boxed-lexington",
   "metadata": {
    "student": true
   },
   "source": [
    "*Your observations regarding the behaviour of your program in the presence of individual and combined forms of noise, and the strategies you used to try to accommodate it.*"
   ]
  }
 ],
 "metadata": {
  "jupytext": {
   "formats": "ipynb,.md//md"
  },
  "kernelspec": {
   "display_name": "Python 3",
   "language": "python",
   "name": "python3"
  }
 },
 "nbformat": 4,
 "nbformat_minor": 5
}
