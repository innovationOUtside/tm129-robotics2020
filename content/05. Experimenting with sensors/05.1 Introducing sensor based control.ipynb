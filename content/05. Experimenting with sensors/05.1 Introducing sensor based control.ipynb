{
 "cells": [
  {
   "cell_type": "markdown",
   "metadata": {},
   "source": [
    "# 1. Introduction to sensor based control\n",
    "\n",
    "In this session you will explore a range of simulator environments and sensor and motor drive noise settings, as well as modifying the robot configuration by changing the height of the simulated light sensor.\n",
    "\n",
    "Through your experiments, you will investigate the way the sensors behave and how this information can be used to control the robot."
   ]
  },
  {
   "cell_type": "markdown",
   "metadata": {
    "tags": [
     "alert-danger"
    ]
   },
   "source": [
    "*There's quite a lot to get through this week, but next week's activities are a bit lighter. So consider taking the two weeks together, and if you start to run out of study time,  roll some of this week's notebooks into next week's activity time.*"
   ]
  },
  {
   "cell_type": "markdown",
   "metadata": {},
   "source": [
    "## 1.1 Simple robot control using sensors\n",
    "\n",
    "You have already seen some earlier demonstrations of how we can use sensors to control the behaviour of our simulated robot, including how to stop when the robot encounters a black line. In this week's activities, you will have an opportunity to explore in more detail how we can use sensors to control the robot's behaviour.\n",
    "\n",
    "We'll start with a quick recap of how detecting a simple change in the environment — the change from a white background to a black line — and how to act on that change.\n",
    "\n",
    "But then it's time for you to take a plunge into the deep end, in terms of developing a more elaborate robot behaviour: following a line.\n",
    "\n",
    "So let's load in the simulator in the normal way, and then get started:"
   ]
  },
  {
   "cell_type": "code",
   "execution_count": null,
   "metadata": {},
   "outputs": [],
   "source": [
    "from nbev3devsim.load_nbev3devwidget import roboSim, eds\n",
    "\n",
    "%load_ext nbev3devsim\n",
    "%load_ext nbtutor"
   ]
  },
  {
   "cell_type": "markdown",
   "metadata": {},
   "source": [
    "## 1.1 A simple line stopper\n",
    "\n",
    "You have already met this program in various guises: a simple program that stops the robot when it encounters a black line:"
   ]
  },
  {
   "cell_type": "code",
   "execution_count": null,
   "metadata": {},
   "outputs": [],
   "source": [
    "%%sim_magic_preloaded -b Loop -RX\n",
    "\n",
    "# Turn the motors on\n",
    "speed = SpeedPercent(40)\n",
    "tank_drive.on(speed, speed)\n",
    "\n",
    "while colorLeft.reflected_light_intensity_pc > 0:\n",
    "    # Keep on trucking...\n",
    "    pass\n",
    "\n",
    "say(\"Stopped at black line\")\n",
    "# End the program"
   ]
  },
  {
   "cell_type": "markdown",
   "metadata": {
    "student": true
   },
   "source": [
    "*As a refresher, make some quick notes here about how this program implements the line stopping behaviour.*"
   ]
  },
  {
   "cell_type": "markdown",
   "metadata": {},
   "source": [
    "## 1.2 Line followers and edge followers\n",
    "\n",
    "In this section you will investigate how a robot can be made to follow a desired path as it navigates its environment.\n",
    "\n",
    "When humans navigate around a house or a supermarket, they tend to use the information provided by their eyes to control our movements. Many simple robots do not have complex vision systems like us and instead have to rely on much simpler sensors. One of the most commonly used methods for navigation by robots is to use a simple light sensor to follow a line.\n",
    "\n",
    "The idea behind *line following* is that the environment has been adapted by the creation of a marked path that the robot can follow. For example, it could be a black line on a white background, or a wire embedded in the floor creating a magnetic field that can be detected by a Hall effect sensor.\n",
    "\n",
    "As well as following a line, we can also follow the *edge* of a line. You will have an opportunity to explore both forms of control."
   ]
  },
  {
   "cell_type": "markdown",
   "metadata": {},
   "source": [
    "## 1.2.1 A simple line follower using two sensors\n",
    "\n",
    "In a simple visual line follower, we might use two light sensors along the front edge of the robot. Suppose the distance between the sensors slightly exceeds the thickness of a black line on a white background. With the robot placed over the line and straddling it, one sensor is on either side of the line.\n",
    "\n",
    "If the robot turns across the *left-hand* side of the line, then the sensor on the *right-hand* side of the robot will turn onto the line and detect black. This provides us with an error signal we can use to correct the path of the robot and turn it back onto the line. In this case, the control strategy would be to turn towards the right-hand side of the robot."
   ]
  },
  {
   "cell_type": "markdown",
   "metadata": {
    "activity": true
   },
   "source": [
    "### 1.2.2 Activity — how the robot sees a line 1\n",
    "\n",
    "As a thought experiment, put yourself in the mind of the robot. What would the robot see if it veered off the right-hand side of the line?"
   ]
  },
  {
   "cell_type": "markdown",
   "metadata": {
    "student": true
   },
   "source": [
    "*Write your answer here before revealing the answer.*"
   ]
  },
  {
   "cell_type": "markdown",
   "metadata": {
    "activity": true,
    "heading_collapsed": true
   },
   "source": [
    "#### Example discussion\n",
    "\n",
    "*Click the arrow in the sidebar or run this cell to reveal an example discussion.*"
   ]
  },
  {
   "cell_type": "markdown",
   "metadata": {
    "activity": true,
    "hidden": true
   },
   "source": [
    "If the robot goes over the *right-hand* edge of the line, then the left-hand sensor will register black and the robot knows that it needs to turn to the left to move back over the line."
   ]
  },
  {
   "cell_type": "markdown",
   "metadata": {
    "activity": true
   },
   "source": [
    "### 1.2.3 Activity — how the robot sees a line 2\n",
    "\n",
    "What would the robot do if the line started to curve to the left rather than continue in a straight line? Explain how it might stay on the line."
   ]
  },
  {
   "cell_type": "markdown",
   "metadata": {
    "student": true
   },
   "source": [
    "*Write your answer here before revealing the answer.*"
   ]
  },
  {
   "cell_type": "markdown",
   "metadata": {
    "activity": true,
    "heading_collapsed": true
   },
   "source": [
    "#### Example discussion\n",
    "\n",
    "*Click the arrow in the sidebar or run this cell to reveal an example discussion.*"
   ]
  },
  {
   "cell_type": "markdown",
   "metadata": {
    "activity": true,
    "hidden": true
   },
   "source": [
    "If the line turned to the left and the robot was moving straight ahead, then the left-hand sensor would move over the line and see black. This could generate an error signal indicating that the robot should turn to the left to stay on the line and move the left-hand light sensor back over the white background."
   ]
  },
  {
   "cell_type": "markdown",
   "metadata": {
    "activity": true
   },
   "source": [
    "### 1.2.4 Activity — how the robot sees a line 3\n",
    "\n",
    "Suppose that the two sensors are moved closer together, separated by a distance less than the width of the line to be followed, with one sensor still on either side of the centerline of the robot.\n",
    "\n",
    "Would the robot be able to identify its location relative to the line? Explain your reasoning."
   ]
  },
  {
   "cell_type": "markdown",
   "metadata": {
    "student": true
   },
   "source": [
    "*Write your answer here before revealing the answer.*"
   ]
  },
  {
   "cell_type": "markdown",
   "metadata": {
    "activity": true,
    "heading_collapsed": true
   },
   "source": [
    "#### Example discussion\n",
    "\n",
    "*Click the arrow in the sidebar or run this cell to reveal an example discussion.*"
   ]
  },
  {
   "cell_type": "markdown",
   "metadata": {
    "activity": true,
    "hidden": true
   },
   "source": [
    "If the sensors are close together, separated by less than the width of the line, then they will both be over the line when the robot is on the line, and both see black. If the robot moves off the line to the left, then the left-hand sensor will detect white, an error signal can be generated, and the robot can be turned away from that direction and back onto the line."
   ]
  },
  {
   "cell_type": "markdown",
   "metadata": {},
   "source": [
    "### 1.2.5 Activity — Seeing what the robot actually sees\n",
    "\n",
    "Having done our thought experiment, let's see what the robot actually sees when presented with a line with a width slightly less then the distance between the robot's two light sensors.\n",
    "\n",
    "Load the *Line_Following_Test* background into the simulator, and display the *Sensor arrays* and *Instrumentation* panels, along with the *Position controls*.\n",
    "\n",
    "You should be able to use the up/down arrow buttons to fine turn the robot's x and y position, as well as its orientation angle."
   ]
  },
  {
   "cell_type": "code",
   "execution_count": null,
   "metadata": {},
   "outputs": [],
   "source": [
    "%sim_magic -b Line_Following_Test -iAXH"
   ]
  },
  {
   "cell_type": "markdown",
   "metadata": {
    "student": true
   },
   "source": [
    "*Record your observations here about what the robot sees for the different situations in which it might encounter the line.*"
   ]
  },
  {
   "cell_type": "markdown",
   "metadata": {},
   "source": [
    "## 1.3 Writing a line-follower program\n",
    "\n",
    "The behaviour of the sensors and the interpretation of the data they provide is very important when creating line-following robots. We will start to look at these aspects in some detail in this activity and later ones.\n",
    "\n",
    "The challenge is to write a robot control program to make the robot follow the line."
   ]
  },
  {
   "cell_type": "markdown",
   "metadata": {},
   "source": [
    "### 1.3.1 Calibrating the required sensor readings\n",
    "\n",
    "You first need to record the light sensor readings just to check that we know what reading the sensor gives when it is over the line, and off the line.\n",
    "\n",
    "Even if you *think* you know what the likely sensor readings are, it’s still worth checking."
   ]
  },
  {
   "cell_type": "markdown",
   "metadata": {
    "activity": true
   },
   "source": [
    "### 1.3.2 Taking readings\n",
    "\n",
    "The light sensor defined by `ev3dev-py` as a `ColorSensor` object actually returns three RGB colour components: a `R` red value, a `G` green value and a `B` blue value, each in the range `0...255`. (The colour signal can also be mapped onto other representations, such as HSV – *Hue, saturation, value*.)\n",
    "\n",
    "The `reflected_light_intensity` reading in the simulator is actually recorded as the value of the first RGB component: the *red* component in the range `0..255`. The `reflected_light_intensity_pc` value returns this as a percentage in the range `0..100`.\n",
    "\n",
    "Drag or otherwise move the robot around the screen, positioning it so the left-hand light sensor is directly over the area you want to record the sensor reading for. When you place the robot, the light sensor reading should be updated in the simulator sensor readings area.\n",
    "\n",
    "What readings do you obtain? Record your readings in the cell below:"
   ]
  },
  {
   "cell_type": "markdown",
   "metadata": {
    "student": true
   },
   "source": [
    "- *value over black:*\n",
    "- *value over white:*\n",
    "- *value over the edge (where the sensor sees black and white):*"
   ]
  },
  {
   "cell_type": "markdown",
   "metadata": {
    "activity": true,
    "heading_collapsed": true
   },
   "source": [
    "#### Example readings\n",
    "*Click the arrow in the sidebar or run this cell to reveal a set of example readings.*"
   ]
  },
  {
   "cell_type": "markdown",
   "metadata": {
    "activity": true,
    "hidden": true
   },
   "source": [
    "The readings I got were as follows:\n",
    "    \n",
    "- *value over black:* `0`\n",
    "- *value over white:* `255`\n",
    "- *value over the edge (where the sensor sees black and white):* varies between the black and white values, depending on how much of the line was in view of the sensor."
   ]
  },
  {
   "cell_type": "markdown",
   "metadata": {},
   "source": [
    "## 1.4 Creating a line-follower program\n",
    "\n",
    "In the following challenge, you will develop a program that will allow the robot to use two sensors to help it to follow a narrow line.\n",
    "\n",
    "A starting constraint is that the line is quite a narrow one that can be straddled by the robot, with a light sensor to either side of the line over the white background.\n",
    "\n",
    "As with many engineering problems, it is possible to consider the problem in different ways and decompose it in to different smaller sub-problems.\n",
    "\n",
    "At quite a high level of abstraction, we might simply ask:\n",
    "\n",
    "- *how can we get the robot to follow a straight line?*, and\n",
    "- *how can we get the robot to follow a line that turns a corner?*\n",
    "\n",
    "This then splits into a perception problem at a slightly lower level of abstraction:\n",
    "\n",
    "- what do the sensors see when they straddle a straight line?\n",
    "- what do the sensors see if the robot turns off the line to the left or to the right?\n",
    "- what does the robot see if the line curves to the left or to the right?\n",
    "\n",
    "\n",
    "\n",
    "We might then want to focus on what motor actions we should take when presented with different sensor perceptions. For example, here are some questions you might want to bear in mind as you develop your program:\n",
    "\n",
    "  - What should the robot do if both sensors see white?\n",
    "  - What should the robot do if the left-hand sensor sees white and the right-hand sensor sees black?\n",
    "  - What should the robot do if the left-hand sensor sees black and the right-hand sensor sees white?\n",
    "  - Could there be a situation where both sensors see black? What should the robot do in such a case?\n",
    "\n",
    "Note that there may be different possible answers to each question. Part of the challenge of the design task is to balance the various different potential solutions to each part of the problem that work together solve the problem as a whole.\n",
    "\n",
    "How might you need to modify the program if the robot is placed on a black line that is slightly wider than the distance between the sensors?"
   ]
  },
  {
   "cell_type": "markdown",
   "metadata": {
    "student": true
   },
   "source": [
    "*Make your own notes on the design questions here.*\n",
    "    \n",
    "*For example, how can the robot tell:*\n",
    "\n",
    "- *if it is on the line?*\n",
    "- *if it is starting to veer off the line?*\n",
    "- *if the line is starting to curve one way or the other?*\n",
    "\n",
    "*And when it comes to controlling the robot:*\n",
    "  \n",
    "  - *What should the robot do if both sensors see white?*\n",
    "  - *What should the robot do if the left-hand sensor sees white and the right-hand sensor sees black?*\n",
    "  - *What should the robot do if the left-hand sensor sees black and the right-hand sensor sees white?*\n",
    "  - *Could there be a situation where both sensors see black? What should the robot do in such a case?*\n"
   ]
  },
  {
   "cell_type": "markdown",
   "metadata": {
    "activity": true
   },
   "source": [
    "### Challenge — writing a line-follower program\n",
    "\n",
    "There are many strategies for writing a line follower program, so a key aim for this activity is to provide you with an opportunity for you to come up with your own strategy for solving the problem.\n",
    "\n",
    "If you get stuck, put yourself in the mind of the robot and talk aloud what steps you need to perform when different situations occur.\n",
    "\n",
    "To simplify the program, do not worry about a terminating condition for it. Instead let it run forever (or at least, until you force the execution to stop by clicking the simulator *Stop* button). Do this by placing the main logic for your code inside an infinite loop (a `while True:` block, which will loop forever).\n",
    "\n",
    "Use the `Line_Following_Test` background and set the pen down option to create a trace showing where the robot travelled:"
   ]
  },
  {
   "cell_type": "code",
   "execution_count": null,
   "metadata": {
    "activity": true
   },
   "outputs": [],
   "source": [
    "%%sim_magic_preloaded -b Line_Following_Test -p\n",
    "\n",
    "# Define any original variables first\n",
    "\n",
    "# Create an infinite control loop\n",
    "\n",
    "    # Within the control loop\n",
    "    #  - read sensor values\n",
    "    #  - use sensor values to make a decision about motor actions\n"
   ]
  },
  {
   "cell_type": "markdown",
   "metadata": {
    "activity": true,
    "heading_collapsed": true
   },
   "source": [
    "#### Example solution\n",
    "\n",
    "*Click the arrow in the sidebar or run this cell to reveal an example solution.*"
   ]
  },
  {
   "cell_type": "markdown",
   "metadata": {
    "activity": true,
    "hidden": true
   },
   "source": [
    "The following code cell contains my solution, although it’s not necessarily a very good one!\n",
    "\n",
    "My control strategy is to set the motor speed on each side to be proportional to the reflected light intensity. The more white the sensor sees, the faster that wheel travels. If the sensor sees black, then the motor stops.\n",
    "\n",
    "Also, the robot falls off the line quite easily if the speed is set too high."
   ]
  },
  {
   "cell_type": "code",
   "execution_count": null,
   "metadata": {
    "activity": true,
    "hidden": true
   },
   "outputs": [],
   "source": [
    "%%sim_magic_preloaded -b Line_Following_Test -p\n",
    "\n",
    "colorLeft = ColorSensor(INPUT_2)\n",
    "colorRight = ColorSensor(INPUT_3)\n",
    " \n",
    "# Infinite loop\n",
    "while True:\n",
    "    \n",
    "    # Grab the light sensor readings\n",
    "    intensity_left = colorLeft.reflected_light_intensity_pc / 100\n",
    "    intensity_right = colorRight.reflected_light_intensity_pc / 100\n",
    "\n",
    "    # Display the light sensor readings\n",
    "    print(intensity_left, intensity_right)\n",
    "    \n",
    "    max_percent_speed = 20\n",
    "    \n",
    "    # It may be worth trying to tune the\n",
    "    # different speeds a bit more carefully.\n",
    "    # We might also have a minimum speed for\n",
    "    # each wheel by passing in a fixed positive\n",
    "    # bias value into the SpeedPercent calculation,\n",
    "    # whilst also remembering the SpeedPercent\n",
    "    # function expects a value in the range -100...100\n",
    "    left_motor_speed = SpeedPercent(max_percent_speed*intensity_left)\n",
    "    right_motor_speed = SpeedPercent(max_percent_speed*intensity_right)\n",
    "    \n",
    "    # Set the motors to the desired speeds.\n",
    "    tank_drive.on(left_motor_speed, right_motor_speed)"
   ]
  },
  {
   "cell_type": "markdown",
   "metadata": {
    "activity": true,
    "hidden": true
   },
   "source": [
    "Another approach might be to determine an error signal as the difference between the left-hand and right-hand sensor values and use that to set a steering value:"
   ]
  },
  {
   "cell_type": "code",
   "execution_count": null,
   "metadata": {
    "activity": true,
    "hidden": true
   },
   "outputs": [],
   "source": [
    "%%sim_magic_preloaded -b Line_Following_Test -p -P green -C\n",
    "\n",
    "from time import sleep\n",
    "\n",
    "steering_drive = MoveSteering(OUTPUT_B, OUTPUT_C)\n",
    "\n",
    "colorLeft = ColorSensor(INPUT_2)\n",
    "colorRight = ColorSensor(INPUT_3)\n",
    "\n",
    "# The GAIN term \"amplifies\" the error signal\n",
    "GAIN = 0.5\n",
    "\n",
    "while True:\n",
    "    # Grab the light sensor readings\n",
    "    intensity_left = colorLeft.reflected_light_intensity_pc \n",
    "    intensity_right = colorRight.reflected_light_intensity_pc\n",
    "\n",
    "    print('Left_light: ' + str(intensity_left ))\n",
    "    print('Right_light: ' + str(intensity_right ))\n",
    "    \n",
    "    # Calculate an error term\n",
    "    error = colorLeft.reflected_light_intensity - colorRight.reflected_light_intensity\n",
    "    \n",
    "    #Amplify the error to generate a steering correction value\n",
    "    correction = error * GAIN\n",
    "    \n",
    "    #Steer the robot accordingly\n",
    "    # Arguments: .on(steering, speed)\n",
    "    steering_drive.on(correction, 20)\n",
    "    # Note that this is blocking for a short period of time\n",
    "    # as we give the robot a change to turn\n",
    "    sleep(0.1)\n",
    "    # If instaed we use on_for_seonds,\n",
    "    # the robot motion is stuttery\n",
    "    # as the motors are turned on and off\n",
    "    #steering_drive.on_for_seconds(correction, 20, 0.1)"
   ]
  },
  {
   "cell_type": "markdown",
   "metadata": {},
   "source": [
    "## 1.5 A simple edge follower using a single sensor\n",
    "\n",
    "In the line-follower program we used *two* light sensors to detect when the robot started to veer off the line, either to the left, or to the right.\n",
    "\n",
    "But what happens if the line is much wider than the distance between the two sensors?\n",
    "\n",
    "In that case, it might make more sense to follow a particular *edge* of the line. For example, if we follow the right-hand edge, then the robot is over the edge of the line when the left-hand sensor sees black and the right-hand sensor sees white. If both sensors see white, we have fallen off the line and so the robot needs to turn back to the left so the left-hand sensor can reacquire the black line.\n",
    "\n",
    "But for this edge following strategy, do we really need *two* sensors to follow the edge of a line? Or can we get away with using just a single sensor?"
   ]
  },
  {
   "cell_type": "markdown",
   "metadata": {
    "activity": true
   },
   "source": [
    "### 1.5.1 Activity – Following a single edge\n",
    "\n",
    "What strategy might you use to control a robot so that it can follow a line using just a single light sensor?"
   ]
  },
  {
   "cell_type": "markdown",
   "metadata": {
    "student": true
   },
   "source": [
    "*Write your solution here.*"
   ]
  },
  {
   "cell_type": "markdown",
   "metadata": {
    "activity": true,
    "heading_collapsed": true
   },
   "source": [
    "#### Example solution\n",
    "\n",
    "*Click the arrow in the sidebar or run this cell to reveal an example solution.*"
   ]
  },
  {
   "cell_type": "markdown",
   "metadata": {
    "activity": true,
    "hidden": true
   },
   "source": [
    "The basic idea is that, as the robot moves forwards, the light sensor tells it if it should move towards the edge or away from it.\n",
    "\n",
    "For example, if the light sensor picks up a light background then the robot needs to turn (say to the right) until it detects the dark line.\n",
    "\n",
    "Once the light sensor detects it is over the dark line, the robot should start moving forwards whilst also turning back to the left to find the edge of the line again.\n",
    "\n",
    "In this way, the robot would ‘edge’ forwards as it follows the *right-hand* edge of the black line."
   ]
  },
  {
   "cell_type": "markdown",
   "metadata": {},
   "source": [
    "### 1.5.2 Turning a control strategy into code\n",
    "\n",
    "Having a strategy for writing a robot control program that will allow a robot to follow a line using just a single sensor is one thing, but can you now turn that strategy into a working control program?"
   ]
  },
  {
   "cell_type": "markdown",
   "metadata": {
    "student": true
   },
   "source": [
    "*Add any notes here about what you need to do to turn to convert your control strategy as described in words into actual code.*"
   ]
  },
  {
   "cell_type": "markdown",
   "metadata": {
    "activity": true
   },
   "source": [
    "### 1.5.3 Challenge – An edge follower using a single sensor\n",
    "\n",
    "Building on the control strategy you developed in the previous activity, see if you can implement that strategy by writing a program to follow the edge of a line using just a single light sensor.\n",
    "\n",
    "Download your program to the simulator and test it against various lines in the *Line_Following_Test* background.\n",
    "\n",
    "What happens if you start your robot on the other edge? How would you modify your program so that the robot could follow the other edge?"
   ]
  },
  {
   "cell_type": "code",
   "execution_count": null,
   "metadata": {
    "activity": true
   },
   "outputs": [],
   "source": [
    "%%sim_magic_preloaded -b Line_Following_Test\n",
    "\n",
    "# Add your code here"
   ]
  },
  {
   "cell_type": "markdown",
   "metadata": {
    "student": true
   },
   "source": [
    "*Record a description of how well your control program worked here.*"
   ]
  },
  {
   "cell_type": "markdown",
   "metadata": {
    "activity": true
   },
   "source": [
    "Were there any lines or line features it particularly struggled with?\n",
    "\n",
    "How did it compare in terms of performance to the line followers that used two light sensors?"
   ]
  },
  {
   "cell_type": "markdown",
   "metadata": {
    "student": true
   },
   "source": [
    "*Record your observations and reflections here.*"
   ]
  },
  {
   "cell_type": "markdown",
   "metadata": {
    "activity": true
   },
   "source": [
    "What advantages and disadvantages might arise from using a single light sensor solution compared to a two-sensor solution? "
   ]
  },
  {
   "cell_type": "markdown",
   "metadata": {
    "student": true
   },
   "source": [
    "*Record your thoughts here.*"
   ]
  },
  {
   "cell_type": "markdown",
   "metadata": {
    "activity": true
   },
   "source": [
    "#### Example solution\n",
    "\n",
    "*Click the arrow in the sidebar or run this cell to reveal an example solution.*"
   ]
  },
  {
   "cell_type": "markdown",
   "metadata": {
    "activity": true
   },
   "source": [
    "One possible solution program is shown below. It uses a `while True` to infinitely loop through a code block that checks to see whether the single sensor detects white or black; if it detects white then the robot turns about one wheel back onto the line, which eases it forwards on one side; if it detects black then it turns about one wheel away from the line, again edging it slightly forwards.\n",
    "\n",
    "In this manner the robot wiggles along the line. If we use the right-hand sensor rather than left-hand sensor to detect the edge, and enable the pen trace, we see the trace follows the first line reasonably well."
   ]
  },
  {
   "cell_type": "code",
   "execution_count": null,
   "metadata": {
    "activity": true
   },
   "outputs": [],
   "source": [
    "%%sim_magic_preloaded --background Line_Following_Test -p -P red\n",
    "\n",
    "colorLeft = ColorSensor(INPUT_2)\n",
    "while True:\n",
    "    \n",
    "    intensity_left = colorLeft.reflected_light_intensity\n",
    "    \n",
    "    print(\"Left_light: \"+str(intensity_left))\n",
    "    \n",
    "    if intensity_left < 50:\n",
    "        left_motor_speed = SpeedPercent(0)\n",
    "        right_motor_speed = SpeedPercent(20)\n",
    "    else:\n",
    "        left_motor_speed = SpeedPercent(20)\n",
    "        right_motor_speed = SpeedPercent(0)\n",
    "    tank_drive.on(left_motor_speed, right_motor_speed)\n",
    " "
   ]
  },
  {
   "cell_type": "markdown",
   "metadata": {
    "activity": true
   },
   "source": [
    "In terms of the relative trade off between one or two sensors, the single-sensor approach would likely be cheaper, but the two-sensor approach is more general: the two-sensor robot can follow the line or either edge, whereas the control program for the single-sensor solution confines the robot to following a specific edge."
   ]
  },
  {
   "cell_type": "markdown",
   "metadata": {},
   "source": [
    "## Summary\n",
    "\n",
    "In this notebook, you have explored two different strategies for getting a robot to follow a line, using thought experiments to put yourself into the mind of the robot and imagine what it could see in order to help you come up with a control strategy for it.\n",
    "\n",
    "The first strategy, to create a *line follower*, used two light sensors that straddled the line and identify whether the robot was straddling the line or was starting to veer over one side or the other of it. (Strictly, we would require a third sensor in the middle of the other two to confirm we were over the line. Or just slightly reduce the gap between the left and right sensors to give a low reading corresponding to seeing just a part of the line rather than the pure white background.)\n",
    "\n",
    "The second strategy only required a single light sensor, which the robot used to follow the *edge* of a specified side of the line, turning forwards and away from the line when it detected it and forwards and towards the line when it was off it.\n",
    "\n",
    "In each case, the sensor values we used were essentially free of noise. In the next notebook, you will start to learn how noise can complicate simple control strategies and how we might start to accommodate it."
   ]
  }
 ],
 "metadata": {
  "interpreter": {
   "hash": "7162b6b5cb18033fe925274d4f20a51bce6fd91bd20b275b3266d6763e9a9306"
  },
  "jupytext": {
   "formats": "ipynb,.md//md"
  },
  "kernelspec": {
   "display_name": "Python 3.7.8 64-bit ('3.7.8': pyenv)",
   "name": "python3"
  },
  "language_info": {
   "name": "python",
   "version": ""
  }
 },
 "nbformat": 4,
 "nbformat_minor": 4
}
