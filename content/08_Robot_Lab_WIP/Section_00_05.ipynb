{
 "cells": [
  {
   "cell_type": "markdown",
   "metadata": {},
   "source": [
    "# 5 Challenges (optional)"
   ]
  },
  {
   "cell_type": "markdown",
   "metadata": {},
   "source": [
    "??tensorflow py?\n",
    "\n",
    "<div xmlns:str=\"http://exslt.org/strings\" style=\"background:lightgreen\">\n",
    "<!--Heading: \n",
    "            Study note-->\n",
    "This section is optional. You should only do the challenges here if you have plenty of time, and if you have started work on your TMA and are confident you will submit it on time. At this stage in the module, the most important thing is to complete the TMA because these optional challenges will not be assessed. You can always return to these challenges later in the module – or even after it finishes! \n",
    "</div>\n",
    "In this lab session you have learnt how a robot-agent can use a neural network running on a PC-agent. These three challenges allow you to test your understanding and your ability to put these ideas into practice (Figure 5.1). However, before you begin, we recommend you read the following notes.\n",
    "\n",
    "*Original challenges were different shapes on a track.*\n",
    "\n"
   ]
  }
 ],
 "metadata": {
  "jupytext": {
   "cell_metadata_filter": "-all",
   "formats": "ipynb,.md//md",
   "main_language": "python"
  }
 },
 "nbformat": 4,
 "nbformat_minor": 4
}
