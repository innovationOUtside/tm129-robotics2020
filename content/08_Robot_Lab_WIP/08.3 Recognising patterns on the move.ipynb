{
 "cells": [
  {
   "cell_type": "markdown",
   "metadata": {
    "lines_to_next_cell": 2
   },
   "source": [
    "# 3 Recognising patterns on the move\n",
    "\n",
    "To be really useful a robot needs to recognise things as it goes along, or ‘on the fly’. In this notebook, you will train a neural network to use a simple MLP classifier to try to identify different shapes on the background. The training samples themselves, images *and* training labels, will be captured by the robot from the simulator background.\n",
    "\n",
    "We will use the two light sensors to collect the data used to train the network:\n",
    "\n",
    "- one light sensor will capture the shape image data;\n",
    "- one light sensor will capture the training class data.\n",
    "\n",
    "To begin with we will contrive things somewhat to collect the data at specific locations on the background. But then you will explore how we can collect images as the robot moves more naturally within the environment."
   ]
  },
  {
   "cell_type": "markdown",
   "metadata": {
    "tags": [
     "alert-success"
    ]
   },
   "source": [
    "*There is quite a lot of provided code in this notebook. You are not necessarily expected to be able to create this sort of code yourself. Instead, try to focus on the process of how various tasks are broken down into smaller discrete steps, as well as how small code fragments can be combined to create \"higher level\" functions that perform ever more powerful tasks.*"
   ]
  },
  {
   "cell_type": "markdown",
   "metadata": {
    "lines_to_next_cell": 2
   },
   "source": [
    "Before continuing, ensure the simulator is loaded and available:"
   ]
  },
  {
   "cell_type": "code",
   "execution_count": 1,
   "metadata": {},
   "outputs": [
    {
     "data": {
      "text/html": [
       "<style>#notebook-container { width:50%; float:left !important;}</style>"
      ],
      "text/plain": [
       "<IPython.core.display.HTML object>"
      ]
     },
     "metadata": {},
     "output_type": "display_data"
    },
    {
     "data": {
      "application/javascript": [
       "\n",
       "$(function() {\n",
       "    $(\"#notebook-container\").resizable({\n",
       "        handles: 'e',\n",
       "        //containment: '#container',\n",
       "\n",
       "    });     \n",
       "});  \n"
      ],
      "text/plain": [
       "<IPython.core.display.Javascript object>"
      ]
     },
     "metadata": {},
     "output_type": "display_data"
    },
    {
     "data": {
      "application/vnd.jupyter.widget-view+json": {
       "model_id": "4c281cd22a4a4586b1e21b9741793270",
       "version_major": 2,
       "version_minor": 0
      },
      "text/plain": [
       "Ev3DevWidget(status='deferring flush until render')"
      ]
     },
     "metadata": {},
     "output_type": "display_data"
    }
   ],
   "source": [
    "from nbev3devsim.load_nbev3devwidget import roboSim, eds\n",
    "%load_ext nbev3devsim"
   ]
  },
  {
   "cell_type": "markdown",
   "metadata": {},
   "source": [
    "The background image *Simple_Shapes* contains several shapes arranged in a line, including a square, a circle, four equilateral triangles (arrow heads) with different orientations, a diamond and a rectangle.\n",
    "\n",
    "Just below each shape is a grey square, whose fill colour is used to distinguish between the different shapes."
   ]
  },
  {
   "cell_type": "code",
   "execution_count": 2,
   "metadata": {},
   "outputs": [],
   "source": [
    "%sim_magic -b Simple_Shapes -x 600 -y 700"
   ]
  },
  {
   "cell_type": "markdown",
   "metadata": {},
   "source": [
    "### 3.1 Evaluating the possible training data\n",
    "\n",
    "In this initial training pass, we will check whether the robot can clearly observe the potential training pairs. Each training pair consists of the actual shape image as well as a solid grey square, where the grey colour is use to represent one of eight (8) different training classes.\n",
    "\n",
    "The left light sensor will be used to sample the shape image data and the right light sensor will be used to collect the simpler grey classification group pattern.\n",
    "\n",
    "As we are going to be pulling data into the notebook Python environment from the simulator, ensure the local notebook datalog is cleared:"
   ]
  },
  {
   "cell_type": "code",
   "execution_count": 3,
   "metadata": {},
   "outputs": [],
   "source": [
    "roboSim.clear_datalog()"
   ]
  },
  {
   "cell_type": "markdown",
   "metadata": {},
   "source": [
    "The *Simple_Shapes* background we are using in this notebook contains several small regular shapes, with label encoding patterns alongside.\n",
    "\n",
    "The *x* and *y* locations for sampling the eight different images, along with a designator for each shape, as are follows:\n",
    "\n",
    "- 200 700 square\n",
    "- 380 700 circle\n",
    "- 360 700 equitri1\n",
    "- 440 700 equitri2\n",
    "- 520 700 equitri3\n",
    "- 600 700 equitri4\n",
    "- 680 700 rect\n",
    "- 760 700 diamond1"
   ]
  },
  {
   "cell_type": "markdown",
   "metadata": {},
   "source": [
    "We can now start to collect image data from the robot's light sensors. The `-R` switch runs the program once it has been downloaded to the simulator:"
   ]
  },
  {
   "cell_type": "markdown",
   "metadata": {},
   "source": [
    "If we print the message `\"image_data both\"` we can collect data from both the left and the right light sensors at the same time."
   ]
  },
  {
   "cell_type": "code",
   "execution_count": 9,
   "metadata": {},
   "outputs": [],
   "source": [
    "%%sim_magic_preloaded -b Simple_Shapes -AR -x 760 -y 700 -O\n",
    "\n",
    "#Sample the light sensor reading\n",
    "sensor_value = colorLeft.reflected_light_intensity\n",
    "\n",
    "# This is essentially a command invocation\n",
    "# not just a print statement!\n",
    "print(\"image_data both\")"
   ]
  },
  {
   "cell_type": "markdown",
   "metadata": {},
   "source": [
    "We can preview the collected image data in the usual way:"
   ]
  },
  {
   "cell_type": "code",
   "execution_count": 49,
   "metadata": {},
   "outputs": [
    {
     "data": {
      "text/html": [
       "<div>\n",
       "<style scoped>\n",
       "    .dataframe tbody tr th:only-of-type {\n",
       "        vertical-align: middle;\n",
       "    }\n",
       "\n",
       "    .dataframe tbody tr th {\n",
       "        vertical-align: top;\n",
       "    }\n",
       "\n",
       "    .dataframe thead th {\n",
       "        text-align: right;\n",
       "    }\n",
       "</style>\n",
       "<table border=\"1\" class=\"dataframe\">\n",
       "  <thead>\n",
       "    <tr style=\"text-align: right;\">\n",
       "      <th></th>\n",
       "      <th>side</th>\n",
       "      <th>vals</th>\n",
       "      <th>clock</th>\n",
       "    </tr>\n",
       "  </thead>\n",
       "  <tbody>\n",
       "    <tr>\n",
       "      <th>0</th>\n",
       "      <td>left</td>\n",
       "      <td>245,226,225,245,226,225,245,226,225,245,226,22...</td>\n",
       "      <td>1</td>\n",
       "    </tr>\n",
       "    <tr>\n",
       "      <th>1</th>\n",
       "      <td>right</td>\n",
       "      <td>245,226,225,245,226,225,245,226,225,245,226,22...</td>\n",
       "      <td>1</td>\n",
       "    </tr>\n",
       "    <tr>\n",
       "      <th>2</th>\n",
       "      <td>left</td>\n",
       "      <td>245,226,225,245,226,225,245,226,225,245,226,22...</td>\n",
       "      <td>1</td>\n",
       "    </tr>\n",
       "    <tr>\n",
       "      <th>3</th>\n",
       "      <td>right</td>\n",
       "      <td>245,226,225,245,226,225,245,226,225,245,226,22...</td>\n",
       "      <td>1</td>\n",
       "    </tr>\n",
       "    <tr>\n",
       "      <th>4</th>\n",
       "      <td>left</td>\n",
       "      <td>245,226,225,245,226,225,245,226,225,245,226,22...</td>\n",
       "      <td>1</td>\n",
       "    </tr>\n",
       "    <tr>\n",
       "      <th>5</th>\n",
       "      <td>right</td>\n",
       "      <td>245,226,225,245,226,225,245,226,225,245,226,22...</td>\n",
       "      <td>1</td>\n",
       "    </tr>\n",
       "    <tr>\n",
       "      <th>6</th>\n",
       "      <td>left</td>\n",
       "      <td>245,226,225,245,226,225,245,226,225,245,226,22...</td>\n",
       "      <td>1</td>\n",
       "    </tr>\n",
       "    <tr>\n",
       "      <th>7</th>\n",
       "      <td>right</td>\n",
       "      <td>245,226,225,245,226,225,245,226,225,245,226,22...</td>\n",
       "      <td>1</td>\n",
       "    </tr>\n",
       "    <tr>\n",
       "      <th>8</th>\n",
       "      <td>left</td>\n",
       "      <td>245,226,225,245,226,225,245,226,225,245,226,22...</td>\n",
       "      <td>1</td>\n",
       "    </tr>\n",
       "    <tr>\n",
       "      <th>9</th>\n",
       "      <td>right</td>\n",
       "      <td>245,226,225,245,226,225,245,226,225,245,226,22...</td>\n",
       "      <td>1</td>\n",
       "    </tr>\n",
       "    <tr>\n",
       "      <th>10</th>\n",
       "      <td>left</td>\n",
       "      <td>245,226,225,245,226,225,245,226,225,245,226,22...</td>\n",
       "      <td>1</td>\n",
       "    </tr>\n",
       "    <tr>\n",
       "      <th>11</th>\n",
       "      <td>right</td>\n",
       "      <td>245,226,225,245,226,225,245,226,225,245,226,22...</td>\n",
       "      <td>1</td>\n",
       "    </tr>\n",
       "    <tr>\n",
       "      <th>12</th>\n",
       "      <td>left</td>\n",
       "      <td>245,226,225,245,226,225,245,226,225,245,226,22...</td>\n",
       "      <td>1</td>\n",
       "    </tr>\n",
       "    <tr>\n",
       "      <th>13</th>\n",
       "      <td>right</td>\n",
       "      <td>245,226,225,245,226,225,245,226,225,245,226,22...</td>\n",
       "      <td>1</td>\n",
       "    </tr>\n",
       "    <tr>\n",
       "      <th>14</th>\n",
       "      <td>left</td>\n",
       "      <td>245,226,225,245,226,225,245,226,225,245,226,22...</td>\n",
       "      <td>1</td>\n",
       "    </tr>\n",
       "    <tr>\n",
       "      <th>15</th>\n",
       "      <td>right</td>\n",
       "      <td>245,226,225,245,226,225,245,226,225,245,226,22...</td>\n",
       "      <td>1</td>\n",
       "    </tr>\n",
       "    <tr>\n",
       "      <th>16</th>\n",
       "      <td>left</td>\n",
       "      <td>245,226,225,245,226,225,245,226,225,245,226,22...</td>\n",
       "      <td>1</td>\n",
       "    </tr>\n",
       "    <tr>\n",
       "      <th>17</th>\n",
       "      <td>right</td>\n",
       "      <td>245,226,225,245,226,225,245,226,225,245,226,22...</td>\n",
       "      <td>1</td>\n",
       "    </tr>\n",
       "  </tbody>\n",
       "</table>\n",
       "</div>"
      ],
      "text/plain": [
       "     side                                               vals clock\n",
       "0    left  245,226,225,245,226,225,245,226,225,245,226,22...     1\n",
       "1   right  245,226,225,245,226,225,245,226,225,245,226,22...     1\n",
       "2    left  245,226,225,245,226,225,245,226,225,245,226,22...     1\n",
       "3   right  245,226,225,245,226,225,245,226,225,245,226,22...     1\n",
       "4    left  245,226,225,245,226,225,245,226,225,245,226,22...     1\n",
       "5   right  245,226,225,245,226,225,245,226,225,245,226,22...     1\n",
       "6    left  245,226,225,245,226,225,245,226,225,245,226,22...     1\n",
       "7   right  245,226,225,245,226,225,245,226,225,245,226,22...     1\n",
       "8    left  245,226,225,245,226,225,245,226,225,245,226,22...     1\n",
       "9   right  245,226,225,245,226,225,245,226,225,245,226,22...     1\n",
       "10   left  245,226,225,245,226,225,245,226,225,245,226,22...     1\n",
       "11  right  245,226,225,245,226,225,245,226,225,245,226,22...     1\n",
       "12   left  245,226,225,245,226,225,245,226,225,245,226,22...     1\n",
       "13  right  245,226,225,245,226,225,245,226,225,245,226,22...     1\n",
       "14   left  245,226,225,245,226,225,245,226,225,245,226,22...     1\n",
       "15  right  245,226,225,245,226,225,245,226,225,245,226,22...     1\n",
       "16   left  245,226,225,245,226,225,245,226,225,245,226,22...     1\n",
       "17  right  245,226,225,245,226,225,245,226,225,245,226,22...     1"
      ]
     },
     "execution_count": 49,
     "metadata": {},
     "output_type": "execute_result"
    }
   ],
   "source": [
    "roboSim.image_data()"
   ]
  },
  {
   "cell_type": "markdown",
   "metadata": {},
   "source": [
    "We can also collect consecutive rows of data from the dataframe and decode them as left and right images:"
   ]
  },
  {
   "cell_type": "code",
   "execution_count": 14,
   "metadata": {},
   "outputs": [
    {
     "data": {
      "text/plain": [
       "(None, None)"
      ]
     },
     "execution_count": 14,
     "metadata": {},
     "output_type": "execute_result"
    },
    {
     "data": {
      "image/png": "[encoded data removed]",
      "text/plain": [
       "<Figure size 360x360 with 1 Axes>"
      ]
     },
     "metadata": {
      "needs_background": "light"
     },
     "output_type": "display_data"
    },
    {
     "data": {
      "image/png": "[encoded data removed]",
      "text/plain": [
       "<Figure size 360x360 with 1 Axes>"
      ]
     },
     "metadata": {
      "needs_background": "light"
     },
     "output_type": "display_data"
    }
   ],
   "source": [
    "from nn_tools.sensor_data import get_sensor_image_pair\n",
    "from nn_tools.sensor_data import zoom_img\n",
    "\n",
    "pair_index = -1\n",
    "\n",
    "left_img, right_img = get_sensor_image_pair(roboSim.image_data(),\n",
    "                                            pair_index)\n",
    "zoom_img(left_img), zoom_img(right_img)"
   ]
  },
  {
   "cell_type": "markdown",
   "metadata": {
    "tags": [
     "alert-warning"
    ]
   },
   "source": [
    "If you don't see a figure image displayed, check that the robot is placed over a figure by reviewing the sensor array display in the simulator. If the image is there, rerun the previous code cell to see if the data is now available. If it isn't, rerun the data collecting magic cell, wait a view seconds, and then try to view the zoomed image display."
   ]
  },
  {
   "cell_type": "markdown",
   "metadata": {},
   "source": [
    "We can run the previously downloaded program again from a simple line magic that situates the robot at a specific location and then runs the program to collect the sensor data."
   ]
  },
  {
   "cell_type": "code",
   "execution_count": 7,
   "metadata": {},
   "outputs": [],
   "source": [
    "_x = 280\n",
    "\n",
    "%sim_magic -x $_x -y 700 -RAH"
   ]
  },
  {
   "cell_type": "markdown",
   "metadata": {},
   "source": [
    "### 3.1.1 Investigating the training data samples\n",
    "\n",
    "Let's start by seeing if we can collect image data samples for each of the shapes."
   ]
  },
  {
   "cell_type": "code",
   "execution_count": 54,
   "metadata": {},
   "outputs": [
    {
     "data": {
      "application/vnd.jupyter.widget-view+json": {
       "model_id": "0aff8a0ab9ed485f8c5c2bd906d9f431",
       "version_major": 2,
       "version_minor": 0
      },
      "text/plain": [
       "HBox(children=(FloatProgress(value=0.0, max=8.0), HTML(value='')))"
      ]
     },
     "metadata": {},
     "output_type": "display_data"
    },
    {
     "name": "stdout",
     "output_type": "stream",
     "text": [
      "\n"
     ]
    }
   ],
   "source": [
    "from tqdm.notebook import trange\n",
    "from nbev3devsim.load_nbev3devwidget import tqdma\n",
    "\n",
    "import time\n",
    "\n",
    "# Clear the datalog to give us a fresh start\n",
    "roboSim.clear_datalog()\n",
    "\n",
    "# x-coordinate for centreline of first shape\n",
    "_x_init = 200\n",
    "\n",
    "# Distance between shapes\n",
    "_x_gap = 80\n",
    "\n",
    "# Number of shapes\n",
    "_n_shapes = 8\n",
    "\n",
    "# y-coordinate for centreline of shapes\n",
    "_y = 700\n",
    "\n",
    "# Load in the required background\n",
    "%sim_magic -b Simple_Shapes\n",
    "\n",
    "# Generate x coordinate for each shape in turn\n",
    "for _x in trange(_x_init, _x_init+(_n_shapes*_x_gap), _x_gap):\n",
    "    \n",
    "    # Jump to shape and run program to collect data\n",
    "    %sim_magic -x $_x -y $_y -R\n",
    "    \n",
    "    # Wait a short period to allow time for\n",
    "    # the program to run and capture the sensor data,\n",
    "    # and for the data to be passed from the simulator\n",
    "    # to the notebook Python environment\n",
    "    time.sleep(1)\n"
   ]
  },
  {
   "cell_type": "markdown",
   "metadata": {},
   "source": [
    "We should now be able to access multiple image samples via `roboSim.image_data()`, which returns a dataframe containing as many rows as images we scanned:"
   ]
  },
  {
   "cell_type": "code",
   "execution_count": 55,
   "metadata": {},
   "outputs": [
    {
     "data": {
      "text/html": [
       "<div>\n",
       "<style scoped>\n",
       "    .dataframe tbody tr th:only-of-type {\n",
       "        vertical-align: middle;\n",
       "    }\n",
       "\n",
       "    .dataframe tbody tr th {\n",
       "        vertical-align: top;\n",
       "    }\n",
       "\n",
       "    .dataframe thead th {\n",
       "        text-align: right;\n",
       "    }\n",
       "</style>\n",
       "<table border=\"1\" class=\"dataframe\">\n",
       "  <thead>\n",
       "    <tr style=\"text-align: right;\">\n",
       "      <th></th>\n",
       "      <th>side</th>\n",
       "      <th>vals</th>\n",
       "      <th>clock</th>\n",
       "    </tr>\n",
       "  </thead>\n",
       "  <tbody>\n",
       "    <tr>\n",
       "      <th>0</th>\n",
       "      <td>left</td>\n",
       "      <td>245,226,225,245,226,225,245,226,225,245,226,22...</td>\n",
       "      <td>1</td>\n",
       "    </tr>\n",
       "    <tr>\n",
       "      <th>1</th>\n",
       "      <td>right</td>\n",
       "      <td>245,226,225,245,226,225,245,226,225,245,226,22...</td>\n",
       "      <td>1</td>\n",
       "    </tr>\n",
       "    <tr>\n",
       "      <th>2</th>\n",
       "      <td>left</td>\n",
       "      <td>245,226,225,245,226,225,245,226,225,245,226,22...</td>\n",
       "      <td>1</td>\n",
       "    </tr>\n",
       "    <tr>\n",
       "      <th>3</th>\n",
       "      <td>right</td>\n",
       "      <td>245,226,225,245,226,225,245,226,225,245,226,22...</td>\n",
       "      <td>1</td>\n",
       "    </tr>\n",
       "    <tr>\n",
       "      <th>4</th>\n",
       "      <td>left</td>\n",
       "      <td>245,226,225,245,226,225,245,226,225,245,226,22...</td>\n",
       "      <td>1</td>\n",
       "    </tr>\n",
       "    <tr>\n",
       "      <th>5</th>\n",
       "      <td>right</td>\n",
       "      <td>245,226,225,245,226,225,245,226,225,245,226,22...</td>\n",
       "      <td>1</td>\n",
       "    </tr>\n",
       "    <tr>\n",
       "      <th>6</th>\n",
       "      <td>left</td>\n",
       "      <td>245,226,225,245,226,225,245,226,225,245,226,22...</td>\n",
       "      <td>1</td>\n",
       "    </tr>\n",
       "    <tr>\n",
       "      <th>7</th>\n",
       "      <td>right</td>\n",
       "      <td>245,226,225,245,226,225,245,226,225,245,226,22...</td>\n",
       "      <td>1</td>\n",
       "    </tr>\n",
       "    <tr>\n",
       "      <th>8</th>\n",
       "      <td>left</td>\n",
       "      <td>245,226,225,245,226,225,245,226,225,245,226,22...</td>\n",
       "      <td>1</td>\n",
       "    </tr>\n",
       "    <tr>\n",
       "      <th>9</th>\n",
       "      <td>right</td>\n",
       "      <td>245,226,225,245,226,225,245,226,225,245,226,22...</td>\n",
       "      <td>1</td>\n",
       "    </tr>\n",
       "    <tr>\n",
       "      <th>10</th>\n",
       "      <td>left</td>\n",
       "      <td>245,226,225,245,226,225,245,226,225,245,226,22...</td>\n",
       "      <td>2</td>\n",
       "    </tr>\n",
       "    <tr>\n",
       "      <th>11</th>\n",
       "      <td>right</td>\n",
       "      <td>245,226,225,245,226,225,245,226,225,245,226,22...</td>\n",
       "      <td>2</td>\n",
       "    </tr>\n",
       "    <tr>\n",
       "      <th>12</th>\n",
       "      <td>left</td>\n",
       "      <td>245,226,225,245,226,225,245,226,225,245,226,22...</td>\n",
       "      <td>2</td>\n",
       "    </tr>\n",
       "    <tr>\n",
       "      <th>13</th>\n",
       "      <td>right</td>\n",
       "      <td>245,226,225,245,226,225,245,226,225,245,226,22...</td>\n",
       "      <td>2</td>\n",
       "    </tr>\n",
       "    <tr>\n",
       "      <th>14</th>\n",
       "      <td>left</td>\n",
       "      <td>245,226,225,245,226,225,245,226,225,245,226,22...</td>\n",
       "      <td>1</td>\n",
       "    </tr>\n",
       "    <tr>\n",
       "      <th>15</th>\n",
       "      <td>right</td>\n",
       "      <td>245,226,225,245,226,225,245,226,225,245,226,22...</td>\n",
       "      <td>1</td>\n",
       "    </tr>\n",
       "  </tbody>\n",
       "</table>\n",
       "</div>"
      ],
      "text/plain": [
       "     side                                               vals clock\n",
       "0    left  245,226,225,245,226,225,245,226,225,245,226,22...     1\n",
       "1   right  245,226,225,245,226,225,245,226,225,245,226,22...     1\n",
       "2    left  245,226,225,245,226,225,245,226,225,245,226,22...     1\n",
       "3   right  245,226,225,245,226,225,245,226,225,245,226,22...     1\n",
       "4    left  245,226,225,245,226,225,245,226,225,245,226,22...     1\n",
       "5   right  245,226,225,245,226,225,245,226,225,245,226,22...     1\n",
       "6    left  245,226,225,245,226,225,245,226,225,245,226,22...     1\n",
       "7   right  245,226,225,245,226,225,245,226,225,245,226,22...     1\n",
       "8    left  245,226,225,245,226,225,245,226,225,245,226,22...     1\n",
       "9   right  245,226,225,245,226,225,245,226,225,245,226,22...     1\n",
       "10   left  245,226,225,245,226,225,245,226,225,245,226,22...     2\n",
       "11  right  245,226,225,245,226,225,245,226,225,245,226,22...     2\n",
       "12   left  245,226,225,245,226,225,245,226,225,245,226,22...     2\n",
       "13  right  245,226,225,245,226,225,245,226,225,245,226,22...     2\n",
       "14   left  245,226,225,245,226,225,245,226,225,245,226,22...     1\n",
       "15  right  245,226,225,245,226,225,245,226,225,245,226,22...     1"
      ]
     },
     "execution_count": 55,
     "metadata": {},
     "output_type": "execute_result"
    }
   ],
   "source": [
    "image_data_df = roboSim.image_data()\n",
    "image_data_df"
   ]
  },
  {
   "cell_type": "markdown",
   "metadata": {},
   "source": [
    "The original sensor data is collected as three channel RGB data. By default, the `get_sensor_image_pair()` function, which extracts a pair of consecutive images from the datalog, converts these to greyscale images:"
   ]
  },
  {
   "cell_type": "code",
   "execution_count": 56,
   "metadata": {},
   "outputs": [
    {
     "data": {
      "text/plain": [
       "(None, None)"
      ]
     },
     "execution_count": 56,
     "metadata": {},
     "output_type": "execute_result"
    },
    {
     "data": {
      "image/png": "[encoded data removed]",
      "text/plain": [
       "<Figure size 360x360 with 1 Axes>"
      ]
     },
     "metadata": {
      "needs_background": "light"
     },
     "output_type": "display_data"
    },
    {
     "data": {
      "image/png": "[encoded data removed]",
      "text/plain": [
       "<Figure size 360x360 with 1 Axes>"
      ]
     },
     "metadata": {
      "needs_background": "light"
     },
     "output_type": "display_data"
    }
   ],
   "source": [
    "from nn_tools.sensor_data import get_sensor_image_pair\n",
    "\n",
    "pair_index = -1\n",
    "\n",
    "left_img, right_img = get_sensor_image_pair(roboSim.image_data(),\n",
    "                                            pair_index)\n",
    "\n",
    "zoom_img(left_img), zoom_img(right_img)"
   ]
  },
  {
   "cell_type": "markdown",
   "metadata": {},
   "source": [
    "We can also filter the dataframe to give us a dataframe containing just the data grabbed from the left hand image sensor:"
   ]
  },
  {
   "cell_type": "code",
   "execution_count": 57,
   "metadata": {},
   "outputs": [
    {
     "data": {
      "text/html": [
       "<div>\n",
       "<style scoped>\n",
       "    .dataframe tbody tr th:only-of-type {\n",
       "        vertical-align: middle;\n",
       "    }\n",
       "\n",
       "    .dataframe tbody tr th {\n",
       "        vertical-align: top;\n",
       "    }\n",
       "\n",
       "    .dataframe thead th {\n",
       "        text-align: right;\n",
       "    }\n",
       "</style>\n",
       "<table border=\"1\" class=\"dataframe\">\n",
       "  <thead>\n",
       "    <tr style=\"text-align: right;\">\n",
       "      <th></th>\n",
       "      <th>side</th>\n",
       "      <th>vals</th>\n",
       "      <th>clock</th>\n",
       "    </tr>\n",
       "  </thead>\n",
       "  <tbody>\n",
       "    <tr>\n",
       "      <th>0</th>\n",
       "      <td>left</td>\n",
       "      <td>245,226,225,245,226,225,245,226,225,245,226,22...</td>\n",
       "      <td>1</td>\n",
       "    </tr>\n",
       "    <tr>\n",
       "      <th>2</th>\n",
       "      <td>left</td>\n",
       "      <td>245,226,225,245,226,225,245,226,225,245,226,22...</td>\n",
       "      <td>1</td>\n",
       "    </tr>\n",
       "    <tr>\n",
       "      <th>4</th>\n",
       "      <td>left</td>\n",
       "      <td>245,226,225,245,226,225,245,226,225,245,226,22...</td>\n",
       "      <td>1</td>\n",
       "    </tr>\n",
       "    <tr>\n",
       "      <th>6</th>\n",
       "      <td>left</td>\n",
       "      <td>245,226,225,245,226,225,245,226,225,245,226,22...</td>\n",
       "      <td>1</td>\n",
       "    </tr>\n",
       "    <tr>\n",
       "      <th>8</th>\n",
       "      <td>left</td>\n",
       "      <td>245,226,225,245,226,225,245,226,225,245,226,22...</td>\n",
       "      <td>1</td>\n",
       "    </tr>\n",
       "    <tr>\n",
       "      <th>10</th>\n",
       "      <td>left</td>\n",
       "      <td>245,226,225,245,226,225,245,226,225,245,226,22...</td>\n",
       "      <td>2</td>\n",
       "    </tr>\n",
       "    <tr>\n",
       "      <th>12</th>\n",
       "      <td>left</td>\n",
       "      <td>245,226,225,245,226,225,245,226,225,245,226,22...</td>\n",
       "      <td>2</td>\n",
       "    </tr>\n",
       "    <tr>\n",
       "      <th>14</th>\n",
       "      <td>left</td>\n",
       "      <td>245,226,225,245,226,225,245,226,225,245,226,22...</td>\n",
       "      <td>1</td>\n",
       "    </tr>\n",
       "  </tbody>\n",
       "</table>\n",
       "</div>"
      ],
      "text/plain": [
       "    side                                               vals clock\n",
       "0   left  245,226,225,245,226,225,245,226,225,245,226,22...     1\n",
       "2   left  245,226,225,245,226,225,245,226,225,245,226,22...     1\n",
       "4   left  245,226,225,245,226,225,245,226,225,245,226,22...     1\n",
       "6   left  245,226,225,245,226,225,245,226,225,245,226,22...     1\n",
       "8   left  245,226,225,245,226,225,245,226,225,245,226,22...     1\n",
       "10  left  245,226,225,245,226,225,245,226,225,245,226,22...     2\n",
       "12  left  245,226,225,245,226,225,245,226,225,245,226,22...     2\n",
       "14  left  245,226,225,245,226,225,245,226,225,245,226,22...     1"
      ]
     },
     "execution_count": 57,
     "metadata": {},
     "output_type": "execute_result"
    }
   ],
   "source": [
    "_df = roboSim.image_data()\n",
    "\n",
    "# The mechanics behind how this line of code\n",
    "# works are beyond the scope of this module.\n",
    "# In short, we identify the rows where the\n",
    "# \"side\" column value is equal to \"left\"\n",
    "# and select just those rows.\n",
    "left_images_df = _df[_df['side']=='left']\n",
    "left_images_df"
   ]
  },
  {
   "cell_type": "markdown",
   "metadata": {
    "activity": true
   },
   "source": [
    "### 3.1.2 Activity — Using bounding box sizes as a feature for distinguishing between shapes\n",
    "\n",
    "When we trained a neural network to recognise shape data, we use the dimensions of a bounding box drawn around the fruit as the input features to our network.\n",
    "\n",
    "Will the bounding box approach used there also allow us to distinguish between the shape images?\n",
    "\n",
    "Run the following code cell to convert the raw data associated with an image to a data frame, and then prune the rows and columns the edges that only contain white space.\n",
    "\n",
    "The dimensions of the dataframe, which is to say, the `.shape` of the dataframe, given as the 2-tuple `(rows, columns)`, corresponds to the bounding box of the shape. "
   ]
  },
  {
   "cell_type": "code",
   "execution_count": 58,
   "metadata": {
    "activity": true
   },
   "outputs": [
    {
     "data": {
      "text/html": [
       "<style  type=\"text/css\" >\n",
       "    #T_2fb649ec_0f1f_11eb_b358_0242ac110002row0_col0 {\n",
       "            background:  white;\n",
       "            color: black;\n",
       "        }    #T_2fb649ec_0f1f_11eb_b358_0242ac110002row0_col1 {\n",
       "            background:  white;\n",
       "            color: black;\n",
       "        }    #T_2fb649ec_0f1f_11eb_b358_0242ac110002row0_col2 {\n",
       "            background:  white;\n",
       "            color: black;\n",
       "        }    #T_2fb649ec_0f1f_11eb_b358_0242ac110002row0_col3 {\n",
       "            background:  white;\n",
       "            color: black;\n",
       "        }    #T_2fb649ec_0f1f_11eb_b358_0242ac110002row0_col4 {\n",
       "            background:  black;\n",
       "             color: white;\n",
       "        }    #T_2fb649ec_0f1f_11eb_b358_0242ac110002row0_col5 {\n",
       "            background:  white;\n",
       "            color: black;\n",
       "        }    #T_2fb649ec_0f1f_11eb_b358_0242ac110002row0_col6 {\n",
       "            background:  white;\n",
       "            color: black;\n",
       "        }    #T_2fb649ec_0f1f_11eb_b358_0242ac110002row0_col7 {\n",
       "            background:  white;\n",
       "            color: black;\n",
       "        }    #T_2fb649ec_0f1f_11eb_b358_0242ac110002row0_col8 {\n",
       "            background:  white;\n",
       "            color: black;\n",
       "        }    #T_2fb649ec_0f1f_11eb_b358_0242ac110002row1_col0 {\n",
       "            background:  white;\n",
       "            color: black;\n",
       "        }    #T_2fb649ec_0f1f_11eb_b358_0242ac110002row1_col1 {\n",
       "            background:  white;\n",
       "            color: black;\n",
       "        }    #T_2fb649ec_0f1f_11eb_b358_0242ac110002row1_col2 {\n",
       "            background:  white;\n",
       "            color: black;\n",
       "        }    #T_2fb649ec_0f1f_11eb_b358_0242ac110002row1_col3 {\n",
       "            background:  black;\n",
       "             color: white;\n",
       "        }    #T_2fb649ec_0f1f_11eb_b358_0242ac110002row1_col4 {\n",
       "            background:  black;\n",
       "             color: white;\n",
       "        }    #T_2fb649ec_0f1f_11eb_b358_0242ac110002row1_col5 {\n",
       "            background:  black;\n",
       "             color: white;\n",
       "        }    #T_2fb649ec_0f1f_11eb_b358_0242ac110002row1_col6 {\n",
       "            background:  white;\n",
       "            color: black;\n",
       "        }    #T_2fb649ec_0f1f_11eb_b358_0242ac110002row1_col7 {\n",
       "            background:  white;\n",
       "            color: black;\n",
       "        }    #T_2fb649ec_0f1f_11eb_b358_0242ac110002row1_col8 {\n",
       "            background:  white;\n",
       "            color: black;\n",
       "        }    #T_2fb649ec_0f1f_11eb_b358_0242ac110002row2_col0 {\n",
       "            background:  white;\n",
       "            color: black;\n",
       "        }    #T_2fb649ec_0f1f_11eb_b358_0242ac110002row2_col1 {\n",
       "            background:  white;\n",
       "            color: black;\n",
       "        }    #T_2fb649ec_0f1f_11eb_b358_0242ac110002row2_col2 {\n",
       "            background:  black;\n",
       "             color: white;\n",
       "        }    #T_2fb649ec_0f1f_11eb_b358_0242ac110002row2_col3 {\n",
       "            background:  black;\n",
       "             color: white;\n",
       "        }    #T_2fb649ec_0f1f_11eb_b358_0242ac110002row2_col4 {\n",
       "            background:  black;\n",
       "             color: white;\n",
       "        }    #T_2fb649ec_0f1f_11eb_b358_0242ac110002row2_col5 {\n",
       "            background:  black;\n",
       "             color: white;\n",
       "        }    #T_2fb649ec_0f1f_11eb_b358_0242ac110002row2_col6 {\n",
       "            background:  black;\n",
       "             color: white;\n",
       "        }    #T_2fb649ec_0f1f_11eb_b358_0242ac110002row2_col7 {\n",
       "            background:  white;\n",
       "            color: black;\n",
       "        }    #T_2fb649ec_0f1f_11eb_b358_0242ac110002row2_col8 {\n",
       "            background:  white;\n",
       "            color: black;\n",
       "        }    #T_2fb649ec_0f1f_11eb_b358_0242ac110002row3_col0 {\n",
       "            background:  white;\n",
       "            color: black;\n",
       "        }    #T_2fb649ec_0f1f_11eb_b358_0242ac110002row3_col1 {\n",
       "            background:  white;\n",
       "            color: black;\n",
       "        }    #T_2fb649ec_0f1f_11eb_b358_0242ac110002row3_col2 {\n",
       "            background:  black;\n",
       "             color: white;\n",
       "        }    #T_2fb649ec_0f1f_11eb_b358_0242ac110002row3_col3 {\n",
       "            background:  black;\n",
       "             color: white;\n",
       "        }    #T_2fb649ec_0f1f_11eb_b358_0242ac110002row3_col4 {\n",
       "            background:  black;\n",
       "             color: white;\n",
       "        }    #T_2fb649ec_0f1f_11eb_b358_0242ac110002row3_col5 {\n",
       "            background:  black;\n",
       "             color: white;\n",
       "        }    #T_2fb649ec_0f1f_11eb_b358_0242ac110002row3_col6 {\n",
       "            background:  black;\n",
       "             color: white;\n",
       "        }    #T_2fb649ec_0f1f_11eb_b358_0242ac110002row3_col7 {\n",
       "            background:  white;\n",
       "            color: black;\n",
       "        }    #T_2fb649ec_0f1f_11eb_b358_0242ac110002row3_col8 {\n",
       "            background:  white;\n",
       "            color: black;\n",
       "        }    #T_2fb649ec_0f1f_11eb_b358_0242ac110002row4_col0 {\n",
       "            background:  white;\n",
       "            color: black;\n",
       "        }    #T_2fb649ec_0f1f_11eb_b358_0242ac110002row4_col1 {\n",
       "            background:  black;\n",
       "             color: white;\n",
       "        }    #T_2fb649ec_0f1f_11eb_b358_0242ac110002row4_col2 {\n",
       "            background:  black;\n",
       "             color: white;\n",
       "        }    #T_2fb649ec_0f1f_11eb_b358_0242ac110002row4_col3 {\n",
       "            background:  black;\n",
       "             color: white;\n",
       "        }    #T_2fb649ec_0f1f_11eb_b358_0242ac110002row4_col4 {\n",
       "            background:  black;\n",
       "             color: white;\n",
       "        }    #T_2fb649ec_0f1f_11eb_b358_0242ac110002row4_col5 {\n",
       "            background:  black;\n",
       "             color: white;\n",
       "        }    #T_2fb649ec_0f1f_11eb_b358_0242ac110002row4_col6 {\n",
       "            background:  black;\n",
       "             color: white;\n",
       "        }    #T_2fb649ec_0f1f_11eb_b358_0242ac110002row4_col7 {\n",
       "            background:  black;\n",
       "             color: white;\n",
       "        }    #T_2fb649ec_0f1f_11eb_b358_0242ac110002row4_col8 {\n",
       "            background:  white;\n",
       "            color: black;\n",
       "        }    #T_2fb649ec_0f1f_11eb_b358_0242ac110002row5_col0 {\n",
       "            background:  black;\n",
       "             color: white;\n",
       "        }    #T_2fb649ec_0f1f_11eb_b358_0242ac110002row5_col1 {\n",
       "            background:  black;\n",
       "             color: white;\n",
       "        }    #T_2fb649ec_0f1f_11eb_b358_0242ac110002row5_col2 {\n",
       "            background:  black;\n",
       "             color: white;\n",
       "        }    #T_2fb649ec_0f1f_11eb_b358_0242ac110002row5_col3 {\n",
       "            background:  black;\n",
       "             color: white;\n",
       "        }    #T_2fb649ec_0f1f_11eb_b358_0242ac110002row5_col4 {\n",
       "            background:  black;\n",
       "             color: white;\n",
       "        }    #T_2fb649ec_0f1f_11eb_b358_0242ac110002row5_col5 {\n",
       "            background:  black;\n",
       "             color: white;\n",
       "        }    #T_2fb649ec_0f1f_11eb_b358_0242ac110002row5_col6 {\n",
       "            background:  black;\n",
       "             color: white;\n",
       "        }    #T_2fb649ec_0f1f_11eb_b358_0242ac110002row5_col7 {\n",
       "            background:  black;\n",
       "             color: white;\n",
       "        }    #T_2fb649ec_0f1f_11eb_b358_0242ac110002row5_col8 {\n",
       "            background:  black;\n",
       "             color: white;\n",
       "        }    #T_2fb649ec_0f1f_11eb_b358_0242ac110002row6_col0 {\n",
       "            background:  white;\n",
       "            color: black;\n",
       "        }    #T_2fb649ec_0f1f_11eb_b358_0242ac110002row6_col1 {\n",
       "            background:  black;\n",
       "             color: white;\n",
       "        }    #T_2fb649ec_0f1f_11eb_b358_0242ac110002row6_col2 {\n",
       "            background:  black;\n",
       "             color: white;\n",
       "        }    #T_2fb649ec_0f1f_11eb_b358_0242ac110002row6_col3 {\n",
       "            background:  black;\n",
       "             color: white;\n",
       "        }    #T_2fb649ec_0f1f_11eb_b358_0242ac110002row6_col4 {\n",
       "            background:  black;\n",
       "             color: white;\n",
       "        }    #T_2fb649ec_0f1f_11eb_b358_0242ac110002row6_col5 {\n",
       "            background:  black;\n",
       "             color: white;\n",
       "        }    #T_2fb649ec_0f1f_11eb_b358_0242ac110002row6_col6 {\n",
       "            background:  black;\n",
       "             color: white;\n",
       "        }    #T_2fb649ec_0f1f_11eb_b358_0242ac110002row6_col7 {\n",
       "            background:  black;\n",
       "             color: white;\n",
       "        }    #T_2fb649ec_0f1f_11eb_b358_0242ac110002row6_col8 {\n",
       "            background:  white;\n",
       "            color: black;\n",
       "        }    #T_2fb649ec_0f1f_11eb_b358_0242ac110002row7_col0 {\n",
       "            background:  white;\n",
       "            color: black;\n",
       "        }    #T_2fb649ec_0f1f_11eb_b358_0242ac110002row7_col1 {\n",
       "            background:  white;\n",
       "            color: black;\n",
       "        }    #T_2fb649ec_0f1f_11eb_b358_0242ac110002row7_col2 {\n",
       "            background:  black;\n",
       "             color: white;\n",
       "        }    #T_2fb649ec_0f1f_11eb_b358_0242ac110002row7_col3 {\n",
       "            background:  black;\n",
       "             color: white;\n",
       "        }    #T_2fb649ec_0f1f_11eb_b358_0242ac110002row7_col4 {\n",
       "            background:  black;\n",
       "             color: white;\n",
       "        }    #T_2fb649ec_0f1f_11eb_b358_0242ac110002row7_col5 {\n",
       "            background:  black;\n",
       "             color: white;\n",
       "        }    #T_2fb649ec_0f1f_11eb_b358_0242ac110002row7_col6 {\n",
       "            background:  black;\n",
       "             color: white;\n",
       "        }    #T_2fb649ec_0f1f_11eb_b358_0242ac110002row7_col7 {\n",
       "            background:  white;\n",
       "            color: black;\n",
       "        }    #T_2fb649ec_0f1f_11eb_b358_0242ac110002row7_col8 {\n",
       "            background:  white;\n",
       "            color: black;\n",
       "        }    #T_2fb649ec_0f1f_11eb_b358_0242ac110002row8_col0 {\n",
       "            background:  white;\n",
       "            color: black;\n",
       "        }    #T_2fb649ec_0f1f_11eb_b358_0242ac110002row8_col1 {\n",
       "            background:  white;\n",
       "            color: black;\n",
       "        }    #T_2fb649ec_0f1f_11eb_b358_0242ac110002row8_col2 {\n",
       "            background:  black;\n",
       "             color: white;\n",
       "        }    #T_2fb649ec_0f1f_11eb_b358_0242ac110002row8_col3 {\n",
       "            background:  black;\n",
       "             color: white;\n",
       "        }    #T_2fb649ec_0f1f_11eb_b358_0242ac110002row8_col4 {\n",
       "            background:  black;\n",
       "             color: white;\n",
       "        }    #T_2fb649ec_0f1f_11eb_b358_0242ac110002row8_col5 {\n",
       "            background:  black;\n",
       "             color: white;\n",
       "        }    #T_2fb649ec_0f1f_11eb_b358_0242ac110002row8_col6 {\n",
       "            background:  black;\n",
       "             color: white;\n",
       "        }    #T_2fb649ec_0f1f_11eb_b358_0242ac110002row8_col7 {\n",
       "            background:  white;\n",
       "            color: black;\n",
       "        }    #T_2fb649ec_0f1f_11eb_b358_0242ac110002row8_col8 {\n",
       "            background:  white;\n",
       "            color: black;\n",
       "        }    #T_2fb649ec_0f1f_11eb_b358_0242ac110002row9_col0 {\n",
       "            background:  white;\n",
       "            color: black;\n",
       "        }    #T_2fb649ec_0f1f_11eb_b358_0242ac110002row9_col1 {\n",
       "            background:  white;\n",
       "            color: black;\n",
       "        }    #T_2fb649ec_0f1f_11eb_b358_0242ac110002row9_col2 {\n",
       "            background:  white;\n",
       "            color: black;\n",
       "        }    #T_2fb649ec_0f1f_11eb_b358_0242ac110002row9_col3 {\n",
       "            background:  black;\n",
       "             color: white;\n",
       "        }    #T_2fb649ec_0f1f_11eb_b358_0242ac110002row9_col4 {\n",
       "            background:  black;\n",
       "             color: white;\n",
       "        }    #T_2fb649ec_0f1f_11eb_b358_0242ac110002row9_col5 {\n",
       "            background:  black;\n",
       "             color: white;\n",
       "        }    #T_2fb649ec_0f1f_11eb_b358_0242ac110002row9_col6 {\n",
       "            background:  white;\n",
       "            color: black;\n",
       "        }    #T_2fb649ec_0f1f_11eb_b358_0242ac110002row9_col7 {\n",
       "            background:  white;\n",
       "            color: black;\n",
       "        }    #T_2fb649ec_0f1f_11eb_b358_0242ac110002row9_col8 {\n",
       "            background:  white;\n",
       "            color: black;\n",
       "        }    #T_2fb649ec_0f1f_11eb_b358_0242ac110002row10_col0 {\n",
       "            background:  white;\n",
       "            color: black;\n",
       "        }    #T_2fb649ec_0f1f_11eb_b358_0242ac110002row10_col1 {\n",
       "            background:  white;\n",
       "            color: black;\n",
       "        }    #T_2fb649ec_0f1f_11eb_b358_0242ac110002row10_col2 {\n",
       "            background:  white;\n",
       "            color: black;\n",
       "        }    #T_2fb649ec_0f1f_11eb_b358_0242ac110002row10_col3 {\n",
       "            background:  white;\n",
       "            color: black;\n",
       "        }    #T_2fb649ec_0f1f_11eb_b358_0242ac110002row10_col4 {\n",
       "            background:  black;\n",
       "             color: white;\n",
       "        }    #T_2fb649ec_0f1f_11eb_b358_0242ac110002row10_col5 {\n",
       "            background:  white;\n",
       "            color: black;\n",
       "        }    #T_2fb649ec_0f1f_11eb_b358_0242ac110002row10_col6 {\n",
       "            background:  white;\n",
       "            color: black;\n",
       "        }    #T_2fb649ec_0f1f_11eb_b358_0242ac110002row10_col7 {\n",
       "            background:  white;\n",
       "            color: black;\n",
       "        }    #T_2fb649ec_0f1f_11eb_b358_0242ac110002row10_col8 {\n",
       "            background:  white;\n",
       "            color: black;\n",
       "        }</style><table id=\"T_2fb649ec_0f1f_11eb_b358_0242ac110002\" ><thead>    <tr>        <th class=\"blank level0\" ></th>        <th class=\"col_heading level0 col0\" >0</th>        <th class=\"col_heading level0 col1\" >1</th>        <th class=\"col_heading level0 col2\" >2</th>        <th class=\"col_heading level0 col3\" >3</th>        <th class=\"col_heading level0 col4\" >4</th>        <th class=\"col_heading level0 col5\" >5</th>        <th class=\"col_heading level0 col6\" >6</th>        <th class=\"col_heading level0 col7\" >7</th>        <th class=\"col_heading level0 col8\" >8</th>    </tr></thead><tbody>\n",
       "                <tr>\n",
       "                        <th id=\"T_2fb649ec_0f1f_11eb_b358_0242ac110002level0_row0\" class=\"row_heading level0 row0\" >0</th>\n",
       "                        <td id=\"T_2fb649ec_0f1f_11eb_b358_0242ac110002row0_col0\" class=\"data row0 col0\" >255</td>\n",
       "                        <td id=\"T_2fb649ec_0f1f_11eb_b358_0242ac110002row0_col1\" class=\"data row0 col1\" >255</td>\n",
       "                        <td id=\"T_2fb649ec_0f1f_11eb_b358_0242ac110002row0_col2\" class=\"data row0 col2\" >255</td>\n",
       "                        <td id=\"T_2fb649ec_0f1f_11eb_b358_0242ac110002row0_col3\" class=\"data row0 col3\" >255</td>\n",
       "                        <td id=\"T_2fb649ec_0f1f_11eb_b358_0242ac110002row0_col4\" class=\"data row0 col4\" >0</td>\n",
       "                        <td id=\"T_2fb649ec_0f1f_11eb_b358_0242ac110002row0_col5\" class=\"data row0 col5\" >255</td>\n",
       "                        <td id=\"T_2fb649ec_0f1f_11eb_b358_0242ac110002row0_col6\" class=\"data row0 col6\" >255</td>\n",
       "                        <td id=\"T_2fb649ec_0f1f_11eb_b358_0242ac110002row0_col7\" class=\"data row0 col7\" >255</td>\n",
       "                        <td id=\"T_2fb649ec_0f1f_11eb_b358_0242ac110002row0_col8\" class=\"data row0 col8\" >255</td>\n",
       "            </tr>\n",
       "            <tr>\n",
       "                        <th id=\"T_2fb649ec_0f1f_11eb_b358_0242ac110002level0_row1\" class=\"row_heading level0 row1\" >1</th>\n",
       "                        <td id=\"T_2fb649ec_0f1f_11eb_b358_0242ac110002row1_col0\" class=\"data row1 col0\" >255</td>\n",
       "                        <td id=\"T_2fb649ec_0f1f_11eb_b358_0242ac110002row1_col1\" class=\"data row1 col1\" >255</td>\n",
       "                        <td id=\"T_2fb649ec_0f1f_11eb_b358_0242ac110002row1_col2\" class=\"data row1 col2\" >255</td>\n",
       "                        <td id=\"T_2fb649ec_0f1f_11eb_b358_0242ac110002row1_col3\" class=\"data row1 col3\" >0</td>\n",
       "                        <td id=\"T_2fb649ec_0f1f_11eb_b358_0242ac110002row1_col4\" class=\"data row1 col4\" >0</td>\n",
       "                        <td id=\"T_2fb649ec_0f1f_11eb_b358_0242ac110002row1_col5\" class=\"data row1 col5\" >0</td>\n",
       "                        <td id=\"T_2fb649ec_0f1f_11eb_b358_0242ac110002row1_col6\" class=\"data row1 col6\" >255</td>\n",
       "                        <td id=\"T_2fb649ec_0f1f_11eb_b358_0242ac110002row1_col7\" class=\"data row1 col7\" >255</td>\n",
       "                        <td id=\"T_2fb649ec_0f1f_11eb_b358_0242ac110002row1_col8\" class=\"data row1 col8\" >255</td>\n",
       "            </tr>\n",
       "            <tr>\n",
       "                        <th id=\"T_2fb649ec_0f1f_11eb_b358_0242ac110002level0_row2\" class=\"row_heading level0 row2\" >2</th>\n",
       "                        <td id=\"T_2fb649ec_0f1f_11eb_b358_0242ac110002row2_col0\" class=\"data row2 col0\" >255</td>\n",
       "                        <td id=\"T_2fb649ec_0f1f_11eb_b358_0242ac110002row2_col1\" class=\"data row2 col1\" >255</td>\n",
       "                        <td id=\"T_2fb649ec_0f1f_11eb_b358_0242ac110002row2_col2\" class=\"data row2 col2\" >0</td>\n",
       "                        <td id=\"T_2fb649ec_0f1f_11eb_b358_0242ac110002row2_col3\" class=\"data row2 col3\" >0</td>\n",
       "                        <td id=\"T_2fb649ec_0f1f_11eb_b358_0242ac110002row2_col4\" class=\"data row2 col4\" >0</td>\n",
       "                        <td id=\"T_2fb649ec_0f1f_11eb_b358_0242ac110002row2_col5\" class=\"data row2 col5\" >0</td>\n",
       "                        <td id=\"T_2fb649ec_0f1f_11eb_b358_0242ac110002row2_col6\" class=\"data row2 col6\" >0</td>\n",
       "                        <td id=\"T_2fb649ec_0f1f_11eb_b358_0242ac110002row2_col7\" class=\"data row2 col7\" >255</td>\n",
       "                        <td id=\"T_2fb649ec_0f1f_11eb_b358_0242ac110002row2_col8\" class=\"data row2 col8\" >255</td>\n",
       "            </tr>\n",
       "            <tr>\n",
       "                        <th id=\"T_2fb649ec_0f1f_11eb_b358_0242ac110002level0_row3\" class=\"row_heading level0 row3\" >3</th>\n",
       "                        <td id=\"T_2fb649ec_0f1f_11eb_b358_0242ac110002row3_col0\" class=\"data row3 col0\" >255</td>\n",
       "                        <td id=\"T_2fb649ec_0f1f_11eb_b358_0242ac110002row3_col1\" class=\"data row3 col1\" >255</td>\n",
       "                        <td id=\"T_2fb649ec_0f1f_11eb_b358_0242ac110002row3_col2\" class=\"data row3 col2\" >0</td>\n",
       "                        <td id=\"T_2fb649ec_0f1f_11eb_b358_0242ac110002row3_col3\" class=\"data row3 col3\" >0</td>\n",
       "                        <td id=\"T_2fb649ec_0f1f_11eb_b358_0242ac110002row3_col4\" class=\"data row3 col4\" >0</td>\n",
       "                        <td id=\"T_2fb649ec_0f1f_11eb_b358_0242ac110002row3_col5\" class=\"data row3 col5\" >0</td>\n",
       "                        <td id=\"T_2fb649ec_0f1f_11eb_b358_0242ac110002row3_col6\" class=\"data row3 col6\" >0</td>\n",
       "                        <td id=\"T_2fb649ec_0f1f_11eb_b358_0242ac110002row3_col7\" class=\"data row3 col7\" >255</td>\n",
       "                        <td id=\"T_2fb649ec_0f1f_11eb_b358_0242ac110002row3_col8\" class=\"data row3 col8\" >255</td>\n",
       "            </tr>\n",
       "            <tr>\n",
       "                        <th id=\"T_2fb649ec_0f1f_11eb_b358_0242ac110002level0_row4\" class=\"row_heading level0 row4\" >4</th>\n",
       "                        <td id=\"T_2fb649ec_0f1f_11eb_b358_0242ac110002row4_col0\" class=\"data row4 col0\" >255</td>\n",
       "                        <td id=\"T_2fb649ec_0f1f_11eb_b358_0242ac110002row4_col1\" class=\"data row4 col1\" >0</td>\n",
       "                        <td id=\"T_2fb649ec_0f1f_11eb_b358_0242ac110002row4_col2\" class=\"data row4 col2\" >0</td>\n",
       "                        <td id=\"T_2fb649ec_0f1f_11eb_b358_0242ac110002row4_col3\" class=\"data row4 col3\" >0</td>\n",
       "                        <td id=\"T_2fb649ec_0f1f_11eb_b358_0242ac110002row4_col4\" class=\"data row4 col4\" >0</td>\n",
       "                        <td id=\"T_2fb649ec_0f1f_11eb_b358_0242ac110002row4_col5\" class=\"data row4 col5\" >0</td>\n",
       "                        <td id=\"T_2fb649ec_0f1f_11eb_b358_0242ac110002row4_col6\" class=\"data row4 col6\" >0</td>\n",
       "                        <td id=\"T_2fb649ec_0f1f_11eb_b358_0242ac110002row4_col7\" class=\"data row4 col7\" >0</td>\n",
       "                        <td id=\"T_2fb649ec_0f1f_11eb_b358_0242ac110002row4_col8\" class=\"data row4 col8\" >255</td>\n",
       "            </tr>\n",
       "            <tr>\n",
       "                        <th id=\"T_2fb649ec_0f1f_11eb_b358_0242ac110002level0_row5\" class=\"row_heading level0 row5\" >5</th>\n",
       "                        <td id=\"T_2fb649ec_0f1f_11eb_b358_0242ac110002row5_col0\" class=\"data row5 col0\" >0</td>\n",
       "                        <td id=\"T_2fb649ec_0f1f_11eb_b358_0242ac110002row5_col1\" class=\"data row5 col1\" >0</td>\n",
       "                        <td id=\"T_2fb649ec_0f1f_11eb_b358_0242ac110002row5_col2\" class=\"data row5 col2\" >0</td>\n",
       "                        <td id=\"T_2fb649ec_0f1f_11eb_b358_0242ac110002row5_col3\" class=\"data row5 col3\" >0</td>\n",
       "                        <td id=\"T_2fb649ec_0f1f_11eb_b358_0242ac110002row5_col4\" class=\"data row5 col4\" >0</td>\n",
       "                        <td id=\"T_2fb649ec_0f1f_11eb_b358_0242ac110002row5_col5\" class=\"data row5 col5\" >0</td>\n",
       "                        <td id=\"T_2fb649ec_0f1f_11eb_b358_0242ac110002row5_col6\" class=\"data row5 col6\" >0</td>\n",
       "                        <td id=\"T_2fb649ec_0f1f_11eb_b358_0242ac110002row5_col7\" class=\"data row5 col7\" >0</td>\n",
       "                        <td id=\"T_2fb649ec_0f1f_11eb_b358_0242ac110002row5_col8\" class=\"data row5 col8\" >0</td>\n",
       "            </tr>\n",
       "            <tr>\n",
       "                        <th id=\"T_2fb649ec_0f1f_11eb_b358_0242ac110002level0_row6\" class=\"row_heading level0 row6\" >6</th>\n",
       "                        <td id=\"T_2fb649ec_0f1f_11eb_b358_0242ac110002row6_col0\" class=\"data row6 col0\" >255</td>\n",
       "                        <td id=\"T_2fb649ec_0f1f_11eb_b358_0242ac110002row6_col1\" class=\"data row6 col1\" >0</td>\n",
       "                        <td id=\"T_2fb649ec_0f1f_11eb_b358_0242ac110002row6_col2\" class=\"data row6 col2\" >0</td>\n",
       "                        <td id=\"T_2fb649ec_0f1f_11eb_b358_0242ac110002row6_col3\" class=\"data row6 col3\" >0</td>\n",
       "                        <td id=\"T_2fb649ec_0f1f_11eb_b358_0242ac110002row6_col4\" class=\"data row6 col4\" >0</td>\n",
       "                        <td id=\"T_2fb649ec_0f1f_11eb_b358_0242ac110002row6_col5\" class=\"data row6 col5\" >0</td>\n",
       "                        <td id=\"T_2fb649ec_0f1f_11eb_b358_0242ac110002row6_col6\" class=\"data row6 col6\" >0</td>\n",
       "                        <td id=\"T_2fb649ec_0f1f_11eb_b358_0242ac110002row6_col7\" class=\"data row6 col7\" >0</td>\n",
       "                        <td id=\"T_2fb649ec_0f1f_11eb_b358_0242ac110002row6_col8\" class=\"data row6 col8\" >255</td>\n",
       "            </tr>\n",
       "            <tr>\n",
       "                        <th id=\"T_2fb649ec_0f1f_11eb_b358_0242ac110002level0_row7\" class=\"row_heading level0 row7\" >7</th>\n",
       "                        <td id=\"T_2fb649ec_0f1f_11eb_b358_0242ac110002row7_col0\" class=\"data row7 col0\" >255</td>\n",
       "                        <td id=\"T_2fb649ec_0f1f_11eb_b358_0242ac110002row7_col1\" class=\"data row7 col1\" >255</td>\n",
       "                        <td id=\"T_2fb649ec_0f1f_11eb_b358_0242ac110002row7_col2\" class=\"data row7 col2\" >0</td>\n",
       "                        <td id=\"T_2fb649ec_0f1f_11eb_b358_0242ac110002row7_col3\" class=\"data row7 col3\" >0</td>\n",
       "                        <td id=\"T_2fb649ec_0f1f_11eb_b358_0242ac110002row7_col4\" class=\"data row7 col4\" >0</td>\n",
       "                        <td id=\"T_2fb649ec_0f1f_11eb_b358_0242ac110002row7_col5\" class=\"data row7 col5\" >0</td>\n",
       "                        <td id=\"T_2fb649ec_0f1f_11eb_b358_0242ac110002row7_col6\" class=\"data row7 col6\" >0</td>\n",
       "                        <td id=\"T_2fb649ec_0f1f_11eb_b358_0242ac110002row7_col7\" class=\"data row7 col7\" >255</td>\n",
       "                        <td id=\"T_2fb649ec_0f1f_11eb_b358_0242ac110002row7_col8\" class=\"data row7 col8\" >255</td>\n",
       "            </tr>\n",
       "            <tr>\n",
       "                        <th id=\"T_2fb649ec_0f1f_11eb_b358_0242ac110002level0_row8\" class=\"row_heading level0 row8\" >8</th>\n",
       "                        <td id=\"T_2fb649ec_0f1f_11eb_b358_0242ac110002row8_col0\" class=\"data row8 col0\" >255</td>\n",
       "                        <td id=\"T_2fb649ec_0f1f_11eb_b358_0242ac110002row8_col1\" class=\"data row8 col1\" >255</td>\n",
       "                        <td id=\"T_2fb649ec_0f1f_11eb_b358_0242ac110002row8_col2\" class=\"data row8 col2\" >0</td>\n",
       "                        <td id=\"T_2fb649ec_0f1f_11eb_b358_0242ac110002row8_col3\" class=\"data row8 col3\" >0</td>\n",
       "                        <td id=\"T_2fb649ec_0f1f_11eb_b358_0242ac110002row8_col4\" class=\"data row8 col4\" >0</td>\n",
       "                        <td id=\"T_2fb649ec_0f1f_11eb_b358_0242ac110002row8_col5\" class=\"data row8 col5\" >0</td>\n",
       "                        <td id=\"T_2fb649ec_0f1f_11eb_b358_0242ac110002row8_col6\" class=\"data row8 col6\" >0</td>\n",
       "                        <td id=\"T_2fb649ec_0f1f_11eb_b358_0242ac110002row8_col7\" class=\"data row8 col7\" >255</td>\n",
       "                        <td id=\"T_2fb649ec_0f1f_11eb_b358_0242ac110002row8_col8\" class=\"data row8 col8\" >255</td>\n",
       "            </tr>\n",
       "            <tr>\n",
       "                        <th id=\"T_2fb649ec_0f1f_11eb_b358_0242ac110002level0_row9\" class=\"row_heading level0 row9\" >9</th>\n",
       "                        <td id=\"T_2fb649ec_0f1f_11eb_b358_0242ac110002row9_col0\" class=\"data row9 col0\" >255</td>\n",
       "                        <td id=\"T_2fb649ec_0f1f_11eb_b358_0242ac110002row9_col1\" class=\"data row9 col1\" >255</td>\n",
       "                        <td id=\"T_2fb649ec_0f1f_11eb_b358_0242ac110002row9_col2\" class=\"data row9 col2\" >255</td>\n",
       "                        <td id=\"T_2fb649ec_0f1f_11eb_b358_0242ac110002row9_col3\" class=\"data row9 col3\" >0</td>\n",
       "                        <td id=\"T_2fb649ec_0f1f_11eb_b358_0242ac110002row9_col4\" class=\"data row9 col4\" >0</td>\n",
       "                        <td id=\"T_2fb649ec_0f1f_11eb_b358_0242ac110002row9_col5\" class=\"data row9 col5\" >0</td>\n",
       "                        <td id=\"T_2fb649ec_0f1f_11eb_b358_0242ac110002row9_col6\" class=\"data row9 col6\" >255</td>\n",
       "                        <td id=\"T_2fb649ec_0f1f_11eb_b358_0242ac110002row9_col7\" class=\"data row9 col7\" >255</td>\n",
       "                        <td id=\"T_2fb649ec_0f1f_11eb_b358_0242ac110002row9_col8\" class=\"data row9 col8\" >255</td>\n",
       "            </tr>\n",
       "            <tr>\n",
       "                        <th id=\"T_2fb649ec_0f1f_11eb_b358_0242ac110002level0_row10\" class=\"row_heading level0 row10\" >10</th>\n",
       "                        <td id=\"T_2fb649ec_0f1f_11eb_b358_0242ac110002row10_col0\" class=\"data row10 col0\" >255</td>\n",
       "                        <td id=\"T_2fb649ec_0f1f_11eb_b358_0242ac110002row10_col1\" class=\"data row10 col1\" >255</td>\n",
       "                        <td id=\"T_2fb649ec_0f1f_11eb_b358_0242ac110002row10_col2\" class=\"data row10 col2\" >255</td>\n",
       "                        <td id=\"T_2fb649ec_0f1f_11eb_b358_0242ac110002row10_col3\" class=\"data row10 col3\" >255</td>\n",
       "                        <td id=\"T_2fb649ec_0f1f_11eb_b358_0242ac110002row10_col4\" class=\"data row10 col4\" >0</td>\n",
       "                        <td id=\"T_2fb649ec_0f1f_11eb_b358_0242ac110002row10_col5\" class=\"data row10 col5\" >255</td>\n",
       "                        <td id=\"T_2fb649ec_0f1f_11eb_b358_0242ac110002row10_col6\" class=\"data row10 col6\" >255</td>\n",
       "                        <td id=\"T_2fb649ec_0f1f_11eb_b358_0242ac110002row10_col7\" class=\"data row10 col7\" >255</td>\n",
       "                        <td id=\"T_2fb649ec_0f1f_11eb_b358_0242ac110002row10_col8\" class=\"data row10 col8\" >255</td>\n",
       "            </tr>\n",
       "    </tbody></table>"
      ],
      "text/plain": [
       "<pandas.io.formats.style.Styler at 0x7f43d9ed3d90>"
      ]
     },
     "metadata": {},
     "output_type": "display_data"
    },
    {
     "data": {
      "text/plain": [
       "(11, 9)"
      ]
     },
     "execution_count": 58,
     "metadata": {},
     "output_type": "execute_result"
    }
   ],
   "source": [
    "from nn_tools.sensor_data import generate_image, df_from_image, trim_image\n",
    "from nn_tools.sensor_data import sensor_image_focus\n",
    "\n",
    "index = -1\n",
    "\n",
    "# The sensor_image_focus function crops\n",
    "# to the central focal area of the image array\n",
    "left_img = sensor_image_focus(generate_image(left_images_df, index))\n",
    "\n",
    "trimmed_df = trim_image( df_from_image(left_img, show=False), reindex=True)\n",
    "\n",
    "# dataframe shape\n",
    "trimmed_df.shape"
   ]
  },
  {
   "cell_type": "markdown",
   "metadata": {
    "activity": true
   },
   "source": [
    "Using the above code, or otherwise, find the shape of the bounding box for each shape as captured in the `roboSim.image_data` list.\n",
    "\n",
    "You may find it useful to use the provided code as the basis of a simple function that will:\n",
    "\n",
    "- take the index number for a particular image data scan;\n",
    "- generate the image;\n",
    "- find the size of the bounding box.\n",
    "\n",
    "Then you can iterate through all the rows in the `left_images_df` dataset, generate the corresponding image and its bounding box dimensions, and then display the image and the dimensions.\n",
    "\n",
    "*Hint: you can use a `for` loop defined as `for i in range(len(left_images_df)):` to iterate through each row of the data frame and generate an appropriate index number, `i`, for each row.*\n",
    "\n",
    "Based on the shape dimensions alone, can you distinguish between the shapes?"
   ]
  },
  {
   "cell_type": "code",
   "execution_count": 59,
   "metadata": {
    "student": true
   },
   "outputs": [],
   "source": [
    "# Your code here"
   ]
  },
  {
   "cell_type": "markdown",
   "metadata": {
    "student": true
   },
   "source": [
    "*Record your observations here, identifying the bounding box dimensions for each shape (square, circle, equitri1, equitri2, equitri3, equitri4, rect, diamond1). Are the shapes distinguishable from their bounding box sizes?*"
   ]
  },
  {
   "cell_type": "markdown",
   "metadata": {
    "activity": true
   },
   "source": [
    "#### Example solution\n",
    "\n",
    "*Click the arrow in the sidebar or run this cell to reveal an example solution.*"
   ]
  },
  {
   "cell_type": "markdown",
   "metadata": {
    "activity": true
   },
   "source": [
    "Let's start by creating a simple function inspired by the supplied code that will display an image and its bounding box dimensions:"
   ]
  },
  {
   "cell_type": "code",
   "execution_count": 60,
   "metadata": {
    "activity": true
   },
   "outputs": [
    {
     "data": {
      "image/png": "[encoded data removed]",
      "text/plain": [
       "<PIL.Image.Image image mode=L size=14x14 at 0x7F43D9E23590>"
      ]
     },
     "metadata": {},
     "output_type": "display_data"
    },
    {
     "data": {
      "text/plain": [
       "(11, 11)"
      ]
     },
     "metadata": {},
     "output_type": "display_data"
    }
   ],
   "source": [
    "def find_bounding_box(index):\n",
    "    \"\"\"Find bounding box for a shape in an image.\"\"\"\n",
    "    img = sensor_image_focus(generate_image(left_images_df, index))\n",
    "    trimmed_df = trim_image( df_from_image(img, show=False), show=False, reindex=True)\n",
    "\n",
    "    # Show image and shape\n",
    "    display(img, trimmed_df.shape)\n",
    "\n",
    "find_bounding_box(0)"
   ]
  },
  {
   "cell_type": "markdown",
   "metadata": {
    "activity": true
   },
   "source": [
    "We can then call this function by iterating through each image data record in the `roboSim.image_data` dataset:"
   ]
  },
  {
   "cell_type": "code",
   "execution_count": 61,
   "metadata": {
    "activity": true
   },
   "outputs": [
    {
     "data": {
      "image/png": "[encoded data removed]",
      "text/plain": [
       "<PIL.Image.Image image mode=L size=14x14 at 0x7F43D9ED3490>"
      ]
     },
     "metadata": {},
     "output_type": "display_data"
    },
    {
     "data": {
      "text/plain": [
       "(11, 11)"
      ]
     },
     "metadata": {},
     "output_type": "display_data"
    },
    {
     "data": {
      "image/png": "[encoded data removed]",
      "text/plain": [
       "<PIL.Image.Image image mode=L size=14x14 at 0x7F43F348B310>"
      ]
     },
     "metadata": {},
     "output_type": "display_data"
    },
    {
     "data": {
      "text/plain": [
       "(11, 11)"
      ]
     },
     "metadata": {},
     "output_type": "display_data"
    },
    {
     "data": {
      "image/png": "[encoded data removed]",
      "text/plain": [
       "<PIL.Image.Image image mode=L size=14x14 at 0x7F43D9E23A50>"
      ]
     },
     "metadata": {},
     "output_type": "display_data"
    },
    {
     "data": {
      "text/plain": [
       "(11, 9)"
      ]
     },
     "metadata": {},
     "output_type": "display_data"
    },
    {
     "data": {
      "image/png": "[encoded data removed]",
      "text/plain": [
       "<PIL.Image.Image image mode=L size=14x14 at 0x7F43F34C2ED0>"
      ]
     },
     "metadata": {},
     "output_type": "display_data"
    },
    {
     "data": {
      "text/plain": [
       "(11, 9)"
      ]
     },
     "metadata": {},
     "output_type": "display_data"
    },
    {
     "data": {
      "image/png": "[encoded data removed]",
      "text/plain": [
       "<PIL.Image.Image image mode=L size=14x14 at 0x7F43F34C2ED0>"
      ]
     },
     "metadata": {},
     "output_type": "display_data"
    },
    {
     "data": {
      "text/plain": [
       "(9, 11)"
      ]
     },
     "metadata": {},
     "output_type": "display_data"
    },
    {
     "data": {
      "image/png": "[encoded data removed]",
      "text/plain": [
       "<PIL.Image.Image image mode=L size=14x14 at 0x7F43F348B310>"
      ]
     },
     "metadata": {},
     "output_type": "display_data"
    },
    {
     "data": {
      "text/plain": [
       "(10, 11)"
      ]
     },
     "metadata": {},
     "output_type": "display_data"
    },
    {
     "data": {
      "image/png": "[encoded data removed]",
      "text/plain": [
       "<PIL.Image.Image image mode=L size=14x14 at 0x7F43F348BD50>"
      ]
     },
     "metadata": {},
     "output_type": "display_data"
    },
    {
     "data": {
      "text/plain": [
       "(6, 11)"
      ]
     },
     "metadata": {},
     "output_type": "display_data"
    },
    {
     "data": {
      "image/png": "[encoded data removed]",
      "text/plain": [
       "<PIL.Image.Image image mode=L size=14x14 at 0x7F43F348B890>"
      ]
     },
     "metadata": {},
     "output_type": "display_data"
    },
    {
     "data": {
      "text/plain": [
       "(11, 9)"
      ]
     },
     "metadata": {},
     "output_type": "display_data"
    }
   ],
   "source": [
    "for i in range(len(left_images_df)):\n",
    "    find_bounding_box(i)"
   ]
  },
  {
   "cell_type": "markdown",
   "metadata": {
    "activity": true
   },
   "source": [
    "Inspecting the results from my run (yours may be slightly different), several of the shapes appear to share the same bounding box dimensions:\n",
    "\n",
    "- the square, circle/octagon and upright triangle all have bounding box dimensions `(11, 11)`;\n",
    "- the left and right facing triangles and the diamond have the same dimensions (`(11, 9)`).\n",
    "\n",
    "The rectangle is clearly separated from the other shapes on the basis of its bounding box dimensions, but the other shapes all have dimensions that may be hard to distinguish between.\n",
    "\n",
    "One other thing to notice in passing is that at least one of the dimensions in each case is equal to 11."
   ]
  },
  {
   "cell_type": "markdown",
   "metadata": {},
   "source": [
    "### 3.1.3 Decoding the training label image\n",
    "\n",
    "The grey filled squares alongside the shape images are used to encode a label describing the associated shape.\n",
    "\n",
    "The shape names and classes are defined as follows in the order they appear going from left to right along the test track:"
   ]
  },
  {
   "cell_type": "code",
   "execution_count": 62,
   "metadata": {},
   "outputs": [],
   "source": [
    "# Define the classes\n",
    "shapemap = {'square': 0,\n",
    "            'circle': 1,\n",
    "            'equitri1': 2,\n",
    "            'equitri2': 3,\n",
    "            'equitri3': 4,\n",
    "            'equitri4': 5,\n",
    "            'rect': 6,\n",
    "            'diamond1': 7\n",
    "           }"
   ]
  },
  {
   "cell_type": "markdown",
   "metadata": {},
   "source": [
    "The grey levels are determined by the following algorithm, in which we use the numerical class values to derive the greyscale value:"
   ]
  },
  {
   "cell_type": "code",
   "execution_count": 63,
   "metadata": {},
   "outputs": [
    {
     "data": {
      "text/plain": [
       "{nan: 'unknown',\n",
       " 0: 'square',\n",
       " 31: 'circle',\n",
       " 63: 'equitri1',\n",
       " 95: 'equitri2',\n",
       " 127: 'equitri3',\n",
       " 159: 'equitri4',\n",
       " 191: 'rect',\n",
       " 223: 'diamond1'}"
      ]
     },
     "execution_count": 63,
     "metadata": {},
     "output_type": "execute_result"
    }
   ],
   "source": [
    "from numpy import nan\n",
    "\n",
    "greymap = {nan: 'unknown'}\n",
    "\n",
    "# Generate greyscale value\n",
    "for shape in shapemap:\n",
    "    key = int(shapemap[shape] * 255/len(shapemap))\n",
    "    greymap[key] = shape\n",
    "    \n",
    "greymap"
   ]
  },
  {
   "cell_type": "markdown",
   "metadata": {},
   "source": [
    "Let's see if we can decode the labels from the solid grey squares.\n",
    "\n",
    "To to try to make sure we are using actual shape image data, we can can identify images in our training set if *all* the pixels in the right hand image are the same value."
   ]
  },
  {
   "cell_type": "code",
   "execution_count": 64,
   "metadata": {},
   "outputs": [
    {
     "data": {
      "text/plain": [
       "True"
      ]
     },
     "execution_count": 64,
     "metadata": {},
     "output_type": "execute_result"
    }
   ],
   "source": [
    "left_img, right_img = get_sensor_image_pair(roboSim.image_data(), -1)\n",
    "\n",
    "# Generate a set of distinct pixel values\n",
    "# from the right hand image.\n",
    "# Return True if there is only one value\n",
    "# in the set. That is, all the values are the same.\n",
    "len(set(right_img.getdata())) == 1"
   ]
  },
  {
   "cell_type": "markdown",
   "metadata": {},
   "source": [
    "The following function can be used to generate a greyscale image from a row of the dataframe, find the median pixel value within that image, and then try to decode it. We also return a flag (`uniform`) that identifies if the all the pixels in the right hand encoded label image are the same."
   ]
  },
  {
   "cell_type": "code",
   "execution_count": 65,
   "metadata": {},
   "outputs": [],
   "source": [
    "def decode_shape(img):\n",
    "    \"\"\"Decode the shape from the greyscale image.\"\"\"\n",
    "    # Get the image greyscale pixel data\n",
    "    # The pandas Series is a convenient representation\n",
    "    image_pixels = pd.Series(list(img.getdata()))\n",
    "    \n",
    "    # Find the median pixel value\n",
    "    pixels_median = int(image_pixels.median())\n",
    "    \n",
    "    shape = None\n",
    "    code= None\n",
    "    #uniform = len(set(img.getdata())) == 1\n",
    "    # There is often more than one way to do it!\n",
    "    # The following makes use of Series.unique()\n",
    "    # which identifies the distinct values in a Series\n",
    "    uniform = len(image_pixels.unique()) == 1\n",
    "    \n",
    "    if pixels_median in greymap:\n",
    "        shape = greymap[pixels_median]\n",
    "        code = shapemap[greymap[pixels_median]]\n",
    "        \n",
    "    return (pixels_median, shape, code, uniform)"
   ]
  },
  {
   "cell_type": "markdown",
   "metadata": {},
   "source": [
    "We can apply that function to each row of the dataframe by iterating over pairs of rows:"
   ]
  },
  {
   "cell_type": "code",
   "execution_count": 66,
   "metadata": {},
   "outputs": [
    {
     "name": "stdout",
     "output_type": "stream",
     "text": [
      "Grey: 0; shape: square; code: 0; uniform: True\n",
      "Grey: 31; shape: circle; code: 1; uniform: True\n",
      "Grey: 63; shape: equitri1; code: 2; uniform: True\n",
      "Grey: 95; shape: equitri2; code: 3; uniform: True\n",
      "Grey: 127; shape: equitri3; code: 4; uniform: True\n",
      "Grey: 159; shape: equitri4; code: 5; uniform: True\n",
      "Grey: 191; shape: rect; code: 6; uniform: True\n",
      "Grey: 223; shape: diamond1; code: 7; uniform: True\n"
     ]
    }
   ],
   "source": [
    "import pandas as pd\n",
    "\n",
    "shapes = []\n",
    "\n",
    "# The number of row pairs is half the number of rows\n",
    "num_pairs = int(len(roboSim.image_data())/2)\n",
    "\n",
    "for i in range(num_pairs):\n",
    "    \n",
    "    # Rretrieve a pair of images \n",
    "    # from the datalog dataframe:\n",
    "    left_img, right_img = get_sensor_image_pair(roboSim.image_data(), i)\n",
    "    \n",
    "    #Decode the label image\n",
    "    (grey, shape, code, uniform) = decode_shape(right_img)\n",
    "    \n",
    "    # Add the label to a list of labels found so far\n",
    "    shapes.append(shape)\n",
    "\n",
    "    # Display the result of decoding\n",
    "    # the median pixel value\n",
    "    print(f\"Grey: {grey}; shape: {shape}; code: {code}; uniform: {uniform}\")"
   ]
  },
  {
   "cell_type": "markdown",
   "metadata": {},
   "source": [
    "We can also use the `decode_shape()` function as part of another function that will return a shape training image and it's associated label from a left and right sensor row pair in the datalog dataframe:"
   ]
  },
  {
   "cell_type": "code",
   "execution_count": 67,
   "metadata": {},
   "outputs": [],
   "source": [
    "def get_training_data(raw_df, pair_index):\n",
    "    \"\"\"Get training image and label from raw data frame.\"\"\"\n",
    "    \n",
    "    # Get the left and right images\n",
    "    # at specified pair index\n",
    "    left_img, right_img = get_sensor_image_pair(raw_df,\n",
    "                                            pair_index)\n",
    "    \n",
    "    (grey, shape, code, uniform) = decode_shape(right_img)\n",
    "    return (shape, code, uniform, left_img)"
   ]
  },
  {
   "cell_type": "markdown",
   "metadata": {},
   "source": [
    "To use the `get_training_data()` function, we pass it the datalog dataframe and the index of the desired image pair:"
   ]
  },
  {
   "cell_type": "code",
   "execution_count": 71,
   "metadata": {},
   "outputs": [
    {
     "name": "stdout",
     "output_type": "stream",
     "text": [
      "diamond1 7 True\n"
     ]
    },
    {
     "data": {
      "image/png": "[encoded data removed]",
      "text/plain": [
       "<Figure size 360x360 with 1 Axes>"
      ]
     },
     "metadata": {
      "needs_background": "light"
     },
     "output_type": "display_data"
    }
   ],
   "source": [
    "pair_index = -1\n",
    "    \n",
    "response = get_training_data(roboSim.image_data(), pair_index)\n",
    "(shape, code, uniform, training_img) = response\n",
    "\n",
    "print(shape, code, uniform)\n",
    "zoom_img(training_img)"
   ]
  },
  {
   "cell_type": "markdown",
   "metadata": {},
   "source": [
    "In summary, we can now:\n",
    "    \n",
    "- grab the greyscale training image;\n",
    "- find the median greyscale value;\n",
    "- try to decode that value to a shape label / code;\n",
    "- return the shape label and code associated with that greyscale image, along with an indicator of whether the image is in view via the `uniform` training image array flag;\n",
    "- label the corresponding shape image with the appropriate label."
   ]
  },
  {
   "cell_type": "markdown",
   "metadata": {},
   "source": [
    "## 3.2 Real time data collection\n",
    "\n",
    "In this section, you will start to explore how to collect data in real time as the robot drives over the images, rather than being teleported directly on top of them."
   ]
  },
  {
   "cell_type": "markdown",
   "metadata": {},
   "source": [
    "### 3.2.1 Identifying when the robot is over a pattern in real time\n",
    "\n",
    "If we want to collect data from the robot as it drives slowly over the images we need to be able to identify when it is passing over the images and trigger the image sampling.\n",
    "\n",
    "The following program will slow drive over the test patterns, logging the reflected light sensor values every so often.\n",
    "\n",
    "From the traces on the simulator chart, can you identify   when the robot passes over the images?"
   ]
  },
  {
   "cell_type": "markdown",
   "metadata": {
    "student": true
   },
   "source": [
    "*Record your observations here.*"
   ]
  },
  {
   "cell_type": "code",
   "execution_count": 16,
   "metadata": {},
   "outputs": [],
   "source": [
    "%%sim_magic_preloaded -b Simple_Shapes -x 100 -y 700 -OAc\n",
    "\n",
    "# Start driving forwards slowly\n",
    "tank_drive.on(SpeedPercent(10), SpeedPercent(10))\n",
    "\n",
    "count = 1\n",
    "\n",
    "# Drive forward no further than a specified distance\n",
    "while int(tank_drive.left_motor.position)<1500:\n",
    "    \n",
    "    left_light = colorLeft.reflected_light_intensity_pc\n",
    "    right_light = colorRight.reflected_light_intensity_pc\n",
    "    \n",
    "    # report every fifth pass of the loop\n",
    "    if not (count % 5):\n",
    "        print('Light_left: ' + str(left_light))\n",
    "        print('Light_right: ' + str(right_light))\n",
    "\n",
    "    count = count + 1"
   ]
  },
  {
   "cell_type": "markdown",
   "metadata": {
    "student": true
   },
   "source": [
    "*Based on your observations, describe a strategy you might use to capture image sample data when the test images are largely in view.*"
   ]
  },
  {
   "cell_type": "markdown",
   "metadata": {
    "activity": true
   },
   "source": [
    "### 3.2.2 Challenge — capturing image data in real time (optional)\n",
    "\n",
    "Using your observations regarding the reflected light sensor values as the robot crosses the images, or otherwise, write a program to collect image data from the simulator in real time as the robot drives over them."
   ]
  },
  {
   "cell_type": "markdown",
   "metadata": {
    "student": true
   },
   "source": [
    "*Describe your program strategy and record your program design notes here.*"
   ]
  },
  {
   "cell_type": "code",
   "execution_count": 17,
   "metadata": {
    "student": true
   },
   "outputs": [],
   "source": [
    "# Your code here"
   ]
  },
  {
   "cell_type": "markdown",
   "metadata": {},
   "source": [
    "### 3.2.3 Capturing image data in real time\n",
    "\n",
    "By observation of the reflected light sensor data in the chart, the robot appears to be over the a shape, as the reflected light sensor values drop below about 90%.\n",
    "\n",
    "From the chart, we might also notice that the training label image (encoded as the solid grey square presented to the right hand sensor) gives distinct readings for each shape.\n",
    "\n",
    "We can therefore use a drop in the reflected light sensor value to trigger the collection of the image data.\n",
    "\n",
    "First, let's clear the datalog:"
   ]
  },
  {
   "cell_type": "code",
   "execution_count": 18,
   "metadata": {},
   "outputs": [],
   "source": [
    "# Clear the datalog to give us a fresh start\n",
    "roboSim.clear_datalog()"
   ]
  },
  {
   "cell_type": "markdown",
   "metadata": {},
   "source": [
    "Now we can write a program to drive the robot forwards slowly and collect the image data when it is over an image:"
   ]
  },
  {
   "cell_type": "code",
   "execution_count": 20,
   "metadata": {},
   "outputs": [],
   "source": [
    "%%sim_magic_preloaded -b Simple_Shapes -x 100 -y 700 -OAR\n",
    "\n",
    "# Start driving forwards slowly\n",
    "tank_drive.on(SpeedPercent(10), SpeedPercent(10))\n",
    "\n",
    "# Drive forward no futher than a specified distance\n",
    "while int(tank_drive.left_motor.position)<1500:\n",
    "    \n",
    "    # Sample the right sensor\n",
    "    sample = colorRight.reflected_light_intensity_pc\n",
    "    # If we seem to be over a test label,\n",
    "    # grab the image data into the datalof\n",
    "    if sample < 90:\n",
    "        print(\"image_data both\")"
   ]
  },
  {
   "cell_type": "markdown",
   "metadata": {},
   "source": [
    "If we review the the images in the datalog, we should see they all contain a fragment at least of the image data:"
   ]
  },
  {
   "cell_type": "code",
   "execution_count": 21,
   "metadata": {},
   "outputs": [
    {
     "data": {
      "text/plain": [
       "(None, None)"
      ]
     },
     "execution_count": 21,
     "metadata": {},
     "output_type": "execute_result"
    },
    {
     "data": {
      "image/png": "[encoded data removed]",
      "text/plain": [
       "<Figure size 360x360 with 1 Axes>"
      ]
     },
     "metadata": {
      "needs_background": "light"
     },
     "output_type": "display_data"
    },
    {
     "data": {
      "image/png": "[encoded data removed]",
      "text/plain": [
       "<Figure size 360x360 with 1 Axes>"
      ]
     },
     "metadata": {
      "needs_background": "light"
     },
     "output_type": "display_data"
    }
   ],
   "source": [
    "pair_index = -1\n",
    "\n",
    "left_img, right_img = get_sensor_image_pair(roboSim.image_data(),\n",
    "                                            pair_index)\n",
    "\n",
    "zoom_img(left_img), zoom_img(right_img)"
   ]
  },
  {
   "cell_type": "code",
   "execution_count": 21,
   "metadata": {},
   "outputs": [
    {
     "data": {
      "text/html": [
       "<div>\n",
       "<style scoped>\n",
       "    .dataframe tbody tr th:only-of-type {\n",
       "        vertical-align: middle;\n",
       "    }\n",
       "\n",
       "    .dataframe tbody tr th {\n",
       "        vertical-align: top;\n",
       "    }\n",
       "\n",
       "    .dataframe thead th {\n",
       "        text-align: right;\n",
       "    }\n",
       "</style>\n",
       "<table border=\"1\" class=\"dataframe\">\n",
       "  <thead>\n",
       "    <tr style=\"text-align: right;\">\n",
       "      <th></th>\n",
       "      <th>side</th>\n",
       "      <th>vals</th>\n",
       "      <th>clock</th>\n",
       "    </tr>\n",
       "  </thead>\n",
       "  <tbody>\n",
       "    <tr>\n",
       "      <th>0</th>\n",
       "      <td>left</td>\n",
       "      <td>245,226,225,245,226,225,245,226,225,245,226,22...</td>\n",
       "      <td>50</td>\n",
       "    </tr>\n",
       "    <tr>\n",
       "      <th>1</th>\n",
       "      <td>right</td>\n",
       "      <td>245,226,225,245,226,225,245,226,225,245,226,22...</td>\n",
       "      <td>50</td>\n",
       "    </tr>\n",
       "    <tr>\n",
       "      <th>2</th>\n",
       "      <td>left</td>\n",
       "      <td>245,226,225,245,226,225,245,226,225,245,226,22...</td>\n",
       "      <td>50</td>\n",
       "    </tr>\n",
       "    <tr>\n",
       "      <th>3</th>\n",
       "      <td>right</td>\n",
       "      <td>245,226,225,245,226,225,245,226,225,245,226,22...</td>\n",
       "      <td>50</td>\n",
       "    </tr>\n",
       "    <tr>\n",
       "      <th>4</th>\n",
       "      <td>left</td>\n",
       "      <td>245,226,225,245,226,225,245,226,225,245,226,22...</td>\n",
       "      <td>50</td>\n",
       "    </tr>\n",
       "    <tr>\n",
       "      <th>...</th>\n",
       "      <td>...</td>\n",
       "      <td>...</td>\n",
       "      <td>...</td>\n",
       "    </tr>\n",
       "    <tr>\n",
       "      <th>393</th>\n",
       "      <td>right</td>\n",
       "      <td>245,226,225,245,226,225,245,226,225,245,226,22...</td>\n",
       "      <td>389</td>\n",
       "    </tr>\n",
       "    <tr>\n",
       "      <th>394</th>\n",
       "      <td>left</td>\n",
       "      <td>245,226,225,245,226,225,245,226,225,245,226,22...</td>\n",
       "      <td>389</td>\n",
       "    </tr>\n",
       "    <tr>\n",
       "      <th>395</th>\n",
       "      <td>right</td>\n",
       "      <td>245,226,225,245,226,225,245,226,225,245,226,22...</td>\n",
       "      <td>389</td>\n",
       "    </tr>\n",
       "    <tr>\n",
       "      <th>396</th>\n",
       "      <td>left</td>\n",
       "      <td>245,226,225,245,226,225,245,226,225,245,226,22...</td>\n",
       "      <td>390</td>\n",
       "    </tr>\n",
       "    <tr>\n",
       "      <th>397</th>\n",
       "      <td>right</td>\n",
       "      <td>245,226,225,245,226,225,245,226,225,245,226,22...</td>\n",
       "      <td>390</td>\n",
       "    </tr>\n",
       "  </tbody>\n",
       "</table>\n",
       "<p>398 rows × 3 columns</p>\n",
       "</div>"
      ],
      "text/plain": [
       "      side                                               vals clock\n",
       "0     left  245,226,225,245,226,225,245,226,225,245,226,22...    50\n",
       "1    right  245,226,225,245,226,225,245,226,225,245,226,22...    50\n",
       "2     left  245,226,225,245,226,225,245,226,225,245,226,22...    50\n",
       "3    right  245,226,225,245,226,225,245,226,225,245,226,22...    50\n",
       "4     left  245,226,225,245,226,225,245,226,225,245,226,22...    50\n",
       "..     ...                                                ...   ...\n",
       "393  right  245,226,225,245,226,225,245,226,225,245,226,22...   389\n",
       "394   left  245,226,225,245,226,225,245,226,225,245,226,22...   389\n",
       "395  right  245,226,225,245,226,225,245,226,225,245,226,22...   389\n",
       "396   left  245,226,225,245,226,225,245,226,225,245,226,22...   390\n",
       "397  right  245,226,225,245,226,225,245,226,225,245,226,22...   390\n",
       "\n",
       "[398 rows x 3 columns]"
      ]
     },
     "execution_count": 21,
     "metadata": {},
     "output_type": "execute_result"
    }
   ],
   "source": [
    "roboSim.image_data()"
   ]
  },
  {
   "cell_type": "markdown",
   "metadata": {},
   "source": [
    "We are now in a position to try to use the data collected by traveling over the test track to train the neural network."
   ]
  },
  {
   "cell_type": "markdown",
   "metadata": {},
   "source": [
    "## TO DO - show the effect of the uniform flag"
   ]
  },
  {
   "cell_type": "markdown",
   "metadata": {},
   "source": [
    "## 3.2 Training an MLP to recognise the patterns\n",
    "\n",
    "In an earlier activity, we discovered that the bounding box method we used to distinguish fruits did not provide a set of features that we could use to distinguish the different shapes.\n",
    "\n",
    "So let's just use a \"naive\" training approach and just train the network on the 14 x 14 pixels in the centre of each sensor image array.\n",
    "\n",
    "As well as using the collected data, we can also use derived \"jiggled\" images as part of the training set."
   ]
  },
  {
   "cell_type": "markdown",
   "metadata": {},
   "source": [
    "## 3.3 Testing the network with collected data\n",
    "\n",
    "Let's collect some data again by driving the robot over the test track as we did before.\n",
    "\n",
    "Now let's grab the shape image data and use that as a test set presented to the neural network.\n",
    "\n",
    "\n"
   ]
  },
  {
   "cell_type": "markdown",
   "metadata": {},
   "source": [
    "What happens if you test the network using data collected by running the robot over the test track at a different speed, or with the "
   ]
  },
  {
   "cell_type": "code",
   "execution_count": 54,
   "metadata": {},
   "outputs": [
    {
     "data": {
      "text/html": [
       "<div>\n",
       "<style scoped>\n",
       "    .dataframe tbody tr th:only-of-type {\n",
       "        vertical-align: middle;\n",
       "    }\n",
       "\n",
       "    .dataframe tbody tr th {\n",
       "        vertical-align: top;\n",
       "    }\n",
       "\n",
       "    .dataframe thead th {\n",
       "        text-align: right;\n",
       "    }\n",
       "</style>\n",
       "<table border=\"1\" class=\"dataframe\">\n",
       "  <thead>\n",
       "    <tr style=\"text-align: right;\">\n",
       "      <th></th>\n",
       "      <th>side</th>\n",
       "      <th>vals</th>\n",
       "      <th>clock</th>\n",
       "    </tr>\n",
       "  </thead>\n",
       "  <tbody>\n",
       "    <tr>\n",
       "      <th>0</th>\n",
       "      <td>left</td>\n",
       "      <td>245,226,225,245,226,225,245,226,225,245,226,22...</td>\n",
       "      <td>1</td>\n",
       "    </tr>\n",
       "    <tr>\n",
       "      <th>1</th>\n",
       "      <td>right</td>\n",
       "      <td>245,226,225,245,226,225,245,226,225,245,226,22...</td>\n",
       "      <td>1</td>\n",
       "    </tr>\n",
       "    <tr>\n",
       "      <th>2</th>\n",
       "      <td>left</td>\n",
       "      <td>245,226,225,245,226,225,245,226,225,245,226,22...</td>\n",
       "      <td>1</td>\n",
       "    </tr>\n",
       "    <tr>\n",
       "      <th>3</th>\n",
       "      <td>right</td>\n",
       "      <td>245,226,225,245,226,225,245,226,225,245,226,22...</td>\n",
       "      <td>1</td>\n",
       "    </tr>\n",
       "    <tr>\n",
       "      <th>4</th>\n",
       "      <td>left</td>\n",
       "      <td>245,226,225,245,226,225,245,226,225,245,226,22...</td>\n",
       "      <td>2</td>\n",
       "    </tr>\n",
       "    <tr>\n",
       "      <th>...</th>\n",
       "      <td>...</td>\n",
       "      <td>...</td>\n",
       "      <td>...</td>\n",
       "    </tr>\n",
       "    <tr>\n",
       "      <th>533</th>\n",
       "      <td>right</td>\n",
       "      <td>245,226,225,245,226,225,245,226,225,245,226,22...</td>\n",
       "      <td>397</td>\n",
       "    </tr>\n",
       "    <tr>\n",
       "      <th>534</th>\n",
       "      <td>left</td>\n",
       "      <td>245,226,225,245,226,225,245,226,225,245,226,22...</td>\n",
       "      <td>397</td>\n",
       "    </tr>\n",
       "    <tr>\n",
       "      <th>535</th>\n",
       "      <td>right</td>\n",
       "      <td>245,226,225,245,226,225,245,226,225,245,226,22...</td>\n",
       "      <td>397</td>\n",
       "    </tr>\n",
       "    <tr>\n",
       "      <th>536</th>\n",
       "      <td>left</td>\n",
       "      <td>245,226,225,245,226,225,245,226,225,245,226,22...</td>\n",
       "      <td>398</td>\n",
       "    </tr>\n",
       "    <tr>\n",
       "      <th>537</th>\n",
       "      <td>right</td>\n",
       "      <td>245,226,225,245,226,225,245,226,225,245,226,22...</td>\n",
       "      <td>398</td>\n",
       "    </tr>\n",
       "  </tbody>\n",
       "</table>\n",
       "<p>538 rows × 3 columns</p>\n",
       "</div>"
      ],
      "text/plain": [
       "      side                                               vals clock\n",
       "0     left  245,226,225,245,226,225,245,226,225,245,226,22...     1\n",
       "1    right  245,226,225,245,226,225,245,226,225,245,226,22...     1\n",
       "2     left  245,226,225,245,226,225,245,226,225,245,226,22...     1\n",
       "3    right  245,226,225,245,226,225,245,226,225,245,226,22...     1\n",
       "4     left  245,226,225,245,226,225,245,226,225,245,226,22...     2\n",
       "..     ...                                                ...   ...\n",
       "533  right  245,226,225,245,226,225,245,226,225,245,226,22...   397\n",
       "534   left  245,226,225,245,226,225,245,226,225,245,226,22...   397\n",
       "535  right  245,226,225,245,226,225,245,226,225,245,226,22...   397\n",
       "536   left  245,226,225,245,226,225,245,226,225,245,226,22...   398\n",
       "537  right  245,226,225,245,226,225,245,226,225,245,226,22...   398\n",
       "\n",
       "[538 rows x 3 columns]"
      ]
     },
     "execution_count": 54,
     "metadata": {},
     "output_type": "execute_result"
    }
   ],
   "source": [
    "scanned_image_data_df = roboSim.image_data()\n",
    "scanned_image_data_df"
   ]
  },
  {
   "cell_type": "code",
   "execution_count": null,
   "metadata": {},
   "outputs": [],
   "source": [
    "image_data_df = roboSim.image_data()\n",
    "image_data_df[-2:]"
   ]
  },
  {
   "cell_type": "code",
   "execution_count": null,
   "metadata": {},
   "outputs": [],
   "source": [
    "# training - not much data but train on it"
   ]
  },
  {
   "cell_type": "code",
   "execution_count": null,
   "metadata": {},
   "outputs": [],
   "source": [
    "# testing -static"
   ]
  },
  {
   "cell_type": "code",
   "execution_count": null,
   "metadata": {},
   "outputs": [],
   "source": [
    "# testing - dynamic?"
   ]
  },
  {
   "cell_type": "markdown",
   "metadata": {},
   "source": [
    "The `nn_tools.sensor_data.get_sensor_image_pair` takes the original log data and grabs left and right sensor values based on the index of the left sensor value. (If no index is provided, the last two readings in the data log are inspected.)\n",
    "\n",
    "The resulting images are converted to greyscale images and cropped to the central focus area of each sensor."
   ]
  },
  {
   "cell_type": "code",
   "execution_count": null,
   "metadata": {},
   "outputs": [],
   "source": [
    "from nn_tools.sensor_data import get_sensor_image_pair\n",
    "\n",
    "# The sample we want from the logged image data\n",
    "_index = 10\n",
    "\n",
    "left_img, right_img = get_sensor_image_pair(roboSim.image_data, _index)\n",
    "\n",
    "display(left_img, right_img)\n"
   ]
  },
  {
   "cell_type": "markdown",
   "metadata": {},
   "source": [
    "The right sensor gives a uniform greyscale value. We can take the most common value (the *mode*) and use that to identify the class of the image."
   ]
  },
  {
   "cell_type": "code",
   "execution_count": null,
   "metadata": {},
   "outputs": [],
   "source": [
    "import numpy as np\n",
    "\n",
    "np.mode(right_img.getdata())"
   ]
  },
  {
   "cell_type": "markdown",
   "metadata": {},
   "source": [
    "We can use the following mapping to decode the actual shape from the training signal:"
   ]
  },
  {
   "cell_type": "code",
   "execution_count": null,
   "metadata": {},
   "outputs": [],
   "source": [
    "shape_map = {'shape': value}"
   ]
  },
  {
   "cell_type": "markdown",
   "metadata": {},
   "source": [
    "Generate training patterns:"
   ]
  },
  {
   "cell_type": "code",
   "execution_count": null,
   "metadata": {},
   "outputs": [],
   "source": [
    "# training set"
   ]
  },
  {
   "cell_type": "code",
   "execution_count": null,
   "metadata": {},
   "outputs": [],
   "source": []
  },
  {
   "cell_type": "code",
   "execution_count": null,
   "metadata": {},
   "outputs": [],
   "source": [
    "# train netwrok"
   ]
  },
  {
   "cell_type": "code",
   "execution_count": null,
   "metadata": {},
   "outputs": [],
   "source": [
    "# test network"
   ]
  },
  {
   "cell_type": "code",
   "execution_count": null,
   "metadata": {},
   "outputs": [],
   "source": [
    "# train on random images or random test track..."
   ]
  },
  {
   "cell_type": "code",
   "execution_count": null,
   "metadata": {},
   "outputs": [],
   "source": []
  },
  {
   "cell_type": "code",
   "execution_count": null,
   "metadata": {},
   "outputs": [],
   "source": [
    "%%sim_magic_preloaded -b Simple_Shapes -x 700 -y 716 -O\n",
    "tank_drive.on(SpeedPercent(10), SpeedPercent(10))\n",
    "while True:\n",
    "    sample = colorRight.reflected_light_intensity_pc\n",
    "    #print(sample)\n",
    "    if sample>12 and sample<13:\n",
    "        print('here...')"
   ]
  },
  {
   "cell_type": "markdown",
   "metadata": {},
   "source": [
    "Can we identify when we have seen a grey training class square?"
   ]
  },
  {
   "cell_type": "code",
   "execution_count": null,
   "metadata": {},
   "outputs": [],
   "source": [
    "# function to count what percentage of classificaiton group image pixels\n",
    "# are non-background; if this is 0 (or < threshold) decide we have seen a thing\n",
    "# and take the most common pixel value as the discriminator"
   ]
  },
  {
   "cell_type": "markdown",
   "metadata": {},
   "source": [
    "![figure ../tm129-19J-images/tm129_rob_p9_f010.jpg](../tm129-19J-images/tm129_rob_p9_f010.jpg)"
   ]
  },
  {
   "cell_type": "markdown",
   "metadata": {},
   "source": [
    "Figure 4.2 Two sets of scan lines of different lengths"
   ]
  },
  {
   "cell_type": "markdown",
   "metadata": {},
   "source": [
    "A diagram showing sets of scan lines on a rectangle and diamond block. There are about four scan lines over the rectangle, appearing as arcs across it, all of equal length. The diamond has about six scan lines which are short at the point of the diamond, becomes much longer across the middle, and then become shorter towards the end of the diamond.\n",
    "\n",
    "My data for the shapes in Figure 4.1 are given in Table 4.1.\n",
    "<table xmlns:str=\"http://exslt.org/strings\">\n",
    "<caption>Table 4.1 Scan data for shapes 1–4</caption>\n",
    "<tbody>\n",
    "<tr>\n",
    "<th>\n",
    "Shape\n",
    "</th>\n",
    "<th></th>\n",
    "<th>\n",
    "First circuit\n",
    "</th>\n",
    "<th>\n",
    "Second circuit\n",
    "</th>\n",
    "<th>\n",
    "Third circuit\n",
    "</th>\n",
    "</tr>\n",
    "<tr>\n",
    "<td class=\"highlight_\" rowspan=\"\" colspan=\"\">1</td>\n",
    "<td class=\"highlight_\" rowspan=\"\" colspan=\"\"> ![narrow rectangle](../tm129-19J-images/tm129_rob_p9_f011.jpg) </td>\n",
    "<td class=\"highlight_\" rowspan=\"\" colspan=\"\">\n",
    "7, 12, 13, 12, 13, 20, 0, 3\n",
    "</td>\n",
    "<td class=\"highlight_\" rowspan=\"\" colspan=\"\">\n",
    "9, 13, 14, 13, 12, 12, 3, 3\n",
    "</td>\n",
    "<td class=\"highlight_\" rowspan=\"\" colspan=\"\">\n",
    "8, 12, 12, 12, 12, 12, 3, 3\n",
    "</td>\n",
    "</tr>\n",
    "<tr>\n",
    "<td class=\"highlight_\" rowspan=\"\" colspan=\"\">2</td>\n",
    "<td class=\"highlight_\" rowspan=\"\" colspan=\"\"> ![diamond](../tm129-19J-images/tm129_rob_p9_f012.jpg) </td>\n",
    "<td class=\"highlight_\" rowspan=\"\" colspan=\"\">\n",
    "4, 7, 11, 14, 17, 20, 14, 9\n",
    "</td>\n",
    "<td class=\"highlight_\" rowspan=\"\" colspan=\"\">\n",
    "3, 6, 8, 13, 16, 19, 13, 8\n",
    "</td>\n",
    "<td class=\"highlight_\" rowspan=\"\" colspan=\"\">\n",
    "3, 7, 10, 13, 16, 19, 13, 9\n",
    "</td>\n",
    "</tr>\n",
    "<tr>\n",
    "<td class=\"highlight_\" rowspan=\"\" colspan=\"\">3</td>\n",
    "<td class=\"highlight_\" rowspan=\"\" colspan=\"\"> ![broad rectangle](../tm129-19J-images/tm129_rob_p9_f013.jpg) </td>\n",
    "<td class=\"highlight_\" rowspan=\"\" colspan=\"\">\n",
    "10, 20, 19, 19, 20, 3, 3, 3\n",
    "</td>\n",
    "<td class=\"highlight_\" rowspan=\"\" colspan=\"\">\n",
    "8, 17, 18, 17, 17, 3, 3, 3\n",
    "</td>\n",
    "<td class=\"highlight_\" rowspan=\"\" colspan=\"\">\n",
    "10, 17, 17, 16, 17, 3, 3, 3\n",
    "</td>\n",
    "</tr>\n",
    "<tr>\n",
    "<td class=\"highlight_\" rowspan=\"\" colspan=\"\">4</td>\n",
    "<td class=\"highlight_\" rowspan=\"\" colspan=\"\"> ![circle](../tm129-19J-images/tm129_rob_p9_f014.jpg) </td>\n",
    "<td class=\"highlight_\" rowspan=\"\" colspan=\"\">\n",
    "5, 13, 19, 22, 21, 13, 3, 3\n",
    "</td>\n",
    "<td class=\"highlight_\" rowspan=\"\" colspan=\"\">\n",
    "6, 12, 17, 20, 18, 4, 3, 3\n",
    "</td>\n",
    "<td class=\"highlight_\" rowspan=\"\" colspan=\"\">\n",
    "4, 11, 17, 19, 19, 11, 3, 3\n",
    "</td>\n",
    "</tr>\n",
    "</tbody>\n",
    "</table>\n",
    "\n",
    "Simon uses a neural network that I trained using these data. Once it has collected the scan data, it goes through the protocol in Figure 3.2, to receive the class code. When I trained the network I gave it class codes 1, 2, 3 and 4 for the shapes, using the numbering in Figure 4.1.\n",
    "\n",
    "When the network sends back the recognition codes, it uses the ASCII values shown in Table 3.1: 49 (for 1), 50 (for 2), 51 (for 3), and 52 (for 4)."
   ]
  },
  {
   "cell_type": "markdown",
   "metadata": {},
   "source": [
    "## 4.1 Activity — collecting scan data"
   ]
  },
  {
   "cell_type": "markdown",
   "metadata": {},
   "source": [
    "Figure 4.3 shows a new set of blocks. In this activity you will collect data that will be used to train a neural network. Open the `Get_block_data` program. When you run this program it detects a shape and logs data for it."
   ]
  },
  {
   "cell_type": "markdown",
   "metadata": {},
   "source": [
    "![figure ../tm129-19J-images/tm129_rob_p9_f016.jpg](../tm129-19J-images/tm129_rob_p9_f016.jpg)"
   ]
  },
  {
   "cell_type": "markdown",
   "metadata": {},
   "source": [
    "Figure 4.3 A set of blocks ready for collecting scan data"
   ]
  },
  {
   "cell_type": "markdown",
   "metadata": {},
   "source": [
    "The background image for ‘Get block data’. This is a red track as before but with different black blocks as follows: \n",
    "\n",
    "1.  triangle (point towards Simon)\n",
    "\n",
    "2.  very narrow rectangle, about twice the width of the track\n",
    "\n",
    "3.  oval\n",
    "\n",
    "4.  black line no wider than the track.\n",
    "\n",
    "Position Simon as shown in Figure 4.3 and run the program. When Simon has moved across shape number 5 it will stop. Open the Data log window.\n",
    "\n",
    "Click on the Upload  ![inlinefigure ../tm129-19J-images/tm129_rob_p9_f018.jpg](../tm129-19J-images/tm129_rob_p9_f018.jpg)  toolbar button or choose `Connect | Upload data log` to upload the data log<div xmlns:str=\"http://exslt.org/strings\" style=\"background:lightblue\"><p>Keyboard: Alt, C, U</p></div> and then click on the `Data` tab so that you can see the logged data, as shown in Figure 4.4."
   ]
  },
  {
   "cell_type": "markdown",
   "metadata": {},
   "source": [
    "![figure ../tm129-19J-images/tm129_rob_p9_f019.png](../tm129-19J-images/tm129_rob_p9_f019.png)"
   ]
  },
  {
   "cell_type": "markdown",
   "metadata": {},
   "source": [
    "Figure 4.4 Logged data for shape number 5"
   ]
  },
  {
   "cell_type": "markdown",
   "metadata": {},
   "source": [
    "The Data log table view with the following values: \n",
    "<table xmlns:str=\"http://exslt.org/strings\">\n",
    "<caption></caption>\n",
    "<tbody>\n",
    "<tr>\n",
    "<td class=\"highlight_\" rowspan=\"\" colspan=\"\"> n </td>\n",
    "<td class=\"highlight_\" rowspan=\"\" colspan=\"\"> value </td>\n",
    "<td class=\"highlight_\" rowspan=\"\" colspan=\"\"> source </td>\n",
    "</tr>\n",
    "<tr>\n",
    "<td class=\"highlight_\" rowspan=\"\" colspan=\"\"> 1 </td>\n",
    "<td class=\"highlight_\" rowspan=\"\" colspan=\"\"> 2 </td>\n",
    "<td class=\"highlight_\" rowspan=\"\" colspan=\"\"> unknown </td>\n",
    "</tr>\n",
    "<tr>\n",
    "<td class=\"highlight_\" rowspan=\"\" colspan=\"\"> 2 </td>\n",
    "<td class=\"highlight_\" rowspan=\"\" colspan=\"\"> 7 </td>\n",
    "<td class=\"highlight_\" rowspan=\"\" colspan=\"\"> unknown </td>\n",
    "</tr>\n",
    "<tr>\n",
    "<td class=\"highlight_\" rowspan=\"\" colspan=\"\"> 3 </td>\n",
    "<td class=\"highlight_\" rowspan=\"\" colspan=\"\"> 9 </td>\n",
    "<td class=\"highlight_\" rowspan=\"\" colspan=\"\"> unknown </td>\n",
    "</tr>\n",
    "<tr>\n",
    "<td class=\"highlight_\" rowspan=\"\" colspan=\"\"> 4 </td>\n",
    "<td class=\"highlight_\" rowspan=\"\" colspan=\"\"> 13 </td>\n",
    "<td class=\"highlight_\" rowspan=\"\" colspan=\"\"> unknown </td>\n",
    "</tr>\n",
    "<tr>\n",
    "<td class=\"highlight_\" rowspan=\"\" colspan=\"\"> 5 </td>\n",
    "<td class=\"highlight_\" rowspan=\"\" colspan=\"\"> 16 </td>\n",
    "<td class=\"highlight_\" rowspan=\"\" colspan=\"\"> unknown </td>\n",
    "</tr>\n",
    "<tr>\n",
    "<td class=\"highlight_\" rowspan=\"\" colspan=\"\"> 6 </td>\n",
    "<td class=\"highlight_\" rowspan=\"\" colspan=\"\"> 21 </td>\n",
    "<td class=\"highlight_\" rowspan=\"\" colspan=\"\"> unknown </td>\n",
    "</tr>\n",
    "<tr>\n",
    "<td class=\"highlight_\" rowspan=\"\" colspan=\"\"> 7 </td>\n",
    "<td class=\"highlight_\" rowspan=\"\" colspan=\"\"> 25 </td>\n",
    "<td class=\"highlight_\" rowspan=\"\" colspan=\"\"> unknown </td>\n",
    "</tr>\n",
    "<tr>\n",
    "<td class=\"highlight_\" rowspan=\"\" colspan=\"\"> 8 </td>\n",
    "<td class=\"highlight_\" rowspan=\"\" colspan=\"\"> 6 </td>\n",
    "<td class=\"highlight_\" rowspan=\"\" colspan=\"\"> unknown </td>\n",
    "</tr>\n",
    "<tr>\n",
    "<td class=\"highlight_\" rowspan=\"\" colspan=\"\"> 9 </td>\n",
    "<td class=\"highlight_\" rowspan=\"\" colspan=\"\"> 0 </td>\n",
    "<td class=\"highlight_\" rowspan=\"\" colspan=\"\"> unknown </td>\n",
    "</tr>\n",
    "<tr>\n",
    "<td class=\"highlight_\" rowspan=\"\" colspan=\"\"> 10 </td>\n",
    "<td class=\"highlight_\" rowspan=\"\" colspan=\"\"> 3 </td>\n",
    "<td class=\"highlight_\" rowspan=\"\" colspan=\"\"> unknown </td>\n",
    "</tr>\n",
    "<tr>\n",
    "<td class=\"highlight_\" rowspan=\"\" colspan=\"\"> 11 </td>\n",
    "<td class=\"highlight_\" rowspan=\"\" colspan=\"\"> 3 </td>\n",
    "<td class=\"highlight_\" rowspan=\"\" colspan=\"\"> unknown </td>\n",
    "</tr>\n",
    "<tr>\n",
    "<td class=\"highlight_\" rowspan=\"\" colspan=\"\"> 12 </td>\n",
    "<td class=\"highlight_\" rowspan=\"\" colspan=\"\"> 3 </td>\n",
    "<td class=\"highlight_\" rowspan=\"\" colspan=\"\"> unknown </td>\n",
    "</tr>\n",
    "<tr>\n",
    "<td class=\"highlight_\" rowspan=\"\" colspan=\"\"> 13 </td>\n",
    "<td class=\"highlight_\" rowspan=\"\" colspan=\"\"> 3 </td>\n",
    "<td class=\"highlight_\" rowspan=\"\" colspan=\"\"> unknown </td>\n",
    "</tr>\n",
    "<tr>\n",
    "<td class=\"highlight_\" rowspan=\"\" colspan=\"\"> 14 </td>\n",
    "<td class=\"highlight_\" rowspan=\"\" colspan=\"\"> 3 </td>\n",
    "<td class=\"highlight_\" rowspan=\"\" colspan=\"\"> unknown </td>\n",
    "</tr>\n",
    "<tr>\n",
    "<td class=\"highlight_\" rowspan=\"\" colspan=\"\"> 15 </td>\n",
    "<td class=\"highlight_\" rowspan=\"\" colspan=\"\"> 23 </td>\n",
    "<td class=\"highlight_\" rowspan=\"\" colspan=\"\"> unknown </td>\n",
    "</tr>\n",
    "</tbody>\n",
    "</table>\n",
    "\n",
    "The program usually logs more than the eight measurements needed for the neural network. Small shapes may not require eight measurements, in which case the last measurements recorded are about 3 – corresponding to the red line.\n",
    "\n",
    "Position Simon in front of each of the remaining three shapes to log data for them. I have done the first set of measurements for each shape in Table 4.2. Complete the table with two more sets of measurements for each shape.\n",
    "<table xmlns:str=\"http://exslt.org/strings\">\n",
    "<caption>Table 4.2 Scan data for shapes 5–8</caption>\n",
    "<tbody>\n",
    "<tr>\n",
    "<th>\n",
    "Shape\n",
    "</th>\n",
    "<th></th>\n",
    "<th>\n",
    "First circuit\n",
    "</th>\n",
    "<th>\n",
    "Second circuit\n",
    "</th>\n",
    "<th>\n",
    "Third circuit\n",
    "</th>\n",
    "</tr>\n",
    "<tr>\n",
    "<td class=\"highlight_\" rowspan=\"\" colspan=\"\">5</td>\n",
    "<td class=\"highlight_\" rowspan=\"\" colspan=\"\"> ![triangle](../tm129-19J-images/tm129_rob_p9_f020.jpg) </td>\n",
    "<td class=\"highlight_\" rowspan=\"\" colspan=\"\">\n",
    "2, 7, 9, 13, 16, 21, 25, 5\n",
    "</td>\n",
    "<td class=\"highlight_\" rowspan=\"\" colspan=\"\"></td>\n",
    "<td class=\"highlight_\" rowspan=\"\" colspan=\"\"></td>\n",
    "</tr>\n",
    "<tr>\n",
    "<td class=\"highlight_\" rowspan=\"\" colspan=\"\">6</td>\n",
    "<td class=\"highlight_\" rowspan=\"\" colspan=\"\"> ![narrow rectangle](../tm129-19J-images/tm129_rob_p9_f021.jpg) </td>\n",
    "<td class=\"highlight_\" rowspan=\"\" colspan=\"\">\n",
    "4, 6, 5, 5, 5, 5, 5, 5\n",
    "</td>\n",
    "<td class=\"highlight_\" rowspan=\"\" colspan=\"\"></td>\n",
    "<td class=\"highlight_\" rowspan=\"\" colspan=\"\"></td>\n",
    "</tr>\n",
    "<tr>\n",
    "<td class=\"highlight_\" rowspan=\"\" colspan=\"\">7</td>\n",
    "<td class=\"highlight_\" rowspan=\"\" colspan=\"\"> ![oval](../tm129-19J-images/tm129_rob_p9_f022.jpg) </td>\n",
    "<td class=\"highlight_\" rowspan=\"\" colspan=\"\">\n",
    "4, 11, 16, 21, 23, 23, 21, 13\n",
    "</td>\n",
    "<td class=\"highlight_\" rowspan=\"\" colspan=\"\"></td>\n",
    "<td class=\"highlight_\" rowspan=\"\" colspan=\"\"></td>\n",
    "</tr>\n",
    "<tr>\n",
    "<td class=\"highlight_\" rowspan=\"\" colspan=\"\">8</td>\n",
    "<td class=\"highlight_\" rowspan=\"\" colspan=\"\"> ![line](../tm129-19J-images/tm129_rob_p9_f023.jpg) </td>\n",
    "<td class=\"highlight_\" rowspan=\"\" colspan=\"\">\n",
    "4, 3, 4, 3, 3, 3, 3, 2\n",
    "</td>\n",
    "<td class=\"highlight_\" rowspan=\"\" colspan=\"\"></td>\n",
    "<td class=\"highlight_\" rowspan=\"\" colspan=\"\"></td>\n",
    "</tr>\n",
    "</tbody>\n",
    "</table>"
   ]
  },
  {
   "cell_type": "code",
   "execution_count": null,
   "metadata": {},
   "outputs": [],
   "source": [
    "import pandas as pd\n",
    "\n",
    "df = pd.DataFrame([['Pear', [5.2, 3.1]], ['Pear', [6.3, 2.4]],\n",
    "                   ['Pear', [6.7, 1.8]], ['Pear', [5.3, 2.9]],\n",
    "                   ['Banana', [8.5, 1.9]], ['Banana', [8.3, 1.6]],\n",
    "                   ['Banana', [9.7, 2.0]], ['Banana', [7.5, 1.7]],\n",
    "                   ['Strawberry', [2.1, 1.4]], ['Strawberry', [2.8, 1.8]],\n",
    "                   ['Strawberry', [2.0, 1.8]], ['Strawberry', [2.2, 2.0]],\n",
    "                   ['Orange', [4.7, 4.5]], ['Orange', [4.6, 4.2]],\n",
    "                   ['Orange', [4.6, 4.1]], ['Orange', [4.0, 3.7]]\n",
    "                  ],\n",
    "                 columns = ['Fruit', 'Input'])\n",
    "\n",
    "#Preview the first six rows\n",
    "df.head(6)"
   ]
  },
  {
   "cell_type": "code",
   "execution_count": null,
   "metadata": {},
   "outputs": [],
   "source": [
    "from sklearn.neural_network import MLPClassifier\n",
    "\n",
    "fruit = MLPClassifier(hidden_layer_sizes=(6, 6), max_iter=20)"
   ]
  },
  {
   "cell_type": "code",
   "execution_count": null,
   "metadata": {},
   "outputs": [],
   "source": [
    "# Fit the model\n",
    "fruit.fit(df['Input'].to_list(), df['Fruit'])\n",
    "\n",
    "#Check the prediction for each input\n",
    "predictions = fruit.predict(df['Input'].to_list())\n",
    "predictions"
   ]
  },
  {
   "cell_type": "code",
   "execution_count": null,
   "metadata": {},
   "outputs": [],
   "source": [
    "from sklearn.metrics import classification_report\n",
    "\n",
    "# The zero_division parameter suppresses a divide by zero warning when using zeroed parameters\n",
    "print(classification_report(df['Fruit'], predictions, zero_division=False))"
   ]
  },
  {
   "cell_type": "code",
   "execution_count": null,
   "metadata": {},
   "outputs": [],
   "source": [
    "from sklearn.metrics import confusion_matrix\n",
    "\n",
    "print(confusion_matrix(df['Fruit'], predictions))"
   ]
  },
  {
   "cell_type": "code",
   "execution_count": null,
   "metadata": {},
   "outputs": [],
   "source": [
    "from ipywidgets import interact\n",
    "\n",
    "fruit = None\n",
    "\n",
    "@interact(iterations=(100, 3000, 100), h1=(0, 10, 1), h2=(0, 10, 1))\n",
    "def trainer(iterations=2000, h1=6, h2=6):\n",
    "    global fruit\n",
    "    fruit = MLPClassifier(hidden_layer_sizes=(h1, h2), max_iter=iterations)\n",
    "    \n",
    "    # Fit the model\n",
    "    fruit.fit(df['Input'].to_list(), df['Fruit'])\n",
    "    \n",
    "    #Check the prediction for each input\n",
    "    predictions = fruit.predict(df['Input'].to_list())\n",
    "\n",
    "    print(classification_report(df['Fruit'], predictions))\n",
    "    print(confusion_matrix(df['Fruit'], predictions))"
   ]
  },
  {
   "cell_type": "markdown",
   "metadata": {},
   "source": [
    "## 4.2 Activity — training a neural network with the shape data"
   ]
  },
  {
   "cell_type": "markdown",
   "metadata": {},
   "source": [
    "Start the `Neural network editor`. Click on `File | New Network`. Clear the `For existing data` check box. Change the number of inputs to 8, the number of outputs to 8, and set the number of neurons for the `1st hidden` and `2nd hidden` layers to 10 each, as shown in Figure 4.5(a). Then click `OK`. A warning box will be shown (Figure 4.5(b)); click `OK` to confirm that you are replacing previous training data."
   ]
  },
  {
   "cell_type": "markdown",
   "metadata": {},
   "source": [
    "![figure ../tm129-19J-images/tm129_rob_p8_f04_05a.png](../tm129-19J-images/tm129_rob_p8_f04_05a.png)"
   ]
  },
  {
   "cell_type": "markdown",
   "metadata": {},
   "source": [
    "Figure 4.5 (a) `New Network` dialog box; (b) warning box"
   ]
  },
  {
   "cell_type": "markdown",
   "metadata": {},
   "source": [
    "(a) A screen dump of the New network dialog. This has two panels and OK and Cancel buttons. The top panel has a prompt: ‘Number of nodes in each layer (0 if layer does not exist)’. This is followed by four labelled input fields: ‘Output layer’, ‘2nd hidden’, ‘1st hidden’ and ‘Input layer’. The lower panel has check boxes as follows: ‘For existing data’, ‘Scanner data’ and subsidiary to that ‘Use transitions’. \n",
    "\n",
    "(b) A warning alert box which reads: ‘The current training data will be removed! Do you want to proceed?’ followed by OK and Cancel buttons.\n",
    "\n",
    "Use the outputs and labels in Table 4.3 together with the input data from Table 4.2 for your 12 data items. Remember to include spaces, not commas, when entering the data.\n",
    "<table xmlns:str=\"http://exslt.org/strings\">\n",
    "<caption>Table 4.3 Outputs for shapes 5–8</caption>\n",
    "<tbody>\n",
    "<tr>\n",
    "<th>\n",
    "Shape\n",
    "</th>\n",
    "<th></th>\n",
    "<th>\n",
    "Outputs\n",
    "</th>\n",
    "<th>\n",
    "Item label\n",
    "</th>\n",
    "</tr>\n",
    "<tr>\n",
    "<td class=\"highlight_\" rowspan=\"\" colspan=\"\">5</td>\n",
    "<td class=\"highlight_\" rowspan=\"\" colspan=\"\"> ![triangle](../tm129-19J-images/tm129_rob_p9_f020.jpg) </td>\n",
    "<td class=\"highlight_\" rowspan=\"\" colspan=\"\">\n",
    "0, 0, 0, 0, 1, 0, 0, 0\n",
    "</td>\n",
    "<td class=\"highlight_\" rowspan=\"\" colspan=\"\">\n",
    "5\n",
    "</td>\n",
    "</tr>\n",
    "<tr>\n",
    "<td class=\"highlight_\" rowspan=\"\" colspan=\"\">6</td>\n",
    "<td class=\"highlight_\" rowspan=\"\" colspan=\"\"> ![narrow rectangle](../tm129-19J-images/tm129_rob_p9_f021.jpg) </td>\n",
    "<td class=\"highlight_\" rowspan=\"\" colspan=\"\">\n",
    "0, 0, 0, 0, 0, 1, 0, 0\n",
    "</td>\n",
    "<td class=\"highlight_\" rowspan=\"\" colspan=\"\">\n",
    "6\n",
    "</td>\n",
    "</tr>\n",
    "<tr>\n",
    "<td class=\"highlight_\" rowspan=\"\" colspan=\"\">7</td>\n",
    "<td class=\"highlight_\" rowspan=\"\" colspan=\"\"> ![oval](../tm129-19J-images/tm129_rob_p9_f022.jpg) </td>\n",
    "<td class=\"highlight_\" rowspan=\"\" colspan=\"\">\n",
    "0, 0, 0, 0, 0, 0, 1, 0\n",
    "</td>\n",
    "<td class=\"highlight_\" rowspan=\"\" colspan=\"\">\n",
    "7\n",
    "</td>\n",
    "</tr>\n",
    "<tr>\n",
    "<td class=\"highlight_\" rowspan=\"\" colspan=\"\">8</td>\n",
    "<td class=\"highlight_\" rowspan=\"\" colspan=\"\"> ![line](../tm129-19J-images/tm129_rob_p9_f023.jpg) </td>\n",
    "<td class=\"highlight_\" rowspan=\"\" colspan=\"\">\n",
    "0, 0, 0, 0, 0, 0, 0, 1\n",
    "</td>\n",
    "<td class=\"highlight_\" rowspan=\"\" colspan=\"\">\n",
    "8\n",
    "</td>\n",
    "</tr>\n",
    "</tbody>\n",
    "</table>\n",
    "\n",
    "When you have entered your data, save the network with the name `my_net` in the `week-8` folder by clicking on `File | Save As …`. (The neural network editor will add the extension `nnd` to make the complete filename `my_net.nnd`.)\n",
    "\n",
    "My data appeared as follows, but yours will be different:"
   ]
  },
  {
   "cell_type": "markdown",
   "metadata": {},
   "source": [
    "![figure ../tm129-19J-images/tm129_rob_p9_f027.jpg](../tm129-19J-images/tm129_rob_p9_f027.jpg)\n",
    "\n",
    "Sample training data from the Neural network editor list. \n",
    "\n",
    " Tr 1:     2 7 9 13 16 21 25 5 » 0 0 0 0 1 0 0 0 ‘5’ \n",
    "\n",
    " Tr 2:     4 6 5 5 5 5 5 5 » 0 0 0 0 0 1 0 0 ‘6’ \n",
    "\n",
    " Tr 3:     4 11 16 21 23 23 21 13 » 0 0 0 0 0 0 1 0 ‘7’ \n",
    "\n",
    " Tr 4:     4 3 4 3 3 3 3 2 » 0 0 0 0 0 0 0 1 ‘8’ \n",
    "\n",
    " Tr 5:     2 6 8 11 15 21 24 6 » 0 0 0 0 1 0 0 0 ‘5’ \n",
    "\n",
    " Tr 6:     4 6 5 5 5 5 5 5 » 0 0 0 0 0 1 0 0 ‘6’ \n",
    "\n",
    " Tr 7:     4 12 17 21 23 22 19 3 » 0 0 0 0 0 0 1 0 ‘7’ \n",
    "\n",
    " Tr 8:     2 3 3 3 3 3 3 3 » 0 0 0 0 0 0 0 1 ‘8’ \n",
    "\n",
    " Tr 9:     3 6 9 13 17 21 25 4 » 0 0 0 0 1 0 0 0 ‘5’ \n",
    "\n",
    " Tr 10:   4 6 5 5 5 5 5 5 » 0 0 0 0 0 1 0 0 ‘6’ \n",
    "\n",
    " Tr 11:   3 13 18 22 23 23 19 1 » 0 0 0 0 0 0 1 0 ‘7’ \n",
    "\n",
    " Tr 12:   3 3 3 3 3 3 3 3 » 0 0 0 0 0 0 0 1 ‘8’ \n",
    "\n",
    "Click on `Seed and Scale` and then `Cycle Until`. Your network should train, with all the training items correctly classified.\n",
    "\n",
    "To save your trained neural network, click on `File | Save`. The trained network can now be used to classify new unseen data. This network will be used in the next activity. Make sure it has the name `my_net.nnd`, otherwise the next activity will not work properly."
   ]
  },
  {
   "cell_type": "markdown",
   "metadata": {},
   "source": [
    "## 4.3 Activity — running the simon–pc two-agent system"
   ]
  },
  {
   "cell_type": "markdown",
   "metadata": {},
   "source": [
    "Open the `Classify_my_block_data` program. The configuration for this program assumes that the file `my_net.nnd` which you previously created is in the same folder; that is, `week-8`. The simulation window will show the objects in <a xmlns:str=\"http://exslt.org/strings\" href=\"\">Figure 4.3</a>. Place Simon in front of the triangular object, as shown in Figure 4.3, and run the program.\n",
    "\n",
    "You should find that Simon scans the objects, stops, sends the data log to the PC, receives back a classification, recognises the object, and says the correct number, or says that the object was not recognised. If you run into problems, you can run the program using my trained neural network by running the `Classify_CT_block_data` program.\n"
   ]
  },
  {
   "cell_type": "markdown",
   "metadata": {},
   "source": [
    "## Summary\n",
    "\n",
    "learn how we can make a more responsive system where the robot explores the world on its own and sends image data back to the notebook, where an agent responds with confident digit identifications back to the robot that announces what it has seen."
   ]
  }
 ],
 "metadata": {
  "jupytext": {
   "cell_metadata_filter": "-all",
   "formats": "ipynb,.md//md"
  },
  "kernelspec": {
   "display_name": "Python 3",
   "language": "python",
   "name": "python3"
  },
  "language_info": {
   "codemirror_mode": {
    "name": "ipython",
    "version": 3
   },
   "file_extension": ".py",
   "mimetype": "text/x-python",
   "name": "python",
   "nbconvert_exporter": "python",
   "pygments_lexer": "ipython3",
   "version": "3.7.6"
  }
 },
 "nbformat": 4,
 "nbformat_minor": 4
}
