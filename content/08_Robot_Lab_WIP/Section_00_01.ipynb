{
 "cells": [
  {
   "cell_type": "markdown",
   "metadata": {},
   "source": [
    "# 1 Introduction"
   ]
  },
  {
   "cell_type": "markdown",
   "metadata": {},
   "source": [
    "In the previous session, you had an opportunity to experiment hands-on with some neural networks. You may have finished that lab session wondering how neural networks can be built into real robots, particularly low-cost robots rather than expensive cutting-edge robots found only in research labs. In this session, you will find out.\n",
    "\n",
    "The robot simulator we're using was originally designed to simulate the behaviour of a Lego Mindstorms EV3 controlled robot. The EV3 brick is excellent for introductory robotics, but it has limitations: it has a limited amount of memory, and it only supports integer arithmetic. This makes it impractical to train anything other than a small neural network on a Lego EV3 robot, although we may be able to use pre-trained models to perform \"on-device\" classification tasks.\n",
    "\n",
    "In general, we are often faced with the problem that we may want to run powerful programs on low-cost hardware that really isn't up to the job. Upgrading a robot with a more powerful processor might not be a solution because it adds cost and may demand extra electrical power. In turn, this might require a larger battery, which adds more weight. Which means you need more powerful electrical motors to move the robot, a bigger power supply to drive the motors, and more weight. You can probably see where this argument leads?!\n",
    "\n",
    "A possible alternative is to think about a *multi-agent* systems approach, using a low-cost robot as a mobile agent to gather data and send that back to a powerful computer for processing. In a simple case we might have two agents: a Lego mobile robot and a personal computer (PC). We let the Lego robot do what it does best – move around while logging data – and then send the data back to the PC for processing. The PC processes the data using a trained neural network, or perhaps a complex rule based system, and sends back a message to the robot giving an appropriate response.\n",
    "\n",
    "In this session, we will explore various ways in which our simulated robot can \"offload\" a task such as a recognition task to an external service operating elsewhere.\n",
    "\n",
    "*ROS*, the *Robot Operating System*, provides one possible architecture for implementing such systems. In a ROS environment, separate *nodes* publish details of one or more *services* they can perform along with *topics* that act act as the nodes address that other nodes can subscribe. Nodes then pass messages between each other in order to perform a particular task. The ROS architecture is rather elaborate for our needs, however, so we shall use a much simpler and more direct approach.\n",
    "\n",
    "The approach we will use, although much simpler approach than the full ROS architecture, will also be based on a message passing approach. To begin with, we will train a simple MLP network using the MNIST digits data in the Python environment attached to the notebook. We will then log image sensor data from the simulated robot and copy it into the notebook data log. From the data in the data log, we will then see if the MLP can recognise the digits.\n",
    "\n",
    "After testing this approach, we will then explore a simple message passing protocol where the simulated robot sends a message to the Python environment containing the image sensor data, the data is run through the MLP, and the classification response is sent back to the simulated robot."
   ]
  },
  {
   "cell_type": "markdown",
   "metadata": {},
   "source": [
    "## Using a pre-trained MLP to categorise light sensor array data logged from the simulator\n",
    "\n",
    "The *MNIST_Digits* simulator background includes various digit images from the MNIST dataset, arranged in a grid.\n",
    "\n",
    "Alongside each digit is a grey square, where the grey level is used to encode the actual label associated with the image. (You can see how the background was created in the `Background Image Generator.ipynb` notebook.)\n",
    "\n",
    "In this notebook, you will use the light sensor as a simple low resolution camera, working with the pixel array data rather then the single value reflected light value.\n",
    "\n",
    "*Note that this functionionality is not supported by the real Lego light sensor.*\n",
    "\n",
    "\n",
    "## TO DO - should we have a figure showing pushing the data?\n",
    "\n",
    "Let's start by loading in the simulator:"
   ]
  },
  {
   "cell_type": "code",
   "execution_count": null,
   "metadata": {},
   "outputs": [],
   "source": [
    "from nbev3devsim.load_nbev3devwidget import roboSim, eds\n",
    "\n",
    "%load_ext nbev3devsim"
   ]
  },
  {
   "cell_type": "code",
   "execution_count": null,
   "metadata": {},
   "outputs": [],
   "source": [
    "%sim_magic -x 350"
   ]
  },
  {
   "cell_type": "markdown",
   "metadata": {},
   "source": [
    "In order to collect the sensor image data, if the simulated robot program `print()` message starts with the word `image_data`, then we can send light sensor array data from the left, right or both light sensorts to a data log in the noteobok Python environment.\n",
    "\n",
    "The `-R` switch in magic at the start of the following code cell will run the program in the simulator once it has been downloaded.  "
   ]
  },
  {
   "cell_type": "code",
   "execution_count": null,
   "metadata": {},
   "outputs": [],
   "source": [
    "%%sim_magic_preloaded -b MNIST_Digits -O -R -x 400 -y 50\n",
    "\n",
    "# Configure a light sensor\n",
    "colorLeft = ColorSensor(INPUT_2)\n",
    "\n",
    "#Sample the light sensor reading\n",
    "sensor_value = colorLeft.reflected_light_intensity\n",
    "\n",
    "# This is a command invocation rather than a print statement\n",
    "print(\"image_data left\")\n",
    "# The command is responded to by\n",
    "# the \"Image data logged...\" message display"
   ]
  },
  {
   "cell_type": "markdown",
   "metadata": {},
   "source": [
    "As we're going to be collecting data from the simulator into the notebook Python enviornment, we should take the precaution of clearing the notebook datalog before we start using it:"
   ]
  },
  {
   "cell_type": "code",
   "execution_count": null,
   "metadata": {},
   "outputs": [],
   "source": [
    "roboSim.clear_datalog()"
   ]
  },
  {
   "cell_type": "markdown",
   "metadata": {},
   "source": [
    "We can then run the data collection routine by calling a simple line magic that teleports the robot to a specific location, runs the data collection program (`-R`) and pushes the light sensor array data to the notebook Python environment:"
   ]
  },
  {
   "cell_type": "code",
   "execution_count": null,
   "metadata": {},
   "outputs": [],
   "source": [
    "%sim_magic -R -x 400 -y 850\n",
    "\n",
    "# Wait a moment to give data time to synchronise\n",
    "import time\n",
    "time.sleep(1)"
   ]
  },
  {
   "cell_type": "markdown",
   "metadata": {},
   "source": [
    "We need to wait a few moments for the program to execute and the data to be sent to the notebook Python environment.\n",
    "\n",
    "Note that this is a different approach to the one we used in an earlier notebook where we *pulled* a copy of the simple sensor datalog *from the simulator* into the notebook.\n",
    "\n",
    "In the current example, the simulator is *pushing* the light sensor array data to the notebook each time the robot sends a particular message to the simulator output window.\n",
    "\n",
    "With the data pushed from the simulator to the notebook Python environment, we should be able to see a dataframe containing the retrieved data:"
   ]
  },
  {
   "cell_type": "code",
   "execution_count": null,
   "metadata": {},
   "outputs": [],
   "source": [
    "roboSim.image_data()"
   ]
  },
  {
   "cell_type": "markdown",
   "metadata": {},
   "source": [
    "### Previewing the sampled sensor array\n",
    "\n",
    "The data representing the image is a long list of RGB (red green, blue) valaues. We can generate an image from a the a specific row of the dataframe, given it the row index:"
   ]
  },
  {
   "cell_type": "code",
   "execution_count": null,
   "metadata": {},
   "outputs": [],
   "source": [
    "from nn_tools.sensor_data import generate_image, zoom_img\n",
    "index = -1 # Get the last image in the dataframe\n",
    "\n",
    "img = generate_image(roboSim.image_data(), index, mode='rgb')\n",
    "zoom_img(img)"
   ]
  },
  {
   "cell_type": "markdown",
   "metadata": {
    "tags": [
     "alert-warning"
    ]
   },
   "source": [
    "If you don't see a figure image displayed, check that the robot is placed over a figure by reviewing the sensor array display in the simulator. If the image is there, rerun the previous code cell to see if the data is now available. If it isn't, rerun the data collecting magic cell, wait a view seconds, and then try to view the zoomed image display."
   ]
  },
  {
   "cell_type": "markdown",
   "metadata": {},
   "source": [
    "We can check the color depth of the image by calling the `.getbands()` method on it:"
   ]
  },
  {
   "cell_type": "code",
   "execution_count": null,
   "metadata": {},
   "outputs": [],
   "source": [
    "img.getbands()"
   ]
  },
  {
   "cell_type": "markdown",
   "metadata": {},
   "source": [
    "As we might expect from the robot color sensor, this is a tri-band, RGB image.\n",
    "\n",
    "Alternatively, we can generate an image directly as a greyscale image, either by setting the mode explicity or by omitting it (`mode=greyscale` is the default setting):"
   ]
  },
  {
   "cell_type": "code",
   "execution_count": null,
   "metadata": {},
   "outputs": [],
   "source": [
    "img = generate_image(roboSim.image_data(), index)\n",
    "zoom_img(img)\n",
    "\n",
    "img.getbands()"
   ]
  },
  {
   "cell_type": "markdown",
   "metadata": {},
   "source": [
    "The images we trained the network on were size 28 x 28 pixels. The raw images retrieved from the simulator sensor are slightly smaller, coming in at 20 x 20 pixels."
   ]
  },
  {
   "cell_type": "code",
   "execution_count": null,
   "metadata": {},
   "outputs": [],
   "source": [
    "img.size"
   ]
  },
  {
   "cell_type": "markdown",
   "metadata": {},
   "source": [
    "The collected image also represents square profile around the \"circular\" sensor view. We might thus reasonably decide that we are going to focus our attention on the 14 x 14 square area in the centre of the collected image, with top left pixel `(3, 3)`."
   ]
  },
  {
   "cell_type": "code",
   "execution_count": null,
   "metadata": {},
   "outputs": [],
   "source": [
    "zoom_img(img)"
   ]
  },
  {
   "cell_type": "markdown",
   "metadata": {},
   "source": [
    "One of the advantages of using the Python `PIL` package is that a range of *methods* (that is, *functions*) are defined on each image object that allow us to manipulate it *as an image*. (We can then also access the data defining the transformed image *as data* if we need it in that format.)\n",
    "\n",
    "We can preview the area in our sampled image by cropping the image to the area of interest:"
   ]
  },
  {
   "cell_type": "code",
   "execution_count": null,
   "metadata": {},
   "outputs": [],
   "source": [
    "img = generate_image(roboSim.image_data(), index,\n",
    "                    crop=(3, 3, 17, 17))\n",
    "\n",
    "display(img.size)\n",
    "zoom_img( img )"
   ]
  },
  {
   "cell_type": "markdown",
   "metadata": {},
   "source": [
    "In order to present this image as a test image to the trained MLP, we need to resize it so that it is the same size as the original training images (28 x 28 pixels).\n",
    "\n",
    "We can do this by passing the desired size via the `resize` parameter, setting it either to a specified size, such as `resize=(28, 28)` (that is, 28 x 28 pixels) or back to the original, uncropped image size (`resize=('auto')`): "
   ]
  },
  {
   "cell_type": "code",
   "execution_count": null,
   "metadata": {},
   "outputs": [],
   "source": [
    "img = generate_image(roboSim.image_data(), index,\n",
    "                    crop=(3, 3, 17, 17),\n",
    "                    resize = (28, 28))\n",
    "\n",
    "zoom_img( img )"
   ]
  },
  {
   "cell_type": "markdown",
   "metadata": {},
   "source": [
    "### Collecting some sample images\n",
    "\n",
    "The handwritten digit image centre locations on the *MINIST_Digits* simulator background can be found at the following locations:\n",
    "\n",
    "- along rows `100` pixels apart, starting at `x=100` and ending at `x=2000`;\n",
    "- along columns `100` pixels apart, starting at `y=50` and ending at `y=1050`.\n",
    "\n",
    "We can collect the samples up a column by using line magic to teleport the simulated robot to each new location in turn and automatically run the program to log the sensor data.\n",
    "\n",
    "To start, let's just check we can generate the required *y* values:"
   ]
  },
  {
   "cell_type": "code",
   "execution_count": null,
   "metadata": {},
   "outputs": [],
   "source": [
    "# Generate a list of integers with desired range and gap\n",
    "min_value = 50\n",
    "max_value = 1050\n",
    "step = 100\n",
    "\n",
    "list(range(min_value, max_value+1, step))"
   ]
  },
  {
   "cell_type": "markdown",
   "metadata": {},
   "source": [
    "Using this as a pattern, we can now create a simple script to clear the datalog, then iterate throug the desired *y* locations, using line magic to locate the robot at each step and run the already downloaded image sampling program.\n",
    "\n",
    "To access the value of the iterated *y* value in the magic, we need to prefix it with a `$` when we refer to it. Note that we also use the `tqdm.notebook.trange` argument to define the range: this enhance the range iterator to provide an interactive progress bar that allows us to follw the progress of the iterator."
   ]
  },
  {
   "cell_type": "code",
   "execution_count": null,
   "metadata": {},
   "outputs": [],
   "source": [
    "# Provide a progress bar when iterating through the range\n",
    "from tqdm.notebook import trange\n",
    "\n",
    "# We need to add a short delay between iterations to give\n",
    "# the data time to synchronise\n",
    "import time\n",
    "\n",
    "# Clear the datalog so we know it's empty\n",
    "roboSim.clear_datalog()\n",
    "\n",
    "for _y in trange(min_value, max_value+1, step):\n",
    "    %sim_magic -R -x 100 -y $_y\n",
    "    # Give the data time to synchronise\n",
    "    time.sleep(1)"
   ]
  },
  {
   "cell_type": "markdown",
   "metadata": {},
   "source": [
    "We can view the collected samples via a *pandas* dataframe:"
   ]
  },
  {
   "cell_type": "code",
   "execution_count": null,
   "metadata": {},
   "outputs": [],
   "source": [
    "image_data_df = roboSim.image_data()\n",
    "image_data_df"
   ]
  },
  {
   "cell_type": "markdown",
   "metadata": {},
   "source": [
    "We can preview a specified row of the dataframe as zoomed in image:"
   ]
  },
  {
   "cell_type": "code",
   "execution_count": null,
   "metadata": {},
   "outputs": [],
   "source": [
    "# Preview the last image in the dataframe\n",
    "index = -1\n",
    "\n",
    "zoom_img( generate_image(image_data_df, index) )"
   ]
  },
  {
   "cell_type": "markdown",
   "metadata": {},
   "source": [
    "We can also convert the image to a black and white image by setting pixels above a specified threshold value to white (`255`), otherwise coloring the pixel black (`0`).\n",
    "\n",
    "Run the following code cell to create a simple interactive application to explore this behaviour.\n",
    "\n",
    "Experiment with using the *index* slide to select the image and the *threshold* slider to set the threshold value. \n",
    "\n",
    "Press the *Run Interact* button to see the effect of creating the black and white version of the selected image using the specified threshold value.\n",
    "\n",
    "The *crop* checkbox allows you to just focus on the central area of the image; the *original* checkbox lets"
   ]
  },
  {
   "cell_type": "code",
   "execution_count": null,
   "metadata": {},
   "outputs": [],
   "source": [
    "from nn_tools.sensor_data import generate_bw_image\n",
    "from ipywidgets import interact_manual\n",
    "\n",
    "@interact_manual(threshold=(0, 255),\n",
    "                 index=(0, len(image_data_df)-1))\n",
    "def bw_preview(index=0, threshold=200, crop=False):\n",
    "    # Optionally crop to the centre of the image\n",
    "    _crop = (3, 3, 17, 17) if crop else None\n",
    "    _original_img = generate_image(image_data_df, index) \n",
    "    _demo_img = generate_bw_image(image_data_df, index,\n",
    "                                  threshold=threshold,\n",
    "                                  crop=_crop)\n",
    "    zoom_img( _original_img)\n",
    "    zoom_img( _demo_img )\n",
    "\n",
    "    # Uncomment the following line to view the actual size images\n",
    "    #display(_original_img, _demo_img)"
   ]
  },
  {
   "cell_type": "markdown",
   "metadata": {},
   "source": [
    "## Loading in a previously save MLP model\n",
    "\n",
    "Rather than train a new model, we can load in an MLP we have trained previously. Remember, when using a neural network model, we need to make sure that we know how many inputs it expects, which in our case matches the size of presented images.\n",
    "\n",
    "You can either use the pretrained model that is provided in the same directory as this notebook (`mlp_mnist.joblib`), or use your own model created in an earlier notebook."
   ]
  },
  {
   "cell_type": "code",
   "execution_count": null,
   "metadata": {},
   "outputs": [],
   "source": [
    "# Load model\n",
    "from joblib import load\n",
    "\n",
    "MLP = load('mlp_mnist14x14.joblib')"
   ]
  },
  {
   "cell_type": "code",
   "execution_count": null,
   "metadata": {},
   "outputs": [],
   "source": [
    "# Network inputs, hidden later sizes\n",
    "MLP.n_features_in_,  MLP.n_layers_, MLP.n_outputs_, MLP.hidden_layer_sizes\n",
    "#dir(MLP)"
   ]
  },
  {
   "cell_type": "code",
   "execution_count": null,
   "metadata": {},
   "outputs": [],
   "source": [
    "MLP2 = load('mlp_mnist28x28.joblib')\n",
    "import math\n",
    "MLP2.n_features_in_, int(math.sqrt(MLP2.n_features_in_)), MLP2.n_layers_, MLP2.n_outputs_, MLP2.hidden_layer_sizes\n",
    "#dir(MLP)"
   ]
  },
  {
   "cell_type": "markdown",
   "metadata": {},
   "source": [
    "### Using the pre-trained classifier to recognise sampled images\n",
    "\n",
    "What happens if we now try to recognise images sampled from the simulator light sensor array using our previously trained MLP classifier?"
   ]
  },
  {
   "cell_type": "code",
   "execution_count": null,
   "metadata": {},
   "outputs": [],
   "source": [
    "# Get a random image index value\n",
    "index = random.randint(0, len(image_data_df)-1)\n",
    "        \n",
    "# Generate the test image as a black and white image\n",
    "test_image = generate_bw_image(image_data_df, index,\n",
    "                               threshold=127,\n",
    "                               crop=(3, 3, 17, 17))\n",
    "\n",
    "# Display a zoomed version of the test image\n",
    "zoom_img(test_image)\n",
    "\n",
    "# Print the class prediction report\n",
    "image_class_predictor(MLP, test_image);"
   ]
  },
  {
   "cell_type": "markdown",
   "metadata": {},
   "source": [
    "How well did the classifier perform?"
   ]
  },
  {
   "cell_type": "markdown",
   "metadata": {
    "student": true
   },
   "source": [
    "*Make your own notes and observations about the MLP's performance here. If anything strikes you as unusual, why do you think the MLP is performing the way it is?*"
   ]
  },
  {
   "cell_type": "markdown",
   "metadata": {},
   "source": [
    "We can create a simple interactive application to test the other images more easily:"
   ]
  },
  {
   "cell_type": "code",
   "execution_count": null,
   "metadata": {},
   "outputs": [],
   "source": [
    "from nn_tools.network_views import image_class_predictor\n",
    "\n",
    "@interact_manual(threshold=(0, 255),\n",
    "                 index=(0, len(image_data_df)-1))\n",
    "def test_image(index=0, threshold=200, show_image=False):\n",
    "    # Create the test image\n",
    "    test_image = generate_bw_image(image_data_df, index, \n",
    "                                   threshold=threshold,\n",
    "                                   crop=(3, 3, 17, 17))\n",
    "    \n",
    "    # Generate class prediction chart\n",
    "    image_class_predictor(MLP, test_image)\n",
    "    \n",
    "    if show_image:\n",
    "        zoom_img(test_image)\n"
   ]
  },
  {
   "cell_type": "markdown",
   "metadata": {},
   "source": [
    "In general, how well does the classifier appear to perform?"
   ]
  },
  {
   "cell_type": "markdown",
   "metadata": {
    "student": true
   },
   "source": [
    "*Record your own notes and observations about the behaviour and performance of the MLP here.*"
   ]
  },
  {
   "cell_type": "markdown",
   "metadata": {
    "activity": true
   },
   "source": [
    "## Activity — Collecting image sample data at a specific location\n",
    "\n",
    "Write a simple line magic command to collect the image data for the handwritten digit centred on the location `(600, 750)`.\n",
    "\n",
    "Note that you may need to wait a short time between running the data collection program and trung to view it.\n",
    "\n",
    "Display a zoomed version of the image in the notebook. By observation, what digit does it represent?\n",
    "\n",
    "Using the `image_class_predictor()` function, how does the trained MLP classify the image? Does this match your observation?\n",
    "\n",
    "Increase the light sensor noise in the simulator to its maximum value and collect and test the data again. How well does the network perform this time?"
   ]
  },
  {
   "cell_type": "code",
   "execution_count": null,
   "metadata": {
    "student": true
   },
   "outputs": [],
   "source": [
    "# Your image sampling code here\n"
   ]
  },
  {
   "cell_type": "code",
   "execution_count": null,
   "metadata": {
    "student": true
   },
   "outputs": [],
   "source": [
    "# Your image viewing code here\n"
   ]
  },
  {
   "cell_type": "markdown",
   "metadata": {
    "student": true
   },
   "source": [
    "*From your own observation, record which digit is represented by the image here.*"
   ]
  },
  {
   "cell_type": "code",
   "execution_count": null,
   "metadata": {
    "student": true
   },
   "outputs": [],
   "source": [
    "# How does the trained MLP classify the image?\n"
   ]
  },
  {
   "cell_type": "markdown",
   "metadata": {
    "student": true
   },
   "source": [
    "*How well does the prediction match your observation? Is the MLP confident in its prediction?*"
   ]
  },
  {
   "cell_type": "markdown",
   "metadata": {
    "student": true
   },
   "source": [
    "Increase the level of light sensor noise to it's maximum value and rerun the experiment:"
   ]
  },
  {
   "cell_type": "code",
   "execution_count": null,
   "metadata": {
    "student": true
   },
   "outputs": [],
   "source": [
    "# Collect data with noise\n"
   ]
  },
  {
   "cell_type": "code",
   "execution_count": null,
   "metadata": {
    "student": true
   },
   "outputs": [],
   "source": [
    "# Preview image with noise\n"
   ]
  },
  {
   "cell_type": "code",
   "execution_count": null,
   "metadata": {
    "student": true
   },
   "outputs": [],
   "source": [
    "# Classify image with noise\n"
   ]
  },
  {
   "cell_type": "markdown",
   "metadata": {
    "student": true
   },
   "source": [
    "*Your notes and observations on how well the network performed the classfication task in the presece of sensor noise.*"
   ]
  },
  {
   "cell_type": "markdown",
   "metadata": {
    "activity": true
   },
   "source": [
    "#### Discussion\n",
    "\n",
    "*Click on the arrow in the sidebar or run this cell to reveal my observations.*"
   ]
  },
  {
   "cell_type": "markdown",
   "metadata": {
    "activity": true
   },
   "source": [
    "We can collect the image data by calling the `%sim_magic` with the `-R` switch so that it runs the current program directly. We also need to set the location using the `-x` and `-y` parameters."
   ]
  },
  {
   "cell_type": "code",
   "execution_count": null,
   "metadata": {
    "activity": true
   },
   "outputs": [],
   "source": [
    "%sim_magic -R -x 600 -y 750"
   ]
  },
  {
   "cell_type": "markdown",
   "metadata": {
    "activity": true
   },
   "source": [
    "To view the result, we can zoom the display of the last collected image in the notebook synched datalog."
   ]
  },
  {
   "cell_type": "code",
   "execution_count": null,
   "metadata": {
    "activity": true
   },
   "outputs": [],
   "source": [
    "index = -1 # Get data for the last image\n",
    "my_img = generate_image(roboSim.image_data, -1)\n",
    "zoom_img(my_img)"
   ]
  },
  {
   "cell_type": "markdown",
   "metadata": {
    "activity": true
   },
   "source": [
    "By my observation, the digit represented by the image at the specified location is a figure `0`.\n",
    "\n",
    "The trained MLP classifies the object as follows:"
   ]
  },
  {
   "cell_type": "code",
   "execution_count": null,
   "metadata": {},
   "outputs": [],
   "source": [
    "image_class_predictor(MLP, my_img)"
   ]
  },
  {
   "cell_type": "markdown",
   "metadata": {},
   "source": [
    "###### Th matches my prediction"
   ]
  },
  {
   "cell_type": "code",
   "execution_count": null,
   "metadata": {},
   "outputs": [],
   "source": [
    "## Activity — "
   ]
  },
  {
   "cell_type": "markdown",
   "metadata": {},
   "source": [
    "## Collecting digit image and class data from the simulator\n",
    "\n",
    "If you look carefully at the *MNIST_Digits* background in the simulator, you will see that "
   ]
  },
  {
   "cell_type": "code",
   "execution_count": null,
   "metadata": {},
   "outputs": [],
   "source": [
    "%%sim_magic_preloaded -b MNIST_Digits -O -R -A -x 400 -y 50\n",
    "\n",
    "#Sample the light sensor reading\n",
    "sensor_value = colorLeft.reflected_light_intensity\n",
    "\n",
    "# This is a command invocation rather than a print statement\n",
    "print(\"image_data both\")"
   ]
  },
  {
   "cell_type": "code",
   "execution_count": null,
   "metadata": {},
   "outputs": [],
   "source": [
    "from nn_tools.sensor_data import get_sensor_image_pair\n",
    "\n",
    "# The sample we want from the logged image data\n",
    "_index = 10\n",
    "\n",
    "left_img, right_img = get_sensor_image_pair(roboSim.image_data, _index)\n",
    "\n",
    "display(left_img, right_img)"
   ]
  },
  {
   "cell_type": "markdown",
   "metadata": {},
   "source": [
    "## Activity — Collecting image sample data from the *MNIST_Digits* background\n",
    "\n",
    "In this activity, you will need to collect sample data from the simulator to test the ability of the network to correctly identify \n"
   ]
  },
  {
   "cell_type": "markdown",
   "metadata": {},
   "source": [
    "#### Discussion\n",
    "\n",
    "*Click on the arrow in the sidebar or run this cell to reveal my observations.*"
   ]
  },
  {
   "cell_type": "markdown",
   "metadata": {},
   "source": [
    "## Activity\n",
    "\n",
    "Briefly describe how you would train a network using this data in the form of a set of placeholder comments that might comment the steps an appropriate program would take. *You do not need to actually train the network, or write the code to train the network.*"
   ]
  },
  {
   "cell_type": "markdown",
   "metadata": {},
   "source": [
    "#### Discussion\n",
    "\n",
    "*Click on the arrow in the sidebar or run this cell to reveal my observations.*"
   ]
  },
  {
   "cell_type": "code",
   "execution_count": null,
   "metadata": {},
   "outputs": [],
   "source": [
    "%%sim_magic -R\n",
    "print(\"image_data left\")"
   ]
  },
  {
   "cell_type": "code",
   "execution_count": null,
   "metadata": {},
   "outputs": [],
   "source": [
    "dataX = roboSim.image_data()\n",
    "dataX"
   ]
  },
  {
   "cell_type": "code",
   "execution_count": null,
   "metadata": {},
   "outputs": [],
   "source": [
    "test_collected_imageX = collected_image(dataX, -)\n",
    "image_class_predictor(MPL, test_collected_imageX)"
   ]
  },
  {
   "cell_type": "markdown",
   "metadata": {},
   "source": [
    "Scaling filter so we have all sorts of other possible sources of confusion stepping in."
   ]
  },
  {
   "cell_type": "markdown",
   "metadata": {},
   "source": [
    "Predictions seem to be very very sensitive the central location of the digit? A single pixel change in direction around (426, 155) can result in completely different classifications.\n",
    "\n",
    "## `gradio` ??"
   ]
  },
  {
   "cell_type": "code",
   "execution_count": null,
   "metadata": {},
   "outputs": [],
   "source": [
    "#!pip install gradio\n",
    "# There are a lot of dependencies; try installing without deps\n",
    "# and see if the minimal UI works."
   ]
  },
  {
   "cell_type": "markdown",
   "metadata": {},
   "source": [
    "TO DO - could we train the data with some \"jiggle\" to the image, adding in black background for off-margin?"
   ]
  },
  {
   "cell_type": "code",
   "execution_count": null,
   "metadata": {},
   "outputs": [],
   "source": []
  },
  {
   "cell_type": "code",
   "execution_count": null,
   "metadata": {},
   "outputs": [],
   "source": [
    "image_data_flat = np.array(image_data_df.iloc[0]['vals'].split(',')).astype(np.uint8)\n",
    "len(image_data_flat), image_data_flat\n"
   ]
  },
  {
   "cell_type": "code",
   "execution_count": null,
   "metadata": {},
   "outputs": [],
   "source": [
    "MLP.predict([list(resize_collected_image2.getdata())])[0]"
   ]
  },
  {
   "cell_type": "code",
   "execution_count": null,
   "metadata": {
    "lines_to_next_cell": 2
   },
   "outputs": [],
   "source": [
    "np.array(image_data_df.loc[0,'vals'].split)"
   ]
  },
  {
   "cell_type": "markdown",
   "metadata": {},
   "source": [
    "## Trying to get a convolutional neural network (CNN) running\n",
    "\n",
    "Although training a convolutional neural netwrok can take quite a lot of time, and a *lot* of computational effort, off-the-shelf pretrained models are also increasingly available. However, whilst this means you may be able to get started on a recognition task without the requirement to build your own model, *caveat emptor*: buyer beware. When you use a petrained model, you may not what data it ws trained against (and what biases it may include because of that), and you may not know what weaknesses there may be in the model."
   ]
  },
  {
   "cell_type": "markdown",
   "metadata": {
    "tags": [
     "alert-warning"
    ]
   },
   "source": [
    "As with any area of IT, privacy and security concerns must always be taken into account. With the increasing number of neural networks being deployed, they are starting to become attractive to attackers, although we will not be considering such matters in this module (for an example of related concerns, see *Biggio, B. and Roli, F., 2018. Wild patterns: Ten years after the rise of adversarial machine learning. Pattern Recognition, 84, pp.317-331* [[PDF](https://arxiv.org/pdf/1712.03141.pdf)]).\n",
    "\n",
    "However, you should be aware when using third party models that they may incorporate risks and threats when you come to use them. For example, __risks__ associated with *bias* in the training data used to train the network, or in its final trained performance; or __threats__ in terms of incorporating patterns that are deliberately misidentifed compared to how you might ordinarily expect them to be identified."
   ]
  },
  {
   "cell_type": "markdown",
   "metadata": {},
   "source": [
    "The following example uses a pretrained convolutional neural network model implemented as a TensorFlow Lite model. [*TensorFlow Lite*](https://www.tensorflow.org/lite/) is a framework developed to support the deployment of TensorFlow Model on internet of things (IoT) devices. As such, the models are optimised to be as small as possible and to be evaluated as computationally quickly and efficiently as possible."
   ]
  },
  {
   "cell_type": "code",
   "execution_count": null,
   "metadata": {},
   "outputs": [],
   "source": []
  },
  {
   "cell_type": "code",
   "execution_count": null,
   "metadata": {},
   "outputs": [],
   "source": [
    "from nn_tools.network_views import cnn_load\n",
    "from nn_tools.network_views import cnn_get_details\n",
    "from nn_tools.network_views import cnn_test_with_image\n",
    "from nn_tools.network_views import cnn_rank_results\n",
    "\n",
    "cnn = cnn_load(fpath='./mnist.tflite',\n",
    "               fpath_labels='./mnist_tflite_labels.txt')"
   ]
  },
  {
   "cell_type": "code",
   "execution_count": null,
   "metadata": {},
   "outputs": [],
   "source": [
    "cnn_get_details(cnn)"
   ]
  },
  {
   "cell_type": "code",
   "execution_count": null,
   "metadata": {},
   "outputs": [],
   "source": [
    "from nn_tools.sensor_data import jiggle\n",
    "\n",
    "index = 3\n",
    "cnn_test_image = generate_image(image_data_df, index, crop=(3, 3, 17, 17)).resize((28, 28))\n",
    "cnn_test_image2 = jiggle(cnn_test_image)\n",
    "\n",
    "display(cnn_test_image, cnn_test_image2)"
   ]
  },
  {
   "cell_type": "code",
   "execution_count": null,
   "metadata": {},
   "outputs": [],
   "source": [
    "# Pass retval=True to return the results values\n",
    "# pass rank=N to print top N ranked results\n",
    "cnn_test_with_image(cnn, cnn_test_image2, retval=True)"
   ]
  },
  {
   "cell_type": "code",
   "execution_count": null,
   "metadata": {},
   "outputs": [],
   "source": [
    "# test 20x20 MLP2\n",
    "image_class_predictor(MLP2, cnn_test_image2);"
   ]
  },
  {
   "cell_type": "markdown",
   "metadata": {},
   "source": [
    "## Logging lots of data\n"
   ]
  },
  {
   "cell_type": "code",
   "execution_count": null,
   "metadata": {},
   "outputs": [],
   "source": [
    "%%sim_magic_preloaded\n",
    "\n",
    "# how do we log the raw light sensor data to the datalog?\n",
    "\n",
    "\n",
    "# Configure a light sensor\n",
    "colorLeft = ColorSensor(INPUT_2)\n",
    "\n",
    "# Start the robot driving forwards\n",
    "tank_drive.on(SpeedPercent(50), SpeedPercent(50))\n",
    "\n",
    "#Sample the light sensor reading\n",
    "sensor_value = colorLeft.reflected_light_intensity\n",
    "\n",
    "#Check the light sensor reading\n",
    "while True:\n",
    "    # Whilst we are on the white background\n",
    "    # update the reading\n",
    "    sensor_value = colorLeft.reflected_light_intensity_pc\n",
    "    # and display it\n",
    "    if sensor_value < 50:\n",
    "        print(\"image_data left\")"
   ]
  },
  {
   "cell_type": "code",
   "execution_count": null,
   "metadata": {},
   "outputs": [],
   "source": [
    "data = roboSim.image_data\n",
    "data[0]"
   ]
  },
  {
   "cell_type": "code",
   "execution_count": null,
   "metadata": {},
   "outputs": [],
   "source": [
    "\n",
    "df = pd.DataFrame(columns=['side', 'vals', 'clock'])\n",
    "for r in data:\n",
    "    _r = r.split()\n",
    "    if len(_r)==3:\n",
    "        tmp=_r[1].split(',')\n",
    "        k=4\n",
    "        del tmp[k-1::k]\n",
    "        df = pd.concat([df, pd.DataFrame([{'side':_r[0],\n",
    "                                          'vals': ','.join(tmp),\n",
    "                                          'clock':_r[2]}])])\n",
    "df.reset_index(drop=True,inplace=True)\n",
    "df"
   ]
  },
  {
   "cell_type": "code",
   "execution_count": null,
   "metadata": {},
   "outputs": [],
   "source": [
    "tmp=df.iloc[14]['vals'].split(',')\n",
    "#k=4\n",
    "#del tmp[k-1::k]\n",
    "\n",
    "vv = np.array(tmp).reshape(20, 20, 3).astype(np.uint8)\n",
    "vvi = Image.fromarray(vv, 'RGB')\n",
    "vvi"
   ]
  },
  {
   "cell_type": "code",
   "execution_count": null,
   "metadata": {},
   "outputs": [],
   "source": [
    "#vvx = vvi.crop((3, 3, 19, 19)) \n",
    "vvx =vvi.resize((28, 28), Image.LANCZOS)\n",
    "vvx"
   ]
  },
  {
   "cell_type": "markdown",
   "metadata": {},
   "source": [
    "### Communicating between sim and robot"
   ]
  },
  {
   "cell_type": "markdown",
   "metadata": {},
   "source": [
    "![A diagram showing a robot and computer connected by a double ended arrow labelled ‘messages between the agents’.](../tm129-19J-images/tm129_rob_p9_f002.jpg)"
   ]
  },
  {
   "cell_type": "markdown",
   "metadata": {},
   "source": [
    "Figure 1.1 The robot and the PC as a simple example of a two-agent system"
   ]
  },
  {
   "cell_type": "markdown",
   "metadata": {},
   "source": [
    "The combination of just two agents like this creates a powerful example of a multi-agent system in which the performance of the agents is enhanced due to their interaction.\n",
    "\n",
    "Communication between the agents is very important. The Lego RCX and PC can communicate with each other using infrared messages, similar to those sent by a TV remote control. An exchange of messages needs to be governed by a *protocol* that defines what the messages mean, and how the agents should take turns in sending and receiving. It should also handle cases where messages get lost, since no communication channel is fully reliable. For example, infrared messages could be lost if the robot wanders out of range or just faces the wrong way. We will consider a simple protocol in this session.\n",
    "\n",
    "As always, in this session you will be working with Simon, our simulated autonomous robot, rather than a real mobile robot. Our two agents will therefore be Simon and RoboLab itself. Rather confusingly, both the simulation of Simon and RoboLab will be running on the same computer, so you will have to take it on trust that they are effectively independent and only communicate with the simple messages I explain below. There is no cheating, no hidden channel of communication!\n",
    "\n",
    "In Robot Lab Session 8 you will experiment using the neural network on the PC to classify data on fruit, gathered by Simon. You will also experiment by training your own network to be used remotely by the robot.\n",
    "<div xmlns:str=\"http://exslt.org/strings\" style=\"background:lightgreen\">\n",
    "<!--Heading: \n",
    "            Tip-->\n",
    "Before running any of the programs in this session we recommend that you first switch off the ‘trace’ function. Do this with the `Run | Trace` menu item.<div style=\"background:lightblue\"><p>Keyboard: Alt, R, A</p></div> (You will need to remember to do this each time you open a new program.) With the trace on, RoboLab will highlight the current statement, but this can be distracting with the long programs used here.\n",
    "</div>"
   ]
  },
  {
   "cell_type": "markdown",
   "metadata": {},
   "source": [
    "## Multi agent"
   ]
  },
  {
   "cell_type": "markdown",
   "metadata": {},
   "source": [
    "Can we find a way of getting the robot to post a message to Python, and Python to respond with a message back to the robot that the robot can respond to? \n",
    "\n",
    "The original RoboLab activities include examples of round-tripping, with the simulated robot passing state out to a remote application, which then returned a response to the simulated robot. I'm pretty sure we can do the same, either with a predefined application or a user defined function. The latter would be best because then we could have an activity to write a helper application in notebook python that is called on by the simulated robot.\n",
    "\n",
    "At the moment, I have managed to send a message to Py from the simulator via messages sent to the simulator output window. There is a callback that sends messages back from Py to the sim output window, but as yet the robot py code running in the simulator is oblivious to returned messages. (I need half a day, perhaps, a day, to actually get code into the simulator so the program code can access it.)\n",
    "\n",
    "The following recipe shows how to overwrite the default collaborative `responder()` function with a custom one."
   ]
  },
  {
   "cell_type": "code",
   "execution_count": null,
   "metadata": {},
   "outputs": [],
   "source": [
    "#Get the simulator\n",
    "from nbev3devsim import ev3devsim_nb as eds\n",
    "%load_ext nbev3devsim\n"
   ]
  },
  {
   "cell_type": "code",
   "execution_count": null,
   "metadata": {},
   "outputs": [],
   "source": [
    "# The responder callback function is called from the simulator code\n",
    "# whenever something is written to the output window.\n",
    "# see studio.js\n",
    "class CollabSim(eds.Ev3DevWidget):\n",
    "     def responder(self, obj):\n",
    "        \"\"\" Callback function that tries to respond to widget.\"\"\"\n",
    "        # obj is the message sent from the simulator\n",
    "        # we don't seem to see anything in obj?\n",
    "        #Generate a response\n",
    "        response = f'pingpongBONG {str(obj)}'\n",
    "        #Send the response back to the simulator\n",
    "        #At the moment, this is simply echoed in the simulator output window\n",
    "        self.set_element(\"response\", response)\n",
    "\n",
    "# We now create an instance of the simulator with the custom collaborative callback function\n",
    "roboSim = CollabSim()"
   ]
  },
  {
   "cell_type": "code",
   "execution_count": null,
   "metadata": {},
   "outputs": [],
   "source": [
    "## seems like we need a handshake at first?\n",
    "# First message doesn't get through?\n",
    "roboSim.set_element(\"response\", '')\n",
    "\n",
    "display(roboSim)\n",
    "roboSim.element.dialog()\n",
    "\n",
    "\n",
    "roboSim.js_init(\"\"\"\n",
    "element.dialog({ \"title\" : \"Robot Simulator\" }).dialogExtend({\n",
    "        \"maximizable\" : true,\n",
    "        \"dblclick\" : \"maximize\",\n",
    "        \"icons\" : { \"maximize\" : \"ui-icon-arrow-4-diag\" }});\n",
    "\"\"\")"
   ]
  },
  {
   "cell_type": "code",
   "execution_count": null,
   "metadata": {},
   "outputs": [],
   "source": [
    "%%sim_magic\n",
    "print('helloasassddsa')\n",
    "print('hello')\n",
    "import time\n",
    "for i in ['a','b','c']:\n",
    "    time.sleep(0.02)\n",
    "    print(i)\n",
    "    print(i)\n",
    "    time.sleep(0.02)\n",
    "import ev3dev2_glue as glue\n",
    "\n",
    "\n",
    "print('gs',glue.pyState())\n",
    "time.sleep(1)\n",
    "print('wtf?')"
   ]
  },
  {
   "cell_type": "code",
   "execution_count": null,
   "metadata": {},
   "outputs": [],
   "source": [
    "#sim code - what does this do?\n"
   ]
  },
  {
   "cell_type": "code",
   "execution_count": null,
   "metadata": {},
   "outputs": [],
   "source": [
    "%%sim_magic_preloaded\n",
    "import time\n",
    "steering_drive = MoveSteering(OUTPUT_B, OUTPUT_C)\n",
    "\n",
    "gyro = GyroSensor(INPUT_4)\n",
    "\n",
    "\n",
    "tank_drive.on(SpeedPercent(50), SpeedPercent(30))\n",
    "time.sleep(0.1)\n",
    "\n",
    "#print('left_motor_count'+tank_drive.left_motor.position_sp)\n",
    "while int(tank_drive.right_motor.position)<1000:\n",
    "    time.sleep(0.1)\n",
    "    print('left_motor_count'+str(tank_drive.left_motor.position))\n",
    "    print('right_motor_count'+str(tank_drive.right_motor.position))\n"
   ]
  },
  {
   "cell_type": "code",
   "execution_count": null,
   "metadata": {},
   "outputs": [],
   "source": []
  }
 ],
 "metadata": {
  "jupytext": {
   "formats": "ipynb,.md//md"
  },
  "kernelspec": {
   "display_name": "Python 3",
   "language": "python",
   "name": "python3"
  }
 },
 "nbformat": 4,
 "nbformat_minor": 4
}
