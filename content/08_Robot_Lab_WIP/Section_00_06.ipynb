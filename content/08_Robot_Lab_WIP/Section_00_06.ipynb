{
 "cells": [
  {
   "cell_type": "markdown",
   "metadata": {},
   "source": [
    "# 6 Summary"
   ]
  },
  {
   "cell_type": "markdown",
   "metadata": {},
   "source": [
    "In this final session, you have seen how the sequential programming approach to information processing can be combined with other approaches, such as neural network and rile based system approaches. Each of these methods of information processing has its strengths and weaknesses. When they are used together it is possible to maximise the strengths and minimise the weaknesses.\n",
    "\n",
    "This session has also given you a modest introduction to multi-agent systems. The important aspect of these from an engineering viewpoint is that the agents can combine to give behaviour that neither agent can produce by itself. Viewed this way, your two-agent systems might be viewed as mini robot swarms, designed to produce emergent behaviour not possessed by the individual agents.\n",
    "\n",
    "I hope you have found this brief entry into the world of neural networks interesting, and that by doing the hands-on activities you have begun to see how neural networks can be used in the design of intelligent machines.\n"
   ]
  }
 ],
 "metadata": {
  "jupytext": {
   "cell_metadata_filter": "-all",
   "formats": "ipynb,.md//md",
   "main_language": "python"
  }
 },
 "nbformat": 4,
 "nbformat_minor": 4
}
