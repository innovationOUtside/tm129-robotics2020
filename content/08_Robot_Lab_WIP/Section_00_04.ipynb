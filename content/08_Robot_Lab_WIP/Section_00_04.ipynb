{
 "cells": [
  {
   "cell_type": "markdown",
   "metadata": {
    "lines_to_next_cell": 2
   },
   "source": [
    "# 4 Recognising patterns on the fly\n",
    "\n",
    "\n",
    "\n",
    "To be really useful a robot needs to recognise things as it goes along, or ‘on the fly’. In this notebook, you will train a neural network to use a simple MLP classifier to try to identify different shapes on the background. The training samples themselves, images *and* training labels, will be captured by the robot from the simulator background.\n",
    "\n",
    "We will use the two light sensors to collect the data used to train the network:\n",
    "\n",
    "- one light sensor will capture the shape image data;\n",
    "- one light sensor will capture the training class data.\n",
    "\n",
    "We will contrive things somewhat to collect the data at specific locations on the background.\n",
    "\n",
    "Before continuing, ensure the simulator is loaded and available:"
   ]
  },
  {
   "cell_type": "code",
   "execution_count": null,
   "metadata": {},
   "outputs": [],
   "source": [
    "from nbev3devsim.load_nbev3devwidget import roboSim, eds\n",
    "%load_ext nbev3devsim"
   ]
  },
  {
   "cell_type": "markdown",
   "metadata": {},
   "source": [
    "The background image *Simple_Shapes* contains several shapes arranged in a line, including a square, a circle, four equilateral triangles (arrow heads) with different orientations, a diamond and a rectangle.\n",
    "\n",
    "Just below each shape is a grey square, whose fill colour is used to distinguish between the different shapes."
   ]
  },
  {
   "cell_type": "code",
   "execution_count": null,
   "metadata": {},
   "outputs": [],
   "source": [
    "%sim_magic -b Simple_Shapes -x 600 -y 700"
   ]
  },
  {
   "cell_type": "markdown",
   "metadata": {},
   "source": [
    "## Training pass 1\n",
    "\n",
    "In this inital training pass, we we configure our program to try to identify when it sees a clear training class pattern. The training class patterns are grey squares where the grey colour is use to represent one of eight (8) different training classes.\n",
    "\n",
    "The left light sensor will be used to sample the shape image data and the right light sensor will be used to collect the simpler grey classification group pattern.\n",
    "\n",
    "As we are going to be pulling data into the notebook Python environment from the simulator, ensure the local notebook datalog is cleared:"
   ]
  },
  {
   "cell_type": "code",
   "execution_count": null,
   "metadata": {},
   "outputs": [],
   "source": [
    "roboSim.clear_datalog()"
   ]
  },
  {
   "cell_type": "markdown",
   "metadata": {},
   "source": [
    "We can now start to collect data from the robot's left light sensor. The `-R` switch runs the programme once it has been downloaded to the simulator:"
   ]
  },
  {
   "cell_type": "code",
   "execution_count": null,
   "metadata": {},
   "outputs": [],
   "source": [
    "%%sim_magic_preloaded -b Simple_Shapes -R -x 840 -y 700 -O\n",
    "\n",
    "#Sample the light sensor reading\n",
    "sensor_value = colorLeft.reflected_light_intensity\n",
    "\n",
    "# This is a command invocation rather than a print statement\n",
    "print(\"image_data left\")"
   ]
  },
  {
   "cell_type": "markdown",
   "metadata": {},
   "source": [
    "The `image_data left` invocation in the program downloaded to the simulator also logs a copy of the left sensor reading data as the last item (with index `-1`) in the `roboSim.image_data` list. We can preview that data as an image in the following way:"
   ]
  },
  {
   "cell_type": "code",
   "execution_count": null,
   "metadata": {},
   "outputs": [],
   "source": [
    "from nn_tools.sensor_data import generate_image\n",
    "index = -1\n",
    "\n",
    "generate_image(roboSim.image_data(), index,\n",
    "               crop=(3, 3, 17, 17),\n",
    "               resize=(28, 28))"
   ]
  },
  {
   "cell_type": "code",
   "execution_count": null,
   "metadata": {},
   "outputs": [],
   "source": [
    "from nn_tools.sensor_data import generate_image\n",
    "\n",
    "index = -1\n",
    "\n",
    "img = generate_image(roboSim.image_data, index)\n",
    "img"
   ]
  },
  {
   "cell_type": "markdown",
   "metadata": {},
   "source": [
    "If you don't see a figure image displayed, check that the robot is placed over a figure by reviewing the sensor array display in the simulator. If the image is there, rerun the previous code cell to see if the data is now available. If it isn't, rerun the data collecting magic cell, wait a view seconds, and then try to view the zoomed image display."
   ]
  },
  {
   "cell_type": "markdown",
   "metadata": {},
   "source": [
    "We can also use the `sensor_data.zoom_img()` function to zoom the display of an image generated from the sensor data grabbed into the notebook. The axes co-ordinates show the size, in pixels, of the image."
   ]
  },
  {
   "cell_type": "code",
   "execution_count": null,
   "metadata": {},
   "outputs": [],
   "source": [
    "from nn_tools.sensor_data import zoom_img\n",
    "\n",
    "zoom_img(img)"
   ]
  },
  {
   "cell_type": "markdown",
   "metadata": {},
   "source": [
    "The original sensor data is actually provided as a three channel data set, with the value for each pixel encoded as the three RGB (red, green, blue) channel values.\n",
    "\n",
    "We can simplify the representation of the data by transforming the image to a black and white image, using a default (or explicity set) threshold value to decide whether a pixel should be represented as a black or white value."
   ]
  },
  {
   "cell_type": "code",
   "execution_count": null,
   "metadata": {},
   "outputs": [],
   "source": [
    "from nn_tools.sensor_data import generate_bw_image\n",
    "\n",
    "bw_img = generate_bw_image(roboSim.image_data, index)\n",
    "zoom_img(bw_img)"
   ]
  },
  {
   "cell_type": "markdown",
   "metadata": {},
   "source": [
    "We can run the same program again from a simple line magic that is used to situate the robot at a specific location and then run the program to collect the sensor data."
   ]
  },
  {
   "cell_type": "code",
   "execution_count": null,
   "metadata": {},
   "outputs": [],
   "source": [
    "_x = 680\n",
    "\n",
    "%sim_magic -x $_x -y 700 -R"
   ]
  },
  {
   "cell_type": "markdown",
   "metadata": {},
   "source": [
    "We can review also the data that defines this transformed image as a *pandas* dataframe using the `df_from_image()` function.\n",
    "\n",
    "*By default, the dataframe returning functions will preview the dataframe with colour highlight; pass the attribure `show=False` to disable this view.*"
   ]
  },
  {
   "cell_type": "code",
   "execution_count": null,
   "metadata": {},
   "outputs": [],
   "source": [
    "from nn_tools.sensor_data import df_from_image\n",
    "\n",
    "_ = df_from_image(bw_img)"
   ]
  },
  {
   "cell_type": "markdown",
   "metadata": {},
   "source": [
    "## Collecting Data Samples\n",
    "\n",
    "Let's start by seeing if we can collect image data samples for each of the shapes."
   ]
  },
  {
   "cell_type": "markdown",
   "metadata": {},
   "source": [
    "- 600 400 square\n",
    "- 680 400 circle\n",
    "- 760 400 equitri1\n",
    "- 840 400 equitri2\n",
    "- 920 400 equitri3\n",
    "- 1000 400 equitri4\n",
    "- 1080 400 rect\n",
    "- 1160 400 diamond1"
   ]
  },
  {
   "cell_type": "code",
   "execution_count": null,
   "metadata": {},
   "outputs": [],
   "source": [
    "from tqdm.notebook import trange\n",
    "from nbev3devsim.load_nbev3devwidget import tqdma\n",
    "\n",
    "import time\n",
    "\n",
    "roboSim.clear_datalog()\n",
    "\n",
    "# x-coordinate for centreline of first shape\n",
    "_x_init = 600\n",
    "\n",
    "# Distance between shapes\n",
    "_x_gap = 80\n",
    "\n",
    "# Number of shapes\n",
    "_n_shapes = 8\n",
    "\n",
    "# y-coordinate for centreline of shapes\n",
    "_y = 700\n",
    "\n",
    "# Load in the required background\n",
    "%sim_magic -b Simple_Shapes\n",
    "\n",
    "# Generate x coordinate for each shape in turn\n",
    "for _x in trange(_x_init, _x_init+(_n_shapes*_x_gap), _x_gap):\n",
    "    \n",
    "    # Jump to shape and run program to collect data\n",
    "    %sim_magic -x $_x -y $_y -R\n",
    "    \n",
    "    # Wait a short period to allow time for\n",
    "    # the program to run and capture the sensor data,\n",
    "    # and for the data to be passed from the simulator\n",
    "    # to the notebook Python environment\n",
    "    time.sleep(1)\n"
   ]
  },
  {
   "cell_type": "markdown",
   "metadata": {},
   "source": [
    "We should now be able to access multiple image samples via `roboSim.image_data()`, which returns a dataframe containing as many rows as images we scanned:"
   ]
  },
  {
   "cell_type": "code",
   "execution_count": null,
   "metadata": {},
   "outputs": [],
   "source": [
    "image_data_df = roboSim.image_data()\n",
    "image_data_df"
   ]
  },
  {
   "cell_type": "markdown",
   "metadata": {},
   "source": [
    "One thing we can do to simplify the original sensor data is to convert the RGB sensor image with three colour channels for each pixel to a simpler black and white image where there is a single channel taking only two values: 0 for black, and 255 for white. "
   ]
  },
  {
   "cell_type": "code",
   "execution_count": null,
   "metadata": {},
   "outputs": [],
   "source": [
    "from nn_tools.sensor_data import generate_image\n",
    "index = 3\n",
    "\n",
    "zoom_img( generate_image(roboSim.image_data, index) )"
   ]
  },
  {
   "cell_type": "code",
   "execution_count": null,
   "metadata": {},
   "outputs": [],
   "source": [
    "from nn_tools.sensor_data import generate_bw_image\n",
    "\n",
    "zoom_img( generate_bw_image(roboSim.image_data, index))"
   ]
  },
  {
   "cell_type": "markdown",
   "metadata": {},
   "source": [
    "We can then index into the data frame and render the `vals` data as an image for a specified row:"
   ]
  },
  {
   "cell_type": "code",
   "execution_count": null,
   "metadata": {},
   "outputs": [],
   "source": [
    "from nn_tools.sensor_data import sensor_image_focus\n",
    "\n",
    "zoom_img( sensor_image_focus(generate_image(roboSim.image_data, index)) )"
   ]
  },
  {
   "cell_type": "markdown",
   "metadata": {},
   "source": [
    "So we have a focused image; to train on that, we also to grab the test pattern. If we print the message `\"image_data both\"` we can collect data from both the left and the right light sensors."
   ]
  },
  {
   "cell_type": "code",
   "execution_count": null,
   "metadata": {},
   "outputs": [],
   "source": [
    "%%sim_magic_preloaded -b Simple_Shapes -R -x 840 -y 700 -O\n",
    "\n",
    "#Sample the light sensor reading\n",
    "sensor_value = colorLeft.reflected_light_intensity\n",
    "\n",
    "# This is a command invocation rather than a print statement\n",
    "print(\"image_data both\")"
   ]
  },
  {
   "cell_type": "markdown",
   "metadata": {},
   "source": [
    "We can then preview the last two rows of the dataframe to see the left and right logged sensor values:"
   ]
  },
  {
   "cell_type": "code",
   "execution_count": null,
   "metadata": {},
   "outputs": [],
   "source": [
    "image_data_df = roboSim.image_data()\n",
    "image_data_df[-2:]"
   ]
  },
  {
   "cell_type": "code",
   "execution_count": null,
   "metadata": {},
   "outputs": [],
   "source": [
    "# training - not much data but train on it"
   ]
  },
  {
   "cell_type": "code",
   "execution_count": null,
   "metadata": {},
   "outputs": [],
   "source": [
    "# testing -static"
   ]
  },
  {
   "cell_type": "code",
   "execution_count": null,
   "metadata": {},
   "outputs": [],
   "source": [
    "# testing - dynamic?"
   ]
  },
  {
   "cell_type": "markdown",
   "metadata": {},
   "source": [
    "The `nn_tools.sensor_data.get_sensor_image_pair` takes the original log data and grabs left and right sensor values based on the index of the left sensor value. (If no index is provided, the last two readings in the data log are inspected.)\n",
    "\n",
    "The resulting images are converted to greyscale images and cropped to the central focus area of each sensor."
   ]
  },
  {
   "cell_type": "code",
   "execution_count": null,
   "metadata": {},
   "outputs": [],
   "source": [
    "from nn_tools.sensor_data import get_sensor_image_pair\n",
    "\n",
    "# The sample we want from the logged image data\n",
    "_index = 10\n",
    "\n",
    "left_img, right_img = get_sensor_image_pair(roboSim.image_data, _index)\n",
    "\n",
    "display(left_img, right_img)\n"
   ]
  },
  {
   "cell_type": "markdown",
   "metadata": {},
   "source": [
    "The right sensor gives a uniform greyscale value. We can take the most common value (the *mode*) and use that to identify the class of the image."
   ]
  },
  {
   "cell_type": "code",
   "execution_count": null,
   "metadata": {},
   "outputs": [],
   "source": [
    "import numpy as np\n",
    "\n",
    "np.mode(right_img.getdata())"
   ]
  },
  {
   "cell_type": "markdown",
   "metadata": {},
   "source": [
    "We can use the following mapping to decode the actual shape from the training signal:"
   ]
  },
  {
   "cell_type": "code",
   "execution_count": null,
   "metadata": {},
   "outputs": [],
   "source": [
    "shape_map = {'shape': value}"
   ]
  },
  {
   "cell_type": "markdown",
   "metadata": {},
   "source": [
    "Generate training patterns:"
   ]
  },
  {
   "cell_type": "code",
   "execution_count": null,
   "metadata": {},
   "outputs": [],
   "source": [
    "# training set"
   ]
  },
  {
   "cell_type": "code",
   "execution_count": null,
   "metadata": {},
   "outputs": [],
   "source": []
  },
  {
   "cell_type": "code",
   "execution_count": null,
   "metadata": {},
   "outputs": [],
   "source": [
    "# train netwrok"
   ]
  },
  {
   "cell_type": "code",
   "execution_count": null,
   "metadata": {},
   "outputs": [],
   "source": [
    "# test network"
   ]
  },
  {
   "cell_type": "code",
   "execution_count": null,
   "metadata": {},
   "outputs": [],
   "source": [
    "# train on random images or random test track..."
   ]
  },
  {
   "cell_type": "code",
   "execution_count": null,
   "metadata": {},
   "outputs": [],
   "source": []
  },
  {
   "cell_type": "code",
   "execution_count": null,
   "metadata": {},
   "outputs": [],
   "source": [
    "%%sim_magic_preloaded -b Simple_Shapes -x 700 -y 716 -O\n",
    "tank_drive.on(SpeedPercent(10), SpeedPercent(10))\n",
    "while True:\n",
    "    sample = colorRight.reflected_light_intensity_pc\n",
    "    #print(sample)\n",
    "    if sample>12 and sample<13:\n",
    "        print('here...')"
   ]
  },
  {
   "cell_type": "markdown",
   "metadata": {},
   "source": [
    "Can we identify when we have seen a grey training class square?"
   ]
  },
  {
   "cell_type": "code",
   "execution_count": null,
   "metadata": {},
   "outputs": [],
   "source": [
    "# function to count what percentage of classificaiton group image pixels\n",
    "# are non-background; if this is 0 (or < threshold) decide we have seen a thing\n",
    "# and take the most common pixel value as the discriminator"
   ]
  },
  {
   "cell_type": "markdown",
   "metadata": {},
   "source": [
    "![figure ../tm129-19J-images/tm129_rob_p9_f010.jpg](../tm129-19J-images/tm129_rob_p9_f010.jpg)"
   ]
  },
  {
   "cell_type": "markdown",
   "metadata": {},
   "source": [
    "Figure 4.2 Two sets of scan lines of different lengths"
   ]
  },
  {
   "cell_type": "markdown",
   "metadata": {},
   "source": [
    "A diagram showing sets of scan lines on a rectangle and diamond block. There are about four scan lines over the rectangle, appearing as arcs across it, all of equal length. The diamond has about six scan lines which are short at the point of the diamond, becomes much longer across the middle, and then become shorter towards the end of the diamond.\n",
    "\n",
    "My data for the shapes in Figure 4.1 are given in Table 4.1.\n",
    "<table xmlns:str=\"http://exslt.org/strings\">\n",
    "<caption>Table 4.1 Scan data for shapes 1–4</caption>\n",
    "<tbody>\n",
    "<tr>\n",
    "<th>\n",
    "Shape\n",
    "</th>\n",
    "<th></th>\n",
    "<th>\n",
    "First circuit\n",
    "</th>\n",
    "<th>\n",
    "Second circuit\n",
    "</th>\n",
    "<th>\n",
    "Third circuit\n",
    "</th>\n",
    "</tr>\n",
    "<tr>\n",
    "<td class=\"highlight_\" rowspan=\"\" colspan=\"\">1</td>\n",
    "<td class=\"highlight_\" rowspan=\"\" colspan=\"\"> ![narrow rectangle](../tm129-19J-images/tm129_rob_p9_f011.jpg) </td>\n",
    "<td class=\"highlight_\" rowspan=\"\" colspan=\"\">\n",
    "7, 12, 13, 12, 13, 20, 0, 3\n",
    "</td>\n",
    "<td class=\"highlight_\" rowspan=\"\" colspan=\"\">\n",
    "9, 13, 14, 13, 12, 12, 3, 3\n",
    "</td>\n",
    "<td class=\"highlight_\" rowspan=\"\" colspan=\"\">\n",
    "8, 12, 12, 12, 12, 12, 3, 3\n",
    "</td>\n",
    "</tr>\n",
    "<tr>\n",
    "<td class=\"highlight_\" rowspan=\"\" colspan=\"\">2</td>\n",
    "<td class=\"highlight_\" rowspan=\"\" colspan=\"\"> ![diamond](../tm129-19J-images/tm129_rob_p9_f012.jpg) </td>\n",
    "<td class=\"highlight_\" rowspan=\"\" colspan=\"\">\n",
    "4, 7, 11, 14, 17, 20, 14, 9\n",
    "</td>\n",
    "<td class=\"highlight_\" rowspan=\"\" colspan=\"\">\n",
    "3, 6, 8, 13, 16, 19, 13, 8\n",
    "</td>\n",
    "<td class=\"highlight_\" rowspan=\"\" colspan=\"\">\n",
    "3, 7, 10, 13, 16, 19, 13, 9\n",
    "</td>\n",
    "</tr>\n",
    "<tr>\n",
    "<td class=\"highlight_\" rowspan=\"\" colspan=\"\">3</td>\n",
    "<td class=\"highlight_\" rowspan=\"\" colspan=\"\"> ![broad rectangle](../tm129-19J-images/tm129_rob_p9_f013.jpg) </td>\n",
    "<td class=\"highlight_\" rowspan=\"\" colspan=\"\">\n",
    "10, 20, 19, 19, 20, 3, 3, 3\n",
    "</td>\n",
    "<td class=\"highlight_\" rowspan=\"\" colspan=\"\">\n",
    "8, 17, 18, 17, 17, 3, 3, 3\n",
    "</td>\n",
    "<td class=\"highlight_\" rowspan=\"\" colspan=\"\">\n",
    "10, 17, 17, 16, 17, 3, 3, 3\n",
    "</td>\n",
    "</tr>\n",
    "<tr>\n",
    "<td class=\"highlight_\" rowspan=\"\" colspan=\"\">4</td>\n",
    "<td class=\"highlight_\" rowspan=\"\" colspan=\"\"> ![circle](../tm129-19J-images/tm129_rob_p9_f014.jpg) </td>\n",
    "<td class=\"highlight_\" rowspan=\"\" colspan=\"\">\n",
    "5, 13, 19, 22, 21, 13, 3, 3\n",
    "</td>\n",
    "<td class=\"highlight_\" rowspan=\"\" colspan=\"\">\n",
    "6, 12, 17, 20, 18, 4, 3, 3\n",
    "</td>\n",
    "<td class=\"highlight_\" rowspan=\"\" colspan=\"\">\n",
    "4, 11, 17, 19, 19, 11, 3, 3\n",
    "</td>\n",
    "</tr>\n",
    "</tbody>\n",
    "</table>\n",
    "\n",
    "Simon uses a neural network that I trained using these data. Once it has collected the scan data, it goes through the protocol in Figure 3.2, to receive the class code. When I trained the network I gave it class codes 1, 2, 3 and 4 for the shapes, using the numbering in Figure 4.1.\n",
    "\n",
    "When the network sends back the recognition codes, it uses the ASCII values shown in Table 3.1: 49 (for 1), 50 (for 2), 51 (for 3), and 52 (for 4)."
   ]
  },
  {
   "cell_type": "markdown",
   "metadata": {},
   "source": [
    "## 4.1 Activity — collecting scan data"
   ]
  },
  {
   "cell_type": "markdown",
   "metadata": {},
   "source": [
    "Figure 4.3 shows a new set of blocks. In this activity you will collect data that will be used to train a neural network. Open the `Get_block_data` program. When you run this program it detects a shape and logs data for it."
   ]
  },
  {
   "cell_type": "markdown",
   "metadata": {},
   "source": [
    "![figure ../tm129-19J-images/tm129_rob_p9_f016.jpg](../tm129-19J-images/tm129_rob_p9_f016.jpg)"
   ]
  },
  {
   "cell_type": "markdown",
   "metadata": {},
   "source": [
    "Figure 4.3 A set of blocks ready for collecting scan data"
   ]
  },
  {
   "cell_type": "markdown",
   "metadata": {},
   "source": [
    "The background image for ‘Get block data’. This is a red track as before but with different black blocks as follows: \n",
    "\n",
    "1.  triangle (point towards Simon)\n",
    "\n",
    "2.  very narrow rectangle, about twice the width of the track\n",
    "\n",
    "3.  oval\n",
    "\n",
    "4.  black line no wider than the track.\n",
    "\n",
    "Position Simon as shown in Figure 4.3 and run the program. When Simon has moved across shape number 5 it will stop. Open the Data log window.\n",
    "\n",
    "Click on the Upload  ![inlinefigure ../tm129-19J-images/tm129_rob_p9_f018.jpg](../tm129-19J-images/tm129_rob_p9_f018.jpg)  toolbar button or choose `Connect | Upload data log` to upload the data log<div xmlns:str=\"http://exslt.org/strings\" style=\"background:lightblue\"><p>Keyboard: Alt, C, U</p></div> and then click on the `Data` tab so that you can see the logged data, as shown in Figure 4.4."
   ]
  },
  {
   "cell_type": "markdown",
   "metadata": {},
   "source": [
    "![figure ../tm129-19J-images/tm129_rob_p9_f019.png](../tm129-19J-images/tm129_rob_p9_f019.png)"
   ]
  },
  {
   "cell_type": "markdown",
   "metadata": {},
   "source": [
    "Figure 4.4 Logged data for shape number 5"
   ]
  },
  {
   "cell_type": "markdown",
   "metadata": {},
   "source": [
    "The Data log table view with the following values: \n",
    "<table xmlns:str=\"http://exslt.org/strings\">\n",
    "<caption></caption>\n",
    "<tbody>\n",
    "<tr>\n",
    "<td class=\"highlight_\" rowspan=\"\" colspan=\"\"> n </td>\n",
    "<td class=\"highlight_\" rowspan=\"\" colspan=\"\"> value </td>\n",
    "<td class=\"highlight_\" rowspan=\"\" colspan=\"\"> source </td>\n",
    "</tr>\n",
    "<tr>\n",
    "<td class=\"highlight_\" rowspan=\"\" colspan=\"\"> 1 </td>\n",
    "<td class=\"highlight_\" rowspan=\"\" colspan=\"\"> 2 </td>\n",
    "<td class=\"highlight_\" rowspan=\"\" colspan=\"\"> unknown </td>\n",
    "</tr>\n",
    "<tr>\n",
    "<td class=\"highlight_\" rowspan=\"\" colspan=\"\"> 2 </td>\n",
    "<td class=\"highlight_\" rowspan=\"\" colspan=\"\"> 7 </td>\n",
    "<td class=\"highlight_\" rowspan=\"\" colspan=\"\"> unknown </td>\n",
    "</tr>\n",
    "<tr>\n",
    "<td class=\"highlight_\" rowspan=\"\" colspan=\"\"> 3 </td>\n",
    "<td class=\"highlight_\" rowspan=\"\" colspan=\"\"> 9 </td>\n",
    "<td class=\"highlight_\" rowspan=\"\" colspan=\"\"> unknown </td>\n",
    "</tr>\n",
    "<tr>\n",
    "<td class=\"highlight_\" rowspan=\"\" colspan=\"\"> 4 </td>\n",
    "<td class=\"highlight_\" rowspan=\"\" colspan=\"\"> 13 </td>\n",
    "<td class=\"highlight_\" rowspan=\"\" colspan=\"\"> unknown </td>\n",
    "</tr>\n",
    "<tr>\n",
    "<td class=\"highlight_\" rowspan=\"\" colspan=\"\"> 5 </td>\n",
    "<td class=\"highlight_\" rowspan=\"\" colspan=\"\"> 16 </td>\n",
    "<td class=\"highlight_\" rowspan=\"\" colspan=\"\"> unknown </td>\n",
    "</tr>\n",
    "<tr>\n",
    "<td class=\"highlight_\" rowspan=\"\" colspan=\"\"> 6 </td>\n",
    "<td class=\"highlight_\" rowspan=\"\" colspan=\"\"> 21 </td>\n",
    "<td class=\"highlight_\" rowspan=\"\" colspan=\"\"> unknown </td>\n",
    "</tr>\n",
    "<tr>\n",
    "<td class=\"highlight_\" rowspan=\"\" colspan=\"\"> 7 </td>\n",
    "<td class=\"highlight_\" rowspan=\"\" colspan=\"\"> 25 </td>\n",
    "<td class=\"highlight_\" rowspan=\"\" colspan=\"\"> unknown </td>\n",
    "</tr>\n",
    "<tr>\n",
    "<td class=\"highlight_\" rowspan=\"\" colspan=\"\"> 8 </td>\n",
    "<td class=\"highlight_\" rowspan=\"\" colspan=\"\"> 6 </td>\n",
    "<td class=\"highlight_\" rowspan=\"\" colspan=\"\"> unknown </td>\n",
    "</tr>\n",
    "<tr>\n",
    "<td class=\"highlight_\" rowspan=\"\" colspan=\"\"> 9 </td>\n",
    "<td class=\"highlight_\" rowspan=\"\" colspan=\"\"> 0 </td>\n",
    "<td class=\"highlight_\" rowspan=\"\" colspan=\"\"> unknown </td>\n",
    "</tr>\n",
    "<tr>\n",
    "<td class=\"highlight_\" rowspan=\"\" colspan=\"\"> 10 </td>\n",
    "<td class=\"highlight_\" rowspan=\"\" colspan=\"\"> 3 </td>\n",
    "<td class=\"highlight_\" rowspan=\"\" colspan=\"\"> unknown </td>\n",
    "</tr>\n",
    "<tr>\n",
    "<td class=\"highlight_\" rowspan=\"\" colspan=\"\"> 11 </td>\n",
    "<td class=\"highlight_\" rowspan=\"\" colspan=\"\"> 3 </td>\n",
    "<td class=\"highlight_\" rowspan=\"\" colspan=\"\"> unknown </td>\n",
    "</tr>\n",
    "<tr>\n",
    "<td class=\"highlight_\" rowspan=\"\" colspan=\"\"> 12 </td>\n",
    "<td class=\"highlight_\" rowspan=\"\" colspan=\"\"> 3 </td>\n",
    "<td class=\"highlight_\" rowspan=\"\" colspan=\"\"> unknown </td>\n",
    "</tr>\n",
    "<tr>\n",
    "<td class=\"highlight_\" rowspan=\"\" colspan=\"\"> 13 </td>\n",
    "<td class=\"highlight_\" rowspan=\"\" colspan=\"\"> 3 </td>\n",
    "<td class=\"highlight_\" rowspan=\"\" colspan=\"\"> unknown </td>\n",
    "</tr>\n",
    "<tr>\n",
    "<td class=\"highlight_\" rowspan=\"\" colspan=\"\"> 14 </td>\n",
    "<td class=\"highlight_\" rowspan=\"\" colspan=\"\"> 3 </td>\n",
    "<td class=\"highlight_\" rowspan=\"\" colspan=\"\"> unknown </td>\n",
    "</tr>\n",
    "<tr>\n",
    "<td class=\"highlight_\" rowspan=\"\" colspan=\"\"> 15 </td>\n",
    "<td class=\"highlight_\" rowspan=\"\" colspan=\"\"> 23 </td>\n",
    "<td class=\"highlight_\" rowspan=\"\" colspan=\"\"> unknown </td>\n",
    "</tr>\n",
    "</tbody>\n",
    "</table>\n",
    "\n",
    "The program usually logs more than the eight measurements needed for the neural network. Small shapes may not require eight measurements, in which case the last measurements recorded are about 3 – corresponding to the red line.\n",
    "\n",
    "Position Simon in front of each of the remaining three shapes to log data for them. I have done the first set of measurements for each shape in Table 4.2. Complete the table with two more sets of measurements for each shape.\n",
    "<table xmlns:str=\"http://exslt.org/strings\">\n",
    "<caption>Table 4.2 Scan data for shapes 5–8</caption>\n",
    "<tbody>\n",
    "<tr>\n",
    "<th>\n",
    "Shape\n",
    "</th>\n",
    "<th></th>\n",
    "<th>\n",
    "First circuit\n",
    "</th>\n",
    "<th>\n",
    "Second circuit\n",
    "</th>\n",
    "<th>\n",
    "Third circuit\n",
    "</th>\n",
    "</tr>\n",
    "<tr>\n",
    "<td class=\"highlight_\" rowspan=\"\" colspan=\"\">5</td>\n",
    "<td class=\"highlight_\" rowspan=\"\" colspan=\"\"> ![triangle](../tm129-19J-images/tm129_rob_p9_f020.jpg) </td>\n",
    "<td class=\"highlight_\" rowspan=\"\" colspan=\"\">\n",
    "2, 7, 9, 13, 16, 21, 25, 5\n",
    "</td>\n",
    "<td class=\"highlight_\" rowspan=\"\" colspan=\"\"></td>\n",
    "<td class=\"highlight_\" rowspan=\"\" colspan=\"\"></td>\n",
    "</tr>\n",
    "<tr>\n",
    "<td class=\"highlight_\" rowspan=\"\" colspan=\"\">6</td>\n",
    "<td class=\"highlight_\" rowspan=\"\" colspan=\"\"> ![narrow rectangle](../tm129-19J-images/tm129_rob_p9_f021.jpg) </td>\n",
    "<td class=\"highlight_\" rowspan=\"\" colspan=\"\">\n",
    "4, 6, 5, 5, 5, 5, 5, 5\n",
    "</td>\n",
    "<td class=\"highlight_\" rowspan=\"\" colspan=\"\"></td>\n",
    "<td class=\"highlight_\" rowspan=\"\" colspan=\"\"></td>\n",
    "</tr>\n",
    "<tr>\n",
    "<td class=\"highlight_\" rowspan=\"\" colspan=\"\">7</td>\n",
    "<td class=\"highlight_\" rowspan=\"\" colspan=\"\"> ![oval](../tm129-19J-images/tm129_rob_p9_f022.jpg) </td>\n",
    "<td class=\"highlight_\" rowspan=\"\" colspan=\"\">\n",
    "4, 11, 16, 21, 23, 23, 21, 13\n",
    "</td>\n",
    "<td class=\"highlight_\" rowspan=\"\" colspan=\"\"></td>\n",
    "<td class=\"highlight_\" rowspan=\"\" colspan=\"\"></td>\n",
    "</tr>\n",
    "<tr>\n",
    "<td class=\"highlight_\" rowspan=\"\" colspan=\"\">8</td>\n",
    "<td class=\"highlight_\" rowspan=\"\" colspan=\"\"> ![line](../tm129-19J-images/tm129_rob_p9_f023.jpg) </td>\n",
    "<td class=\"highlight_\" rowspan=\"\" colspan=\"\">\n",
    "4, 3, 4, 3, 3, 3, 3, 2\n",
    "</td>\n",
    "<td class=\"highlight_\" rowspan=\"\" colspan=\"\"></td>\n",
    "<td class=\"highlight_\" rowspan=\"\" colspan=\"\"></td>\n",
    "</tr>\n",
    "</tbody>\n",
    "</table>"
   ]
  },
  {
   "cell_type": "code",
   "execution_count": null,
   "metadata": {},
   "outputs": [],
   "source": [
    "import pandas as pd\n",
    "\n",
    "df = pd.DataFrame([['Pear', [5.2, 3.1]], ['Pear', [6.3, 2.4]],\n",
    "                   ['Pear', [6.7, 1.8]], ['Pear', [5.3, 2.9]],\n",
    "                   ['Banana', [8.5, 1.9]], ['Banana', [8.3, 1.6]],\n",
    "                   ['Banana', [9.7, 2.0]], ['Banana', [7.5, 1.7]],\n",
    "                   ['Strawberry', [2.1, 1.4]], ['Strawberry', [2.8, 1.8]],\n",
    "                   ['Strawberry', [2.0, 1.8]], ['Strawberry', [2.2, 2.0]],\n",
    "                   ['Orange', [4.7, 4.5]], ['Orange', [4.6, 4.2]],\n",
    "                   ['Orange', [4.6, 4.1]], ['Orange', [4.0, 3.7]]\n",
    "                  ],\n",
    "                 columns = ['Fruit', 'Input'])\n",
    "\n",
    "#Preview the first six rows\n",
    "df.head(6)"
   ]
  },
  {
   "cell_type": "code",
   "execution_count": null,
   "metadata": {},
   "outputs": [],
   "source": [
    "from sklearn.neural_network import MLPClassifier\n",
    "\n",
    "fruit = MLPClassifier(hidden_layer_sizes=(6, 6), max_iter=20)"
   ]
  },
  {
   "cell_type": "code",
   "execution_count": null,
   "metadata": {},
   "outputs": [],
   "source": [
    "# Fit the model\n",
    "fruit.fit(df['Input'].to_list(), df['Fruit'])\n",
    "\n",
    "#Check the prediction for each input\n",
    "predictions = fruit.predict(df['Input'].to_list())\n",
    "predictions"
   ]
  },
  {
   "cell_type": "code",
   "execution_count": null,
   "metadata": {},
   "outputs": [],
   "source": [
    "from sklearn.metrics import classification_report\n",
    "\n",
    "# The zero_division parameter suppresses a divide by zero warning when using zeroed parameters\n",
    "print(classification_report(df['Fruit'], predictions, zero_division=False))"
   ]
  },
  {
   "cell_type": "code",
   "execution_count": null,
   "metadata": {},
   "outputs": [],
   "source": [
    "from sklearn.metrics import confusion_matrix\n",
    "\n",
    "print(confusion_matrix(df['Fruit'], predictions))"
   ]
  },
  {
   "cell_type": "code",
   "execution_count": null,
   "metadata": {},
   "outputs": [],
   "source": [
    "from ipywidgets import interact\n",
    "\n",
    "fruit = None\n",
    "\n",
    "@interact(iterations=(100, 3000, 100), h1=(0, 10, 1), h2=(0, 10, 1))\n",
    "def trainer(iterations=2000, h1=6, h2=6):\n",
    "    global fruit\n",
    "    fruit = MLPClassifier(hidden_layer_sizes=(h1, h2), max_iter=iterations)\n",
    "    \n",
    "    # Fit the model\n",
    "    fruit.fit(df['Input'].to_list(), df['Fruit'])\n",
    "    \n",
    "    #Check the prediction for each input\n",
    "    predictions = fruit.predict(df['Input'].to_list())\n",
    "\n",
    "    print(classification_report(df['Fruit'], predictions))\n",
    "    print(confusion_matrix(df['Fruit'], predictions))"
   ]
  },
  {
   "cell_type": "markdown",
   "metadata": {},
   "source": [
    "## 4.2 Activity — training a neural network with the shape data"
   ]
  },
  {
   "cell_type": "markdown",
   "metadata": {},
   "source": [
    "Start the `Neural network editor`. Click on `File | New Network`. Clear the `For existing data` check box. Change the number of inputs to 8, the number of outputs to 8, and set the number of neurons for the `1st hidden` and `2nd hidden` layers to 10 each, as shown in Figure 4.5(a). Then click `OK`. A warning box will be shown (Figure 4.5(b)); click `OK` to confirm that you are replacing previous training data."
   ]
  },
  {
   "cell_type": "markdown",
   "metadata": {},
   "source": [
    "![figure ../tm129-19J-images/tm129_rob_p8_f04_05a.png](../tm129-19J-images/tm129_rob_p8_f04_05a.png)"
   ]
  },
  {
   "cell_type": "markdown",
   "metadata": {},
   "source": [
    "Figure 4.5 (a) `New Network` dialog box; (b) warning box"
   ]
  },
  {
   "cell_type": "markdown",
   "metadata": {},
   "source": [
    "(a) A screen dump of the New network dialog. This has two panels and OK and Cancel buttons. The top panel has a prompt: ‘Number of nodes in each layer (0 if layer does not exist)’. This is followed by four labelled input fields: ‘Output layer’, ‘2nd hidden’, ‘1st hidden’ and ‘Input layer’. The lower panel has check boxes as follows: ‘For existing data’, ‘Scanner data’ and subsidiary to that ‘Use transitions’. \n",
    "\n",
    "(b) A warning alert box which reads: ‘The current training data will be removed! Do you want to proceed?’ followed by OK and Cancel buttons.\n",
    "\n",
    "Use the outputs and labels in Table 4.3 together with the input data from Table 4.2 for your 12 data items. Remember to include spaces, not commas, when entering the data.\n",
    "<table xmlns:str=\"http://exslt.org/strings\">\n",
    "<caption>Table 4.3 Outputs for shapes 5–8</caption>\n",
    "<tbody>\n",
    "<tr>\n",
    "<th>\n",
    "Shape\n",
    "</th>\n",
    "<th></th>\n",
    "<th>\n",
    "Outputs\n",
    "</th>\n",
    "<th>\n",
    "Item label\n",
    "</th>\n",
    "</tr>\n",
    "<tr>\n",
    "<td class=\"highlight_\" rowspan=\"\" colspan=\"\">5</td>\n",
    "<td class=\"highlight_\" rowspan=\"\" colspan=\"\"> ![triangle](../tm129-19J-images/tm129_rob_p9_f020.jpg) </td>\n",
    "<td class=\"highlight_\" rowspan=\"\" colspan=\"\">\n",
    "0, 0, 0, 0, 1, 0, 0, 0\n",
    "</td>\n",
    "<td class=\"highlight_\" rowspan=\"\" colspan=\"\">\n",
    "5\n",
    "</td>\n",
    "</tr>\n",
    "<tr>\n",
    "<td class=\"highlight_\" rowspan=\"\" colspan=\"\">6</td>\n",
    "<td class=\"highlight_\" rowspan=\"\" colspan=\"\"> ![narrow rectangle](../tm129-19J-images/tm129_rob_p9_f021.jpg) </td>\n",
    "<td class=\"highlight_\" rowspan=\"\" colspan=\"\">\n",
    "0, 0, 0, 0, 0, 1, 0, 0\n",
    "</td>\n",
    "<td class=\"highlight_\" rowspan=\"\" colspan=\"\">\n",
    "6\n",
    "</td>\n",
    "</tr>\n",
    "<tr>\n",
    "<td class=\"highlight_\" rowspan=\"\" colspan=\"\">7</td>\n",
    "<td class=\"highlight_\" rowspan=\"\" colspan=\"\"> ![oval](../tm129-19J-images/tm129_rob_p9_f022.jpg) </td>\n",
    "<td class=\"highlight_\" rowspan=\"\" colspan=\"\">\n",
    "0, 0, 0, 0, 0, 0, 1, 0\n",
    "</td>\n",
    "<td class=\"highlight_\" rowspan=\"\" colspan=\"\">\n",
    "7\n",
    "</td>\n",
    "</tr>\n",
    "<tr>\n",
    "<td class=\"highlight_\" rowspan=\"\" colspan=\"\">8</td>\n",
    "<td class=\"highlight_\" rowspan=\"\" colspan=\"\"> ![line](../tm129-19J-images/tm129_rob_p9_f023.jpg) </td>\n",
    "<td class=\"highlight_\" rowspan=\"\" colspan=\"\">\n",
    "0, 0, 0, 0, 0, 0, 0, 1\n",
    "</td>\n",
    "<td class=\"highlight_\" rowspan=\"\" colspan=\"\">\n",
    "8\n",
    "</td>\n",
    "</tr>\n",
    "</tbody>\n",
    "</table>\n",
    "\n",
    "When you have entered your data, save the network with the name `my_net` in the `week-8` folder by clicking on `File | Save As …`. (The neural network editor will add the extension `nnd` to make the complete filename `my_net.nnd`.)\n",
    "\n",
    "My data appeared as follows, but yours will be different:"
   ]
  },
  {
   "cell_type": "markdown",
   "metadata": {},
   "source": [
    "![figure ../tm129-19J-images/tm129_rob_p9_f027.jpg](../tm129-19J-images/tm129_rob_p9_f027.jpg)\n",
    "\n",
    "Sample training data from the Neural network editor list. \n",
    "\n",
    " Tr 1:     2 7 9 13 16 21 25 5 » 0 0 0 0 1 0 0 0 ‘5’ \n",
    "\n",
    " Tr 2:     4 6 5 5 5 5 5 5 » 0 0 0 0 0 1 0 0 ‘6’ \n",
    "\n",
    " Tr 3:     4 11 16 21 23 23 21 13 » 0 0 0 0 0 0 1 0 ‘7’ \n",
    "\n",
    " Tr 4:     4 3 4 3 3 3 3 2 » 0 0 0 0 0 0 0 1 ‘8’ \n",
    "\n",
    " Tr 5:     2 6 8 11 15 21 24 6 » 0 0 0 0 1 0 0 0 ‘5’ \n",
    "\n",
    " Tr 6:     4 6 5 5 5 5 5 5 » 0 0 0 0 0 1 0 0 ‘6’ \n",
    "\n",
    " Tr 7:     4 12 17 21 23 22 19 3 » 0 0 0 0 0 0 1 0 ‘7’ \n",
    "\n",
    " Tr 8:     2 3 3 3 3 3 3 3 » 0 0 0 0 0 0 0 1 ‘8’ \n",
    "\n",
    " Tr 9:     3 6 9 13 17 21 25 4 » 0 0 0 0 1 0 0 0 ‘5’ \n",
    "\n",
    " Tr 10:   4 6 5 5 5 5 5 5 » 0 0 0 0 0 1 0 0 ‘6’ \n",
    "\n",
    " Tr 11:   3 13 18 22 23 23 19 1 » 0 0 0 0 0 0 1 0 ‘7’ \n",
    "\n",
    " Tr 12:   3 3 3 3 3 3 3 3 » 0 0 0 0 0 0 0 1 ‘8’ \n",
    "\n",
    "Click on `Seed and Scale` and then `Cycle Until`. Your network should train, with all the training items correctly classified.\n",
    "\n",
    "To save your trained neural network, click on `File | Save`. The trained network can now be used to classify new unseen data. This network will be used in the next activity. Make sure it has the name `my_net.nnd`, otherwise the next activity will not work properly."
   ]
  },
  {
   "cell_type": "markdown",
   "metadata": {},
   "source": [
    "## Preprocessing the Image Data\n",
    "\n",
    "One of the problems with using the actual pixel data in a simple MLP is that the network can find it hard to recognise images from the actual raw pixel data: shapes may vary very slightly in size, orientation or framing within the sensor view area (eg they may be shifted to the left or right side of the sensor view, or the top or the bottom of it). These slight changes may cause large changes in the raw pixel values.\n",
    "\n",
    "So can we use feature engineering to try to help improve matters? For example, might we represent the sensor data in some other way, and then train the MLP on the new representation with improved performance?\n",
    "\n",
    "You may recall the fruit recognition activity from an earlier notebook. In that case, the various fruits were recognised based on physical properties of the each fruit in the form of the dimensions of the bounding box drawn around each one, rather than the actual picture of the fruit. The features used for training and recall in that case were thus the bounding box dimensions.\n",
    "\n",
    "So can we perform a similar sort of re-presentation of the originally captured shape image data to create a derived set of features agains which we can train our MLP? "
   ]
  },
  {
   "cell_type": "markdown",
   "metadata": {},
   "source": [
    "## Activity — Using bounding box features for shape images \n",
    "\n",
    "Will the bounding box approach used to represent the fruit image data generate features that will allow us to distinguish between the shape images?\n",
    "\n",
    "Running the following code cell will convert the raw data associated with an image to a data frame, and then prune the rows and columns the edges that only contain white space.\n",
    "\n",
    "The dimensions of the dataframe, which is to say, the `.shape` of the dataframe, given as the 2-tuple `(rows, columns)`, corresponds to the bounding box of the shape. "
   ]
  },
  {
   "cell_type": "code",
   "execution_count": null,
   "metadata": {},
   "outputs": [],
   "source": [
    "from nn_tools.sensor_data import trim_image\n",
    "\n",
    "index = 4\n",
    "\n",
    "img = generate_bw_image(roboSim.image_data, index)\n",
    "display(img)\n",
    "\n",
    "\n",
    "trimmed_df = trim_image( df_from_image(img, show=False), reindex=True)\n",
    "\n",
    "# dataframe shape\n",
    "trimmed_df.shape"
   ]
  },
  {
   "cell_type": "markdown",
   "metadata": {},
   "source": [
    "To try to provide a level of scale invariance, we should now scale the image to a known size. This will give us a signature with known number of features that we can use to train the network.\n",
    "\n",
    "TO DO"
   ]
  },
  {
   "cell_type": "code",
   "execution_count": null,
   "metadata": {},
   "outputs": [],
   "source": [
    "# TO DO\n",
    "# resize to a standard size"
   ]
  },
  {
   "cell_type": "markdown",
   "metadata": {},
   "source": [
    "Using the above code, or otherwise, find the shape of the bounding box for each shape as captured in the `roboSim.image_data` list.\n",
    "\n",
    "You may find it useful to use the provided code as the basis of a simple function that will:\n",
    "\n",
    "- take the index number for a particular image data scan;\n",
    "- generate the image;\n",
    "- find the size of the bounding box.\n",
    "\n",
    "Then you can iterate through all the rows in the `roboSim.image_data` dataset, generate the corresponding image and its bounding box dimensions, and then display the image and the dimensions.\n",
    "\n",
    "*Hint: you can use a `for` loop defined as `for i in range(len(roboSim.image_data)):` to iterate through each row of the data frame and generate an appropriate index number, `i`, for each row.*\n",
    "\n",
    "Based on the shape dimensions alone, can you distinguish between the shapes?"
   ]
  },
  {
   "cell_type": "markdown",
   "metadata": {},
   "source": [
    "#### Answer\n",
    "\n",
    "*Click the arrow in the sidebar or run this cell to reveal the answer.*"
   ]
  },
  {
   "cell_type": "markdown",
   "metadata": {},
   "source": [
    "Let's start by creating a simple function inspired by the supplied code that will display an image and its bounding box dimensions:"
   ]
  },
  {
   "cell_type": "code",
   "execution_count": null,
   "metadata": {},
   "outputs": [],
   "source": [
    "def find_bounding_box(data, index):\n",
    "    \"\"\"Find bounding box for an image based on its index.\"\"\"\n",
    "    \n",
    "    img = generate_bw_image(data, index)\n",
    "    trimmed_df = trim_image( df_from_image(img, show=False), reindex=True)\n",
    "\n",
    "    # Show image and shape\n",
    "    display(img, trimmed_df.shape)\n",
    "\n",
    "find_bounding_box(roboSim.image_data, 2)"
   ]
  },
  {
   "cell_type": "markdown",
   "metadata": {},
   "source": [
    "We can then call this function by iterating through each image data record in the `roboSim.image_data` dataset:"
   ]
  },
  {
   "cell_type": "code",
   "execution_count": null,
   "metadata": {},
   "outputs": [],
   "source": [
    "for i in range(len(roboSim.image_data)):\n",
    "    find_bounding_box(roboSim.image_data, i)"
   ]
  },
  {
   "cell_type": "markdown",
   "metadata": {},
   "source": [
    "Inspecting the results from my run (yours may be slightly different), several of the shapes appear to share the same bounding box dimensions:\n",
    "\n",
    "- the circle and square both have bounding box dimensions `(15, 15)`;\n",
    "- two of the arrows / equilateral triangles share the same dimensions (`(15, 13)`).\n",
    "\n",
    "Only the rectange is clearly separated from the other shapes on the basis of its bounding box dimensions."
   ]
  },
  {
   "cell_type": "markdown",
   "metadata": {},
   "source": [
    "## Generating alternative training representations\n",
    "\n",
    "In the previous notebook, feature engineering etc TO DO"
   ]
  },
  {
   "cell_type": "code",
   "execution_count": null,
   "metadata": {},
   "outputs": [],
   "source": [
    "from nn_tools.sensor_data import generate_signature_from_series\n",
    "\n",
    "bw_df.apply(generate_signature_from_series, axis=1)"
   ]
  },
  {
   "cell_type": "markdown",
   "metadata": {},
   "source": [
    "## 4.3 Activity — running the simon–pc two-agent system"
   ]
  },
  {
   "cell_type": "markdown",
   "metadata": {},
   "source": [
    "Open the `Classify_my_block_data` program. The configuration for this program assumes that the file `my_net.nnd` which you previously created is in the same folder; that is, `week-8`. The simulation window will show the objects in <a xmlns:str=\"http://exslt.org/strings\" href=\"\">Figure 4.3</a>. Place Simon in front of the triangular object, as shown in Figure 4.3, and run the program.\n",
    "\n",
    "You should find that Simon scans the objects, stops, sends the data log to the PC, receives back a classification, recognises the object, and says the correct number, or says that the object was not recognised. If you run into problems, you can run the program using my trained neural network by running the `Classify_CT_block_data` program.\n"
   ]
  }
 ],
 "metadata": {
  "jupytext": {
   "cell_metadata_filter": "-all",
   "formats": "ipynb,.md//md",
   "main_language": "python"
  }
 },
 "nbformat": 4,
 "nbformat_minor": 4
}
