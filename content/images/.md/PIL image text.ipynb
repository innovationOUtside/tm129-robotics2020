{
 "cells": [
  {
   "cell_type": "code",
   "execution_count": null,
   "id": "occasional-costa",
   "metadata": {},
   "outputs": [],
   "source": [
    "from PIL import Image, ImageDraw, ImageFont"
   ]
  },
  {
   "cell_type": "code",
   "execution_count": null,
   "id": "changed-reverse",
   "metadata": {},
   "outputs": [],
   "source": [
    "!ls /usr/share/fonts/truetype/dejavu/"
   ]
  },
  {
   "cell_type": "code",
   "execution_count": null,
   "id": "hollywood-barcelona",
   "metadata": {},
   "outputs": [],
   "source": [
    "im = Image.open('SS9_car_305_top_40.png')\n",
    "position = (100, 100)\n",
    "text = \"Explanatory text\"\n",
    "font = ImageFont.truetype('/usr/share/fonts/truetype/dejavu/DejaVuSerif-Bold.ttf', 64)\n",
    "color = (0, 0, 0)"
   ]
  },
  {
   "cell_type": "code",
   "execution_count": null,
   "id": "sitting-scale",
   "metadata": {},
   "outputs": [],
   "source": [
    "\n",
    "# get text size\n",
    "text_size = font.getsize(text)\n",
    "\n",
    "# initialise the drawing context with the image object as background\n",
    "draw = ImageDraw.Draw(im)\n",
    "\n",
    "\n",
    "draw.rectangle([position, (position[0]+text_size[0]+10,position[1]+text_size[1]+10)], fill='orange', outline='orange', width=5)\n",
    "draw.text(position, text, fill=color, font=font)\n",
    "draw.line([(0,0),position], fill='red', width=5)\n",
    "im"
   ]
  },
  {
   "cell_type": "markdown",
   "id": "qualified-graduation",
   "metadata": {},
   "source": [
    "The following will load in the matplotlib interactive backend, then when you hove the cursor over the image, it will show the current co-ordinates."
   ]
  },
  {
   "cell_type": "code",
   "execution_count": null,
   "id": "sweet-forum",
   "metadata": {},
   "outputs": [],
   "source": [
    "%matplotlib notebook\n",
    "import matplotlib.pyplot as plt\n",
    "\n",
    "plt.imshow(im)"
   ]
  },
  {
   "cell_type": "code",
   "execution_count": null,
   "id": "announced-deposit",
   "metadata": {},
   "outputs": [],
   "source": [
    "#https://stackoverflow.com/a/52574134/454773\n",
    "coords = None\n",
    "\n",
    "%matplotlib notebook\n",
    "import matplotlib.pyplot as plt\n",
    "import numpy as np\n",
    "import ipywidgets as wdg  # Using the ipython notebook widgets\n",
    "\n",
    "fig = plt.figure()\n",
    "plt.imshow(im)\n",
    "\n",
    "# Create and display textarea widget\n",
    "txt = wdg.Textarea(\n",
    "    value='',\n",
    "    placeholder='',\n",
    "    description='Co-ords:',\n",
    "    disabled=False\n",
    ")\n",
    "display(txt)\n",
    "\n",
    "# Define a callback function that will update the textarea\n",
    "def onclick(event):\n",
    "    global coords\n",
    "    coords=event\n",
    "    txt.value = f'{coords.x}, {coords.y}'  # Dynamically update the text box above\n",
    "\n",
    "# Create an hard reference to the callback not to be cleared by the garbage collector\n",
    "ka = fig.canvas.mpl_connect('button_press_event', onclick)"
   ]
  },
  {
   "cell_type": "code",
   "execution_count": null,
   "id": "metric-basic",
   "metadata": {},
   "outputs": [],
   "source": [
    "coords.x, coords.y"
   ]
  },
  {
   "cell_type": "code",
   "execution_count": null,
   "id": "arabic-multimedia",
   "metadata": {},
   "outputs": [],
   "source": [
    "dir(coords)"
   ]
  },
  {
   "cell_type": "code",
   "execution_count": null,
   "id": "secret-negative",
   "metadata": {},
   "outputs": [],
   "source": [
    "#im.show()"
   ]
  },
  {
   "cell_type": "code",
   "execution_count": null,
   "id": "administrative-waste",
   "metadata": {},
   "outputs": [],
   "source": [
    "image_name_output = '03_add_text_to_image_02_input_01.jpg'\n",
    "im.save(image_path_output + image_name_output)"
   ]
  },
  {
   "cell_type": "code",
   "execution_count": null,
   "id": "computational-clark",
   "metadata": {},
   "outputs": [],
   "source": [
    "%matplotlib inline"
   ]
  },
  {
   "cell_type": "code",
   "execution_count": null,
   "id": "composite-allocation",
   "metadata": {},
   "outputs": [],
   "source": []
  }
 ],
 "metadata": {
  "jupytext": {
   "formats": "ipynb,.md//md"
  },
  "kernelspec": {
   "display_name": "Python 3",
   "language": "python",
   "name": "python3"
  }
 },
 "nbformat": 4,
 "nbformat_minor": 5
}
