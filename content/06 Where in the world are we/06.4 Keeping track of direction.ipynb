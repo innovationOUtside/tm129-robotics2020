{
 "cells": [
  {
   "cell_type": "markdown",
   "metadata": {},
   "source": [
    "\n",
    "## 4 Keeping track of direction — which way are we heading?\n",
    "\n",
    "As well as keeping track of how much the wheels have turned, and estimating location on that basis, we can also use the robot’s gyroscope – often referred to as a ‘gyro’ – sensor to tell us which direction it is facing.\n",
    "\n",
    "In the following activities, you will see how the gyroscope and position sensors can be used to keep track of where the robot has been, as well as helping it get to where it needs to go.\n",
    "\n",
    "So let's get the simulated loaded in the normal way and then find out where we're heading next..."
   ]
  },
  {
   "cell_type": "code",
   "execution_count": null,
   "metadata": {},
   "outputs": [],
   "source": [
    "from nbev3devsim.load_nbev3devwidget import roboSim, eds\n",
    "\n",
    "%load_ext nbev3devsim"
   ]
  },
  {
   "cell_type": "markdown",
   "metadata": {
    "activity": true
   },
   "source": [
    "### 4.1 Activity — Detecting orientation\n",
    "\n",
    "The following program defines a simple edge follower that allows the robot to navigate its way around the shape described in the *Two_shapes* background, logging the gyro sensor as it does so.\n",
    "\n",
    "Show the chart, enable the gyro trace, and download and run the program. Purely by observation of the chart view of the gyro data, do you think you would be able to determine the shape corresponding to the path followed by the robot?\n",
    "\n",
    "*Stop the downloaded program executing either from the _Simulator controls_ or the simulator keyboard shortcut (`S`).*"
   ]
  },
  {
   "cell_type": "code",
   "execution_count": null,
   "metadata": {
    "activity": true
   },
   "outputs": [],
   "source": [
    "%%sim_magic_preloaded -c -b Two_shapes -x 400 -y 700 -a -90\n",
    "\n",
    "colorRight = ColorSensor(INPUT_3)\n",
    "gyro = GyroSensor(INPUT_4)\n",
    "\n",
    "while True:  \n",
    "    \n",
    "    #Get the gyro value\n",
    "    print('Gyro: '+str(gyro.angle))\n",
    "    \n",
    "    intensity_right = colorRight.reflected_light_intensity_pc\n",
    "    if intensity_right > 70:\n",
    "        left_motor_speed = SpeedPercent(0)\n",
    "        right_motor_speed = SpeedPercent(20)\n",
    "    else:\n",
    "        left_motor_speed = SpeedPercent(20)\n",
    "        right_motor_speed = SpeedPercent(0)\n",
    "    tank_drive.on(left_motor_speed, right_motor_speed)"
   ]
  },
  {
   "cell_type": "markdown",
   "metadata": {
    "student": true
   },
   "source": [
    "*Add your observations about the gyro data trace as the robot follows the boundary of the provided shape. To what extent can you use the data to identify the shape of the route taken by the robot? How might you identify the path more exactly?*"
   ]
  },
  {
   "cell_type": "markdown",
   "metadata": {
    "activity": true,
    "heading_collapsed": true
   },
   "source": [
    "#### Example observations\n",
    "\n",
    "*Click on the arrow in the sidebar or run this cell to reveal some example observations.*"
   ]
  },
  {
   "cell_type": "markdown",
   "metadata": {
    "activity": true,
    "hidden": true
   },
   "source": [
    "The gyro sensor values follow a stepped trace in the chart, dropping by 90 or so every time the robot turns a corner, corresponding to a right-angled turn anticlockwise. The values oscillate as the robot proceeds, wiggling as it follows the edge of the line. The width (as measured along the x-axis) of each step is roughly the same, so the robot is describing a square.\n",
    "\n",
    "I also noticed that the angle count is not a direction: it seems to be an accumulated count of degrees turned in a particular direction. If the robot were to turn the other way then I would expect the count to go down. I even did a little experiment to check that."
   ]
  },
  {
   "cell_type": "code",
   "execution_count": null,
   "metadata": {
    "activity": true,
    "hidden": true
   },
   "outputs": [],
   "source": [
    "%%sim_magic_preloaded -c\n",
    "\n",
    "gyro = GyroSensor(INPUT_4)\n",
    "\n",
    "say('Turn one way')\n",
    "tank_drive.on(SpeedPercent(20), SpeedPercent(0))\n",
    "while gyro.angle < 90:\n",
    "    print('Gyro: '+str(gyro.angle))\n",
    "    \n",
    "say('and the other')\n",
    "# Turn the other way\n",
    "tank_drive.on(SpeedPercent(0), SpeedPercent(20))\n",
    "while gyro.angle > 0:\n",
    "    print('Gyro: '+str(gyro.angle))\n",
    "\n",
    "say('all done')"
   ]
  },
  {
   "cell_type": "markdown",
   "metadata": {
    "activity": true
   },
   "source": [
    "## 4.2 Challenge — Navigating to a specified location\n",
    "\n",
    "The *WRO_2018_Regular_Junior* challenge background has several coloured areas marked on it at (350, 580), (1180, 960) and (2000, 580).\n",
    "\n",
    "From the starting location of the robot at (1180, 150, 90), see if you can write a program that drives the robot using dead reckoning – that is, using just the motor `position` and the gyro `angle` values – to drive the robot to one of those locations. Then see if you can get it to drive to one of the other locations.\n",
    "\n",
    "The background co-ordinates give locations in millimeters relative to a fixed origin.\n",
    "\n",
    "Once you have got your program to work reasonably reliably, try adding some noise to the motors using the *Wheel noise* slider in the simulator. Does this have any effect on the performance of your control program?"
   ]
  },
  {
   "cell_type": "markdown",
   "metadata": {
    "student": true
   },
   "source": [
    "*You may find it helpful to do some sums to calculate how far the robot has to travel. Make some notes on that here.*"
   ]
  },
  {
   "cell_type": "code",
   "execution_count": null,
   "metadata": {
    "student": true
   },
   "outputs": [],
   "source": [
    "# Maybe try our some sums here?"
   ]
  },
  {
   "cell_type": "code",
   "execution_count": null,
   "metadata": {
    "student": true
   },
   "outputs": [],
   "source": [
    "%%sim_magic_preloaded -p -x -1180 -y 150 -a 90 -b WRO_2018_Regular_Junior\n",
    "\n",
    "# YOUR CODE HERE\n"
   ]
  },
  {
   "cell_type": "markdown",
   "metadata": {
    "student": true
   },
   "source": [
    "*Comment on how well your robot performed the task here. What strategy did you use to come up with your solution?*\n",
    "\n",
    "*Describe what effect, if any, adding noise to the motors does to the performance of the robot in completing this dead-reckoning task.*"
   ]
  },
  {
   "cell_type": "markdown",
   "metadata": {},
   "source": [
    "## 4.3 Summary\n",
    "\n",
    "In this notebook and the previous one, you have seen how the motor `position` tachometer can be used to record how far each motor has turned, and the gyroscope `angle` value to keep track of the accumulated directional turns, in degrees, it has turned. In each case, turning one way increases the count, whereas turning the other decreases it.\n",
    "\n",
    "Tacho counts and gyro angles are very useful for providing an indicative feel for how a robot has traveled, but they may not be particularly accurate. It is worth making the point again that for many data traces, it is the *trends* and *differences* that often tell us much of what we need to know rather than the actual values.\n",
    "\n",
    "*This completes the practical activities for this week. It's been quite a short week, so use any extra time to recap on what you've learned over the previous weeks, try out some of your own experiments or challenges, or make a start on next week's activities. Or take a well deserved break...*"
   ]
  }
 ],
 "metadata": {
  "jupytext": {
   "formats": "ipynb,.md//md"
  },
  "kernelspec": {
   "display_name": "Python 3",
   "language": "python",
   "name": "python3"
  }
 },
 "nbformat": 4,
 "nbformat_minor": 4
}
