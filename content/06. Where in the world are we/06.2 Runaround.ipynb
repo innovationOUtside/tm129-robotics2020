{
 "cells": [
  {
   "cell_type": "markdown",
   "id": "authorized-iceland",
   "metadata": {},
   "source": [
    "# 2 Runaround"
   ]
  },
  {
   "cell_type": "markdown",
   "id": "wicked-moses",
   "metadata": {},
   "source": [
    "In the Asimov short story ‘Runaround’ in *I, Robot* there is a situation where there is a conflict between the instruction given to collect selenium (*Second Law: obey a human*), and Speedy’s (the robot’s) strong self-preservation potential (*Third Law: protect its own existence*), which is endangered by the gases around the selenium pool. In this notebook you are going to see how such conflicts, which are often represented as conflicting potentials, can affect a robot’s behaviour.\n",
    "\n",
    "Because the conflicting potentials vary from point to point in the space, we can think of these as potential maps. One way of modelling a potential map is to think of it in geographical terms, with the potential map represented as a ‘landscape’ over an area. Areas of high potential are represented by high points in the landscape; areas of low potential are represented as valleys. We can take the modelling step one step further, and represent this landscape using a topographical map, where high points are represented by bright colours, and low areas are represented by dark colours.\n",
    "\n",
    "So load the simulator in the normal way and let’s get ready to have a run around..."
   ]
  },
  {
   "cell_type": "code",
   "execution_count": null,
   "id": "covered-sympathy",
   "metadata": {
    "pinned_outputs": []
   },
   "outputs": [],
   "source": [
    "from nbev3devsim.load_nbev3devwidget import roboSim, eds\n",
    "\n",
    "%load_ext nbev3devsim"
   ]
  },
  {
   "cell_type": "markdown",
   "id": "consecutive-federation",
   "metadata": {},
   "source": [
    "## 2.1 Exploring the selenium field\n",
    "\n",
    "Download and run the following program using the *Radial_red* background and the *Small_Robot_Wide_Eyes* robot configuration to explore the environment in pen-down mode. What does the robot do?\n",
    "\n",
    "Use the *Simulator controls* or simulator `S` keyboard shortcut to stop the downloaded program running."
   ]
  },
  {
   "cell_type": "code",
   "execution_count": null,
   "id": "rental-factor",
   "metadata": {},
   "outputs": [],
   "source": [
    "%%sim_magic_preloaded -b Radial_red -pR -r Small_Robot_Wide_Eyes\n",
    "\n",
    "colorLeft = ColorSensor(INPUT_2)\n",
    "colorRight = ColorSensor(INPUT_3)\n",
    "\n",
    "# The GAIN term 'amplifies' the error signal\n",
    "GAIN = 30\n",
    "\n",
    "steering_drive = MoveSteering(OUTPUT_B, OUTPUT_C)\n",
    "steering_drive.on(0, 20)\n",
    "\n",
    "while ((colorLeft.reflected_light_intensity_pc>0.05) \n",
    "       and (colorRight.reflected_light_intensity_pc)>5):\n",
    "    \n",
    "    intensity_left = colorLeft.reflected_light_intensity_pc\n",
    "    intensity_right = colorRight.reflected_light_intensity_pc\n",
    "    \n",
    "    # Maybe useful for debugging\n",
    "    #print(intensity_left, intensity_right)\n",
    "    \n",
    "    # Calculate an error term that turns us towards selenium\n",
    "    error = intensity_right - intensity_left\n",
    "    \n",
    "    # Amplify the error to generate a steering correction value\n",
    "    # The min/max keeps the steering in bounds -100...100\n",
    "    correction = min(max(error * GAIN, -100), 100)\n",
    "    \n",
    "    # Steer the robot accordingly\n",
    "    steering_drive.on(correction, 20)\n",
    "    "
   ]
  },
  {
   "cell_type": "markdown",
   "id": "gentle-danish",
   "metadata": {
    "student": true
   },
   "source": [
    "*Your notes and observations on what happens when the program is executed.*"
   ]
  },
  {
   "cell_type": "markdown",
   "id": "otherwise-juvenile",
   "metadata": {},
   "source": [
    "The previous program is based on one of the earlier Braitenberg programs in which the robot attempts to turn towards the bright light source. This corresponds to the ‘get selenium’ instruction."
   ]
  },
  {
   "cell_type": "markdown",
   "id": "accessory-indian",
   "metadata": {
    "tags": [
     "alert-success"
    ]
   },
   "source": [
    "By inspection of the program, you might be wondering: what happens if we set `error = intensity_left - intensity_right`? Can you make a prediction about that? Is your prediction likely to be affected by the starting point and orientation of the robot? Try it and see!"
   ]
  },
  {
   "cell_type": "markdown",
   "id": "broke-geometry",
   "metadata": {},
   "source": [
    "But what happens if we add a further rule that causes the robot to shy away from the selenium if it gets too close? <!-- JD: (It's not the heat that causes Speedy to shy away from the selenium pool, but the gases above it that would damage the robot.) -->\n",
    "\n",
    "Download and run the following program and observe what happens:"
   ]
  },
  {
   "cell_type": "code",
   "execution_count": null,
   "id": "necessary-textbook",
   "metadata": {},
   "outputs": [],
   "source": [
    "%%sim_magic_preloaded -b Radial_red -P green -pRH -r Small_Robot_Wide_Eyes\n",
    "\n",
    "colorLeft = ColorSensor(INPUT_2)\n",
    "colorRight = ColorSensor(INPUT_3)\n",
    "\n",
    "# The GAIN term \"amplifies\" the error signal\n",
    "GAIN = 30\n",
    "\n",
    "steering_drive = MoveSteering(OUTPUT_B, OUTPUT_C)\n",
    "\n",
    "while ((colorLeft.reflected_light_intensity_pc>0.05) \n",
    "       and (colorRight.reflected_light_intensity_pc)>5):\n",
    "    \n",
    "    intensity_left = colorLeft.reflected_light_intensity_pc\n",
    "    intensity_right = colorRight.reflected_light_intensity_pc\n",
    "    \n",
    "    # Maybe useful for debugging\n",
    "    #print(intensity_left, intensity_right)\n",
    "    \n",
    "    # Calculate an error term that turns us towards selenium\n",
    "    error = intensity_right - intensity_left\n",
    "    \n",
    "    \n",
    "    # If we are too close, override that rule\n",
    "    # and turn the other way\n",
    "    if (intensity_right>75 or intensity_left>75):\n",
    "        error = -2*error\n",
    "    \n",
    "    \n",
    "    # If we are too close to selenium, shy away\n",
    "    if (colorLeft.reflected_light_intensity_pc > 65 or\n",
    "        colorRight.reflected_light_intensity_pc > 65):\n",
    "        error = colorLeft.reflected_light_intensity - colorRight.reflected_light_intensity\n",
    "    \n",
    "    \n",
    "    # Amplify the error to generate a steering correction value\n",
    "    # The min/max keeps the steering in bounds -100...100\n",
    "    correction = min(max(error * GAIN, -100), 100)\n",
    "    \n",
    "    # Steer the robot accordingly\n",
    "    steering_drive.on(correction, 20)\n"
   ]
  },
  {
   "cell_type": "markdown",
   "id": "speaking-founder",
   "metadata": {
    "student": true
   },
   "source": [
    "*Record your observations here.*"
   ]
  },
  {
   "cell_type": "markdown",
   "id": "bright-surgery",
   "metadata": {},
   "source": [
    "When the second program is run, the robot approaches the selenium deposit, then turns away then approaches it again. When I ran the program, it started to ‘thrash’: the robot didn’t seem to know whether to turn left or right. (You may even have started to feel sorry for it...)\n",
    "\n",
    "What happens if you add some sensor noise using the slider as the program is running? Does the addition of some uncertainty in the sensor values help the robot make progress at all?"
   ]
  },
  {
   "cell_type": "markdown",
   "id": "strong-alliance",
   "metadata": {},
   "source": [
    "## 2.2 Summary\n",
    "\n",
    "Simple programs can often lead to complex emergent behaviours. Whilst the control behaviours themselves may be simple, the way they interact with the environment, which may itself be complex, can lead to a wide range of behaviours that you might never think to predict.\n",
    "\n",
    "In the example program in this notebook, you saw how two simple rules – one for turning towards the selenium, another, ‘higher-priority’ rule for turning the other way if you get too close – can also interact to create a complex behaviour from two simple sensor inputs.\n",
    "\n",
    "<!-- JD: explain what's in the next notebook? -->"
   ]
  }
 ],
 "metadata": {
  "jupytext": {
   "formats": "ipynb,.md//md"
  },
  "kernelspec": {
   "display_name": "Python 3",
   "language": "python",
   "name": "python3"
  }
 },
 "nbformat": 4,
 "nbformat_minor": 5
}
