{
 "cells": [
  {
   "cell_type": "markdown",
   "id": "tracked-romance",
   "metadata": {},
   "source": [
    "# 3 Keeping track of distance – how far have we come?\n",
    "\n",
    "One of the main problems a robot has is locating itself in its environment: the simulated robot doesn’t know where it is in the simulated world. Within the simulator, some `x` and `y` coordinate values are used by the simulator to keep track of the simulated robot’s location, and an angle parameter records its orientation. This information is then used to draw the robot on the background canvas.\n",
    "\n",
    "Typically when using a simulator, we try not to cheat by providing the robot direct access to simulator state information. That would be rather like you going outside, raising your arms to the sky, shouting ‘*Where am I?*’ and the universe responding with your current location.\n",
    "\n",
    "Instead, we try to ensure that the information on which the robot makes its decisions comes from its own internal reasoning and any sensor values it has access to.\n",
    "\n",
    "At this point, we could create a magical ‘simulated-GPS’ sensor that allows the robot to identify its location from the simulator’s point of view; but in the real world we can’t always guarantee that external location services are available. For example, GPS doesn’t work indoors or underground, or even in many cities where line-of-sight access to four or more GPS satellites is not available.\n",
    "\n",
    "Instead, we often have to rely on other sensors to help us identify our robot’s location, at least in a relative sense to where it has been previously. So that’s what we’ll be exploring in this notebook.\n",
    "\n",
    "Load in the simulator in the normal way, and then we’ll begin."
   ]
  },
  {
   "cell_type": "code",
   "execution_count": null,
   "id": "boolean-chemical",
   "metadata": {
    "lines_to_next_cell": 2
   },
   "outputs": [],
   "source": [
    "from nbev3devsim.load_nbev3devwidget import roboSim, eds\n",
    "\n",
    "%load_ext nbev3devsim"
   ]
  },
  {
   "cell_type": "markdown",
   "id": "several-clause",
   "metadata": {},
   "source": [
    "## 3.1 Motor tachometer or ‘rotation sensor’ data\n",
    "\n",
    "We can get a sense of how far the robot has travelled by logging the `.position` of each motor as recorded by its internal tachometer. Inside a real motor, a rotary encoder can be used to detect rotation of the motor. When the motor turns in one direction, the count goes up; when it turns in the other direction, it goes down.\n",
    "\n",
    "We’ll be looking at the logged data using notebook tools, so let’s take the precaution of clearing the datalog and also setting up a default chart object:"
   ]
  },
  {
   "cell_type": "code",
   "execution_count": null,
   "id": "blind-budapest",
   "metadata": {},
   "outputs": [],
   "source": [
    "%sim_data --clear\n",
    "%sim_magic --chart"
   ]
  },
  {
   "cell_type": "markdown",
   "id": "earned-passion",
   "metadata": {},
   "source": [
    "In the chart, make sure the *Wheel left* and *Wheel right* traces are selected."
   ]
  },
  {
   "cell_type": "markdown",
   "id": "cognitive-replacement",
   "metadata": {},
   "source": [
    "As well as each sensor value, we will also capture the simulator ‘clock time’.\n",
    "\n",
    "When running the simulator, you may have noticed that the simulator sometimes seems to slow down, perhaps because your computer processor is interrupted by having to commit resource to some other task. Inside the simulator, however, is an internal clock that counts simulator steps. Depending on how much work the simulator has to do to calculate updates in each step of the simulator run, this may take more or less ‘real time’ as measured by a clock on your wall (or, more likely, the clock on your mobile phone!).\n",
    "\n",
    "By logging the simulator step time using the preloaded `get_clock()` function, we can create a more accurate plot of the sensor values at each step of simulator time, irrespective of how long that step took to calculate in the real world."
   ]
  },
  {
   "cell_type": "markdown",
   "id": "south-letter",
   "metadata": {
    "tags": [
     "alert-success"
    ]
   },
   "source": [
    "In his book *New Dark Age*, artist James Bridle describes the evolution of weather forecasting based on mathematical models:\n",
    "\n",
    ">In 1950, a team of meteorologists assembled at Aberdeen in order to perform the first automated twenty-four-hour weather forecast.... For this project, the boundaries of the world were the edges of the continental United States; a grid separated it into fifteen rows and eighteen columns. The calculation programmed into the machine consisted of sixteen successive operations, each of which had to be carefully planned and punched into cards, and which in turn output a new deck of cards that had to be reproduced, collated, and sorted. The meteorologists worked in eight-hour shifts, supported by programmers, and the entire run absorbed almost five weeks, 100,000 IBM punch cards, and a million mathematical operations. But when the experimental logs were examined, von Neumann, the director of the experiment, discovered that the actual computational time was almost exactly twenty-four hours. ‘One has reason to hope’, he wrote, that ‘Richardson’s dream of advancing computation faster than the weather may soon be realised’.\n",
    "\n",
    "*Historical note: Lewis Fry Richardson was an early pioneer of weather forecasting, whose story is also summarised by Bridle.*\n",
    "\n",
    "As Bridle observes, the number crunching required to perform a weather forecast requires the solution of lots of complex mathematical equations, so much so that the earliest computers might take days to make a 24-hour weather forecast. If you’re in the habit of checking online weather reports just before you set out for the day, they wouldn’t be much use if they took the next three days to compute. Although our simulator is a simple one, at times it may still take more computational resource than is available to the program for it to compute a single second of time in the simulated world in less than a second of real-world time.\n",
    "\n",
    "Reference: Bridle, J. (2018) *New Dark Age: Technology and the End of the Future*, London: Verso Books."
   ]
  },
  {
   "cell_type": "markdown",
   "id": "addressed-syndrome",
   "metadata": {
    "activity": true
   },
   "source": [
    "### 3.1.1 Activity – Keeping track of motor position data\n",
    "\n",
    "The following program logs the position count as we drive the robot forwards, backwards, wait a while, then turn on the spot slowly one way, then quickly the other. I have also instrumented it so that the simulated robot says aloud what it is about to do next as the program progresses.\n",
    "\n",
    "For convenience, let’s clear the datalog again just here:"
   ]
  },
  {
   "cell_type": "code",
   "execution_count": null,
   "id": "dramatic-tooth",
   "metadata": {
    "activity": true
   },
   "outputs": [],
   "source": [
    "%sim_data --clear"
   ]
  },
  {
   "cell_type": "markdown",
   "id": "athletic-bottle",
   "metadata": {
    "activity": true
   },
   "source": [
    "Download the program, and then enable the *Chart display* from the simulator toggle display buttons.\n",
    "\n",
    "Ensure the *Left wheel* and *Right wheel* traces are selected, then run the program from the *Simulator controls* or keyboard shortcut (`R`).\n",
    "\n",
    "Observe what happens to the wheel position counts as the robot progresses."
   ]
  },
  {
   "cell_type": "code",
   "execution_count": null,
   "id": "dominant-dialogue",
   "metadata": {
    "activity": true
   },
   "outputs": [],
   "source": [
    "%%sim_magic_preloaded -pC -b Empty_Map -x 250 -y 550\n",
    "\n",
    "tank_steering = MoveSteering(OUTPUT_B, OUTPUT_C)\n",
    "\n",
    "tank_steering.left_motor.position = str(0)\n",
    "tank_steering.right_motor.position = str(0)\n",
    "\n",
    "#tank_steering.on(DIRECTION, SPEED)\n",
    "\n",
    "from time import sleep\n",
    "\n",
    "SAMPLE_TIME = 0.1\n",
    "\n",
    "def datalogger():\n",
    "    \"\"\"Simple datalogging function.\"\"\"\n",
    "    print('Wheel_left: {} {}'.format(tank_steering.left_motor.position, get_clock()))\n",
    "    print('Wheel_right: {} {}'.format(tank_steering.right_motor.position, get_clock()))\n",
    "    sleep(SAMPLE_TIME)\n",
    "\n",
    "# Move forwards quickly\n",
    "say(\"Forwards quickly\")\n",
    "tank_steering.on(0, 40)\n",
    "for i in range(20):\n",
    "    datalogger()\n",
    "\n",
    "# Move forwards slowly\n",
    "say(\"Forwards slowly\")\n",
    "tank_steering.on(0, 5)\n",
    "for i in range(40):\n",
    "    datalogger()\n",
    "\n",
    "# Move backwards at intermediate speed\n",
    "say(\"Backwards medium\")\n",
    "tank_steering.on(0, -20)\n",
    "for i in range(20):\n",
    "    datalogger()\n",
    "\n",
    "# Stop awhile\n",
    "say(\"Stop awhile\")\n",
    "tank_steering.on(0, 0)\n",
    "for i in range(20):\n",
    "    datalogger()\n",
    "\n",
    "    \n",
    "# Turn slowly on the spot\n",
    "say(\"On the spot\")\n",
    "tank_steering.on(-100, 5)\n",
    "for i in range(20):\n",
    "    datalogger()\n",
    "    \n",
    "# Turn more quickly on the spot the other way\n",
    "say(\"And back\")\n",
    "tank_steering.on(100, 50)\n",
    "for i in range(20):\n",
    "    datalogger()\n",
    "\n",
    "say(\"All done\")"
   ]
  },
  {
   "cell_type": "markdown",
   "id": "existing-thomson",
   "metadata": {
    "student": true
   },
   "source": [
    "*Record your observations about the chart data trace here. Make your own notes to describe how the behaviour of the different motor position chart traces explains the observed behaviour of the robot.*"
   ]
  },
  {
   "cell_type": "markdown",
   "id": "russian-ability",
   "metadata": {},
   "source": [
    "### 3.1.2 Viewing the data in a notebook chart\n",
    "\n",
    "The chart display in the simulator uses ‘sample number’ along the horizontal *x*-axis to log the data. This can result in some misleading traces as we can currently only add one sensor value to each sample.\n",
    "\n",
    "To plot the data more accurately, we need to plot the samples as a proper time series, with the sample timestamp as the *x*-coordinate.\n",
    "\n",
    "We can do that by charting the data from the datalog directly in the notebook.\n",
    "\n",
    "Retrieve the data from the datalog, and preview it:"
   ]
  },
  {
   "cell_type": "code",
   "execution_count": null,
   "id": "reported-jonathan",
   "metadata": {
    "lines_to_next_cell": 0
   },
   "outputs": [],
   "source": [
    "#Grab the logged data into a pandas dataframe\n",
    "df = %sim_data\n",
    "\n",
    "#Preview the first few rows of the dataset\n",
    "df.head()"
   ]
  },
  {
   "cell_type": "markdown",
   "id": "searching-clearing",
   "metadata": {},
   "source": [
    "Now we can chart the data:"
   ]
  },
  {
   "cell_type": "code",
   "execution_count": null,
   "id": "according-block",
   "metadata": {},
   "outputs": [],
   "source": [
    "# Load in the seaborn charting package\n",
    "import seaborn as sns\n",
    "\n",
    "# Generate a line chart from the datalog dataframe\n",
    "ax = sns.lineplot(x=\"time\",\n",
    "                  y=\"value\",\n",
    "                  # The hue category defines line color\n",
    "                  hue='variable',\n",
    "                  data=df);"
   ]
  },
  {
   "cell_type": "markdown",
   "id": "automated-learning",
   "metadata": {},
   "source": [
    "Here’s a stylised impression of what my chart looked like:\n",
    "\n",
    "![](../images/position_time.png)\n",
    "\n",
    "You’ll notice that I have added some vertical grey lines to my chart to indicate different areas of the chart, as well as some simple labels identifying each area.\n",
    "\n",
    "Annotating charts can often help us make more sense of them when we try to read them. In creating such charts there is often a balance between making a ‘production quality’ chart that you could share with other people as part of a formal report (or formal teaching materials!) and a ‘good enough for personal use’ feel for your own reference. \n",
    "\n",
    "In this regard, you may also notice that the chart shown above has an informal, stylised feel to it. The chart really was created from the data I collected, but I then styled it using an XKCD chart theme to differentiate it from the charts generated within the notebook."
   ]
  },
  {
   "cell_type": "markdown",
   "id": "saved-decision",
   "metadata": {
    "heading_collapsed": true,
    "tags": [
     "optional-extra"
    ]
   },
   "source": [
    "### 3.1.3 Create your own annotated chart (optional)\n",
    "\n",
    "*Click on the arrow in the sidebar or run this cell to reveal how to create the annotated chart.*"
   ]
  },
  {
   "cell_type": "markdown",
   "id": "extended-mobility",
   "metadata": {
    "hidden": true,
    "tags": [
     "optional-extra"
    ]
   },
   "source": [
    "I used the following code to create the annotated chart. I manually set the horizontal *x*-axis values where I wanted the vertical lines to appear. "
   ]
  },
  {
   "cell_type": "code",
   "execution_count": null,
   "id": "wireless-compiler",
   "metadata": {
    "hidden": true,
    "tags": [
     "optional-extra"
    ]
   },
   "outputs": [],
   "source": [
    "# Manually set x-axis coordinates for vertical lines\n",
    "forward_fast = 0.3\n",
    "forward_slow = 1.6\n",
    "backwards_medium = 4.1\n",
    "stop_awhile = 5.5\n",
    "on_the_spot = 6.7\n",
    "and_back = 8.0\n",
    "\n",
    "import warnings\n",
    "warnings.filterwarnings('ignore', '.*missing from current font.*',)\n",
    "\n",
    "# We need some additional tools from matplotlib\n",
    "import matplotlib.pyplot as plt\n",
    "\n",
    "# I am using the xkcd theme.\n",
    "# This gives the chart an informal\n",
    "# or 'indicative example' feel\n",
    "with plt.xkcd():\n",
    "    # Generate a line chart from the datalog dataframe\n",
    "    ax = sns.lineplot(x=\"time\",\n",
    "                      y=\"value\",\n",
    "                      # The hue category defines line color\n",
    "                      hue='variable',\n",
    "                      data=df)\n",
    "\n",
    "    # Move the legend outside the plotting area.\n",
    "    # The prevents it from overlapping areas of the plot\n",
    "    ax.legend( bbox_to_anchor=(1.0, 0.5))\n",
    "\n",
    "    o = 0.3 #offset text from line\n",
    "    line_colour = 'lightgrey'\n",
    "\n",
    "    def plot_line_label(x, label):\n",
    "        \"\"\"Annotate boundaried areas.\"\"\"\n",
    "        # Create a vertical line\n",
    "        plt.axvline(x, c=line_colour)\n",
    "        # Create a text label\n",
    "        plt.text(x+o, 20, label)\n",
    "\n",
    "    # Add lines and labels to the chart\n",
    "    plot_line_label(forward_fast, 'Fwd\\nfast')\n",
    "    plot_line_label(forward_slow, 'Fwd\\nslow')\n",
    "    plot_line_label(backwards_medium, 'Back\\nmed')\n",
    "    plot_line_label(stop_awhile, 'Stop\\nawhile')\n",
    "    plot_line_label(on_the_spot, 'On the\\nspot')\n",
    "    plot_line_label(and_back, 'And\\nback');\n",
    "\n",
    "    # We can save the image as a file if required.\n",
    "    # Increase the figure size\n",
    "    #plt.figure(figsize=(12,8))\n",
    "    # Nudge the margins so we don't cut off labels\n",
    "    #plt.subplots_adjust(left=0.1, bottom=0.1,\n",
    "    #                    right=0.7, top=0.8)\n",
    "    # Save the image file\n",
    "    #plt.savefig('position_time.png')\n"
   ]
  },
  {
   "cell_type": "markdown",
   "id": "animated-grounds",
   "metadata": {
    "activity": true
   },
   "source": [
    "### 3.1.4 Activity – Observing motor position counts for different motor actions (optional)\n",
    "\n",
    "How do the position counts vary for each wheel if the robot is driving forwards in a gentle curve, or a tight turn?\n",
    "\n",
    "For example, we might create such turns using the following steering commands:\n",
    "\n",
    "```python\n",
    "# Graceful forwards left\n",
    "tank_steering.on(-30, 20)\n",
    "\n",
    "# Tighter turn forwards and to the right <!-- JD: but this is the same as the code above for a 'graceful left turn'. Needs to be something like 40, 100 -->\n",
    "tank_steering.on(-30, 20)\n",
    "```\n",
    "\n",
    "Feel free to make your own predictions, or run a program, grab the data and analyse it yourself. If you do run your own experiment(s), then remember to clear the datalog before running your data-collecting code in the simulator."
   ]
  },
  {
   "cell_type": "markdown",
   "id": "smaller-heater",
   "metadata": {},
   "source": [
    "## 3.2 Measuring how far the robot has travelled\n",
    "\n",
    "The wheel `position` data corresponds to an angular measure, that is, how far the wheel has turned."
   ]
  },
  {
   "cell_type": "markdown",
   "id": "tender-conservation",
   "metadata": {
    "activity": true
   },
   "source": [
    "### 3.2.1 Activity – Driving the robot for a fixed number of wheel rotations\n",
    "\n",
    "Use the following program to drive the robot for a fixed number of rotations and observe how the position count increases. Based on your observations, make a note of what you think the position count actually measures."
   ]
  },
  {
   "cell_type": "code",
   "execution_count": null,
   "id": "suburban-salvation",
   "metadata": {
    "activity": true
   },
   "outputs": [],
   "source": [
    "%%sim_magic_preloaded\n",
    "\n",
    "tank_steering= MoveSteering(OUTPUT_B, OUTPUT_C)\n",
    "\n",
    "def reporter(last_position=0):\n",
    "    position = int(tank_steering.left_motor.position)\n",
    "    diff = position - last_position\n",
    "    print('Current {}, diff {}'.format(position, diff))\n",
    "    say('Diff {}'.format(diff))\n",
    "    return position\n",
    "\n",
    "tank_steering.on_for_rotations(0, 10, 1)\n",
    "last_position = reporter()\n",
    "\n",
    "tank_steering.on_for_rotations(0, 10, 1)\n",
    "last_position = reporter(last_position)\n",
    "\n",
    "tank_steering.on_for_rotations(0, 10, 1)\n",
    "reporter(last_position)"
   ]
  },
  {
   "cell_type": "markdown",
   "id": "christian-separation",
   "metadata": {
    "student": true
   },
   "source": [
    "*Based on your observations of position counts for the number of wheel rotations travelled, what do you think the position value measures? Bear in mind that the simulation, like the real world, may have sources of noise that affect the actual values recorded, rather than ‘ideal’ ones.*\n",
    "\n",
    "*Record your impressions here.*"
   ]
  },
  {
   "cell_type": "markdown",
   "id": "complex-problem",
   "metadata": {
    "activity": true,
    "heading_collapsed": true
   },
   "source": [
    "#### Example observations\n",
    "\n",
    "*Click the arrow in the sidebar or run this cell to reveal my observations.*"
   ]
  },
  {
   "cell_type": "markdown",
   "id": "affecting-wayne",
   "metadata": {
    "activity": true,
    "hidden": true
   },
   "source": [
    "When I ran the program, I got counts between 365 and 380 for each rotation, depending in part on the speed I set the wheels to run at.\n",
    "\n",
    "The simulator actually runs in steps, with 30 steps per simulated second. This means that at 20% speed, the wheel will turn approximately 6 to 7&nbsp;degrees each step. By the time the simulator detects that the wheel has reached *at least* 360&nbsp;degrees (i.e. completed one rotation), it may already have exceeded that amount of turn; so the stopping condition for the `.on_for_rotations` function, which is based on observing the turned angle, may actually stop the motors after more than one rotation.\n",
    "\n",
    "So notwithstanding the values we get for the position count after a single rotation, the position is actually measured in degrees."
   ]
  },
  {
   "cell_type": "markdown",
   "id": "hearing-journalism",
   "metadata": {
    "activity": true
   },
   "source": [
    "## 3.3 Controlling the distance travelled\n",
    "\n",
    "If we can continuously monitor the distance we have travelled, then we can use that as part of a control strategy in a non-blocking way: rather than tell the motors to turn on for N rotations, we can just turn them on, and then take a particular action when they have turned far enough *as we have measured them*."
   ]
  },
  {
   "cell_type": "markdown",
   "id": "terminal-average",
   "metadata": {
    "activity": true
   },
   "source": [
    "### 3.3.1 Activity – Are we there yet?\n",
    "\n",
    "In this activity, you will experiment with driving the robot over a fixed distance.\n",
    "\n",
    "Nominally, the wheel diameter is set in the robot configuration file to `56`, that is, 56&nbsp;mm, so just under six&nbsp;centimetres.\n",
    "\n",
    "What this means is that we can drive the robot forward a specified distance.\n",
    "\n",
    "The bands shown on the *Coloured_bands* background are 60&nbsp;cm high.\n",
    "\n",
    "See if you can write a program that drives the robot exactly the length of one of the bands by monitoring the `position` value of one of the motors as the robot drives in a straight line.\n",
    "\n",
    "How accurately can you cover the distance? (Don’t panic, or waste too much time, if you can’t...). Comment on your results.\n",
    "\n",
    "__Hint: how many degrees will the wheel need to turn for the wheel to turn 60&nbsp;cm?__"
   ]
  },
  {
   "cell_type": "markdown",
   "id": "distributed-degree",
   "metadata": {
    "activity": true,
    "tags": [
     "alert-danger"
    ]
   },
   "source": [
    "__Warning: if you use a loop then put something in it that uses up simulator time and progresses the clock, such as a short `sleep(0.1)` command, otherwise you may find that your simulator Python program gets stuck and hangs the browser.__\n",
    "\n",
    "*If that happens try to reload the notebook in the browser.*\n",
    "\n",
    "*If that doesn’t work, from the notebook home page, try to shutdown the notebook.*\n",
    "\n",
    "*If that is also stuck, restart your browser.*\n",
    "\n",
    "*If things are still not working properly, you will need to restart the container from Docker dashboard or the command line: `docker restart tm129vce`.*"
   ]
  },
  {
   "cell_type": "markdown",
   "id": "future-combine",
   "metadata": {
    "activity": true
   },
   "source": [
    "*Note: the `.position` value is returned as a string and should be converted to an integer (`int`) if you want to use it numerically.*"
   ]
  },
  {
   "cell_type": "markdown",
   "id": "indoor-pioneer",
   "metadata": {
    "student": true
   },
   "source": [
    "*How many degrees does the wheel need to turn? Record your calculation and result here.*\n",
    "\n",
    "*Remember that you can use a code cell as a interactive calculator. You can access pi as a number by importing `from math import pi`.*"
   ]
  },
  {
   "cell_type": "code",
   "execution_count": null,
   "id": "italian-governor",
   "metadata": {
    "activity": true
   },
   "outputs": [],
   "source": [
    "%%sim_magic_preloaded -b Coloured_bands -p -x 1100 -y 200 -a 90\n",
    "\n",
    "from time import sleep\n",
    "    \n",
    "# Your code here"
   ]
  },
  {
   "cell_type": "markdown",
   "id": "graphic-negative",
   "metadata": {
    "student": true
   },
   "source": [
    "*Record your notes and observations here about how effectively the robot performed the desired task.*"
   ]
  },
  {
   "cell_type": "markdown",
   "id": "embedded-representative",
   "metadata": {
    "activity": true,
    "heading_collapsed": true
   },
   "source": [
    "#### Example observations\n",
    "\n",
    "*Click on the arrow in the sidebar or run this cell to reveal some example observations.*"
   ]
  },
  {
   "cell_type": "markdown",
   "id": "distinct-spring",
   "metadata": {
    "activity": true,
    "hidden": true
   },
   "source": [
    "The `position` counter reports the number of degrees turned by the wheel, so let’s start by finding out how many degrees we need to turn the wheel to travel 60&nbsp;cm.\n",
    "\n",
    "Recall that the wheel diameter is 56&nbsp;mm."
   ]
  },
  {
   "cell_type": "code",
   "execution_count": null,
   "id": "noted-stone",
   "metadata": {
    "activity": true,
    "hidden": true
   },
   "outputs": [],
   "source": [
    "from math import pi\n",
    "\n",
    "distance = 60 #cm\n",
    "\n",
    "# 56mm is 5.6cm\n",
    "circumference = 5.6 * pi\n",
    "\n",
    "no_of_turns = distance / circumference\n",
    "no_of_degrees = no_of_turns * 360\n",
    "\n",
    "int(no_of_degrees)"
   ]
  },
  {
   "cell_type": "markdown",
   "id": "infinite-japanese",
   "metadata": {
    "activity": true,
    "hidden": true
   },
   "source": [
    "We can use this calculation in a program that drives the robot forward until the wheels have turned by the desired amount, and then stops.\n",
    "\n",
    "Note that the speed of the robot may affect how accurately the robot can perform the task, bearing in mind the comment earlier about how the simulator uses quite crude discrete time steps to animate the world."
   ]
  },
  {
   "cell_type": "code",
   "execution_count": null,
   "id": "nearby-invalid",
   "metadata": {
    "activity": true,
    "hidden": true
   },
   "outputs": [],
   "source": [
    "%%sim_magic_preloaded -b Coloured_bands -p -x 1100 -y 200 -a 90\n",
    "from time import sleep\n",
    "\n",
    "tank_steering= MoveSteering(OUTPUT_B, OUTPUT_C)\n",
    "\n",
    "# Go Forwards\n",
    "DIRECTION = 0\n",
    "SPEED = 20\n",
    "\n",
    "tank_steering.on(DIRECTION, SPEED)\n",
    "\n",
    "\n",
    "# Do the math...\n",
    "from math import pi\n",
    "\n",
    "distance = 60 #cm\n",
    "\n",
    "# 56mm is 5.6cm\n",
    "circumference = 5.6 * pi\n",
    "\n",
    "no_of_turns = distance / circumference\n",
    "no_of_degrees = no_of_turns * 360\n",
    "\n",
    "\n",
    "while int(tank_steering.left_motor.position) < no_of_degrees:\n",
    "    sleep(0.01)\n",
    "    print(\"Position: {}\".format(tank_steering.left_motor.position))"
   ]
  },
  {
   "cell_type": "markdown",
   "id": "loaded-cornwall",
   "metadata": {
    "activity": true,
    "hidden": true
   },
   "source": [
    "When I ran the program, it did pretty well, running between the lines and stopping maybe just a fraction too long."
   ]
  },
  {
   "cell_type": "markdown",
   "id": "impressive-fraction",
   "metadata": {},
   "source": [
    "## 3.4 Measuring the width of a coloured track\n",
    "\n",
    "One of the activities in the Open University [T176 *Engineering* residential school](http://www.open.ac.uk/jobs/residential-schools/modules/modules-summer-schools/txr120-engineering-active-introduction) is a robotics challenge to recreate a test track that depicts several coloured bands of various widths purely from data logged by an EV3 Lego robot.\n",
    "\n",
    "Let’s try a related, but slightly simpler challenge: identifying the width of the track that is displayed on the *Loop* background."
   ]
  },
  {
   "cell_type": "markdown",
   "id": "valuable-lesbian",
   "metadata": {
    "activity": true
   },
   "source": [
    "### 3.4.1 Using logged data to take measurements from the simulated world (optional)\n",
    "\n",
    "In this activity, you will use data logged by the robot to learn something about the structure of the world it is operating in.\n",
    "\n",
    "Clear the data from the datalog:"
   ]
  },
  {
   "cell_type": "code",
   "execution_count": null,
   "id": "present-friend",
   "metadata": {
    "activity": true
   },
   "outputs": [],
   "source": [
    "%sim_data --clear"
   ]
  },
  {
   "cell_type": "markdown",
   "id": "physical-windows",
   "metadata": {
    "activity": true
   },
   "source": [
    "Then download and run the following program in the simulator to drive the robot over the test track."
   ]
  },
  {
   "cell_type": "code",
   "execution_count": null,
   "id": "paperback-reading",
   "metadata": {
    "activity": true
   },
   "outputs": [],
   "source": [
    "%%sim_magic_preloaded -C -b Loop\n",
    "from time import sleep\n",
    "\n",
    "SAMPLE_TIME = 0.1\n",
    "\n",
    "tank_steering= MoveSteering(OUTPUT_B, OUTPUT_C)\n",
    "\n",
    "# Define a light sensor\n",
    "colorLeft = ColorSensor(INPUT_2)\n",
    "\n",
    "def datalogger():\n",
    "    \"\"\"Simple datalogging function.\"\"\"\n",
    "    print('Wheel_left: {} {}'.format(tank_steering.left_motor.position, get_clock()))\n",
    "    print('Light_left: {} {}'.format(colorLeft.full_reflected_light_intensity, get_clock()))\n",
    "    sleep(SAMPLE_TIME)\n",
    "    \n",
    "tank_steering.on(0, 20)\n",
    "while int(tank_steering.left_motor.position)<1000:\n",
    "    datalogger()\n"
   ]
  },
  {
   "cell_type": "markdown",
   "id": "crude-allah",
   "metadata": {
    "activity": true
   },
   "source": [
    "From a chart display of the data, such as the one that is generated if you run the code cell below, how might you identify the width of the black line?\n",
    "\n",
    "*Hint: in the interactive plotly chart, if you hover over the chart to raise the plotly toolbar then you can select `Compare data on hover` to report the line values for a particular x-axis value; the `Toggle Spike Lines` view will also show dynamic crosslines highlighting the current x- and y-values.*"
   ]
  },
  {
   "cell_type": "code",
   "execution_count": null,
   "id": "promotional-paper",
   "metadata": {
    "activity": true,
    "lines_to_next_cell": 0
   },
   "outputs": [],
   "source": [
    "import pandas as pd\n",
    "pd.options.plotting.backend = \"plotly\"\n",
    "\n",
    "# Grab the logged data into a pandas dataframe\n",
    "df_line = %sim_data\n",
    "\n",
    "# Generate a line chart from the datalog dataframe\n",
    "df_line.plot( x = 'time', y = 'value', color='variable')"
   ]
  },
  {
   "cell_type": "markdown",
   "id": "genetic-visitor",
   "metadata": {
    "student": true
   },
   "source": [
    "*How can you use the logged data displayed in the chart above, or otherwise, to work out how wide the black line is? What other information, if any, do you need in order to express this as a distance in (simulated) metres?*\n",
    "\n",
    "*Record your observations here.*"
   ]
  },
  {
   "cell_type": "markdown",
   "id": "special-price",
   "metadata": {
    "activity": true,
    "heading_collapsed": true
   },
   "source": [
    "#### Example observations\n",
    "*Click on the arrow in the sidebar or run this cell to reveal some example observations.*"
   ]
  },
  {
   "cell_type": "markdown",
   "id": "statewide-indonesian",
   "metadata": {
    "activity": true,
    "hidden": true
   },
   "source": [
    "The chart shows the increasing trace from the position sensor and another trace for the light sensor. The light sensor value dips from 100 to 0 as the robot goes over the black line, then goes back to 100.\n",
    "\n",
    "The horizontal *x*-axis is simulator time. If we take the position count reading at the same time that the robot detects the black line, and again at the same time that the robot crosses back onto the white background, then we can subtract the first position value from the second to give use the distance travelled by the robot.\n",
    "\n",
    "To convert this to simulated metres, we would need to know what distance is travelled for a motor position increment value of&nbsp;1.\n",
    "\n",
    "If the position count is an angular measure (for example, degrees of wheel turn), then we could calculate the distance travelled as:\n",
    "\n",
    "`wheel_circumference * degrees_turned / 360`\n",
    "\n",
    "since the distance travelled by the wheel in one complete turn is the same as its circumference.\n",
    "\n",
    "We could calculate the circumference as:\n",
    "\n",
    "`wheel_circumference = 2 * wheel_radius * pi`\n",
    "\n",
    "or:\n",
    "\n",
    "`wheel_circumference = wheel_diameter * pi`\n",
    "\n",
    "both of which could be measured from the robot *if* we had physical access to it."
   ]
  },
  {
   "cell_type": "markdown",
   "id": "distinct-charlotte",
   "metadata": {},
   "source": [
    "## 3.5 Summary\n",
    "\n",
    "In this notebook you have seen how the motor `position` tachometer can be used to record how far, in fractions of a turn, each motor has turned. Moving forwards increases the motor tacho counts, whereas reversing reduces them both; turning increases one whilst reducing the other. \n",
    "\n",
    "Tacho counts are very useful for providing an indicative feel for how a robot has travelled, but they may not be particularly accurate. As with many data traces, *trends* and *differences* often tell us much of what we need to know.\n",
    "\n",
    "Through working with the motors and sensors at quite a low level, you have also started to learn how the implementation of the simulator itself may affect the performance of our programs. In certain cases, we may even have to do things in the program code that are there simply to accommodate some ‘feature’ of the way the simulator is implemented that would not occur in the real robot. In the physical world, time flows continuously of its own accord – in real time! In the simulator, we simulate it in discrete steps, which may even take longer to compute than the amount of time the step is supposed to represent.\n",
    "\n",
    "In the next notebook, you will review another sensor that helps our robot know where it’s going: the gyro sensor."
   ]
  }
 ],
 "metadata": {
  "jupytext": {
   "formats": "ipynb,.md//md"
  },
  "kernelspec": {
   "display_name": "Python 3",
   "language": "python",
   "name": "python3"
  }
 },
 "nbformat": 4,
 "nbformat_minor": 5
}
