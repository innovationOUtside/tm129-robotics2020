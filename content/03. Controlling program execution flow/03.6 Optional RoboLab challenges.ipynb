{
 "cells": [
  {
   "cell_type": "markdown",
   "id": "found-sweden",
   "metadata": {},
   "source": [
    "# 6 Optional challenges"
   ]
  },
  {
   "cell_type": "markdown",
   "id": "conceptual-bicycle",
   "metadata": {},
   "source": [
    "These challenges are more difficult, so we’ve made them optional. If you want more programming experience before tackling these challenges, then you can always come back to this section later in the block.\n",
    "\n",
    "Check the module forums for additional challenges. Please feel free to share you own challenges with your fellow students (but please play nicely!)."
   ]
  },
  {
   "cell_type": "markdown",
   "id": "empty-aquarium",
   "metadata": {},
   "source": [
    "## 6.1 Configuring the simulator\n",
    "\n",
    "To download code to the simulator, use one of the simulator magics.\n",
    "\n",
    "For example, prefix a code cell with the `%%sim_magic_preloaded` block magic as the first line to download the code in the cell to the simulator. Remember that you can use the `%sim_magic_preloaded --preview` command to show the code that is automatically imported and the `%sim_magic --help` command to show all available magic switches.\n",
    "\n",
    "You may find the following specific switches useful when configuring the simulator via the magic:\n",
    "\n",
    "- `-b BACKGROUND_NAME`: load in a particular background file\n",
    "- `-x X_COORD`: specify the initial *x*-coordinate value for the simulated robot\n",
    "- `-y Y_COORD`: specify the initial *y*-coordinate value for the simulated robot\n",
    "- `-a ANGLE`: specify the initial rotation angle for the simulated robot\n",
    "- `-p`: specify pen-down mode\n",
    "- `-C`: clear the pen trace.\n",
    "\n",
    "Load in the simulator in the usual way:"
   ]
  },
  {
   "cell_type": "code",
   "execution_count": null,
   "id": "underlying-essay",
   "metadata": {},
   "outputs": [],
   "source": [
    "from nbev3devsim.load_nbev3devwidget import roboSim, eds\n",
    "\n",
    "%load_ext nbev3devsim"
   ]
  },
  {
   "cell_type": "markdown",
   "id": "restricted-spectacular",
   "metadata": {},
   "source": [
    "### 6.1.2 Challenge – Fitness training take&nbsp;3\n",
    "\n",
    "Modify the program you developed for the *Fitness training take&nbsp;2* challenge so that the robot travels the same distance as the first traverse on the third and final traverse, and double the first distance on the second traverse.\n",
    "\n",
    "Download your program to the simulator and run it to check that it performs as required."
   ]
  },
  {
   "cell_type": "markdown",
   "id": "following-seller",
   "metadata": {
    "student": true
   },
   "source": [
    "*Make any notes to help you complete the task here.*"
   ]
  },
  {
   "cell_type": "code",
   "execution_count": null,
   "id": "later-accounting",
   "metadata": {
    "student": true
   },
   "outputs": [],
   "source": [
    "# Add your code here...\n",
    "# Remember to start the cell with some appropriate magic to download code to the simulator\n"
   ]
  },
  {
   "cell_type": "markdown",
   "id": "sustained-particle",
   "metadata": {
    "student": true
   },
   "source": [
    "*Make any notes/observations about how your program worked, or any issues associated with getting it to work, etc. to help you complete the task here.*"
   ]
  },
  {
   "cell_type": "markdown",
   "id": "secure-workstation",
   "metadata": {},
   "source": [
    "### 6.1.3 Challenge – Fitness training take&nbsp;4\n",
    "\n",
    "Modify the program you developed for the *Fitness training take&nbsp;3* challenge so that the robot can easily be tasked with performing any number of traverses. On odd-numbered traverses it should travel a short distance; on even-numbered traverses it should travel twice that distance.\n",
    "\n",
    "Download your program to the simulator and run it to check that it performs as required."
   ]
  },
  {
   "cell_type": "markdown",
   "id": "surprising-blend",
   "metadata": {
    "student": true
   },
   "source": [
    "*Make any notes to help you complete the task here.*"
   ]
  },
  {
   "cell_type": "code",
   "execution_count": null,
   "id": "individual-aircraft",
   "metadata": {
    "student": true
   },
   "outputs": [],
   "source": [
    "# Add your code here...\n",
    "# Remember to start the cell with some appropriate magic to download code to the simulator\n"
   ]
  },
  {
   "cell_type": "markdown",
   "id": "identified-cigarette",
   "metadata": {
    "student": true
   },
   "source": [
    "*Make any notes/observations about how your program worked, or any issues associated with getting it to work, etc. to help you complete the task here.*"
   ]
  }
 ],
 "metadata": {
  "jupytext": {
   "formats": "ipynb,.md//md"
  },
  "kernelspec": {
   "display_name": "Python 3",
   "language": "python",
   "name": "python3"
  }
 },
 "nbformat": 4,
 "nbformat_minor": 5
}
