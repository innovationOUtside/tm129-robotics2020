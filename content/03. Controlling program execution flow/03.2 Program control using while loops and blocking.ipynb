{
 "cells": [
  {
   "cell_type": "markdown",
   "metadata": {},
   "source": [
    "# 2. Program control flow using a `while...` loop\n",
    "\n",
    "In the previous notebook you learned how a `for..in..` loop could be used to iterate through a list of items, with a conditional test in the body of the loop providing an opportunity to either foreshorten code execution within the loop's code block using a `continue` command, or break out of the loop using a `break` command.\n",
    "\n",
    "In this notebook, you learn how a `while` command combines loop control with it's own conditional test."
   ]
  },
  {
   "cell_type": "markdown",
   "metadata": {},
   "source": [
    "## 2.1 The `while` loop\n",
    "\n",
    "A `while...` loop tests the truth of a statement on each iteration of the loop. In ‘pseudo-code’, the behaviour can be described as:\n",
    "\n",
    "```\n",
    "\n",
    "do the following sequence of instructions while a condition holds \n",
    "\n",
    " { \n",
    "\n",
    " instruction 1 \n",
    "\n",
    " instruction 2 \n",
    "\n",
    " instruction 3 \n",
    "\n",
    " instruction 4 \n",
    "\n",
    " instruction 5 \n",
    "\n",
    " etc \n",
    "\n",
    " } \n",
    " ```\n",
    "\n",
    "In some respects the `while` resembles an `if` statement in that if (while) the tested condition is true, then control passes into the body of the while statement block, and if it evaluates false, then control passes immediately to the next statement after the while block. However, *unlike* the `if` statement, when all the statements inside the `while` block have been executed, in sequential order, control does not then flow to the next statement after the while block: it passes back to the top of the while loop and the condition is re-evaluated.\n",
    "\n",
    "In this way, the program can keep repeating the lines of code inside the while block until some condition is met, or some condition fails.\n",
    "\n",
    "Note that if the conditionally tested value changes to a value that would cause the condition to evaluate as false whilst the program flow is inside the while block, the statements inside the while block will continue to execute in sequential order. Control only passes from the while statement to the statement after the while block at the point when control passes to the while statement and its condition is tested and found to evaluate as false.\n",
    "\n",
    "Let’s see an example of how to use a `while` loop to help us keep track of whether we have counted up to a particular number yet. We'll use `nbtutor` to illustrate what's going on as the loop executes, so let's load that magic in: \n",
    "\n",
    "```python\n",
    "%reload_ext nbtutor\n",
    "```"
   ]
  },
  {
   "cell_type": "markdown",
   "metadata": {},
   "source": [
    "The following lines of code are rendered using language sensitive code styling within this markdown cell:\n",
    "\n",
    "```python\n",
    "#%%nbtutor --reset --force\n",
    "counter = 1\n",
    "\n",
    "while counter < 5:\n",
    "    print(counter)\n",
    "    counter = counter + 1\n",
    "    \n",
    "#Display the final value of counter\n",
    "counter\n",
    "```\n",
    "\n",
    "Although it *looks* like code, we can't execute it because it isn't in a code cell.\n",
    "\n",
    "Copy the code and paste it into the empty code cell below (or create your own new code cell) and run the cell and observe what happens.\n",
    "\n",
    "Then uncomment the `%%nbtutor`cell magic by deleting the `#` symbol at the start of the first line and run it again to step through the code as it executes a line at a time.\n",
    "\n",
    "Observe how the program flow repeatedly moves from the last line of the code inside the `while` block back up to the `while` statement, before going from the `while` statement to the final `counter` statement when the conditional tests eventually evaluate as false."
   ]
  },
  {
   "cell_type": "code",
   "execution_count": null,
   "metadata": {
    "student": true
   },
   "outputs": [],
   "source": [
    "# Paste a copy of the code here"
   ]
  },
  {
   "cell_type": "markdown",
   "metadata": {
    "tags": [
     "alert-success"
    ]
   },
   "source": [
    "Typically, a package only needs to imported once into a notebook even if we call it from multiple calls.  However, if we run a cell run using the `%%nbtutor --reset --force` magic, it creates a fresh Python environment with no previously set variables or imported packages for its code execution. In such a case, we would need to import the package again onto that specific cell."
   ]
  },
  {
   "cell_type": "markdown",
   "metadata": {
    "activity": true
   },
   "source": [
    "### 2.1.1 Activity — Generating several random numbers using a `while` loop\n",
    "\n",
    "The Python `random` function from the `random` package is capable of generating a random number between 0 and 1, as you will see if you run the following cell repeatedly."
   ]
  },
  {
   "cell_type": "code",
   "execution_count": null,
   "metadata": {
    "activity": true
   },
   "outputs": [],
   "source": [
    "import random\n",
    "\n",
    "random.random()"
   ]
  },
  {
   "cell_type": "markdown",
   "metadata": {
    "activity": true
   },
   "source": [
    "We can think of this as a coin toss, where we toss ‘heads’ for values greater than or equal to 0.5, or ‘tails’ for values less than&nbsp;0.5.\n",
    "\n",
    "Write a simple while loop that tests a simulated coin toss for as long as it tosses the equivalent of ‘heads’, printing ‘heads’ for each successful toss.\n",
    "\n",
    "Run the code cell several times to see what happens."
   ]
  },
  {
   "cell_type": "code",
   "execution_count": null,
   "metadata": {
    "activity": true
   },
   "outputs": [],
   "source": [
    "# Add your code here"
   ]
  },
  {
   "cell_type": "markdown",
   "metadata": {
    "activity": true,
    "heading_collapsed": true
   },
   "source": [
    "#### Example solution\n",
    "*Click on the arrow in the sidebar or run this cell to reveal an example solution.*"
   ]
  },
  {
   "cell_type": "markdown",
   "metadata": {
    "activity": true,
    "hidden": true
   },
   "source": [
    "To test the coin toss, we are looking for a random value of greater than or equal to 0.5, that is, a value of `random.random() >= 0.5`.\n",
    "\n",
    "We can use this as a conditional test in a `while` loop. In the body of the loop, we print ‘heads’ to show we are in the loop."
   ]
  },
  {
   "cell_type": "code",
   "execution_count": null,
   "metadata": {
    "activity": true,
    "hidden": true
   },
   "outputs": [],
   "source": [
    "while random.random() >= 0.5:\n",
    "    print(\"heads\")"
   ]
  },
  {
   "cell_type": "markdown",
   "metadata": {
    "activity": true,
    "hidden": true
   },
   "source": [
    "If we run the cell multiple times, then sometimes nothing is printed (if the ‘coin’ flips as ‘tails’, that is, the first random value is *less than* 0.5); at other times, we may get one or more ‘heads’ displayed. (The most I saw in several attempts was eight heads in a row!)"
   ]
  },
  {
   "cell_type": "markdown",
   "metadata": {},
   "source": [
    "## 2.2 Infinite loops\n",
    "\n",
    "We can create a special sort loop known as an *infinite loop* using the `while True:` construction, where the statement `True` *always* evaluates as `True` and so the loop repeats until the program is forced to stop or the flow is forced out of the loop and onto the next instruction using a `break` statement.\n",
    "\n",
    "The following code cell demonstrates how to escape an otherwise infinite loop by using a `break` statement. Run the cell to see how it works. Uncomment the `nbtutor` magic to step through it a line at a time as it executes."
   ]
  },
  {
   "cell_type": "code",
   "execution_count": null,
   "metadata": {
    "lines_to_next_cell": 0
   },
   "outputs": [],
   "source": [
    "#%%nbtutor --reset --force\n",
    "counter = 0\n",
    "\n",
    "while True:\n",
    "    counter = counter + 1\n",
    "    print(counter)\n",
    "    if counter == 5:\n",
    "        break\n",
    "        \n",
    "print(f\"We escaped at counter=={counter}\")"
   ]
  },
  {
   "cell_type": "markdown",
   "metadata": {
    "tags": [
     "alert-success"
    ]
   },
   "source": [
    "In the expression `counter = counter + 1` we explicitly set the new value of `counter` on the left hand side of the expression to be equal to the current value of `counter` incremented by `1`.\n",
    "\n",
    "We could also use the equivalent expression `counter += 1`, which reads as \"add the value on the right hand side of the expression to the numerical variable on the left hand side."
   ]
  },
  {
   "cell_type": "markdown",
   "metadata": {},
   "source": [
    "## 2.3 Using a `while` loop in the simulator\n",
    "\n",
    "Being able to loop *whilst* a particular condition holds allows us to perform actions *until* that condition no longer holds.\n",
    "\n",
    "This may be particularly useful in a robot programming context, as the following simple example demonstrates.\n",
    "\n",
    "\n",
    "To start with, load the simulator into the notebook:"
   ]
  },
  {
   "cell_type": "code",
   "execution_count": null,
   "metadata": {},
   "outputs": [],
   "source": [
    "from nbev3devsim.load_nbev3devwidget import roboSim, eds\n",
    "%load_ext nbev3devsim"
   ]
  },
  {
   "cell_type": "markdown",
   "metadata": {},
   "source": [
    "In the simulator reset the trace and select the *Grey_bands* background. (You can also disable the *Pen Down* control: we don’t need to keep track of where the robot has travelled for this activity.)\n",
    "\n",
    "Now run the following code cell to download the program to the simulator and then run it in the simulator, observing the behaviour of the robot. (If you have already not selected the  *Grey_bands* background, it should be automatically loaded by the magic invocation.)"
   ]
  },
  {
   "cell_type": "code",
   "execution_count": null,
   "metadata": {},
   "outputs": [],
   "source": [
    "%%sim_magic_preloaded -b Grey_bands\n",
    "\n",
    "# Drive the robot forwards\n",
    "tank_drive.on(SpeedPercent(50), SpeedPercent(50))\n",
    "\n",
    "# For the sensor value, use the\n",
    "# reflected light intensity as a percentage\n",
    "sensor_value = colorLeft.reflected_light_intensity_pc\n",
    "\n",
    "# Test the sensor value; loop while the\n",
    "# sensor value exceeds 85\n",
    "while sensor_value > 85:\n",
    "    # Display the sensor value in the simulator output window\n",
    "    print(sensor_value)\n",
    "    # Update the sensor_value variable\n",
    "    # to the latest sensor reading\n",
    "    sensor_value = colorLeft.reflected_light_intensity_pc\n",
    "\n",
    "# The sensor value is now greater than 85 \n",
    "# so print a final message...\n",
    "print(\"I now see {}\".format( sensor_value))\n",
    "\n",
    "# And explicitly turn the motors off \n",
    "# to stop the simulated robot\n",
    "tank_drive.off()"
   ]
  },
  {
   "cell_type": "markdown",
   "metadata": {
    "student": true
   },
   "source": [
    "*Record your observations here about what the robot does when you run the program.*"
   ]
  },
  {
   "cell_type": "markdown",
   "metadata": {},
   "source": [
    "When you run the program in the simulator, the robot should drive forwards until it encounters the second grey line, and then it should stop.\n",
    "\n",
    "*By default, the robot will stop when the program ends, because the simulator run stops at the end of the program. However, it is good practice to explicitly turn the motors off yourself. By doing this, you know for sure what state the motors are in at the end of the program. In the above example, what would happen if, for some reason, the motor off command was omitted and the simulator carried on running even as the program execution had completed?*\n",
    "\n",
    "The program works by checking the value from one of the robot’s sensors: a downward-facing light sensor, which you will meet in more detail in a later notebook. The sensor returns a ‘reflected light’ reading: a percentage value which relates to the colour of the background over which the robot is travelling. The simulator output display window shows the sensor value, starting at `100` when the robot is on the plain white background. This value is above the conditionally tested threshold value of `99` used in the original program’s `while` statement, and so the program continues looping round the while loop. When the robot encounters the first grey line, the sensor returns a lower value of just over 94 when I ran the program."
   ]
  },
  {
   "cell_type": "markdown",
   "metadata": {
    "tags": [
     "alert-success"
    ]
   },
   "source": [
    "*Rather than testing and reporting the `colorLeft.reflected_light_intensity_pc` value directly, the program is constructed as it is because the sensor value may change in going from the `while` program step to the `print()` step. Even though computers may step between lines of code very quickly, they still take a finite time to do so.*"
   ]
  },
  {
   "cell_type": "markdown",
   "metadata": {},
   "source": [
    "Try modifying the numerical value used in the `while` conditional test and downloading and running the modified program. Can you get the robot to stop as soon as it encounters the second medium grey band? How about on the third, dark grey line, or on the final, black line?"
   ]
  },
  {
   "cell_type": "markdown",
   "metadata": {
    "activity": true
   },
   "source": [
    "## 2.4 Blocking program control flow\n",
    "\n",
    "One of the features of a sequential program is that control is passed in turn from one line of code to the next. Control passes when a particular line has finished executing. Typically, a line of code is evaluated in a just a few milliseconds (that is, thousandths of second), or even quicker. But some commands may take some considerable time before they complete their execution, and hold up the program's execution until they have completed. Such statements are said to be *blocking*: they *block* the continued control flow for a non-trivial amount of time.\n",
    "\n",
    "You have already seen this in the form the `time.sleep()` command. This delays the passage of control flow until the sleep period (in seconds) has elapsed. However any things that are \"free-running\", such as switched on motors driving forwards or backwards, continue to run even as the blocking statements hold up progress of the program control flow.\n",
    "\n",
    "Let's explore this in a slightly different context: what do we do when the robot is speaking?"
   ]
  },
  {
   "cell_type": "markdown",
   "metadata": {
    "activity": true
   },
   "source": [
    "### 2.4.1 Activity – Counting up to 10\n",
    "\n",
    "As well as programming the simulated robot to respond to a sensor value, we can also get it to count aloud.\n",
    "\n",
    "The following program, for example, when downloaded to the simulator, will cause the simulated robot to count aloud as well as printing the count value in the simulator *Output* display.\n",
    "\n",
    "Can you get the robot to count to 10, rather than 5?\n",
    "\n",
    "Also observe how the spoken count and the printed count values are displayed. Are they in synchronisation with each other?"
   ]
  },
  {
   "cell_type": "code",
   "execution_count": null,
   "metadata": {
    "activity": true
   },
   "outputs": [],
   "source": [
    "%%sim_magic_preloaded --autorun -WO\n",
    "\n",
    "say(\"Listen to me count\")\n",
    "\n",
    "count = 1\n",
    "\n",
    "while count < 5:\n",
    "    say( count)\n",
    "    print( count )\n",
    "    count = count + 1"
   ]
  },
  {
   "cell_type": "markdown",
   "metadata": {
    "student": true
   },
   "source": [
    "*Record your observations here about when the spoken and printed counts occur relative to each other. How might you explain this behaviour?*"
   ]
  },
  {
   "cell_type": "markdown",
   "metadata": {},
   "source": [
    "### 2.4.2 Making the program wait\n",
    "\n",
    "When you ran the previous program, you should have noticed that the printed count values appeared almost at the same time as each other, whereas the spoken count values were clearly spoken one after the other.\n",
    "\n",
    "By default, the preloaded `say()` command is *non-blocking*: phrases to be spoken are added to a \"first in, first out\" (FIFO) queue managed using a parallel running process running outside the simulator as part of your browser's own control flow. Essentially, the `say()` command asks the browser to handle the spoken statement, and once it has made that request of the browser, it considers itself to have completed. At that point, it can pass control onto the next statement in the downloaded simulator program, even if the browser has not completed the actual speaking task.\n",
    "\n",
    "However, we can also get the `say()` function to operate in a __blocking__ mode by passing the `wait=True` parameter to it. In this case, the `say()` command does *not* consider itself to have successfully completed until the provided phrase has been spoken. This means that it will not pass control to the next line of the downloaded program until the browser informs it that the phrase has been spoken.\n",
    "\n",
    "Run the following code cell to see this behaviour in action:"
   ]
  },
  {
   "cell_type": "code",
   "execution_count": null,
   "metadata": {},
   "outputs": [],
   "source": [
    "%%sim_magic_preloaded --autorun -WO\n",
    "\n",
    "say(\"Listen to me count\")\n",
    "\n",
    "count = 1\n",
    "\n",
    "while count < 5:\n",
    "    # The say() command by default will also print\n",
    "    # the message to the simulator Output display\n",
    "    say( count, wait=True)\n",
    "    count = count + 1"
   ]
  },
  {
   "cell_type": "markdown",
   "metadata": {
    "student": true
   },
   "source": [
    "*Record your observations here about when the spoken and printed count values appear relative to each other this time. How does this behaviour compare to previously? How do you explain the behaviour in each case?*"
   ]
  },
  {
   "cell_type": "markdown",
   "metadata": {},
   "source": [
    "### 2.4.3 Blocking behaviour in robot control programs\n",
    "\n",
    "If you turn the simulated robot's motors on, they continue running until either they are switched off by another statement in the program, or by the program completing.\n",
    "\n",
    "For example, as before, the following program will drive the robot forward until it sees the second grey line, at which point it will stop:"
   ]
  },
  {
   "cell_type": "code",
   "execution_count": null,
   "metadata": {},
   "outputs": [],
   "source": [
    "%%sim_magic_preloaded -b Grey_bands --autorun\n",
    "\n",
    "tank_drive.on(SpeedPercent(50), SpeedPercent(50))\n",
    "\n",
    "sensor_value = colorLeft.reflected_light_intensity_pc\n",
    "\n",
    "while sensor_value > 85:\n",
    "    sensor_value = colorLeft.reflected_light_intensity_pc"
   ]
  },
  {
   "cell_type": "markdown",
   "metadata": {},
   "source": [
    "But what happens if we start the robot driving forwards and then using a blocking `say(wait=True)` command at the start of the program?"
   ]
  },
  {
   "cell_type": "code",
   "execution_count": null,
   "metadata": {},
   "outputs": [],
   "source": [
    "%%sim_magic_preloaded -b Grey_bands --autorun\n",
    "\n",
    "tank_drive.on(SpeedPercent(50), SpeedPercent(50))\n",
    "\n",
    "say(\"\"\"My motors are now running,\n",
    "       so let's get this party started.\n",
    "       Here we go...\"\"\",\n",
    "     wait=True)\n",
    "\n",
    "sensor_value = colorLeft.reflected_light_intensity_pc\n",
    "\n",
    "while sensor_value > 85:\n",
    "    sensor_value = colorLeft.reflected_light_intensity_pc"
   ]
  },
  {
   "cell_type": "markdown",
   "metadata": {
    "student": true
   },
   "source": [
    "*Record your observations about what the robot does this time. Can you explain it's behaviour?*"
   ]
  },
  {
   "cell_type": "markdown",
   "metadata": {},
   "source": [
    "Some of the robot's own motor operations are also blocking.\n",
    "\n",
    "For example:\n",
    "\n",
    "- the `.on_for_rotations()` command starts the motor and is then blocking until the motor has turned for the specified number of rotations, at which point the motor is switched off and control passes to the next statement of the program;\n",
    "- the `.on_for_seconds()` command starts the motor and is then blocking until  a specified amount of time has elapsed, at which point the motor is switched off and control passes to the next statement of the program.\n",
    "\n",
    "Using a blocking motor command can therefore provide an unwanted behaviour.\n",
    "\n",
    "For example, let's run the motors for a bit before we pass control to the loop that should stop the robot at the third grey line:"
   ]
  },
  {
   "cell_type": "code",
   "execution_count": null,
   "metadata": {},
   "outputs": [],
   "source": [
    "%%sim_magic_preloaded -b Grey_bands --autorun\n",
    "\n",
    "tank_drive.on_for_rotations(SpeedPercent(50),\n",
    "                            SpeedPercent(50),\n",
    "                            10)\n",
    "\n",
    "# The show=True parameter will also print the spoken message\n",
    "say(\"\"\"Start looping...\"\"\")\n",
    "\n",
    "sensor_value = colorLeft.reflected_light_intensity_pc\n",
    "\n",
    "while sensor_value > 85:\n",
    "    sensor_value = colorLeft.reflected_light_intensity_pc"
   ]
  },
  {
   "cell_type": "markdown",
   "metadata": {
    "student": true
   },
   "source": [
    "*Record your observations here describing what the robot does when the program is downloaded. How do you explain its behaviour?*"
   ]
  },
  {
   "cell_type": "markdown",
   "metadata": {},
   "source": [
    "## 2.5 Travelling a specific distance\n",
    "\n",
    "The blocking nature of some of the motor commands presents us with a challenge that might at first feel insurmountable: if we want the robot to drive forwards for a specified distance `.on_for_X()` command to turn the motors on for a specific time or number of rotations, *we can't do anything else* during that time, such as collect sensor data, because the motor command will be blocking the flow of program control.\n",
    "\n",
    "However, the motor drive commands do provide us with `.left_motor.position` and `.right_motor.position` tacho values that describe how far each wheel has turned.\n",
    "\n",
    "Using a `while` loop, we could set up a program to drive the robot forwards in straight line, perhaps collecting some sensor data as it does so, until a particular distance, as tested by a condition in the `while` loop, has been traversed.\n",
    "\n",
    "For example, the following program will drive the robot forwards until the left motor tacho count reaches a value of 1000:"
   ]
  },
  {
   "cell_type": "code",
   "execution_count": null,
   "metadata": {},
   "outputs": [],
   "source": [
    "%%sim_magic_preloaded -b Empty_Map --autorun -ORH\n",
    "\n",
    "from time import sleep\n",
    "\n",
    "# Turn the motors on\n",
    "tank_drive.on(SpeedPercent(50), SpeedPercent(50))\n",
    "\n",
    "while int(tank_drive.left_motor.position) < 1000:\n",
    "    print(\"Left motor value:\", tank_drive.left_motor.position)\n",
    "    # We need some delay in the loop\n",
    "    # or the program will hang\n",
    "    sleep(0.1)\n",
    "    \n",
    "say(\"All done\")"
   ]
  },
  {
   "cell_type": "markdown",
   "metadata": {},
   "source": [
    "## 2.6 Summary\n",
    "\n",
    "In this notebook, you have seen how we can control the way in which program statements are executed in a program using a `while` loop, which checks a condition at start of each loop and then either passes control to the first line inside the block if the condition evaluates `True`, with control return to the top of the loop, and another conditional test, once the code inside the loop has been evaluated. When the loop's conditional test fails (that is, it evaluates as `False`) control is passed to the next statement in the program outside the while block.\n",
    "\n",
    "As with the `for...in..` loop, control flow within a `while` loop can also be interrupted using `continue` and `break` statements.\n",
    "\n",
    "You also learned how certain statements are \"blocking\" of control flow, in that rather than being evaluated in a near instantaneous fashion, they may take some time to complete before passing control to the next program statement. Blocking commands include `time.sleep(s)`, `say(message, wait=True)` and the motor commands `.on_for_rotations()` and `.on_for_seconds()`.\n",
    "\n",
    "Using blocking statements within a robot control program can lead to behaviours that are not desired, not least because they may prevent the timely inspection of sensor values that are used to determine robot behaviour.\n",
    "\n",
    "In the next notebook, we'll look in a bit more detail at one of the control flow statements you have already met in passing: the conditional `if` branch control flow statement."
   ]
  }
 ],
 "metadata": {
  "jupytext": {
   "formats": "ipynb,.md//md"
  },
  "kernelspec": {
   "display_name": "Python 3",
   "language": "python",
   "name": "python3"
  },
  "language_info": {
   "codemirror_mode": {
    "name": "ipython",
    "version": 3
   },
   "file_extension": ".py",
   "mimetype": "text/x-python",
   "name": "python",
   "nbconvert_exporter": "python",
   "pygments_lexer": "ipython3",
   "version": "3.8.6"
  }
 },
 "nbformat": 4,
 "nbformat_minor": 4
}
