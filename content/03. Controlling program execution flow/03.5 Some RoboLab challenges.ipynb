{
 "cells": [
  {
   "cell_type": "markdown",
   "metadata": {},
   "source": [
    "# 5 RoboLab challenges\n",
    "\n",
    "In this notebook, you will be presented with a series of challenges to complete. These challenges are a bit different from the activities you have completed in earlier in RoboLab sessions. We leave you to work out the details of the challenges for yourself, although you are encouraged to use the forums if you need help or if you want to share or discuss any of your ideas with other students. Essentially, the challenges define a task for you to complete and you must decide how to complete them.\n",
    "\n",
    "The purpose of the challenges is to allow you to try your hand at writing your own RoboLab environment programs. Don’t spend too much time on this work. If you get stuck, take a break: it’s surprising how often a solution to a programming problem comes to mind if you take a few minutes away from the screen and the keyboard and do something completely different instead.\n",
    "\n",
    "The challenges in the next notebook are more difficult and are completely optional. They generally require you to have had some computer programming experience before you started this module."
   ]
  },
  {
   "cell_type": "markdown",
   "metadata": {},
   "source": [
    "## 5.1 Configuring the Simulator\n",
    "\n",
    "To download code to the simulator, use one of the simulator magics.\n",
    "\n",
    "For example, prefix a code cell with the `%%sim_magic_preloaded` block magic as the first line to download the code in the cell to the simulator. Remember, you can use the `%sim_magic_preloaded --preview` command to show the code that is automatically imported and the `%sim_magic --help` command to show all available magic switches.\n",
    "\n",
    "You may find the following specific switches useful when configuring the simulator via the magic:\n",
    "\n",
    "- `-b BACKGROUND_NAME`: load in a particular background file;\n",
    "- `-x X_COORD`: specify the initial x-coordinate value for the simulated robot;\n",
    "- `-y Y_COORD`: specify the initial y-coordinate value for the simulated robot;\n",
    "- `-a ANGLE`: specify the initial rotation angle for the simulated robot;\n",
    "- `-p`: specify pen-down mode;\n",
    "- `-C`: clear pen-trace.\n",
    "\n",
    "Load in the simulator in the usual way:"
   ]
  },
  {
   "cell_type": "code",
   "execution_count": null,
   "metadata": {},
   "outputs": [],
   "source": [
    "from nbev3devsim.load_nbev3devwidget import roboSim, eds\n",
    "\n",
    "%load_ext nbev3devsim"
   ]
  },
  {
   "cell_type": "markdown",
   "metadata": {},
   "source": [
    "### 5.1.1 Challenge – Moving the simulated robot forwards\n",
    "\n",
    "Write a program to make the simulated robot move forwards for two seconds. Download your program to the simulator and run it to check that it performs as required.\n",
    "\n",
    "Remember to prefix the code cell with a magic command that will download the code to the simulator."
   ]
  },
  {
   "cell_type": "markdown",
   "metadata": {
    "student": true
   },
   "source": [
    "*Make any notes / observations about how your programmed worked, or any issues associated with getting it to work, etc, to help you complete the task here.*"
   ]
  },
  {
   "cell_type": "code",
   "execution_count": null,
   "metadata": {
    "student": true
   },
   "outputs": [],
   "source": []
  },
  {
   "cell_type": "markdown",
   "metadata": {
    "tags": [
     "eportfolio"
    ]
   },
   "source": [
    "### 5.1.2 Challenge – Fitness training\n",
    "\n",
    "[*You can complete and submit this activity as part of your ePortfolio.*](https://learn2.open.ac.uk/mod/oucontent/olink.php?id=1704241&targetdoc=TM129+ePortfolio)\n",
    "\n",
    "Write a program to make the simulated robot move forwards a short distance and then reverse to its starting point, repeating this action another four times (so five traverses in all). Download your program to the simulator and run it to check that it performs as required.\n",
    "\n",
    "Optionally, extend your program so that it speaks a count of how many traverses it has completed so far each time it gets back to the start."
   ]
  },
  {
   "cell_type": "markdown",
   "metadata": {
    "student": true
   },
   "source": [
    "*Make any notes to help you complete the task here.*"
   ]
  },
  {
   "cell_type": "code",
   "execution_count": null,
   "metadata": {
    "student": true
   },
   "outputs": [],
   "source": [
    "# Add your code here...\n",
    "# Remember to start the cell with some appropriate magic to downloc code to the simulator\n"
   ]
  },
  {
   "cell_type": "markdown",
   "metadata": {
    "student": true
   },
   "source": [
    "*Make any notes / observations about how your programmed worked, or any issues associated with getting it to work, etc, to help you complete the task here.*"
   ]
  },
  {
   "cell_type": "markdown",
   "metadata": {},
   "source": [
    "### 5.1.3 Challenge – Making a countdown program\n",
    "\n",
    "Write a program to make the simulated robot speak aloud a count down from 10 to 0, finishing by saying ‘OK’. Download the program to the simulator and run it to check that it performs as required."
   ]
  },
  {
   "cell_type": "markdown",
   "metadata": {
    "student": true
   },
   "source": [
    "*Make any notes to help you complete the task here.*"
   ]
  },
  {
   "cell_type": "code",
   "execution_count": null,
   "metadata": {
    "student": true
   },
   "outputs": [],
   "source": [
    "# Add your code here...\n",
    "# Remember to start the cell with some appropriate magic to downloc code to the simulator\n"
   ]
  },
  {
   "cell_type": "markdown",
   "metadata": {
    "student": true
   },
   "source": [
    "*Make any notes / observations about how your programmed worked, or any issues associated with getting it to work, etc, to help you complete the task here.*"
   ]
  },
  {
   "cell_type": "markdown",
   "metadata": {},
   "source": [
    "### 5.1.4 Challenge – Fitness training take&nbsp;2\n",
    "\n",
    "In the first fitness training challenge, the robot had to cover the same distance backwards and forwards five times.\n",
    "\n",
    "In this challenge, the robot should only do three forwards and backwards traverses, but in a slightly different way. On the first, it should travel forward and backward a short distance; on the second, it should travel twice as far forward and backward as the first; on the third, it should travel three times as far forward and backward as the first.\n",
    "\n",
    "Download your program to the simulator and run it to check that it performs as required."
   ]
  },
  {
   "cell_type": "markdown",
   "metadata": {
    "student": true
   },
   "source": [
    "*Make any notes to help you complete the task here.*"
   ]
  },
  {
   "cell_type": "code",
   "execution_count": null,
   "metadata": {
    "student": true
   },
   "outputs": [],
   "source": [
    "# Add your code here...\n",
    "# Remember to start the cell with some appropriate magic to downloc code to the simulator\n"
   ]
  },
  {
   "cell_type": "markdown",
   "metadata": {
    "student": true
   },
   "source": [
    "*Make any notes / observations about how your programmed worked, or any issues associated with getting it to work, etc, to help you complete the task here.*"
   ]
  }
 ],
 "metadata": {
  "jupytext": {
   "formats": "ipynb,.md//md"
  },
  "kernelspec": {
   "display_name": "Python 3",
   "language": "python",
   "name": "python3"
  },
  "language_info": {
   "codemirror_mode": {
    "name": "ipython",
    "version": 3
   },
   "file_extension": ".py",
   "mimetype": "text/x-python",
   "name": "python",
   "nbconvert_exporter": "python",
   "pygments_lexer": "ipython3",
   "version": "3.8.6"
  }
 },
 "nbformat": 4,
 "nbformat_minor": 4
}
