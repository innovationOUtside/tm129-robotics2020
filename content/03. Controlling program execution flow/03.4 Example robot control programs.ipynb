{
 "cells": [
  {
   "cell_type": "markdown",
   "metadata": {},
   "source": [
    "\n",
    "# 4 Example robot control programs\n",
    "\n",
    "In this notebook, we will see some more examples of using control flow operators to control the behaviour of a robot in various situations and you will have an opportunity to create a program of your own from scratch.\n",
    "\n",
    "In the normal way, load in the simulator and then we can get started..."
   ]
  },
  {
   "cell_type": "code",
   "execution_count": null,
   "metadata": {
    "lines_to_next_cell": 2
   },
   "outputs": [],
   "source": [
    "from nbev3devsim.load_nbev3devwidget import roboSim, eds\n",
    "\n",
    "%load_ext nbev3devsim"
   ]
  },
  {
   "cell_type": "markdown",
   "metadata": {
    "hideCode": true,
    "hidePrompt": true
   },
   "source": [
    "## 4.1 Announcing bands as the robot encounters them\n",
    "\n",
    "One of the ways we can use the `say()` function is to count out the bands as we come across them. To do this, we need to identify when we cross from the white background onto a band.\n",
    "\n",
    "We can detect the edge of a band by noticing when the sensor value goes from white (a reading of $100$) to a lower value. The following program will detect such a transition and say that it has crossed onto a band, also displaying a print message to announce the fact too.\n",
    "\n",
    "Reset the robot location in the simulator, run the following cell to download the program to the simulator, and then run it in the simulator. Does it behave as you expected?\n",
    "\n",
    "*You will need to stop the program manually to terminate its execution.*"
   ]
  },
  {
   "cell_type": "code",
   "execution_count": null,
   "metadata": {
    "hideCode": true,
    "hidePrompt": true
   },
   "outputs": [],
   "source": [
    "%%sim_magic_preloaded --background Grey_bands\n",
    "# Onto a band...\n",
    "\n",
    "# Drive the robot slowly\n",
    "tank_drive.on(SpeedPercent(15), SpeedPercent(15))\n",
    "\n",
    "previous_value = colorLeft.reflected_light_intensity_pc\n",
    "\n",
    "while previous_value > 0:\n",
    "    #Uncomment the following line if you want to see the trace of sensor values\n",
    "    #print('Colour: ' + str(colorLeft.reflected_light_intensity_pc ))\n",
    "    current_value = colorLeft.reflected_light_intensity_pc\n",
    "\n",
    "    if previous_value==100 and current_value < 100:\n",
    "        say(\"New band\")\n",
    "\n",
    "    # Set the current value from this iteration\n",
    "    # as the previous value we'll refer to in the next\n",
    "    previous_value = current_value"
   ]
  },
  {
   "cell_type": "markdown",
   "metadata": {
    "hideCode": true,
    "hidePrompt": true
   },
   "source": [
    "The program starts by turning the motors on to drive the robot forward (`tank_drive.on(SpeedPercent(15), SpeedPercent(15))`) and then taking a sample of the light sensor reading (`previous_value = colorLeft.reflected_light_intensity_pc`).\n",
    "\n",
    "The `while True:` statement creates a loop that repeats until the program in the simulator is manually stopped. Inside the loop, a new sample is taken of the light sensor reading (`current_value = colorLeft.reflected_light_intensity_pc`):\n",
    "\n",
    "If the robot was on the white background on the previous iteration (`previous_value==100`) __and__ on a band in this iteration — that is,  `and (current_value < 100)` — then the robot has moved onto a band; declare this via the output display window (`print('Onto a band...')`) and audibly (`say(\"New band\")`).\n",
    "\n",
    "The `previous_value` variable is then updated to the current value (`previous_value = current_value`) and the program goes round the loop again."
   ]
  },
  {
   "cell_type": "markdown",
   "metadata": {
    "hideCode": true,
    "hidePrompt": true
   },
   "source": [
    "You may notice that there may be a slight delay between the robot encountering a band and saying that it has done so. This is because it takes some time to create the audio object inside the browser. If we were to speed up the robot's forward motion, it is quite possible that the robot might leave one band and encounter the next before it had finished saying it had entered the first band."
   ]
  },
  {
   "cell_type": "markdown",
   "metadata": {
    "activity": true,
    "hideCode": true,
    "hidePrompt": true
   },
   "source": [
    "### 4.1.1 Activity — announce when the robot has left a band\n",
    "\n",
    "In the code cell below, the previous robot control program has been modified so that the robot says \"on\" when it goes onto a band. Modify the program further so that it also says, \"off\" when it goes from a band and back onto the white background.\n",
    "\n",
    "Reset the robot location, download the program to the simulator and run it there. Does it behave as you expect?"
   ]
  },
  {
   "cell_type": "code",
   "execution_count": null,
   "metadata": {
    "activity": true,
    "hideCode": true,
    "hidePrompt": true
   },
   "outputs": [],
   "source": [
    "%%sim_magic_preloaded --background Grey_bands\n",
    "# On and off band...\n",
    "\n",
    "# Drive the robot slowly\n",
    "tank_drive.on(SpeedPercent(15), SpeedPercent(15))\n",
    "\n",
    "previous_value = colorLeft.reflected_light_intensity_pc\n",
    "\n",
    "while True:\n",
    "    #Uncomment the following line if you want to see the trace of sensor values\n",
    "    #print('Colour: ' + str(colorLeft.reflected_light_intensity_pc ))\n",
    "    current_value = colorLeft.reflected_light_intensity_pc\n",
    "    if previous_value==100 and current_value < 100:\n",
    "        print('Onto a band...')\n",
    "        say(\"On\")\n",
    "    \n",
    "    #YOUR CODE HERE\n",
    "    \n",
    "    \n",
    "    previous_value = current_value"
   ]
  },
  {
   "cell_type": "markdown",
   "metadata": {
    "activity": true,
    "hideCode": true,
    "hidePrompt": true
   },
   "source": [
    "#### Example solution\n",
    "\n",
    "*Click the arrow in the sidebar or run this cell to reveal an example solution.*"
   ]
  },
  {
   "cell_type": "markdown",
   "metadata": {
    "activity": true,
    "hideCode": true,
    "hidePrompt": true
   },
   "source": [
    "To detect when the robot has left a band, we can check to see if it was on a band on the previous iteration of the `while True:` loop (`previous_value < 100`) and back on the white background on the current iteration (`current_value == 100`)."
   ]
  },
  {
   "cell_type": "code",
   "execution_count": null,
   "metadata": {
    "activity": true,
    "hideCode": true,
    "hidePrompt": true
   },
   "outputs": [],
   "source": [
    "%%sim_magic_preloaded --background Grey_bands -R\n",
    "# On and off band...\n",
    "\n",
    "# Drive the robot slowly\n",
    "tank_drive.on(SpeedPercent(15), SpeedPercent(15))\n",
    "\n",
    "previous_value = colorLeft.reflected_light_intensity_pc\n",
    "\n",
    "while True:\n",
    "    #Uncomment the following line if you want to see the trace of sensor values\n",
    "    #print('Colour: ' + str(colorLeft.reflected_light_intensity_pc ))\n",
    "    current_value = colorLeft.reflected_light_intensity_pc\n",
    "    if previous_value==100 and current_value < 100:\n",
    "        print('Onto a band...')\n",
    "        say(\"On\")\n",
    "    \n",
    "    if previous_value < 100 and current_value == 100:\n",
    "        print('Off a band...')\n",
    "        say(\"Off\")\n",
    "    \n",
    "    previous_value = current_value"
   ]
  },
  {
   "cell_type": "markdown",
   "metadata": {
    "activity": true
   },
   "source": [
    "### 4.1.2 Optional Challenge\n",
    "\n",
    "Using the magic switch to set the original y-coordinate of the simulated robot to a value of `850` (`--ypos 850`), see if you can program the robot to drive over all the bands and only stop when it sees the red circle."
   ]
  },
  {
   "cell_type": "markdown",
   "metadata": {},
   "source": [
    "## 4.2 Creating your own program\n",
    "\n",
    "You have already seen several robot control programs in this notebook, and you now you have an opportunity to create your own from scratch.\n",
    "\n",
    "The following activity includes the skeleton of a program based on descriptive, non-executed comments that describe what each line of the program should do.\n",
    "\n",
    "Using comments in this way provides one way of helping you plan or design a new program.\n",
    "\n",
    "As for the lines of code that you will need to write: you have already seen examples of similar lines in the programs you have already encountered.\n",
    "\n",
    "Reusing lines of code copied from programs that have used such lines successfully in previous programs is a completely valid way of writing your own programs."
   ]
  },
  {
   "cell_type": "markdown",
   "metadata": {
    "activity": true,
    "hideCode": true,
    "hidePrompt": true
   },
   "source": [
    "### 4.2.1 Activity  — count the bands\n",
    "\n",
    "Using the previous programs as inspiration, see if you can write a program that counts each new line as it encounters it, displaying the count to the output window and speaking the count number aloud.\n",
    "\n",
    "Reset the location of the robot, download your program to the simulator and run it there. Does it work as you expected?\n",
    "\n",
    "*Hint: you may find it useful to create a counter, initially set to 0, that you increment whenever you enter a band, and then display it and speak it aloud.*\n",
    "\n",
    "How might you modify the program so that its execution stops once it has counted four lines?"
   ]
  },
  {
   "cell_type": "code",
   "execution_count": null,
   "metadata": {
    "activity": true,
    "hideCode": true,
    "hidePrompt": true
   },
   "outputs": [],
   "source": [
    "%%sim_magic_preloaded --background Grey_bands\n",
    "# Program to count the bands aloud\n",
    "\n",
    "# Start the robot moving\n",
    "\n",
    "# Initial count value\n",
    "\n",
    "# Initial sensor reading\n",
    "\n",
    "# Create a loop\n",
    "\n",
    "    # Check current sensor reading\n",
    "    \n",
    "    # Test when the robot has entered a band\n",
    "\n",
    "        # When on a new band:\n",
    "        # - increase the count\n",
    "\n",
    "        # - display the count in the output window\n",
    "    \n",
    "        # - say the count aloud\n",
    "\n",
    "    # Update previous sensor reading\n",
    "    "
   ]
  },
  {
   "cell_type": "markdown",
   "metadata": {
    "activity": true,
    "heading_collapsed": true,
    "hideCode": true,
    "hidePrompt": true
   },
   "source": [
    "#### Example solution\n",
    "\n",
    "*Click the arrow in the sidebar or run this cell to reveal an example solution.*"
   ]
  },
  {
   "cell_type": "markdown",
   "metadata": {
    "activity": true,
    "hidden": true,
    "hideCode": true,
    "hidePrompt": true
   },
   "source": [
    "Using the comment skeleton as a plan for the program, we can reuse statements from the previous programs with just a few additions.\n",
    "\n",
    "In the first case, we need to add a counter (`count = 0`). Inside the loop, when we detect we are on a new band, increase the counter (`count = count + 1`), display it (`print(count)`) and after casting the count to string value, speak it aloud (`say(count)`).\n",
    "\n",
    "Note that we could make out output display message a little bit more elaborate by constructing an output message string, such as `print(\"Band count is\" + str(count))`. *(Unfortunately, the simulator does not support the rather more elaborate Python \"f-string\" formatting method that allows variable substitution within text strings.)*"
   ]
  },
  {
   "cell_type": "code",
   "execution_count": null,
   "metadata": {
    "activity": true,
    "hidden": true,
    "hideCode": true,
    "hidePrompt": true,
    "lines_to_next_cell": 2
   },
   "outputs": [],
   "source": [
    "%%sim_magic_preloaded --background Grey_bands -R\n",
    "# Program to count the bands aloud\n",
    "\n",
    "# Start the robot moving\n",
    "tank_drive.on(SpeedPercent(15), SpeedPercent(15))\n",
    "\n",
    "# Initial count value\n",
    "count = 0\n",
    "\n",
    "# Initial sensor reading\n",
    "previous_value = colorLeft.reflected_light_intensity_pc\n",
    "\n",
    "# Create a loop\n",
    "while True:\n",
    "\n",
    "    # Check current sensor reading\n",
    "    current_value = colorLeft.reflected_light_intensity_pc\n",
    "    \n",
    "    # Test when the robot has entered a band\n",
    "    if previous_value==100 and current_value < 100:\n",
    "        # When on a new band:\n",
    "        # - increase the count\n",
    "        count = count + 1\n",
    "        # - display the count in the output window\n",
    "        print(count)\n",
    "        # - say the count aloud\n",
    "        say(str(count))\n",
    "        \n",
    "    # Update previous sensor reading\n",
    "    previous_value = current_value"
   ]
  },
  {
   "cell_type": "markdown",
   "metadata": {
    "activity": true,
    "hidden": true
   },
   "source": [
    "To stop the program when the robot has counted four lines, we could define the loop as `while count <4:`. This would keep looping until the count value reached four, at which point the while condition would fail and would no longer pass control into the body of the while loop, and control would pass from the while loop t the end of the program."
   ]
  },
  {
   "cell_type": "markdown",
   "metadata": {},
   "source": [
    "## 4.3 Summary\n",
    "\n",
    "In this notebook, you have seen further examples of simple robot control programs and had an opportunity to create your own from scratch.\n",
    "\n",
    "In the next notebook, some challenges are defined that will exercise your newly learned programming skills a little bit more."
   ]
  }
 ],
 "metadata": {
  "interpreter": {
   "hash": "7162b6b5cb18033fe925274d4f20a51bce6fd91bd20b275b3266d6763e9a9306"
  },
  "jupytext": {
   "formats": "ipynb,.md//md"
  },
  "kernelspec": {
   "display_name": "Python 3.7.8 64-bit ('3.7.8': pyenv)",
   "name": "python3"
  },
  "language_info": {
   "name": "python",
   "version": ""
  }
 },
 "nbformat": 4,
 "nbformat_minor": 4
}