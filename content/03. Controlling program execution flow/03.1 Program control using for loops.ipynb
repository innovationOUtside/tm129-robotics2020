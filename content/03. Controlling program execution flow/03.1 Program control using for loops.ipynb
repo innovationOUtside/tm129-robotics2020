{
 "cells": [
  {
   "cell_type": "markdown",
   "metadata": {},
   "source": [
    "# 1. Introduction to program control flow\n",
    "\n",
    "Loops and branches are powerful constructs in programming, and they are used extensively in almost all computer programs. In this session, I will introduce the different loop and branch statements provided by RoboLab. You will have an opportunity to see how they are used by working through the activities. We end the session with a number of challenges for you to attempt. These will give you practice in selecting and using different RoboLab statements.\n",
    "\n",
    "\n",
    "In particular, this notebook will focus on *loops* and the next notebook on *branches*. Two further notebooks will provide you with a series of challenges to help develop your understanding of how these sorts of construction can be used in the context of some simple robot programming tasks."
   ]
  },
  {
   "cell_type": "markdown",
   "metadata": {},
   "source": [
    "## 1.1 An introduction to loops in computer programs"
   ]
  },
  {
   "cell_type": "markdown",
   "metadata": {},
   "source": [
    "To illustrate the idea of a loop it is helpful to use a swimming analogy.\n",
    "\n",
    "Suppose you want to swim 20 lengths of a swimming pool. The chances are you will want to monitor your progress by keeping count of the number of lengths you complete. A *flowchart* can be used to provide a visual representation of the steps (which is to say, the *algorithm*), involved in keeping track of how many steps you have completed.\n",
    "\n",
    "\n",
    "[![A flow chart for a person swimming 20 lengths of a pool. The flow chart starts with an oval shape labelled ‘Start’. From here there are sequences of boxes connected by arrows: first ‘Set the count to 0’, then ‘Swim a length’ and last ‘Add 1 to the count’. From this box an arrow leads to a decision diamond labelled ‘Is the count less than 20?’ Two arrows lead from this: one labelled ‘Yes’, the other ‘No’. The ‘Yes’ branch leads back to rejoin the box ‘Swim a length’. The ‘No’ branch leads directly to an oval shape labelled ‘End’. There is thus a loop in the chart which includes the steps ‘Swim a length’ and ‘Add 1 to the count’ and ends with the decision ‘Is the count less than 20?’](../images/flowchart_swimming.jpeg)](https://mermaid-js.github.io/mermaid-live-editor/#/edit/eyJjb2RlIjoiZ3JhcGggTFJcbiAgICBBKFN0YXJ0KSAtLT4gQltTZXQgdGhlIGNvdW50IHRvIDBdXG4gICAgQiAtLT4gQ1tTd2ltIGEgbGVuZ3RoXVxuICAgIEMgLS0-IERbQWRkIDEgdG8gdGhlIGNvdW50XVxuICAgIEQgLS0-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)\n",
    "\n",
    "At the start, your personal counter (you) will be set to ‘0’.\n",
    "\n",
    "After swimming a length of the pool you add 1 to your counter. You also ask yourself ‘have I done 20 lengths yet?’ If the answer is ‘no’, then you ‘loop back’ to swim another length.\n",
    "\n",
    "On completion of the second length you add 1 to your counter and ask yourself the question again. If the answer is ‘no’, then you loop back and repeat the process once more.\n",
    "\n",
    "You keep going like this until the answer to the question is ‘yes’, at which point you will have completed 20 lengths of the pool and the loop will end:\n",
    "\n"
   ]
  },
  {
   "cell_type": "markdown",
   "metadata": {},
   "source": [
    "As another example, consider a person ironing clothes, taking clothes out of the laundry basket, ironing them and then putting them on an ironed clothes pile:\n",
    "\n",
    "[![A flow chart for a person ironing clothes. This starts with an oval ‘Start’. An arrow leads to a decision diamond ‘Any clothes left in basket?’ Two arrows lead from this: one labelled ‘Yes’, the other ‘No’. The ‘Yes’ branch continues in turn to two boxes ‘Take out item and iron’ and ‘Put it on pile of ironed clothes’; an arrow leads back from this box to rejoin the decision ‘Any clothes left in basket?’ The ‘No’ branch leads directly to an oval ‘End’. There is thus a loop in the chart which begins with the decision ‘Any clothes left in basket?’ and includes the steps ‘Take out item and iron’ and ‘Put it on pile of ironed clothes’.](../images/flowchart_ironing.jpeg)](https://mermaid-js.github.io/mermaid-live-editor/#/edit/eyJjb2RlIjoiZ3JhcGggTFJcbiAgICBBKFN0YXJ0KSAtLT4gQntBbnkgY2xvdGhlczxicj5sZWZ0IGluPGJyLz5iYXNrZXQ_fVxuICAgIEIgLS0-IHxZZXN8IENbVGFrZSBvdXQ8YnIvPml0ZW0gYW5kPGJyLz5pcm9uXVxuICAgIEMgLS0-IERbUHV0IGl0IG9uIHBpbGU8YnIvPm9mIGlyb25lZDxici8-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)\n",
    "\n",
    "The loop starts with the person looking in the basket. Then a decision has to be made: are there any clothes left? If there are, the person must go round the loop: take out an item and iron it, put it on the pile of ironed clothes, and look in the basket again. When there are no clothes left in the basket the loop ends.\n"
   ]
  },
  {
   "cell_type": "markdown",
   "metadata": {
    "tags": [
     "alert-success"
    ]
   },
   "source": [
    "*The flowchart diagrams used in this notebook were generated from textual description of them using an application called [mermaid.js](https://mermaid-js.github.io/mermaid-live-editor/#/). Click on the image to view an editor that shows how the diagram was constructed.*"
   ]
  },
  {
   "cell_type": "markdown",
   "metadata": {},
   "source": [
    "As you have seen, a sequential computer program is a sequence of lines of encoded commands, to be executed one after the other.\n",
    "\n",
    "For example, the program to move a robot around a square course consisted of the following sequence of instructions repeated four times:\n",
    "\n",
    "```python\n",
    "# Draw side\n",
    "tank_drive.on_for_seconds(SIDE_SPEED, SIDE_SPEED, SIDE_TIME)\n",
    "\n",
    "# Turn ninety degrees\n",
    "tank_turn.on_for_rotations(STEERING, TURN_SPEED, TURN_ROTATIONS)\n",
    "```"
   ]
  },
  {
   "cell_type": "markdown",
   "metadata": {},
   "source": [
    "How much easier would it be just to give these commands once, and tell the computer to loop back to the start, repeating until the instructions have been executed four times?\n",
    "\n",
    "[![A flow chart for a robot program with a loop. This starts with an oval ‘Start’. An arrow leads first to a box ‘Set counter to 0’ and then to a sequence of further boxes: ‘# Draw side’ with an implication of the code associated with that, ‘# Turn ninety degrees’, again with a hint regarding the presence of code associated with that activity, and lastly ‘Add 1 to counter’. The arrow from this box leads to a decision diamond ‘Is counter < 4?’ Two arrows lead from this, one labelled ‘Yes’, the other ‘No’. The ‘Yes’ branch loops back to rejoin the sequence at ‘# Draw side code’. The ‘No’ branch leads directly to an oval ‘End’. There is thus a loop in the chart which includes the sequence of motor control commands, incrementing the counter and ends with the decision ‘Is counter < 4?’.](../images/flowchart_square.jpeg)](https://mermaid-js.github.io/mermaid-live-editor/#/edit/eyJjb2RlIjoiZ3JhcGggVERcbiAgICBBKFN0YXJ0KSAtLT4gQltTZXQgY291bnRlciB0byAwXVxuICAgIEIgLS0-IENbIyBEcmF3IHNpZGU8YnIvPi4uLmNvZGUuLi5dXG4gICAgQyAtLT4gRFsjIFR1cm4gbmluZXR5IGRlZ3JlZXM8YnIvPi4uLmNvZGUuLi5dXG4gICAgRCAtLT4gRVtBZGQgMSB0byBjb3VudGVyXVxuICAgIEUgLS0-IEZ7SXMgY291bnRlciA8IDQ_fVxuICAgIEYgLS0-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)"
   ]
  },
  {
   "cell_type": "markdown",
   "metadata": {},
   "source": [
    "Python gives you two main ways of implementing loops:\n",
    "\n",
    "- a `for...in...` loop\n",
    "- a `while...` loop.\n",
    "\n",
    "The `for...in...` loop checks the status of an *iterator*, which is capable of returning items from a list of values, one at a time. If the list is empty, then the looping ends. If the iterator is not empty, then the program flow passes to the first instruction inside the `for...in...` code block; otherwise it passes to the next instruction at the same block (indentation) level as the `for...in...` statement.\n",
    "\n",
    "The `while...` loop tests the truth value of a statement. If the statement evaulates as `True`, then the program flow passes into the body of the loop; otherwise it proceeds to the next statement at the same block (indentation) level as the `while...` statement. \n",
    "\n",
    "Let’s see how each of these constructs works in turn, first using a simple, pure Python example, then in the context of our simulated robot."
   ]
  },
  {
   "cell_type": "markdown",
   "metadata": {},
   "source": [
    "## 1.2 Using a `for...in...` loop\n",
    "\n",
    "A `for...in...` loop takes each item from a list of items (or a more general Python *iterator* object), one at a time, then enters the loop, until the list (or iterator) is empty.\n",
    "\n",
    "In ‘pseudo-code’ (that is, a human-readable set of instructions that look like a form of stylised code), the `for...in...` loop behaves as follows:\n",
    "\n",
    "```\n",
    "for each item in turn in a list of items, do the following sequence of instructions\n",
    "\n",
    "  {\n",
    "  \n",
    "  instruction 1\n",
    "  \n",
    "  instruction 2\n",
    "  \n",
    "  instruction 3\n",
    "  \n",
    "  etc.\n",
    "  }\n",
    "\n",
    "```\n",
    "\n",
    "Note that any of the instructions inside the loop may make use of the current value of the item  that has just been retrieved from the list.\n",
    "\n",
    "When the loop has finished, the value of the last item retrieved from the list will continue to be available.\n",
    "\n",
    "Run the following code cell to see how the `for...in...` loop retrieves one item at a time from a list of items (line&nbsp;1), enters the code block within the loop starting at line&nbsp;2, executes each line&nbsp;2–3 in turn, then returns to line&nbsp;1 to get the next item from the list.\n",
    "\n",
    "When all the items have been retrieved from the list, the program flow moves on to the next item at the same indentation as the `for...in...` loop, which is line&nbsp;4:"
   ]
  },
  {
   "cell_type": "code",
   "execution_count": null,
   "metadata": {},
   "outputs": [],
   "source": [
    "for item in ['one', 'two', 'three', 'fish']:\n",
    "    print(item)\n",
    "    print(' and ')\n",
    "\n",
    "print('All done...')"
   ]
  },
  {
   "cell_type": "markdown",
   "metadata": {},
   "source": [
    "It is also worth noting that the value of the `item` variable is the value of the last item to be retrieved from the list, as you can see if you display the value by running the following code cell:"
   ]
  },
  {
   "cell_type": "code",
   "execution_count": null,
   "metadata": {},
   "outputs": [],
   "source": [
    "item"
   ]
  },
  {
   "cell_type": "markdown",
   "metadata": {},
   "source": [
    "We can use the `nbtutor` extension to step through the program execution to see what exactly is going on.\n",
    "\n",
    "Run the following code cell to load in the `nbtutor` magic:"
   ]
  },
  {
   "cell_type": "code",
   "execution_count": null,
   "metadata": {
    "lines_to_next_cell": 0
   },
   "outputs": [],
   "source": [
    "%reload_ext nbtutor"
   ]
  },
  {
   "cell_type": "markdown",
   "metadata": {},
   "source": [
    "The `%%nbtutor` cell block magic can be used to prefix Python code we want to step through, but *not* code intended for the simulator.\n",
    "\n",
    "One thing to note about the notebook environment is that if we have already created any Python variables in the current notebook, then they will be displayed by default in the `%%nbtutor` visualisation.\n",
    "\n",
    "We can limit the variables that are displayed by `nbtutor` by calling the magic using the command `%%nbtutor --reset --force`.\n",
    "\n",
    "Run the following code cell to invoke the `nbtutor` widget, and then use the *Next*&nbsp;> button in the *cell toolbar* that is created to step through each line of code in turn.\n",
    "\n",
    "Observe the progress of the control flow through the code via the two differently coloured arrows that show the next line to be executed (red line) and the previously executed line (green arrow). Also notice how the statement previously executed may update the value of the `item` variable as a consequence of its execution."
   ]
  },
  {
   "cell_type": "code",
   "execution_count": null,
   "metadata": {},
   "outputs": [],
   "source": [
    "%%nbtutor --reset --force\n",
    "for item in ['one', 'two', 'three', 'fish']:\n",
    "    print(item)\n",
    "    print(' and ')\n",
    "\n",
    "print('All done...')"
   ]
  },
  {
   "cell_type": "markdown",
   "metadata": {},
   "source": [
    "Did you notice how the program flow repeatedly went from the last line of the code inside the `for...in...` block back up to the `for...in...` statement, before going from the `for...in...` statement to the final `print('All done...')` statement when the loop had iterated through all the items in the list?\n",
    "\n",
    "*Close the `nbtutor` cell toolbar view by clicking on the notebook toolbar `View` menu option, and from the `Cell Toolbar` option select `None`.*"
   ]
  },
  {
   "cell_type": "markdown",
   "metadata": {},
   "source": [
    "## 1.3 Using `print()` and `display()` statements to help debug a program\n",
    "\n",
    "As well as using the `nbtutor` to keep help us see what's going on in the loop as it executes *within the notebook*, we can also using `print()` and `display()` statements to display the value of one or more variables as the loop executes. \n",
    "\n",
    "Python *f-strings* (\"formatted strings\" or \"formatted string literals\") also provide a convenient way of getting the value of a variable into a string. For example, if you have a variable `day_of_week = \"Monday\"`, we can display a message using the construction `print(f\"Today is {day_of_week}\")`. The `f\"...\"` construction denotes the f-string. The curly brace brackets (`{..}`) contain the name of a variable whose value you want to substitute into the string."
   ]
  },
  {
   "cell_type": "markdown",
   "metadata": {
    "tags": [
     "alert-danger"
    ]
   },
   "source": [
    "Note that *f-strings* and the use of the `display()` function are not available in the simulator's Python implementation. In such cases, you can print several variables and strings at once by using commas in the print statement (e.g. `print('Today is', day_of_week)`*"
   ]
  },
  {
   "cell_type": "markdown",
   "metadata": {
    "activity": true
   },
   "source": [
    "### 1.3.1 Activity — Writing out days of the week\n",
    "\n",
    "See if you can write a simple program that loops through a list of days of the week and prints out a message of the form ‘day 1 is Monday’ followed by ‘day 2 is Tuesday’, and so on."
   ]
  },
  {
   "cell_type": "code",
   "execution_count": null,
   "metadata": {
    "activity": true
   },
   "outputs": [],
   "source": [
    "# YOUR CODE HERE"
   ]
  },
  {
   "cell_type": "markdown",
   "metadata": {
    "activity": true,
    "heading_collapsed": true
   },
   "source": [
    "#### Example solution\n",
    "\n",
    "*Click on the arrow in the sidebar or run this cell to reveal an example solution.*"
   ]
  },
  {
   "cell_type": "markdown",
   "metadata": {
    "activity": true,
    "hidden": true
   },
   "source": [
    "There are several ways in which we could implement the code to perform this task.\n",
    "\n",
    "For example, in the following worked example, I created a counter value (`counter = 0`) and then used a `for...in...` loop to iterate through a list containing the names of the days of the week.\n",
    "\n",
    "The code to be executed by the loop was \"nested\" inside it as a code block by indenting the code I wanted to execute within the loop.\n",
    "\n",
    "Inside the loop, I incremented a counter (`counter = counter + 1`), then displayed the required message using a simple `print()` statement:"
   ]
  },
  {
   "cell_type": "code",
   "execution_count": null,
   "metadata": {
    "activity": true,
    "hidden": true
   },
   "outputs": [],
   "source": [
    "counter = 0\n",
    "\n",
    "for day in ['Monday', 'Tuesday', 'Wednesday',\n",
    "            'Thursday', 'Friday', 'Saturday', 'Sunday']:\n",
    "    \n",
    "    counter = counter + 1\n",
    "    \n",
    "    print(\"Day\", counter, \"is\", day)"
   ]
  },
  {
   "cell_type": "markdown",
   "metadata": {
    "activity": true,
    "hidden": true
   },
   "source": [
    "The following code example performs the same task, but implemented in a lightly different way.\n",
    "\n",
    "In particular, I first declare a variable (`days_of_week`) to refer to the list of the days of the week, and then iterate over the list *as referred to by the variable* in the loop.\n",
    "\n",
    "Within the loop, I use a shorthand construction `counter += 1` that essentially says: *update the value of the `counter` variable to its current vale, plus 1*.\n",
    "\n",
    "Finally, I have used a Python *f-string* to print the message on each iteration through the loop:"
   ]
  },
  {
   "cell_type": "code",
   "execution_count": null,
   "metadata": {
    "activity": true,
    "hidden": true,
    "lines_to_next_cell": 0
   },
   "outputs": [],
   "source": [
    "counter = 0\n",
    "\n",
    "days_of_week = ['Monday', 'Tuesday', 'Wednesday',\n",
    "            'Thursday', 'Friday', 'Saturday', 'Sunday']\n",
    "\n",
    "for day in days_of_week:\n",
    "    \n",
    "    counter += 1\n",
    "    \n",
    "    print(f\"Day {counter} is {day}\")"
   ]
  },
  {
   "cell_type": "markdown",
   "metadata": {
    "tags": [
     "alert-danger"
    ]
   },
   "source": [
    "### Using loops in code intended to be downloaded and run in the simulator\n",
    "\n",
    "If you use a loop in code you want to download to the simulator, then you need to put something in the loop that ‘uses up’ simulator time and allows its internal clock to proceed; otherwise you may find that your simulator Python program gets stuck and ‘hangs’ your web browser.\n",
    "\n",
    "Turning motors on for a specified time or rotation count, or polling sensors, is one way to do this. Another way is to add an explicit delay into the loop. For example, if you add the line `from time import sleep` to the start of your simulator program, then you can add a step `sleep(0.01)` to pause in the loop for one hundredth of a second. This gives the simulator a chance to model the progress of time in the simulated world, rather than getting stuck in very rapidly iterating loop in the code it’s trying to execute."
   ]
  },
  {
   "cell_type": "markdown",
   "metadata": {
    "hideCode": true,
    "hidePrompt": true
   },
   "source": [
    "## 1.4 Robots that can count\n",
    "\n",
    "At the end of the last notebook, you say how we can get the simulated robot to speak a simple message using the `say()` function provided by the `%%sim_magic_preloaded` magic."
   ]
  },
  {
   "cell_type": "code",
   "execution_count": null,
   "metadata": {},
   "outputs": [],
   "source": [
    "%%sim_magic_preloaded -HWR\n",
    "\n",
    "say(\"Hello again\")"
   ]
  },
  {
   "cell_type": "markdown",
   "metadata": {
    "hideCode": true,
    "hidePrompt": true
   },
   "source": [
    "But can we get it to do something more elaborate?\n",
    "\n",
    "How about counting up from 1 to 5?"
   ]
  },
  {
   "cell_type": "markdown",
   "metadata": {
    "hideCode": true,
    "hidePrompt": true
   },
   "source": [
    "### 1.4.1 The Python `range()` function\n",
    "\n",
    "The Python `range()` function can be used to generate an iterator (a loopy thing...) over a series of integers that cover a certain range:"
   ]
  },
  {
   "cell_type": "code",
   "execution_count": null,
   "metadata": {
    "hideCode": true,
    "hidePrompt": true
   },
   "outputs": [],
   "source": [
    "range(5)"
   ]
  },
  {
   "cell_type": "markdown",
   "metadata": {},
   "source": [
    "We can enumerate the contents of an enumerator by casting it to an explicit list of values:"
   ]
  },
  {
   "cell_type": "code",
   "execution_count": null,
   "metadata": {},
   "outputs": [],
   "source": [
    "list(range(5))"
   ]
  },
  {
   "cell_type": "markdown",
   "metadata": {},
   "source": [
    "<div class='alert alert-warning'>You'll see that by default, the list of values returned from the `range()` starts is the index value `0`. The value `0` is conventionally used to represent the first index value in a series because it quite often makes lots of other things easier...</div>"
   ]
  },
  {
   "cell_type": "markdown",
   "metadata": {
    "hideCode": true,
    "hidePrompt": true
   },
   "source": [
    "We can use a `for` loop to iterate through the range, displaying each value within the range using a `print()` statement:"
   ]
  },
  {
   "cell_type": "code",
   "execution_count": null,
   "metadata": {
    "hideCode": true,
    "hidePrompt": true
   },
   "outputs": [],
   "source": [
    "for i in range(5):\n",
    "    print(i)"
   ]
  },
  {
   "cell_type": "markdown",
   "metadata": {
    "hideCode": true,
    "hidePrompt": true
   },
   "source": [
    "If we supply just a single value to the `range()` function, as in `range(N)`, it defines a range that spans from $0$ to $N-1$."
   ]
  },
  {
   "cell_type": "code",
   "execution_count": null,
   "metadata": {
    "hideCode": true,
    "hidePrompt": true
   },
   "outputs": [],
   "source": [
    "M = 5\n",
    "\n",
    "list(range(M))"
   ]
  },
  {
   "cell_type": "markdown",
   "metadata": {
    "hideCode": true,
    "hidePrompt": true
   },
   "source": [
    "If we provide two arguments, `range(M, N)`, it defines a range from $M$ to $N-1$:"
   ]
  },
  {
   "cell_type": "code",
   "execution_count": null,
   "metadata": {
    "hideCode": true,
    "hidePrompt": true
   },
   "outputs": [],
   "source": [
    "M = 5\n",
    "N = 10\n",
    "\n",
    "list(range(M, N))"
   ]
  },
  {
   "cell_type": "markdown",
   "metadata": {
    "hideCode": true,
    "hidePrompt": true
   },
   "source": [
    "If we provide *three* arguments, `range(M, N, S)`, it spans a range of integers from $M$ to $N-1$ with a step value $S$ between them:"
   ]
  },
  {
   "cell_type": "code",
   "execution_count": null,
   "metadata": {
    "hideCode": true,
    "hidePrompt": true
   },
   "outputs": [],
   "source": [
    "M = 0\n",
    "N = 30\n",
    "S = 10\n",
    "\n",
    "list(range(M, N, S))"
   ]
  },
  {
   "cell_type": "markdown",
   "metadata": {
    "hideCode": true,
    "hidePrompt": true
   },
   "source": [
    "If we set $M=0$, $N=30$ and $S=10$, the first value returned from the range is the initial start value, $0$.\n",
    "\n",
    "We then add a step of $10$ to get the next value ($10$).\n",
    "\n",
    "Adding another step of $10$ gives us the next number in the range: $20$.\n",
    "\n",
    "If we now try to add another $10$, that gives us a total of $30$, which is *outside* the upper range of $N-1$, and so that number is not returned as within the range."
   ]
  },
  {
   "cell_type": "markdown",
   "metadata": {
    "hideCode": true,
    "hidePrompt": true
   },
   "source": [
    "Now let's see if we can get our robot to count up to five in the simulator.\n",
    "\n",
    "Run the following code cell to download the program to the simulator and then run it in the simulator. What happens? Does the robot count up to five? "
   ]
  },
  {
   "cell_type": "code",
   "execution_count": null,
   "metadata": {
    "hideCode": true,
    "hidePrompt": true
   },
   "outputs": [],
   "source": [
    "%%sim_magic_preloaded -HWR\n",
    "\n",
    "# I can count...\n",
    "\n",
    "for i in range(5):\n",
    "    say(i)"
   ]
  },
  {
   "cell_type": "markdown",
   "metadata": {
    "hideCode": true,
    "hidePrompt": true
   },
   "source": [
    "Although we set the range value as $5$, remember that this means the robot will count, by default, from $0$ in steps of $1$ to $N-1$. So the robot will count $0, 1, 2, 3, 4$, as we can see if we explicitly enumerate the values created by the `range()` statement:"
   ]
  },
  {
   "cell_type": "code",
   "execution_count": null,
   "metadata": {
    "hideCode": true,
    "hidePrompt": true
   },
   "outputs": [],
   "source": [
    "list(range(5))"
   ]
  },
  {
   "cell_type": "markdown",
   "metadata": {},
   "source": [
    "### 1.4.2 Modular division\n",
    "\n",
    "We can also count in tens by counting in ones... The Python `INTEGER % INTEGER` operator returns the remainder from dividing the first number by the second:"
   ]
  },
  {
   "cell_type": "code",
   "execution_count": null,
   "metadata": {},
   "outputs": [],
   "source": [
    "for i in range(8):\n",
    "    print(f\"{i} % 4 gives remainder {i % 4}\")"
   ]
  },
  {
   "cell_type": "markdown",
   "metadata": {},
   "source": [
    "The truth value of `0` is `False`, and for all positive numbers is `True`. So `5 % 5` is `0` which evaluates `False`. But if we test a value `not ( 5 % 5)`, then it evaluates as `True`:"
   ]
  },
  {
   "cell_type": "code",
   "execution_count": null,
   "metadata": {},
   "outputs": [],
   "source": [
    "not ( 5 % 5)"
   ]
  },
  {
   "cell_type": "markdown",
   "metadata": {},
   "source": [
    "This means we can count fives as follows: "
   ]
  },
  {
   "cell_type": "code",
   "execution_count": null,
   "metadata": {},
   "outputs": [],
   "source": [
    "for i in range(50):\n",
    "    if not ( i % 5 ) and i > 0:\n",
    "        print(i)"
   ]
  },
  {
   "cell_type": "markdown",
   "metadata": {},
   "source": [
    "We can use this approach to limit when we print messages to the simulator *Output* display, for example, to once every five or ten passes through a control loop."
   ]
  },
  {
   "cell_type": "markdown",
   "metadata": {
    "tags": [
     "alert-warning"
    ]
   },
   "source": [
    "*If you would like to hear your robot count aloud from within the notebook's own Python code cells, the `Appendix - speaking in Python` notebook describes a possible way of supporting the speaking ability.*"
   ]
  },
  {
   "cell_type": "markdown",
   "metadata": {
    "activity": true,
    "hideCode": true,
    "hidePrompt": true
   },
   "source": [
    "### 1.4.3 Activity — a counting robot\n",
    "In the following code cell, create a `range()` statement that will creates a list of numbers from $1$ to $5$ inclusive. Use a `list()` statement to generate a list from the `range()` statement.\n",
    "\n",
    "Run the code cell to display the result so you can check your answer:"
   ]
  },
  {
   "cell_type": "code",
   "execution_count": null,
   "metadata": {
    "activity": true,
    "hideCode": true,
    "hidePrompt": true
   },
   "outputs": [],
   "source": [
    "# Display a list of values [1, 2, 3, 4, 5] created from a single range() statement\n",
    "\n",
    "# YOUR CODE HERE"
   ]
  },
  {
   "cell_type": "markdown",
   "metadata": {
    "activity": true,
    "hideCode": true,
    "hidePrompt": true
   },
   "source": [
    "Now create a program that will cause the simulated robot to count from 1 to 5 inclusive.\n",
    "\n",
    "Run the cell to download the program to the simulator, and then run it in the simulator. Does it behave as you expected?"
   ]
  },
  {
   "cell_type": "code",
   "execution_count": null,
   "metadata": {
    "activity": true,
    "hideCode": true,
    "hidePrompt": true
   },
   "outputs": [],
   "source": [
    "%%sim_magic\n",
    "# Count from 1 to 5 inclusive\n",
    "\n",
    "# ADD YOUR CODE HERE"
   ]
  },
  {
   "cell_type": "markdown",
   "metadata": {
    "activity": true,
    "hideCode": true,
    "hidePrompt": true
   },
   "source": [
    "Can you modify your program so that it counts from ten to one hundred, inclusive, in tens (so, *ten, twenty, ..., one hundred*)?"
   ]
  },
  {
   "cell_type": "markdown",
   "metadata": {
    "activity": true,
    "heading_collapsed": true,
    "hideCode": true,
    "hidePrompt": true
   },
   "source": [
    "#### Example solution\n",
    "\n",
    "*Click the arrow in the sidebar or run this cell to reveal an example solution.*"
   ]
  },
  {
   "cell_type": "markdown",
   "metadata": {
    "activity": true,
    "hidden": true,
    "hideCode": true,
    "hidePrompt": true
   },
   "source": [
    "We can display a range of values from $1$ to $5$ inclusive by using a range command of the form `range(M, N)` where `M=1`, the initial value, and $N=5+1$, since the the range spans to a maximum value less than or equal to $N-1$:"
   ]
  },
  {
   "cell_type": "code",
   "execution_count": null,
   "metadata": {
    "activity": true,
    "hidden": true,
    "hideCode": true,
    "hidePrompt": true
   },
   "outputs": [],
   "source": [
    "list(range(1, 6))"
   ]
  },
  {
   "cell_type": "markdown",
   "metadata": {
    "activity": true,
    "hidden": true,
    "hideCode": true,
    "hidePrompt": true
   },
   "source": [
    "We can now create a program that counts from one to five inclusive:"
   ]
  },
  {
   "cell_type": "code",
   "execution_count": null,
   "metadata": {
    "activity": true,
    "hidden": true,
    "hideCode": true,
    "hidePrompt": true
   },
   "outputs": [],
   "source": [
    "%%sim_magic_preloaded -HWR\n",
    "\n",
    "# I can count from one to five inclusive...\n",
    "\n",
    "start_value = 1\n",
    "end_value = 5\n",
    "\n",
    "# To get the desired final value,\n",
    "# it must be within the range\n",
    "# So make the range one more \n",
    "# than the desired final value\n",
    "for i in range(start_value, end_value+1):\n",
    "    say(str(i))"
   ]
  },
  {
   "cell_type": "markdown",
   "metadata": {
    "activity": true,
    "hidden": true,
    "hideCode": true,
    "hidePrompt": true
   },
   "source": [
    "To count from ten to one hundred in tens, we need to add an additional step value as well as the range limit values:"
   ]
  },
  {
   "cell_type": "code",
   "execution_count": null,
   "metadata": {
    "activity": true,
    "hidden": true,
    "hideCode": true,
    "hidePrompt": true,
    "lines_to_next_cell": 2
   },
   "outputs": [],
   "source": [
    "%%sim_magic_preloaded -HWR\n",
    "# I can count from ten to one hundred in tens...\n",
    "\n",
    "start_value = 10\n",
    "end_value = 100 + 1\n",
    "step_value = 10\n",
    "\n",
    "for i in range(start_value, end_value, step_value):\n",
    "    say(i)"
   ]
  },
  {
   "cell_type": "markdown",
   "metadata": {},
   "source": [
    "## 1.5 Using a `for...in...` loop in a robot control program\n",
    "\n",
    "Loops are very useful when it comes to executing repetitive tasks. In this section, you will see how we can use a loop in a simple robot control program.\n",
    "\n",
    "But first, we need to ensure we have loaded in the simulator Python package and enabled the simulator magic:"
   ]
  },
  {
   "cell_type": "code",
   "execution_count": null,
   "metadata": {},
   "outputs": [],
   "source": [
    "from nbev3devsim.load_nbev3devwidget import roboSim, eds\n",
    "\n",
    "%load_ext nbev3devsim"
   ]
  },
  {
   "cell_type": "markdown",
   "metadata": {},
   "source": [
    "You may remember from the program we used to draw a square that there was a lot of repeated code, with the same code used to draw a single side and then turn through a right angle repeated four times each. At the time, you may have thought ‘there must be a better way than this?’. The use of a loop provides just such a better way.\n",
    "\n",
    "Look through the code in the code cell below and predict what you think the robot will do when it runs that program.\n",
    "\n",
    "*The magic used to configure the simulator specifies the robot location (`-x`/`-y`), orientation angle (`-a`), pen down mode (`-p`) and cleared trace (`-C`).*"
   ]
  },
  {
   "cell_type": "markdown",
   "metadata": {
    "student": true
   },
   "source": [
    "*Double-click this cell to edit it and enter your prediction of what the robot will do as it runs through the program.*"
   ]
  },
  {
   "cell_type": "code",
   "execution_count": null,
   "metadata": {},
   "outputs": [],
   "source": [
    "%%sim_magic_preloaded -b Empty_Map -a 0 -p -C \n",
    "\n",
    "# Draw something...\n",
    "for count in range(3):\n",
    "\n",
    "    #Go straight\n",
    "    # Set the left and right motors in a forward direction\n",
    "    # and run for 1 rotation\n",
    "    tank_drive.on_for_rotations(SpeedPercent(50),\n",
    "                                SpeedPercent(50), 1)\n",
    "\n",
    "    #Turn\n",
    "    # Set the robot to turn on the spot\n",
    "    # and run for a certain number of rotations\n",
    "    # *of the wheels*\n",
    "    tank_turn.on_for_rotations(-100,\n",
    "                               SpeedPercent(75), 1.6.2)\n"
   ]
  },
  {
   "cell_type": "markdown",
   "metadata": {},
   "source": [
    "Now run the code cell to download the program to the robot. With the pen trace enabled, run the program in the simulator and observe what happens. Was your prediction correct?\n",
    "\n",
    "Modify the program (if necessary...) so that the robot will trace out something close to a square (don’t spend too much time trying to make it perfect: that may not be possible!). Clear the trace in the simulator, reset the robot location, and download and run the program again to check your program modification worked."
   ]
  },
  {
   "cell_type": "markdown",
   "metadata": {},
   "source": [
    "## 1.6 Returning to the top of a loop early\n",
    "\n",
    "Sometimes we may want to to return to the top of a loop from within a loop code block *before* we have executed all the lines in the looped block. We can do this using the `continue` instruction.\n",
    "\n",
    "Run the following code cell and step through each line of code a line at a time using the `nbtutor` *Next*&nbsp;> button. Watch the program flow particularly closely when the `item` variable takes the value `three`."
   ]
  },
  {
   "cell_type": "code",
   "execution_count": null,
   "metadata": {
    "lines_to_next_cell": 0
   },
   "outputs": [],
   "source": [
    "%%nbtutor --reset --force\n",
    "for item in ['one', 'two', 'three', 'fish', 'four']:\n",
    "    print(item)\n",
    "    if item=='three':\n",
    "        continue\n",
    "    print(' and ')\n",
    "\n",
    "print('All done...')"
   ]
  },
  {
   "cell_type": "markdown",
   "metadata": {},
   "source": [
    "As you , you should see the `item` variable be updated to each item `one`, `two`, `three`, `fish` and `four` in turn. As the program iterates through the loop, the current value of the `item` variable is displayed. The value of the `item` variable is checked, and if it *does not* equal `three` the loop continues by displaying the word `and`, giving a message that builds up as *one and two and three*.\n",
    "\n",
    "However, when the value of `item` does match `three`, the `continue` statement is run and control passes back to the top of the loop before printing the word `and`; in this case, that means the next word in the list, `fish`, is printed after the word `three`, giving the output message *one and two and three fish*.\n",
    "\n",
    "The loop continues to operate as before and the final message that is displayed is *one and two and three fish and four*."
   ]
  },
  {
   "cell_type": "markdown",
   "metadata": {
    "tags": [
     "alert-danger"
    ]
   },
   "source": [
    "*Note that a bug currently prevents us from downloading further programs to the simulator if we run `nbtutor` after opening the simulator widget.*"
   ]
  },
  {
   "cell_type": "markdown",
   "metadata": {},
   "source": [
    "## 1.7 Conditional tests using the conditional construct, `if...`\n",
    "\n",
    "In the previous program, you may have noticed another new statement: an `if` statement. This is another sort of conditional statement. The `if` statement will test a logical condition and if it evaluates as `True`, then the program flow will pass to any statements contained within the `if` statement block.\n",
    "\n",
    "```python\n",
    "if LOGICAL_TEST_STATEMENT:\n",
    "    #if the LOGICAL_TEST_STATEMENT evaluates as True\n",
    "    # run the following command\n",
    "    print('The statement was True...')\n",
    "    \n",
    "print(\"This will always be printed...\")\n",
    "```\n",
    "\n",
    "\n",
    "In and of itself, the `if` statement is tested once and once only. *If* the conditional test pass, then control flows into the body of the *if* statement and then on to the next statement after the *if* construct. If the conditional test evaluates as false, then control passes immediately to the next statement *after* the if block.\n",
    "\n",
    "In the `if` statement, the `==` sign is used to test whether the value of the thing on the left is the same as the value of the thing on the right.\n",
    "\n",
    "So the following is `True`:"
   ]
  },
  {
   "cell_type": "code",
   "execution_count": null,
   "metadata": {},
   "outputs": [],
   "source": [
    "1 == 1"
   ]
  },
  {
   "cell_type": "markdown",
   "metadata": {},
   "source": [
    "because numeric `1` does indeed equal numeric `1`. However, the following evaluates as `False` because numeric `1` *does not* equal the string `one`:"
   ]
  },
  {
   "cell_type": "code",
   "execution_count": null,
   "metadata": {},
   "outputs": [],
   "source": [
    "1 == 'one'"
   ]
  },
  {
   "cell_type": "markdown",
   "metadata": {},
   "source": [
    "The following is also `False` because the *numeric* value `1` is *not* the same as the *string* value `'1'`:"
   ]
  },
  {
   "cell_type": "code",
   "execution_count": null,
   "metadata": {},
   "outputs": [],
   "source": [
    "1 == '1'"
   ]
  },
  {
   "cell_type": "markdown",
   "metadata": {},
   "source": [
    "However, the following string values *are* equivalent even though we used different string delimiters (single quotes in the first case, double quotes in the second) to create them:"
   ]
  },
  {
   "cell_type": "code",
   "execution_count": null,
   "metadata": {},
   "outputs": [],
   "source": [
    "'1' == \"1\""
   ]
  },
  {
   "cell_type": "markdown",
   "metadata": {},
   "source": [
    "As well as using the `==` operator to test for equivalence, we can also use a range of other operators. For example:\n",
    "\n",
    "\n",
    "- `X != Y`: returns `True` if a a string or numerical value `X` is not equal to `Y`;\n",
    "- `X > Y`: returns `True` if a numerical value `X` is *strictly greater than* a numerical value `Y`;\n",
    "- `X < Y`: returns `True` if a numerical value `X` is *strictly less than* a numerical value `Y`;\n",
    "- `X >= Y`: returns `True` if a numerical value `X` is *greater than or equal to* a numerical value `Y`;\n",
    "- `X <= Y`: returns `True` if a numerical value `X` is *less than or equal to* a numerical value `Y`.\n",
    "\n",
    "\n",
    "Try experimenting with you own equivalent, or inequivalent, statements in the code cell below.\n",
    "\n",
    "*Feel free to create more code cells if you want to keep a record of things you have tried. Or comment out each line after you have tried it if you want to try multiple statements in the same code cell.*"
   ]
  },
  {
   "cell_type": "code",
   "execution_count": null,
   "metadata": {},
   "outputs": [],
   "source": [
    "# TRY SOME EQUIVALENT AND UNEQUIVALENT STATEMENTS OF YOUR OWN HERE\n",
    "\n"
   ]
  },
  {
   "cell_type": "markdown",
   "metadata": {
    "activity": true
   },
   "source": [
    "### 1.7.1 Activity — Using a `continue` statement \n",
    "\n",
    "Suppose Wednesday is early closing day. Building on elements from your earlier program that displays the days of the week, modify the program to use a `continue` statement so that it prints out the message *I could go shopping on DAY afternoon* for every day except Wednesday."
   ]
  },
  {
   "cell_type": "code",
   "execution_count": null,
   "metadata": {
    "activity": true
   },
   "outputs": [],
   "source": [
    "# YOUR ANSWER HERE"
   ]
  },
  {
   "cell_type": "markdown",
   "metadata": {
    "activity": true,
    "heading_collapsed": true
   },
   "source": [
    "#### Example solution\n",
    "*Click on the arrow in the sidebar to reveal an example solution.*"
   ]
  },
  {
   "cell_type": "markdown",
   "metadata": {
    "activity": true,
    "hidden": true
   },
   "source": [
    "I used a simple `if` statement to check if it was Wednesday. If it was, then the `continue` statement passed the program control flow back to the top of the loop *before* the program had a chance to print out that day of the week. "
   ]
  },
  {
   "cell_type": "code",
   "execution_count": null,
   "metadata": {
    "activity": true,
    "hidden": true
   },
   "outputs": [],
   "source": [
    "for day in ['Monday', 'Tuesday', 'Wednesday',\n",
    "            'Thursday', 'Friday', 'Saturday', 'Sunday']:\n",
    "    \n",
    "    if day=='Wednesday':\n",
    "        continue\n",
    "    print(f\"I could go shopping on {day} afternoon.\")"
   ]
  },
  {
   "cell_type": "markdown",
   "metadata": {},
   "source": [
    "## 1.8 Escaping from a loop early\n",
    "\n",
    "As well as returning back to the top of a loop early using a `continue` statement, we may sometimes want to escape from a loop altogether before the loop would normally finish. We can achieve this using the `break` statement, which breaks the control flow out of a loop when it is encountered.\n",
    "\n",
    "Run the following code cell, stepping through it a line at a time, again paying particularly close attention when the `item` variable has the value `three`:"
   ]
  },
  {
   "cell_type": "code",
   "execution_count": null,
   "metadata": {
    "lines_to_next_cell": 0
   },
   "outputs": [],
   "source": [
    "%%nbtutor --reset --force\n",
    "for item in ['one', 'two', 'three', 'fish']:\n",
    "    print(item)\n",
    "    if item=='three':\n",
    "        break\n",
    "    print(' and ')\n",
    "\n",
    "print('All done...')"
   ]
  },
  {
   "cell_type": "markdown",
   "metadata": {
    "activity": true
   },
   "source": [
    "### 1.8.1 Activity — Using `break` to escape from a `for...in...` loop\n",
    "\n",
    "Suppose we get weekends off. Using a `break` construct inside a `for...in...` loop, create a simple program that takes a list containing the days of the week in order *Monday*...*Sunday* and displays the message *DAY is a workday...* for days Monday to Friday, but then breaks out of the loop when it realises it is Friday."
   ]
  },
  {
   "cell_type": "code",
   "execution_count": null,
   "metadata": {
    "activity": true
   },
   "outputs": [],
   "source": [
    "# YOUR CODE HERE"
   ]
  },
  {
   "cell_type": "markdown",
   "metadata": {
    "activity": true,
    "heading_collapsed": true
   },
   "source": [
    "#### Example solution\n",
    "*Click on the arrow in the sidebar or run this cell to reveal an example solution.*"
   ]
  },
  {
   "cell_type": "markdown",
   "metadata": {
    "activity": true,
    "hidden": true
   },
   "source": [
    "In this case, I display the print message before I break out of the loop using the `break` statement:"
   ]
  },
  {
   "cell_type": "code",
   "execution_count": null,
   "metadata": {
    "activity": true,
    "hidden": true,
    "lines_to_next_cell": 0
   },
   "outputs": [],
   "source": [
    "for day in ['Monday', 'Tuesday', 'Wednesday',\n",
    "            'Thursday', 'Friday', 'Saturday', 'Sunday']:\n",
    "    print(f\"{day} is a workday.\")\n",
    "    if day=='Friday':\n",
    "        break"
   ]
  },
  {
   "cell_type": "markdown",
   "metadata": {},
   "source": [
    "## 1.9 Summary\n",
    "\n",
    "In this notebook, you have seen how we can use the `nbtutor` extension to step through and monitor the flow of simple Python programs executing in the notebook’s Python environment (unfortunately, it does not allow us to step through code we download into the simulator and breaks program downloads to the simulator widget after using the tutor).\n",
    "\n",
    "At a programming level, you have seen how we can control the way in which program statements are executed in a program by using a `for..in..` loop to control a program's execution flow. The `for...in...` loop allows a program to work through a set of statements in the loop body once for each item in a list of values or ‘iterator’ construct. Using the `range()` function, you were able to iterate through a loop a specified number of times.\n",
    "\n",
    "You also met another flow control statement: the `if...` command. The `if` command is a conditional operator that checks a logical condition once and once only: if the tested condition evaluates as true, then control passes inside the block, and then continues after the if block; if the condition evaluates as false, then control passes immediately to the statement after the if block. (You will meet the `if` command in even more detail in a later notebook...)\n",
    "\n",
    "The conditional `if` statement can be used within a  `for` loop to interrupt the control flow within the loop either by foreshortening code execution with in the the loop (`continue`) or breaking out of the loop (`break`):\n",
    "\n",
    "- `continue` prematurely forces the flow of control back to the top of the loop, rather than requiring all the instructions in the loop to execute and then passing control back to the top of the loop\n",
    "- `break` prematurely forces the flow of control out of the loop to the next statement after the loop block, rather than requiring control to be passed following the failure of the conditional test at the top of the loop.\n",
    "\n",
    "Control flow instructions are part of the core Python language and are used in a similar way inside in the simulator and the ‘native’ notebook Python environment.\n",
    "\n",
    "In the next notebook, you will meet another form of loop control that combines loop execution with an inbuilt conditional test: the `while` loop."
   ]
  }
 ],
 "metadata": {
  "jupytext": {
   "formats": "ipynb,.md//md"
  },
  "kernelspec": {
   "display_name": "Python 3",
   "language": "python",
   "name": "python3"
  }
 },
 "nbformat": 4,
 "nbformat_minor": 4
}
