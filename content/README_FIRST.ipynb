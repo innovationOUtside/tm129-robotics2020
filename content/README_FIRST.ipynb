{
 "cells": [
  {
   "cell_type": "markdown",
   "metadata": {},
   "source": [
    "# Welcome the the TM129 Robotics Block\n",
    "\n",
    "If you're reading this via the TM129 Virtual Computing Environment (the `TM129VCE`) you should be all set to go.\n",
    "\n",
    "But first let's do a quick test to check everything's working.\n",
    "\n",
    "Click in the text box below, which contains a line of programming code, and then click on the *Run* button in the tool bar at the top of the screen to execute the code.\n",
    "\n",
    "If you don't see an error message, or you see a message saying something is missing or not installed, go to the section *Installing missing requirements* section below."
   ]
  },
  {
   "cell_type": "code",
   "execution_count": null,
   "metadata": {},
   "outputs": [],
   "source": [
    "from ou_tm129_py import test_install\n",
    "\n",
    "test_install()"
   ]
  },
  {
   "cell_type": "markdown",
   "metadata": {},
   "source": [
    "## Making the supplied notebook content visible on your computer desktop\n",
    "\n",
    "The local TM129 VCE runs in a Docker container. If you ran the original `docker run` command with one or more volume mounting `-v` flags, or created the container from he docker Dashboard with shared directory volumes, you will be able to share files and directories between the VCE and your computer desktop.\n",
    "\n",
    "If you mounted a directory in the container at `/home/jovan/notebooks` you should be able to see"
   ]
  },
  {
   "cell_type": "markdown",
   "metadata": {},
   "source": [
    "## Installing missing requirements\n",
    "\n",
    "So it seems that something might be missing. Click in the following code cell to select it, then click the *Run* button in the notebook toolbar."
   ]
  },
  {
   "cell_type": "code",
   "execution_count": null,
   "metadata": {},
   "outputs": [],
   "source": [
    "%pip install --upgrade ou-tm129-py"
   ]
  },
  {
   "cell_type": "markdown",
   "metadata": {},
   "source": [
    "When the package has finished installing:\n",
    "\n",
    "- from the notebook *Kernel* menu, select *Restart*;\n",
    "- click in the `test_install()` cell and run it again. The tests should now pass correctly."
   ]
  }
 ],
 "metadata": {
  "jupytext": {
   "cell_metadata_filter": "-all",
   "notebook_metadata_filter": "-all",
   "text_representation": {
    "extension": ".md",
    "format_name": "markdown"
   }
  },
  "kernelspec": {
   "display_name": "Python 3",
   "language": "python",
   "name": "python3"
  },
  "language_info": {
   "codemirror_mode": {
    "name": "ipython",
    "version": 3
   },
   "file_extension": ".py",
   "mimetype": "text/x-python",
   "name": "python",
   "nbconvert_exporter": "python",
   "pygments_lexer": "ipython3",
   "version": "3.7.6"
  }
 },
 "nbformat": 4,
 "nbformat_minor": 4
}
