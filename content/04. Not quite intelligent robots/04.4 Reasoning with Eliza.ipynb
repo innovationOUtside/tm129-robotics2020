{
 "cells": [
  {
   "cell_type": "markdown",
   "metadata": {},
   "source": [
    "# 4 Reasoning with Eliza\n",
    "\n",
    "So far, most of the programs we have considered are relatively straightforward in terms of their program flow, following a simple sequential structure that we can quite easily visualise using a flow chart.\n",
    "\n",
    "However, we have also seen how it is possible to get quite complex *emergent* behaviours from a robot control program when the robot is placed in an environment and it starts to interact with that environment.\n",
    "\n",
    "In this notebook, you will explore how another approach to programming in the form of a simple *rule based system* can produce its own rich behaviours when combined with inputs that are in part provoked by the behaviour of the program itself.\n",
    "\n",
    "Whilst the rule based system has a sequential control flow regulating it's own behaviour, the \"program\" it implements has am emergent feel to it as different independent rules respond to particular inputs and create outputs that other rules can then use as inputs.\n",
    "\n",
    "In many respects, the interacting rules set up a *reasoning system* allow the program not only to act on pieces of information it is provided with, but also create its own further pieces of information and add those to its reasoning process. In such a way, we can start to develop a *sense-think-act* system where the actions are determined by a potentially simple reasoning system but with its own complex emergent behaviour.\n",
    "\n",
    "The detailed mechanics of how a rule based system works is beyond the scope of this module, but we can still see what sort of effect it can have when we interact with a reimplementation of classic rule based system: *Eliza*."
   ]
  },
  {
   "cell_type": "markdown",
   "metadata": {},
   "source": [
    "## 4.1 Eliza\n",
    "\n",
    "Although written fifty or so years ago, Joseph Weizenbaum’s *Eliza* program is often referred to as one of the first great milestones in computational natural-language interaction. [This copy of the original paper](https://github.com/wadetb/eliza/blob/master/p36-weizenabaum.pdf) includes examples of the code used to program the original Eliza engine.\n",
    "\n",
    "Eliza has been reimplemented several times, such as in the *Lisp* programming language by Peter Norvig for his textbook *Paradigms of Artificial Intelligence Programming*, as well as a Python reimplementation of Norvig's code by Daniel Connelly ([Paip-python: Peter Norvig's Paradigms of AI Programming implemented in Python](http://dhconnelly.com/paip-python/)). \n",
    "\n",
    "A version of Connelly’s code, updated to run in the version of Python used in these notebooks, is contained in the file [eliza.py](eliza.py)."
   ]
  },
  {
   "cell_type": "markdown",
   "metadata": {
    "activity": true
   },
   "source": [
    "### 4.2.1 Activity – Chatting to ‘Eliza’\n",
    "\n",
    "Relive the past, perhaps in more ways than one – depending on how your conversation goes! – by chatting to Eliza for two or three minutes.\n",
    "\n",
    "Run the following code cell to import the `eliza` package:"
   ]
  },
  {
   "cell_type": "code",
   "execution_count": null,
   "metadata": {},
   "outputs": [],
   "source": [
    "import eliza"
   ]
  },
  {
   "cell_type": "markdown",
   "metadata": {},
   "source": [
    "Run the following code cell to enter Eliza’s treatment room. Start your conversation with a *Hello*; end the conversation by starting your response with *Goodbye* or force an exit to the program by clicking the *stop* button in the notebook toolbar."
   ]
  },
  {
   "cell_type": "code",
   "execution_count": null,
   "metadata": {
    "activity": true
   },
   "outputs": [],
   "source": [
    "eliza.hello_doctor(aloud=True)"
   ]
  },
  {
   "cell_type": "markdown",
   "metadata": {
    "activity": true
   },
   "source": [
    "If you want to hear Eliza speak the responses aloud to you then start the program by passing in the parameter `aloud=True` in the following way: `eliza.hello_doctor(aloud=True)`."
   ]
  },
  {
   "cell_type": "markdown",
   "metadata": {},
   "source": [
    "### 4.2.2 What makes Eliza tick?\n",
    "\n",
    "If you look at the [rules file](eliza.json), you will see that it contains a series of rules that have the form:\n",
    "\n",
    "```\n",
    "CONDITION: [\n",
    "    POSSIBLE_RESPONSE_1,\n",
    "    POSSIBLE_RESPONSE_2,\n",
    "    ...\n",
    "    ]\n",
    "```\n",
    "\n",
    "or more completely:\n",
    "\n",
    "```\n",
    "\"?*x KEYPHRASE ?*y\": [\n",
    "        \"RESPONSE_1 ?y?\",\n",
    "        \"RESPONSE_2 ?y?\",\n",
    "        ...\n",
    "        ]\n",
    "```\n",
    "\n",
    "For example:\n",
    "\n",
    "```python\n",
    "    \"?*x I want ?*y\": [\n",
    "        \"What would it mean if you got ?y?\",\n",
    "        \"Why do you want ?y?\",\n",
    "        \"Suppose you got ?y soon.\"\n",
    "        ]\n",
    "```\n",
    "\n",
    "The `?*x` and `?*y` elements in the condition part of the rule are pattern-matching operators that capture arbitrary text before and after the provided `KEYPHRASE`. A rule matches a provided input if the `KEYPHRASE` is contained in the text given to Eliza. The pattern-matched content in the text can then be extracted from the input and used in the output response given by Eliza.\n",
    "\n",
    "A rule-matching engine, written in Python, takes the user input, tries to match it with one of the rules and then generates a response. If you are interested in the details, [Connelly provides a commentary](https://dhconnelly.com/paip-python/docs/paip/eliza.html) that explains how his version of the Eliza program works."
   ]
  },
  {
   "cell_type": "markdown",
   "metadata": {
    "activity": true,
    "lines_to_next_cell": 2
   },
   "source": [
    "### 4.2.3 Optional activity — creating your own Eliza rules\n",
    "\n",
    "If you make a copy of the `eliza.json` file, for example, as `dr_me.json` and edit it to contain your own rules, then you can run Eliza using your ruleset by running the command: `eliza.hello_doctor('dr_me.json')`.\n",
    "\n",
    "You can also provide a set of custom default responses that Eliza will select between if no rules match by passing them into the `hello_doctor()` function via the `default=` parameter. For example:\n",
    "\n",
    "```python\n",
    "eliza.hello_doctor('doolittle.json',\n",
    "                   default = [\"Very interesting\",\n",
    "                              \"I am not sure I understand you fully\"]\n",
    "                  )\n",
    "```\n",
    "\n",
    "If you come up with an interesting script, then share it in your Cluster group forum."
   ]
  },
  {
   "cell_type": "markdown",
   "metadata": {},
   "source": [
    "## 4.3 Summary\n",
    "\n",
    "In this notebook, you have seen how a rule-based agent, Eliza, originally created over fifty years ago can still hold a conversation (of sorts!) today. By providing different scripts containing only a few dozen rules, quite wide-ranging conversations are possible if the human conversant adds the detail.\n",
    "\n",
    "In the next notebook, you will be introduced to a far more powerful framework for developing far more elaborate rule based systems: the *Durable Rules Engine*."
   ]
  }
 ],
 "metadata": {
  "interpreter": {
   "hash": "7162b6b5cb18033fe925274d4f20a51bce6fd91bd20b275b3266d6763e9a9306"
  },
  "jupytext": {
   "formats": "ipynb,.md//md"
  },
  "kernelspec": {
   "display_name": "Python 3.7.8 64-bit ('3.7.8': pyenv)",
   "name": "python3"
  },
  "language_info": {
   "name": "python",
   "version": ""
  }
 },
 "nbformat": 4,
 "nbformat_minor": 4
}