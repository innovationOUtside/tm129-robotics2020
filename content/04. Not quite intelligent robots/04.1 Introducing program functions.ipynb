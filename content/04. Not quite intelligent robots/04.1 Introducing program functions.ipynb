{
 "cells": [
  {
   "cell_type": "markdown",
   "metadata": {},
   "source": [
    "# 1. Introduction to functions and robot control strategies\n",
    "\n",
    "Sensors are at the heart of robotics. A machine without sensors cannot be a robot in our terms. The human body is replete with sensors. Our five external senses – sight, hearing, touch, smell and taste – and internal sensing such as balance and proprioception (body awareness) are all marvellously sophisticated.\n",
    "\n",
    "For this week’s practical activities, we will be concerned with various techniques that can be used to allow a robot to use sensory information to control its actuators. We will investigate a progression of control strategies:\n",
    "\n",
    "1. dead reckoning – no sensor input\n",
    "\n",
    "2. reflex behaviour – sensors *linked directly* to motors according to the sense–act model\n",
    "\n",
    "3. deliberative behaviour – actuation depends on *reasoning* about sensor information and other knowledge, according to the sense–think–act model.\n",
    "\n",
    "The first control strategy, dead reckoning, is an ‘open-loop’ control approach, since it does not use sensor input.\n",
    "\n",
    "The second is an example of a ‘sense–act’ control strategy that you encountered earlier in the block; we will illustrate this control strategy using simulated implementations of simple Braitenberg vehicles.\n",
    "\n",
    "Finally, there is the most complex control strategy, in which the robot deliberates on the sensor inputs in the context of other knowledge using an approach we refer to as ‘sense–think–act’. This involves *reasoning* and corresponds more closely to the way humans solve complex problems and plan actions in the long and short term.\n",
    "\n",
    "But before we do that, we’ll have a look in a bit more detail at another powerful idea in computer programming: *functions*. You’ve already met some of these, but without much explanation. So now let’s introduce you to them for real."
   ]
  },
  {
   "cell_type": "markdown",
   "metadata": {},
   "source": [
    "## 1.1 Defining simple Python functions\n",
    "\n",
    "Many of the programs we have used so far have been quite short with little, if any, reused code.\n",
    "\n",
    "As programs get larger, it is often convenient to encapsulate several lines of code within a *function*. Multiple lines of code within a function can then be called conveniently from a single statement whenever they are needed.\n",
    "\n",
    "Functions are very powerful, and if you have studied other programming courses then you may well be familiar with them.\n",
    "\n",
    "For our purposes, the following provides a very quick overview of some of the key behaviours of Python functions. Remember that this isn’t a Python programming module *per se*; rather, it’s a module where we explore how to use Python to get things done. What follows should be enough to get you started writing your own functions, without creating too many bad habits along the way.\n",
    "\n",
    "To see how we can create our own functions, let’s consider a really simple example: a function that just prints out the word *Hello*.\n",
    "\n",
    "The function definition has a very specific syntax:"
   ]
  },
  {
   "cell_type": "code",
   "execution_count": null,
   "metadata": {},
   "outputs": [],
   "source": [
    "def FUNCTION_NAME():\n",
    "    #ONE_OR_MORE_LINES_OF_CODE\n",
    "    pass"
   ]
  },
  {
   "cell_type": "markdown",
   "metadata": {
    "tags": [
     "alert-success"
    ]
   },
   "source": [
    "*A Python function requires at least one line of valid code (which does not include comments) in the function body. If we don't know what lines of code we want just yet, the `pass` command is enough to create a valid program line that doesn't actually have to do anything.*"
   ]
  },
  {
   "cell_type": "markdown",
   "metadata": {},
   "source": [
    "Here are some of the rules relating to the syntactic definition of a Python function:\n",
    "\n",
    "- the `FUNCTION_NAME` __MUST NOT__ contain any spaces or punctuation other than underscore (`_`) characters\n",
    "- the function name __MUST__ be followed by a pair of brackets (`()`), that may contain something (we’ll see what later), followed by a colon (`:`)\n",
    "- the body of the function __MUST__ be indented using space or tab characters; the level of indentation of the first line sets the effective ‘left-hand margin’ for the remaining lines of code in the function\n",
    "- the body of the function must include __AT LEAST__ one valid statement or line of code __EXCLUDING__ comments; if you don’t want the function to do anything, but need it as a placeholder, use `pass` as the single line of required code in the function body.\n",
    "\n",
    "It is good practice to annotate your function with a so-called ‘docstring’ (*documentation string*) providing a concise, imperative description of what the function does."
   ]
  },
  {
   "cell_type": "code",
   "execution_count": null,
   "metadata": {},
   "outputs": [],
   "source": [
    "def FUNCTION_NAME():\n",
    "    \"\"\"\"Docstring containing a concise summary of the function behaviour.\"\"\"\n",
    "    #ONE_OR_MORE_LINES_OF_CODE\n",
    "    pass"
   ]
  },
  {
   "cell_type": "markdown",
   "metadata": {},
   "source": [
    "Run the following code cell to define a simple function that prints the message *Hello*:"
   ]
  },
  {
   "cell_type": "code",
   "execution_count": null,
   "metadata": {},
   "outputs": [],
   "source": [
    "def sayHello():\n",
    "    \"\"\"Print a hello message.\"\"\"\n",
    "    print('Hello')"
   ]
  },
  {
   "cell_type": "markdown",
   "metadata": {},
   "source": [
    "When we *call* the function, the code contained within the function body is executed.\n",
    "\n",
    "Run the following cell to call the function:"
   ]
  },
  {
   "cell_type": "code",
   "execution_count": null,
   "metadata": {},
   "outputs": [],
   "source": [
    "sayHello()"
   ]
  },
  {
   "cell_type": "markdown",
   "metadata": {},
   "source": [
    "Functions can contain multiple lines of code, which means they can provide a convenient way of calling multiple lines of code from a single line of code."
   ]
  },
  {
   "cell_type": "markdown",
   "metadata": {},
   "source": [
    "## 1.2 Passing arguments into functions\n",
    "\n",
    "Functions can also be used to perform actions over one or more *arguments* passed into the function. For example, if you want to say hello to a specific person by name, we can pass their name into the function as an argument, and then use that argument within the body of the function.\n",
    "\n",
    "We’ll use a Python *f-string* as a convenient way of passing the variable value, by reference, into a string:"
   ]
  },
  {
   "cell_type": "code",
   "execution_count": null,
   "metadata": {},
   "outputs": [],
   "source": [
    "def sayHelloName(name):\n",
    "    \"\"\"Print a welcome message.\"\"\"\n",
    "    print(f\"Hello, {name}\")"
   ]
  },
  {
   "cell_type": "markdown",
   "metadata": {},
   "source": [
    "Let’s call that function to see how it behaves:"
   ]
  },
  {
   "cell_type": "code",
   "execution_count": null,
   "metadata": {},
   "outputs": [],
   "source": [
    "sayHelloName(\"Sam\")"
   ]
  },
  {
   "cell_type": "markdown",
   "metadata": {},
   "source": [
    "What happens if we forget to provide a name?"
   ]
  },
  {
   "cell_type": "code",
   "execution_count": null,
   "metadata": {},
   "outputs": [],
   "source": [
    "sayHelloName()"
   ]
  },
  {
   "cell_type": "markdown",
   "metadata": {},
   "source": [
    "Oops... We have defined the argument as a *positional* argument that is REQUIRED if the function is to be called without raising an error.\n",
    "\n",
    "If we want to make the argument optional then we need to provide a *default value*:"
   ]
  },
  {
   "cell_type": "code",
   "execution_count": null,
   "metadata": {},
   "outputs": [],
   "source": [
    "def sayHelloName(name='there'):\n",
    "    \"\"\"Print a message to welcome someone by name.\"\"\"\n",
    "    print(f\"Hello, {name}\")\n",
    "    \n",
    "sayHelloName()"
   ]
  },
  {
   "cell_type": "markdown",
   "metadata": {},
   "source": [
    "If we want to have different behaviours depending on whether a value is passed for the name, then we can set a default such as `None` and then use a conditional statement to determine what to do based on the value that is presented:"
   ]
  },
  {
   "cell_type": "code",
   "execution_count": null,
   "metadata": {},
   "outputs": [],
   "source": [
    "def sayHelloName(name=None):\n",
    "    \"\"\"Print a message to welcome someone optionally by name.\"\"\"\n",
    "    if name:\n",
    "        print(f\"Hello, {name}\")\n",
    "    else:\n",
    "        print(\"Hi there!\")\n",
    "\n",
    "sayHelloName()"
   ]
  },
  {
   "cell_type": "markdown",
   "metadata": {},
   "source": [
    "Sometimes, we may want to get one or more values returned back from a function. We can do that using the `return` statement. The `return` statement essentially does two things when it is called: firstly, it terminates the function’s execution at that point; secondly, it optionally returns a value to the part of the program that called the function."
   ]
  },
  {
   "cell_type": "markdown",
   "metadata": {
    "activity": true
   },
   "source": [
    "### 1.2.1 Activity — Defining a simple function\n",
    "\n",
    "Run the following code cell to define a function that constructs a welcome message, displays the message *and returns it*:"
   ]
  },
  {
   "cell_type": "code",
   "execution_count": null,
   "metadata": {
    "activity": true
   },
   "outputs": [],
   "source": [
    "def sayAndReturnHelloName(name):\n",
    "    \"\"\"Print a welcome message and return it.\"\"\"\n",
    "    message = f\"Hello, {name}\"\n",
    "    print(\"Printing:\", message)\n",
    "    return message"
   ]
  },
  {
   "cell_type": "markdown",
   "metadata": {
    "activity": true
   },
   "source": [
    "What do you think will happen when we call the function?"
   ]
  },
  {
   "cell_type": "markdown",
   "metadata": {
    "student": true
   },
   "source": [
    "*Write your prediction here about what you think will happen when the function is run here __before__ you run the code cell to call it.*"
   ]
  },
  {
   "cell_type": "code",
   "execution_count": null,
   "metadata": {
    "activity": true
   },
   "outputs": [],
   "source": [
    "sayAndReturnHelloName('Sam')"
   ]
  },
  {
   "cell_type": "markdown",
   "metadata": {
    "activity": true
   },
   "source": [
    "Run the above cell to call the function. Did you get the response you expected?"
   ]
  },
  {
   "cell_type": "markdown",
   "metadata": {
    "activity": true,
    "heading_collapsed": true
   },
   "source": [
    "### Discussion\n",
    "\n",
    "*Click on the arrow in the sidebar or run this cell to reveal my observations.*"
   ]
  },
  {
   "cell_type": "markdown",
   "metadata": {
    "activity": true,
    "hidden": true
   },
   "source": [
    "In the first case, a message was *printed* out in the cell’s print area. In the second case, the message was returned as the value returned by the function. As the function appeared on the last line of the code cell, its value was *displayed* as the cell output."
   ]
  },
  {
   "cell_type": "markdown",
   "metadata": {},
   "source": [
    "## 1.3 Setting variables to values returned from a function\n",
    "\n",
    "As you might expect, we can set a variable to the value returned from a function:"
   ]
  },
  {
   "cell_type": "code",
   "execution_count": null,
   "metadata": {
    "lines_to_next_cell": 0
   },
   "outputs": [],
   "source": [
    "message = sayAndReturnHelloName('Sam')"
   ]
  },
  {
   "cell_type": "markdown",
   "metadata": {},
   "source": [
    "<!-- #endregion -->\n",
    "If we view the value of that variable by running the following cell, what do you think you will see? Will the message be printed as well as displayed? "
   ]
  },
  {
   "cell_type": "markdown",
   "metadata": {
    "student": true
   },
   "source": [
    "*Write your prediction about what you think will happen when the function is run here __before__ you run the code cell to call it.*"
   ]
  },
  {
   "cell_type": "code",
   "execution_count": null,
   "metadata": {},
   "outputs": [],
   "source": [
    "message"
   ]
  },
  {
   "cell_type": "markdown",
   "metadata": {},
   "source": [
    "Only the value returned from the function is displayed. The function is not called again, and so there is no instruction to *print* the message.\n",
    "\n",
    "To return multiple values, we still use a single `return` statement:"
   ]
  },
  {
   "cell_type": "code",
   "execution_count": null,
   "metadata": {},
   "outputs": [],
   "source": [
    "def sayAndReturnHelloName(name):\n",
    "    \"\"\"Print a welcome message and return it.\"\"\"\n",
    "    message = f\"Hello, {name}\"\n",
    "    print(\"Printing:\", message)\n",
    "    return (name, message)\n",
    "\n",
    "sayAndReturnHelloName('Sam')"
   ]
  },
  {
   "cell_type": "markdown",
   "metadata": {},
   "source": [
    "Finally, we can have multiple return statements in a function, but only one of them can be called from a single invocation of the function:"
   ]
  },
  {
   "cell_type": "code",
   "execution_count": null,
   "metadata": {},
   "outputs": [],
   "source": [
    "def sayHelloName(name=None):\n",
    "    \"\"\"Print a message to welcome someone optionally by name.\"\"\"\n",
    "    if name:\n",
    "        print(f\"Hello, {name}\")\n",
    "        return (name, message)\n",
    "    else:\n",
    "        print(\"Hi there!\")\n",
    "    return\n",
    "\n",
    "print(sayHelloName(), 'and', sayHelloName(\"Sam\"))"
   ]
  },
  {
   "cell_type": "markdown",
   "metadata": {},
   "source": [
    "Generally, it is *not* good practice to return different sorts of object from different parts of the same function. If you try to assign the values returned from the function to a particular variable, that variable could end up being defined in different ways depending on which part of the function returned the value to it."
   ]
  },
  {
   "cell_type": "markdown",
   "metadata": {
    "tags": [
     "alert-success"
    ]
   },
   "source": [
    "*There is quite a lot more to know about functions, particularly in respect of how variables inside the function relate to variables defined outside the function, a topic referred to as `variable scope`.*\n",
    "\n",
    "*Variables defined within a Python are `scoped` according to where they are defined. Variables are `in scope` at a particular part of a program if they can be seen and referred to at that part of the program.*\n",
    "\n",
    "*In Python, variables defined _outside_ a function can typically be seen and referred to from within the function. Variables can also be passed into a function via the function's arguments. But variables defined _inside_ the function _cannot_ be seen outside the function.*\n",
    "\n",
    "*We will not consider issues of scope any further here, but it is a _very_ powerful concept and one that any comprehensive introduction to programming should cover.*"
   ]
  },
  {
   "cell_type": "markdown",
   "metadata": {},
   "source": [
    "## 1.4 Using functions in robot control programs\n",
    "\n",
    "Let's now consider how we might use our our functions in a robot control program.\n",
    "\n",
    "We’ll start by considering the simple program we explored previously to make the robot trace out a square.\n",
    "\n",
    "If you recall, our first version of this program explicitly coded each turn and edge movement, and then we used a loop to repeat the same action several times.\n",
    "\n",
    "To get things set up correctly, load the simulator into the notebook in the usual way:"
   ]
  },
  {
   "cell_type": "code",
   "execution_count": null,
   "metadata": {
    "lines_to_next_cell": 2
   },
   "outputs": [],
   "source": [
    "from nbev3devsim.load_nbev3devwidget import roboSim, eds\n",
    "\n",
    "%load_ext nbev3devsim\n",
    "%load_ext nbtutor"
   ]
  },
  {
   "cell_type": "markdown",
   "metadata": {},
   "source": [
    "Tweak the constant value settings in the program below until the robot approximately traces out the shape of a square."
   ]
  },
  {
   "cell_type": "code",
   "execution_count": null,
   "metadata": {},
   "outputs": [],
   "source": [
    "%%sim_magic_preloaded -x 200 -y 500 -a 0 -p -C --pencolor red\n",
    "\n",
    "SIDES = 4\n",
    "\n",
    "# Try to draw a square, ish...\n",
    "STEERING = -100\n",
    "TURN_ROTATIONS = 1.6\n",
    "TURN_SPEED = 10\n",
    "\n",
    "STRAIGHT_SPEED_PC = SpeedPercent(40)\n",
    "STRAIGHT_ROTATIONS = 4\n",
    "\n",
    "for side in range(SIDES):\n",
    "    #Go straight\n",
    "    # Set the left and right motors in a forward direction\n",
    "    # and run for the specified number of forward rotations\n",
    "    tank_drive.on_for_rotations(STRAIGHT_SPEED_PC,\n",
    "                                STRAIGHT_SPEED_PC,\n",
    "                                STRAIGHT_ROTATIONS)\n",
    "\n",
    "    #Turn\n",
    "    # Set the robot to turn on the spot\n",
    "    # and run for a certain number of rotations *of the wheels*\n",
    "    tank_turn.on_for_rotations(STEERING,\n",
    "                               SpeedPercent(TURN_SPEED),\n",
    "                               TURN_ROTATIONS)"
   ]
  },
  {
   "cell_type": "markdown",
   "metadata": {},
   "source": [
    "We can extract this code into a function that allows us to draw a square whenever we want. By adding an optional `side_length` parameter we can change the side length as required.\n",
    "\n",
    "Download the following program to the simulator and run it there.\n",
    "\n",
    "Can you modify the program to draw a third square with a size somewhere between the size of the first two squares?"
   ]
  },
  {
   "cell_type": "code",
   "execution_count": null,
   "metadata": {},
   "outputs": [],
   "source": [
    "%%sim_magic_preloaded -p --pencolor green -a 0\n",
    "\n",
    "SIDES = 4\n",
    "\n",
    "# Try to draw a square\n",
    "STEERING = -100\n",
    "TURN_ROTATIONS = 1.6\n",
    "TURN_SPEED = 10\n",
    "\n",
    "STRAIGHT_SPEED_PC = SpeedPercent(40)\n",
    "STRAIGHT_ROTATIONS = 6\n",
    "\n",
    "def draw_square(side=STRAIGHT_ROTATIONS):\n",
    "    \"\"\"Draw square of specified side length.\"\"\"\n",
    "    for side_number in range(SIDES):\n",
    "        #Go straight\n",
    "        # Set the left and right motors in a forward direction\n",
    "        # and run for the number of rotations specified by: side\n",
    "        tank_drive.on_for_rotations(STRAIGHT_SPEED_PC,\n",
    "                                    STRAIGHT_SPEED_PC,\n",
    "                                    #Use provided side length\n",
    "                                    side)\n",
    "\n",
    "        #Turn\n",
    "        # Set the robot to turn on the spot\n",
    "        # and run for a certain number of rotations *of the wheels*\n",
    "        tank_turn.on_for_rotations(STEERING,\n",
    "                                   SpeedPercent(TURN_SPEED),\n",
    "                                   TURN_ROTATIONS)\n",
    "        \n",
    "        \n",
    "# Call the function to draw a small size square\n",
    "draw_square(4)\n",
    "\n",
    "# And an even smaller square\n",
    "draw_square(2)"
   ]
  },
  {
   "cell_type": "markdown",
   "metadata": {
    "activity": true
   },
   "source": [
    "## 1.4.1 Optional activity\n",
    "\n",
    "Copy the code used to define the `draw_square()` function, and modify it so that it takes a second `turn` parameter that replaces the `TURN_ROTATIONS` value.\n",
    "\n",
    "Use the `turn` parameter to tune how far the robot turns at each corner.\n",
    "\n",
    "Then see if you can use a `for...in range(N)` loop to call the square-drawing function several times.\n",
    "\n",
    "Can you further modify the program so that the side length is increased each time the function is called by the loop?\n",
    "\n",
    "*Share your programs in your Cluster group forum.*"
   ]
  },
  {
   "cell_type": "markdown",
   "metadata": {},
   "source": [
    "## 1.5 Previewing the simulated robot state from a notebook code cell\n",
    "\n",
    "As well viewing the sensor state via the simulator user interface, we can also review it in the notebook itself.\n",
    "\n",
    "We can create a reference to an object that uses some magic to grab a snapshot of the state of the robot in the default `roboSim` simulator."
   ]
  },
  {
   "cell_type": "code",
   "execution_count": null,
   "metadata": {},
   "outputs": [],
   "source": [
    "robotState = %sim_robot_state"
   ]
  },
  {
   "cell_type": "markdown",
   "metadata": {},
   "source": [
    "The `%sim_robot_state` needs to be run in a cell, before we can check that captured state in *another* cell.\n",
    "\n",
    "But once it has run, we can use the `robotState` variable to preview the snapshot of the state of the robot.\n",
    "\n",
    "The state data itself returned as a Python dictionary which we can reference into to view specific data values. For example, the `x` coordinate: "
   ]
  },
  {
   "cell_type": "code",
   "execution_count": null,
   "metadata": {},
   "outputs": [],
   "source": [
    "robotState.state[\"x\"]"
   ]
  },
  {
   "cell_type": "markdown",
   "metadata": {},
   "source": [
    "Or how about the `penDown` state?"
   ]
  },
  {
   "cell_type": "code",
   "execution_count": null,
   "metadata": {},
   "outputs": [],
   "source": [
    "robotState.state['penDown']"
   ]
  },
  {
   "cell_type": "markdown",
   "metadata": {},
   "source": [
    "For a full list of possible values, we can review all the *keys* associated with the `robotState.state` dictionary:"
   ]
  },
  {
   "cell_type": "code",
   "execution_count": null,
   "metadata": {},
   "outputs": [],
   "source": [
    "robotState.state.keys()"
   ]
  },
  {
   "cell_type": "markdown",
   "metadata": {},
   "source": [
    "Let's use some magic to change the pen down state and then take another snapshot of the robot's state:"
   ]
  },
  {
   "cell_type": "code",
   "execution_count": null,
   "metadata": {},
   "outputs": [],
   "source": [
    "%sim_magic --pendown\n",
    "robotState = %sim_robot_state"
   ]
  },
  {
   "cell_type": "code",
   "execution_count": null,
   "metadata": {},
   "outputs": [],
   "source": [
    "robotState.state['penDown']"
   ]
  },
  {
   "cell_type": "markdown",
   "metadata": {},
   "source": [
    "## 1.6 Reporting on robot state in the notebook\n",
    "\n",
    "Having grabbed a snapshot of the robot's state into the notebook, we can create a function to write reports in the notebook's own code environment describing the state of the robot.\n",
    "\n",
    "For example, the `robotState.state` dictionary includes the following keys:\n",
    "\n",
    "- `left_light_raw / right_light_raw` for the raw RGB values\n",
    "- `left_light / right_light` for the `reflected_light_intensity` values\n",
    "- `left_light_pc / right_light_pc` for the `reflected_light_intensity_pc` values, and\n",
    "- `left_light_full / right_light_full` for the `full_reflected_light_intensity` values.\n",
    "\n",
    "We can create a simple function to display this values to make it easier for us to probe the state of the robot:"
   ]
  },
  {
   "cell_type": "code",
   "execution_count": null,
   "metadata": {},
   "outputs": [],
   "source": [
    "def report_robot_left_sensor(state):\n",
    "    \"\"\"Print a report of the left light sensor values.\"\"\"\n",
    "    \n",
    "    print(f\"\"\"\n",
    "RGB: {state['left_light_raw']}\n",
    "Reflected light intensity: {state['left_light']}\n",
    "Reflected light intensity per cent: {state['left_light_pc']}\n",
    "Full reflected light intensity (%): {state['left_light_full']}\n",
    "\"\"\")"
   ]
  },
  {
   "cell_type": "markdown",
   "metadata": {},
   "source": [
    "Let's see how it works:"
   ]
  },
  {
   "cell_type": "code",
   "execution_count": null,
   "metadata": {},
   "outputs": [],
   "source": [
    "report_robot_left_sensor(robotState.state)"
   ]
  },
  {
   "cell_type": "markdown",
   "metadata": {},
   "source": [
    "By defining our own robot state sensor value reporting function, we have created a tool that we can use to quickly preview the state of the robot (which exists in the simulator) in the notebook environment.\n",
    "\n",
    "This demonstrates one of the ways in which we can use code: not just as a tool for writing *programs*, such as the code that defines the robot simulator, or as code for controlling our simulated robot *within* the simulator; nor even as an automation script for setting up the simulator using cell magics; but as a tool for building tools we can use in our computing environments."
   ]
  },
  {
   "cell_type": "markdown",
   "metadata": {
    "tags": [
     "alert-warning"
    ]
   },
   "source": [
    "*To simplify access to a variant of this function, `report_light_sensor(state, side)` in future notebooks, we can import it from the preinstalled custom `nn_tools.sensor_data` package and make use of it as follows:*\n",
    "\n",
    "```python\n",
    "from nn_tools.sensor_data import report_light_sensor\n",
    "\n",
    "report_light_sensor(robotState.state, 'left')\n",
    "```"
   ]
  },
  {
   "cell_type": "markdown",
   "metadata": {},
   "source": [
    "## 1.7 Summary\n",
    "\n",
    "You have seen that a Python function is a *named* sequence of commands that can be ‘called’ or invoked from anywhere in the main program or from another function. Functions offer four advantages:\n",
    "\n",
    "- they allow a piece of program functionality to be ‘encapsulated’ in a clear and detached way\n",
    "- they allow the functionality to be used many times from anywhere in the program\n",
    "- they simplify the program, making it easier to understand\n",
    "- they make programs less prone to error.\n",
    "\n",
    "Other programming languages have similar features to functions that offer additional benefits. Depending on the language, or the context in which they are defined, these may be known as *macros*, *methods*, *procedures* or *subroutines*. "
   ]
  }
 ],
 "metadata": {
  "jupytext": {
   "formats": "ipynb,.md//md"
  },
  "kernelspec": {
   "display_name": "Python 3",
   "language": "python",
   "name": "python3"
  },
  "language_info": {
   "codemirror_mode": {
    "name": "ipython",
    "version": 3
   },
   "file_extension": ".py",
   "mimetype": "text/x-python",
   "name": "python",
   "nbconvert_exporter": "python",
   "pygments_lexer": "ipython3",
   "version": "3.8.6"
  }
 },
 "nbformat": 4,
 "nbformat_minor": 4
}
