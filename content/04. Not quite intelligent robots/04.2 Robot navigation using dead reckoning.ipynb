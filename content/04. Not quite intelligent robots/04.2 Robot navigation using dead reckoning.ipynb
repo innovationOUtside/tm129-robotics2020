{
 "cells": [
  {
   "cell_type": "markdown",
   "metadata": {},
   "source": [
    "# 2 Dead reckoning\n",
    "\n",
    "*Dead reckoning* is a means of navigation that does not rely on external observations. Instead, a robot’s position is estimated by summing its incremental movements relative to a known starting point.\n",
    "\n",
    "Estimates of the distance traversed are usually obtained from measuring how many times the wheels have turned, and how many times they have turned in relation to each other. For example, the wheels of the robot could be attached to an odometer, similar to the device that records the mileage of a car.\n",
    "\n",
    "In RoboLab we will calculate the position of a robot from how long it moves in a straight line or rotates about its centre. We will assume that the length of time for which the motors are switched on is directly related to the distance travelled by the wheels."
   ]
  },
  {
   "cell_type": "markdown",
   "metadata": {
    "tags": [
     "alert-success"
    ]
   },
   "source": [
    "*By design, the simulator does not provide the robot with access to any magical GPS-style service. In principle, we could create a magical 'simulated-GPS' sensor that would allow the robot to identify its location from the simulator’s point of view; but in the real world we can’t always guarantee that external location services are available. For example, GPS doesn’t work indoors or underground, or even in many cities where line-of-sight access to four or more GPS satellites is not available.*\n",
    "\n",
    "*Furthermore, the robot cannot magically teleport itself to a new location from within a program. Only the magics can teleport the robot to a specific location...*\n",
    "\n",
    "*Although the simulator is omniscient and does keep track of where the robot is, the robot must figure out for itself where it is based on things like how far the motors have turned, or from its own sensor readings (ultrasound based distance to a target, for example, or gyroscope heading); you will learn how to make use of sensors for navigation in later notebooks.*"
   ]
  },
  {
   "cell_type": "markdown",
   "metadata": {},
   "source": [
    "## 2.1 Activity – Dead reckoning\n",
    "\n",
    "An environment for the simulated robot to navigate is shown below, based on the 2018 First Lego League ‘Into Orbit’ challenge.\n",
    "\n",
    "The idea is that the robot must get to the target satellite from its original starting point by avoiding the obstacles in its direct path.\n",
    "\n",
    "![Space scene showing the robot, some satellites against a ‘space’ bacground, and some wall-like obstacles between the robot’s starting point and a target satellite.](../images/Section_00_02_-_Jupyter_Notebook.png)"
   ]
  },
  {
   "cell_type": "markdown",
   "metadata": {
    "tags": [
     "alert-success"
    ]
   },
   "source": [
    "The [First Lego League (FLL)](https://www.firstlegoleague.org/) is a friendly international youth based robot competition in which teams compete at national and international level on an annual basis. School teams are often coached by volunteers. In the UK, volunteers often coach teams under the auspices of the [STEM Ambassadors Scheme](https://www.stem.org.uk/stem-ambassadors). Many companies run volunteering schemes that allow employees to volunteer their skills in company time using schemes such as STEM Ambassadors."
   ]
  },
  {
   "cell_type": "markdown",
   "metadata": {},
   "source": [
    "Load in the simulator in the usual way:"
   ]
  },
  {
   "cell_type": "code",
   "execution_count": null,
   "metadata": {},
   "outputs": [],
   "source": [
    "from nbev3devsim.load_nbev3devwidget import roboSim, eds\n",
    "\n",
    "%load_ext nbev3devsim"
   ]
  },
  {
   "cell_type": "markdown",
   "metadata": {},
   "source": [
    "To navigate the environment, we will use a small robot configuration within the simulator. The robot configuration can be set via the simulator user interface, or by passing the `-r Small_Robot` parameter setting in the simulator magic.\n",
    "\n",
    "The following program should drive the robot from its starting point to the target, whilst avoiding the obstacles. We define the obstacle as being avoided if it is not crossed by the robot’s *pen down* trail.\n",
    "\n",
    "Load the *FLL_2018_Into_Orbit* background into the simulator. Run the following code cell to download the program to the simulator and then, with the *Pen Down*, run the program in the simulator."
   ]
  },
  {
   "cell_type": "markdown",
   "metadata": {
    "tags": [
     "alert-warning"
    ]
   },
   "source": [
    "Remember, you can use the `-P / --pencolor` flag to change the pen color and the `-C / --clear` option to clear the pen trace."
   ]
  },
  {
   "cell_type": "markdown",
   "metadata": {},
   "source": [
    "Does the robot reach the target satellite without encountering any obstacles?"
   ]
  },
  {
   "cell_type": "code",
   "execution_count": null,
   "metadata": {},
   "outputs": [],
   "source": [
    "%%sim_magic_preloaded -b FLL_2018_Into_Orbit -p -r Small_Robot\n",
    "\n",
    "# Turn on the spot to the right\n",
    "tank_turn.on_for_rotations(100, SpeedPercent(70), 1.7 )\n",
    "\n",
    "# Go forwards\n",
    "tank_drive.on_for_rotations(SpeedPercent(30), SpeedPercent(30), 20)\n",
    "\n",
    "# Slight graceful turn to left\n",
    "tank_drive.on_for_rotations(SpeedPercent(35), SpeedPercent(50), 8.5)\n",
    "\n",
    "# Turn on the spot to the left\n",
    "tank_turn.on_for_rotations(-100, SpeedPercent(75), 0.8)\n",
    "\n",
    "# Forwards a bit\n",
    "tank_drive.on_for_rotations(SpeedPercent(30), SpeedPercent(30), 2.0)\n",
    "\n",
    "#Turn on the spot a bit more to the right\n",
    "tank_turn.on_for_rotations(100, SpeedPercent(60), 0.4 )\n",
    "\n",
    "# Go forwards a bit more and dock on the satellite\n",
    "tank_drive.on_for_rotations(SpeedPercent(30), SpeedPercent(30), 1.0)\n",
    "\n",
    "say(\"Hopefully I have docked with the satellite...\")"
   ]
  },
  {
   "cell_type": "markdown",
   "metadata": {
    "student": true
   },
   "source": [
    "*Add your notes on how well the simulated robot performed the task here.*"
   ]
  },
  {
   "cell_type": "markdown",
   "metadata": {},
   "source": [
    "To set the speeds and times, I used a bit of trial and error.\n",
    "\n",
    "If the route had been much more complex then I would have been tempted to comment out the steps up I had already run and add new steps that would be applied from wherever the robot was currently located.\n",
    "\n",
    "Note that the robot could have taken other routes to get to the satellite – I just thought I should avoid the asteroid!"
   ]
  },
  {
   "cell_type": "markdown",
   "metadata": {},
   "source": [
    "### 2.1.1 Using motor tacho counts to identify how far the robot has travelled\n",
    "\n",
    "In the above example, the motors were turned on for a specific amount of time to move the robot on each leg of its journey. This would not be an appropriate control strategy  if we wanted to collect sensor data along the route, because the `on_for_X()` motor commands are blocking commands.\n",
    "\n",
    "However, suppose we replaced the forward driving `tank_drive.on_for_rotations()` commands with commands of the form:\n",
    "\n",
    "```python\n",
    "from time import sleep\n",
    "\n",
    "tank_drive.on(SPEED)\n",
    "while int(tank_drive.left_motor.position) < DISTANCE:\n",
    "    # We need something that takes a finite time\n",
    "    # to run in the loop or the program will hang\n",
    "    sleep(0.1)\n",
    "```\n",
    "\n",
    "Now we could drive the robot forwards until the motor tacho count exceeds a specified `DISTANCE` and at the same time, optionally include additional commands, such as sensor data logging commands, inside the body of each `while` loop.\n",
    "\n",
    "*As well as `tank_drive.left_motor.position` we can also refer to `tank_drive.right_motor.position`. Also note that these values are returned as strings and need to be cast to integers for numerical comparisons.*"
   ]
  },
  {
   "cell_type": "markdown",
   "metadata": {
    "activity": true
   },
   "source": [
    "### 2.1.2 Activity — Dead reckoning over distances (optional)\n",
    "\n",
    "Use the `.left_motor.position` and/or  `.right_motor.position` motor tacho counts in a program that allows the robot to navigate from its home base to the satellite rendezvous."
   ]
  },
  {
   "cell_type": "markdown",
   "metadata": {
    "student": true
   },
   "source": [
    "*Your design notes here.*"
   ]
  },
  {
   "cell_type": "code",
   "execution_count": null,
   "metadata": {
    "student": true
   },
   "outputs": [],
   "source": [
    "# YOUR CODE HERE"
   ]
  },
  {
   "cell_type": "markdown",
   "metadata": {
    "student": true
   },
   "source": [
    "*Your notes and observations here.*"
   ]
  },
  {
   "cell_type": "markdown",
   "metadata": {
    "activity": true
   },
   "source": [
    "## 2.2 Challenge – Reaching the moon base"
   ]
  },
  {
   "cell_type": "markdown",
   "metadata": {
    "activity": true
   },
   "source": [
    "In the following code cell, write a program to move the simulated robot from its location servicing the satellite to the moon base identified as the circular area marked on the moon in the top right-hand corner of the simulated world.\n",
    "\n",
    "In the simulator, set the robot’s X location to `1250` and Y location `450`.\n",
    "\n",
    "Use the following code cell to write your own dead reckoning program to drive the robot to the moon base at location `(2150, 950)`."
   ]
  },
  {
   "cell_type": "code",
   "execution_count": null,
   "metadata": {
    "activity": true
   },
   "outputs": [],
   "source": [
    "%%sim_magic_preloaded\n",
    "\n",
    "# YOUR CODE HERE\n"
   ]
  },
  {
   "cell_type": "markdown",
   "metadata": {},
   "source": [
    "## 2.3 Dead reckoning with noise\n",
    "\n",
    "The robot traverses its path using timing information for dead reckoning. In principle, if the simulated robot had a map then it could calculate all the distances and directions for itself, convert these to times, and dead reckon its way to the target. However, there is a problem with dead reckoning: *noise*.\n",
    "\n",
    "In many physical systems, a perfect intended behaviour is subject to *noise* – random perturbations that arise within the system as time goes on as a side effect of its operation. In a robot, noise might arise in the behaviour of the motors, the transmission or the wheels. The result is that the robot does not execute its motion without error. We can model noise effects in the mobility system of our robot by adding a small amount of noise to the motor speeds as the simulator runs. This noise component may speed up or slow down the speed of each motor, in a random way. As with real systems, the noise represents slight random deviations from the theoretical, ideal behaviour.\n",
    "\n",
    "For the following experiment, create a new, empty background cleared of pen traces."
   ]
  },
  {
   "cell_type": "code",
   "execution_count": null,
   "metadata": {},
   "outputs": [],
   "source": [
    "%sim_magic -b Empty_Map --clear"
   ]
  },
  {
   "cell_type": "markdown",
   "metadata": {},
   "source": [
    "Run the following code cell to download the program to the simulator using an empty background (select the *Empty_Map*) and the *Pen Down* mode selected. Also reset the initial location of the robot to an X value of `150` and Y value of `400`.\n",
    "\n",
    "Run the program in the simulator and observe what happens."
   ]
  },
  {
   "cell_type": "code",
   "execution_count": null,
   "metadata": {},
   "outputs": [],
   "source": [
    "%%sim_magic_preloaded -b Empty_Map -p -x 150 -y 400 -r Small_Robot --noisecontrols\n",
    "\n",
    "\n",
    "tank_drive.on_for_rotations(SpeedPercent(30),\n",
    "                            SpeedPercent(30), 10)"
   ]
  },
  {
   "cell_type": "markdown",
   "metadata": {
    "student": true
   },
   "source": [
    "*Record your observations here describing what happens when you run the program.*"
   ]
  },
  {
   "cell_type": "markdown",
   "metadata": {},
   "source": [
    "When you run the program, you should see the robot drive forwards a short way in a straight line, leaving a straight line trail behind it.\n",
    "\n",
    "Reset the location of the robot. Within the simulator, use the *Noise controls* to increase the *Wheel noise* value from zero by dragging the slider to the right a little way. Alternatively, add noise in the range `0..500` using the `--motornoise / -M` magic flag. \n",
    "\n",
    "Run the program in the simulator again.\n",
    "\n",
    "You should notice this time that the robot does not travel in a straight line. Instead, it drifts from side to side, although possibly to one side of the line.\n",
    "\n",
    "Move the robot back to the start position, or rerun the previous code cell to do so, and run the program in the simulator again. This time, you should see it follows yet another different path.\n",
    "\n",
    "Depending on how severe the noise setting is, the robot will travel closer (low noise) the original straight line, or follow an ever-more erratic path (high noise)."
   ]
  },
  {
   "cell_type": "markdown",
   "metadata": {
    "student": true
   },
   "source": [
    "*Record your own notes and observations here describing the behaviour of the robot for different levels of motor noise.*"
   ]
  },
  {
   "cell_type": "markdown",
   "metadata": {},
   "source": [
    "Clear the pen traces from the simulator by running the following line magic:"
   ]
  },
  {
   "cell_type": "code",
   "execution_count": null,
   "metadata": {},
   "outputs": [],
   "source": [
    "%sim_magic -C"
   ]
  },
  {
   "cell_type": "markdown",
   "metadata": {},
   "source": [
    "Now run the original satellite-finding dead reckoning program again, using the *FLL_2018_Into_Orbit* background, but in the presence of *Wheel noise*. How well does it perform this time compared to previously?"
   ]
  },
  {
   "cell_type": "code",
   "execution_count": null,
   "metadata": {},
   "outputs": [],
   "source": [
    "%%sim_magic_preloaded -b FLL_2018_Into_Orbit -p -r Small_Robot\n",
    "\n",
    "# Turn on the spot to the right\n",
    "tank_turn.on_for_rotations(100, SpeedPercent(70), 1.7 )\n",
    "\n",
    "# Go forwards\n",
    "tank_drive.on_for_rotations(SpeedPercent(30), SpeedPercent(30), 20)\n",
    "\n",
    "# Slight graceful turn to left\n",
    "tank_drive.on_for_rotations(SpeedPercent(35), SpeedPercent(50), 8.5)\n",
    "\n",
    "# Turn on the spot to the left\n",
    "tank_turn.on_for_rotations(-100, SpeedPercent(75), 0.8)\n",
    "\n",
    "# Forwards a bit\n",
    "tank_drive.on_for_rotations(SpeedPercent(30), SpeedPercent(30), 2.0)\n",
    "\n",
    "#Turn on the spot a bit more to the right\n",
    "tank_turn.on_for_rotations(100, SpeedPercent(60), 0.4 )\n",
    "\n",
    "# Go forwards a bit more and dock on the satellite\n",
    "tank_drive.on_for_rotations(SpeedPercent(30), SpeedPercent(30), 1.0)\n",
    "\n",
    "say(\"Did I avoid crashing and dock with the satellite?\")"
   ]
  },
  {
   "cell_type": "markdown",
   "metadata": {},
   "source": [
    "Reset the robot to its original location and run the program in the simulator again. Even with the same level of motor noise as on the previous run, how does the path followed by the robot this time compare with the previous run?"
   ]
  },
  {
   "cell_type": "markdown",
   "metadata": {
    "student": true
   },
   "source": [
    "*Add your own notes and observations here.*"
   ]
  },
  {
   "cell_type": "markdown",
   "metadata": {},
   "source": [
    "## 2.4 Summary\n",
    "\n",
    "In this notebook you have seen how we can use dead reckoning to move the robot along a specified path. Using the robot's motor speeds and by monitoring how long the motors are switched on for, we can use distance time calculations to estimate out the robot's path. If we add in accurate measurements regarding how far we want the robot to travel, and in what direction, this provides one way of helping the robot to navigate to a particular waypoint.\n",
    "\n",
    "However, in the presence of noise, this approach is likely to be very unreliable: whilst the robot may think it is following one path, as determined by how long it has turned its motors on, and at what speed, it may in fact be following another. In a real robot, the noise may be introduced in all sorts of ways, including from friction in the motor bearings, the time taken to accelerate from a standing start and \"get up to speed, and loss of traction effects such as wheel spin and slip as the robot's wheels turn. \n",
    "\n",
    "Whilst in some cases it may reach the target safely, in others it may end somewhere completely different, or encounter an obstacle along the way."
   ]
  }
 ],
 "metadata": {
  "interpreter": {
   "hash": "7162b6b5cb18033fe925274d4f20a51bce6fd91bd20b275b3266d6763e9a9306"
  },
  "jupytext": {
   "formats": "ipynb,.md//md"
  },
  "kernelspec": {
   "display_name": "Python 3.7.8 64-bit ('3.7.8': pyenv)",
   "name": "python3"
  },
  "language_info": {
   "name": "python",
   "version": ""
  }
 },
 "nbformat": 4,
 "nbformat_minor": 4
}