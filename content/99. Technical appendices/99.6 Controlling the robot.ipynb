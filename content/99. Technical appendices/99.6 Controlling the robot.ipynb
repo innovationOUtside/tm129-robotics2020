{
 "cells": [
  {
   "cell_type": "markdown",
   "metadata": {},
   "source": [
    "# 6. Controlling the robot\n",
    "\n",
    "This notebook provides a quick overview and summary of how to control the robot in the simulator."
   ]
  },
  {
   "cell_type": "markdown",
   "metadata": {},
   "source": [
    "## 6.1 Load the magics\n",
    "\n",
    "To get things started, let's load in the simulator magics. We don't actually need the simulator just yet:"
   ]
  },
  {
   "cell_type": "code",
   "execution_count": 1,
   "metadata": {},
   "outputs": [],
   "source": [
    "%load_ext nbev3devsim"
   ]
  },
  {
   "cell_type": "markdown",
   "metadata": {},
   "source": [
    "## 6.2 Loading boilerplate code\n",
    "\n",
    "The program that is downloaded to the simulator needs to be a well-formed Python program.\n",
    "\n",
    "The packages used to drive the robot and access its sensors is can be preloaded using the `sim_magic_imports` and `sim_magic_preloaded` magics."
   ]
  },
  {
   "cell_type": "markdown",
   "metadata": {},
   "source": [
    "### 6.2.1 `sim_magic_imports`  bolierplate code\n",
    "\n",
    "The `sim_magic_imports` magic preloads several package definitions that are available in your robot program code:"
   ]
  },
  {
   "cell_type": "code",
   "execution_count": null,
   "metadata": {},
   "outputs": [],
   "source": [
    "%sim_magic_imports --preview"
   ]
  },
  {
   "cell_type": "markdown",
   "metadata": {},
   "source": [
    "### 6.2.2  `sim_magic_preloaded` boilerplate code\n",
    "\n",
    "The `sim_magic_preloaded` magic preloads several package definitions as well as several useful Python objects that are available in your robot program code:"
   ]
  },
  {
   "cell_type": "code",
   "execution_count": null,
   "metadata": {},
   "outputs": [],
   "source": [
    "%sim_magic_preloaded --preview"
   ]
  },
  {
   "cell_type": "markdown",
   "metadata": {},
   "source": [
    "### 6.2.3 Previewing downloaded code\n",
    "\n",
    "You can preview the code downloaded to the simulator by using the `--preview` flag in the *block* magic.\n",
    "\n",
    "As we're downloading code to the simulator, we need to ensure the simulator is loaded:"
   ]
  },
  {
   "cell_type": "code",
   "execution_count": 2,
   "metadata": {},
   "outputs": [
    {
     "data": {
      "text/html": [
       "<style>#notebook-container { width:50%; float:left !important;}</style>"
      ],
      "text/plain": [
       "<IPython.core.display.HTML object>"
      ]
     },
     "metadata": {},
     "output_type": "display_data"
    },
    {
     "data": {
      "application/javascript": [
       "\n",
       "$(function() {\n",
       "    $(\"#notebook-container\").resizable({\n",
       "        handles: 'e',\n",
       "        //containment: '#container',\n",
       "\n",
       "    });     \n",
       "});  \n"
      ],
      "text/plain": [
       "<IPython.core.display.Javascript object>"
      ]
     },
     "metadata": {},
     "output_type": "display_data"
    },
    {
     "data": {
      "application/vnd.jupyter.widget-view+json": {
       "model_id": "5692d525a54746248c40e4c7b069aa07",
       "version_major": 2,
       "version_minor": 0
      },
      "text/plain": [
       "Ev3DevWidget(status='deferring flush until render')"
      ]
     },
     "metadata": {},
     "output_type": "display_data"
    }
   ],
   "source": [
    "from nbev3devsim.load_nbev3devwidget import roboSim, eds"
   ]
  },
  {
   "cell_type": "markdown",
   "metadata": {},
   "source": [
    "Let's download a simple program and preview all the code that's actually downloaded:"
   ]
  },
  {
   "cell_type": "code",
   "execution_count": null,
   "metadata": {},
   "outputs": [],
   "source": [
    "%%sim_magic_preloaded --preview\n",
    "\n",
    "print(\"hello world\")"
   ]
  },
  {
   "cell_type": "markdown",
   "metadata": {},
   "source": [
    "### 6.2.4 Previewing currently downloaded code in the simulator\n",
    "\n",
    "You can preview the code currently downloaded to the simulator via the *Code display* panel in the simulator."
   ]
  },
  {
   "cell_type": "code",
   "execution_count": null,
   "metadata": {},
   "outputs": [],
   "source": [
    "%sim_magic -HW --code"
   ]
  },
  {
   "cell_type": "markdown",
   "metadata": {},
   "source": [
    "### 6.2.5 Debugging broken simulator programs\n",
    "\n",
    "If a downloaded program throws an error when it runs, you should hear a buzz sound and an error message will be displayed in the output window\n",
    "\n",
    "The error message will be a standard Python error message, and maybe a stack trace, often with a line number where the error -ish occurs.\n",
    "\n",
    "Running the following code cell will display the output and downloaded code panels in the simulator to help you try to spot where in the program the error occurred."
   ]
  },
  {
   "cell_type": "code",
   "execution_count": null,
   "metadata": {},
   "outputs": [],
   "source": [
    "%sim_magic --output --code"
   ]
  },
  {
   "cell_type": "markdown",
   "metadata": {},
   "source": [
    "Note that the downloaded program code is limited to core Python 2.x syntax code and functions provided by the `ev3dev2` package, as parsed by the Skulpt.js parser used by the simulator.\n",
    "\n",
    "You cannot run line magics inside the simulator."
   ]
  },
  {
   "cell_type": "markdown",
   "metadata": {},
   "source": [
    "## 6.3 Teleporting the robot\n",
    "\n",
    "You can teleport the robot to particular locations within the simulator using the line and block magics.\n",
    "\n",
    "Note that there is no GPS inside the simulator and the robot cannot introspect about it's location in the world: that would make it to easy to navigate!\n",
    "\n",
    "The following program can be used to illustrate the teleporting behaviour showing how the magics can move the robot around the world:"
   ]
  },
  {
   "cell_type": "code",
   "execution_count": null,
   "metadata": {},
   "outputs": [],
   "source": [
    "%%sim_magic_preloaded -b Rainbow_bands\n",
    "colorLeft = ColorSensor(INPUT_2)\n",
    "say('I see'+colorLeft.color_name)"
   ]
  },
  {
   "cell_type": "markdown",
   "metadata": {},
   "source": [
    "Now run the following code cell to move the robot around the world via teleporting magics:"
   ]
  },
  {
   "cell_type": "code",
   "execution_count": null,
   "metadata": {},
   "outputs": [],
   "source": [
    "import time\n",
    "\n",
    "%sim_magic -RHA -x 100 -y 500 -a 0\n",
    "\n",
    "time.sleep(2)\n",
    "\n",
    "%sim_magic -RHA -p -x 250 -y 700 -a 90\n",
    "\n",
    "time.sleep(2)\n",
    "\n",
    "%sim_magic -RHA -p -x 450 -y 800 -a -90"
   ]
  },
  {
   "cell_type": "markdown",
   "metadata": {},
   "source": [
    "## 6.4 Moving the simulated robot\n",
    "\n",
    "The simulated robot implements a simple two-wheel differential drive robot.\n",
    "\n",
    "The motors can be individually controlled or controlled via two different motor group commands:\n",
    "\n",
    "- `tank_drive = MoveTank(OUTPUT_B, OUTPUT_C)` [[official docs](https://python-ev3dev.readthedocs.io/en/ev3dev-stretch/motors.html#move-tank)]\n",
    "- `tank_turn = MoveSteering(OUTPUT_B, OUTPUT_C)` [[official docs](https://python-ev3dev.readthedocs.io/en/ev3dev-stretch/motors.html#move-steering)]\n"
   ]
  },
  {
   "cell_type": "markdown",
   "metadata": {},
   "source": [
    "### 6.4.1 Using the `MoveTank` / `tank_drive` group\n",
    "\n",
    "The `MoveTank` / `tank_drive` group lets you control the speed of each motor independently, with the motor speeds provided as a pair of values.\n",
    "\n",
    "A simple on command takes two arguments: `.on(left_speed, right_speed)`.\n",
    "\n",
    "In an `on_for_X()` command, a third value is set appropriate to `X`."
   ]
  },
  {
   "cell_type": "code",
   "execution_count": null,
   "metadata": {},
   "outputs": [],
   "source": [
    "%%sim_magic_preloaded -RH -x 150 -y 500 -a 0\n",
    "\n",
    "# Drive forwards in a straight line\n",
    "# for a specified period\n",
    "\n",
    "tank_drive.on_for_seconds(SpeedPercent(20),\n",
    "                          SpeedPercent(20),\n",
    "                          4)"
   ]
  },
  {
   "cell_type": "markdown",
   "metadata": {},
   "source": [
    "### 6.4.2 Using the `MoveSteering` / `tank_turn` group\n",
    "\n",
    "The `MoveSteering` / `tank_turn` group lets you set the speed of both motors with a single value, but with the motors turning in opposite directions.\n",
    "\n",
    "A simple `on` command takes two arguments: `.on(steering, speed)`.\n",
    "\n",
    "- the `steering` argument is a value in the range `-100..100`, with the value mapping onto the `(LEFT_MOTOR_SPEED, RIGHT_MOTOR_SPEED) = (SpeedPercent(STEERING), SpeedPercent(-STEERING))`. So `-100` is full power reverse to left motor and full power forward to right motor, which is to say, a counter-clockwise turn on the spot, if the speed is positive.\n",
    "- the `speed` argument is given as a `SpeedPercent(VALUE)` quantity\n",
    "\n",
    "In an `on_for_X()` command, a third value is set appropriate to `X`."
   ]
  },
  {
   "cell_type": "code",
   "execution_count": null,
   "metadata": {},
   "outputs": [],
   "source": [
    "%%sim_magic_preloaded -RH\n",
    "\n",
    "# Turn on the spot one way\n",
    "tank_turn.on_for_seconds(-100, SpeedPercent(20), 5)\n",
    "\n",
    "# ...and the other\n",
    "tank_turn.on_for_seconds(-100, SpeedPercent(-20), 5)"
   ]
  }
 ],
 "metadata": {
  "kernelspec": {
   "display_name": "Python 3",
   "language": "python",
   "name": "python3"
  },
  "language_info": {
   "codemirror_mode": {
    "name": "ipython",
    "version": 3
   },
   "file_extension": ".py",
   "mimetype": "text/x-python",
   "name": "python",
   "nbconvert_exporter": "python",
   "pygments_lexer": "ipython3",
   "version": "3.8.6"
  },
  "toc": {
   "base_numbering": 1,
   "nav_menu": {},
   "number_sections": false,
   "sideBar": false,
   "skip_h1_title": false,
   "title_cell": "Table of Contents",
   "title_sidebar": "Contents",
   "toc_cell": false,
   "toc_position": {},
   "toc_section_display": true,
   "toc_window_display": false
  }
 },
 "nbformat": 4,
 "nbformat_minor": 4
}
